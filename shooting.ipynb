{
 "cells": [
  {
   "cell_type": "code",
   "execution_count": 284,
   "id": "fbd7f829",
   "metadata": {},
   "outputs": [
    {
     "data": {
      "text/plain": [
       "Index(['incident_id', 'incident_date', 'incident_time', 'updated_date',\n",
       "       'State', 'city_or_county', 'address', 'business_location_name',\n",
       "       'latitude', 'longitude', 'killed', 'injured', 'victims_killed',\n",
       "       'victims_injured', 'suspects_killed', 'suspects_injured',\n",
       "       'suspects_arrested', 'incident_characteristics', 'sources',\n",
       "       'date_fixed', 'year'],\n",
       "      dtype='object')"
      ]
     },
     "execution_count": 284,
     "metadata": {},
     "output_type": "execute_result"
    }
   ],
   "source": [
    "import pandas as pd\n",
    "import requests\n",
    "\n",
    "import geopandas as gpd\n",
    "import matplotlib.pyplot as plt\n",
    "import scipy.stats as stats\n",
    "import seaborn as sns\n",
    "from scipy.stats import stats\n",
    "from scipy.stats import pearsonr\n",
    "from scipy import stats\n",
    "\n",
    "df = pd.read_csv(r\"C:\\Users\\claud\\OneDrive\\Escritorio\\Ironhack\\Labs\\week 3\\Usa-Shootings-and-State-Parties\\gva_mass_shootings-2025-10-21.csv\")\n",
    "df.rename(columns={\"state\":\"State\"},inplace=True)\n",
    "\n",
    "df.columns"
   ]
  },
  {
   "cell_type": "code",
   "execution_count": 264,
   "id": "cb036cc8",
   "metadata": {},
   "outputs": [
    {
     "name": "stdout",
     "output_type": "stream",
     "text": [
      "Fetching 2014...\n",
      "Fetching 2015...\n",
      "Fetching 2016...\n",
      "Fetching 2017...\n",
      "Fetching 2018...\n",
      "Fetching 2019...\n",
      "Fetching 2020...\n",
      "⚠️ 2020: HTTP 404 – skipping year\n",
      "Fetching 2021...\n",
      "Fetching 2022...\n",
      "Fetching 2023...\n",
      "Fetching 2024...\n"
     ]
    },
    {
     "data": {
      "text/html": [
       "<div>\n",
       "<style scoped>\n",
       "    .dataframe tbody tr th:only-of-type {\n",
       "        vertical-align: middle;\n",
       "    }\n",
       "\n",
       "    .dataframe tbody tr th {\n",
       "        vertical-align: top;\n",
       "    }\n",
       "\n",
       "    .dataframe thead th {\n",
       "        text-align: right;\n",
       "    }\n",
       "</style>\n",
       "<table border=\"1\" class=\"dataframe\">\n",
       "  <thead>\n",
       "    <tr style=\"text-align: right;\">\n",
       "      <th></th>\n",
       "      <th>year</th>\n",
       "      <th>State</th>\n",
       "      <th>Population_25plus</th>\n",
       "      <th>Without Min Studies</th>\n",
       "      <th>High_School_Graduate</th>\n",
       "      <th>Bachelor_Degree</th>\n",
       "      <th>Master_Degree</th>\n",
       "      <th>Doctorate_Degree</th>\n",
       "    </tr>\n",
       "  </thead>\n",
       "  <tbody>\n",
       "    <tr>\n",
       "      <th>0</th>\n",
       "      <td>2014</td>\n",
       "      <td>Alabama</td>\n",
       "      <td>3256766</td>\n",
       "      <td>48873</td>\n",
       "      <td>847523</td>\n",
       "      <td>478058</td>\n",
       "      <td>201391</td>\n",
       "      <td>33082</td>\n",
       "    </tr>\n",
       "    <tr>\n",
       "      <th>1</th>\n",
       "      <td>2014</td>\n",
       "      <td>Alaska</td>\n",
       "      <td>465149</td>\n",
       "      <td>4144</td>\n",
       "      <td>108523</td>\n",
       "      <td>85634</td>\n",
       "      <td>33103</td>\n",
       "      <td>4304</td>\n",
       "    </tr>\n",
       "    <tr>\n",
       "      <th>2</th>\n",
       "      <td>2014</td>\n",
       "      <td>Arizona</td>\n",
       "      <td>4436226</td>\n",
       "      <td>77042</td>\n",
       "      <td>899108</td>\n",
       "      <td>765784</td>\n",
       "      <td>328400</td>\n",
       "      <td>53578</td>\n",
       "    </tr>\n",
       "    <tr>\n",
       "      <th>3</th>\n",
       "      <td>2014</td>\n",
       "      <td>Arkansas</td>\n",
       "      <td>1968414</td>\n",
       "      <td>25814</td>\n",
       "      <td>568437</td>\n",
       "      <td>272411</td>\n",
       "      <td>104636</td>\n",
       "      <td>19380</td>\n",
       "    </tr>\n",
       "    <tr>\n",
       "      <th>4</th>\n",
       "      <td>2014</td>\n",
       "      <td>California</td>\n",
       "      <td>25654292</td>\n",
       "      <td>814956</td>\n",
       "      <td>4768478</td>\n",
       "      <td>5120162</td>\n",
       "      <td>2035257</td>\n",
       "      <td>394265</td>\n",
       "    </tr>\n",
       "    <tr>\n",
       "      <th>...</th>\n",
       "      <td>...</td>\n",
       "      <td>...</td>\n",
       "      <td>...</td>\n",
       "      <td>...</td>\n",
       "      <td>...</td>\n",
       "      <td>...</td>\n",
       "      <td>...</td>\n",
       "      <td>...</td>\n",
       "    </tr>\n",
       "    <tr>\n",
       "      <th>515</th>\n",
       "      <td>2024</td>\n",
       "      <td>Washington</td>\n",
       "      <td>5631460</td>\n",
       "      <td>105363</td>\n",
       "      <td>975478</td>\n",
       "      <td>1372926</td>\n",
       "      <td>683345</td>\n",
       "      <td>113323</td>\n",
       "    </tr>\n",
       "    <tr>\n",
       "      <th>516</th>\n",
       "      <td>2024</td>\n",
       "      <td>West Virginia</td>\n",
       "      <td>1268689</td>\n",
       "      <td>14987</td>\n",
       "      <td>420214</td>\n",
       "      <td>187714</td>\n",
       "      <td>88027</td>\n",
       "      <td>13183</td>\n",
       "    </tr>\n",
       "    <tr>\n",
       "      <th>517</th>\n",
       "      <td>2024</td>\n",
       "      <td>Wisconsin</td>\n",
       "      <td>4172638</td>\n",
       "      <td>48054</td>\n",
       "      <td>1057997</td>\n",
       "      <td>943201</td>\n",
       "      <td>362471</td>\n",
       "      <td>61628</td>\n",
       "    </tr>\n",
       "    <tr>\n",
       "      <th>518</th>\n",
       "      <td>2024</td>\n",
       "      <td>Wyoming</td>\n",
       "      <td>409344</td>\n",
       "      <td>4684</td>\n",
       "      <td>90634</td>\n",
       "      <td>82918</td>\n",
       "      <td>35122</td>\n",
       "      <td>8475</td>\n",
       "    </tr>\n",
       "    <tr>\n",
       "      <th>519</th>\n",
       "      <td>2024</td>\n",
       "      <td>Puerto Rico</td>\n",
       "      <td>2428065</td>\n",
       "      <td>65652</td>\n",
       "      <td>622833</td>\n",
       "      <td>506436</td>\n",
       "      <td>151031</td>\n",
       "      <td>32445</td>\n",
       "    </tr>\n",
       "  </tbody>\n",
       "</table>\n",
       "<p>520 rows × 8 columns</p>\n",
       "</div>"
      ],
      "text/plain": [
       "     year          State  Population_25plus  Without Min Studies  \\\n",
       "0    2014        Alabama            3256766                48873   \n",
       "1    2014         Alaska             465149                 4144   \n",
       "2    2014        Arizona            4436226                77042   \n",
       "3    2014       Arkansas            1968414                25814   \n",
       "4    2014     California           25654292               814956   \n",
       "..    ...            ...                ...                  ...   \n",
       "515  2024     Washington            5631460               105363   \n",
       "516  2024  West Virginia            1268689                14987   \n",
       "517  2024      Wisconsin            4172638                48054   \n",
       "518  2024        Wyoming             409344                 4684   \n",
       "519  2024    Puerto Rico            2428065                65652   \n",
       "\n",
       "     High_School_Graduate  Bachelor_Degree  Master_Degree  Doctorate_Degree  \n",
       "0                  847523           478058         201391             33082  \n",
       "1                  108523            85634          33103              4304  \n",
       "2                  899108           765784         328400             53578  \n",
       "3                  568437           272411         104636             19380  \n",
       "4                 4768478          5120162        2035257            394265  \n",
       "..                    ...              ...            ...               ...  \n",
       "515                975478          1372926         683345            113323  \n",
       "516                420214           187714          88027             13183  \n",
       "517               1057997           943201         362471             61628  \n",
       "518                 90634            82918          35122              8475  \n",
       "519                622833           506436         151031             32445  \n",
       "\n",
       "[520 rows x 8 columns]"
      ]
     },
     "execution_count": 264,
     "metadata": {},
     "output_type": "execute_result"
    }
   ],
   "source": [
    "years=list(range(2014,2025))\n",
    "def get_edu(year):\n",
    "    url_edu = f\"https://api.census.gov/data/{year}/acs/acs1\"\n",
    "    params = {\n",
    "        \"get\": \"NAME,B15003_001E,B15003_002E,B15003_003E,B15003_004E,B15003_005E,\"\n",
    "        \"B15003_006E,B15003_017E,B15003_022E,B15003_023E,B15003_025E\",\n",
    "        \"for\": \"state:*\"}\n",
    "    response_1 = requests.get(url_edu, params=params)\n",
    "    if response_1.status_code != 200:\n",
    "        print(f\"⚠️ {year}: HTTP {response_1.status_code} – skipping year\")\n",
    "        return pd.DataFrame()\n",
    "    if not response_1.text.strip().startswith('[['):\n",
    "        print(f\"⚠️ {year}: invalid or empty response – skipping year\")\n",
    "        return pd.DataFrame()\n",
    "\n",
    "    try:\n",
    "        data = response_1.json()\n",
    "    except Exception:\n",
    "        print(f\"⚠️ {year}: cannot decode JSON – skipping year\")\n",
    "        return pd.DataFrame()\n",
    "\n",
    "    data = response_1.json()\n",
    "    df_edu = pd.DataFrame(data[1:], columns=data[0])\n",
    "    num_col=[column for column in df_edu.columns if column.startswith(\"B15003_\")]\n",
    "    df_edu[num_col] = df_edu[num_col].apply(pd.to_numeric, errors=\"coerce\")\n",
    "\n",
    "    df_edu = df_edu.rename(columns={\n",
    "        \"NAME\": \"State\",\n",
    "        \"B15003_001E\": \"Population_25plus\",\n",
    "        \"B15003_002E\": \"No_Schooling_Completed\",\n",
    "        \"B15003_003E\": \"Nursery_to_4th_Grade\",\n",
    "        \"B15003_004E\": \"5th_to_6th_Grade\",\n",
    "        \"B15003_005E\": \"7th_to_8th_Grade\",\n",
    "        \"B15003_006E\": \"9th_Grade\",\n",
    "        \"B15003_017E\": \"High_School_Graduate\",\n",
    "        \"B15003_022E\": \"Bachelor_Degree\",\n",
    "        \"B15003_023E\": \"Master_Degree\",\n",
    "        \"B15003_025E\": \"Doctorate_Degree\",\"state\": \"State_Code\"})\n",
    "\n",
    "    col_min_studies=[\"No_Schooling_Completed\",\n",
    "        \"Nursery_to_4th_Grade\",\n",
    "        \"5th_to_6th_Grade\",\n",
    "        \"7th_to_8th_Grade\",\n",
    "        \"9th_Grade\"]\n",
    "\n",
    "    df_edu[\"Without Min Studies\"] = df_edu[col_min_studies].sum(axis=1)\n",
    "\n",
    "    df_edu.drop(columns=[\"No_Schooling_Completed\",\n",
    "     \"Nursery_to_4th_Grade\",\n",
    "     \"5th_to_6th_Grade\",\n",
    "     \"7th_to_8th_Grade\",\n",
    "     \"9th_Grade\",\"State_Code\"], inplace=True)\n",
    "   \n",
    "    df_edu[\"year\"]=year\n",
    "   \n",
    "    df_edu = df_edu[[\n",
    "        \"year\", \"State\", \"Population_25plus\",\n",
    "        \"Without Min Studies\", \"High_School_Graduate\",\n",
    "        \"Bachelor_Degree\", \"Master_Degree\", \"Doctorate_Degree\"\n",
    "    ]]\n",
    "    return df_edu\n",
    "frame=[]\n",
    "for year in years:\n",
    "    print(f\"Fetching {year}...\")\n",
    "    df_year = get_edu(year)\n",
    "    if not df_year.empty:\n",
    "        frame.append(df_year)\n",
    "df_edu = pd.concat(frame, ignore_index=True)\n",
    "df_edu\n",
    "\n"
   ]
  },
  {
   "cell_type": "code",
   "execution_count": 265,
   "id": "3cd2437f",
   "metadata": {},
   "outputs": [],
   "source": [
    "def total_pop(year):\n",
    "    url = f\"https://api.census.gov/data/{year}/acs/acs1\"\n",
    "    params = {\"get\": \"NAME,B01003_001E\", \"for\": \"state:*\"}\n",
    "    r = requests.get(url, params=params)\n",
    "    if r.status_code != 200:\n",
    "        return pd.DataFrame()\n",
    "    if not r.text.strip().startswith(\"[[\"):\n",
    "        return pd.DataFrame()\n",
    "    data= r.json()\n",
    "    df_pop=pd.DataFrame(data[1:],columns=data[0])\n",
    "    df_pop.rename(columns={\n",
    "        \"NAME\": \"State\",\n",
    "        \"state\": \"State_Code\",\n",
    "        \"B01003_001E\": \"Total_Population\"},inplace=True)\n",
    "    df_pop[\"year\"]= year\n",
    "    df_pop[\"Total_Population\"] = pd.to_numeric(df_pop[\"Total_Population\"],errors=\"coerce\")\n",
    "    return df_pop[[\"year\",\"State\",\"State_Code\",\"Total_Population\"]]\n"
   ]
  },
  {
   "cell_type": "code",
   "execution_count": 266,
   "id": "706951d0",
   "metadata": {},
   "outputs": [
    {
     "name": "stdout",
     "output_type": "stream",
     "text": [
      "⚠️ 2020: HTTP 404 – skipping year\n"
     ]
    },
    {
     "data": {
      "text/html": [
       "<div>\n",
       "<style scoped>\n",
       "    .dataframe tbody tr th:only-of-type {\n",
       "        vertical-align: middle;\n",
       "    }\n",
       "\n",
       "    .dataframe tbody tr th {\n",
       "        vertical-align: top;\n",
       "    }\n",
       "\n",
       "    .dataframe thead th {\n",
       "        text-align: right;\n",
       "    }\n",
       "</style>\n",
       "<table border=\"1\" class=\"dataframe\">\n",
       "  <thead>\n",
       "    <tr style=\"text-align: right;\">\n",
       "      <th></th>\n",
       "      <th>year</th>\n",
       "      <th>State</th>\n",
       "      <th>Population_25plus</th>\n",
       "      <th>Without Min Studies</th>\n",
       "      <th>High_School_Graduate</th>\n",
       "      <th>Bachelor_Degree</th>\n",
       "      <th>Master_Degree</th>\n",
       "      <th>Doctorate_Degree</th>\n",
       "      <th>Total_Population</th>\n",
       "    </tr>\n",
       "  </thead>\n",
       "  <tbody>\n",
       "    <tr>\n",
       "      <th>0</th>\n",
       "      <td>2014</td>\n",
       "      <td>Alabama</td>\n",
       "      <td>3256766</td>\n",
       "      <td>48873</td>\n",
       "      <td>847523</td>\n",
       "      <td>478058</td>\n",
       "      <td>201391</td>\n",
       "      <td>33082</td>\n",
       "      <td>4849377</td>\n",
       "    </tr>\n",
       "    <tr>\n",
       "      <th>1</th>\n",
       "      <td>2014</td>\n",
       "      <td>Alaska</td>\n",
       "      <td>465149</td>\n",
       "      <td>4144</td>\n",
       "      <td>108523</td>\n",
       "      <td>85634</td>\n",
       "      <td>33103</td>\n",
       "      <td>4304</td>\n",
       "      <td>736732</td>\n",
       "    </tr>\n",
       "    <tr>\n",
       "      <th>2</th>\n",
       "      <td>2014</td>\n",
       "      <td>Arizona</td>\n",
       "      <td>4436226</td>\n",
       "      <td>77042</td>\n",
       "      <td>899108</td>\n",
       "      <td>765784</td>\n",
       "      <td>328400</td>\n",
       "      <td>53578</td>\n",
       "      <td>6731484</td>\n",
       "    </tr>\n",
       "    <tr>\n",
       "      <th>3</th>\n",
       "      <td>2014</td>\n",
       "      <td>Arkansas</td>\n",
       "      <td>1968414</td>\n",
       "      <td>25814</td>\n",
       "      <td>568437</td>\n",
       "      <td>272411</td>\n",
       "      <td>104636</td>\n",
       "      <td>19380</td>\n",
       "      <td>2966369</td>\n",
       "    </tr>\n",
       "    <tr>\n",
       "      <th>4</th>\n",
       "      <td>2014</td>\n",
       "      <td>California</td>\n",
       "      <td>25654292</td>\n",
       "      <td>814956</td>\n",
       "      <td>4768478</td>\n",
       "      <td>5120162</td>\n",
       "      <td>2035257</td>\n",
       "      <td>394265</td>\n",
       "      <td>38802500</td>\n",
       "    </tr>\n",
       "    <tr>\n",
       "      <th>...</th>\n",
       "      <td>...</td>\n",
       "      <td>...</td>\n",
       "      <td>...</td>\n",
       "      <td>...</td>\n",
       "      <td>...</td>\n",
       "      <td>...</td>\n",
       "      <td>...</td>\n",
       "      <td>...</td>\n",
       "      <td>...</td>\n",
       "    </tr>\n",
       "    <tr>\n",
       "      <th>515</th>\n",
       "      <td>2024</td>\n",
       "      <td>Washington</td>\n",
       "      <td>5631460</td>\n",
       "      <td>105363</td>\n",
       "      <td>975478</td>\n",
       "      <td>1372926</td>\n",
       "      <td>683345</td>\n",
       "      <td>113323</td>\n",
       "      <td>7958180</td>\n",
       "    </tr>\n",
       "    <tr>\n",
       "      <th>516</th>\n",
       "      <td>2024</td>\n",
       "      <td>West Virginia</td>\n",
       "      <td>1268689</td>\n",
       "      <td>14987</td>\n",
       "      <td>420214</td>\n",
       "      <td>187714</td>\n",
       "      <td>88027</td>\n",
       "      <td>13183</td>\n",
       "      <td>1769979</td>\n",
       "    </tr>\n",
       "    <tr>\n",
       "      <th>517</th>\n",
       "      <td>2024</td>\n",
       "      <td>Wisconsin</td>\n",
       "      <td>4172638</td>\n",
       "      <td>48054</td>\n",
       "      <td>1057997</td>\n",
       "      <td>943201</td>\n",
       "      <td>362471</td>\n",
       "      <td>61628</td>\n",
       "      <td>5960975</td>\n",
       "    </tr>\n",
       "    <tr>\n",
       "      <th>518</th>\n",
       "      <td>2024</td>\n",
       "      <td>Wyoming</td>\n",
       "      <td>409344</td>\n",
       "      <td>4684</td>\n",
       "      <td>90634</td>\n",
       "      <td>82918</td>\n",
       "      <td>35122</td>\n",
       "      <td>8475</td>\n",
       "      <td>587618</td>\n",
       "    </tr>\n",
       "    <tr>\n",
       "      <th>519</th>\n",
       "      <td>2024</td>\n",
       "      <td>Puerto Rico</td>\n",
       "      <td>2428065</td>\n",
       "      <td>65652</td>\n",
       "      <td>622833</td>\n",
       "      <td>506436</td>\n",
       "      <td>151031</td>\n",
       "      <td>32445</td>\n",
       "      <td>3203295</td>\n",
       "    </tr>\n",
       "  </tbody>\n",
       "</table>\n",
       "<p>520 rows × 9 columns</p>\n",
       "</div>"
      ],
      "text/plain": [
       "     year          State  Population_25plus  Without Min Studies  \\\n",
       "0    2014        Alabama            3256766                48873   \n",
       "1    2014         Alaska             465149                 4144   \n",
       "2    2014        Arizona            4436226                77042   \n",
       "3    2014       Arkansas            1968414                25814   \n",
       "4    2014     California           25654292               814956   \n",
       "..    ...            ...                ...                  ...   \n",
       "515  2024     Washington            5631460               105363   \n",
       "516  2024  West Virginia            1268689                14987   \n",
       "517  2024      Wisconsin            4172638                48054   \n",
       "518  2024        Wyoming             409344                 4684   \n",
       "519  2024    Puerto Rico            2428065                65652   \n",
       "\n",
       "     High_School_Graduate  Bachelor_Degree  Master_Degree  Doctorate_Degree  \\\n",
       "0                  847523           478058         201391             33082   \n",
       "1                  108523            85634          33103              4304   \n",
       "2                  899108           765784         328400             53578   \n",
       "3                  568437           272411         104636             19380   \n",
       "4                 4768478          5120162        2035257            394265   \n",
       "..                    ...              ...            ...               ...   \n",
       "515                975478          1372926         683345            113323   \n",
       "516                420214           187714          88027             13183   \n",
       "517               1057997           943201         362471             61628   \n",
       "518                 90634            82918          35122              8475   \n",
       "519                622833           506436         151031             32445   \n",
       "\n",
       "     Total_Population  \n",
       "0             4849377  \n",
       "1              736732  \n",
       "2             6731484  \n",
       "3             2966369  \n",
       "4            38802500  \n",
       "..                ...  \n",
       "515           7958180  \n",
       "516           1769979  \n",
       "517           5960975  \n",
       "518            587618  \n",
       "519           3203295  \n",
       "\n",
       "[520 rows x 9 columns]"
      ]
     },
     "execution_count": 266,
     "metadata": {},
     "output_type": "execute_result"
    }
   ],
   "source": [
    "frames=[]\n",
    "for year in years:\n",
    "    edu=get_edu(year)\n",
    "    pop=total_pop(year)\n",
    "    if not edu.empty and not pop.empty:\n",
    "        merged_edu=pd.merge(edu,pop, on=[\"year\",\"State\"],how=\"left\")\n",
    "        frames.append(merged_edu)\n",
    "df_eduPop=pd.concat(frames,ignore_index=True)\n",
    "df_eduPop.drop(columns=[\"State_Code\"],inplace=True)\n",
    "df_eduPop"
   ]
  },
  {
   "cell_type": "code",
   "execution_count": 267,
   "id": "e47094e2",
   "metadata": {},
   "outputs": [
    {
     "data": {
      "text/html": [
       "<div>\n",
       "<style scoped>\n",
       "    .dataframe tbody tr th:only-of-type {\n",
       "        vertical-align: middle;\n",
       "    }\n",
       "\n",
       "    .dataframe tbody tr th {\n",
       "        vertical-align: top;\n",
       "    }\n",
       "\n",
       "    .dataframe thead th {\n",
       "        text-align: right;\n",
       "    }\n",
       "</style>\n",
       "<table border=\"1\" class=\"dataframe\">\n",
       "  <thead>\n",
       "    <tr style=\"text-align: right;\">\n",
       "      <th></th>\n",
       "      <th>year</th>\n",
       "      <th>State</th>\n",
       "      <th>Population_25plus</th>\n",
       "      <th>Without Min Studies</th>\n",
       "      <th>High_School_Graduate</th>\n",
       "      <th>Bachelor_Degree</th>\n",
       "      <th>Master_Degree</th>\n",
       "      <th>Doctorate_Degree</th>\n",
       "      <th>incident_time</th>\n",
       "      <th>city_or_county</th>\n",
       "      <th>killed</th>\n",
       "      <th>injured</th>\n",
       "      <th>victims_killed</th>\n",
       "      <th>victims_injured</th>\n",
       "      <th>suspects_killed</th>\n",
       "      <th>suspects_injured</th>\n",
       "      <th>suspects_arrested</th>\n",
       "      <th>incident_characteristics</th>\n",
       "    </tr>\n",
       "  </thead>\n",
       "  <tbody>\n",
       "    <tr>\n",
       "      <th>0</th>\n",
       "      <td>2014</td>\n",
       "      <td>Alabama</td>\n",
       "      <td>3256766</td>\n",
       "      <td>48873</td>\n",
       "      <td>847523</td>\n",
       "      <td>478058</td>\n",
       "      <td>201391</td>\n",
       "      <td>33082</td>\n",
       "      <td>NaN</td>\n",
       "      <td>Huntsville</td>\n",
       "      <td>0</td>\n",
       "      <td>5</td>\n",
       "      <td>0</td>\n",
       "      <td>5</td>\n",
       "      <td>0</td>\n",
       "      <td>0</td>\n",
       "      <td>0</td>\n",
       "      <td>Shot - Wounded/Injured, Mass Shooting (4+ vict...</td>\n",
       "    </tr>\n",
       "    <tr>\n",
       "      <th>1</th>\n",
       "      <td>2014</td>\n",
       "      <td>Alabama</td>\n",
       "      <td>3256766</td>\n",
       "      <td>48873</td>\n",
       "      <td>847523</td>\n",
       "      <td>478058</td>\n",
       "      <td>201391</td>\n",
       "      <td>33082</td>\n",
       "      <td>NaN</td>\n",
       "      <td>Opp</td>\n",
       "      <td>1</td>\n",
       "      <td>4</td>\n",
       "      <td>1</td>\n",
       "      <td>4</td>\n",
       "      <td>0</td>\n",
       "      <td>0</td>\n",
       "      <td>1</td>\n",
       "      <td>Shot - Wounded/Injured, Shot - Dead (murder, a...</td>\n",
       "    </tr>\n",
       "    <tr>\n",
       "      <th>2</th>\n",
       "      <td>2014</td>\n",
       "      <td>Alaska</td>\n",
       "      <td>465149</td>\n",
       "      <td>4144</td>\n",
       "      <td>108523</td>\n",
       "      <td>85634</td>\n",
       "      <td>33103</td>\n",
       "      <td>4304</td>\n",
       "      <td>NaN</td>\n",
       "      <td>Anchorage</td>\n",
       "      <td>0</td>\n",
       "      <td>6</td>\n",
       "      <td>0</td>\n",
       "      <td>6</td>\n",
       "      <td>0</td>\n",
       "      <td>0</td>\n",
       "      <td>0</td>\n",
       "      <td>Shot - Wounded/Injured, Mass Shooting (4+ vict...</td>\n",
       "    </tr>\n",
       "    <tr>\n",
       "      <th>3</th>\n",
       "      <td>2014</td>\n",
       "      <td>Arizona</td>\n",
       "      <td>4436226</td>\n",
       "      <td>77042</td>\n",
       "      <td>899108</td>\n",
       "      <td>765784</td>\n",
       "      <td>328400</td>\n",
       "      <td>53578</td>\n",
       "      <td>2:00 AM</td>\n",
       "      <td>Phoenix</td>\n",
       "      <td>1</td>\n",
       "      <td>3</td>\n",
       "      <td>1</td>\n",
       "      <td>3</td>\n",
       "      <td>0</td>\n",
       "      <td>0</td>\n",
       "      <td>0</td>\n",
       "      <td>Shot - Wounded/Injured, Shot - Dead (murder, a...</td>\n",
       "    </tr>\n",
       "    <tr>\n",
       "      <th>4</th>\n",
       "      <td>2014</td>\n",
       "      <td>Arkansas</td>\n",
       "      <td>1968414</td>\n",
       "      <td>25814</td>\n",
       "      <td>568437</td>\n",
       "      <td>272411</td>\n",
       "      <td>104636</td>\n",
       "      <td>19380</td>\n",
       "      <td>11:26 PM</td>\n",
       "      <td>Pine Bluff</td>\n",
       "      <td>1</td>\n",
       "      <td>3</td>\n",
       "      <td>1</td>\n",
       "      <td>3</td>\n",
       "      <td>0</td>\n",
       "      <td>0</td>\n",
       "      <td>0</td>\n",
       "      <td>Shot - Wounded/Injured, Shot - Dead (murder, a...</td>\n",
       "    </tr>\n",
       "    <tr>\n",
       "      <th>...</th>\n",
       "      <td>...</td>\n",
       "      <td>...</td>\n",
       "      <td>...</td>\n",
       "      <td>...</td>\n",
       "      <td>...</td>\n",
       "      <td>...</td>\n",
       "      <td>...</td>\n",
       "      <td>...</td>\n",
       "      <td>...</td>\n",
       "      <td>...</td>\n",
       "      <td>...</td>\n",
       "      <td>...</td>\n",
       "      <td>...</td>\n",
       "      <td>...</td>\n",
       "      <td>...</td>\n",
       "      <td>...</td>\n",
       "      <td>...</td>\n",
       "      <td>...</td>\n",
       "    </tr>\n",
       "    <tr>\n",
       "      <th>4568</th>\n",
       "      <td>2024</td>\n",
       "      <td>Wisconsin</td>\n",
       "      <td>4172638</td>\n",
       "      <td>48054</td>\n",
       "      <td>1057997</td>\n",
       "      <td>943201</td>\n",
       "      <td>362471</td>\n",
       "      <td>61628</td>\n",
       "      <td>12:30 AM</td>\n",
       "      <td>Milwaukee</td>\n",
       "      <td>1</td>\n",
       "      <td>8</td>\n",
       "      <td>1</td>\n",
       "      <td>8</td>\n",
       "      <td>0</td>\n",
       "      <td>0</td>\n",
       "      <td>1</td>\n",
       "      <td>Shot - Wounded/Injured, Shot - Dead (murder, a...</td>\n",
       "    </tr>\n",
       "    <tr>\n",
       "      <th>4569</th>\n",
       "      <td>2024</td>\n",
       "      <td>Wisconsin</td>\n",
       "      <td>4172638</td>\n",
       "      <td>48054</td>\n",
       "      <td>1057997</td>\n",
       "      <td>943201</td>\n",
       "      <td>362471</td>\n",
       "      <td>61628</td>\n",
       "      <td>5:00 AM</td>\n",
       "      <td>Milwaukee</td>\n",
       "      <td>0</td>\n",
       "      <td>5</td>\n",
       "      <td>0</td>\n",
       "      <td>5</td>\n",
       "      <td>0</td>\n",
       "      <td>0</td>\n",
       "      <td>0</td>\n",
       "      <td>Shot - Wounded/Injured, Mass Shooting (4+ vict...</td>\n",
       "    </tr>\n",
       "    <tr>\n",
       "      <th>4570</th>\n",
       "      <td>2024</td>\n",
       "      <td>Wisconsin</td>\n",
       "      <td>4172638</td>\n",
       "      <td>48054</td>\n",
       "      <td>1057997</td>\n",
       "      <td>943201</td>\n",
       "      <td>362471</td>\n",
       "      <td>61628</td>\n",
       "      <td>1:30 AM</td>\n",
       "      <td>Milwaukee</td>\n",
       "      <td>0</td>\n",
       "      <td>4</td>\n",
       "      <td>0</td>\n",
       "      <td>4</td>\n",
       "      <td>0</td>\n",
       "      <td>0</td>\n",
       "      <td>0</td>\n",
       "      <td>Shot - Wounded/Injured, Mass Shooting (4+ vict...</td>\n",
       "    </tr>\n",
       "    <tr>\n",
       "      <th>4571</th>\n",
       "      <td>2024</td>\n",
       "      <td>Wisconsin</td>\n",
       "      <td>4172638</td>\n",
       "      <td>48054</td>\n",
       "      <td>1057997</td>\n",
       "      <td>943201</td>\n",
       "      <td>362471</td>\n",
       "      <td>61628</td>\n",
       "      <td>2:25 PM</td>\n",
       "      <td>Milwaukee</td>\n",
       "      <td>0</td>\n",
       "      <td>4</td>\n",
       "      <td>0</td>\n",
       "      <td>4</td>\n",
       "      <td>0</td>\n",
       "      <td>0</td>\n",
       "      <td>2</td>\n",
       "      <td>Shot - Wounded/Injured, Child Involved Inciden...</td>\n",
       "    </tr>\n",
       "    <tr>\n",
       "      <th>4572</th>\n",
       "      <td>2024</td>\n",
       "      <td>Wisconsin</td>\n",
       "      <td>4172638</td>\n",
       "      <td>48054</td>\n",
       "      <td>1057997</td>\n",
       "      <td>943201</td>\n",
       "      <td>362471</td>\n",
       "      <td>61628</td>\n",
       "      <td>12:45 AM</td>\n",
       "      <td>Madison</td>\n",
       "      <td>0</td>\n",
       "      <td>12</td>\n",
       "      <td>0</td>\n",
       "      <td>12</td>\n",
       "      <td>0</td>\n",
       "      <td>0</td>\n",
       "      <td>1</td>\n",
       "      <td>Shot - Wounded/Injured, Mass Shooting (4+ vict...</td>\n",
       "    </tr>\n",
       "  </tbody>\n",
       "</table>\n",
       "<p>4573 rows × 18 columns</p>\n",
       "</div>"
      ],
      "text/plain": [
       "      year      State  Population_25plus  Without Min Studies  \\\n",
       "0     2014    Alabama            3256766                48873   \n",
       "1     2014    Alabama            3256766                48873   \n",
       "2     2014     Alaska             465149                 4144   \n",
       "3     2014    Arizona            4436226                77042   \n",
       "4     2014   Arkansas            1968414                25814   \n",
       "...    ...        ...                ...                  ...   \n",
       "4568  2024  Wisconsin            4172638                48054   \n",
       "4569  2024  Wisconsin            4172638                48054   \n",
       "4570  2024  Wisconsin            4172638                48054   \n",
       "4571  2024  Wisconsin            4172638                48054   \n",
       "4572  2024  Wisconsin            4172638                48054   \n",
       "\n",
       "      High_School_Graduate  Bachelor_Degree  Master_Degree  Doctorate_Degree  \\\n",
       "0                   847523           478058         201391             33082   \n",
       "1                   847523           478058         201391             33082   \n",
       "2                   108523            85634          33103              4304   \n",
       "3                   899108           765784         328400             53578   \n",
       "4                   568437           272411         104636             19380   \n",
       "...                    ...              ...            ...               ...   \n",
       "4568               1057997           943201         362471             61628   \n",
       "4569               1057997           943201         362471             61628   \n",
       "4570               1057997           943201         362471             61628   \n",
       "4571               1057997           943201         362471             61628   \n",
       "4572               1057997           943201         362471             61628   \n",
       "\n",
       "     incident_time city_or_county  killed  injured  victims_killed  \\\n",
       "0              NaN     Huntsville       0        5               0   \n",
       "1              NaN            Opp       1        4               1   \n",
       "2              NaN      Anchorage       0        6               0   \n",
       "3          2:00 AM        Phoenix       1        3               1   \n",
       "4         11:26 PM     Pine Bluff       1        3               1   \n",
       "...            ...            ...     ...      ...             ...   \n",
       "4568      12:30 AM      Milwaukee       1        8               1   \n",
       "4569       5:00 AM      Milwaukee       0        5               0   \n",
       "4570       1:30 AM      Milwaukee       0        4               0   \n",
       "4571       2:25 PM      Milwaukee       0        4               0   \n",
       "4572      12:45 AM        Madison       0       12               0   \n",
       "\n",
       "      victims_injured  suspects_killed  suspects_injured  suspects_arrested  \\\n",
       "0                   5                0                 0                  0   \n",
       "1                   4                0                 0                  1   \n",
       "2                   6                0                 0                  0   \n",
       "3                   3                0                 0                  0   \n",
       "4                   3                0                 0                  0   \n",
       "...               ...              ...               ...                ...   \n",
       "4568                8                0                 0                  1   \n",
       "4569                5                0                 0                  0   \n",
       "4570                4                0                 0                  0   \n",
       "4571                4                0                 0                  2   \n",
       "4572               12                0                 0                  1   \n",
       "\n",
       "                               incident_characteristics  \n",
       "0     Shot - Wounded/Injured, Mass Shooting (4+ vict...  \n",
       "1     Shot - Wounded/Injured, Shot - Dead (murder, a...  \n",
       "2     Shot - Wounded/Injured, Mass Shooting (4+ vict...  \n",
       "3     Shot - Wounded/Injured, Shot - Dead (murder, a...  \n",
       "4     Shot - Wounded/Injured, Shot - Dead (murder, a...  \n",
       "...                                                 ...  \n",
       "4568  Shot - Wounded/Injured, Shot - Dead (murder, a...  \n",
       "4569  Shot - Wounded/Injured, Mass Shooting (4+ vict...  \n",
       "4570  Shot - Wounded/Injured, Mass Shooting (4+ vict...  \n",
       "4571  Shot - Wounded/Injured, Child Involved Inciden...  \n",
       "4572  Shot - Wounded/Injured, Mass Shooting (4+ vict...  \n",
       "\n",
       "[4573 rows x 18 columns]"
      ]
     },
     "execution_count": 267,
     "metadata": {},
     "output_type": "execute_result"
    }
   ],
   "source": [
    "df_eduShoothing=pd.merge(df_edu,df,on=[\"year\",\"State\"])\n",
    "df_eduShoothing.drop(columns=[\"sources\",\"date_fixed\",\"incident_date\",\"incident_id\",\"updated_date\",\"business_location_name\",\"longitude\",\"latitude\",\"address\"],inplace=True)\n",
    "df_eduShoothing"
   ]
  },
  {
   "cell_type": "code",
   "execution_count": 268,
   "id": "4ee2067b",
   "metadata": {},
   "outputs": [
    {
     "data": {
      "text/html": [
       "<div>\n",
       "<style scoped>\n",
       "    .dataframe tbody tr th:only-of-type {\n",
       "        vertical-align: middle;\n",
       "    }\n",
       "\n",
       "    .dataframe tbody tr th {\n",
       "        vertical-align: top;\n",
       "    }\n",
       "\n",
       "    .dataframe thead th {\n",
       "        text-align: right;\n",
       "    }\n",
       "</style>\n",
       "<table border=\"1\" class=\"dataframe\">\n",
       "  <thead>\n",
       "    <tr style=\"text-align: right;\">\n",
       "      <th></th>\n",
       "      <th>year</th>\n",
       "      <th>State</th>\n",
       "      <th>incident_count</th>\n",
       "    </tr>\n",
       "  </thead>\n",
       "  <tbody>\n",
       "    <tr>\n",
       "      <th>290</th>\n",
       "      <td>2021</td>\n",
       "      <td>Illinois</td>\n",
       "      <td>86</td>\n",
       "    </tr>\n",
       "    <tr>\n",
       "      <th>246</th>\n",
       "      <td>2020</td>\n",
       "      <td>Illinois</td>\n",
       "      <td>68</td>\n",
       "    </tr>\n",
       "    <tr>\n",
       "      <th>400</th>\n",
       "      <td>2023</td>\n",
       "      <td>Texas</td>\n",
       "      <td>65</td>\n",
       "    </tr>\n",
       "    <tr>\n",
       "      <th>333</th>\n",
       "      <td>2022</td>\n",
       "      <td>Illinois</td>\n",
       "      <td>58</td>\n",
       "    </tr>\n",
       "    <tr>\n",
       "      <th>317</th>\n",
       "      <td>2021</td>\n",
       "      <td>Texas</td>\n",
       "      <td>57</td>\n",
       "    </tr>\n",
       "    <tr>\n",
       "      <th>...</th>\n",
       "      <td>...</td>\n",
       "      <td>...</td>\n",
       "      <td>...</td>\n",
       "    </tr>\n",
       "    <tr>\n",
       "      <th>2</th>\n",
       "      <td>2014</td>\n",
       "      <td>Arizona</td>\n",
       "      <td>1</td>\n",
       "    </tr>\n",
       "    <tr>\n",
       "      <th>1</th>\n",
       "      <td>2014</td>\n",
       "      <td>Alaska</td>\n",
       "      <td>1</td>\n",
       "    </tr>\n",
       "    <tr>\n",
       "      <th>485</th>\n",
       "      <td>2025</td>\n",
       "      <td>Utah</td>\n",
       "      <td>1</td>\n",
       "    </tr>\n",
       "    <tr>\n",
       "      <th>488</th>\n",
       "      <td>2025</td>\n",
       "      <td>West Virginia</td>\n",
       "      <td>1</td>\n",
       "    </tr>\n",
       "    <tr>\n",
       "      <th>490</th>\n",
       "      <td>2025</td>\n",
       "      <td>Wyoming</td>\n",
       "      <td>1</td>\n",
       "    </tr>\n",
       "  </tbody>\n",
       "</table>\n",
       "<p>491 rows × 3 columns</p>\n",
       "</div>"
      ],
      "text/plain": [
       "     year          State  incident_count\n",
       "290  2021       Illinois              86\n",
       "246  2020       Illinois              68\n",
       "400  2023          Texas              65\n",
       "333  2022       Illinois              58\n",
       "317  2021          Texas              57\n",
       "..    ...            ...             ...\n",
       "2    2014        Arizona               1\n",
       "1    2014         Alaska               1\n",
       "485  2025           Utah               1\n",
       "488  2025  West Virginia               1\n",
       "490  2025        Wyoming               1\n",
       "\n",
       "[491 rows x 3 columns]"
      ]
     },
     "execution_count": 268,
     "metadata": {},
     "output_type": "execute_result"
    }
   ],
   "source": [
    "incidents_by_state = (\n",
    "    df.groupby([\"year\", \"State\"])\n",
    "      .size()\n",
    "      .reset_index(name=\"incident_count\")\n",
    ")\n",
    "incidents_by_state= incidents_by_state.sort_values(by=\"incident_count\",ascending=False)\n",
    "\n",
    "top_20=incidents_by_state\n",
    "top_20"
   ]
  },
  {
   "cell_type": "code",
   "execution_count": 275,
   "id": "f34e3bf1",
   "metadata": {},
   "outputs": [],
   "source": [
    "def state_summary(df,df_eduPop,state,year):\n",
    "    incidents=(df[(df[\"State\"]==state)&(df[\"year\"]==year)].copy())\n",
    "    edu=(df_eduPop[(df_eduPop[\"State\"]==state)&(df_eduPop[\"year\"]==year)].copy())\n",
    "\n",
    "    if edu.empty:\n",
    "        print(f\"No data for {state} and {year}\")\n",
    "        return\n",
    "    n_incidents=incidents.shape[0]\n",
    "    n_incidents = incidents.shape[0]\n",
    "    total_killed = incidents[\"killed\"].sum()\n",
    "    total_injured = incidents[\"injured\"].sum()\n",
    "    total_victims = total_killed + total_injured\n",
    "\n",
    "    edu[\"%Pop_over_25_vs_Total\"]=(edu[\"Population_25plus\"]/edu[\"Total_Population\"]*100).round(2)\n",
    "    edu[\"%Without_Min_Studies\"]=(edu[\"Without Min Studies\"]/edu[\"Population_25plus\"]*100).round(2)\n",
    "    edu[\"%HighSchool\"]=(edu[\"High_School_Graduate\"]/edu[\"Population_25plus\"]*100).round(2)\n",
    "    edu[\"%Bachelor\"]=(edu[\"Bachelor_Degree\"]/edu[\"Population_25plus\"]*100).round(2)\n",
    "    edu[\"%Master_Degree\"]=(edu[\"Master_Degree\"]/edu[\"Population_25plus\"]*100).round(2)\n",
    "    edu[\"%Doctorate_Degree\"]=(edu[\"Doctorate_Degree\"]/edu[\"Population_25plus\"]*100).round(2)\n",
    "    edu[\"%Deadliest\"]=(total_killed/total_victims*100).round(2)\n",
    "    edu.drop(columns=[\"High_School_Graduate\",\"Bachelor_Degree\",\"Master_Degree\",\"Doctorate_Degree\",\"Without Min Studies\"],inplace=True)\n",
    "   \n",
    "    edu[\"Incident_Count\"] = n_incidents\n",
    "    edu[\"Total_Killed\"] = total_killed\n",
    "    edu[\"Total_Injured\"] = total_injured\n",
    "    edu[\"Total_Victims\"] = total_victims\n",
    "    \n",
    "    edu[\"Incidents_per_100k\"] = n_incidents / edu[\"Total_Population\"] * 100000\n",
    "    \n",
    "    print(f\"{state}({year}) number of indicents: {n_incidents}\")\n",
    "    \n",
    "    return edu\n"
   ]
  },
  {
   "cell_type": "code",
   "execution_count": 290,
   "id": "f66ca243",
   "metadata": {},
   "outputs": [
    {
     "name": "stdout",
     "output_type": "stream",
     "text": [
      "Illinois(2021) number of indicents: 86\n",
      "No data for Illinois and 2020\n",
      "Texas(2023) number of indicents: 65\n",
      "Illinois(2022) number of indicents: 58\n",
      "Texas(2021) number of indicents: 57\n",
      "Illinois(2023) number of indicents: 51\n",
      "California(2023) number of indicents: 51\n",
      "Texas(2022) number of indicents: 50\n",
      "California(2019) number of indicents: 49\n",
      "California(2022) number of indicents: 49\n",
      "California(2016) number of indicents: 45\n",
      "California(2021) number of indicents: 45\n",
      "Illinois(2016) number of indicents: 42\n",
      "Illinois(2019) number of indicents: 41\n",
      "California(2014) number of indicents: 40\n",
      "No data for California and 2020\n",
      "No data for New York and 2020\n",
      "California(2017) number of indicents: 38\n",
      "New York(2021) number of indicents: 37\n",
      "Illinois(2017) number of indicents: 37\n",
      "Illinois(2024) number of indicents: 36\n",
      "California(2024) number of indicents: 35\n",
      "Illinois(2018) number of indicents: 35\n",
      "California(2018) number of indicents: 35\n",
      "Pennsylvania(2023) number of indicents: 35\n",
      "Pennsylvania(2021) number of indicents: 35\n",
      "Louisiana(2021) number of indicents: 34\n",
      "Pennsylvania(2022) number of indicents: 34\n",
      "No data for Florida and 2020\n",
      "No data for Pennsylvania and 2020\n",
      "No data for Texas and 2020\n",
      "Ohio(2023) number of indicents: 33\n",
      "Louisiana(2023) number of indicents: 33\n",
      "North Carolina(2023) number of indicents: 33\n",
      "Ohio(2021) number of indicents: 33\n",
      "Florida(2024) number of indicents: 32\n",
      "Texas(2016) number of indicents: 31\n",
      "Pennsylvania(2024) number of indicents: 31\n",
      "Florida(2021) number of indicents: 31\n",
      "Florida(2022) number of indicents: 31\n",
      "Texas(2024) number of indicents: 31\n",
      "Florida(2018) number of indicents: 30\n",
      "Florida(2023) number of indicents: 30\n",
      "New York(2022) number of indicents: 30\n",
      "Florida(2016) number of indicents: 30\n",
      "Georgia(2022) number of indicents: 29\n",
      "Louisiana(2022) number of indicents: 28\n",
      "Texas(2019) number of indicents: 28\n",
      "California(2015) number of indicents: 27\n",
      "Illinois(2014) number of indicents: 27\n",
      "Louisiana(2019) number of indicents: 26\n",
      "No data for Louisiana and 2020\n",
      "Mississippi(2023) number of indicents: 26\n",
      "Florida(2015) number of indicents: 26\n",
      "Georgia(2023) number of indicents: 25\n",
      "Michigan(2021) number of indicents: 25\n",
      "No data for Ohio and 2020\n",
      "Illinois(2015) number of indicents: 25\n",
      "Alabama(2024) number of indicents: 25\n",
      "Mississippi(2024) number of indicents: 24\n",
      "Georgia(2024) number of indicents: 24\n",
      "Florida(2017) number of indicents: 24\n",
      "Michigan(2022) number of indicents: 24\n",
      "Georgia(2021) number of indicents: 22\n",
      "No data for South Carolina and 2020\n",
      "No data for Missouri and 2020\n",
      "Maryland(2023) number of indicents: 22\n",
      "No data for Texas and 2025\n",
      "Alabama(2021) number of indicents: 22\n",
      "Missouri(2024) number of indicents: 22\n",
      "North Carolina(2021) number of indicents: 22\n",
      "Louisiana(2024) number of indicents: 21\n",
      "Tennessee(2023) number of indicents: 21\n",
      "No data for Michigan and 2020\n",
      "North Carolina(2022) number of indicents: 21\n",
      "New York(2015) number of indicents: 21\n",
      "Ohio(2017) number of indicents: 21\n",
      "Texas(2017) number of indicents: 21\n",
      "Georgia(2015) number of indicents: 20\n",
      "No data for North Carolina and 2020\n",
      "Maryland(2019) number of indicents: 20\n",
      "Georgia(2019) number of indicents: 19\n",
      "South Carolina(2022) number of indicents: 19\n",
      "Pennsylvania(2019) number of indicents: 19\n",
      "No data for Tennessee and 2020\n",
      "Virginia(2022) number of indicents: 19\n",
      "Pennsylvania(2018) number of indicents: 19\n",
      "Maryland(2021) number of indicents: 19\n",
      "Maryland(2022) number of indicents: 19\n",
      "Ohio(2022) number of indicents: 19\n",
      "Georgia(2014) number of indicents: 18\n",
      "Missouri(2019) number of indicents: 18\n",
      "No data for California and 2025\n",
      "New York(2024) number of indicents: 18\n",
      "Tennessee(2024) number of indicents: 18\n",
      "No data for Illinois and 2025\n",
      "No data for Maryland and 2020\n",
      "No data for Georgia and 2020\n",
      "Tennessee(2018) number of indicents: 18\n",
      "Georgia(2016) number of indicents: 17\n",
      "Ohio(2024) number of indicents: 17\n",
      "South Carolina(2023) number of indicents: 17\n",
      "No data for Mississippi and 2020\n",
      "Texas(2015) number of indicents: 17\n",
      "Florida(2014) number of indicents: 17\n",
      "South Carolina(2021) number of indicents: 17\n",
      "Alabama(2022) number of indicents: 16\n",
      "Wisconsin(2022) number of indicents: 16\n",
      "No data for Ohio and 2025\n",
      "Missouri(2021) number of indicents: 16\n",
      "District of Columbia(2021) number of indicents: 16\n",
      "Texas(2014) number of indicents: 16\n",
      "New York(2023) number of indicents: 16\n",
      "Virginia(2021) number of indicents: 16\n",
      "Tennessee(2022) number of indicents: 16\n",
      "No data for Georgia and 2025\n",
      "Colorado(2023) number of indicents: 16\n",
      "Alabama(2016) number of indicents: 15\n",
      "New York(2016) number of indicents: 15\n",
      "Florida(2019) number of indicents: 15\n",
      "Tennessee(2021) number of indicents: 15\n",
      "Indiana(2022) number of indicents: 15\n",
      "Texas(2018) number of indicents: 15\n",
      "Pennsylvania(2017) number of indicents: 15\n",
      "Louisiana(2017) number of indicents: 15\n",
      "Indiana(2023) number of indicents: 15\n",
      "Missouri(2023) number of indicents: 15\n",
      "No data for Pennsylvania and 2025\n",
      "Louisiana(2015) number of indicents: 15\n",
      "North Carolina(2024) number of indicents: 15\n",
      "Michigan(2024) number of indicents: 14\n",
      "New Jersey(2021) number of indicents: 14\n",
      "No data for Arkansas and 2020\n",
      "Ohio(2019) number of indicents: 14\n",
      "Washington(2023) number of indicents: 14\n",
      "Mississippi(2022) number of indicents: 14\n",
      "Michigan(2023) number of indicents: 14\n",
      "Louisiana(2016) number of indicents: 14\n",
      "Pennsylvania(2015) number of indicents: 14\n",
      "Indiana(2021) number of indicents: 14\n",
      "Alabama(2018) number of indicents: 14\n",
      "Tennessee(2017) number of indicents: 14\n",
      "Missouri(2018) number of indicents: 14\n",
      "Missouri(2015) number of indicents: 13\n",
      "Tennessee(2014) number of indicents: 13\n",
      "Maryland(2015) number of indicents: 13\n",
      "Mississippi(2021) number of indicents: 13\n",
      "New York(2018) number of indicents: 13\n",
      "New Jersey(2017) number of indicents: 13\n",
      "New York(2017) number of indicents: 13\n",
      "Missouri(2022) number of indicents: 13\n",
      "Minnesota(2023) number of indicents: 13\n",
      "Louisiana(2018) number of indicents: 13\n",
      "No data for Louisiana and 2025\n",
      "Virginia(2024) number of indicents: 13\n",
      "Ohio(2015) number of indicents: 13\n",
      "New York(2014) number of indicents: 13\n",
      "No data for Tennessee and 2025\n",
      "Arizona(2022) number of indicents: 13\n",
      "Colorado(2022) number of indicents: 13\n",
      "Colorado(2021) number of indicents: 13\n",
      "District of Columbia(2024) number of indicents: 12\n",
      "No data for New Jersey and 2020\n",
      "Virginia(2017) number of indicents: 12\n",
      "Alabama(2019) number of indicents: 12\n",
      "Washington(2022) number of indicents: 12\n",
      "Kentucky(2024) number of indicents: 12\n",
      "Minnesota(2022) number of indicents: 12\n",
      "Mississippi(2017) number of indicents: 12\n",
      "New Jersey(2023) number of indicents: 12\n",
      "Tennessee(2016) number of indicents: 12\n",
      "North Carolina(2015) number of indicents: 12\n",
      "North Carolina(2019) number of indicents: 11\n",
      "Virginia(2016) number of indicents: 11\n",
      "Michigan(2016) number of indicents: 11\n",
      "Minnesota(2021) number of indicents: 11\n",
      "Michigan(2015) number of indicents: 11\n",
      "Alabama(2023) number of indicents: 11\n",
      "District of Columbia(2023) number of indicents: 11\n",
      "New Jersey(2019) number of indicents: 11\n",
      "Wisconsin(2021) number of indicents: 11\n",
      "No data for Colorado and 2020\n",
      "Ohio(2016) number of indicents: 11\n",
      "Maryland(2016) number of indicents: 11\n",
      "No data for Virginia and 2020\n",
      "Louisiana(2014) number of indicents: 11\n",
      "Indiana(2024) number of indicents: 11\n",
      "Tennessee(2015) number of indicents: 11\n",
      "No data for Alabama and 2020\n",
      "Minnesota(2024) number of indicents: 10\n",
      "Michigan(2014) number of indicents: 10\n",
      "Virginia(2019) number of indicents: 10\n",
      "No data for Wisconsin and 2020\n",
      "No data for Kentucky and 2020\n",
      "Indiana(2019) number of indicents: 10\n",
      "South Carolina(2015) number of indicents: 10\n",
      "Missouri(2017) number of indicents: 10\n",
      "Missouri(2016) number of indicents: 10\n",
      "South Carolina(2019) number of indicents: 10\n",
      "Pennsylvania(2016) number of indicents: 10\n",
      "Pennsylvania(2014) number of indicents: 10\n",
      "North Carolina(2018) number of indicents: 10\n",
      "No data for Michigan and 2025\n",
      "No data for Mississippi and 2025\n",
      "Ohio(2018) number of indicents: 10\n",
      "New Jersey(2018) number of indicents: 10\n",
      "No data for Missouri and 2025\n",
      "No data for Indiana and 2025\n",
      "Arkansas(2023) number of indicents: 9\n",
      "Arizona(2023) number of indicents: 9\n",
      "Indiana(2015) number of indicents: 9\n",
      "New Jersey(2015) number of indicents: 9\n",
      "North Carolina(2016) number of indicents: 9\n",
      "New Jersey(2022) number of indicents: 9\n",
      "Maryland(2018) number of indicents: 9\n",
      "Michigan(2019) number of indicents: 9\n",
      "Wisconsin(2023) number of indicents: 9\n",
      "New Jersey(2016) number of indicents: 9\n",
      "New York(2019) number of indicents: 9\n",
      "No data for Virginia and 2025\n",
      "District of Columbia(2022) number of indicents: 9\n",
      "Kentucky(2022) number of indicents: 9\n",
      "Georgia(2017) number of indicents: 9\n",
      "Washington(2021) number of indicents: 8\n",
      "No data for District of Columbia and 2020\n",
      "Wisconsin(2024) number of indicents: 8\n",
      "Missouri(2014) number of indicents: 8\n",
      "Colorado(2018) number of indicents: 8\n",
      "No data for New York and 2025\n",
      "No data for South Carolina and 2025\n",
      "No data for Maryland and 2025\n",
      "No data for Florida and 2025\n",
      "Indiana(2014) number of indicents: 8\n",
      "Virginia(2014) number of indicents: 8\n",
      "Georgia(2018) number of indicents: 8\n",
      "Michigan(2018) number of indicents: 8\n",
      "Oklahoma(2022) number of indicents: 8\n",
      "Kentucky(2023) number of indicents: 8\n",
      "Maryland(2017) number of indicents: 8\n",
      "Michigan(2017) number of indicents: 8\n",
      "Washington(2016) number of indicents: 8\n",
      "Indiana(2016) number of indicents: 8\n",
      "No data for Massachusetts and 2020\n",
      "No data for North Carolina and 2025\n",
      "Massachusetts(2023) number of indicents: 7\n",
      "Indiana(2017) number of indicents: 7\n",
      "Oklahoma(2023) number of indicents: 7\n",
      "Virginia(2023) number of indicents: 7\n",
      "North Carolina(2017) number of indicents: 7\n",
      "South Carolina(2017) number of indicents: 7\n",
      "No data for Connecticut and 2020\n",
      "Tennessee(2019) number of indicents: 7\n",
      "District of Columbia(2019) number of indicents: 7\n",
      "No data for Indiana and 2020\n",
      "Alabama(2017) number of indicents: 7\n",
      "Ohio(2014) number of indicents: 7\n",
      "Oregon(2021) number of indicents: 7\n",
      "Oklahoma(2024) number of indicents: 7\n",
      "South Carolina(2014) number of indicents: 7\n",
      "South Carolina(2024) number of indicents: 6\n",
      "No data for Washington and 2025\n",
      "District of Columbia(2014) number of indicents: 6\n",
      "New Jersey(2014) number of indicents: 6\n",
      "No data for Minnesota and 2020\n",
      "Washington(2024) number of indicents: 6\n",
      "Connecticut(2016) number of indicents: 6\n",
      "No data for Oklahoma and 2025\n",
      "No data for Minnesota and 2025\n",
      "Massachusetts(2024) number of indicents: 6\n",
      "Maryland(2024) number of indicents: 6\n",
      "No data for Alabama and 2025\n",
      "District of Columbia(2018) number of indicents: 6\n",
      "Colorado(2024) number of indicents: 6\n",
      "Oregon(2022) number of indicents: 6\n",
      "Mississippi(2016) number of indicents: 6\n",
      "Indiana(2018) number of indicents: 6\n",
      "Kentucky(2017) number of indicents: 6\n",
      "Arkansas(2018) number of indicents: 6\n",
      "Arizona(2015) number of indicents: 6\n",
      "Delaware(2021) number of indicents: 6\n",
      "Arkansas(2024) number of indicents: 6\n",
      "Mississippi(2019) number of indicents: 6\n",
      "Massachusetts(2015) number of indicents: 5\n",
      "Minnesota(2015) number of indicents: 5\n",
      "Oklahoma(2018) number of indicents: 5\n",
      "Arizona(2019) number of indicents: 5\n",
      "Nevada(2021) number of indicents: 5\n",
      "Iowa(2021) number of indicents: 5\n",
      "Arkansas(2022) number of indicents: 5\n",
      "Nebraska(2022) number of indicents: 5\n",
      "Nevada(2023) number of indicents: 5\n",
      "Nevada(2022) number of indicents: 5\n",
      "South Carolina(2016) number of indicents: 5\n",
      "Arizona(2017) number of indicents: 5\n",
      "District of Columbia(2017) number of indicents: 5\n",
      "Oklahoma(2015) number of indicents: 5\n",
      "Kansas(2016) number of indicents: 5\n",
      "Arkansas(2019) number of indicents: 5\n",
      "Massachusetts(2019) number of indicents: 5\n",
      "Kentucky(2019) number of indicents: 5\n",
      "Colorado(2019) number of indicents: 5\n",
      "Minnesota(2016) number of indicents: 5\n",
      "District of Columbia(2016) number of indicents: 5\n",
      "Virginia(2015) number of indicents: 5\n",
      "No data for Washington and 2020\n",
      "Arkansas(2021) number of indicents: 5\n",
      "Arizona(2021) number of indicents: 5\n",
      "Mississippi(2014) number of indicents: 5\n",
      "Kentucky(2014) number of indicents: 4\n",
      "Massachusetts(2014) number of indicents: 4\n",
      "Nevada(2014) number of indicents: 4\n",
      "No data for Nevada and 2020\n",
      "Massachusetts(2021) number of indicents: 4\n",
      "Kentucky(2021) number of indicents: 4\n",
      "No data for New Jersey and 2025\n",
      "Washington(2019) number of indicents: 4\n",
      "Colorado(2016) number of indicents: 4\n",
      "Arizona(2016) number of indicents: 4\n",
      "No data for Colorado and 2025\n",
      "South Carolina(2018) number of indicents: 4\n",
      "Virginia(2018) number of indicents: 4\n",
      "Wisconsin(2018) number of indicents: 4\n",
      "New Mexico(2016) number of indicents: 4\n",
      "New Mexico(2019) number of indicents: 4\n",
      "Oklahoma(2019) number of indicents: 4\n",
      "Kentucky(2018) number of indicents: 4\n",
      "New Mexico(2022) number of indicents: 4\n",
      "Nevada(2018) number of indicents: 4\n",
      "Kansas(2019) number of indicents: 4\n",
      "No data for Iowa and 2020\n",
      "No data for Arizona and 2020\n",
      "Kansas(2017) number of indicents: 4\n",
      "No data for Arizona and 2025\n",
      "Kentucky(2015) number of indicents: 4\n",
      "No data for Wisconsin and 2025\n",
      "Nevada(2024) number of indicents: 4\n",
      "Alabama(2015) number of indicents: 4\n",
      "Connecticut(2022) number of indicents: 3\n",
      "Kansas(2022) number of indicents: 3\n",
      "Iowa(2019) number of indicents: 3\n",
      "Connecticut(2019) number of indicents: 3\n",
      "Nevada(2019) number of indicents: 3\n",
      "Massachusetts(2022) number of indicents: 3\n",
      "Washington(2017) number of indicents: 3\n",
      "Minnesota(2018) number of indicents: 3\n",
      "Nebraska(2018) number of indicents: 3\n",
      "Mississippi(2018) number of indicents: 3\n",
      "No data for Delaware and 2020\n",
      "No data for Nevada and 2025\n",
      "No data for West Virginia and 2020\n",
      "Wisconsin(2019) number of indicents: 3\n",
      "North Carolina(2014) number of indicents: 3\n",
      "No data for Connecticut and 2025\n",
      "Kansas(2024) number of indicents: 3\n",
      "Washington(2018) number of indicents: 3\n",
      "No data for Alaska and 2020\n",
      "Massachusetts(2016) number of indicents: 3\n",
      "Arkansas(2016) number of indicents: 3\n",
      "Arkansas(2017) number of indicents: 3\n",
      "Connecticut(2024) number of indicents: 3\n",
      "Wisconsin(2015) number of indicents: 3\n",
      "Arizona(2024) number of indicents: 3\n",
      "New Mexico(2023) number of indicents: 3\n",
      "Nevada(2016) number of indicents: 3\n",
      "Minnesota(2017) number of indicents: 3\n",
      "New Jersey(2024) number of indicents: 3\n",
      "West Virginia(2024) number of indicents: 3\n",
      "Nebraska(2015) number of indicents: 3\n",
      "Washington(2014) number of indicents: 3\n",
      "District of Columbia(2015) number of indicents: 3\n",
      "Colorado(2015) number of indicents: 3\n",
      "New Mexico(2015) number of indicents: 2\n",
      "Mississippi(2015) number of indicents: 2\n",
      "Alabama(2014) number of indicents: 2\n",
      "New Mexico(2024) number of indicents: 2\n",
      "South Dakota(2024) number of indicents: 2\n",
      "Iowa(2015) number of indicents: 2\n",
      "Connecticut(2015) number of indicents: 2\n",
      "Arkansas(2015) number of indicents: 2\n",
      "No data for Arkansas and 2025\n",
      "Utah(2024) number of indicents: 2\n",
      "Delaware(2016) number of indicents: 2\n",
      "Utah(2023) number of indicents: 2\n",
      "Kansas(2023) number of indicents: 2\n",
      "Maine(2023) number of indicents: 2\n",
      "New Mexico(2017) number of indicents: 2\n",
      "Oregon(2015) number of indicents: 2\n",
      "No data for Nebraska and 2025\n",
      "No data for Oregon and 2025\n",
      "Kansas(2021) number of indicents: 2\n",
      "Arkansas(2014) number of indicents: 2\n",
      "Connecticut(2021) number of indicents: 2\n",
      "No data for Oregon and 2020\n",
      "No data for New Mexico and 2020\n",
      "No data for Oklahoma and 2020\n",
      "Colorado(2014) number of indicents: 2\n",
      "Minnesota(2014) number of indicents: 2\n",
      "Oregon(2014) number of indicents: 2\n",
      "Utah(2014) number of indicents: 2\n",
      "Oklahoma(2014) number of indicents: 2\n",
      "No data for District of Columbia and 2025\n",
      "No data for Hawaii and 2025\n",
      "No data for Kentucky and 2025\n",
      "Oklahoma(2021) number of indicents: 2\n",
      "Rhode Island(2021) number of indicents: 2\n",
      "Iowa(2017) number of indicents: 2\n",
      "Oregon(2023) number of indicents: 2\n",
      "Delaware(2024) number of indicents: 2\n",
      "Connecticut(2017) number of indicents: 2\n",
      "Colorado(2017) number of indicents: 2\n",
      "Wisconsin(2016) number of indicents: 2\n",
      "Kentucky(2016) number of indicents: 2\n",
      "Wisconsin(2014) number of indicents: 2\n",
      "Oregon(2016) number of indicents: 2\n",
      "Wisconsin(2017) number of indicents: 2\n",
      "New Mexico(2018) number of indicents: 2\n",
      "Nebraska(2023) number of indicents: 2\n",
      "Iowa(2022) number of indicents: 2\n",
      "Kansas(2018) number of indicents: 2\n",
      "Nevada(2017) number of indicents: 2\n",
      "Arizona(2018) number of indicents: 2\n",
      "Connecticut(2018) number of indicents: 2\n",
      "Montana(2019) number of indicents: 2\n",
      "No data for Nebraska and 2020\n",
      "No data for Kansas and 2020\n",
      "Minnesota(2019) number of indicents: 2\n",
      "Delaware(2019) number of indicents: 2\n",
      "Wyoming(2019) number of indicents: 1\n",
      "Idaho(2021) number of indicents: 1\n",
      "No data for Utah and 2020\n",
      "Alaska(2021) number of indicents: 1\n",
      "West Virginia(2021) number of indicents: 1\n",
      "Utah(2021) number of indicents: 1\n",
      "South Dakota(2021) number of indicents: 1\n",
      "No data for South Dakota and 2020\n",
      "No data for New Mexico and 2025\n",
      "Nebraska(2021) number of indicents: 1\n",
      "No data for Montana and 2025\n",
      "No data for Massachusetts and 2025\n",
      "New Mexico(2021) number of indicents: 1\n",
      "New Hampshire(2021) number of indicents: 1\n",
      "No data for Iowa and 2025\n",
      "No data for Maine and 2025\n",
      "Maine(2014) number of indicents: 1\n",
      "South Dakota(2014) number of indicents: 1\n",
      "New Mexico(2014) number of indicents: 1\n",
      "Rhode Island(2014) number of indicents: 1\n",
      "No data for Delaware and 2025\n",
      "No data for Idaho and 2025\n",
      "Connecticut(2014) number of indicents: 1\n",
      "Maryland(2014) number of indicents: 1\n",
      "Nebraska(2019) number of indicents: 1\n",
      "Oregon(2019) number of indicents: 1\n",
      "No data for Idaho and 2020\n",
      "No data for Maine and 2020\n",
      "Iowa(2023) number of indicents: 1\n",
      "Idaho(2023) number of indicents: 1\n",
      "Delaware(2022) number of indicents: 1\n",
      "Massachusetts(2018) number of indicents: 1\n",
      "West Virginia(2016) number of indicents: 1\n",
      "Oklahoma(2016) number of indicents: 1\n",
      "Delaware(2018) number of indicents: 1\n",
      "Oklahoma(2017) number of indicents: 1\n",
      "Utah(2017) number of indicents: 1\n",
      "Montana(2017) number of indicents: 1\n",
      "Maine(2017) number of indicents: 1\n",
      "Massachusetts(2017) number of indicents: 1\n",
      "Delaware(2023) number of indicents: 1\n",
      "Connecticut(2023) number of indicents: 1\n",
      "Utah(2018) number of indicents: 1\n",
      "Hawaii(2023) number of indicents: 1\n",
      "New Hampshire(2023) number of indicents: 1\n",
      "Delaware(2017) number of indicents: 1\n",
      "North Dakota(2023) number of indicents: 1\n",
      "Alaska(2024) number of indicents: 1\n",
      "Rhode Island(2015) number of indicents: 1\n",
      "South Dakota(2015) number of indicents: 1\n",
      "Iowa(2024) number of indicents: 1\n",
      "Hawaii(2024) number of indicents: 1\n",
      "Vermont(2015) number of indicents: 1\n",
      "Washington(2015) number of indicents: 1\n",
      "Delaware(2015) number of indicents: 1\n",
      "Kansas(2015) number of indicents: 1\n",
      "Nebraska(2024) number of indicents: 1\n",
      "Nevada(2015) number of indicents: 1\n",
      "Montana(2015) number of indicents: 1\n",
      "Arizona(2014) number of indicents: 1\n",
      "Alaska(2014) number of indicents: 1\n",
      "No data for Utah and 2025\n",
      "No data for West Virginia and 2025\n",
      "No data for Wyoming and 2025\n"
     ]
    },
    {
     "data": {
      "text/html": [
       "<div>\n",
       "<style scoped>\n",
       "    .dataframe tbody tr th:only-of-type {\n",
       "        vertical-align: middle;\n",
       "    }\n",
       "\n",
       "    .dataframe tbody tr th {\n",
       "        vertical-align: top;\n",
       "    }\n",
       "\n",
       "    .dataframe thead th {\n",
       "        text-align: right;\n",
       "    }\n",
       "</style>\n",
       "<table border=\"1\" class=\"dataframe\">\n",
       "  <thead>\n",
       "    <tr style=\"text-align: right;\">\n",
       "      <th></th>\n",
       "      <th>year</th>\n",
       "      <th>State</th>\n",
       "      <th>Population_25plus</th>\n",
       "      <th>Total_Population</th>\n",
       "      <th>%Pop_over_25_vs_Total</th>\n",
       "      <th>%Without_Min_Studies</th>\n",
       "      <th>%HighSchool</th>\n",
       "      <th>%Bachelor</th>\n",
       "      <th>%Master_Degree</th>\n",
       "      <th>%Doctorate_Degree</th>\n",
       "      <th>%Deadliest</th>\n",
       "      <th>Incident_Count</th>\n",
       "      <th>Total_Killed</th>\n",
       "      <th>Total_Injured</th>\n",
       "      <th>Total_Victims</th>\n",
       "      <th>Incidents_per_100k</th>\n",
       "    </tr>\n",
       "  </thead>\n",
       "  <tbody>\n",
       "    <tr>\n",
       "      <th>0</th>\n",
       "      <td>2021</td>\n",
       "      <td>Illinois</td>\n",
       "      <td>8730697</td>\n",
       "      <td>12671469</td>\n",
       "      <td>68.90</td>\n",
       "      <td>1.89</td>\n",
       "      <td>21.49</td>\n",
       "      <td>22.13</td>\n",
       "      <td>11.02</td>\n",
       "      <td>1.55</td>\n",
       "      <td>13.84</td>\n",
       "      <td>86</td>\n",
       "      <td>62</td>\n",
       "      <td>386</td>\n",
       "      <td>448</td>\n",
       "      <td>0.678690</td>\n",
       "    </tr>\n",
       "    <tr>\n",
       "      <th>1</th>\n",
       "      <td>2023</td>\n",
       "      <td>Texas</td>\n",
       "      <td>20029447</td>\n",
       "      <td>30503301</td>\n",
       "      <td>65.66</td>\n",
       "      <td>3.15</td>\n",
       "      <td>19.86</td>\n",
       "      <td>21.59</td>\n",
       "      <td>9.31</td>\n",
       "      <td>1.42</td>\n",
       "      <td>23.65</td>\n",
       "      <td>65</td>\n",
       "      <td>83</td>\n",
       "      <td>268</td>\n",
       "      <td>351</td>\n",
       "      <td>0.213092</td>\n",
       "    </tr>\n",
       "    <tr>\n",
       "      <th>2</th>\n",
       "      <td>2022</td>\n",
       "      <td>Illinois</td>\n",
       "      <td>8692839</td>\n",
       "      <td>12582032</td>\n",
       "      <td>69.09</td>\n",
       "      <td>2.12</td>\n",
       "      <td>21.40</td>\n",
       "      <td>22.47</td>\n",
       "      <td>11.14</td>\n",
       "      <td>1.62</td>\n",
       "      <td>16.45</td>\n",
       "      <td>58</td>\n",
       "      <td>51</td>\n",
       "      <td>259</td>\n",
       "      <td>310</td>\n",
       "      <td>0.460975</td>\n",
       "    </tr>\n",
       "    <tr>\n",
       "      <th>3</th>\n",
       "      <td>2021</td>\n",
       "      <td>Texas</td>\n",
       "      <td>19224688</td>\n",
       "      <td>29527941</td>\n",
       "      <td>65.11</td>\n",
       "      <td>3.07</td>\n",
       "      <td>20.25</td>\n",
       "      <td>21.21</td>\n",
       "      <td>8.66</td>\n",
       "      <td>1.38</td>\n",
       "      <td>22.77</td>\n",
       "      <td>57</td>\n",
       "      <td>69</td>\n",
       "      <td>234</td>\n",
       "      <td>303</td>\n",
       "      <td>0.193038</td>\n",
       "    </tr>\n",
       "    <tr>\n",
       "      <th>4</th>\n",
       "      <td>2023</td>\n",
       "      <td>Illinois</td>\n",
       "      <td>8710996</td>\n",
       "      <td>12549689</td>\n",
       "      <td>69.41</td>\n",
       "      <td>2.21</td>\n",
       "      <td>21.42</td>\n",
       "      <td>22.77</td>\n",
       "      <td>11.37</td>\n",
       "      <td>1.60</td>\n",
       "      <td>19.57</td>\n",
       "      <td>51</td>\n",
       "      <td>54</td>\n",
       "      <td>222</td>\n",
       "      <td>276</td>\n",
       "      <td>0.406385</td>\n",
       "    </tr>\n",
       "    <tr>\n",
       "      <th>...</th>\n",
       "      <td>...</td>\n",
       "      <td>...</td>\n",
       "      <td>...</td>\n",
       "      <td>...</td>\n",
       "      <td>...</td>\n",
       "      <td>...</td>\n",
       "      <td>...</td>\n",
       "      <td>...</td>\n",
       "      <td>...</td>\n",
       "      <td>...</td>\n",
       "      <td>...</td>\n",
       "      <td>...</td>\n",
       "      <td>...</td>\n",
       "      <td>...</td>\n",
       "      <td>...</td>\n",
       "      <td>...</td>\n",
       "    </tr>\n",
       "    <tr>\n",
       "      <th>398</th>\n",
       "      <td>2024</td>\n",
       "      <td>Nebraska</td>\n",
       "      <td>1326807</td>\n",
       "      <td>2005466</td>\n",
       "      <td>66.16</td>\n",
       "      <td>2.24</td>\n",
       "      <td>21.93</td>\n",
       "      <td>22.32</td>\n",
       "      <td>9.40</td>\n",
       "      <td>1.64</td>\n",
       "      <td>12.50</td>\n",
       "      <td>1</td>\n",
       "      <td>1</td>\n",
       "      <td>7</td>\n",
       "      <td>8</td>\n",
       "      <td>0.049864</td>\n",
       "    </tr>\n",
       "    <tr>\n",
       "      <th>399</th>\n",
       "      <td>2015</td>\n",
       "      <td>Nevada</td>\n",
       "      <td>1968167</td>\n",
       "      <td>2890845</td>\n",
       "      <td>68.08</td>\n",
       "      <td>1.88</td>\n",
       "      <td>24.07</td>\n",
       "      <td>15.49</td>\n",
       "      <td>5.70</td>\n",
       "      <td>0.93</td>\n",
       "      <td>25.00</td>\n",
       "      <td>1</td>\n",
       "      <td>1</td>\n",
       "      <td>3</td>\n",
       "      <td>4</td>\n",
       "      <td>0.034592</td>\n",
       "    </tr>\n",
       "    <tr>\n",
       "      <th>400</th>\n",
       "      <td>2015</td>\n",
       "      <td>Montana</td>\n",
       "      <td>706329</td>\n",
       "      <td>1032949</td>\n",
       "      <td>68.38</td>\n",
       "      <td>0.54</td>\n",
       "      <td>27.06</td>\n",
       "      <td>20.41</td>\n",
       "      <td>7.09</td>\n",
       "      <td>1.43</td>\n",
       "      <td>100.00</td>\n",
       "      <td>1</td>\n",
       "      <td>5</td>\n",
       "      <td>0</td>\n",
       "      <td>5</td>\n",
       "      <td>0.096810</td>\n",
       "    </tr>\n",
       "    <tr>\n",
       "      <th>401</th>\n",
       "      <td>2014</td>\n",
       "      <td>Arizona</td>\n",
       "      <td>4436226</td>\n",
       "      <td>6731484</td>\n",
       "      <td>65.90</td>\n",
       "      <td>1.74</td>\n",
       "      <td>20.27</td>\n",
       "      <td>17.26</td>\n",
       "      <td>7.40</td>\n",
       "      <td>1.21</td>\n",
       "      <td>25.00</td>\n",
       "      <td>1</td>\n",
       "      <td>1</td>\n",
       "      <td>3</td>\n",
       "      <td>4</td>\n",
       "      <td>0.014856</td>\n",
       "    </tr>\n",
       "    <tr>\n",
       "      <th>402</th>\n",
       "      <td>2014</td>\n",
       "      <td>Alaska</td>\n",
       "      <td>465149</td>\n",
       "      <td>736732</td>\n",
       "      <td>63.14</td>\n",
       "      <td>0.89</td>\n",
       "      <td>23.33</td>\n",
       "      <td>18.41</td>\n",
       "      <td>7.12</td>\n",
       "      <td>0.93</td>\n",
       "      <td>0.00</td>\n",
       "      <td>1</td>\n",
       "      <td>0</td>\n",
       "      <td>6</td>\n",
       "      <td>6</td>\n",
       "      <td>0.135735</td>\n",
       "    </tr>\n",
       "  </tbody>\n",
       "</table>\n",
       "<p>403 rows × 16 columns</p>\n",
       "</div>"
      ],
      "text/plain": [
       "     year     State  Population_25plus  Total_Population  \\\n",
       "0    2021  Illinois            8730697          12671469   \n",
       "1    2023     Texas           20029447          30503301   \n",
       "2    2022  Illinois            8692839          12582032   \n",
       "3    2021     Texas           19224688          29527941   \n",
       "4    2023  Illinois            8710996          12549689   \n",
       "..    ...       ...                ...               ...   \n",
       "398  2024  Nebraska            1326807           2005466   \n",
       "399  2015    Nevada            1968167           2890845   \n",
       "400  2015   Montana             706329           1032949   \n",
       "401  2014   Arizona            4436226           6731484   \n",
       "402  2014    Alaska             465149            736732   \n",
       "\n",
       "     %Pop_over_25_vs_Total  %Without_Min_Studies  %HighSchool  %Bachelor  \\\n",
       "0                    68.90                  1.89        21.49      22.13   \n",
       "1                    65.66                  3.15        19.86      21.59   \n",
       "2                    69.09                  2.12        21.40      22.47   \n",
       "3                    65.11                  3.07        20.25      21.21   \n",
       "4                    69.41                  2.21        21.42      22.77   \n",
       "..                     ...                   ...          ...        ...   \n",
       "398                  66.16                  2.24        21.93      22.32   \n",
       "399                  68.08                  1.88        24.07      15.49   \n",
       "400                  68.38                  0.54        27.06      20.41   \n",
       "401                  65.90                  1.74        20.27      17.26   \n",
       "402                  63.14                  0.89        23.33      18.41   \n",
       "\n",
       "     %Master_Degree  %Doctorate_Degree  %Deadliest  Incident_Count  \\\n",
       "0             11.02               1.55       13.84              86   \n",
       "1              9.31               1.42       23.65              65   \n",
       "2             11.14               1.62       16.45              58   \n",
       "3              8.66               1.38       22.77              57   \n",
       "4             11.37               1.60       19.57              51   \n",
       "..              ...                ...         ...             ...   \n",
       "398            9.40               1.64       12.50               1   \n",
       "399            5.70               0.93       25.00               1   \n",
       "400            7.09               1.43      100.00               1   \n",
       "401            7.40               1.21       25.00               1   \n",
       "402            7.12               0.93        0.00               1   \n",
       "\n",
       "     Total_Killed  Total_Injured  Total_Victims  Incidents_per_100k  \n",
       "0              62            386            448            0.678690  \n",
       "1              83            268            351            0.213092  \n",
       "2              51            259            310            0.460975  \n",
       "3              69            234            303            0.193038  \n",
       "4              54            222            276            0.406385  \n",
       "..            ...            ...            ...                 ...  \n",
       "398             1              7              8            0.049864  \n",
       "399             1              3              4            0.034592  \n",
       "400             5              0              5            0.096810  \n",
       "401             1              3              4            0.014856  \n",
       "402             0              6              6            0.135735  \n",
       "\n",
       "[403 rows x 16 columns]"
      ]
     },
     "execution_count": 290,
     "metadata": {},
     "output_type": "execute_result"
    }
   ],
   "source": [
    "results=[]\n",
    "for _,row in top_20.iterrows():\n",
    "    year=row[\"year\"]\n",
    "    state=row[\"State\"]\n",
    "    analysis=state_summary(df,df_eduPop,state,year)\n",
    "    if analysis is not None and not analysis.empty:\n",
    "        results.append(analysis)\n",
    "   \n",
    "df_top20_analysis=pd.concat(results,ignore_index=True)\n",
    "df_top20_analysis\n",
    "\n",
    "\n",
    "    "
   ]
  },
  {
   "cell_type": "code",
   "execution_count": null,
   "id": "255f6c78",
   "metadata": {},
   "outputs": [
    {
     "data": {
      "text/html": [
       "<div>\n",
       "<style scoped>\n",
       "    .dataframe tbody tr th:only-of-type {\n",
       "        vertical-align: middle;\n",
       "    }\n",
       "\n",
       "    .dataframe tbody tr th {\n",
       "        vertical-align: top;\n",
       "    }\n",
       "\n",
       "    .dataframe thead tr th {\n",
       "        text-align: left;\n",
       "    }\n",
       "\n",
       "    .dataframe thead tr:last-of-type th {\n",
       "        text-align: right;\n",
       "    }\n",
       "</style>\n",
       "<table border=\"1\" class=\"dataframe\">\n",
       "  <thead>\n",
       "    <tr>\n",
       "      <th></th>\n",
       "      <th colspan=\"10\" halign=\"left\">%HighSchool</th>\n",
       "      <th>...</th>\n",
       "      <th colspan=\"10\" halign=\"left\">Incidents_per_100k</th>\n",
       "    </tr>\n",
       "    <tr>\n",
       "      <th>year</th>\n",
       "      <th>2014</th>\n",
       "      <th>2015</th>\n",
       "      <th>2016</th>\n",
       "      <th>2017</th>\n",
       "      <th>2018</th>\n",
       "      <th>2019</th>\n",
       "      <th>2021</th>\n",
       "      <th>2022</th>\n",
       "      <th>2023</th>\n",
       "      <th>2024</th>\n",
       "      <th>...</th>\n",
       "      <th>2014</th>\n",
       "      <th>2015</th>\n",
       "      <th>2016</th>\n",
       "      <th>2017</th>\n",
       "      <th>2018</th>\n",
       "      <th>2019</th>\n",
       "      <th>2021</th>\n",
       "      <th>2022</th>\n",
       "      <th>2023</th>\n",
       "      <th>2024</th>\n",
       "    </tr>\n",
       "    <tr>\n",
       "      <th>State</th>\n",
       "      <th></th>\n",
       "      <th></th>\n",
       "      <th></th>\n",
       "      <th></th>\n",
       "      <th></th>\n",
       "      <th></th>\n",
       "      <th></th>\n",
       "      <th></th>\n",
       "      <th></th>\n",
       "      <th></th>\n",
       "      <th></th>\n",
       "      <th></th>\n",
       "      <th></th>\n",
       "      <th></th>\n",
       "      <th></th>\n",
       "      <th></th>\n",
       "      <th></th>\n",
       "      <th></th>\n",
       "      <th></th>\n",
       "      <th></th>\n",
       "      <th></th>\n",
       "    </tr>\n",
       "  </thead>\n",
       "  <tbody>\n",
       "    <tr>\n",
       "      <th>Alabama</th>\n",
       "      <td>26.02</td>\n",
       "      <td>25.10</td>\n",
       "      <td>25.19</td>\n",
       "      <td>25.69</td>\n",
       "      <td>25.41</td>\n",
       "      <td>25.67</td>\n",
       "      <td>26.16</td>\n",
       "      <td>25.16</td>\n",
       "      <td>24.94</td>\n",
       "      <td>24.60</td>\n",
       "      <td>...</td>\n",
       "      <td>0.041242</td>\n",
       "      <td>0.082322</td>\n",
       "      <td>0.308433</td>\n",
       "      <td>0.143597</td>\n",
       "      <td>0.286423</td>\n",
       "      <td>0.244739</td>\n",
       "      <td>0.436519</td>\n",
       "      <td>0.315315</td>\n",
       "      <td>0.215329</td>\n",
       "      <td>0.484712</td>\n",
       "    </tr>\n",
       "    <tr>\n",
       "      <th>Alaska</th>\n",
       "      <td>23.33</td>\n",
       "      <td>NaN</td>\n",
       "      <td>NaN</td>\n",
       "      <td>NaN</td>\n",
       "      <td>NaN</td>\n",
       "      <td>NaN</td>\n",
       "      <td>22.50</td>\n",
       "      <td>NaN</td>\n",
       "      <td>NaN</td>\n",
       "      <td>23.87</td>\n",
       "      <td>...</td>\n",
       "      <td>0.135735</td>\n",
       "      <td>NaN</td>\n",
       "      <td>NaN</td>\n",
       "      <td>NaN</td>\n",
       "      <td>NaN</td>\n",
       "      <td>NaN</td>\n",
       "      <td>0.136487</td>\n",
       "      <td>NaN</td>\n",
       "      <td>NaN</td>\n",
       "      <td>0.135111</td>\n",
       "    </tr>\n",
       "    <tr>\n",
       "      <th>Arizona</th>\n",
       "      <td>20.27</td>\n",
       "      <td>20.36</td>\n",
       "      <td>19.99</td>\n",
       "      <td>20.16</td>\n",
       "      <td>20.04</td>\n",
       "      <td>19.56</td>\n",
       "      <td>19.43</td>\n",
       "      <td>19.72</td>\n",
       "      <td>19.18</td>\n",
       "      <td>19.34</td>\n",
       "      <td>...</td>\n",
       "      <td>0.014856</td>\n",
       "      <td>0.087873</td>\n",
       "      <td>0.057711</td>\n",
       "      <td>0.071263</td>\n",
       "      <td>0.027888</td>\n",
       "      <td>0.068693</td>\n",
       "      <td>0.068716</td>\n",
       "      <td>0.176650</td>\n",
       "      <td>0.121109</td>\n",
       "      <td>0.039565</td>\n",
       "    </tr>\n",
       "    <tr>\n",
       "      <th>Arkansas</th>\n",
       "      <td>28.88</td>\n",
       "      <td>27.68</td>\n",
       "      <td>27.74</td>\n",
       "      <td>27.74</td>\n",
       "      <td>28.22</td>\n",
       "      <td>28.53</td>\n",
       "      <td>28.11</td>\n",
       "      <td>28.35</td>\n",
       "      <td>28.40</td>\n",
       "      <td>27.44</td>\n",
       "      <td>...</td>\n",
       "      <td>0.067422</td>\n",
       "      <td>0.067155</td>\n",
       "      <td>0.100393</td>\n",
       "      <td>0.099858</td>\n",
       "      <td>0.199083</td>\n",
       "      <td>0.165683</td>\n",
       "      <td>0.165241</td>\n",
       "      <td>0.164169</td>\n",
       "      <td>0.293376</td>\n",
       "      <td>0.194278</td>\n",
       "    </tr>\n",
       "    <tr>\n",
       "      <th>California</th>\n",
       "      <td>18.59</td>\n",
       "      <td>18.54</td>\n",
       "      <td>18.19</td>\n",
       "      <td>18.51</td>\n",
       "      <td>18.39</td>\n",
       "      <td>18.29</td>\n",
       "      <td>18.25</td>\n",
       "      <td>18.04</td>\n",
       "      <td>17.89</td>\n",
       "      <td>17.99</td>\n",
       "      <td>...</td>\n",
       "      <td>0.103086</td>\n",
       "      <td>0.068975</td>\n",
       "      <td>0.114650</td>\n",
       "      <td>0.096113</td>\n",
       "      <td>0.088480</td>\n",
       "      <td>0.124012</td>\n",
       "      <td>0.114685</td>\n",
       "      <td>0.125547</td>\n",
       "      <td>0.130886</td>\n",
       "      <td>0.088762</td>\n",
       "    </tr>\n",
       "    <tr>\n",
       "      <th>Colorado</th>\n",
       "      <td>17.87</td>\n",
       "      <td>17.92</td>\n",
       "      <td>17.97</td>\n",
       "      <td>17.41</td>\n",
       "      <td>16.96</td>\n",
       "      <td>17.06</td>\n",
       "      <td>16.29</td>\n",
       "      <td>16.42</td>\n",
       "      <td>15.57</td>\n",
       "      <td>15.18</td>\n",
       "      <td>...</td>\n",
       "      <td>0.037342</td>\n",
       "      <td>0.054980</td>\n",
       "      <td>0.072195</td>\n",
       "      <td>0.035669</td>\n",
       "      <td>0.140460</td>\n",
       "      <td>0.086825</td>\n",
       "      <td>0.223672</td>\n",
       "      <td>0.222606</td>\n",
       "      <td>0.272219</td>\n",
       "      <td>0.100713</td>\n",
       "    </tr>\n",
       "    <tr>\n",
       "      <th>Connecticut</th>\n",
       "      <td>24.26</td>\n",
       "      <td>24.15</td>\n",
       "      <td>24.21</td>\n",
       "      <td>24.04</td>\n",
       "      <td>23.84</td>\n",
       "      <td>23.53</td>\n",
       "      <td>22.44</td>\n",
       "      <td>22.35</td>\n",
       "      <td>22.26</td>\n",
       "      <td>21.92</td>\n",
       "      <td>...</td>\n",
       "      <td>0.027803</td>\n",
       "      <td>0.055697</td>\n",
       "      <td>0.167764</td>\n",
       "      <td>0.055739</td>\n",
       "      <td>0.055981</td>\n",
       "      <td>0.084145</td>\n",
       "      <td>0.055469</td>\n",
       "      <td>0.082731</td>\n",
       "      <td>0.027646</td>\n",
       "      <td>0.081631</td>\n",
       "    </tr>\n",
       "    <tr>\n",
       "      <th>Delaware</th>\n",
       "      <td>NaN</td>\n",
       "      <td>26.25</td>\n",
       "      <td>28.48</td>\n",
       "      <td>29.13</td>\n",
       "      <td>30.31</td>\n",
       "      <td>26.68</td>\n",
       "      <td>25.12</td>\n",
       "      <td>24.90</td>\n",
       "      <td>24.80</td>\n",
       "      <td>25.29</td>\n",
       "      <td>...</td>\n",
       "      <td>NaN</td>\n",
       "      <td>0.105716</td>\n",
       "      <td>0.210070</td>\n",
       "      <td>0.103957</td>\n",
       "      <td>0.103394</td>\n",
       "      <td>0.205389</td>\n",
       "      <td>0.597976</td>\n",
       "      <td>0.098194</td>\n",
       "      <td>0.096910</td>\n",
       "      <td>0.190129</td>\n",
       "    </tr>\n",
       "    <tr>\n",
       "      <th>District of Columbia</th>\n",
       "      <td>15.41</td>\n",
       "      <td>14.78</td>\n",
       "      <td>15.41</td>\n",
       "      <td>14.63</td>\n",
       "      <td>13.57</td>\n",
       "      <td>13.36</td>\n",
       "      <td>12.49</td>\n",
       "      <td>11.14</td>\n",
       "      <td>10.28</td>\n",
       "      <td>11.60</td>\n",
       "      <td>...</td>\n",
       "      <td>0.910618</td>\n",
       "      <td>0.446277</td>\n",
       "      <td>0.734031</td>\n",
       "      <td>0.720490</td>\n",
       "      <td>0.854147</td>\n",
       "      <td>0.991854</td>\n",
       "      <td>2.387882</td>\n",
       "      <td>1.339678</td>\n",
       "      <td>1.620096</td>\n",
       "      <td>1.708793</td>\n",
       "    </tr>\n",
       "    <tr>\n",
       "      <th>Florida</th>\n",
       "      <td>25.34</td>\n",
       "      <td>24.98</td>\n",
       "      <td>24.68</td>\n",
       "      <td>24.71</td>\n",
       "      <td>24.52</td>\n",
       "      <td>24.15</td>\n",
       "      <td>23.39</td>\n",
       "      <td>23.08</td>\n",
       "      <td>22.55</td>\n",
       "      <td>22.29</td>\n",
       "      <td>...</td>\n",
       "      <td>0.085456</td>\n",
       "      <td>0.128260</td>\n",
       "      <td>0.145543</td>\n",
       "      <td>0.114371</td>\n",
       "      <td>0.140850</td>\n",
       "      <td>0.069840</td>\n",
       "      <td>0.142325</td>\n",
       "      <td>0.139358</td>\n",
       "      <td>0.132680</td>\n",
       "      <td>0.136915</td>\n",
       "    </tr>\n",
       "    <tr>\n",
       "      <th>Georgia</th>\n",
       "      <td>23.61</td>\n",
       "      <td>23.35</td>\n",
       "      <td>22.85</td>\n",
       "      <td>23.32</td>\n",
       "      <td>23.10</td>\n",
       "      <td>22.76</td>\n",
       "      <td>21.92</td>\n",
       "      <td>22.10</td>\n",
       "      <td>21.57</td>\n",
       "      <td>21.67</td>\n",
       "      <td>...</td>\n",
       "      <td>0.178265</td>\n",
       "      <td>0.195793</td>\n",
       "      <td>0.164883</td>\n",
       "      <td>0.086295</td>\n",
       "      <td>0.076049</td>\n",
       "      <td>0.178951</td>\n",
       "      <td>0.203712</td>\n",
       "      <td>0.265741</td>\n",
       "      <td>0.226670</td>\n",
       "      <td>0.214652</td>\n",
       "    </tr>\n",
       "    <tr>\n",
       "      <th>Hawaii</th>\n",
       "      <td>NaN</td>\n",
       "      <td>NaN</td>\n",
       "      <td>NaN</td>\n",
       "      <td>NaN</td>\n",
       "      <td>NaN</td>\n",
       "      <td>NaN</td>\n",
       "      <td>NaN</td>\n",
       "      <td>NaN</td>\n",
       "      <td>23.43</td>\n",
       "      <td>24.29</td>\n",
       "      <td>...</td>\n",
       "      <td>NaN</td>\n",
       "      <td>NaN</td>\n",
       "      <td>NaN</td>\n",
       "      <td>NaN</td>\n",
       "      <td>NaN</td>\n",
       "      <td>NaN</td>\n",
       "      <td>NaN</td>\n",
       "      <td>NaN</td>\n",
       "      <td>0.069680</td>\n",
       "      <td>0.069149</td>\n",
       "    </tr>\n",
       "    <tr>\n",
       "      <th>Idaho</th>\n",
       "      <td>NaN</td>\n",
       "      <td>NaN</td>\n",
       "      <td>NaN</td>\n",
       "      <td>NaN</td>\n",
       "      <td>NaN</td>\n",
       "      <td>NaN</td>\n",
       "      <td>22.00</td>\n",
       "      <td>NaN</td>\n",
       "      <td>21.08</td>\n",
       "      <td>NaN</td>\n",
       "      <td>...</td>\n",
       "      <td>NaN</td>\n",
       "      <td>NaN</td>\n",
       "      <td>NaN</td>\n",
       "      <td>NaN</td>\n",
       "      <td>NaN</td>\n",
       "      <td>NaN</td>\n",
       "      <td>0.052606</td>\n",
       "      <td>NaN</td>\n",
       "      <td>0.050898</td>\n",
       "      <td>NaN</td>\n",
       "    </tr>\n",
       "    <tr>\n",
       "      <th>Illinois</th>\n",
       "      <td>22.99</td>\n",
       "      <td>23.14</td>\n",
       "      <td>22.42</td>\n",
       "      <td>22.48</td>\n",
       "      <td>22.45</td>\n",
       "      <td>22.26</td>\n",
       "      <td>21.49</td>\n",
       "      <td>21.40</td>\n",
       "      <td>21.42</td>\n",
       "      <td>20.93</td>\n",
       "      <td>...</td>\n",
       "      <td>0.209618</td>\n",
       "      <td>0.194401</td>\n",
       "      <td>0.328086</td>\n",
       "      <td>0.289017</td>\n",
       "      <td>0.274702</td>\n",
       "      <td>0.323553</td>\n",
       "      <td>0.678690</td>\n",
       "      <td>0.460975</td>\n",
       "      <td>0.406385</td>\n",
       "      <td>0.283238</td>\n",
       "    </tr>\n",
       "    <tr>\n",
       "      <th>Indiana</th>\n",
       "      <td>29.10</td>\n",
       "      <td>29.21</td>\n",
       "      <td>28.48</td>\n",
       "      <td>27.42</td>\n",
       "      <td>28.09</td>\n",
       "      <td>28.58</td>\n",
       "      <td>27.83</td>\n",
       "      <td>26.84</td>\n",
       "      <td>26.94</td>\n",
       "      <td>26.71</td>\n",
       "      <td>...</td>\n",
       "      <td>0.121270</td>\n",
       "      <td>0.135958</td>\n",
       "      <td>0.120608</td>\n",
       "      <td>0.104998</td>\n",
       "      <td>0.089661</td>\n",
       "      <td>0.148539</td>\n",
       "      <td>0.205701</td>\n",
       "      <td>0.219522</td>\n",
       "      <td>0.218589</td>\n",
       "      <td>0.158861</td>\n",
       "    </tr>\n",
       "    <tr>\n",
       "      <th>Iowa</th>\n",
       "      <td>NaN</td>\n",
       "      <td>27.90</td>\n",
       "      <td>NaN</td>\n",
       "      <td>26.50</td>\n",
       "      <td>NaN</td>\n",
       "      <td>27.10</td>\n",
       "      <td>26.32</td>\n",
       "      <td>25.60</td>\n",
       "      <td>25.74</td>\n",
       "      <td>25.10</td>\n",
       "      <td>...</td>\n",
       "      <td>NaN</td>\n",
       "      <td>0.064023</td>\n",
       "      <td>NaN</td>\n",
       "      <td>0.063579</td>\n",
       "      <td>NaN</td>\n",
       "      <td>0.095085</td>\n",
       "      <td>0.156589</td>\n",
       "      <td>0.062490</td>\n",
       "      <td>0.031182</td>\n",
       "      <td>0.030850</td>\n",
       "    </tr>\n",
       "    <tr>\n",
       "      <th>Kansas</th>\n",
       "      <td>NaN</td>\n",
       "      <td>22.36</td>\n",
       "      <td>22.17</td>\n",
       "      <td>21.97</td>\n",
       "      <td>21.32</td>\n",
       "      <td>22.11</td>\n",
       "      <td>21.30</td>\n",
       "      <td>21.05</td>\n",
       "      <td>20.97</td>\n",
       "      <td>21.18</td>\n",
       "      <td>...</td>\n",
       "      <td>NaN</td>\n",
       "      <td>0.034345</td>\n",
       "      <td>0.171982</td>\n",
       "      <td>0.137310</td>\n",
       "      <td>0.068693</td>\n",
       "      <td>0.137301</td>\n",
       "      <td>0.068153</td>\n",
       "      <td>0.102140</td>\n",
       "      <td>0.068015</td>\n",
       "      <td>0.100989</td>\n",
       "    </tr>\n",
       "    <tr>\n",
       "      <th>Kentucky</th>\n",
       "      <td>26.61</td>\n",
       "      <td>26.76</td>\n",
       "      <td>25.69</td>\n",
       "      <td>26.31</td>\n",
       "      <td>25.94</td>\n",
       "      <td>26.73</td>\n",
       "      <td>26.15</td>\n",
       "      <td>26.07</td>\n",
       "      <td>26.53</td>\n",
       "      <td>26.05</td>\n",
       "      <td>...</td>\n",
       "      <td>0.090632</td>\n",
       "      <td>0.090394</td>\n",
       "      <td>0.045076</td>\n",
       "      <td>0.134705</td>\n",
       "      <td>0.089517</td>\n",
       "      <td>0.111915</td>\n",
       "      <td>0.088704</td>\n",
       "      <td>0.199454</td>\n",
       "      <td>0.176751</td>\n",
       "      <td>0.261531</td>\n",
       "    </tr>\n",
       "    <tr>\n",
       "      <th>Louisiana</th>\n",
       "      <td>28.65</td>\n",
       "      <td>28.58</td>\n",
       "      <td>28.61</td>\n",
       "      <td>28.75</td>\n",
       "      <td>28.90</td>\n",
       "      <td>28.45</td>\n",
       "      <td>27.29</td>\n",
       "      <td>27.16</td>\n",
       "      <td>27.44</td>\n",
       "      <td>27.49</td>\n",
       "      <td>...</td>\n",
       "      <td>0.236576</td>\n",
       "      <td>0.321149</td>\n",
       "      <td>0.299039</td>\n",
       "      <td>0.320216</td>\n",
       "      <td>0.278971</td>\n",
       "      <td>0.559285</td>\n",
       "      <td>0.735287</td>\n",
       "      <td>0.609990</td>\n",
       "      <td>0.721509</td>\n",
       "      <td>0.456746</td>\n",
       "    </tr>\n",
       "    <tr>\n",
       "      <th>Maine</th>\n",
       "      <td>27.42</td>\n",
       "      <td>NaN</td>\n",
       "      <td>NaN</td>\n",
       "      <td>26.01</td>\n",
       "      <td>NaN</td>\n",
       "      <td>NaN</td>\n",
       "      <td>NaN</td>\n",
       "      <td>NaN</td>\n",
       "      <td>24.72</td>\n",
       "      <td>NaN</td>\n",
       "      <td>...</td>\n",
       "      <td>0.075183</td>\n",
       "      <td>NaN</td>\n",
       "      <td>NaN</td>\n",
       "      <td>0.074856</td>\n",
       "      <td>NaN</td>\n",
       "      <td>NaN</td>\n",
       "      <td>NaN</td>\n",
       "      <td>NaN</td>\n",
       "      <td>0.143295</td>\n",
       "      <td>NaN</td>\n",
       "    </tr>\n",
       "    <tr>\n",
       "      <th>Maryland</th>\n",
       "      <td>22.58</td>\n",
       "      <td>21.99</td>\n",
       "      <td>22.19</td>\n",
       "      <td>21.40</td>\n",
       "      <td>21.07</td>\n",
       "      <td>21.60</td>\n",
       "      <td>20.78</td>\n",
       "      <td>20.59</td>\n",
       "      <td>20.85</td>\n",
       "      <td>20.13</td>\n",
       "      <td>...</td>\n",
       "      <td>0.016732</td>\n",
       "      <td>0.216436</td>\n",
       "      <td>0.182832</td>\n",
       "      <td>0.132184</td>\n",
       "      <td>0.148940</td>\n",
       "      <td>0.330815</td>\n",
       "      <td>0.308185</td>\n",
       "      <td>0.308208</td>\n",
       "      <td>0.355972</td>\n",
       "      <td>0.095797</td>\n",
       "    </tr>\n",
       "    <tr>\n",
       "      <th>Massachusetts</th>\n",
       "      <td>22.08</td>\n",
       "      <td>22.33</td>\n",
       "      <td>21.66</td>\n",
       "      <td>21.58</td>\n",
       "      <td>20.61</td>\n",
       "      <td>20.94</td>\n",
       "      <td>19.91</td>\n",
       "      <td>20.22</td>\n",
       "      <td>19.89</td>\n",
       "      <td>19.24</td>\n",
       "      <td>...</td>\n",
       "      <td>0.059300</td>\n",
       "      <td>0.073590</td>\n",
       "      <td>0.044041</td>\n",
       "      <td>0.014578</td>\n",
       "      <td>0.014488</td>\n",
       "      <td>0.072543</td>\n",
       "      <td>0.057268</td>\n",
       "      <td>0.042968</td>\n",
       "      <td>0.099980</td>\n",
       "      <td>0.084079</td>\n",
       "    </tr>\n",
       "    <tr>\n",
       "      <th>Michigan</th>\n",
       "      <td>25.59</td>\n",
       "      <td>25.33</td>\n",
       "      <td>25.18</td>\n",
       "      <td>25.01</td>\n",
       "      <td>24.67</td>\n",
       "      <td>25.13</td>\n",
       "      <td>24.70</td>\n",
       "      <td>24.09</td>\n",
       "      <td>23.66</td>\n",
       "      <td>23.65</td>\n",
       "      <td>...</td>\n",
       "      <td>0.100909</td>\n",
       "      <td>0.110858</td>\n",
       "      <td>0.110794</td>\n",
       "      <td>0.080303</td>\n",
       "      <td>0.080033</td>\n",
       "      <td>0.090118</td>\n",
       "      <td>0.248736</td>\n",
       "      <td>0.239184</td>\n",
       "      <td>0.139480</td>\n",
       "      <td>0.138061</td>\n",
       "    </tr>\n",
       "    <tr>\n",
       "      <th>Minnesota</th>\n",
       "      <td>22.55</td>\n",
       "      <td>22.25</td>\n",
       "      <td>22.04</td>\n",
       "      <td>21.74</td>\n",
       "      <td>21.14</td>\n",
       "      <td>21.42</td>\n",
       "      <td>20.21</td>\n",
       "      <td>20.35</td>\n",
       "      <td>20.29</td>\n",
       "      <td>19.87</td>\n",
       "      <td>...</td>\n",
       "      <td>0.036649</td>\n",
       "      <td>0.091081</td>\n",
       "      <td>0.090580</td>\n",
       "      <td>0.053796</td>\n",
       "      <td>0.053465</td>\n",
       "      <td>0.035463</td>\n",
       "      <td>0.192733</td>\n",
       "      <td>0.209894</td>\n",
       "      <td>0.226563</td>\n",
       "      <td>0.172618</td>\n",
       "    </tr>\n",
       "    <tr>\n",
       "      <th>Mississippi</th>\n",
       "      <td>23.92</td>\n",
       "      <td>24.49</td>\n",
       "      <td>24.40</td>\n",
       "      <td>24.22</td>\n",
       "      <td>24.02</td>\n",
       "      <td>23.75</td>\n",
       "      <td>23.81</td>\n",
       "      <td>24.52</td>\n",
       "      <td>23.14</td>\n",
       "      <td>22.76</td>\n",
       "      <td>...</td>\n",
       "      <td>0.166996</td>\n",
       "      <td>0.066837</td>\n",
       "      <td>0.200754</td>\n",
       "      <td>0.402131</td>\n",
       "      <td>0.100451</td>\n",
       "      <td>0.201603</td>\n",
       "      <td>0.440683</td>\n",
       "      <td>0.476181</td>\n",
       "      <td>0.884447</td>\n",
       "      <td>0.815482</td>\n",
       "    </tr>\n",
       "    <tr>\n",
       "      <th>Missouri</th>\n",
       "      <td>26.58</td>\n",
       "      <td>26.39</td>\n",
       "      <td>26.29</td>\n",
       "      <td>26.16</td>\n",
       "      <td>25.83</td>\n",
       "      <td>26.35</td>\n",
       "      <td>26.29</td>\n",
       "      <td>25.61</td>\n",
       "      <td>25.01</td>\n",
       "      <td>25.11</td>\n",
       "      <td>...</td>\n",
       "      <td>0.131935</td>\n",
       "      <td>0.213687</td>\n",
       "      <td>0.164123</td>\n",
       "      <td>0.163572</td>\n",
       "      <td>0.228517</td>\n",
       "      <td>0.293282</td>\n",
       "      <td>0.259396</td>\n",
       "      <td>0.210426</td>\n",
       "      <td>0.242086</td>\n",
       "      <td>0.352256</td>\n",
       "    </tr>\n",
       "    <tr>\n",
       "      <th>Montana</th>\n",
       "      <td>NaN</td>\n",
       "      <td>27.06</td>\n",
       "      <td>NaN</td>\n",
       "      <td>23.48</td>\n",
       "      <td>NaN</td>\n",
       "      <td>23.63</td>\n",
       "      <td>NaN</td>\n",
       "      <td>NaN</td>\n",
       "      <td>NaN</td>\n",
       "      <td>NaN</td>\n",
       "      <td>...</td>\n",
       "      <td>NaN</td>\n",
       "      <td>0.096810</td>\n",
       "      <td>NaN</td>\n",
       "      <td>0.095193</td>\n",
       "      <td>NaN</td>\n",
       "      <td>0.187130</td>\n",
       "      <td>NaN</td>\n",
       "      <td>NaN</td>\n",
       "      <td>NaN</td>\n",
       "      <td>NaN</td>\n",
       "    </tr>\n",
       "    <tr>\n",
       "      <th>Nebraska</th>\n",
       "      <td>NaN</td>\n",
       "      <td>23.47</td>\n",
       "      <td>NaN</td>\n",
       "      <td>NaN</td>\n",
       "      <td>22.35</td>\n",
       "      <td>22.19</td>\n",
       "      <td>21.63</td>\n",
       "      <td>21.48</td>\n",
       "      <td>21.46</td>\n",
       "      <td>21.93</td>\n",
       "      <td>...</td>\n",
       "      <td>NaN</td>\n",
       "      <td>0.158212</td>\n",
       "      <td>NaN</td>\n",
       "      <td>NaN</td>\n",
       "      <td>0.155499</td>\n",
       "      <td>0.051695</td>\n",
       "      <td>0.050924</td>\n",
       "      <td>0.254075</td>\n",
       "      <td>0.101093</td>\n",
       "      <td>0.049864</td>\n",
       "    </tr>\n",
       "    <tr>\n",
       "      <th>Nevada</th>\n",
       "      <td>24.11</td>\n",
       "      <td>24.07</td>\n",
       "      <td>24.82</td>\n",
       "      <td>24.80</td>\n",
       "      <td>23.69</td>\n",
       "      <td>23.48</td>\n",
       "      <td>23.19</td>\n",
       "      <td>24.02</td>\n",
       "      <td>22.63</td>\n",
       "      <td>23.53</td>\n",
       "      <td>...</td>\n",
       "      <td>0.140890</td>\n",
       "      <td>0.034592</td>\n",
       "      <td>0.102039</td>\n",
       "      <td>0.066710</td>\n",
       "      <td>0.131822</td>\n",
       "      <td>0.097398</td>\n",
       "      <td>0.159034</td>\n",
       "      <td>0.157343</td>\n",
       "      <td>0.156535</td>\n",
       "      <td>0.122419</td>\n",
       "    </tr>\n",
       "    <tr>\n",
       "      <th>New Hampshire</th>\n",
       "      <td>NaN</td>\n",
       "      <td>NaN</td>\n",
       "      <td>NaN</td>\n",
       "      <td>NaN</td>\n",
       "      <td>NaN</td>\n",
       "      <td>NaN</td>\n",
       "      <td>22.52</td>\n",
       "      <td>NaN</td>\n",
       "      <td>22.63</td>\n",
       "      <td>NaN</td>\n",
       "      <td>...</td>\n",
       "      <td>NaN</td>\n",
       "      <td>NaN</td>\n",
       "      <td>NaN</td>\n",
       "      <td>NaN</td>\n",
       "      <td>NaN</td>\n",
       "      <td>NaN</td>\n",
       "      <td>0.071995</td>\n",
       "      <td>NaN</td>\n",
       "      <td>0.071324</td>\n",
       "      <td>NaN</td>\n",
       "    </tr>\n",
       "    <tr>\n",
       "      <th>New Jersey</th>\n",
       "      <td>25.75</td>\n",
       "      <td>25.99</td>\n",
       "      <td>24.97</td>\n",
       "      <td>24.74</td>\n",
       "      <td>23.94</td>\n",
       "      <td>24.52</td>\n",
       "      <td>22.85</td>\n",
       "      <td>22.50</td>\n",
       "      <td>22.55</td>\n",
       "      <td>21.89</td>\n",
       "      <td>...</td>\n",
       "      <td>0.067128</td>\n",
       "      <td>0.100469</td>\n",
       "      <td>0.100621</td>\n",
       "      <td>0.144354</td>\n",
       "      <td>0.112252</td>\n",
       "      <td>0.123843</td>\n",
       "      <td>0.151072</td>\n",
       "      <td>0.097174</td>\n",
       "      <td>0.129159</td>\n",
       "      <td>0.031576</td>\n",
       "    </tr>\n",
       "    <tr>\n",
       "      <th>New Mexico</th>\n",
       "      <td>21.78</td>\n",
       "      <td>21.57</td>\n",
       "      <td>22.33</td>\n",
       "      <td>22.05</td>\n",
       "      <td>21.42</td>\n",
       "      <td>21.70</td>\n",
       "      <td>21.23</td>\n",
       "      <td>21.10</td>\n",
       "      <td>20.31</td>\n",
       "      <td>21.37</td>\n",
       "      <td>...</td>\n",
       "      <td>0.047948</td>\n",
       "      <td>0.095918</td>\n",
       "      <td>0.192214</td>\n",
       "      <td>0.095782</td>\n",
       "      <td>0.095446</td>\n",
       "      <td>0.190764</td>\n",
       "      <td>0.047262</td>\n",
       "      <td>0.189273</td>\n",
       "      <td>0.141886</td>\n",
       "      <td>0.093885</td>\n",
       "    </tr>\n",
       "    <tr>\n",
       "      <th>New York</th>\n",
       "      <td>22.71</td>\n",
       "      <td>22.62</td>\n",
       "      <td>22.24</td>\n",
       "      <td>22.27</td>\n",
       "      <td>21.97</td>\n",
       "      <td>21.82</td>\n",
       "      <td>20.46</td>\n",
       "      <td>20.47</td>\n",
       "      <td>20.09</td>\n",
       "      <td>20.05</td>\n",
       "      <td>...</td>\n",
       "      <td>0.065835</td>\n",
       "      <td>0.106083</td>\n",
       "      <td>0.075967</td>\n",
       "      <td>0.065493</td>\n",
       "      <td>0.066523</td>\n",
       "      <td>0.046264</td>\n",
       "      <td>0.186530</td>\n",
       "      <td>0.152461</td>\n",
       "      <td>0.081753</td>\n",
       "      <td>0.090601</td>\n",
       "    </tr>\n",
       "    <tr>\n",
       "      <th>North Carolina</th>\n",
       "      <td>22.28</td>\n",
       "      <td>21.94</td>\n",
       "      <td>21.41</td>\n",
       "      <td>21.58</td>\n",
       "      <td>21.19</td>\n",
       "      <td>21.39</td>\n",
       "      <td>20.76</td>\n",
       "      <td>20.84</td>\n",
       "      <td>20.34</td>\n",
       "      <td>20.59</td>\n",
       "      <td>...</td>\n",
       "      <td>0.030169</td>\n",
       "      <td>0.119489</td>\n",
       "      <td>0.088698</td>\n",
       "      <td>0.068137</td>\n",
       "      <td>0.096306</td>\n",
       "      <td>0.104881</td>\n",
       "      <td>0.208508</td>\n",
       "      <td>0.196281</td>\n",
       "      <td>0.304555</td>\n",
       "      <td>0.135795</td>\n",
       "    </tr>\n",
       "    <tr>\n",
       "      <th>North Dakota</th>\n",
       "      <td>NaN</td>\n",
       "      <td>NaN</td>\n",
       "      <td>NaN</td>\n",
       "      <td>NaN</td>\n",
       "      <td>NaN</td>\n",
       "      <td>NaN</td>\n",
       "      <td>NaN</td>\n",
       "      <td>NaN</td>\n",
       "      <td>20.81</td>\n",
       "      <td>NaN</td>\n",
       "      <td>...</td>\n",
       "      <td>NaN</td>\n",
       "      <td>NaN</td>\n",
       "      <td>NaN</td>\n",
       "      <td>NaN</td>\n",
       "      <td>NaN</td>\n",
       "      <td>NaN</td>\n",
       "      <td>NaN</td>\n",
       "      <td>NaN</td>\n",
       "      <td>0.127563</td>\n",
       "      <td>NaN</td>\n",
       "    </tr>\n",
       "    <tr>\n",
       "      <th>Ohio</th>\n",
       "      <td>30.20</td>\n",
       "      <td>29.89</td>\n",
       "      <td>29.45</td>\n",
       "      <td>29.45</td>\n",
       "      <td>28.74</td>\n",
       "      <td>28.75</td>\n",
       "      <td>28.86</td>\n",
       "      <td>28.21</td>\n",
       "      <td>27.97</td>\n",
       "      <td>27.44</td>\n",
       "      <td>...</td>\n",
       "      <td>0.060375</td>\n",
       "      <td>0.111939</td>\n",
       "      <td>0.094710</td>\n",
       "      <td>0.180124</td>\n",
       "      <td>0.085547</td>\n",
       "      <td>0.119770</td>\n",
       "      <td>0.280135</td>\n",
       "      <td>0.161619</td>\n",
       "      <td>0.279995</td>\n",
       "      <td>0.143058</td>\n",
       "    </tr>\n",
       "    <tr>\n",
       "      <th>Oklahoma</th>\n",
       "      <td>26.42</td>\n",
       "      <td>26.64</td>\n",
       "      <td>26.22</td>\n",
       "      <td>26.20</td>\n",
       "      <td>26.35</td>\n",
       "      <td>26.16</td>\n",
       "      <td>25.67</td>\n",
       "      <td>25.38</td>\n",
       "      <td>25.23</td>\n",
       "      <td>25.59</td>\n",
       "      <td>...</td>\n",
       "      <td>0.051572</td>\n",
       "      <td>0.127833</td>\n",
       "      <td>0.025487</td>\n",
       "      <td>0.025440</td>\n",
       "      <td>0.126804</td>\n",
       "      <td>0.101087</td>\n",
       "      <td>0.050168</td>\n",
       "      <td>0.199015</td>\n",
       "      <td>0.172676</td>\n",
       "      <td>0.170924</td>\n",
       "    </tr>\n",
       "    <tr>\n",
       "      <th>Oregon</th>\n",
       "      <td>19.69</td>\n",
       "      <td>18.74</td>\n",
       "      <td>18.43</td>\n",
       "      <td>NaN</td>\n",
       "      <td>NaN</td>\n",
       "      <td>18.78</td>\n",
       "      <td>17.56</td>\n",
       "      <td>18.07</td>\n",
       "      <td>17.43</td>\n",
       "      <td>NaN</td>\n",
       "      <td>...</td>\n",
       "      <td>0.050375</td>\n",
       "      <td>0.049640</td>\n",
       "      <td>0.048858</td>\n",
       "      <td>NaN</td>\n",
       "      <td>NaN</td>\n",
       "      <td>0.023709</td>\n",
       "      <td>0.164855</td>\n",
       "      <td>0.141505</td>\n",
       "      <td>0.047244</td>\n",
       "      <td>NaN</td>\n",
       "    </tr>\n",
       "    <tr>\n",
       "      <th>Pennsylvania</th>\n",
       "      <td>32.42</td>\n",
       "      <td>31.64</td>\n",
       "      <td>31.25</td>\n",
       "      <td>31.13</td>\n",
       "      <td>30.71</td>\n",
       "      <td>30.55</td>\n",
       "      <td>29.26</td>\n",
       "      <td>29.17</td>\n",
       "      <td>29.25</td>\n",
       "      <td>28.53</td>\n",
       "      <td>...</td>\n",
       "      <td>0.078203</td>\n",
       "      <td>0.109354</td>\n",
       "      <td>0.078221</td>\n",
       "      <td>0.117137</td>\n",
       "      <td>0.148356</td>\n",
       "      <td>0.148414</td>\n",
       "      <td>0.269977</td>\n",
       "      <td>0.262103</td>\n",
       "      <td>0.270027</td>\n",
       "      <td>0.237026</td>\n",
       "    </tr>\n",
       "    <tr>\n",
       "      <th>Rhode Island</th>\n",
       "      <td>23.94</td>\n",
       "      <td>23.48</td>\n",
       "      <td>NaN</td>\n",
       "      <td>NaN</td>\n",
       "      <td>NaN</td>\n",
       "      <td>NaN</td>\n",
       "      <td>22.60</td>\n",
       "      <td>NaN</td>\n",
       "      <td>NaN</td>\n",
       "      <td>NaN</td>\n",
       "      <td>...</td>\n",
       "      <td>0.094771</td>\n",
       "      <td>0.094670</td>\n",
       "      <td>NaN</td>\n",
       "      <td>NaN</td>\n",
       "      <td>NaN</td>\n",
       "      <td>NaN</td>\n",
       "      <td>0.182547</td>\n",
       "      <td>NaN</td>\n",
       "      <td>NaN</td>\n",
       "      <td>NaN</td>\n",
       "    </tr>\n",
       "    <tr>\n",
       "      <th>South Carolina</th>\n",
       "      <td>25.76</td>\n",
       "      <td>24.98</td>\n",
       "      <td>24.64</td>\n",
       "      <td>25.01</td>\n",
       "      <td>25.27</td>\n",
       "      <td>24.12</td>\n",
       "      <td>24.03</td>\n",
       "      <td>23.25</td>\n",
       "      <td>23.76</td>\n",
       "      <td>23.17</td>\n",
       "      <td>...</td>\n",
       "      <td>0.144853</td>\n",
       "      <td>0.204242</td>\n",
       "      <td>0.100784</td>\n",
       "      <td>0.139321</td>\n",
       "      <td>0.078676</td>\n",
       "      <td>0.194223</td>\n",
       "      <td>0.327508</td>\n",
       "      <td>0.359669</td>\n",
       "      <td>0.316364</td>\n",
       "      <td>0.109512</td>\n",
       "    </tr>\n",
       "    <tr>\n",
       "      <th>South Dakota</th>\n",
       "      <td>26.40</td>\n",
       "      <td>26.68</td>\n",
       "      <td>NaN</td>\n",
       "      <td>NaN</td>\n",
       "      <td>NaN</td>\n",
       "      <td>NaN</td>\n",
       "      <td>24.48</td>\n",
       "      <td>NaN</td>\n",
       "      <td>NaN</td>\n",
       "      <td>24.01</td>\n",
       "      <td>...</td>\n",
       "      <td>0.117209</td>\n",
       "      <td>0.116486</td>\n",
       "      <td>NaN</td>\n",
       "      <td>NaN</td>\n",
       "      <td>NaN</td>\n",
       "      <td>NaN</td>\n",
       "      <td>0.111685</td>\n",
       "      <td>NaN</td>\n",
       "      <td>NaN</td>\n",
       "      <td>0.216294</td>\n",
       "    </tr>\n",
       "    <tr>\n",
       "      <th>Tennessee</th>\n",
       "      <td>27.03</td>\n",
       "      <td>26.92</td>\n",
       "      <td>26.49</td>\n",
       "      <td>26.60</td>\n",
       "      <td>26.15</td>\n",
       "      <td>25.87</td>\n",
       "      <td>25.54</td>\n",
       "      <td>25.88</td>\n",
       "      <td>25.78</td>\n",
       "      <td>25.27</td>\n",
       "      <td>...</td>\n",
       "      <td>0.198493</td>\n",
       "      <td>0.166659</td>\n",
       "      <td>0.180419</td>\n",
       "      <td>0.208458</td>\n",
       "      <td>0.265878</td>\n",
       "      <td>0.102501</td>\n",
       "      <td>0.215047</td>\n",
       "      <td>0.226907</td>\n",
       "      <td>0.294675</td>\n",
       "      <td>0.249040</td>\n",
       "    </tr>\n",
       "    <tr>\n",
       "      <th>Texas</th>\n",
       "      <td>20.64</td>\n",
       "      <td>20.83</td>\n",
       "      <td>20.82</td>\n",
       "      <td>20.75</td>\n",
       "      <td>20.58</td>\n",
       "      <td>20.90</td>\n",
       "      <td>20.25</td>\n",
       "      <td>19.66</td>\n",
       "      <td>19.86</td>\n",
       "      <td>19.88</td>\n",
       "      <td>...</td>\n",
       "      <td>0.059354</td>\n",
       "      <td>0.061888</td>\n",
       "      <td>0.111260</td>\n",
       "      <td>0.074193</td>\n",
       "      <td>0.052261</td>\n",
       "      <td>0.096565</td>\n",
       "      <td>0.193038</td>\n",
       "      <td>0.166503</td>\n",
       "      <td>0.213092</td>\n",
       "      <td>0.099071</td>\n",
       "    </tr>\n",
       "    <tr>\n",
       "      <th>Utah</th>\n",
       "      <td>20.31</td>\n",
       "      <td>NaN</td>\n",
       "      <td>NaN</td>\n",
       "      <td>19.38</td>\n",
       "      <td>19.62</td>\n",
       "      <td>NaN</td>\n",
       "      <td>19.05</td>\n",
       "      <td>NaN</td>\n",
       "      <td>18.98</td>\n",
       "      <td>19.13</td>\n",
       "      <td>...</td>\n",
       "      <td>0.067960</td>\n",
       "      <td>NaN</td>\n",
       "      <td>NaN</td>\n",
       "      <td>0.032239</td>\n",
       "      <td>0.031635</td>\n",
       "      <td>NaN</td>\n",
       "      <td>0.029958</td>\n",
       "      <td>NaN</td>\n",
       "      <td>0.058518</td>\n",
       "      <td>0.057084</td>\n",
       "    </tr>\n",
       "    <tr>\n",
       "      <th>Vermont</th>\n",
       "      <td>NaN</td>\n",
       "      <td>25.30</td>\n",
       "      <td>NaN</td>\n",
       "      <td>NaN</td>\n",
       "      <td>NaN</td>\n",
       "      <td>NaN</td>\n",
       "      <td>NaN</td>\n",
       "      <td>NaN</td>\n",
       "      <td>NaN</td>\n",
       "      <td>NaN</td>\n",
       "      <td>...</td>\n",
       "      <td>NaN</td>\n",
       "      <td>0.159734</td>\n",
       "      <td>NaN</td>\n",
       "      <td>NaN</td>\n",
       "      <td>NaN</td>\n",
       "      <td>NaN</td>\n",
       "      <td>NaN</td>\n",
       "      <td>NaN</td>\n",
       "      <td>NaN</td>\n",
       "      <td>NaN</td>\n",
       "    </tr>\n",
       "    <tr>\n",
       "      <th>Virginia</th>\n",
       "      <td>20.70</td>\n",
       "      <td>20.55</td>\n",
       "      <td>20.05</td>\n",
       "      <td>20.28</td>\n",
       "      <td>20.08</td>\n",
       "      <td>19.69</td>\n",
       "      <td>20.08</td>\n",
       "      <td>20.14</td>\n",
       "      <td>20.08</td>\n",
       "      <td>19.96</td>\n",
       "      <td>...</td>\n",
       "      <td>0.096081</td>\n",
       "      <td>0.059645</td>\n",
       "      <td>0.130769</td>\n",
       "      <td>0.141676</td>\n",
       "      <td>0.046961</td>\n",
       "      <td>0.117157</td>\n",
       "      <td>0.185136</td>\n",
       "      <td>0.218803</td>\n",
       "      <td>0.080315</td>\n",
       "      <td>0.147540</td>\n",
       "    </tr>\n",
       "    <tr>\n",
       "      <th>Washington</th>\n",
       "      <td>18.89</td>\n",
       "      <td>18.94</td>\n",
       "      <td>18.35</td>\n",
       "      <td>18.41</td>\n",
       "      <td>18.13</td>\n",
       "      <td>18.06</td>\n",
       "      <td>17.70</td>\n",
       "      <td>17.61</td>\n",
       "      <td>17.71</td>\n",
       "      <td>17.32</td>\n",
       "      <td>...</td>\n",
       "      <td>0.042484</td>\n",
       "      <td>0.013946</td>\n",
       "      <td>0.109769</td>\n",
       "      <td>0.040509</td>\n",
       "      <td>0.039811</td>\n",
       "      <td>0.052529</td>\n",
       "      <td>0.103377</td>\n",
       "      <td>0.154127</td>\n",
       "      <td>0.179191</td>\n",
       "      <td>0.075394</td>\n",
       "    </tr>\n",
       "    <tr>\n",
       "      <th>West Virginia</th>\n",
       "      <td>NaN</td>\n",
       "      <td>NaN</td>\n",
       "      <td>32.72</td>\n",
       "      <td>NaN</td>\n",
       "      <td>NaN</td>\n",
       "      <td>NaN</td>\n",
       "      <td>33.03</td>\n",
       "      <td>NaN</td>\n",
       "      <td>NaN</td>\n",
       "      <td>33.12</td>\n",
       "      <td>...</td>\n",
       "      <td>NaN</td>\n",
       "      <td>NaN</td>\n",
       "      <td>0.054612</td>\n",
       "      <td>NaN</td>\n",
       "      <td>NaN</td>\n",
       "      <td>NaN</td>\n",
       "      <td>0.056087</td>\n",
       "      <td>NaN</td>\n",
       "      <td>NaN</td>\n",
       "      <td>0.169494</td>\n",
       "    </tr>\n",
       "    <tr>\n",
       "      <th>Wisconsin</th>\n",
       "      <td>28.24</td>\n",
       "      <td>27.58</td>\n",
       "      <td>27.54</td>\n",
       "      <td>27.22</td>\n",
       "      <td>27.23</td>\n",
       "      <td>26.94</td>\n",
       "      <td>26.43</td>\n",
       "      <td>26.09</td>\n",
       "      <td>25.93</td>\n",
       "      <td>25.36</td>\n",
       "      <td>...</td>\n",
       "      <td>0.034737</td>\n",
       "      <td>0.051981</td>\n",
       "      <td>0.034610</td>\n",
       "      <td>0.034510</td>\n",
       "      <td>0.068805</td>\n",
       "      <td>0.051525</td>\n",
       "      <td>0.186570</td>\n",
       "      <td>0.271530</td>\n",
       "      <td>0.152260</td>\n",
       "      <td>0.134206</td>\n",
       "    </tr>\n",
       "    <tr>\n",
       "      <th>Wyoming</th>\n",
       "      <td>NaN</td>\n",
       "      <td>NaN</td>\n",
       "      <td>NaN</td>\n",
       "      <td>NaN</td>\n",
       "      <td>NaN</td>\n",
       "      <td>24.54</td>\n",
       "      <td>NaN</td>\n",
       "      <td>NaN</td>\n",
       "      <td>NaN</td>\n",
       "      <td>NaN</td>\n",
       "      <td>...</td>\n",
       "      <td>NaN</td>\n",
       "      <td>NaN</td>\n",
       "      <td>NaN</td>\n",
       "      <td>NaN</td>\n",
       "      <td>NaN</td>\n",
       "      <td>0.172783</td>\n",
       "      <td>NaN</td>\n",
       "      <td>NaN</td>\n",
       "      <td>NaN</td>\n",
       "      <td>NaN</td>\n",
       "    </tr>\n",
       "  </tbody>\n",
       "</table>\n",
       "<p>51 rows × 30 columns</p>\n",
       "</div>"
      ],
      "text/plain": [
       "                     %HighSchool                                            \\\n",
       "year                        2014   2015   2016   2017   2018   2019   2021   \n",
       "State                                                                        \n",
       "Alabama                    26.02  25.10  25.19  25.69  25.41  25.67  26.16   \n",
       "Alaska                     23.33    NaN    NaN    NaN    NaN    NaN  22.50   \n",
       "Arizona                    20.27  20.36  19.99  20.16  20.04  19.56  19.43   \n",
       "Arkansas                   28.88  27.68  27.74  27.74  28.22  28.53  28.11   \n",
       "California                 18.59  18.54  18.19  18.51  18.39  18.29  18.25   \n",
       "Colorado                   17.87  17.92  17.97  17.41  16.96  17.06  16.29   \n",
       "Connecticut                24.26  24.15  24.21  24.04  23.84  23.53  22.44   \n",
       "Delaware                     NaN  26.25  28.48  29.13  30.31  26.68  25.12   \n",
       "District of Columbia       15.41  14.78  15.41  14.63  13.57  13.36  12.49   \n",
       "Florida                    25.34  24.98  24.68  24.71  24.52  24.15  23.39   \n",
       "Georgia                    23.61  23.35  22.85  23.32  23.10  22.76  21.92   \n",
       "Hawaii                       NaN    NaN    NaN    NaN    NaN    NaN    NaN   \n",
       "Idaho                        NaN    NaN    NaN    NaN    NaN    NaN  22.00   \n",
       "Illinois                   22.99  23.14  22.42  22.48  22.45  22.26  21.49   \n",
       "Indiana                    29.10  29.21  28.48  27.42  28.09  28.58  27.83   \n",
       "Iowa                         NaN  27.90    NaN  26.50    NaN  27.10  26.32   \n",
       "Kansas                       NaN  22.36  22.17  21.97  21.32  22.11  21.30   \n",
       "Kentucky                   26.61  26.76  25.69  26.31  25.94  26.73  26.15   \n",
       "Louisiana                  28.65  28.58  28.61  28.75  28.90  28.45  27.29   \n",
       "Maine                      27.42    NaN    NaN  26.01    NaN    NaN    NaN   \n",
       "Maryland                   22.58  21.99  22.19  21.40  21.07  21.60  20.78   \n",
       "Massachusetts              22.08  22.33  21.66  21.58  20.61  20.94  19.91   \n",
       "Michigan                   25.59  25.33  25.18  25.01  24.67  25.13  24.70   \n",
       "Minnesota                  22.55  22.25  22.04  21.74  21.14  21.42  20.21   \n",
       "Mississippi                23.92  24.49  24.40  24.22  24.02  23.75  23.81   \n",
       "Missouri                   26.58  26.39  26.29  26.16  25.83  26.35  26.29   \n",
       "Montana                      NaN  27.06    NaN  23.48    NaN  23.63    NaN   \n",
       "Nebraska                     NaN  23.47    NaN    NaN  22.35  22.19  21.63   \n",
       "Nevada                     24.11  24.07  24.82  24.80  23.69  23.48  23.19   \n",
       "New Hampshire                NaN    NaN    NaN    NaN    NaN    NaN  22.52   \n",
       "New Jersey                 25.75  25.99  24.97  24.74  23.94  24.52  22.85   \n",
       "New Mexico                 21.78  21.57  22.33  22.05  21.42  21.70  21.23   \n",
       "New York                   22.71  22.62  22.24  22.27  21.97  21.82  20.46   \n",
       "North Carolina             22.28  21.94  21.41  21.58  21.19  21.39  20.76   \n",
       "North Dakota                 NaN    NaN    NaN    NaN    NaN    NaN    NaN   \n",
       "Ohio                       30.20  29.89  29.45  29.45  28.74  28.75  28.86   \n",
       "Oklahoma                   26.42  26.64  26.22  26.20  26.35  26.16  25.67   \n",
       "Oregon                     19.69  18.74  18.43    NaN    NaN  18.78  17.56   \n",
       "Pennsylvania               32.42  31.64  31.25  31.13  30.71  30.55  29.26   \n",
       "Rhode Island               23.94  23.48    NaN    NaN    NaN    NaN  22.60   \n",
       "South Carolina             25.76  24.98  24.64  25.01  25.27  24.12  24.03   \n",
       "South Dakota               26.40  26.68    NaN    NaN    NaN    NaN  24.48   \n",
       "Tennessee                  27.03  26.92  26.49  26.60  26.15  25.87  25.54   \n",
       "Texas                      20.64  20.83  20.82  20.75  20.58  20.90  20.25   \n",
       "Utah                       20.31    NaN    NaN  19.38  19.62    NaN  19.05   \n",
       "Vermont                      NaN  25.30    NaN    NaN    NaN    NaN    NaN   \n",
       "Virginia                   20.70  20.55  20.05  20.28  20.08  19.69  20.08   \n",
       "Washington                 18.89  18.94  18.35  18.41  18.13  18.06  17.70   \n",
       "West Virginia                NaN    NaN  32.72    NaN    NaN    NaN  33.03   \n",
       "Wisconsin                  28.24  27.58  27.54  27.22  27.23  26.94  26.43   \n",
       "Wyoming                      NaN    NaN    NaN    NaN    NaN  24.54    NaN   \n",
       "\n",
       "                                           ... Incidents_per_100k            \\\n",
       "year                   2022   2023   2024  ...               2014      2015   \n",
       "State                                      ...                                \n",
       "Alabama               25.16  24.94  24.60  ...           0.041242  0.082322   \n",
       "Alaska                  NaN    NaN  23.87  ...           0.135735       NaN   \n",
       "Arizona               19.72  19.18  19.34  ...           0.014856  0.087873   \n",
       "Arkansas              28.35  28.40  27.44  ...           0.067422  0.067155   \n",
       "California            18.04  17.89  17.99  ...           0.103086  0.068975   \n",
       "Colorado              16.42  15.57  15.18  ...           0.037342  0.054980   \n",
       "Connecticut           22.35  22.26  21.92  ...           0.027803  0.055697   \n",
       "Delaware              24.90  24.80  25.29  ...                NaN  0.105716   \n",
       "District of Columbia  11.14  10.28  11.60  ...           0.910618  0.446277   \n",
       "Florida               23.08  22.55  22.29  ...           0.085456  0.128260   \n",
       "Georgia               22.10  21.57  21.67  ...           0.178265  0.195793   \n",
       "Hawaii                  NaN  23.43  24.29  ...                NaN       NaN   \n",
       "Idaho                   NaN  21.08    NaN  ...                NaN       NaN   \n",
       "Illinois              21.40  21.42  20.93  ...           0.209618  0.194401   \n",
       "Indiana               26.84  26.94  26.71  ...           0.121270  0.135958   \n",
       "Iowa                  25.60  25.74  25.10  ...                NaN  0.064023   \n",
       "Kansas                21.05  20.97  21.18  ...                NaN  0.034345   \n",
       "Kentucky              26.07  26.53  26.05  ...           0.090632  0.090394   \n",
       "Louisiana             27.16  27.44  27.49  ...           0.236576  0.321149   \n",
       "Maine                   NaN  24.72    NaN  ...           0.075183       NaN   \n",
       "Maryland              20.59  20.85  20.13  ...           0.016732  0.216436   \n",
       "Massachusetts         20.22  19.89  19.24  ...           0.059300  0.073590   \n",
       "Michigan              24.09  23.66  23.65  ...           0.100909  0.110858   \n",
       "Minnesota             20.35  20.29  19.87  ...           0.036649  0.091081   \n",
       "Mississippi           24.52  23.14  22.76  ...           0.166996  0.066837   \n",
       "Missouri              25.61  25.01  25.11  ...           0.131935  0.213687   \n",
       "Montana                 NaN    NaN    NaN  ...                NaN  0.096810   \n",
       "Nebraska              21.48  21.46  21.93  ...                NaN  0.158212   \n",
       "Nevada                24.02  22.63  23.53  ...           0.140890  0.034592   \n",
       "New Hampshire           NaN  22.63    NaN  ...                NaN       NaN   \n",
       "New Jersey            22.50  22.55  21.89  ...           0.067128  0.100469   \n",
       "New Mexico            21.10  20.31  21.37  ...           0.047948  0.095918   \n",
       "New York              20.47  20.09  20.05  ...           0.065835  0.106083   \n",
       "North Carolina        20.84  20.34  20.59  ...           0.030169  0.119489   \n",
       "North Dakota            NaN  20.81    NaN  ...                NaN       NaN   \n",
       "Ohio                  28.21  27.97  27.44  ...           0.060375  0.111939   \n",
       "Oklahoma              25.38  25.23  25.59  ...           0.051572  0.127833   \n",
       "Oregon                18.07  17.43    NaN  ...           0.050375  0.049640   \n",
       "Pennsylvania          29.17  29.25  28.53  ...           0.078203  0.109354   \n",
       "Rhode Island            NaN    NaN    NaN  ...           0.094771  0.094670   \n",
       "South Carolina        23.25  23.76  23.17  ...           0.144853  0.204242   \n",
       "South Dakota            NaN    NaN  24.01  ...           0.117209  0.116486   \n",
       "Tennessee             25.88  25.78  25.27  ...           0.198493  0.166659   \n",
       "Texas                 19.66  19.86  19.88  ...           0.059354  0.061888   \n",
       "Utah                    NaN  18.98  19.13  ...           0.067960       NaN   \n",
       "Vermont                 NaN    NaN    NaN  ...                NaN  0.159734   \n",
       "Virginia              20.14  20.08  19.96  ...           0.096081  0.059645   \n",
       "Washington            17.61  17.71  17.32  ...           0.042484  0.013946   \n",
       "West Virginia           NaN    NaN  33.12  ...                NaN       NaN   \n",
       "Wisconsin             26.09  25.93  25.36  ...           0.034737  0.051981   \n",
       "Wyoming                 NaN    NaN    NaN  ...                NaN       NaN   \n",
       "\n",
       "                                                                        \\\n",
       "year                      2016      2017      2018      2019      2021   \n",
       "State                                                                    \n",
       "Alabama               0.308433  0.143597  0.286423  0.244739  0.436519   \n",
       "Alaska                     NaN       NaN       NaN       NaN  0.136487   \n",
       "Arizona               0.057711  0.071263  0.027888  0.068693  0.068716   \n",
       "Arkansas              0.100393  0.099858  0.199083  0.165683  0.165241   \n",
       "California            0.114650  0.096113  0.088480  0.124012  0.114685   \n",
       "Colorado              0.072195  0.035669  0.140460  0.086825  0.223672   \n",
       "Connecticut           0.167764  0.055739  0.055981  0.084145  0.055469   \n",
       "Delaware              0.210070  0.103957  0.103394  0.205389  0.597976   \n",
       "District of Columbia  0.734031  0.720490  0.854147  0.991854  2.387882   \n",
       "Florida               0.145543  0.114371  0.140850  0.069840  0.142325   \n",
       "Georgia               0.164883  0.086295  0.076049  0.178951  0.203712   \n",
       "Hawaii                     NaN       NaN       NaN       NaN       NaN   \n",
       "Idaho                      NaN       NaN       NaN       NaN  0.052606   \n",
       "Illinois              0.328086  0.289017  0.274702  0.323553  0.678690   \n",
       "Indiana               0.120608  0.104998  0.089661  0.148539  0.205701   \n",
       "Iowa                       NaN  0.063579       NaN  0.095085  0.156589   \n",
       "Kansas                0.171982  0.137310  0.068693  0.137301  0.068153   \n",
       "Kentucky              0.045076  0.134705  0.089517  0.111915  0.088704   \n",
       "Louisiana             0.299039  0.320216  0.278971  0.559285  0.735287   \n",
       "Maine                      NaN  0.074856       NaN       NaN       NaN   \n",
       "Maryland              0.182832  0.132184  0.148940  0.330815  0.308185   \n",
       "Massachusetts         0.044041  0.014578  0.014488  0.072543  0.057268   \n",
       "Michigan              0.110794  0.080303  0.080033  0.090118  0.248736   \n",
       "Minnesota             0.090580  0.053796  0.053465  0.035463  0.192733   \n",
       "Mississippi           0.200754  0.402131  0.100451  0.201603  0.440683   \n",
       "Missouri              0.164123  0.163572  0.228517  0.293282  0.259396   \n",
       "Montana                    NaN  0.095193       NaN  0.187130       NaN   \n",
       "Nebraska                   NaN       NaN  0.155499  0.051695  0.050924   \n",
       "Nevada                0.102039  0.066710  0.131822  0.097398  0.159034   \n",
       "New Hampshire              NaN       NaN       NaN       NaN  0.071995   \n",
       "New Jersey            0.100621  0.144354  0.112252  0.123843  0.151072   \n",
       "New Mexico            0.192214  0.095782  0.095446  0.190764  0.047262   \n",
       "New York              0.075967  0.065493  0.066523  0.046264  0.186530   \n",
       "North Carolina        0.088698  0.068137  0.096306  0.104881  0.208508   \n",
       "North Dakota               NaN       NaN       NaN       NaN       NaN   \n",
       "Ohio                  0.094710  0.180124  0.085547  0.119770  0.280135   \n",
       "Oklahoma              0.025487  0.025440  0.126804  0.101087  0.050168   \n",
       "Oregon                0.048858       NaN       NaN  0.023709  0.164855   \n",
       "Pennsylvania          0.078221  0.117137  0.148356  0.148414  0.269977   \n",
       "Rhode Island               NaN       NaN       NaN       NaN  0.182547   \n",
       "South Carolina        0.100784  0.139321  0.078676  0.194223  0.327508   \n",
       "South Dakota               NaN       NaN       NaN       NaN  0.111685   \n",
       "Tennessee             0.180419  0.208458  0.265878  0.102501  0.215047   \n",
       "Texas                 0.111260  0.074193  0.052261  0.096565  0.193038   \n",
       "Utah                       NaN  0.032239  0.031635       NaN  0.029958   \n",
       "Vermont                    NaN       NaN       NaN       NaN       NaN   \n",
       "Virginia              0.130769  0.141676  0.046961  0.117157  0.185136   \n",
       "Washington            0.109769  0.040509  0.039811  0.052529  0.103377   \n",
       "West Virginia         0.054612       NaN       NaN       NaN  0.056087   \n",
       "Wisconsin             0.034610  0.034510  0.068805  0.051525  0.186570   \n",
       "Wyoming                    NaN       NaN       NaN  0.172783       NaN   \n",
       "\n",
       "                                                    \n",
       "year                      2022      2023      2024  \n",
       "State                                               \n",
       "Alabama               0.315315  0.215329  0.484712  \n",
       "Alaska                     NaN       NaN  0.135111  \n",
       "Arizona               0.176650  0.121109  0.039565  \n",
       "Arkansas              0.164169  0.293376  0.194278  \n",
       "California            0.125547  0.130886  0.088762  \n",
       "Colorado              0.222606  0.272219  0.100713  \n",
       "Connecticut           0.082731  0.027646  0.081631  \n",
       "Delaware              0.098194  0.096910  0.190129  \n",
       "District of Columbia  1.339678  1.620096  1.708793  \n",
       "Florida               0.139358  0.132680  0.136915  \n",
       "Georgia               0.265741  0.226670  0.214652  \n",
       "Hawaii                     NaN  0.069680  0.069149  \n",
       "Idaho                      NaN  0.050898       NaN  \n",
       "Illinois              0.460975  0.406385  0.283238  \n",
       "Indiana               0.219522  0.218589  0.158861  \n",
       "Iowa                  0.062490  0.031182  0.030850  \n",
       "Kansas                0.102140  0.068015  0.100989  \n",
       "Kentucky              0.199454  0.176751  0.261531  \n",
       "Louisiana             0.609990  0.721509  0.456746  \n",
       "Maine                      NaN  0.143295       NaN  \n",
       "Maryland              0.308208  0.355972  0.095797  \n",
       "Massachusetts         0.042968  0.099980  0.084079  \n",
       "Michigan              0.239184  0.139480  0.138061  \n",
       "Minnesota             0.209894  0.226563  0.172618  \n",
       "Mississippi           0.476181  0.884447  0.815482  \n",
       "Missouri              0.210426  0.242086  0.352256  \n",
       "Montana                    NaN       NaN       NaN  \n",
       "Nebraska              0.254075  0.101093  0.049864  \n",
       "Nevada                0.157343  0.156535  0.122419  \n",
       "New Hampshire              NaN  0.071324       NaN  \n",
       "New Jersey            0.097174  0.129159  0.031576  \n",
       "New Mexico            0.189273  0.141886  0.093885  \n",
       "New York              0.152461  0.081753  0.090601  \n",
       "North Carolina        0.196281  0.304555  0.135795  \n",
       "North Dakota               NaN  0.127563       NaN  \n",
       "Ohio                  0.161619  0.279995  0.143058  \n",
       "Oklahoma              0.199015  0.172676  0.170924  \n",
       "Oregon                0.141505  0.047244       NaN  \n",
       "Pennsylvania          0.262103  0.270027  0.237026  \n",
       "Rhode Island               NaN       NaN       NaN  \n",
       "South Carolina        0.359669  0.316364  0.109512  \n",
       "South Dakota               NaN       NaN  0.216294  \n",
       "Tennessee             0.226907  0.294675  0.249040  \n",
       "Texas                 0.166503  0.213092  0.099071  \n",
       "Utah                       NaN  0.058518  0.057084  \n",
       "Vermont                    NaN       NaN       NaN  \n",
       "Virginia              0.218803  0.080315  0.147540  \n",
       "Washington            0.154127  0.179191  0.075394  \n",
       "West Virginia              NaN       NaN  0.169494  \n",
       "Wisconsin             0.271530  0.152260  0.134206  \n",
       "Wyoming                    NaN       NaN       NaN  \n",
       "\n",
       "[51 rows x 30 columns]"
      ]
     },
     "execution_count": 246,
     "metadata": {},
     "output_type": "execute_result"
    }
   ],
   "source": [
    "summary_pivot = df_top20_analysis.pivot_table(\n",
    "    index=\"State\",\n",
    "    columns=\"year\",\n",
    "    values=[\n",
    "        \"Incidents_per_100k\",\n",
    "        \"%Without_Min_Studies\",\n",
    "        \"%HighSchool\"\n",
    "    ],\n",
    "    aggfunc=\"mean\"  \n",
    ")\n",
    "summary_pivot"
   ]
  },
  {
   "cell_type": "code",
   "execution_count": null,
   "id": "e3f35e29",
   "metadata": {},
   "outputs": [],
   "source": [
    "df_top20_analysis = df_top20_analysis.sort_values(\n",
    "    by=\"Incidents_per_100k\", ascending=False\n",
    ").reset_index(drop=True)\n",
    "\n",
    "top_20=incidents_by_state.head(20)"
   ]
  },
  {
   "cell_type": "code",
   "execution_count": null,
   "id": "39eae17a",
   "metadata": {},
   "outputs": [
    {
     "data": {
      "text/html": [
       "<div>\n",
       "<style scoped>\n",
       "    .dataframe tbody tr th:only-of-type {\n",
       "        vertical-align: middle;\n",
       "    }\n",
       "\n",
       "    .dataframe tbody tr th {\n",
       "        vertical-align: top;\n",
       "    }\n",
       "\n",
       "    .dataframe thead th {\n",
       "        text-align: right;\n",
       "    }\n",
       "</style>\n",
       "<table border=\"1\" class=\"dataframe\">\n",
       "  <thead>\n",
       "    <tr style=\"text-align: right;\">\n",
       "      <th></th>\n",
       "      <th>Incident_Count</th>\n",
       "      <th>Total_Killed</th>\n",
       "      <th>Total_Injured</th>\n",
       "      <th>Total_Victims</th>\n",
       "    </tr>\n",
       "    <tr>\n",
       "      <th>State</th>\n",
       "      <th></th>\n",
       "      <th></th>\n",
       "      <th></th>\n",
       "      <th></th>\n",
       "    </tr>\n",
       "  </thead>\n",
       "  <tbody>\n",
       "    <tr>\n",
       "      <th>Texas</th>\n",
       "      <td>331</td>\n",
       "      <td>540</td>\n",
       "      <td>1371</td>\n",
       "      <td>1911</td>\n",
       "    </tr>\n",
       "    <tr>\n",
       "      <th>California</th>\n",
       "      <td>414</td>\n",
       "      <td>505</td>\n",
       "      <td>1637</td>\n",
       "      <td>2142</td>\n",
       "    </tr>\n",
       "    <tr>\n",
       "      <th>Illinois</th>\n",
       "      <td>438</td>\n",
       "      <td>353</td>\n",
       "      <td>1878</td>\n",
       "      <td>2231</td>\n",
       "    </tr>\n",
       "    <tr>\n",
       "      <th>Florida</th>\n",
       "      <td>266</td>\n",
       "      <td>350</td>\n",
       "      <td>1178</td>\n",
       "      <td>1528</td>\n",
       "    </tr>\n",
       "    <tr>\n",
       "      <th>Pennsylvania</th>\n",
       "      <td>222</td>\n",
       "      <td>209</td>\n",
       "      <td>896</td>\n",
       "      <td>1105</td>\n",
       "    </tr>\n",
       "    <tr>\n",
       "      <th>Georgia</th>\n",
       "      <td>191</td>\n",
       "      <td>205</td>\n",
       "      <td>744</td>\n",
       "      <td>949</td>\n",
       "    </tr>\n",
       "    <tr>\n",
       "      <th>Ohio</th>\n",
       "      <td>178</td>\n",
       "      <td>190</td>\n",
       "      <td>755</td>\n",
       "      <td>945</td>\n",
       "    </tr>\n",
       "    <tr>\n",
       "      <th>Louisiana</th>\n",
       "      <td>210</td>\n",
       "      <td>168</td>\n",
       "      <td>925</td>\n",
       "      <td>1093</td>\n",
       "    </tr>\n",
       "    <tr>\n",
       "      <th>North Carolina</th>\n",
       "      <td>143</td>\n",
       "      <td>159</td>\n",
       "      <td>521</td>\n",
       "      <td>680</td>\n",
       "    </tr>\n",
       "    <tr>\n",
       "      <th>Missouri</th>\n",
       "      <td>139</td>\n",
       "      <td>148</td>\n",
       "      <td>542</td>\n",
       "      <td>690</td>\n",
       "    </tr>\n",
       "  </tbody>\n",
       "</table>\n",
       "</div>"
      ],
      "text/plain": [
       "                Incident_Count  Total_Killed  Total_Injured  Total_Victims\n",
       "State                                                                     \n",
       "Texas                      331           540           1371           1911\n",
       "California                 414           505           1637           2142\n",
       "Illinois                   438           353           1878           2231\n",
       "Florida                    266           350           1178           1528\n",
       "Pennsylvania               222           209            896           1105\n",
       "Georgia                    191           205            744            949\n",
       "Ohio                       178           190            755            945\n",
       "Louisiana                  210           168            925           1093\n",
       "North Carolina             143           159            521            680\n",
       "Missouri                   139           148            542            690"
      ]
     },
     "execution_count": 248,
     "metadata": {},
     "output_type": "execute_result"
    }
   ],
   "source": [
    "casualty_summary = (\n",
    "    df_top20_analysis.groupby(\"State\")[[\"Incident_Count\", \"Total_Killed\", \"Total_Injured\", \"Total_Victims\"]]\n",
    "    .sum()\n",
    "    .sort_values(by=\"Total_Killed\", ascending=False)\n",
    ")\n",
    "\n",
    "casualty_summary.head(10)"
   ]
  },
  {
   "cell_type": "markdown",
   "id": "ecd9d89d",
   "metadata": {},
   "source": [
    "For Drop outs in Min Studies"
   ]
  },
  {
   "cell_type": "code",
   "execution_count": 288,
   "id": "bdbc9ed6",
   "metadata": {},
   "outputs": [
    {
     "data": {
      "image/png": "[encoded data removed]",
      "text/plain": [
       "<Figure size 800x600 with 1 Axes>"
      ]
     },
     "metadata": {},
     "output_type": "display_data"
    }
   ],
   "source": [
    "plt.figure(figsize=(8,6))\n",
    "sns.regplot(\n",
    "    data=df_top20_analysis,\n",
    "    x=\"%Without_Min_Studies\",\n",
    "    y=\"Incidents_per_100k\",\n",
    "    color=\"firebrick\",\n",
    "    scatter_kws={'alpha':0.6}\n",
    ")\n",
    "plt.title(\"Correlation between Dropout Rate and Gun Incidents\", fontsize=14)\n",
    "plt.xlabel(\"% Without Minimum Studies  Drop Outs\")\n",
    "plt.ylabel(\"Incidents per 100k\")\n",
    "plt.show()"
   ]
  },
  {
   "cell_type": "code",
   "execution_count": null,
   "id": "5e6c4047",
   "metadata": {},
   "outputs": [
    {
     "name": "stdout",
     "output_type": "stream",
     "text": [
      "🔹 Pearson correlation: 0.025\n",
      "🔹 p-value: 0.6203\n",
      "No significant correlation found.\n"
     ]
    }
   ],
   "source": [
    "r, p = stats.pearsonr(\n",
    "    df_top20_analysis[\"%Without_Min_Studies\"].dropna(),\n",
    "    df_top20_analysis[\"Incidents_per_100k\"].dropna()\n",
    ")\n",
    "\n",
    "print(f\"🔹 Pearson correlation: {r:.3f}\")\n",
    "print(f\"🔹 p-value: {p:.4f}\")\n",
    "\n",
    "if p < 0.05:\n",
    "    print(\" Statistically significant correlation.\")\n",
    "else:\n",
    "    print(\"No significant correlation found.\")"
   ]
  },
  {
   "cell_type": "markdown",
   "id": "adeddd21",
   "metadata": {},
   "source": [
    "No significant correlation found.\n"
   ]
  },
  {
   "cell_type": "markdown",
   "id": "4b6ba50b",
   "metadata": {},
   "source": [
    "Drop outs HighSchool"
   ]
  },
  {
   "cell_type": "code",
   "execution_count": null,
   "id": "5a3adc8c",
   "metadata": {},
   "outputs": [
    {
     "data": {
      "image/png": "[encoded data removed]",
      "text/plain": [
       "<Figure size 800x600 with 1 Axes>"
      ]
     },
     "metadata": {},
     "output_type": "display_data"
    }
   ],
   "source": [
    "plt.figure(figsize=(8,6))\n",
    "sns.regplot(\n",
    "    data=df_top20_analysis,\n",
    "    x=\"%HighSchool\",\n",
    "    y=\"Incidents_per_100k\",\n",
    "    color=\"firebrick\",\n",
    "    scatter_kws={'alpha':0.6}\n",
    ")\n",
    "plt.title(\"Correlation between Dropout Rate and Gun Incidents\", fontsize=14)\n",
    "plt.xlabel(\"% High School Drop Outs\")\n",
    "plt.ylabel(\"Incidents per 100k\")\n",
    "plt.show()"
   ]
  },
  {
   "cell_type": "code",
   "execution_count": null,
   "id": "0909eeed",
   "metadata": {},
   "outputs": [
    {
     "name": "stdout",
     "output_type": "stream",
     "text": [
      "🔹 Pearson correlation: -0.251\n",
      "🔹 p-value: 0.0000\n",
      "Statistically significant correlation.\n"
     ]
    }
   ],
   "source": [
    "r, p = stats.pearsonr(\n",
    "    df_top20_analysis[\"%HighSchool\"].dropna(),\n",
    "    df_top20_analysis[\"Incidents_per_100k\"].dropna()\n",
    ")\n",
    "\n",
    "print(f\"🔹 Pearson correlation: {r:.3f}\")\n",
    "print(f\"🔹 p-value: {p:.4f}\")\n",
    "\n",
    "if p < 0.05:\n",
    "    print(\"Statistically significant correlation.\")\n",
    "else:\n",
    "    print(\"No significant correlation found.\")"
   ]
  },
  {
   "cell_type": "markdown",
   "id": "0ad97f24",
   "metadata": {},
   "source": [
    "AS the drop out in HighSchool decreases, the number of incidents per 100 k  decreases"
   ]
  },
  {
   "cell_type": "markdown",
   "id": "17bbd18b",
   "metadata": {},
   "source": [
    "For drop outs in Bachelors"
   ]
  },
  {
   "cell_type": "code",
   "execution_count": null,
   "id": "313344a5",
   "metadata": {},
   "outputs": [
    {
     "data": {
      "image/png": "[encoded data removed]",
      "text/plain": [
       "<Figure size 800x600 with 1 Axes>"
      ]
     },
     "metadata": {},
     "output_type": "display_data"
    }
   ],
   "source": [
    "plt.figure(figsize=(8,6))\n",
    "sns.regplot(\n",
    "    data=df_top20_analysis,\n",
    "    x=\"%Bachelor\",\n",
    "    y=\"Incidents_per_100k\",\n",
    "    color=\"firebrick\",\n",
    "    scatter_kws={'alpha':0.6}\n",
    ")\n",
    "plt.title(\"Correlation between Dropout Rate and Gun Incidents\", fontsize=14)\n",
    "plt.xlabel(\"% Bachelor Drop Outs\")\n",
    "plt.ylabel(\"Incidents per 100k\")\n",
    "plt.show()"
   ]
  },
  {
   "cell_type": "code",
   "execution_count": null,
   "id": "21a48840",
   "metadata": {},
   "outputs": [
    {
     "name": "stdout",
     "output_type": "stream",
     "text": [
      "🔹 Pearson correlation: 0.120\n",
      "🔹 p-value: 0.0159\n",
      "Statistically significant correlation.\n"
     ]
    }
   ],
   "source": [
    "r, p = stats.pearsonr(\n",
    "    df_top20_analysis[\"%Bachelor\"].dropna(),\n",
    "    df_top20_analysis[\"Incidents_per_100k\"].dropna()\n",
    ")\n",
    "\n",
    "print(f\"🔹 Pearson correlation: {r:.3f}\")\n",
    "print(f\"🔹 p-value: {p:.4f}\")\n",
    "\n",
    "if p < 0.05:\n",
    "    print(\"Statistically significant correlation.\")\n",
    "else:\n",
    "    print(\"No significant correlation found.\")"
   ]
  },
  {
   "cell_type": "markdown",
   "id": "34266943",
   "metadata": {},
   "source": [
    "AS the drop outs in Bachelors increases, the incidents per 100 k increases"
   ]
  },
  {
   "cell_type": "markdown",
   "id": "13996586",
   "metadata": {},
   "source": [
    "Drop outs in Master Degrees"
   ]
  },
  {
   "cell_type": "code",
   "execution_count": null,
   "id": "97e58ce1",
   "metadata": {},
   "outputs": [
    {
     "data": {
      "image/png": "[encoded data removed]",
      "text/plain": [
       "<Figure size 800x600 with 1 Axes>"
      ]
     },
     "metadata": {},
     "output_type": "display_data"
    }
   ],
   "source": [
    "plt.figure(figsize=(8,6))\n",
    "sns.regplot(\n",
    "    data=df_top20_analysis,\n",
    "    x=\"%Master_Degree\",\n",
    "    y=\"Incidents_per_100k\",\n",
    "    color=\"firebrick\",\n",
    "    scatter_kws={'alpha':0.6}\n",
    ")\n",
    "plt.title(\"Correlation between Dropout Rate and Gun Incidents\", fontsize=14)\n",
    "plt.xlabel(\"% Master_Degree  Drop Out\")\n",
    "plt.ylabel(\"Incidents per 100k\")\n",
    "plt.show()"
   ]
  },
  {
   "cell_type": "code",
   "execution_count": null,
   "id": "eebbac0f",
   "metadata": {},
   "outputs": [
    {
     "name": "stdout",
     "output_type": "stream",
     "text": [
      "🔹 Pearson correlation: 0.479\n",
      "🔹 p-value: 0.0000\n",
      "Statistically significant correlation.\n"
     ]
    }
   ],
   "source": [
    "r, p = stats.pearsonr(\n",
    "    df_top20_analysis[\"%Master_Degree\"].dropna(),\n",
    "    df_top20_analysis[\"Incidents_per_100k\"].dropna()\n",
    ")\n",
    "\n",
    "print(f\"🔹 Pearson correlation: {r:.3f}\")\n",
    "print(f\"🔹 p-value: {p:.4f}\")\n",
    "\n",
    "if p < 0.05:\n",
    "    print(\"Statistically significant correlation.\")\n",
    "else:\n",
    "    print(\"No significant correlation found.\")"
   ]
  },
  {
   "cell_type": "markdown",
   "id": "f5ec31fb",
   "metadata": {},
   "source": [
    "As the drop outs in Masters degree increases, the incidents per 100 k increases\n"
   ]
  },
  {
   "cell_type": "markdown",
   "id": "be6c8bf1",
   "metadata": {},
   "source": [
    "Doctorate Degree DropOuts"
   ]
  },
  {
   "cell_type": "code",
   "execution_count": 286,
   "id": "8fdde259",
   "metadata": {},
   "outputs": [
    {
     "data": {
      "image/png": "[encoded data removed]",
      "text/plain": [
       "<Figure size 800x600 with 1 Axes>"
      ]
     },
     "metadata": {},
     "output_type": "display_data"
    }
   ],
   "source": [
    "plt.figure(figsize=(8,6))\n",
    "sns.regplot(\n",
    "    data=df_top20_analysis,\n",
    "    x=\"%Doctorate_Degree\",\n",
    "    y=\"Incidents_per_100k\",\n",
    "    color=\"firebrick\",\n",
    "    scatter_kws={'alpha':0.6}\n",
    ")\n",
    "plt.title(\"Correlation between Dropout Rate and Gun Incidents\", fontsize=14)\n",
    "plt.xlabel(\"% Doctorate_Degree  Drop Outs\")\n",
    "plt.ylabel(\"Incidents per 100k\")\n",
    "plt.show()"
   ]
  },
  {
   "cell_type": "code",
   "execution_count": null,
   "id": "be94eaa6",
   "metadata": {},
   "outputs": [
    {
     "name": "stdout",
     "output_type": "stream",
     "text": [
      "🔹 Pearson correlation: 0.534\n",
      "🔹 p-value: 0.0000\n",
      "Statistically significant correlation.\n"
     ]
    }
   ],
   "source": [
    "r, p = stats.pearsonr(\n",
    "    df_top20_analysis[\"%Doctorate_Degree\"].dropna(),\n",
    "    df_top20_analysis[\"Incidents_per_100k\"].dropna()\n",
    ")\n",
    "\n",
    "print(f\"🔹 Pearson correlation: {r:.3f}\")\n",
    "print(f\"🔹 p-value: {p:.4f}\")\n",
    "\n",
    "if p < 0.05:\n",
    "    print(\"Statistically significant correlation.\")\n",
    "else:\n",
    "    print(\"No significant correlation found.\")"
   ]
  },
  {
   "cell_type": "markdown",
   "id": "6d1147f8",
   "metadata": {},
   "source": [
    "AS the drop outs in Doctrorate increases, the incidents per 100 k increases"
   ]
  },
  {
   "cell_type": "markdown",
   "id": "8ff41f4b",
   "metadata": {},
   "source": [
    "Map with deadliest states"
   ]
  },
  {
   "cell_type": "code",
   "execution_count": null,
   "id": "4e982ccb",
   "metadata": {},
   "outputs": [
    {
     "data": {
      "application/vnd.plotly.v1+json": {
       "config": {
        "plotlyServerURL": "https://plot.ly"
       },
       "data": [
        {
         "coloraxis": "coloraxis",
         "customdata": [
          [
           18.823,
           0.25586304059094533
          ],
          [
           23.333333333333332,
           0.1357773187736099
          ],
          [
           30.310000000000002,
           0.07343231285570573
          ],
          [
           18.997,
           0.1516658303634873
          ],
          [
           23.444,
           0.10551957332929847
          ],
          [
           25.974,
           0.12466814063788254
          ],
          [
           7.872,
           0.0694605284737859
          ],
          [
           14.623333333333335,
           0.19019262394144298
          ],
          [
           11.977,
           1.1713867398345084
          ],
          [
           22.753,
           0.12355978142503954
          ],
          [
           20.753,
           0.1791011362975237
          ],
          [
           53.335,
           0.06941451079295063
          ],
          [
           75,
           0.05175185295991534
          ],
          [
           15.707999999999998,
           0.3448663596346388
          ],
          [
           19.186,
           0.15237074738402706
          ],
          [
           18.464285714285715,
           0.07197094251149058
          ],
          [
           29.561111111111114,
           0.09876959467113244
          ],
          [
           22.149,
           0.12886777389474052
          ],
          [
           16.187,
           0.4538767593978007
          ],
          [
           79.65666666666667,
           0.09777782016944671
          ],
          [
           19.716,
           0.20961017646894503
          ],
          [
           7.677,
           0.05628335606919234
          ],
          [
           19.434,
           0.13384771130263085
          ],
          [
           16.56,
           0.11628419813834108
          ],
          [
           23.220999999999997,
           0.37555666707840585
          ],
          [
           22.249000000000002,
           0.22592780209463076
          ],
          [
           71.85333333333334,
           0.12637773357166002
          ],
          [
           14.684285714285712,
           0.1173375484193857
          ],
          [
           22.147,
           0.1168780953096212
          ],
          [
           0,
           0.07165929207617384
          ],
          [
           12.555,
           0.10576482457019395
          ],
          [
           41.411,
           0.1190379804992309
          ],
          [
           11.623000000000001,
           0.09375114150238627
          ],
          [
           23.487000000000002,
           0.13528176581877932
          ],
          [
           40,
           0.12756306079910604
          ],
          [
           21.878999999999998,
           0.15172730976409107
          ],
          [
           31.46,
           0.10510071049459131
          ],
          [
           21.849999999999998,
           0.07516952319527485
          ],
          [
           19.748,
           0.17188175123534263
          ],
          [
           0,
           0.12399605078558847
          ],
          [
           22.119,
           0.1975153654854022
          ],
          [
           71.11,
           0.1404185570548279
          ],
          [
           17.972,
           0.2108078300073442
          ],
          [
           29.565999999999995,
           0.11272239147576286
          ],
          [
           37.406666666666666,
           0.04623235945626077
          ],
          [
           100,
           0.1597336919887164
          ],
          [
           20.889,
           0.1224082797614128
          ],
          [
           30.508,
           0.0811137407970554
          ],
          [
           30.126666666666665,
           0.09339733262338813
          ],
          [
           23.481,
           0.1020732561646764
          ],
          [
           50,
           0.1727834901919452
          ]
         ],
         "geo": "geo",
         "hovertemplate": "<b>%{hovertext}</b><br><br>State_Code=%{location}<br>%Deadliest=%{customdata[0]}<br>Incidents_per_100k=%{z}<extra></extra>",
         "hovertext": [
          "Alabama",
          "Alaska",
          "Arizona",
          "Arkansas",
          "California",
          "Colorado",
          "Connecticut",
          "Delaware",
          "District of Columbia",
          "Florida",
          "Georgia",
          "Hawaii",
          "Idaho",
          "Illinois",
          "Indiana",
          "Iowa",
          "Kansas",
          "Kentucky",
          "Louisiana",
          "Maine",
          "Maryland",
          "Massachusetts",
          "Michigan",
          "Minnesota",
          "Mississippi",
          "Missouri",
          "Montana",
          "Nebraska",
          "Nevada",
          "New Hampshire",
          "New Jersey",
          "New Mexico",
          "New York",
          "North Carolina",
          "North Dakota",
          "Ohio",
          "Oklahoma",
          "Oregon",
          "Pennsylvania",
          "Rhode Island",
          "South Carolina",
          "South Dakota",
          "Tennessee",
          "Texas",
          "Utah",
          "Vermont",
          "Virginia",
          "Washington",
          "West Virginia",
          "Wisconsin",
          "Wyoming"
         ],
         "locationmode": "USA-states",
         "locations": [
          "AL",
          "AK",
          "AZ",
          "AR",
          "CA",
          "CO",
          "CT",
          "DE",
          "DC",
          "FL",
          "GA",
          "HI",
          "ID",
          "IL",
          "IN",
          "IA",
          "KS",
          "KY",
          "LA",
          "ME",
          "MD",
          "MA",
          "MI",
          "MN",
          "MS",
          "MO",
          "MT",
          "NE",
          "NV",
          "NH",
          "NJ",
          "NM",
          "NY",
          "NC",
          "ND",
          "OH",
          "OK",
          "OR",
          "PA",
          "RI",
          "SC",
          "SD",
          "TN",
          "TX",
          "UT",
          "VT",
          "VA",
          "WA",
          "WV",
          "WI",
          "WY"
         ],
         "name": "",
         "type": "choropleth",
         "z": [
          0.25586304059094533,
          0.1357773187736099,
          0.07343231285570573,
          0.1516658303634873,
          0.10551957332929847,
          0.12466814063788254,
          0.0694605284737859,
          0.19019262394144298,
          1.1713867398345084,
          0.12355978142503954,
          0.1791011362975237,
          0.06941451079295063,
          0.05175185295991534,
          0.3448663596346388,
          0.15237074738402706,
          0.07197094251149058,
          0.09876959467113244,
          0.12886777389474052,
          0.4538767593978007,
          0.09777782016944671,
          0.20961017646894503,
          0.05628335606919234,
          0.13384771130263085,
          0.11628419813834108,
          0.37555666707840585,
          0.22592780209463076,
          0.12637773357166002,
          0.1173375484193857,
          0.1168780953096212,
          0.07165929207617384,
          0.10576482457019395,
          0.1190379804992309,
          0.09375114150238627,
          0.13528176581877932,
          0.12756306079910604,
          0.15172730976409107,
          0.10510071049459131,
          0.07516952319527485,
          0.17188175123534263,
          0.12399605078558847,
          0.1975153654854022,
          0.1404185570548279,
          0.2108078300073442,
          0.11272239147576286,
          0.04623235945626077,
          0.1597336919887164,
          0.1224082797614128,
          0.0811137407970554,
          0.09339733262338813,
          0.1020732561646764,
          0.1727834901919452
         ]
        }
       ],
       "layout": {
        "coloraxis": {
         "colorbar": {
          "title": {
           "text": "Incidents_per_100k"
          }
         },
         "colorscale": [
          [
           0,
           "rgb(255,245,240)"
          ],
          [
           0.125,
           "rgb(254,224,210)"
          ],
          [
           0.25,
           "rgb(252,187,161)"
          ],
          [
           0.375,
           "rgb(252,146,114)"
          ],
          [
           0.5,
           "rgb(251,106,74)"
          ],
          [
           0.625,
           "rgb(239,59,44)"
          ],
          [
           0.75,
           "rgb(203,24,29)"
          ],
          [
           0.875,
           "rgb(165,15,21)"
          ],
          [
           1,
           "rgb(103,0,13)"
          ]
         ]
        },
        "geo": {
         "center": {},
         "domain": {
          "x": [
           0,
           1
          ],
          "y": [
           0,
           1
          ]
         },
         "scope": "usa"
        },
        "legend": {
         "tracegroupgap": 0
        },
        "template": {
         "data": {
          "bar": [
           {
            "error_x": {
             "color": "#2a3f5f"
            },
            "error_y": {
             "color": "#2a3f5f"
            },
            "marker": {
             "line": {
              "color": "#E5ECF6",
              "width": 0.5
             },
             "pattern": {
              "fillmode": "overlay",
              "size": 10,
              "solidity": 0.2
             }
            },
            "type": "bar"
           }
          ],
          "barpolar": [
           {
            "marker": {
             "line": {
              "color": "#E5ECF6",
              "width": 0.5
             },
             "pattern": {
              "fillmode": "overlay",
              "size": 10,
              "solidity": 0.2
             }
            },
            "type": "barpolar"
           }
          ],
          "carpet": [
           {
            "aaxis": {
             "endlinecolor": "#2a3f5f",
             "gridcolor": "white",
             "linecolor": "white",
             "minorgridcolor": "white",
             "startlinecolor": "#2a3f5f"
            },
            "baxis": {
             "endlinecolor": "#2a3f5f",
             "gridcolor": "white",
             "linecolor": "white",
             "minorgridcolor": "white",
             "startlinecolor": "#2a3f5f"
            },
            "type": "carpet"
           }
          ],
          "choropleth": [
           {
            "colorbar": {
             "outlinewidth": 0,
             "ticks": ""
            },
            "type": "choropleth"
           }
          ],
          "contour": [
           {
            "colorbar": {
             "outlinewidth": 0,
             "ticks": ""
            },
            "colorscale": [
             [
              0,
              "#0d0887"
             ],
             [
              0.1111111111111111,
              "#46039f"
             ],
             [
              0.2222222222222222,
              "#7201a8"
             ],
             [
              0.3333333333333333,
              "#9c179e"
             ],
             [
              0.4444444444444444,
              "#bd3786"
             ],
             [
              0.5555555555555556,
              "#d8576b"
             ],
             [
              0.6666666666666666,
              "#ed7953"
             ],
             [
              0.7777777777777778,
              "#fb9f3a"
             ],
             [
              0.8888888888888888,
              "#fdca26"
             ],
             [
              1,
              "#f0f921"
             ]
            ],
            "type": "contour"
           }
          ],
          "contourcarpet": [
           {
            "colorbar": {
             "outlinewidth": 0,
             "ticks": ""
            },
            "type": "contourcarpet"
           }
          ],
          "heatmap": [
           {
            "colorbar": {
             "outlinewidth": 0,
             "ticks": ""
            },
            "colorscale": [
             [
              0,
              "#0d0887"
             ],
             [
              0.1111111111111111,
              "#46039f"
             ],
             [
              0.2222222222222222,
              "#7201a8"
             ],
             [
              0.3333333333333333,
              "#9c179e"
             ],
             [
              0.4444444444444444,
              "#bd3786"
             ],
             [
              0.5555555555555556,
              "#d8576b"
             ],
             [
              0.6666666666666666,
              "#ed7953"
             ],
             [
              0.7777777777777778,
              "#fb9f3a"
             ],
             [
              0.8888888888888888,
              "#fdca26"
             ],
             [
              1,
              "#f0f921"
             ]
            ],
            "type": "heatmap"
           }
          ],
          "heatmapgl": [
           {
            "colorbar": {
             "outlinewidth": 0,
             "ticks": ""
            },
            "colorscale": [
             [
              0,
              "#0d0887"
             ],
             [
              0.1111111111111111,
              "#46039f"
             ],
             [
              0.2222222222222222,
              "#7201a8"
             ],
             [
              0.3333333333333333,
              "#9c179e"
             ],
             [
              0.4444444444444444,
              "#bd3786"
             ],
             [
              0.5555555555555556,
              "#d8576b"
             ],
             [
              0.6666666666666666,
              "#ed7953"
             ],
             [
              0.7777777777777778,
              "#fb9f3a"
             ],
             [
              0.8888888888888888,
              "#fdca26"
             ],
             [
              1,
              "#f0f921"
             ]
            ],
            "type": "heatmapgl"
           }
          ],
          "histogram": [
           {
            "marker": {
             "pattern": {
              "fillmode": "overlay",
              "size": 10,
              "solidity": 0.2
             }
            },
            "type": "histogram"
           }
          ],
          "histogram2d": [
           {
            "colorbar": {
             "outlinewidth": 0,
             "ticks": ""
            },
            "colorscale": [
             [
              0,
              "#0d0887"
             ],
             [
              0.1111111111111111,
              "#46039f"
             ],
             [
              0.2222222222222222,
              "#7201a8"
             ],
             [
              0.3333333333333333,
              "#9c179e"
             ],
             [
              0.4444444444444444,
              "#bd3786"
             ],
             [
              0.5555555555555556,
              "#d8576b"
             ],
             [
              0.6666666666666666,
              "#ed7953"
             ],
             [
              0.7777777777777778,
              "#fb9f3a"
             ],
             [
              0.8888888888888888,
              "#fdca26"
             ],
             [
              1,
              "#f0f921"
             ]
            ],
            "type": "histogram2d"
           }
          ],
          "histogram2dcontour": [
           {
            "colorbar": {
             "outlinewidth": 0,
             "ticks": ""
            },
            "colorscale": [
             [
              0,
              "#0d0887"
             ],
             [
              0.1111111111111111,
              "#46039f"
             ],
             [
              0.2222222222222222,
              "#7201a8"
             ],
             [
              0.3333333333333333,
              "#9c179e"
             ],
             [
              0.4444444444444444,
              "#bd3786"
             ],
             [
              0.5555555555555556,
              "#d8576b"
             ],
             [
              0.6666666666666666,
              "#ed7953"
             ],
             [
              0.7777777777777778,
              "#fb9f3a"
             ],
             [
              0.8888888888888888,
              "#fdca26"
             ],
             [
              1,
              "#f0f921"
             ]
            ],
            "type": "histogram2dcontour"
           }
          ],
          "mesh3d": [
           {
            "colorbar": {
             "outlinewidth": 0,
             "ticks": ""
            },
            "type": "mesh3d"
           }
          ],
          "parcoords": [
           {
            "line": {
             "colorbar": {
              "outlinewidth": 0,
              "ticks": ""
             }
            },
            "type": "parcoords"
           }
          ],
          "pie": [
           {
            "automargin": true,
            "type": "pie"
           }
          ],
          "scatter": [
           {
            "fillpattern": {
             "fillmode": "overlay",
             "size": 10,
             "solidity": 0.2
            },
            "type": "scatter"
           }
          ],
          "scatter3d": [
           {
            "line": {
             "colorbar": {
              "outlinewidth": 0,
              "ticks": ""
             }
            },
            "marker": {
             "colorbar": {
              "outlinewidth": 0,
              "ticks": ""
             }
            },
            "type": "scatter3d"
           }
          ],
          "scattercarpet": [
           {
            "marker": {
             "colorbar": {
              "outlinewidth": 0,
              "ticks": ""
             }
            },
            "type": "scattercarpet"
           }
          ],
          "scattergeo": [
           {
            "marker": {
             "colorbar": {
              "outlinewidth": 0,
              "ticks": ""
             }
            },
            "type": "scattergeo"
           }
          ],
          "scattergl": [
           {
            "marker": {
             "colorbar": {
              "outlinewidth": 0,
              "ticks": ""
             }
            },
            "type": "scattergl"
           }
          ],
          "scattermapbox": [
           {
            "marker": {
             "colorbar": {
              "outlinewidth": 0,
              "ticks": ""
             }
            },
            "type": "scattermapbox"
           }
          ],
          "scatterpolar": [
           {
            "marker": {
             "colorbar": {
              "outlinewidth": 0,
              "ticks": ""
             }
            },
            "type": "scatterpolar"
           }
          ],
          "scatterpolargl": [
           {
            "marker": {
             "colorbar": {
              "outlinewidth": 0,
              "ticks": ""
             }
            },
            "type": "scatterpolargl"
           }
          ],
          "scatterternary": [
           {
            "marker": {
             "colorbar": {
              "outlinewidth": 0,
              "ticks": ""
             }
            },
            "type": "scatterternary"
           }
          ],
          "surface": [
           {
            "colorbar": {
             "outlinewidth": 0,
             "ticks": ""
            },
            "colorscale": [
             [
              0,
              "#0d0887"
             ],
             [
              0.1111111111111111,
              "#46039f"
             ],
             [
              0.2222222222222222,
              "#7201a8"
             ],
             [
              0.3333333333333333,
              "#9c179e"
             ],
             [
              0.4444444444444444,
              "#bd3786"
             ],
             [
              0.5555555555555556,
              "#d8576b"
             ],
             [
              0.6666666666666666,
              "#ed7953"
             ],
             [
              0.7777777777777778,
              "#fb9f3a"
             ],
             [
              0.8888888888888888,
              "#fdca26"
             ],
             [
              1,
              "#f0f921"
             ]
            ],
            "type": "surface"
           }
          ],
          "table": [
           {
            "cells": {
             "fill": {
              "color": "#EBF0F8"
             },
             "line": {
              "color": "white"
             }
            },
            "header": {
             "fill": {
              "color": "#C8D4E3"
             },
             "line": {
              "color": "white"
             }
            },
            "type": "table"
           }
          ]
         },
         "layout": {
          "annotationdefaults": {
           "arrowcolor": "#2a3f5f",
           "arrowhead": 0,
           "arrowwidth": 1
          },
          "autotypenumbers": "strict",
          "coloraxis": {
           "colorbar": {
            "outlinewidth": 0,
            "ticks": ""
           }
          },
          "colorscale": {
           "diverging": [
            [
             0,
             "#8e0152"
            ],
            [
             0.1,
             "#c51b7d"
            ],
            [
             0.2,
             "#de77ae"
            ],
            [
             0.3,
             "#f1b6da"
            ],
            [
             0.4,
             "#fde0ef"
            ],
            [
             0.5,
             "#f7f7f7"
            ],
            [
             0.6,
             "#e6f5d0"
            ],
            [
             0.7,
             "#b8e186"
            ],
            [
             0.8,
             "#7fbc41"
            ],
            [
             0.9,
             "#4d9221"
            ],
            [
             1,
             "#276419"
            ]
           ],
           "sequential": [
            [
             0,
             "#0d0887"
            ],
            [
             0.1111111111111111,
             "#46039f"
            ],
            [
             0.2222222222222222,
             "#7201a8"
            ],
            [
             0.3333333333333333,
             "#9c179e"
            ],
            [
             0.4444444444444444,
             "#bd3786"
            ],
            [
             0.5555555555555556,
             "#d8576b"
            ],
            [
             0.6666666666666666,
             "#ed7953"
            ],
            [
             0.7777777777777778,
             "#fb9f3a"
            ],
            [
             0.8888888888888888,
             "#fdca26"
            ],
            [
             1,
             "#f0f921"
            ]
           ],
           "sequentialminus": [
            [
             0,
             "#0d0887"
            ],
            [
             0.1111111111111111,
             "#46039f"
            ],
            [
             0.2222222222222222,
             "#7201a8"
            ],
            [
             0.3333333333333333,
             "#9c179e"
            ],
            [
             0.4444444444444444,
             "#bd3786"
            ],
            [
             0.5555555555555556,
             "#d8576b"
            ],
            [
             0.6666666666666666,
             "#ed7953"
            ],
            [
             0.7777777777777778,
             "#fb9f3a"
            ],
            [
             0.8888888888888888,
             "#fdca26"
            ],
            [
             1,
             "#f0f921"
            ]
           ]
          },
          "colorway": [
           "#636efa",
           "#EF553B",
           "#00cc96",
           "#ab63fa",
           "#FFA15A",
           "#19d3f3",
           "#FF6692",
           "#B6E880",
           "#FF97FF",
           "#FECB52"
          ],
          "font": {
           "color": "#2a3f5f"
          },
          "geo": {
           "bgcolor": "white",
           "lakecolor": "white",
           "landcolor": "#E5ECF6",
           "showlakes": true,
           "showland": true,
           "subunitcolor": "white"
          },
          "hoverlabel": {
           "align": "left"
          },
          "hovermode": "closest",
          "mapbox": {
           "style": "light"
          },
          "paper_bgcolor": "white",
          "plot_bgcolor": "#E5ECF6",
          "polar": {
           "angularaxis": {
            "gridcolor": "white",
            "linecolor": "white",
            "ticks": ""
           },
           "bgcolor": "#E5ECF6",
           "radialaxis": {
            "gridcolor": "white",
            "linecolor": "white",
            "ticks": ""
           }
          },
          "scene": {
           "xaxis": {
            "backgroundcolor": "#E5ECF6",
            "gridcolor": "white",
            "gridwidth": 2,
            "linecolor": "white",
            "showbackground": true,
            "ticks": "",
            "zerolinecolor": "white"
           },
           "yaxis": {
            "backgroundcolor": "#E5ECF6",
            "gridcolor": "white",
            "gridwidth": 2,
            "linecolor": "white",
            "showbackground": true,
            "ticks": "",
            "zerolinecolor": "white"
           },
           "zaxis": {
            "backgroundcolor": "#E5ECF6",
            "gridcolor": "white",
            "gridwidth": 2,
            "linecolor": "white",
            "showbackground": true,
            "ticks": "",
            "zerolinecolor": "white"
           }
          },
          "shapedefaults": {
           "line": {
            "color": "#2a3f5f"
           }
          },
          "ternary": {
           "aaxis": {
            "gridcolor": "white",
            "linecolor": "white",
            "ticks": ""
           },
           "baxis": {
            "gridcolor": "white",
            "linecolor": "white",
            "ticks": ""
           },
           "bgcolor": "#E5ECF6",
           "caxis": {
            "gridcolor": "white",
            "linecolor": "white",
            "ticks": ""
           }
          },
          "title": {
           "x": 0.05
          },
          "xaxis": {
           "automargin": true,
           "gridcolor": "white",
           "linecolor": "white",
           "ticks": "",
           "title": {
            "standoff": 15
           },
           "zerolinecolor": "white",
           "zerolinewidth": 2
          },
          "yaxis": {
           "automargin": true,
           "gridcolor": "white",
           "linecolor": "white",
           "ticks": "",
           "title": {
            "standoff": 15
           },
           "zerolinecolor": "white",
           "zerolinewidth": 2
          }
         }
        },
        "title": {
         "text": "Gun Incidents per 100k Population by State"
        }
       }
      }
     },
     "metadata": {},
     "output_type": "display_data"
    }
   ],
   "source": [
    "\n",
    "import plotly.express as px\n",
    "\n",
    "# Compute averages by state\n",
    "map_data = df_top20_analysis.groupby(\"State\", as_index=False).agg({\n",
    "    \"Incidents_per_100k\": \"mean\",\n",
    "    \"%Deadliest\": \"mean\"\n",
    "})\n",
    "\n",
    "us_state_abbrev = {\n",
    "    'Alabama': 'AL','Alaska': 'AK','Arizona': 'AZ','Arkansas': 'AR','California': 'CA',\n",
    "    'Colorado': 'CO','Connecticut': 'CT','Delaware': 'DE','District of Columbia': 'DC',\n",
    "    'Florida': 'FL','Georgia': 'GA','Hawaii': 'HI','Idaho': 'ID','Illinois': 'IL',\n",
    "    'Indiana': 'IN','Iowa': 'IA','Kansas': 'KS','Kentucky': 'KY','Louisiana': 'LA',\n",
    "    'Maine': 'ME','Maryland': 'MD','Massachusetts': 'MA','Michigan': 'MI','Minnesota': 'MN',\n",
    "    'Mississippi': 'MS','Missouri': 'MO','Montana': 'MT','Nebraska': 'NE','Nevada': 'NV',\n",
    "    'New Hampshire': 'NH','New Jersey': 'NJ','New Mexico': 'NM','New York': 'NY',\n",
    "    'North Carolina': 'NC','North Dakota': 'ND','Ohio': 'OH','Oklahoma': 'OK','Oregon': 'OR',\n",
    "    'Pennsylvania': 'PA','Rhode Island': 'RI','South Carolina': 'SC','South Dakota': 'SD',\n",
    "    'Tennessee': 'TN','Texas': 'TX','Utah': 'UT','Vermont': 'VT','Virginia': 'VA',\n",
    "    'Washington': 'WA','West Virginia': 'WV','Wisconsin': 'WI','Wyoming': 'WY',\n",
    "    'Puerto Rico': 'PR'\n",
    "}\n",
    "\n",
    "# Map full names to abbreviations\n",
    "map_data[\"State_Code\"] = map_data[\"State\"].map(us_state_abbrev)\n",
    "\n",
    "\n",
    "fig = px.choropleth(\n",
    "    map_data,\n",
    "    locations=\"State_Code\",             \n",
    "    locationmode=\"USA-states\",\n",
    "    color=\"Incidents_per_100k\",\n",
    "    hover_name=\"State\",\n",
    "    hover_data={\"%Deadliest\": True, \"Incidents_per_100k\": True},\n",
    "    color_continuous_scale=\"Reds\",\n",
    "    scope=\"usa\",\n",
    "    title=\"Gun Incidents per 100k Population by State\"\n",
    ")\n",
    "fig.show()"
   ]
  },
  {
   "cell_type": "markdown",
   "id": "5db7232e",
   "metadata": {},
   "source": [
    "Mao n incidents and drop out highschool"
   ]
  },
  {
   "cell_type": "code",
   "execution_count": 278,
   "id": "004d3a7e",
   "metadata": {},
   "outputs": [
    {
     "data": {
      "application/vnd.plotly.v1+json": {
       "config": {
        "plotlyServerURL": "https://plot.ly"
       },
       "data": [
        {
         "coloraxis": "coloraxis",
         "customdata": [
          [
           25.394,
           0.25586304059094533
          ],
          [
           23.233333333333334,
           0.1357773187736099
          ],
          [
           19.805,
           0.07343231285570573
          ],
          [
           28.108999999999998,
           0.1516658303634873
          ],
          [
           18.268,
           0.10551957332929847
          ],
          [
           16.865000000000002,
           0.12466814063788254
          ],
          [
           23.3,
           0.0694605284737859
          ],
          [
           26.773333333333333,
           0.19019262394144298
          ],
          [
           13.267,
           1.1713867398345084
          ],
          [
           23.969,
           0.12355978142503954
          ],
          [
           22.625,
           0.1791011362975237
          ],
          [
           23.86,
           0.06941451079295063
          ],
          [
           21.54,
           0.05175185295991534
          ],
          [
           22.098,
           0.3448663596346388
          ],
          [
           27.919999999999998,
           0.15237074738402706
          ],
          [
           26.322857142857142,
           0.07197094251149058
          ],
          [
           21.603333333333335,
           0.09876959467113244
          ],
          [
           26.284000000000002,
           0.12886777389474052
          ],
          [
           28.131999999999998,
           0.4538767593978007
          ],
          [
           26.05,
           0.09777782016944671
          ],
          [
           21.318,
           0.20961017646894503
          ],
          [
           20.845999999999997,
           0.05628335606919234
          ],
          [
           24.701,
           0.13384771130263085
          ],
          [
           21.186,
           0.11628419813834108
          ],
          [
           23.903,
           0.37555666707840585
          ],
          [
           25.962,
           0.22592780209463076
          ],
          [
           24.723333333333333,
           0.12637773357166002
          ],
          [
           22.072857142857142,
           0.1173375484193857
          ],
          [
           23.834,
           0.1168780953096212
          ],
          [
           22.575,
           0.07165929207617384
          ],
          [
           23.97,
           0.10576482457019395
          ],
          [
           21.486,
           0.1190379804992309
          ],
          [
           21.47,
           0.09375114150238627
          ],
          [
           21.232,
           0.13528176581877932
          ],
          [
           20.81,
           0.12756306079910604
          ],
          [
           28.895999999999997,
           0.15172730976409107
          ],
          [
           25.986,
           0.10510071049459131
          ],
          [
           18.385714285714283,
           0.07516952319527485
          ],
          [
           30.391000000000002,
           0.17188175123534263
          ],
          [
           23.340000000000003,
           0.12399605078558847
          ],
          [
           24.399,
           0.1975153654854022
          ],
          [
           25.3925,
           0.1404185570548279
          ],
          [
           26.153,
           0.2108078300073442
          ],
          [
           20.416999999999998,
           0.11272239147576286
          ],
          [
           19.411666666666665,
           0.04623235945626077
          ],
          [
           25.3,
           0.1597336919887164
          ],
          [
           20.161,
           0.1224082797614128
          ],
          [
           18.112000000000002,
           0.0811137407970554
          ],
          [
           32.95666666666667,
           0.09339733262338813
          ],
          [
           26.856,
           0.1020732561646764
          ],
          [
           24.54,
           0.1727834901919452
          ]
         ],
         "geo": "geo",
         "hovertemplate": "<b>%{hovertext}</b><br><br>State_Code=%{location}<br>%HighSchool=%{customdata[0]}<br>Incidents_per_100k=%{z}<extra></extra>",
         "hovertext": [
          "Alabama",
          "Alaska",
          "Arizona",
          "Arkansas",
          "California",
          "Colorado",
          "Connecticut",
          "Delaware",
          "District of Columbia",
          "Florida",
          "Georgia",
          "Hawaii",
          "Idaho",
          "Illinois",
          "Indiana",
          "Iowa",
          "Kansas",
          "Kentucky",
          "Louisiana",
          "Maine",
          "Maryland",
          "Massachusetts",
          "Michigan",
          "Minnesota",
          "Mississippi",
          "Missouri",
          "Montana",
          "Nebraska",
          "Nevada",
          "New Hampshire",
          "New Jersey",
          "New Mexico",
          "New York",
          "North Carolina",
          "North Dakota",
          "Ohio",
          "Oklahoma",
          "Oregon",
          "Pennsylvania",
          "Rhode Island",
          "South Carolina",
          "South Dakota",
          "Tennessee",
          "Texas",
          "Utah",
          "Vermont",
          "Virginia",
          "Washington",
          "West Virginia",
          "Wisconsin",
          "Wyoming"
         ],
         "locationmode": "USA-states",
         "locations": [
          "AL",
          "AK",
          "AZ",
          "AR",
          "CA",
          "CO",
          "CT",
          "DE",
          "DC",
          "FL",
          "GA",
          "HI",
          "ID",
          "IL",
          "IN",
          "IA",
          "KS",
          "KY",
          "LA",
          "ME",
          "MD",
          "MA",
          "MI",
          "MN",
          "MS",
          "MO",
          "MT",
          "NE",
          "NV",
          "NH",
          "NJ",
          "NM",
          "NY",
          "NC",
          "ND",
          "OH",
          "OK",
          "OR",
          "PA",
          "RI",
          "SC",
          "SD",
          "TN",
          "TX",
          "UT",
          "VT",
          "VA",
          "WA",
          "WV",
          "WI",
          "WY"
         ],
         "name": "",
         "type": "choropleth",
         "z": [
          0.25586304059094533,
          0.1357773187736099,
          0.07343231285570573,
          0.1516658303634873,
          0.10551957332929847,
          0.12466814063788254,
          0.0694605284737859,
          0.19019262394144298,
          1.1713867398345084,
          0.12355978142503954,
          0.1791011362975237,
          0.06941451079295063,
          0.05175185295991534,
          0.3448663596346388,
          0.15237074738402706,
          0.07197094251149058,
          0.09876959467113244,
          0.12886777389474052,
          0.4538767593978007,
          0.09777782016944671,
          0.20961017646894503,
          0.05628335606919234,
          0.13384771130263085,
          0.11628419813834108,
          0.37555666707840585,
          0.22592780209463076,
          0.12637773357166002,
          0.1173375484193857,
          0.1168780953096212,
          0.07165929207617384,
          0.10576482457019395,
          0.1190379804992309,
          0.09375114150238627,
          0.13528176581877932,
          0.12756306079910604,
          0.15172730976409107,
          0.10510071049459131,
          0.07516952319527485,
          0.17188175123534263,
          0.12399605078558847,
          0.1975153654854022,
          0.1404185570548279,
          0.2108078300073442,
          0.11272239147576286,
          0.04623235945626077,
          0.1597336919887164,
          0.1224082797614128,
          0.0811137407970554,
          0.09339733262338813,
          0.1020732561646764,
          0.1727834901919452
         ]
        }
       ],
       "layout": {
        "coloraxis": {
         "colorbar": {
          "title": {
           "text": "Incidents_per_100k"
          }
         },
         "colorscale": [
          [
           0,
           "rgb(255,245,240)"
          ],
          [
           0.125,
           "rgb(254,224,210)"
          ],
          [
           0.25,
           "rgb(252,187,161)"
          ],
          [
           0.375,
           "rgb(252,146,114)"
          ],
          [
           0.5,
           "rgb(251,106,74)"
          ],
          [
           0.625,
           "rgb(239,59,44)"
          ],
          [
           0.75,
           "rgb(203,24,29)"
          ],
          [
           0.875,
           "rgb(165,15,21)"
          ],
          [
           1,
           "rgb(103,0,13)"
          ]
         ]
        },
        "geo": {
         "center": {},
         "domain": {
          "x": [
           0,
           1
          ],
          "y": [
           0,
           1
          ]
         },
         "scope": "usa"
        },
        "legend": {
         "tracegroupgap": 0
        },
        "template": {
         "data": {
          "bar": [
           {
            "error_x": {
             "color": "#2a3f5f"
            },
            "error_y": {
             "color": "#2a3f5f"
            },
            "marker": {
             "line": {
              "color": "#E5ECF6",
              "width": 0.5
             },
             "pattern": {
              "fillmode": "overlay",
              "size": 10,
              "solidity": 0.2
             }
            },
            "type": "bar"
           }
          ],
          "barpolar": [
           {
            "marker": {
             "line": {
              "color": "#E5ECF6",
              "width": 0.5
             },
             "pattern": {
              "fillmode": "overlay",
              "size": 10,
              "solidity": 0.2
             }
            },
            "type": "barpolar"
           }
          ],
          "carpet": [
           {
            "aaxis": {
             "endlinecolor": "#2a3f5f",
             "gridcolor": "white",
             "linecolor": "white",
             "minorgridcolor": "white",
             "startlinecolor": "#2a3f5f"
            },
            "baxis": {
             "endlinecolor": "#2a3f5f",
             "gridcolor": "white",
             "linecolor": "white",
             "minorgridcolor": "white",
             "startlinecolor": "#2a3f5f"
            },
            "type": "carpet"
           }
          ],
          "choropleth": [
           {
            "colorbar": {
             "outlinewidth": 0,
             "ticks": ""
            },
            "type": "choropleth"
           }
          ],
          "contour": [
           {
            "colorbar": {
             "outlinewidth": 0,
             "ticks": ""
            },
            "colorscale": [
             [
              0,
              "#0d0887"
             ],
             [
              0.1111111111111111,
              "#46039f"
             ],
             [
              0.2222222222222222,
              "#7201a8"
             ],
             [
              0.3333333333333333,
              "#9c179e"
             ],
             [
              0.4444444444444444,
              "#bd3786"
             ],
             [
              0.5555555555555556,
              "#d8576b"
             ],
             [
              0.6666666666666666,
              "#ed7953"
             ],
             [
              0.7777777777777778,
              "#fb9f3a"
             ],
             [
              0.8888888888888888,
              "#fdca26"
             ],
             [
              1,
              "#f0f921"
             ]
            ],
            "type": "contour"
           }
          ],
          "contourcarpet": [
           {
            "colorbar": {
             "outlinewidth": 0,
             "ticks": ""
            },
            "type": "contourcarpet"
           }
          ],
          "heatmap": [
           {
            "colorbar": {
             "outlinewidth": 0,
             "ticks": ""
            },
            "colorscale": [
             [
              0,
              "#0d0887"
             ],
             [
              0.1111111111111111,
              "#46039f"
             ],
             [
              0.2222222222222222,
              "#7201a8"
             ],
             [
              0.3333333333333333,
              "#9c179e"
             ],
             [
              0.4444444444444444,
              "#bd3786"
             ],
             [
              0.5555555555555556,
              "#d8576b"
             ],
             [
              0.6666666666666666,
              "#ed7953"
             ],
             [
              0.7777777777777778,
              "#fb9f3a"
             ],
             [
              0.8888888888888888,
              "#fdca26"
             ],
             [
              1,
              "#f0f921"
             ]
            ],
            "type": "heatmap"
           }
          ],
          "heatmapgl": [
           {
            "colorbar": {
             "outlinewidth": 0,
             "ticks": ""
            },
            "colorscale": [
             [
              0,
              "#0d0887"
             ],
             [
              0.1111111111111111,
              "#46039f"
             ],
             [
              0.2222222222222222,
              "#7201a8"
             ],
             [
              0.3333333333333333,
              "#9c179e"
             ],
             [
              0.4444444444444444,
              "#bd3786"
             ],
             [
              0.5555555555555556,
              "#d8576b"
             ],
             [
              0.6666666666666666,
              "#ed7953"
             ],
             [
              0.7777777777777778,
              "#fb9f3a"
             ],
             [
              0.8888888888888888,
              "#fdca26"
             ],
             [
              1,
              "#f0f921"
             ]
            ],
            "type": "heatmapgl"
           }
          ],
          "histogram": [
           {
            "marker": {
             "pattern": {
              "fillmode": "overlay",
              "size": 10,
              "solidity": 0.2
             }
            },
            "type": "histogram"
           }
          ],
          "histogram2d": [
           {
            "colorbar": {
             "outlinewidth": 0,
             "ticks": ""
            },
            "colorscale": [
             [
              0,
              "#0d0887"
             ],
             [
              0.1111111111111111,
              "#46039f"
             ],
             [
              0.2222222222222222,
              "#7201a8"
             ],
             [
              0.3333333333333333,
              "#9c179e"
             ],
             [
              0.4444444444444444,
              "#bd3786"
             ],
             [
              0.5555555555555556,
              "#d8576b"
             ],
             [
              0.6666666666666666,
              "#ed7953"
             ],
             [
              0.7777777777777778,
              "#fb9f3a"
             ],
             [
              0.8888888888888888,
              "#fdca26"
             ],
             [
              1,
              "#f0f921"
             ]
            ],
            "type": "histogram2d"
           }
          ],
          "histogram2dcontour": [
           {
            "colorbar": {
             "outlinewidth": 0,
             "ticks": ""
            },
            "colorscale": [
             [
              0,
              "#0d0887"
             ],
             [
              0.1111111111111111,
              "#46039f"
             ],
             [
              0.2222222222222222,
              "#7201a8"
             ],
             [
              0.3333333333333333,
              "#9c179e"
             ],
             [
              0.4444444444444444,
              "#bd3786"
             ],
             [
              0.5555555555555556,
              "#d8576b"
             ],
             [
              0.6666666666666666,
              "#ed7953"
             ],
             [
              0.7777777777777778,
              "#fb9f3a"
             ],
             [
              0.8888888888888888,
              "#fdca26"
             ],
             [
              1,
              "#f0f921"
             ]
            ],
            "type": "histogram2dcontour"
           }
          ],
          "mesh3d": [
           {
            "colorbar": {
             "outlinewidth": 0,
             "ticks": ""
            },
            "type": "mesh3d"
           }
          ],
          "parcoords": [
           {
            "line": {
             "colorbar": {
              "outlinewidth": 0,
              "ticks": ""
             }
            },
            "type": "parcoords"
           }
          ],
          "pie": [
           {
            "automargin": true,
            "type": "pie"
           }
          ],
          "scatter": [
           {
            "fillpattern": {
             "fillmode": "overlay",
             "size": 10,
             "solidity": 0.2
            },
            "type": "scatter"
           }
          ],
          "scatter3d": [
           {
            "line": {
             "colorbar": {
              "outlinewidth": 0,
              "ticks": ""
             }
            },
            "marker": {
             "colorbar": {
              "outlinewidth": 0,
              "ticks": ""
             }
            },
            "type": "scatter3d"
           }
          ],
          "scattercarpet": [
           {
            "marker": {
             "colorbar": {
              "outlinewidth": 0,
              "ticks": ""
             }
            },
            "type": "scattercarpet"
           }
          ],
          "scattergeo": [
           {
            "marker": {
             "colorbar": {
              "outlinewidth": 0,
              "ticks": ""
             }
            },
            "type": "scattergeo"
           }
          ],
          "scattergl": [
           {
            "marker": {
             "colorbar": {
              "outlinewidth": 0,
              "ticks": ""
             }
            },
            "type": "scattergl"
           }
          ],
          "scattermapbox": [
           {
            "marker": {
             "colorbar": {
              "outlinewidth": 0,
              "ticks": ""
             }
            },
            "type": "scattermapbox"
           }
          ],
          "scatterpolar": [
           {
            "marker": {
             "colorbar": {
              "outlinewidth": 0,
              "ticks": ""
             }
            },
            "type": "scatterpolar"
           }
          ],
          "scatterpolargl": [
           {
            "marker": {
             "colorbar": {
              "outlinewidth": 0,
              "ticks": ""
             }
            },
            "type": "scatterpolargl"
           }
          ],
          "scatterternary": [
           {
            "marker": {
             "colorbar": {
              "outlinewidth": 0,
              "ticks": ""
             }
            },
            "type": "scatterternary"
           }
          ],
          "surface": [
           {
            "colorbar": {
             "outlinewidth": 0,
             "ticks": ""
            },
            "colorscale": [
             [
              0,
              "#0d0887"
             ],
             [
              0.1111111111111111,
              "#46039f"
             ],
             [
              0.2222222222222222,
              "#7201a8"
             ],
             [
              0.3333333333333333,
              "#9c179e"
             ],
             [
              0.4444444444444444,
              "#bd3786"
             ],
             [
              0.5555555555555556,
              "#d8576b"
             ],
             [
              0.6666666666666666,
              "#ed7953"
             ],
             [
              0.7777777777777778,
              "#fb9f3a"
             ],
             [
              0.8888888888888888,
              "#fdca26"
             ],
             [
              1,
              "#f0f921"
             ]
            ],
            "type": "surface"
           }
          ],
          "table": [
           {
            "cells": {
             "fill": {
              "color": "#EBF0F8"
             },
             "line": {
              "color": "white"
             }
            },
            "header": {
             "fill": {
              "color": "#C8D4E3"
             },
             "line": {
              "color": "white"
             }
            },
            "type": "table"
           }
          ]
         },
         "layout": {
          "annotationdefaults": {
           "arrowcolor": "#2a3f5f",
           "arrowhead": 0,
           "arrowwidth": 1
          },
          "autotypenumbers": "strict",
          "coloraxis": {
           "colorbar": {
            "outlinewidth": 0,
            "ticks": ""
           }
          },
          "colorscale": {
           "diverging": [
            [
             0,
             "#8e0152"
            ],
            [
             0.1,
             "#c51b7d"
            ],
            [
             0.2,
             "#de77ae"
            ],
            [
             0.3,
             "#f1b6da"
            ],
            [
             0.4,
             "#fde0ef"
            ],
            [
             0.5,
             "#f7f7f7"
            ],
            [
             0.6,
             "#e6f5d0"
            ],
            [
             0.7,
             "#b8e186"
            ],
            [
             0.8,
             "#7fbc41"
            ],
            [
             0.9,
             "#4d9221"
            ],
            [
             1,
             "#276419"
            ]
           ],
           "sequential": [
            [
             0,
             "#0d0887"
            ],
            [
             0.1111111111111111,
             "#46039f"
            ],
            [
             0.2222222222222222,
             "#7201a8"
            ],
            [
             0.3333333333333333,
             "#9c179e"
            ],
            [
             0.4444444444444444,
             "#bd3786"
            ],
            [
             0.5555555555555556,
             "#d8576b"
            ],
            [
             0.6666666666666666,
             "#ed7953"
            ],
            [
             0.7777777777777778,
             "#fb9f3a"
            ],
            [
             0.8888888888888888,
             "#fdca26"
            ],
            [
             1,
             "#f0f921"
            ]
           ],
           "sequentialminus": [
            [
             0,
             "#0d0887"
            ],
            [
             0.1111111111111111,
             "#46039f"
            ],
            [
             0.2222222222222222,
             "#7201a8"
            ],
            [
             0.3333333333333333,
             "#9c179e"
            ],
            [
             0.4444444444444444,
             "#bd3786"
            ],
            [
             0.5555555555555556,
             "#d8576b"
            ],
            [
             0.6666666666666666,
             "#ed7953"
            ],
            [
             0.7777777777777778,
             "#fb9f3a"
            ],
            [
             0.8888888888888888,
             "#fdca26"
            ],
            [
             1,
             "#f0f921"
            ]
           ]
          },
          "colorway": [
           "#636efa",
           "#EF553B",
           "#00cc96",
           "#ab63fa",
           "#FFA15A",
           "#19d3f3",
           "#FF6692",
           "#B6E880",
           "#FF97FF",
           "#FECB52"
          ],
          "font": {
           "color": "#2a3f5f"
          },
          "geo": {
           "bgcolor": "white",
           "lakecolor": "white",
           "landcolor": "#E5ECF6",
           "showlakes": true,
           "showland": true,
           "subunitcolor": "white"
          },
          "hoverlabel": {
           "align": "left"
          },
          "hovermode": "closest",
          "mapbox": {
           "style": "light"
          },
          "paper_bgcolor": "white",
          "plot_bgcolor": "#E5ECF6",
          "polar": {
           "angularaxis": {
            "gridcolor": "white",
            "linecolor": "white",
            "ticks": ""
           },
           "bgcolor": "#E5ECF6",
           "radialaxis": {
            "gridcolor": "white",
            "linecolor": "white",
            "ticks": ""
           }
          },
          "scene": {
           "xaxis": {
            "backgroundcolor": "#E5ECF6",
            "gridcolor": "white",
            "gridwidth": 2,
            "linecolor": "white",
            "showbackground": true,
            "ticks": "",
            "zerolinecolor": "white"
           },
           "yaxis": {
            "backgroundcolor": "#E5ECF6",
            "gridcolor": "white",
            "gridwidth": 2,
            "linecolor": "white",
            "showbackground": true,
            "ticks": "",
            "zerolinecolor": "white"
           },
           "zaxis": {
            "backgroundcolor": "#E5ECF6",
            "gridcolor": "white",
            "gridwidth": 2,
            "linecolor": "white",
            "showbackground": true,
            "ticks": "",
            "zerolinecolor": "white"
           }
          },
          "shapedefaults": {
           "line": {
            "color": "#2a3f5f"
           }
          },
          "ternary": {
           "aaxis": {
            "gridcolor": "white",
            "linecolor": "white",
            "ticks": ""
           },
           "baxis": {
            "gridcolor": "white",
            "linecolor": "white",
            "ticks": ""
           },
           "bgcolor": "#E5ECF6",
           "caxis": {
            "gridcolor": "white",
            "linecolor": "white",
            "ticks": ""
           }
          },
          "title": {
           "x": 0.05
          },
          "xaxis": {
           "automargin": true,
           "gridcolor": "white",
           "linecolor": "white",
           "ticks": "",
           "title": {
            "standoff": 15
           },
           "zerolinecolor": "white",
           "zerolinewidth": 2
          },
          "yaxis": {
           "automargin": true,
           "gridcolor": "white",
           "linecolor": "white",
           "ticks": "",
           "title": {
            "standoff": 15
           },
           "zerolinecolor": "white",
           "zerolinewidth": 2
          }
         }
        },
        "title": {
         "text": "Gun Incidents per 100k Population by State"
        }
       }
      }
     },
     "metadata": {},
     "output_type": "display_data"
    }
   ],
   "source": [
    "\n",
    "import plotly.express as px\n",
    "\n",
    "# Compute averages by state\n",
    "map_data = df_top20_analysis.groupby(\"State\", as_index=False).agg({\n",
    "    \"Incidents_per_100k\": \"mean\",\n",
    "    \"%HighSchool\": \"mean\"\n",
    "})\n",
    "\n",
    "us_state_abbrev = {\n",
    "    'Alabama': 'AL','Alaska': 'AK','Arizona': 'AZ','Arkansas': 'AR','California': 'CA',\n",
    "    'Colorado': 'CO','Connecticut': 'CT','Delaware': 'DE','District of Columbia': 'DC',\n",
    "    'Florida': 'FL','Georgia': 'GA','Hawaii': 'HI','Idaho': 'ID','Illinois': 'IL',\n",
    "    'Indiana': 'IN','Iowa': 'IA','Kansas': 'KS','Kentucky': 'KY','Louisiana': 'LA',\n",
    "    'Maine': 'ME','Maryland': 'MD','Massachusetts': 'MA','Michigan': 'MI','Minnesota': 'MN',\n",
    "    'Mississippi': 'MS','Missouri': 'MO','Montana': 'MT','Nebraska': 'NE','Nevada': 'NV',\n",
    "    'New Hampshire': 'NH','New Jersey': 'NJ','New Mexico': 'NM','New York': 'NY',\n",
    "    'North Carolina': 'NC','North Dakota': 'ND','Ohio': 'OH','Oklahoma': 'OK','Oregon': 'OR',\n",
    "    'Pennsylvania': 'PA','Rhode Island': 'RI','South Carolina': 'SC','South Dakota': 'SD',\n",
    "    'Tennessee': 'TN','Texas': 'TX','Utah': 'UT','Vermont': 'VT','Virginia': 'VA',\n",
    "    'Washington': 'WA','West Virginia': 'WV','Wisconsin': 'WI','Wyoming': 'WY',\n",
    "    'Puerto Rico': 'PR'\n",
    "}\n",
    "\n",
    "# Map full names to abbreviations\n",
    "map_data[\"State_Code\"] = map_data[\"State\"].map(us_state_abbrev)\n",
    "\n",
    "\n",
    "fig = px.choropleth(\n",
    "    map_data,\n",
    "    locations=\"State_Code\",             # use 2-letter codes\n",
    "    locationmode=\"USA-states\",\n",
    "    color=\"Incidents_per_100k\",\n",
    "    hover_name=\"State\",\n",
    "    hover_data={\"%HighSchool\": True, \"Incidents_per_100k\": True},\n",
    "    color_continuous_scale=\"Reds\",\n",
    "    scope=\"usa\",\n",
    "    title=\"Gun Incidents per 100k Population by State\"\n",
    ")\n",
    "fig.show()"
   ]
  },
  {
   "cell_type": "markdown",
   "id": "e7cbb506",
   "metadata": {},
   "source": [
    "Map Drop Out Bachelor"
   ]
  },
  {
   "cell_type": "code",
   "execution_count": 280,
   "id": "3a1983ef",
   "metadata": {},
   "outputs": [
    {
     "data": {
      "application/vnd.plotly.v1+json": {
       "config": {
        "plotlyServerURL": "https://plot.ly"
       },
       "data": [
        {
         "coloraxis": "coloraxis",
         "customdata": [
          [
           16.345,
           0.25586304059094533
          ],
          [
           19.64,
           0.1357773187736099
          ],
          [
           18.994999999999997,
           0.07343231285570573
          ],
          [
           15.222,
           0.1516658303634873
          ],
          [
           21.569,
           0.10551957332929847
          ],
          [
           26.595,
           0.12466814063788254
          ],
          [
           22.27,
           0.0694605284737859
          ],
          [
           19.417777777777776,
           0.19019262394144298
          ],
          [
           25.336,
           1.1713867398345084
          ],
          [
           19.685,
           0.12355978142503954
          ],
          [
           19.851999999999997,
           0.1791011362975237
          ],
          [
           23.505,
           0.06941451079295063
          ],
          [
           20.88,
           0.05175185295991534
          ],
          [
           21.579,
           0.3448663596346388
          ],
          [
           17.557,
           0.15237074738402706
          ],
          [
           20.22142857142857,
           0.07197094251149058
          ],
          [
           21.522222222222222,
           0.09876959467113244
          ],
          [
           14.887,
           0.12886777389474052
          ],
          [
           16.095000000000002,
           0.4538767593978007
          ],
          [
           20.86,
           0.09777782016944671
          ],
          [
           21.891,
           0.20961017646894503
          ],
          [
           24.478,
           0.05628335606919234
          ],
          [
           18.343,
           0.13384771130263085
          ],
          [
           24.378,
           0.11628419813834108
          ],
          [
           14.350999999999999,
           0.37555666707840585
          ],
          [
           18.6,
           0.22592780209463076
          ],
          [
           21.746666666666666,
           0.12637773357166002
          ],
          [
           21.83285714285714,
           0.1173375484193857
          ],
          [
           16.799,
           0.1168780953096212
          ],
          [
           24.54,
           0.07165929207617384
          ],
          [
           24.852,
           0.10576482457019395
          ],
          [
           15.958000000000002,
           0.1190379804992309
          ],
          [
           21.19,
           0.09375114150238627
          ],
          [
           20.819,
           0.13528176581877932
          ],
          [
           23.31,
           0.12756306079910604
          ],
          [
           18.144,
           0.15172730976409107
          ],
          [
           17.437,
           0.10510071049459131
          ],
          [
           21.224285714285713,
           0.07516952319527485
          ],
          [
           19.569,
           0.17188175123534263
          ],
          [
           19.44,
           0.12399605078558847
          ],
          [
           18.561,
           0.1975153654854022
          ],
          [
           21.04,
           0.1404185570548279
          ],
          [
           17.973,
           0.2108078300073442
          ],
          [
           20.128,
           0.11272239147576286
          ],
          [
           23.433333333333334,
           0.04623235945626077
          ],
          [
           22.3,
           0.1597336919887164
          ],
          [
           22.559,
           0.1224082797614128
          ],
          [
           22.874000000000002,
           0.0811137407970554
          ],
          [
           13.846666666666666,
           0.09339733262338813
          ],
          [
           20.497,
           0.1020732561646764
          ],
          [
           18.77,
           0.1727834901919452
          ]
         ],
         "geo": "geo",
         "hovertemplate": "<b>%{hovertext}</b><br><br>State_Code=%{location}<br>%Bachelor=%{customdata[0]}<br>Incidents_per_100k=%{z}<extra></extra>",
         "hovertext": [
          "Alabama",
          "Alaska",
          "Arizona",
          "Arkansas",
          "California",
          "Colorado",
          "Connecticut",
          "Delaware",
          "District of Columbia",
          "Florida",
          "Georgia",
          "Hawaii",
          "Idaho",
          "Illinois",
          "Indiana",
          "Iowa",
          "Kansas",
          "Kentucky",
          "Louisiana",
          "Maine",
          "Maryland",
          "Massachusetts",
          "Michigan",
          "Minnesota",
          "Mississippi",
          "Missouri",
          "Montana",
          "Nebraska",
          "Nevada",
          "New Hampshire",
          "New Jersey",
          "New Mexico",
          "New York",
          "North Carolina",
          "North Dakota",
          "Ohio",
          "Oklahoma",
          "Oregon",
          "Pennsylvania",
          "Rhode Island",
          "South Carolina",
          "South Dakota",
          "Tennessee",
          "Texas",
          "Utah",
          "Vermont",
          "Virginia",
          "Washington",
          "West Virginia",
          "Wisconsin",
          "Wyoming"
         ],
         "locationmode": "USA-states",
         "locations": [
          "AL",
          "AK",
          "AZ",
          "AR",
          "CA",
          "CO",
          "CT",
          "DE",
          "DC",
          "FL",
          "GA",
          "HI",
          "ID",
          "IL",
          "IN",
          "IA",
          "KS",
          "KY",
          "LA",
          "ME",
          "MD",
          "MA",
          "MI",
          "MN",
          "MS",
          "MO",
          "MT",
          "NE",
          "NV",
          "NH",
          "NJ",
          "NM",
          "NY",
          "NC",
          "ND",
          "OH",
          "OK",
          "OR",
          "PA",
          "RI",
          "SC",
          "SD",
          "TN",
          "TX",
          "UT",
          "VT",
          "VA",
          "WA",
          "WV",
          "WI",
          "WY"
         ],
         "name": "",
         "type": "choropleth",
         "z": [
          0.25586304059094533,
          0.1357773187736099,
          0.07343231285570573,
          0.1516658303634873,
          0.10551957332929847,
          0.12466814063788254,
          0.0694605284737859,
          0.19019262394144298,
          1.1713867398345084,
          0.12355978142503954,
          0.1791011362975237,
          0.06941451079295063,
          0.05175185295991534,
          0.3448663596346388,
          0.15237074738402706,
          0.07197094251149058,
          0.09876959467113244,
          0.12886777389474052,
          0.4538767593978007,
          0.09777782016944671,
          0.20961017646894503,
          0.05628335606919234,
          0.13384771130263085,
          0.11628419813834108,
          0.37555666707840585,
          0.22592780209463076,
          0.12637773357166002,
          0.1173375484193857,
          0.1168780953096212,
          0.07165929207617384,
          0.10576482457019395,
          0.1190379804992309,
          0.09375114150238627,
          0.13528176581877932,
          0.12756306079910604,
          0.15172730976409107,
          0.10510071049459131,
          0.07516952319527485,
          0.17188175123534263,
          0.12399605078558847,
          0.1975153654854022,
          0.1404185570548279,
          0.2108078300073442,
          0.11272239147576286,
          0.04623235945626077,
          0.1597336919887164,
          0.1224082797614128,
          0.0811137407970554,
          0.09339733262338813,
          0.1020732561646764,
          0.1727834901919452
         ]
        }
       ],
       "layout": {
        "coloraxis": {
         "colorbar": {
          "title": {
           "text": "Incidents_per_100k"
          }
         },
         "colorscale": [
          [
           0,
           "rgb(255,245,240)"
          ],
          [
           0.125,
           "rgb(254,224,210)"
          ],
          [
           0.25,
           "rgb(252,187,161)"
          ],
          [
           0.375,
           "rgb(252,146,114)"
          ],
          [
           0.5,
           "rgb(251,106,74)"
          ],
          [
           0.625,
           "rgb(239,59,44)"
          ],
          [
           0.75,
           "rgb(203,24,29)"
          ],
          [
           0.875,
           "rgb(165,15,21)"
          ],
          [
           1,
           "rgb(103,0,13)"
          ]
         ]
        },
        "geo": {
         "center": {},
         "domain": {
          "x": [
           0,
           1
          ],
          "y": [
           0,
           1
          ]
         },
         "scope": "usa"
        },
        "legend": {
         "tracegroupgap": 0
        },
        "template": {
         "data": {
          "bar": [
           {
            "error_x": {
             "color": "#2a3f5f"
            },
            "error_y": {
             "color": "#2a3f5f"
            },
            "marker": {
             "line": {
              "color": "#E5ECF6",
              "width": 0.5
             },
             "pattern": {
              "fillmode": "overlay",
              "size": 10,
              "solidity": 0.2
             }
            },
            "type": "bar"
           }
          ],
          "barpolar": [
           {
            "marker": {
             "line": {
              "color": "#E5ECF6",
              "width": 0.5
             },
             "pattern": {
              "fillmode": "overlay",
              "size": 10,
              "solidity": 0.2
             }
            },
            "type": "barpolar"
           }
          ],
          "carpet": [
           {
            "aaxis": {
             "endlinecolor": "#2a3f5f",
             "gridcolor": "white",
             "linecolor": "white",
             "minorgridcolor": "white",
             "startlinecolor": "#2a3f5f"
            },
            "baxis": {
             "endlinecolor": "#2a3f5f",
             "gridcolor": "white",
             "linecolor": "white",
             "minorgridcolor": "white",
             "startlinecolor": "#2a3f5f"
            },
            "type": "carpet"
           }
          ],
          "choropleth": [
           {
            "colorbar": {
             "outlinewidth": 0,
             "ticks": ""
            },
            "type": "choropleth"
           }
          ],
          "contour": [
           {
            "colorbar": {
             "outlinewidth": 0,
             "ticks": ""
            },
            "colorscale": [
             [
              0,
              "#0d0887"
             ],
             [
              0.1111111111111111,
              "#46039f"
             ],
             [
              0.2222222222222222,
              "#7201a8"
             ],
             [
              0.3333333333333333,
              "#9c179e"
             ],
             [
              0.4444444444444444,
              "#bd3786"
             ],
             [
              0.5555555555555556,
              "#d8576b"
             ],
             [
              0.6666666666666666,
              "#ed7953"
             ],
             [
              0.7777777777777778,
              "#fb9f3a"
             ],
             [
              0.8888888888888888,
              "#fdca26"
             ],
             [
              1,
              "#f0f921"
             ]
            ],
            "type": "contour"
           }
          ],
          "contourcarpet": [
           {
            "colorbar": {
             "outlinewidth": 0,
             "ticks": ""
            },
            "type": "contourcarpet"
           }
          ],
          "heatmap": [
           {
            "colorbar": {
             "outlinewidth": 0,
             "ticks": ""
            },
            "colorscale": [
             [
              0,
              "#0d0887"
             ],
             [
              0.1111111111111111,
              "#46039f"
             ],
             [
              0.2222222222222222,
              "#7201a8"
             ],
             [
              0.3333333333333333,
              "#9c179e"
             ],
             [
              0.4444444444444444,
              "#bd3786"
             ],
             [
              0.5555555555555556,
              "#d8576b"
             ],
             [
              0.6666666666666666,
              "#ed7953"
             ],
             [
              0.7777777777777778,
              "#fb9f3a"
             ],
             [
              0.8888888888888888,
              "#fdca26"
             ],
             [
              1,
              "#f0f921"
             ]
            ],
            "type": "heatmap"
           }
          ],
          "heatmapgl": [
           {
            "colorbar": {
             "outlinewidth": 0,
             "ticks": ""
            },
            "colorscale": [
             [
              0,
              "#0d0887"
             ],
             [
              0.1111111111111111,
              "#46039f"
             ],
             [
              0.2222222222222222,
              "#7201a8"
             ],
             [
              0.3333333333333333,
              "#9c179e"
             ],
             [
              0.4444444444444444,
              "#bd3786"
             ],
             [
              0.5555555555555556,
              "#d8576b"
             ],
             [
              0.6666666666666666,
              "#ed7953"
             ],
             [
              0.7777777777777778,
              "#fb9f3a"
             ],
             [
              0.8888888888888888,
              "#fdca26"
             ],
             [
              1,
              "#f0f921"
             ]
            ],
            "type": "heatmapgl"
           }
          ],
          "histogram": [
           {
            "marker": {
             "pattern": {
              "fillmode": "overlay",
              "size": 10,
              "solidity": 0.2
             }
            },
            "type": "histogram"
           }
          ],
          "histogram2d": [
           {
            "colorbar": {
             "outlinewidth": 0,
             "ticks": ""
            },
            "colorscale": [
             [
              0,
              "#0d0887"
             ],
             [
              0.1111111111111111,
              "#46039f"
             ],
             [
              0.2222222222222222,
              "#7201a8"
             ],
             [
              0.3333333333333333,
              "#9c179e"
             ],
             [
              0.4444444444444444,
              "#bd3786"
             ],
             [
              0.5555555555555556,
              "#d8576b"
             ],
             [
              0.6666666666666666,
              "#ed7953"
             ],
             [
              0.7777777777777778,
              "#fb9f3a"
             ],
             [
              0.8888888888888888,
              "#fdca26"
             ],
             [
              1,
              "#f0f921"
             ]
            ],
            "type": "histogram2d"
           }
          ],
          "histogram2dcontour": [
           {
            "colorbar": {
             "outlinewidth": 0,
             "ticks": ""
            },
            "colorscale": [
             [
              0,
              "#0d0887"
             ],
             [
              0.1111111111111111,
              "#46039f"
             ],
             [
              0.2222222222222222,
              "#7201a8"
             ],
             [
              0.3333333333333333,
              "#9c179e"
             ],
             [
              0.4444444444444444,
              "#bd3786"
             ],
             [
              0.5555555555555556,
              "#d8576b"
             ],
             [
              0.6666666666666666,
              "#ed7953"
             ],
             [
              0.7777777777777778,
              "#fb9f3a"
             ],
             [
              0.8888888888888888,
              "#fdca26"
             ],
             [
              1,
              "#f0f921"
             ]
            ],
            "type": "histogram2dcontour"
           }
          ],
          "mesh3d": [
           {
            "colorbar": {
             "outlinewidth": 0,
             "ticks": ""
            },
            "type": "mesh3d"
           }
          ],
          "parcoords": [
           {
            "line": {
             "colorbar": {
              "outlinewidth": 0,
              "ticks": ""
             }
            },
            "type": "parcoords"
           }
          ],
          "pie": [
           {
            "automargin": true,
            "type": "pie"
           }
          ],
          "scatter": [
           {
            "fillpattern": {
             "fillmode": "overlay",
             "size": 10,
             "solidity": 0.2
            },
            "type": "scatter"
           }
          ],
          "scatter3d": [
           {
            "line": {
             "colorbar": {
              "outlinewidth": 0,
              "ticks": ""
             }
            },
            "marker": {
             "colorbar": {
              "outlinewidth": 0,
              "ticks": ""
             }
            },
            "type": "scatter3d"
           }
          ],
          "scattercarpet": [
           {
            "marker": {
             "colorbar": {
              "outlinewidth": 0,
              "ticks": ""
             }
            },
            "type": "scattercarpet"
           }
          ],
          "scattergeo": [
           {
            "marker": {
             "colorbar": {
              "outlinewidth": 0,
              "ticks": ""
             }
            },
            "type": "scattergeo"
           }
          ],
          "scattergl": [
           {
            "marker": {
             "colorbar": {
              "outlinewidth": 0,
              "ticks": ""
             }
            },
            "type": "scattergl"
           }
          ],
          "scattermapbox": [
           {
            "marker": {
             "colorbar": {
              "outlinewidth": 0,
              "ticks": ""
             }
            },
            "type": "scattermapbox"
           }
          ],
          "scatterpolar": [
           {
            "marker": {
             "colorbar": {
              "outlinewidth": 0,
              "ticks": ""
             }
            },
            "type": "scatterpolar"
           }
          ],
          "scatterpolargl": [
           {
            "marker": {
             "colorbar": {
              "outlinewidth": 0,
              "ticks": ""
             }
            },
            "type": "scatterpolargl"
           }
          ],
          "scatterternary": [
           {
            "marker": {
             "colorbar": {
              "outlinewidth": 0,
              "ticks": ""
             }
            },
            "type": "scatterternary"
           }
          ],
          "surface": [
           {
            "colorbar": {
             "outlinewidth": 0,
             "ticks": ""
            },
            "colorscale": [
             [
              0,
              "#0d0887"
             ],
             [
              0.1111111111111111,
              "#46039f"
             ],
             [
              0.2222222222222222,
              "#7201a8"
             ],
             [
              0.3333333333333333,
              "#9c179e"
             ],
             [
              0.4444444444444444,
              "#bd3786"
             ],
             [
              0.5555555555555556,
              "#d8576b"
             ],
             [
              0.6666666666666666,
              "#ed7953"
             ],
             [
              0.7777777777777778,
              "#fb9f3a"
             ],
             [
              0.8888888888888888,
              "#fdca26"
             ],
             [
              1,
              "#f0f921"
             ]
            ],
            "type": "surface"
           }
          ],
          "table": [
           {
            "cells": {
             "fill": {
              "color": "#EBF0F8"
             },
             "line": {
              "color": "white"
             }
            },
            "header": {
             "fill": {
              "color": "#C8D4E3"
             },
             "line": {
              "color": "white"
             }
            },
            "type": "table"
           }
          ]
         },
         "layout": {
          "annotationdefaults": {
           "arrowcolor": "#2a3f5f",
           "arrowhead": 0,
           "arrowwidth": 1
          },
          "autotypenumbers": "strict",
          "coloraxis": {
           "colorbar": {
            "outlinewidth": 0,
            "ticks": ""
           }
          },
          "colorscale": {
           "diverging": [
            [
             0,
             "#8e0152"
            ],
            [
             0.1,
             "#c51b7d"
            ],
            [
             0.2,
             "#de77ae"
            ],
            [
             0.3,
             "#f1b6da"
            ],
            [
             0.4,
             "#fde0ef"
            ],
            [
             0.5,
             "#f7f7f7"
            ],
            [
             0.6,
             "#e6f5d0"
            ],
            [
             0.7,
             "#b8e186"
            ],
            [
             0.8,
             "#7fbc41"
            ],
            [
             0.9,
             "#4d9221"
            ],
            [
             1,
             "#276419"
            ]
           ],
           "sequential": [
            [
             0,
             "#0d0887"
            ],
            [
             0.1111111111111111,
             "#46039f"
            ],
            [
             0.2222222222222222,
             "#7201a8"
            ],
            [
             0.3333333333333333,
             "#9c179e"
            ],
            [
             0.4444444444444444,
             "#bd3786"
            ],
            [
             0.5555555555555556,
             "#d8576b"
            ],
            [
             0.6666666666666666,
             "#ed7953"
            ],
            [
             0.7777777777777778,
             "#fb9f3a"
            ],
            [
             0.8888888888888888,
             "#fdca26"
            ],
            [
             1,
             "#f0f921"
            ]
           ],
           "sequentialminus": [
            [
             0,
             "#0d0887"
            ],
            [
             0.1111111111111111,
             "#46039f"
            ],
            [
             0.2222222222222222,
             "#7201a8"
            ],
            [
             0.3333333333333333,
             "#9c179e"
            ],
            [
             0.4444444444444444,
             "#bd3786"
            ],
            [
             0.5555555555555556,
             "#d8576b"
            ],
            [
             0.6666666666666666,
             "#ed7953"
            ],
            [
             0.7777777777777778,
             "#fb9f3a"
            ],
            [
             0.8888888888888888,
             "#fdca26"
            ],
            [
             1,
             "#f0f921"
            ]
           ]
          },
          "colorway": [
           "#636efa",
           "#EF553B",
           "#00cc96",
           "#ab63fa",
           "#FFA15A",
           "#19d3f3",
           "#FF6692",
           "#B6E880",
           "#FF97FF",
           "#FECB52"
          ],
          "font": {
           "color": "#2a3f5f"
          },
          "geo": {
           "bgcolor": "white",
           "lakecolor": "white",
           "landcolor": "#E5ECF6",
           "showlakes": true,
           "showland": true,
           "subunitcolor": "white"
          },
          "hoverlabel": {
           "align": "left"
          },
          "hovermode": "closest",
          "mapbox": {
           "style": "light"
          },
          "paper_bgcolor": "white",
          "plot_bgcolor": "#E5ECF6",
          "polar": {
           "angularaxis": {
            "gridcolor": "white",
            "linecolor": "white",
            "ticks": ""
           },
           "bgcolor": "#E5ECF6",
           "radialaxis": {
            "gridcolor": "white",
            "linecolor": "white",
            "ticks": ""
           }
          },
          "scene": {
           "xaxis": {
            "backgroundcolor": "#E5ECF6",
            "gridcolor": "white",
            "gridwidth": 2,
            "linecolor": "white",
            "showbackground": true,
            "ticks": "",
            "zerolinecolor": "white"
           },
           "yaxis": {
            "backgroundcolor": "#E5ECF6",
            "gridcolor": "white",
            "gridwidth": 2,
            "linecolor": "white",
            "showbackground": true,
            "ticks": "",
            "zerolinecolor": "white"
           },
           "zaxis": {
            "backgroundcolor": "#E5ECF6",
            "gridcolor": "white",
            "gridwidth": 2,
            "linecolor": "white",
            "showbackground": true,
            "ticks": "",
            "zerolinecolor": "white"
           }
          },
          "shapedefaults": {
           "line": {
            "color": "#2a3f5f"
           }
          },
          "ternary": {
           "aaxis": {
            "gridcolor": "white",
            "linecolor": "white",
            "ticks": ""
           },
           "baxis": {
            "gridcolor": "white",
            "linecolor": "white",
            "ticks": ""
           },
           "bgcolor": "#E5ECF6",
           "caxis": {
            "gridcolor": "white",
            "linecolor": "white",
            "ticks": ""
           }
          },
          "title": {
           "x": 0.05
          },
          "xaxis": {
           "automargin": true,
           "gridcolor": "white",
           "linecolor": "white",
           "ticks": "",
           "title": {
            "standoff": 15
           },
           "zerolinecolor": "white",
           "zerolinewidth": 2
          },
          "yaxis": {
           "automargin": true,
           "gridcolor": "white",
           "linecolor": "white",
           "ticks": "",
           "title": {
            "standoff": 15
           },
           "zerolinecolor": "white",
           "zerolinewidth": 2
          }
         }
        },
        "title": {
         "text": "Gun Incidents per 100k Population by State"
        }
       }
      }
     },
     "metadata": {},
     "output_type": "display_data"
    }
   ],
   "source": [
    "map_data = df_top20_analysis.groupby(\"State\", as_index=False).agg({\n",
    "    \"Incidents_per_100k\": \"mean\",\n",
    "    \"%Bachelor\": \"mean\"\n",
    "})\n",
    "\n",
    "us_state_abbrev = {\n",
    "    'Alabama': 'AL','Alaska': 'AK','Arizona': 'AZ','Arkansas': 'AR','California': 'CA',\n",
    "    'Colorado': 'CO','Connecticut': 'CT','Delaware': 'DE','District of Columbia': 'DC',\n",
    "    'Florida': 'FL','Georgia': 'GA','Hawaii': 'HI','Idaho': 'ID','Illinois': 'IL',\n",
    "    'Indiana': 'IN','Iowa': 'IA','Kansas': 'KS','Kentucky': 'KY','Louisiana': 'LA',\n",
    "    'Maine': 'ME','Maryland': 'MD','Massachusetts': 'MA','Michigan': 'MI','Minnesota': 'MN',\n",
    "    'Mississippi': 'MS','Missouri': 'MO','Montana': 'MT','Nebraska': 'NE','Nevada': 'NV',\n",
    "    'New Hampshire': 'NH','New Jersey': 'NJ','New Mexico': 'NM','New York': 'NY',\n",
    "    'North Carolina': 'NC','North Dakota': 'ND','Ohio': 'OH','Oklahoma': 'OK','Oregon': 'OR',\n",
    "    'Pennsylvania': 'PA','Rhode Island': 'RI','South Carolina': 'SC','South Dakota': 'SD',\n",
    "    'Tennessee': 'TN','Texas': 'TX','Utah': 'UT','Vermont': 'VT','Virginia': 'VA',\n",
    "    'Washington': 'WA','West Virginia': 'WV','Wisconsin': 'WI','Wyoming': 'WY',\n",
    "    'Puerto Rico': 'PR'\n",
    "}\n",
    "\n",
    "# Map full names to abbreviations\n",
    "map_data[\"State_Code\"] = map_data[\"State\"].map(us_state_abbrev)\n",
    "\n",
    "\n",
    "fig = px.choropleth(\n",
    "    map_data,\n",
    "    locations=\"State_Code\",             # use 2-letter codes\n",
    "    locationmode=\"USA-states\",\n",
    "    color=\"Incidents_per_100k\",\n",
    "    hover_name=\"State\",\n",
    "    hover_data={\"%Bachelor\": True, \"Incidents_per_100k\": True},\n",
    "    color_continuous_scale=\"Reds\",\n",
    "    scope=\"usa\",\n",
    "    title=\"Gun Incidents per 100k Population by State\"\n",
    ")\n",
    "fig.show()"
   ]
  },
  {
   "cell_type": "markdown",
   "id": "117c81f7",
   "metadata": {},
   "source": [
    "Master degree drop out map"
   ]
  },
  {
   "cell_type": "code",
   "execution_count": 281,
   "id": "c9e45760",
   "metadata": {},
   "outputs": [
    {
     "data": {
      "application/vnd.plotly.v1+json": {
       "config": {
        "plotlyServerURL": "https://plot.ly"
       },
       "data": [
        {
         "coloraxis": "coloraxis",
         "customdata": [
          [
           7.333,
           0.25586304059094533
          ],
          [
           8.053333333333333,
           0.1357773187736099
          ],
          [
           8.434999999999999,
           0.07343231285570573
          ],
          [
           6.2829999999999995,
           0.1516658303634873
          ],
          [
           9.040000000000001,
           0.10551957332929847
          ],
          [
           11.822,
           0.12466814063788254
          ],
          [
           13.053,
           0.0694605284737859
          ],
          [
           10.386666666666665,
           0.19019262394144298
          ],
          [
           21.776,
           1.1713867398345084
          ],
          [
           8.065000000000001,
           0.12355978142503954
          ],
          [
           9.045,
           0.1791011362975237
          ],
          [
           9.25,
           0.06941451079295063
          ],
          [
           7.455,
           0.05175185295991534
          ],
          [
           10.370000000000001,
           0.3448663596346388
          ],
          [
           7.340999999999999,
           0.15237074738402706
          ],
          [
           7.0200000000000005,
           0.07197094251149058
          ],
          [
           9.498888888888889,
           0.09876959467113244
          ],
          [
           7.521000000000001,
           0.12886777389474052
          ],
          [
           6.156000000000001,
           0.4538767593978007
          ],
          [
           8.586666666666668,
           0.09777782016944671
          ],
          [
           13.52,
           0.20961017646894503
          ],
          [
           14.222,
           0.05628335606919234
          ],
          [
           8.779,
           0.13384771130263085
          ],
          [
           9.007,
           0.11628419813834108
          ],
          [
           6.414,
           0.37555666707840585
          ],
          [
           8.534,
           0.22592780209463076
          ],
          [
           7.186666666666667,
           0.12637773357166002
          ],
          [
           8.372857142857143,
           0.1173375484193857
          ],
          [
           6.212000000000001,
           0.1168780953096212
          ],
          [
           12.04,
           0.07165929207617384
          ],
          [
           11.805,
           0.10576482457019395
          ],
          [
           8.862,
           0.1190379804992309
          ],
          [
           11.992999999999999,
           0.09375114150238627
          ],
          [
           8.767,
           0.13528176581877932
          ],
          [
           7.36,
           0.12756306079910604
          ],
          [
           8.315000000000001,
           0.15172730976409107
          ],
          [
           6.531999999999999,
           0.10510071049459131
          ],
          [
           9.111428571428572,
           0.07516952319527485
          ],
          [
           9.342,
           0.17188175123534263
          ],
          [
           9.71,
           0.12399605078558847
          ],
          [
           8.251,
           0.1975153654854022
          ],
          [
           6.3675,
           0.1404185570548279
          ],
          [
           7.498,
           0.2108078300073442
          ],
          [
           8.120000000000001,
           0.11272239147576286
          ],
          [
           9.03,
           0.04623235945626077
          ],
          [
           10.35,
           0.1597336919887164
          ],
          [
           12.789,
           0.1224082797614128
          ],
          [
           10.329,
           0.0811137407970554
          ],
          [
           6.733333333333333,
           0.09339733262338813
          ],
          [
           7.723999999999999,
           0.1020732561646764
          ],
          [
           7.56,
           0.1727834901919452
          ]
         ],
         "geo": "geo",
         "hovertemplate": "<b>%{hovertext}</b><br><br>State_Code=%{location}<br>%Master_Degree=%{customdata[0]}<br>Incidents_per_100k=%{z}<extra></extra>",
         "hovertext": [
          "Alabama",
          "Alaska",
          "Arizona",
          "Arkansas",
          "California",
          "Colorado",
          "Connecticut",
          "Delaware",
          "District of Columbia",
          "Florida",
          "Georgia",
          "Hawaii",
          "Idaho",
          "Illinois",
          "Indiana",
          "Iowa",
          "Kansas",
          "Kentucky",
          "Louisiana",
          "Maine",
          "Maryland",
          "Massachusetts",
          "Michigan",
          "Minnesota",
          "Mississippi",
          "Missouri",
          "Montana",
          "Nebraska",
          "Nevada",
          "New Hampshire",
          "New Jersey",
          "New Mexico",
          "New York",
          "North Carolina",
          "North Dakota",
          "Ohio",
          "Oklahoma",
          "Oregon",
          "Pennsylvania",
          "Rhode Island",
          "South Carolina",
          "South Dakota",
          "Tennessee",
          "Texas",
          "Utah",
          "Vermont",
          "Virginia",
          "Washington",
          "West Virginia",
          "Wisconsin",
          "Wyoming"
         ],
         "locationmode": "USA-states",
         "locations": [
          "AL",
          "AK",
          "AZ",
          "AR",
          "CA",
          "CO",
          "CT",
          "DE",
          "DC",
          "FL",
          "GA",
          "HI",
          "ID",
          "IL",
          "IN",
          "IA",
          "KS",
          "KY",
          "LA",
          "ME",
          "MD",
          "MA",
          "MI",
          "MN",
          "MS",
          "MO",
          "MT",
          "NE",
          "NV",
          "NH",
          "NJ",
          "NM",
          "NY",
          "NC",
          "ND",
          "OH",
          "OK",
          "OR",
          "PA",
          "RI",
          "SC",
          "SD",
          "TN",
          "TX",
          "UT",
          "VT",
          "VA",
          "WA",
          "WV",
          "WI",
          "WY"
         ],
         "name": "",
         "type": "choropleth",
         "z": [
          0.25586304059094533,
          0.1357773187736099,
          0.07343231285570573,
          0.1516658303634873,
          0.10551957332929847,
          0.12466814063788254,
          0.0694605284737859,
          0.19019262394144298,
          1.1713867398345084,
          0.12355978142503954,
          0.1791011362975237,
          0.06941451079295063,
          0.05175185295991534,
          0.3448663596346388,
          0.15237074738402706,
          0.07197094251149058,
          0.09876959467113244,
          0.12886777389474052,
          0.4538767593978007,
          0.09777782016944671,
          0.20961017646894503,
          0.05628335606919234,
          0.13384771130263085,
          0.11628419813834108,
          0.37555666707840585,
          0.22592780209463076,
          0.12637773357166002,
          0.1173375484193857,
          0.1168780953096212,
          0.07165929207617384,
          0.10576482457019395,
          0.1190379804992309,
          0.09375114150238627,
          0.13528176581877932,
          0.12756306079910604,
          0.15172730976409107,
          0.10510071049459131,
          0.07516952319527485,
          0.17188175123534263,
          0.12399605078558847,
          0.1975153654854022,
          0.1404185570548279,
          0.2108078300073442,
          0.11272239147576286,
          0.04623235945626077,
          0.1597336919887164,
          0.1224082797614128,
          0.0811137407970554,
          0.09339733262338813,
          0.1020732561646764,
          0.1727834901919452
         ]
        }
       ],
       "layout": {
        "coloraxis": {
         "colorbar": {
          "title": {
           "text": "Incidents_per_100k"
          }
         },
         "colorscale": [
          [
           0,
           "rgb(255,245,240)"
          ],
          [
           0.125,
           "rgb(254,224,210)"
          ],
          [
           0.25,
           "rgb(252,187,161)"
          ],
          [
           0.375,
           "rgb(252,146,114)"
          ],
          [
           0.5,
           "rgb(251,106,74)"
          ],
          [
           0.625,
           "rgb(239,59,44)"
          ],
          [
           0.75,
           "rgb(203,24,29)"
          ],
          [
           0.875,
           "rgb(165,15,21)"
          ],
          [
           1,
           "rgb(103,0,13)"
          ]
         ]
        },
        "geo": {
         "center": {},
         "domain": {
          "x": [
           0,
           1
          ],
          "y": [
           0,
           1
          ]
         },
         "scope": "usa"
        },
        "legend": {
         "tracegroupgap": 0
        },
        "template": {
         "data": {
          "bar": [
           {
            "error_x": {
             "color": "#2a3f5f"
            },
            "error_y": {
             "color": "#2a3f5f"
            },
            "marker": {
             "line": {
              "color": "#E5ECF6",
              "width": 0.5
             },
             "pattern": {
              "fillmode": "overlay",
              "size": 10,
              "solidity": 0.2
             }
            },
            "type": "bar"
           }
          ],
          "barpolar": [
           {
            "marker": {
             "line": {
              "color": "#E5ECF6",
              "width": 0.5
             },
             "pattern": {
              "fillmode": "overlay",
              "size": 10,
              "solidity": 0.2
             }
            },
            "type": "barpolar"
           }
          ],
          "carpet": [
           {
            "aaxis": {
             "endlinecolor": "#2a3f5f",
             "gridcolor": "white",
             "linecolor": "white",
             "minorgridcolor": "white",
             "startlinecolor": "#2a3f5f"
            },
            "baxis": {
             "endlinecolor": "#2a3f5f",
             "gridcolor": "white",
             "linecolor": "white",
             "minorgridcolor": "white",
             "startlinecolor": "#2a3f5f"
            },
            "type": "carpet"
           }
          ],
          "choropleth": [
           {
            "colorbar": {
             "outlinewidth": 0,
             "ticks": ""
            },
            "type": "choropleth"
           }
          ],
          "contour": [
           {
            "colorbar": {
             "outlinewidth": 0,
             "ticks": ""
            },
            "colorscale": [
             [
              0,
              "#0d0887"
             ],
             [
              0.1111111111111111,
              "#46039f"
             ],
             [
              0.2222222222222222,
              "#7201a8"
             ],
             [
              0.3333333333333333,
              "#9c179e"
             ],
             [
              0.4444444444444444,
              "#bd3786"
             ],
             [
              0.5555555555555556,
              "#d8576b"
             ],
             [
              0.6666666666666666,
              "#ed7953"
             ],
             [
              0.7777777777777778,
              "#fb9f3a"
             ],
             [
              0.8888888888888888,
              "#fdca26"
             ],
             [
              1,
              "#f0f921"
             ]
            ],
            "type": "contour"
           }
          ],
          "contourcarpet": [
           {
            "colorbar": {
             "outlinewidth": 0,
             "ticks": ""
            },
            "type": "contourcarpet"
           }
          ],
          "heatmap": [
           {
            "colorbar": {
             "outlinewidth": 0,
             "ticks": ""
            },
            "colorscale": [
             [
              0,
              "#0d0887"
             ],
             [
              0.1111111111111111,
              "#46039f"
             ],
             [
              0.2222222222222222,
              "#7201a8"
             ],
             [
              0.3333333333333333,
              "#9c179e"
             ],
             [
              0.4444444444444444,
              "#bd3786"
             ],
             [
              0.5555555555555556,
              "#d8576b"
             ],
             [
              0.6666666666666666,
              "#ed7953"
             ],
             [
              0.7777777777777778,
              "#fb9f3a"
             ],
             [
              0.8888888888888888,
              "#fdca26"
             ],
             [
              1,
              "#f0f921"
             ]
            ],
            "type": "heatmap"
           }
          ],
          "heatmapgl": [
           {
            "colorbar": {
             "outlinewidth": 0,
             "ticks": ""
            },
            "colorscale": [
             [
              0,
              "#0d0887"
             ],
             [
              0.1111111111111111,
              "#46039f"
             ],
             [
              0.2222222222222222,
              "#7201a8"
             ],
             [
              0.3333333333333333,
              "#9c179e"
             ],
             [
              0.4444444444444444,
              "#bd3786"
             ],
             [
              0.5555555555555556,
              "#d8576b"
             ],
             [
              0.6666666666666666,
              "#ed7953"
             ],
             [
              0.7777777777777778,
              "#fb9f3a"
             ],
             [
              0.8888888888888888,
              "#fdca26"
             ],
             [
              1,
              "#f0f921"
             ]
            ],
            "type": "heatmapgl"
           }
          ],
          "histogram": [
           {
            "marker": {
             "pattern": {
              "fillmode": "overlay",
              "size": 10,
              "solidity": 0.2
             }
            },
            "type": "histogram"
           }
          ],
          "histogram2d": [
           {
            "colorbar": {
             "outlinewidth": 0,
             "ticks": ""
            },
            "colorscale": [
             [
              0,
              "#0d0887"
             ],
             [
              0.1111111111111111,
              "#46039f"
             ],
             [
              0.2222222222222222,
              "#7201a8"
             ],
             [
              0.3333333333333333,
              "#9c179e"
             ],
             [
              0.4444444444444444,
              "#bd3786"
             ],
             [
              0.5555555555555556,
              "#d8576b"
             ],
             [
              0.6666666666666666,
              "#ed7953"
             ],
             [
              0.7777777777777778,
              "#fb9f3a"
             ],
             [
              0.8888888888888888,
              "#fdca26"
             ],
             [
              1,
              "#f0f921"
             ]
            ],
            "type": "histogram2d"
           }
          ],
          "histogram2dcontour": [
           {
            "colorbar": {
             "outlinewidth": 0,
             "ticks": ""
            },
            "colorscale": [
             [
              0,
              "#0d0887"
             ],
             [
              0.1111111111111111,
              "#46039f"
             ],
             [
              0.2222222222222222,
              "#7201a8"
             ],
             [
              0.3333333333333333,
              "#9c179e"
             ],
             [
              0.4444444444444444,
              "#bd3786"
             ],
             [
              0.5555555555555556,
              "#d8576b"
             ],
             [
              0.6666666666666666,
              "#ed7953"
             ],
             [
              0.7777777777777778,
              "#fb9f3a"
             ],
             [
              0.8888888888888888,
              "#fdca26"
             ],
             [
              1,
              "#f0f921"
             ]
            ],
            "type": "histogram2dcontour"
           }
          ],
          "mesh3d": [
           {
            "colorbar": {
             "outlinewidth": 0,
             "ticks": ""
            },
            "type": "mesh3d"
           }
          ],
          "parcoords": [
           {
            "line": {
             "colorbar": {
              "outlinewidth": 0,
              "ticks": ""
             }
            },
            "type": "parcoords"
           }
          ],
          "pie": [
           {
            "automargin": true,
            "type": "pie"
           }
          ],
          "scatter": [
           {
            "fillpattern": {
             "fillmode": "overlay",
             "size": 10,
             "solidity": 0.2
            },
            "type": "scatter"
           }
          ],
          "scatter3d": [
           {
            "line": {
             "colorbar": {
              "outlinewidth": 0,
              "ticks": ""
             }
            },
            "marker": {
             "colorbar": {
              "outlinewidth": 0,
              "ticks": ""
             }
            },
            "type": "scatter3d"
           }
          ],
          "scattercarpet": [
           {
            "marker": {
             "colorbar": {
              "outlinewidth": 0,
              "ticks": ""
             }
            },
            "type": "scattercarpet"
           }
          ],
          "scattergeo": [
           {
            "marker": {
             "colorbar": {
              "outlinewidth": 0,
              "ticks": ""
             }
            },
            "type": "scattergeo"
           }
          ],
          "scattergl": [
           {
            "marker": {
             "colorbar": {
              "outlinewidth": 0,
              "ticks": ""
             }
            },
            "type": "scattergl"
           }
          ],
          "scattermapbox": [
           {
            "marker": {
             "colorbar": {
              "outlinewidth": 0,
              "ticks": ""
             }
            },
            "type": "scattermapbox"
           }
          ],
          "scatterpolar": [
           {
            "marker": {
             "colorbar": {
              "outlinewidth": 0,
              "ticks": ""
             }
            },
            "type": "scatterpolar"
           }
          ],
          "scatterpolargl": [
           {
            "marker": {
             "colorbar": {
              "outlinewidth": 0,
              "ticks": ""
             }
            },
            "type": "scatterpolargl"
           }
          ],
          "scatterternary": [
           {
            "marker": {
             "colorbar": {
              "outlinewidth": 0,
              "ticks": ""
             }
            },
            "type": "scatterternary"
           }
          ],
          "surface": [
           {
            "colorbar": {
             "outlinewidth": 0,
             "ticks": ""
            },
            "colorscale": [
             [
              0,
              "#0d0887"
             ],
             [
              0.1111111111111111,
              "#46039f"
             ],
             [
              0.2222222222222222,
              "#7201a8"
             ],
             [
              0.3333333333333333,
              "#9c179e"
             ],
             [
              0.4444444444444444,
              "#bd3786"
             ],
             [
              0.5555555555555556,
              "#d8576b"
             ],
             [
              0.6666666666666666,
              "#ed7953"
             ],
             [
              0.7777777777777778,
              "#fb9f3a"
             ],
             [
              0.8888888888888888,
              "#fdca26"
             ],
             [
              1,
              "#f0f921"
             ]
            ],
            "type": "surface"
           }
          ],
          "table": [
           {
            "cells": {
             "fill": {
              "color": "#EBF0F8"
             },
             "line": {
              "color": "white"
             }
            },
            "header": {
             "fill": {
              "color": "#C8D4E3"
             },
             "line": {
              "color": "white"
             }
            },
            "type": "table"
           }
          ]
         },
         "layout": {
          "annotationdefaults": {
           "arrowcolor": "#2a3f5f",
           "arrowhead": 0,
           "arrowwidth": 1
          },
          "autotypenumbers": "strict",
          "coloraxis": {
           "colorbar": {
            "outlinewidth": 0,
            "ticks": ""
           }
          },
          "colorscale": {
           "diverging": [
            [
             0,
             "#8e0152"
            ],
            [
             0.1,
             "#c51b7d"
            ],
            [
             0.2,
             "#de77ae"
            ],
            [
             0.3,
             "#f1b6da"
            ],
            [
             0.4,
             "#fde0ef"
            ],
            [
             0.5,
             "#f7f7f7"
            ],
            [
             0.6,
             "#e6f5d0"
            ],
            [
             0.7,
             "#b8e186"
            ],
            [
             0.8,
             "#7fbc41"
            ],
            [
             0.9,
             "#4d9221"
            ],
            [
             1,
             "#276419"
            ]
           ],
           "sequential": [
            [
             0,
             "#0d0887"
            ],
            [
             0.1111111111111111,
             "#46039f"
            ],
            [
             0.2222222222222222,
             "#7201a8"
            ],
            [
             0.3333333333333333,
             "#9c179e"
            ],
            [
             0.4444444444444444,
             "#bd3786"
            ],
            [
             0.5555555555555556,
             "#d8576b"
            ],
            [
             0.6666666666666666,
             "#ed7953"
            ],
            [
             0.7777777777777778,
             "#fb9f3a"
            ],
            [
             0.8888888888888888,
             "#fdca26"
            ],
            [
             1,
             "#f0f921"
            ]
           ],
           "sequentialminus": [
            [
             0,
             "#0d0887"
            ],
            [
             0.1111111111111111,
             "#46039f"
            ],
            [
             0.2222222222222222,
             "#7201a8"
            ],
            [
             0.3333333333333333,
             "#9c179e"
            ],
            [
             0.4444444444444444,
             "#bd3786"
            ],
            [
             0.5555555555555556,
             "#d8576b"
            ],
            [
             0.6666666666666666,
             "#ed7953"
            ],
            [
             0.7777777777777778,
             "#fb9f3a"
            ],
            [
             0.8888888888888888,
             "#fdca26"
            ],
            [
             1,
             "#f0f921"
            ]
           ]
          },
          "colorway": [
           "#636efa",
           "#EF553B",
           "#00cc96",
           "#ab63fa",
           "#FFA15A",
           "#19d3f3",
           "#FF6692",
           "#B6E880",
           "#FF97FF",
           "#FECB52"
          ],
          "font": {
           "color": "#2a3f5f"
          },
          "geo": {
           "bgcolor": "white",
           "lakecolor": "white",
           "landcolor": "#E5ECF6",
           "showlakes": true,
           "showland": true,
           "subunitcolor": "white"
          },
          "hoverlabel": {
           "align": "left"
          },
          "hovermode": "closest",
          "mapbox": {
           "style": "light"
          },
          "paper_bgcolor": "white",
          "plot_bgcolor": "#E5ECF6",
          "polar": {
           "angularaxis": {
            "gridcolor": "white",
            "linecolor": "white",
            "ticks": ""
           },
           "bgcolor": "#E5ECF6",
           "radialaxis": {
            "gridcolor": "white",
            "linecolor": "white",
            "ticks": ""
           }
          },
          "scene": {
           "xaxis": {
            "backgroundcolor": "#E5ECF6",
            "gridcolor": "white",
            "gridwidth": 2,
            "linecolor": "white",
            "showbackground": true,
            "ticks": "",
            "zerolinecolor": "white"
           },
           "yaxis": {
            "backgroundcolor": "#E5ECF6",
            "gridcolor": "white",
            "gridwidth": 2,
            "linecolor": "white",
            "showbackground": true,
            "ticks": "",
            "zerolinecolor": "white"
           },
           "zaxis": {
            "backgroundcolor": "#E5ECF6",
            "gridcolor": "white",
            "gridwidth": 2,
            "linecolor": "white",
            "showbackground": true,
            "ticks": "",
            "zerolinecolor": "white"
           }
          },
          "shapedefaults": {
           "line": {
            "color": "#2a3f5f"
           }
          },
          "ternary": {
           "aaxis": {
            "gridcolor": "white",
            "linecolor": "white",
            "ticks": ""
           },
           "baxis": {
            "gridcolor": "white",
            "linecolor": "white",
            "ticks": ""
           },
           "bgcolor": "#E5ECF6",
           "caxis": {
            "gridcolor": "white",
            "linecolor": "white",
            "ticks": ""
           }
          },
          "title": {
           "x": 0.05
          },
          "xaxis": {
           "automargin": true,
           "gridcolor": "white",
           "linecolor": "white",
           "ticks": "",
           "title": {
            "standoff": 15
           },
           "zerolinecolor": "white",
           "zerolinewidth": 2
          },
          "yaxis": {
           "automargin": true,
           "gridcolor": "white",
           "linecolor": "white",
           "ticks": "",
           "title": {
            "standoff": 15
           },
           "zerolinecolor": "white",
           "zerolinewidth": 2
          }
         }
        },
        "title": {
         "text": "Gun Incidents per 100k Population by State"
        }
       }
      }
     },
     "metadata": {},
     "output_type": "display_data"
    }
   ],
   "source": [
    "map_data = df_top20_analysis.groupby(\"State\", as_index=False).agg({\n",
    "    \"Incidents_per_100k\": \"mean\",\n",
    "    \"%Master_Degree\": \"mean\"\n",
    "})\n",
    "\n",
    "us_state_abbrev = {\n",
    "    'Alabama': 'AL','Alaska': 'AK','Arizona': 'AZ','Arkansas': 'AR','California': 'CA',\n",
    "    'Colorado': 'CO','Connecticut': 'CT','Delaware': 'DE','District of Columbia': 'DC',\n",
    "    'Florida': 'FL','Georgia': 'GA','Hawaii': 'HI','Idaho': 'ID','Illinois': 'IL',\n",
    "    'Indiana': 'IN','Iowa': 'IA','Kansas': 'KS','Kentucky': 'KY','Louisiana': 'LA',\n",
    "    'Maine': 'ME','Maryland': 'MD','Massachusetts': 'MA','Michigan': 'MI','Minnesota': 'MN',\n",
    "    'Mississippi': 'MS','Missouri': 'MO','Montana': 'MT','Nebraska': 'NE','Nevada': 'NV',\n",
    "    'New Hampshire': 'NH','New Jersey': 'NJ','New Mexico': 'NM','New York': 'NY',\n",
    "    'North Carolina': 'NC','North Dakota': 'ND','Ohio': 'OH','Oklahoma': 'OK','Oregon': 'OR',\n",
    "    'Pennsylvania': 'PA','Rhode Island': 'RI','South Carolina': 'SC','South Dakota': 'SD',\n",
    "    'Tennessee': 'TN','Texas': 'TX','Utah': 'UT','Vermont': 'VT','Virginia': 'VA',\n",
    "    'Washington': 'WA','West Virginia': 'WV','Wisconsin': 'WI','Wyoming': 'WY',\n",
    "    'Puerto Rico': 'PR'\n",
    "}\n",
    "\n",
    "# Map full names to abbreviations\n",
    "map_data[\"State_Code\"] = map_data[\"State\"].map(us_state_abbrev)\n",
    "\n",
    "\n",
    "fig = px.choropleth(\n",
    "    map_data,\n",
    "    locations=\"State_Code\",             # use 2-letter codes\n",
    "    locationmode=\"USA-states\",\n",
    "    color=\"Incidents_per_100k\",\n",
    "    hover_name=\"State\",\n",
    "    hover_data={\"%Master_Degree\": True, \"Incidents_per_100k\": True},\n",
    "    color_continuous_scale=\"Reds\",\n",
    "    scope=\"usa\",\n",
    "    title=\"Gun Incidents per 100k Population by State\"\n",
    ")\n",
    "fig.show()"
   ]
  },
  {
   "cell_type": "markdown",
   "id": "8b4e5785",
   "metadata": {},
   "source": [
    "Doctorate Map"
   ]
  },
  {
   "cell_type": "code",
   "execution_count": 282,
   "id": "5fee985f",
   "metadata": {},
   "outputs": [
    {
     "data": {
      "application/vnd.plotly.v1+json": {
       "config": {
        "plotlyServerURL": "https://plot.ly"
       },
       "data": [
        {
         "coloraxis": "coloraxis",
         "customdata": [
          [
           1.1640000000000001,
           0.25586304059094533
          ],
          [
           1.22,
           0.1357773187736099
          ],
          [
           1.3699999999999999,
           0.07343231285570573
          ],
          [
           1.0310000000000001,
           0.1516658303634873
          ],
          [
           1.751,
           0.10551957332929847
          ],
          [
           1.8780000000000001,
           0.12466814063788254
          ],
          [
           1.814,
           0.0694605284737859
          ],
          [
           1.8444444444444446,
           0.19019262394144298
          ],
          [
           4.529,
           1.1713867398345084
          ],
          [
           1.2879999999999998,
           0.12355978142503954
          ],
          [
           1.455,
           0.1791011362975237
          ],
          [
           1.62,
           0.06941451079295063
          ],
          [
           1.355,
           0.05175185295991534
          ],
          [
           1.459,
           0.3448663596346388
          ],
          [
           1.147,
           0.15237074738402706
          ],
          [
           1.3514285714285716,
           0.07197094251149058
          ],
          [
           1.3477777777777777,
           0.09876959467113244
          ],
          [
           1.0630000000000002,
           0.12886777389474052
          ],
          [
           1.051,
           0.4538767593978007
          ],
          [
           1.4033333333333333,
           0.09777782016944671
          ],
          [
           2.745,
           0.20961017646894503
          ],
          [
           2.9850000000000003,
           0.05628335606919234
          ],
          [
           1.2550000000000001,
           0.13384771130263085
          ],
          [
           1.535,
           0.11628419813834108
          ],
          [
           1.092,
           0.37555666707840585
          ],
          [
           1.331,
           0.22592780209463076
          ],
          [
           1.38,
           0.12637773357166002
          ],
          [
           1.467142857142857,
           0.1173375484193857
          ],
          [
           1.0050000000000001,
           0.1168780953096212
          ],
          [
           1.7349999999999999,
           0.07165929207617384
          ],
          [
           1.6949999999999998,
           0.10576482457019395
          ],
          [
           2.027,
           0.1190379804992309
          ],
          [
           1.625,
           0.09375114150238627
          ],
          [
           1.481,
           0.13528176581877932
          ],
          [
           1.5,
           0.12756306079910604
          ],
          [
           1.215,
           0.15172730976409107
          ],
          [
           1.0699999999999998,
           0.10510071049459131
          ],
          [
           1.7657142857142856,
           0.07516952319527485
          ],
          [
           1.6169999999999998,
           0.17188175123534263
          ],
          [
           1.92,
           0.12399605078558847
          ],
          [
           1.201,
           0.1975153654854022
          ],
          [
           1.29,
           0.1404185570548279
          ],
          [
           1.3699999999999999,
           0.2108078300073442
          ],
          [
           1.244,
           0.11272239147576286
          ],
          [
           1.4983333333333333,
           0.04623235945626077
          ],
          [
           1.8,
           0.1597336919887164
          ],
          [
           1.957,
           0.1224082797614128
          ],
          [
           1.689,
           0.0811137407970554
          ],
          [
           0.9866666666666667,
           0.09339733262338813
          ],
          [
           1.2710000000000001,
           0.1020732561646764
          ],
          [
           1.25,
           0.1727834901919452
          ]
         ],
         "geo": "geo",
         "hovertemplate": "<b>%{hovertext}</b><br><br>State_Code=%{location}<br>%Doctorate_Degree=%{customdata[0]}<br>Incidents_per_100k=%{z}<extra></extra>",
         "hovertext": [
          "Alabama",
          "Alaska",
          "Arizona",
          "Arkansas",
          "California",
          "Colorado",
          "Connecticut",
          "Delaware",
          "District of Columbia",
          "Florida",
          "Georgia",
          "Hawaii",
          "Idaho",
          "Illinois",
          "Indiana",
          "Iowa",
          "Kansas",
          "Kentucky",
          "Louisiana",
          "Maine",
          "Maryland",
          "Massachusetts",
          "Michigan",
          "Minnesota",
          "Mississippi",
          "Missouri",
          "Montana",
          "Nebraska",
          "Nevada",
          "New Hampshire",
          "New Jersey",
          "New Mexico",
          "New York",
          "North Carolina",
          "North Dakota",
          "Ohio",
          "Oklahoma",
          "Oregon",
          "Pennsylvania",
          "Rhode Island",
          "South Carolina",
          "South Dakota",
          "Tennessee",
          "Texas",
          "Utah",
          "Vermont",
          "Virginia",
          "Washington",
          "West Virginia",
          "Wisconsin",
          "Wyoming"
         ],
         "locationmode": "USA-states",
         "locations": [
          "AL",
          "AK",
          "AZ",
          "AR",
          "CA",
          "CO",
          "CT",
          "DE",
          "DC",
          "FL",
          "GA",
          "HI",
          "ID",
          "IL",
          "IN",
          "IA",
          "KS",
          "KY",
          "LA",
          "ME",
          "MD",
          "MA",
          "MI",
          "MN",
          "MS",
          "MO",
          "MT",
          "NE",
          "NV",
          "NH",
          "NJ",
          "NM",
          "NY",
          "NC",
          "ND",
          "OH",
          "OK",
          "OR",
          "PA",
          "RI",
          "SC",
          "SD",
          "TN",
          "TX",
          "UT",
          "VT",
          "VA",
          "WA",
          "WV",
          "WI",
          "WY"
         ],
         "name": "",
         "type": "choropleth",
         "z": [
          0.25586304059094533,
          0.1357773187736099,
          0.07343231285570573,
          0.1516658303634873,
          0.10551957332929847,
          0.12466814063788254,
          0.0694605284737859,
          0.19019262394144298,
          1.1713867398345084,
          0.12355978142503954,
          0.1791011362975237,
          0.06941451079295063,
          0.05175185295991534,
          0.3448663596346388,
          0.15237074738402706,
          0.07197094251149058,
          0.09876959467113244,
          0.12886777389474052,
          0.4538767593978007,
          0.09777782016944671,
          0.20961017646894503,
          0.05628335606919234,
          0.13384771130263085,
          0.11628419813834108,
          0.37555666707840585,
          0.22592780209463076,
          0.12637773357166002,
          0.1173375484193857,
          0.1168780953096212,
          0.07165929207617384,
          0.10576482457019395,
          0.1190379804992309,
          0.09375114150238627,
          0.13528176581877932,
          0.12756306079910604,
          0.15172730976409107,
          0.10510071049459131,
          0.07516952319527485,
          0.17188175123534263,
          0.12399605078558847,
          0.1975153654854022,
          0.1404185570548279,
          0.2108078300073442,
          0.11272239147576286,
          0.04623235945626077,
          0.1597336919887164,
          0.1224082797614128,
          0.0811137407970554,
          0.09339733262338813,
          0.1020732561646764,
          0.1727834901919452
         ]
        }
       ],
       "layout": {
        "coloraxis": {
         "colorbar": {
          "title": {
           "text": "Incidents_per_100k"
          }
         },
         "colorscale": [
          [
           0,
           "rgb(255,245,240)"
          ],
          [
           0.125,
           "rgb(254,224,210)"
          ],
          [
           0.25,
           "rgb(252,187,161)"
          ],
          [
           0.375,
           "rgb(252,146,114)"
          ],
          [
           0.5,
           "rgb(251,106,74)"
          ],
          [
           0.625,
           "rgb(239,59,44)"
          ],
          [
           0.75,
           "rgb(203,24,29)"
          ],
          [
           0.875,
           "rgb(165,15,21)"
          ],
          [
           1,
           "rgb(103,0,13)"
          ]
         ]
        },
        "geo": {
         "center": {},
         "domain": {
          "x": [
           0,
           1
          ],
          "y": [
           0,
           1
          ]
         },
         "scope": "usa"
        },
        "legend": {
         "tracegroupgap": 0
        },
        "template": {
         "data": {
          "bar": [
           {
            "error_x": {
             "color": "#2a3f5f"
            },
            "error_y": {
             "color": "#2a3f5f"
            },
            "marker": {
             "line": {
              "color": "#E5ECF6",
              "width": 0.5
             },
             "pattern": {
              "fillmode": "overlay",
              "size": 10,
              "solidity": 0.2
             }
            },
            "type": "bar"
           }
          ],
          "barpolar": [
           {
            "marker": {
             "line": {
              "color": "#E5ECF6",
              "width": 0.5
             },
             "pattern": {
              "fillmode": "overlay",
              "size": 10,
              "solidity": 0.2
             }
            },
            "type": "barpolar"
           }
          ],
          "carpet": [
           {
            "aaxis": {
             "endlinecolor": "#2a3f5f",
             "gridcolor": "white",
             "linecolor": "white",
             "minorgridcolor": "white",
             "startlinecolor": "#2a3f5f"
            },
            "baxis": {
             "endlinecolor": "#2a3f5f",
             "gridcolor": "white",
             "linecolor": "white",
             "minorgridcolor": "white",
             "startlinecolor": "#2a3f5f"
            },
            "type": "carpet"
           }
          ],
          "choropleth": [
           {
            "colorbar": {
             "outlinewidth": 0,
             "ticks": ""
            },
            "type": "choropleth"
           }
          ],
          "contour": [
           {
            "colorbar": {
             "outlinewidth": 0,
             "ticks": ""
            },
            "colorscale": [
             [
              0,
              "#0d0887"
             ],
             [
              0.1111111111111111,
              "#46039f"
             ],
             [
              0.2222222222222222,
              "#7201a8"
             ],
             [
              0.3333333333333333,
              "#9c179e"
             ],
             [
              0.4444444444444444,
              "#bd3786"
             ],
             [
              0.5555555555555556,
              "#d8576b"
             ],
             [
              0.6666666666666666,
              "#ed7953"
             ],
             [
              0.7777777777777778,
              "#fb9f3a"
             ],
             [
              0.8888888888888888,
              "#fdca26"
             ],
             [
              1,
              "#f0f921"
             ]
            ],
            "type": "contour"
           }
          ],
          "contourcarpet": [
           {
            "colorbar": {
             "outlinewidth": 0,
             "ticks": ""
            },
            "type": "contourcarpet"
           }
          ],
          "heatmap": [
           {
            "colorbar": {
             "outlinewidth": 0,
             "ticks": ""
            },
            "colorscale": [
             [
              0,
              "#0d0887"
             ],
             [
              0.1111111111111111,
              "#46039f"
             ],
             [
              0.2222222222222222,
              "#7201a8"
             ],
             [
              0.3333333333333333,
              "#9c179e"
             ],
             [
              0.4444444444444444,
              "#bd3786"
             ],
             [
              0.5555555555555556,
              "#d8576b"
             ],
             [
              0.6666666666666666,
              "#ed7953"
             ],
             [
              0.7777777777777778,
              "#fb9f3a"
             ],
             [
              0.8888888888888888,
              "#fdca26"
             ],
             [
              1,
              "#f0f921"
             ]
            ],
            "type": "heatmap"
           }
          ],
          "heatmapgl": [
           {
            "colorbar": {
             "outlinewidth": 0,
             "ticks": ""
            },
            "colorscale": [
             [
              0,
              "#0d0887"
             ],
             [
              0.1111111111111111,
              "#46039f"
             ],
             [
              0.2222222222222222,
              "#7201a8"
             ],
             [
              0.3333333333333333,
              "#9c179e"
             ],
             [
              0.4444444444444444,
              "#bd3786"
             ],
             [
              0.5555555555555556,
              "#d8576b"
             ],
             [
              0.6666666666666666,
              "#ed7953"
             ],
             [
              0.7777777777777778,
              "#fb9f3a"
             ],
             [
              0.8888888888888888,
              "#fdca26"
             ],
             [
              1,
              "#f0f921"
             ]
            ],
            "type": "heatmapgl"
           }
          ],
          "histogram": [
           {
            "marker": {
             "pattern": {
              "fillmode": "overlay",
              "size": 10,
              "solidity": 0.2
             }
            },
            "type": "histogram"
           }
          ],
          "histogram2d": [
           {
            "colorbar": {
             "outlinewidth": 0,
             "ticks": ""
            },
            "colorscale": [
             [
              0,
              "#0d0887"
             ],
             [
              0.1111111111111111,
              "#46039f"
             ],
             [
              0.2222222222222222,
              "#7201a8"
             ],
             [
              0.3333333333333333,
              "#9c179e"
             ],
             [
              0.4444444444444444,
              "#bd3786"
             ],
             [
              0.5555555555555556,
              "#d8576b"
             ],
             [
              0.6666666666666666,
              "#ed7953"
             ],
             [
              0.7777777777777778,
              "#fb9f3a"
             ],
             [
              0.8888888888888888,
              "#fdca26"
             ],
             [
              1,
              "#f0f921"
             ]
            ],
            "type": "histogram2d"
           }
          ],
          "histogram2dcontour": [
           {
            "colorbar": {
             "outlinewidth": 0,
             "ticks": ""
            },
            "colorscale": [
             [
              0,
              "#0d0887"
             ],
             [
              0.1111111111111111,
              "#46039f"
             ],
             [
              0.2222222222222222,
              "#7201a8"
             ],
             [
              0.3333333333333333,
              "#9c179e"
             ],
             [
              0.4444444444444444,
              "#bd3786"
             ],
             [
              0.5555555555555556,
              "#d8576b"
             ],
             [
              0.6666666666666666,
              "#ed7953"
             ],
             [
              0.7777777777777778,
              "#fb9f3a"
             ],
             [
              0.8888888888888888,
              "#fdca26"
             ],
             [
              1,
              "#f0f921"
             ]
            ],
            "type": "histogram2dcontour"
           }
          ],
          "mesh3d": [
           {
            "colorbar": {
             "outlinewidth": 0,
             "ticks": ""
            },
            "type": "mesh3d"
           }
          ],
          "parcoords": [
           {
            "line": {
             "colorbar": {
              "outlinewidth": 0,
              "ticks": ""
             }
            },
            "type": "parcoords"
           }
          ],
          "pie": [
           {
            "automargin": true,
            "type": "pie"
           }
          ],
          "scatter": [
           {
            "fillpattern": {
             "fillmode": "overlay",
             "size": 10,
             "solidity": 0.2
            },
            "type": "scatter"
           }
          ],
          "scatter3d": [
           {
            "line": {
             "colorbar": {
              "outlinewidth": 0,
              "ticks": ""
             }
            },
            "marker": {
             "colorbar": {
              "outlinewidth": 0,
              "ticks": ""
             }
            },
            "type": "scatter3d"
           }
          ],
          "scattercarpet": [
           {
            "marker": {
             "colorbar": {
              "outlinewidth": 0,
              "ticks": ""
             }
            },
            "type": "scattercarpet"
           }
          ],
          "scattergeo": [
           {
            "marker": {
             "colorbar": {
              "outlinewidth": 0,
              "ticks": ""
             }
            },
            "type": "scattergeo"
           }
          ],
          "scattergl": [
           {
            "marker": {
             "colorbar": {
              "outlinewidth": 0,
              "ticks": ""
             }
            },
            "type": "scattergl"
           }
          ],
          "scattermapbox": [
           {
            "marker": {
             "colorbar": {
              "outlinewidth": 0,
              "ticks": ""
             }
            },
            "type": "scattermapbox"
           }
          ],
          "scatterpolar": [
           {
            "marker": {
             "colorbar": {
              "outlinewidth": 0,
              "ticks": ""
             }
            },
            "type": "scatterpolar"
           }
          ],
          "scatterpolargl": [
           {
            "marker": {
             "colorbar": {
              "outlinewidth": 0,
              "ticks": ""
             }
            },
            "type": "scatterpolargl"
           }
          ],
          "scatterternary": [
           {
            "marker": {
             "colorbar": {
              "outlinewidth": 0,
              "ticks": ""
             }
            },
            "type": "scatterternary"
           }
          ],
          "surface": [
           {
            "colorbar": {
             "outlinewidth": 0,
             "ticks": ""
            },
            "colorscale": [
             [
              0,
              "#0d0887"
             ],
             [
              0.1111111111111111,
              "#46039f"
             ],
             [
              0.2222222222222222,
              "#7201a8"
             ],
             [
              0.3333333333333333,
              "#9c179e"
             ],
             [
              0.4444444444444444,
              "#bd3786"
             ],
             [
              0.5555555555555556,
              "#d8576b"
             ],
             [
              0.6666666666666666,
              "#ed7953"
             ],
             [
              0.7777777777777778,
              "#fb9f3a"
             ],
             [
              0.8888888888888888,
              "#fdca26"
             ],
             [
              1,
              "#f0f921"
             ]
            ],
            "type": "surface"
           }
          ],
          "table": [
           {
            "cells": {
             "fill": {
              "color": "#EBF0F8"
             },
             "line": {
              "color": "white"
             }
            },
            "header": {
             "fill": {
              "color": "#C8D4E3"
             },
             "line": {
              "color": "white"
             }
            },
            "type": "table"
           }
          ]
         },
         "layout": {
          "annotationdefaults": {
           "arrowcolor": "#2a3f5f",
           "arrowhead": 0,
           "arrowwidth": 1
          },
          "autotypenumbers": "strict",
          "coloraxis": {
           "colorbar": {
            "outlinewidth": 0,
            "ticks": ""
           }
          },
          "colorscale": {
           "diverging": [
            [
             0,
             "#8e0152"
            ],
            [
             0.1,
             "#c51b7d"
            ],
            [
             0.2,
             "#de77ae"
            ],
            [
             0.3,
             "#f1b6da"
            ],
            [
             0.4,
             "#fde0ef"
            ],
            [
             0.5,
             "#f7f7f7"
            ],
            [
             0.6,
             "#e6f5d0"
            ],
            [
             0.7,
             "#b8e186"
            ],
            [
             0.8,
             "#7fbc41"
            ],
            [
             0.9,
             "#4d9221"
            ],
            [
             1,
             "#276419"
            ]
           ],
           "sequential": [
            [
             0,
             "#0d0887"
            ],
            [
             0.1111111111111111,
             "#46039f"
            ],
            [
             0.2222222222222222,
             "#7201a8"
            ],
            [
             0.3333333333333333,
             "#9c179e"
            ],
            [
             0.4444444444444444,
             "#bd3786"
            ],
            [
             0.5555555555555556,
             "#d8576b"
            ],
            [
             0.6666666666666666,
             "#ed7953"
            ],
            [
             0.7777777777777778,
             "#fb9f3a"
            ],
            [
             0.8888888888888888,
             "#fdca26"
            ],
            [
             1,
             "#f0f921"
            ]
           ],
           "sequentialminus": [
            [
             0,
             "#0d0887"
            ],
            [
             0.1111111111111111,
             "#46039f"
            ],
            [
             0.2222222222222222,
             "#7201a8"
            ],
            [
             0.3333333333333333,
             "#9c179e"
            ],
            [
             0.4444444444444444,
             "#bd3786"
            ],
            [
             0.5555555555555556,
             "#d8576b"
            ],
            [
             0.6666666666666666,
             "#ed7953"
            ],
            [
             0.7777777777777778,
             "#fb9f3a"
            ],
            [
             0.8888888888888888,
             "#fdca26"
            ],
            [
             1,
             "#f0f921"
            ]
           ]
          },
          "colorway": [
           "#636efa",
           "#EF553B",
           "#00cc96",
           "#ab63fa",
           "#FFA15A",
           "#19d3f3",
           "#FF6692",
           "#B6E880",
           "#FF97FF",
           "#FECB52"
          ],
          "font": {
           "color": "#2a3f5f"
          },
          "geo": {
           "bgcolor": "white",
           "lakecolor": "white",
           "landcolor": "#E5ECF6",
           "showlakes": true,
           "showland": true,
           "subunitcolor": "white"
          },
          "hoverlabel": {
           "align": "left"
          },
          "hovermode": "closest",
          "mapbox": {
           "style": "light"
          },
          "paper_bgcolor": "white",
          "plot_bgcolor": "#E5ECF6",
          "polar": {
           "angularaxis": {
            "gridcolor": "white",
            "linecolor": "white",
            "ticks": ""
           },
           "bgcolor": "#E5ECF6",
           "radialaxis": {
            "gridcolor": "white",
            "linecolor": "white",
            "ticks": ""
           }
          },
          "scene": {
           "xaxis": {
            "backgroundcolor": "#E5ECF6",
            "gridcolor": "white",
            "gridwidth": 2,
            "linecolor": "white",
            "showbackground": true,
            "ticks": "",
            "zerolinecolor": "white"
           },
           "yaxis": {
            "backgroundcolor": "#E5ECF6",
            "gridcolor": "white",
            "gridwidth": 2,
            "linecolor": "white",
            "showbackground": true,
            "ticks": "",
            "zerolinecolor": "white"
           },
           "zaxis": {
            "backgroundcolor": "#E5ECF6",
            "gridcolor": "white",
            "gridwidth": 2,
            "linecolor": "white",
            "showbackground": true,
            "ticks": "",
            "zerolinecolor": "white"
           }
          },
          "shapedefaults": {
           "line": {
            "color": "#2a3f5f"
           }
          },
          "ternary": {
           "aaxis": {
            "gridcolor": "white",
            "linecolor": "white",
            "ticks": ""
           },
           "baxis": {
            "gridcolor": "white",
            "linecolor": "white",
            "ticks": ""
           },
           "bgcolor": "#E5ECF6",
           "caxis": {
            "gridcolor": "white",
            "linecolor": "white",
            "ticks": ""
           }
          },
          "title": {
           "x": 0.05
          },
          "xaxis": {
           "automargin": true,
           "gridcolor": "white",
           "linecolor": "white",
           "ticks": "",
           "title": {
            "standoff": 15
           },
           "zerolinecolor": "white",
           "zerolinewidth": 2
          },
          "yaxis": {
           "automargin": true,
           "gridcolor": "white",
           "linecolor": "white",
           "ticks": "",
           "title": {
            "standoff": 15
           },
           "zerolinecolor": "white",
           "zerolinewidth": 2
          }
         }
        },
        "title": {
         "text": "Gun Incidents per 100k Population by State"
        }
       }
      }
     },
     "metadata": {},
     "output_type": "display_data"
    }
   ],
   "source": [
    "map_data = df_top20_analysis.groupby(\"State\", as_index=False).agg({\n",
    "    \"Incidents_per_100k\": \"mean\",\n",
    "    \"%Doctorate_Degree\": \"mean\"\n",
    "})\n",
    "\n",
    "us_state_abbrev = {\n",
    "    'Alabama': 'AL','Alaska': 'AK','Arizona': 'AZ','Arkansas': 'AR','California': 'CA',\n",
    "    'Colorado': 'CO','Connecticut': 'CT','Delaware': 'DE','District of Columbia': 'DC',\n",
    "    'Florida': 'FL','Georgia': 'GA','Hawaii': 'HI','Idaho': 'ID','Illinois': 'IL',\n",
    "    'Indiana': 'IN','Iowa': 'IA','Kansas': 'KS','Kentucky': 'KY','Louisiana': 'LA',\n",
    "    'Maine': 'ME','Maryland': 'MD','Massachusetts': 'MA','Michigan': 'MI','Minnesota': 'MN',\n",
    "    'Mississippi': 'MS','Missouri': 'MO','Montana': 'MT','Nebraska': 'NE','Nevada': 'NV',\n",
    "    'New Hampshire': 'NH','New Jersey': 'NJ','New Mexico': 'NM','New York': 'NY',\n",
    "    'North Carolina': 'NC','North Dakota': 'ND','Ohio': 'OH','Oklahoma': 'OK','Oregon': 'OR',\n",
    "    'Pennsylvania': 'PA','Rhode Island': 'RI','South Carolina': 'SC','South Dakota': 'SD',\n",
    "    'Tennessee': 'TN','Texas': 'TX','Utah': 'UT','Vermont': 'VT','Virginia': 'VA',\n",
    "    'Washington': 'WA','West Virginia': 'WV','Wisconsin': 'WI','Wyoming': 'WY',\n",
    "    'Puerto Rico': 'PR'\n",
    "}\n",
    "\n",
    "# Map full names to abbreviations\n",
    "map_data[\"State_Code\"] = map_data[\"State\"].map(us_state_abbrev)\n",
    "\n",
    "\n",
    "fig = px.choropleth(\n",
    "    map_data,\n",
    "    locations=\"State_Code\",             # use 2-letter codes\n",
    "    locationmode=\"USA-states\",\n",
    "    color=\"Incidents_per_100k\",\n",
    "    hover_name=\"State\",\n",
    "    hover_data={\"%Doctorate_Degree\": True, \"Incidents_per_100k\": True},\n",
    "    color_continuous_scale=\"Reds\",\n",
    "    scope=\"usa\",\n",
    "    title=\"Gun Incidents per 100k Population by State\"\n",
    ")\n",
    "fig.show()"
   ]
  }
 ],
 "metadata": {
  "kernelspec": {
   "display_name": "base",
   "language": "python",
   "name": "python3"
  },
  "language_info": {
   "codemirror_mode": {
    "name": "ipython",
    "version": 3
   },
   "file_extension": ".py",
   "mimetype": "text/x-python",
   "name": "python",
   "nbconvert_exporter": "python",
   "pygments_lexer": "ipython3",
   "version": "3.13.5"
  }
 },
 "nbformat": 4,
 "nbformat_minor": 5
}
