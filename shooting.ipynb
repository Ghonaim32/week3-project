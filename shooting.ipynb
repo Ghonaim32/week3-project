{
 "cells": [
  {
   "cell_type": "code",
   "execution_count": 263,
   "execution_count": 78,
   "execution_count": 35,
   "id": "b543cd20-4a22-4e9f-8af2-e3568871c655",
   "metadata": {},
   "outputs": [],
   "source": [
    "import pandas as pd\n",
    "import requests\n",
    "from bs4 import BeautifulSoup\n",
    "from selenium import webdriver\n",
    "from selenium.webdriver.common.by import By\n",
    "import numpy as np\n",
    "import matplotlib.pyplot as plt\n",
    "import scipy.stats as stats\n",
    "import seaborn as sns\n",
    "\n",
    "from scipy.stats import stats"
   ]
  },
  {
   "cell_type": "code",
   "execution_count": 36,
   "id": "7dcde177-7777-4163-8771-ea57befb9096",
   "execution_count": 19,
   "id": "fbd7f829",
   "metadata": {},
   "outputs": [
    {
     "data": {
      "application/vnd.microsoft.datawrangler.viewer.v0+json": {
       "columns": [
        {
         "name": "index",
         "rawType": "int64",
         "type": "integer"
        },
        {
         "name": "incident_id",
         "rawType": "int64",
         "type": "integer"
        },
        {
         "name": "incident_date",
         "rawType": "object",
         "type": "string"
        },
        {
         "name": "incident_time",
         "rawType": "object",
         "type": "unknown"
        },
        {
         "name": "updated_date",
         "rawType": "int64",
         "type": "integer"
        },
        {
         "name": "state",
         "rawType": "object",
         "type": "string"
        },
        {
         "name": "city_or_county",
         "rawType": "object",
         "type": "string"
        },
        {
         "name": "address",
         "rawType": "object",
         "type": "unknown"
        },
        {
         "name": "business_location_name",
         "rawType": "object",
         "type": "unknown"
        },
        {
         "name": "latitude",
         "rawType": "float64",
         "type": "float"
        },
        {
         "name": "longitude",
         "rawType": "float64",
         "type": "float"
        },
        {
         "name": "killed",
         "rawType": "int64",
         "type": "integer"
        },
        {
         "name": "injured",
         "rawType": "int64",
         "type": "integer"
        },
        {
         "name": "victims_killed",
         "rawType": "int64",
         "type": "integer"
        },
        {
         "name": "victims_injured",
         "rawType": "int64",
         "type": "integer"
        },
        {
         "name": "suspects_killed",
         "rawType": "int64",
         "type": "integer"
        },
        {
         "name": "suspects_injured",
         "rawType": "int64",
         "type": "integer"
        },
        {
         "name": "suspects_arrested",
         "rawType": "int64",
         "type": "integer"
        },
        {
         "name": "incident_characteristics",
         "rawType": "object",
         "type": "string"
        },
        {
         "name": "sources",
         "rawType": "object",
         "type": "string"
        },
        {
         "name": "date_fixed",
         "rawType": "object",
         "type": "string"
        },
        {
         "name": "year",
         "rawType": "int64",
         "type": "integer"
        }
       ],
       "ref": "5b7bd35a-4453-4569-966d-7395803e9024",
       "rows": [
        [
         "0",
         "809048",
         "April 1, 2017",
         null,
         "1491348530",
         "Florida",
         "Tampa",
         "219 S Howard Ave",
         "Palace Lounge",
         "27.9431",
         "-82.4831",
         "1",
         "4",
         "1",
         "4",
         "0",
         "0",
         "1",
         "Shot - Wounded/Injured, Shot - Dead (murder, accidental, or suicide), Drive-by (car to street, car to car), Mass Shooting (4+ victims injured or killed excluding the subject/suspect/perpetrator, one location)",
         "c(\"http://wfla.com/2017/04/01/tampa-police-investigate-shooting-on-howard-avenue/\", \"http://www.abcactionnews.com/news/local-news/multiple-shooting-victims-at-hookah-lounge-on-south-howard-avenue-in-tampa\", \"http://www.tbreporter.com/crime/charged-murder-tampa-drive-by-shooting/\")",
         "2017-04-01",
         "2017"
        ],
        [
         "1",
         "809499",
         "April 1, 2017",
         "5:25 AM",
         "1680156402",
         "Oklahoma",
         "Oklahoma City",
         "1212 N Woodward Ave",
         null,
         "35.481",
         "-97.5754",
         "2",
         "3",
         "2",
         "3",
         "0",
         "0",
         "1",
         "Shot - Wounded/Injured, Shot - Dead (murder, accidental, or suicide), Mass Shooting (4+ victims injured or killed excluding the subject/suspect/perpetrator, one location)",
         "c(\"http://www.news9.com/story/35055747/okc-police-id-victims-suspect-in-deadly-weekend-shooting\", \"http://newsok.com/article/5544163?utm_source=NewsOK.com&utm_medium=Social&utm_campaign=ShareBar-Twitter\")",
         "2017-04-01",
         "2017"
        ],
        [
         "2",
         "809815",
         "April 1, 2017",
         null,
         "1492995601",
         "California",
         "Pittsburg",
         "100 block of Madoline Street",
         null,
         "38.0053",
         "-121.895",
         "0",
         "5",
         "0",
         "5",
         "0",
         "0",
         "1",
         "Shot - Wounded/Injured, Mass Shooting (4+ victims injured or killed excluding the subject/suspect/perpetrator, one location), House party / Block Party / Park Party / Private Parties at event spaces / Weddings and Funerals, ETC",
         "http://www.nbcbayarea.com/news/local/Shooting-Birthday-Party-Pittsburg-Five-Men-Injured-417896103.html",
         "2017-04-01",
         "2017"
        ],
        [
         "3",
         "1082835",
         "April 1, 2018",
         "2:15 AM",
         "1522693801",
         "Michigan",
         "Saginaw",
         "600 block of Yale St",
         null,
         "43.4192",
         "-83.9819",
         "0",
         "5",
         "0",
         "5",
         "0",
         "0",
         "0",
         "Shot - Wounded/Injured, Mass Shooting (4+ victims injured or killed excluding the subject/suspect/perpetrator, one location), House party / Block Party / Park Party / Private Parties at event spaces / Weddings and Funerals, ETC",
         "http://www.mlive.com/news/saginaw/index.ssf/2018/04/4_women_1_male_shot_at_house_p.html",
         "2018-04-01",
         "2018"
        ],
        [
         "4",
         "1083011",
         "April 1, 2018",
         null,
         "1646889853",
         "Alabama",
         "Mobile",
         "3556 Halls Mill Rd",
         "Grand Hall",
         "30.6387",
         "-88.1228",
         "1",
         "4",
         "1",
         "4",
         "0",
         "0",
         "3",
         "Shot - Wounded/Injured, Shot - Dead (murder, accidental, or suicide), Mass Shooting (4+ victims injured or killed excluding the subject/suspect/perpetrator, one location), Bar/club incident - in or around establishment, House party / Block Party / Park Party / Private Parties at event spaces / Weddings and Funerals, ETC",
         "c(\"http://www.al.com/news/mobile/index.ssf/2018/04/five_shot_during_incident_sund.html\", \"http://www.wkrg.com/news/mobile-county/breaking-late-night-shooting-in-mobile/1092584706\", \"http://www.al.com/news/index.ssf/2018/04/three_arrested_in_mobile_teen.html\", \"http://www.wkrg.com/news/mobile-county/mobile-teen-shot-at-grand-hall-concert-has-died/1115682757\", \"http://www.wtvm.com/story/38089772/mobiles-violent-month-started-with-deadly-grand-hall-shooting\", \"http://www.wkrg.com/news/local-news/3-arrested-after-grand-hall-shooting/1102838677\", \n\"http://www.fox10tv.com/story/37863164/witnesses-describe-shooting-at-party-7-people-injured\", \"http://www.wtvm.com/story/38089772/mobiles-violent-month-started-with-deadly-grand-hall-shooting\", \"https://www.al.com/news/mobile/index.ssf/2018/05/man_charged_with_shooting_deat.html#incart_river_index\", \"https://www.fox10tv.com/news/grand-hall-shooting-connected-to-mobile-homicide/article_23b02403-cdce-56e8-a392-afa50ec0ea12.html\", \"https://www.wkrg.com/mobile-county/man-found-guilty-of-reckless-manslaughte\"\n)",
         "2018-04-01",
         "2018"
        ],
        [
         "5",
         "2269259",
         "April 1, 2022",
         "11:30 PM",
         "1711658965",
         "South Carolina",
         "Walterboro",
         "1900 block of Logan Farm Rd",
         null,
         "32.9941",
         "-80.728",
         "0",
         "4",
         "0",
         "4",
         "0",
         "0",
         "4",
         "Shot - Wounded/Injured, Mass Shooting (4+ victims injured or killed excluding the subject/suspect/perpetrator, one location), Shootout (where VENN diagram of shooters and victims overlap)",
         "c(\"https://www.wsav.com/news/local-news/5-injured-in-colleton-county-shooting-friday-night/\", \"https://fox28media.com/news/local/chaotic-scene-sled-investigating-after-5-people-shot-in-walterboro-friday-night-wciv\", \"https://www.live5news.com/2022/04/12/colleton-county-father-3-sons-arrested-shooting-incident/\")",
         "2022-04-01",
         "2022"
        ],
        [
         "6",
         "2562492",
         "April 1, 2023",
         "8:40 PM",
         "1755037653",
         "Maryland",
         "Baltimore",
         "3205 Woodring Ave",
         null,
         "39.3624",
         "-76.5449",
         "3",
         "1",
         "3",
         "1",
         "0",
         "0",
         "1",
         "Shot - Wounded/Injured, Shot - Dead (murder, accidental, or suicide), Mass Shooting (4+ victims injured or killed excluding the subject/suspect/perpetrator, one location)",
         "c(\"https://www.baltimoresun.com/news/crime/bs-md-ci-cr-north-harford-road-quadruple-shooting-baltimore-20230402-p5kjs2dtzfgwlnr3lnt6os3e3q-story.html\", \"https://twitter.com/BaltMetroNews/status/1642331994569728000\", \"https://www.facebook.com/BaltimoreCityPolice/posts/pfbid0221zT5cPsMmL8SD3Eoeogq15TEfRnkY1AGMbKBgFLhaFDJwdrdfRXZazqkTg8N3zvl\", \"https://www.baltimorepolice.org/news/northeast-district-murder-arrest?fbclid=IwAR31e55nJsCZQkjMIlPd9jKSXdQWPi1-xGmIAZOuv0769UuZ320K4IhZ3dA\", \"https://www.wbal.com/article/609165/124/charging-docs-fatal-quadruple-shooting-started-with-argument-over-parking-loud-music\", \n\"https://baltimorewitness.org/trial-begins-in-neighborhood-parking-dispute-murder-mass-shooting/\")",
         "2023-04-01",
         "2023"
        ],
        [
         "7",
         "2872358",
         "April 1, 2024",
         "9:00 PM",
         "1725489248",
         "Louisiana",
         "New Iberia",
         "600 block of Breaux Alley",
         null,
         "30.0057",
         "-91.8327",
         "0",
         "5",
         "0",
         "4",
         "0",
         "1",
         "2",
         "Shot - Wounded/Injured, Mass Shooting (4+ victims injured or killed excluding the subject/suspect/perpetrator, one location), Shootout (where VENN diagram of shooters and victims overlap), House party / Block Party / Park Party / Private Parties at event spaces / Weddings and Funerals, ETC, Drug Sales or Trafficking, Armed robbery with injury/death and/or evidence of DGU found, Possession of gun by felon or prohibited person, Stolen/Illegally owned gun{s} recovered during arrest/warrant, \nAssault weapon (AR-15, AK-47, and ALL variants defined by law enforcement)",
         "c(\"https://www.kadn.com/news/crime/new-iberia-residents-afraid-after-shootout-over-gambling-and-drugs/article_7c428978-f3a1-11ee-a168-a74065ea48a4.html\", \"https://www.theadvocate.com/acadiana/news/crime_police/two-men-arrested-in-connection-to-new-iberia-shootings-one-charged-in-may-homicide/article_42e44f0e-6a2f-11ef-a6ab-9b383b6c710a.html\")",
         "2024-04-01",
         "2024"
        ],
        [
         "8",
         "2868907",
         "April 1, 2024",
         "9:00 PM",
         "1712083695",
         "Michigan",
         "Eastpointe",
         "19000 block of Dijon Ave",
         null,
         "42.4687",
         "-82.9234",
         "0",
         "4",
         "0",
         "4",
         "0",
         "0",
         "0",
         "Shot - Wounded/Injured, Drive-by (car to street, car to car), Mass Shooting (4+ victims injured or killed excluding the subject/suspect/perpetrator, one location)",
         "c(\"https://patch.com/michigan/stclairshores/multiple-shot-injured-metro-detroit-shooting-police\", \"https://www.fox2detroit.com/news/pregnant-woman-among-3-shot-in-eastpointe\")",
         "2024-04-01",
         "2024"
        ],
        [
         "9",
         "537825",
         "April 10, 2016",
         null,
         "1460356200",
         "Wisconsin",
         "Milwaukee",
         "76th and Sheridan",
         null,
         "43.1183",
         "-88.0061",
         "1",
         "3",
         "1",
         "3",
         "0",
         "0",
         "0",
         "Shot - Wounded/Injured, Shot - Dead (murder, accidental, or suicide), Mass Shooting (4+ victims injured or killed excluding the subject/suspect/perpetrator, one location)",
         "http://www.wqow.com/story/31688479/police-4-teens-shot-1-fatally-in-milwaukee",
         "2016-04-10",
         "2016"
        ],
        [
         "10",
         "537820",
         "April 10, 2016",
         null,
         "1460355864",
         "California",
         "Los Angeles",
         "84th Street and Towne Avenue",
         null,
         "33.9628",
         "-118.267",
         "0",
         "4",
         "0",
         "4",
         "0",
         "0",
         "0",
         "Shot - Wounded/Injured, Mass Shooting (4+ victims injured or killed excluding the subject/suspect/perpetrator, one location)",
         "http://abc7.com/news/4-shot-taken-to-hospital-in-south-los-angeles/1285147/",
         "2016-04-10",
         "2016"
        ],
        [
         "11",
         "1656265",
         "April 10, 2020",
         "12:47 AM",
         "1588122001",
         "Michigan",
         "Muskegon",
         "800 block of Oak St",
         null,
         "43.2378",
         "-86.2241",
         "0",
         "4",
         "0",
         "4",
         "0",
         "0",
         "1",
         "Shot - Wounded/Injured, Mass Shooting (4+ victims injured or killed excluding the subject/suspect/perpetrator, one location), Domestic Violence",
         "c(\"https://www.mlive.com/news/muskegon/2020/04/four-shot-two-critically-in-muskegon-following-likely-domestic-dispute.html\", \"https://www.mlive.com/news/muskegon/2020/04/suspect-in-four-muskegon-shootings-arrested-in-chicago.html\")",
         "2020-04-10",
         "2020"
        ],
        [
         "12",
         "1973692",
         "April 10, 2021",
         "5:15 AM",
         "1703012529",
         "Missouri",
         "Koshkonong",
         "US-63 and MO-F",
         "Snappy Mart",
         "36.5945",
         "-91.6435",
         "1",
         "3",
         "1",
         "3",
         "0",
         "0",
         "1",
         "Shot - Wounded/Injured, Shot - Dead (murder, accidental, or suicide), Mass Shooting (4+ victims injured or killed excluding the subject/suspect/perpetrator, one location)",
         "c(\"https://www.ky3.com/2021/04/10/one-killed-four-injured-in-shooting-at-koshkonong-mo-convenience-store/\", \"https://fox2now.com/news/missouri/1-dead-3-injured-in-shooting-at-southern-missouri-convenience-store/\", \"https://fox2now.com/news/missouri/man-charged-with-murder-in-missouri-convenience-store-attack/\", \"https://fox2now.com/news/missouri/suspect-arraigned-in-shooting-at-missouri-convenience-store/\")",
         "2021-04-10",
         "2021"
        ],
        [
         "13",
         "1974088",
         "April 10, 2021",
         "5:20 PM",
         "1621133670",
         "Tennessee",
         "Memphis",
         "385 Western Park Dr",
         "Wells Auto Center",
         "35.0309",
         "-90.0768",
         "1",
         "3",
         "1",
         "3",
         "0",
         "0",
         "1",
         "Shot - Wounded/Injured, Shot - Dead (murder, accidental, or suicide), Accidental Shooting, Accidental Shooting - Injury, Stray bullet, Child Involved Incident, Child injured (not child shooter), Mass Shooting (4+ victims injured or killed excluding the subject/suspect/perpetrator, one location), Possession of gun by felon or prohibited person",
         "c(\"https://wreg.com/news/mpd-4-shot-1-fatally-in-southwest-memphis-shooting/\", \"https://www.fox13memphis.com/news/local/4-shot-1-dead-after-shooting-near-memphis-food-market-police-say/M5VA3RCKBVEDJAMJ6D7W4GA5FE/\", \"https://wreg.com/news/mpd-identifies-suspect-possibly-involved-in-frayser-barricade-situation/\", \"https://www.wmcactionnews5.com/2021/05/15/barricaded-suspect-linked-westwood-homicide-shootings/\")",
         "2021-04-10",
         "2021"
        ],
        [
         "14",
         "1973809",
         "April 10, 2021",
         "12:15 AM",
         "1625017263",
         "Michigan",
         "Allendale",
         "4926 Becker Dr",
         "Enclave Apartments",
         "42.9739",
         "-85.9077",
         "0",
         "4",
         "0",
         "4",
         "0",
         "0",
         "1",
         "Shot - Wounded/Injured, Mass Shooting (4+ victims injured or killed excluding the subject/suspect/perpetrator, one location), House party / Block Party / Park Party / Private Parties at event spaces / Weddings and Funerals, ETC",
         "c(\"https://www.mlive.com/news/grand-rapids/2021/04/four-shot-at-allendale-apartment-complex-police-search-for-suspect.html\", \"https://www.miheadlines.com/2021/04/10/four-shot-at-enclave-apts-in-allendale-one-person-critical/\", \"https://cw7michigan.com/news/local/4-people-shot-1-critically-injured-in-allendale-apartment-shooting\", \"https://www.wzzm13.com/article/news/local/four-shot-near-gvsu/69-250ecd40-3850-4d5f-ae49-5c07fd85b5ba?ref=exit-recirc\", \"https://www.wzzm13.com/article/news/local/four-shot-near-gvsu/69-250ecd40-3850-4d5f-ae49-5c07fd85b5ba\", \n\"https://www.mlive.com/news/grand-rapids/2021/06/man-arrested-for-allegedly-shooting-4-at-allendale-apartment-party.html\")",
         "2021-04-10",
         "2021"
        ],
        [
         "15",
         "1975405",
         "April 10, 2021",
         "12:15 AM",
         "1618504226",
         "Connecticut",
         "Waterbury",
         "36 Gasparri Ln",
         null,
         "41.5444",
         "-73.0119",
         "0",
         "4",
         "0",
         "4",
         "0",
         "0",
         "1",
         "Shot - Wounded/Injured, Mass Shooting (4+ victims injured or killed excluding the subject/suspect/perpetrator, one location)",
         "c(\"https://www.rep-am.com/local/localnews/2021/04/12/four-people-shot-during-incident-in-waterbury-saturday-police-say/\", \"https://whdh.com/news/19-year-old-arrested-in-connecticut-shootings-that-injured-4/\", \"https://www.rep-am.com/local/localnews/2021/04/15/waterbury-shootings-followed-argument/\")",
         "2021-04-10",
         "2021"
        ],
        [
         "16",
         "2275283",
         "April 10, 2022",
         "4:15 PM",
         "1649709001",
         "California",
         "Willowbrook",
         "Blakley Ave and E 122nd Pl",
         null,
         "33.9213",
         "-118.247",
         "2",
         "5",
         "2",
         "5",
         "0",
         "0",
         "0",
         "Shot - Wounded/Injured, Shot - Dead (murder, accidental, or suicide), Mass Shooting (4+ victims injured or killed excluding the subject/suspect/perpetrator, one location)",
         "c(\"https://www.cbsnews.com/losangeles/news/two-killed-four-wounded-following-shooting-in-willowbrook/\", \"https://ktla.com/news/local-news/2-killed-4-injured-in-willowbrook-shooting/\", \"https://twitter.com/DowntownLAScan/status/1513345863380189186\", \"https://mynewsla.com/crime/2022/04/11/authorities-id-2-killed-willowbrook-shooting-investigation-continuing/\")",
         "2022-04-10",
         "2022"
        ],
        [
         "17",
         "2274803",
         "April 10, 2022",
         "1:59 AM",
         "1649709901",
         "Illinois",
         "Elgin",
         "958 Congdon Ave",
         "Blackhawk Apartments",
         "42.0573",
         "-88.255",
         "2",
         "4",
         "2",
         "4",
         "0",
         "0",
         "0",
         "Shot - Wounded/Injured, Shot - Dead (murder, accidental, or suicide), Mass Shooting (4+ victims injured or killed excluding the subject/suspect/perpetrator, one location), House party / Block Party / Park Party / Private Parties at event spaces / Weddings and Funerals, ETC",
         "c(\"https://abc7chicago.com/elgin-il-shooting-police-department/11733037/\", \"https://www.chicagotribune.com/news/breaking/ct-six-injured-elgin-shooting-20220410-f7ng6qsyyzgrzhplibp36np4ne-story.html\", \"https://abc7chicago.com/elgin-il-shooting-johnathan-king-police/11737209/\")",
         "2022-04-10",
         "2022"
        ],
        [
         "18",
         "2274783",
         "April 10, 2022",
         "3:20 AM",
         "1649736093",
         "Indiana",
         "Indianapolis",
         "4270 W 38th St",
         "Team One Event Center",
         "39.825",
         "-86.2332",
         "1",
         "5",
         "1",
         "5",
         "0",
         "0",
         "0",
         "Shot - Wounded/Injured, Shot - Dead (murder, accidental, or suicide), Mass Shooting (4+ victims injured or killed excluding the subject/suspect/perpetrator, one location), Shootout (where VENN diagram of shooters and victims overlap), House party / Block Party / Park Party / Private Parties at event spaces / Weddings and Funerals, ETC",
         "c(\"https://www.wthr.com/article/news/crime/birthday-party-shooting-northwest-side-indianapolis-west-38th-street/531-48a5d061-d28f-4c66-bede-f0f45194ce3f\", \"https://www.indystar.com/story/news/crime/2022/04/10/indy-shooting-1-killed-5-injured-birthday-celebration/9532023002/\", \"https://www.wrtv.com/news/local-news/crime/5-people-shot-1-killed-after-fight-at-birthday-party-on-northwest-side-indianapolis-police\")",
         "2022-04-10",
         "2022"
        ],
        [
         "19",
         "2275242",
         "April 10, 2022",
         "1:00 PM",
         "1649636026",
         "Louisiana",
         "Baton Rouge",
         "2700 block of Lorraine St",
         null,
         "30.4967",
         "-91.1635",
         "0",
         "4",
         "0",
         "4",
         "0",
         "0",
         "0",
         "Shot - Wounded/Injured, Mass Shooting (4+ victims injured or killed excluding the subject/suspect/perpetrator, one location)",
         "https://www.wafb.com/2022/04/10/emergency-officials-respond-triple-shooting-lorraine-street-sunday-afternoon/",
         "2022-04-10",
         "2022"
        ],
        [
         "20",
         "2274790",
         "April 10, 2022",
         "1:27 AM",
         "1659302223",
         "Iowa",
         "Cedar Rapids",
         "415 3rd St SE",
         "Taboo Nightclub and Lounge",
         "41.9761",
         "-91.6646",
         "3",
         "9",
         "3",
         "9",
         "0",
         "0",
         "2",
         "Shot - Wounded/Injured, Shot - Dead (murder, accidental, or suicide), Mass Shooting (4+ victims injured or killed excluding the subject/suspect/perpetrator, one location), Bar/club incident - in or around establishment, Domestic Violence, Possession of gun by felon or prohibited person",
         "c(\"https://www.kcrg.com/2022/04/10/two-people-killed-shooting-downtown-cedar-rapids/\", \"https://cbs2iowa.com/news/local/crpd-two-male-suspects-targeted-one-person-in-deadly-mass-shooting-at-downtown-nightclub\", \"https://www.kcrg.com/2022/04/11/police-release-names-taboo-nightclub-shooting-victims/\", \"https://www.kwqc.com/2022/04/12/man-facing-murder-charge-cedar-rapids-mass-shooting/\", \"https://www.kcrg.com/2022/04/12/breaking-down-criminal-complaint-shooting-taboo-night-club/\", \"https://www.press-citizen.com/story/news/crime-and-courts/2022/04/13/cedar-rapids-iowa-shooting-taboo-nightclub-michael-valentine-nicole-owens/7307373001/\", \n\"https://www.kcrg.com/2022/04/18/second-arrest-made-taboo-night-club-shooting/\", \"https://cbs2iowa.com/news/local/suspect-in-nightclub-shooting-denied-bond-reduction-says-he-didnt-shoot-his-girlfriend\", \"https://cbs2iowa.com/news/local/third-person-dies-from-taboo-nightclub-shooting\")",
         "2022-04-10",
         "2022"
        ],
        [
         "21",
         "2568184",
         "April 10, 2023",
         "8:38 AM",
         "1750112905",
         "Kentucky",
         "Louisville",
         "333 E Main St",
         "Old National Bank",
         "38.2558",
         "-85.7462",
         "6",
         "5",
         "5",
         "5",
         "1",
         "0",
         "0",
         "Shot - Wounded/Injured, Shot - Dead (murder, accidental, or suicide), Officer Involved Incident, Officer Involved Shooting - Officer shot, Officer Involved Shooting - subject/suspect/perpetrator killed, Mass Murder (4+ deceased victims excluding the subject/suspect/perpetrator , one location), Mass Shooting (4+ victims injured or killed excluding the subject/suspect/perpetrator, one location), Workplace shooting (disgruntled current or former employee), Assault weapon (AR-15, AK-47, and ALL variants defined by law enforcement)\n",
         "c(\"https://www.wdrb.com/news/public-asked-to-avoid-downtown-louisville-near-preston-and-floyd-during-shooting-investigation/article_6c43e3c6-d79d-11ed-a43e-77040efc05bf.html\", \"https://www.whas11.com/article/news/local/heavy-police-presence-in-downtown-louisville/417-8afe3817-06fe-44aa-bb8b-7ff56d8e5e2a\", \"https://www.wymt.com/2023/04/10/reported-active-shooting-incident-downtown-louisville/\", \"https://www.courier-journal.com/story/news/local/2023/04/10/connor-sturgeon-what-we-know-about-old-national-bank-shooter/70100386007/\", \n\"https://www.wdrb.com/news/louisville-police-release-body-camera-video-from-response-to-mass-shooting-at-downtown-bank/article_ae53ae9e-d89d-11ed-b3bf-bfdd55579c93.html\", \"https://www.wtvr.com/news/national-news/mom-of-louisville-shooter-connor-sturgeon-mom-called-911-after-hearing-son-had-gun-was-heading-for-bank\", \"https://www.wdrb.com/news/3-victims-remain-hospitalized-1-critical-from-mass-shooting-in-louisville/article_466f7cd6-d870-11ed-8f9d-1b807bade898.html\", \"https://www.wlky.com/article/louisville-ba\"\n)",
         "2023-04-10",
         "2023"
        ],
        [
         "22",
         "2876444",
         "April 10, 2024",
         "6:10 PM",
         "1712976342",
         "District of Columbia",
         "Washington",
         "1100 block of 21st Street NE",
         null,
         "38.9044",
         "-76.9749",
         "1",
         "5",
         "1",
         "5",
         "0",
         "0",
         "0",
         "Shot - Wounded/Injured, Shot - Dead (murder, accidental, or suicide), Child Involved Incident, Child injured (not child shooter), Mass Shooting (4+ victims injured or killed excluding the subject/suspect/perpetrator, one location)",
         "c(\"https://www.fox5dc.com/news/multiple-people-shot-in-dc-neighborhood-photo-of-getaway-car-released\", \"https://www.washingtonpost.com/dc-md-va/2024/04/10/man-killed-boys-wounded-northeast-dc-shooting/\", \"https://www.fox5dc.com/news/mom-speaks-out-after-12-year-old-son-survives-mass-shooting-in-dc\", \"https://www.dcnewsnow.com/news/local-news/washington-dc/woman-shot-in-ne-dc-shooting-slowly-recovering-in-hospital-mother-says/\")",
         "2024-04-10",
         "2024"
        ],
        [
         "23",
         "124146",
         "April 11, 2014",
         null,
         "1430230320",
         "Indiana",
         "Richmond",
         "North 15th and H Streets",
         null,
         "39.8386",
         "-84.8816",
         "0",
         "4",
         "0",
         "4",
         "0",
         "0",
         "0",
         "Shot - Wounded/Injured, Mass Shooting (4+ victims injured or killed excluding the subject/suspect/perpetrator, one location)",
         "http://fox59.com/2014/04/11/victims-identified-in-quadruple-richmond-shooting/#axzz2ycQJQCwq",
         "2014-04-11",
         "2014"
        ],
        [
         "24",
         "1368597",
         "April 11, 2019",
         "11:17 AM",
         "1643240262",
         "Maryland",
         "Baltimore",
         "2200 block of Ruskin Ave",
         null,
         "39.3152",
         "-76.6479",
         "1",
         "3",
         "1",
         "3",
         "0",
         "0",
         "1",
         "Shot - Wounded/Injured, Shot - Dead (murder, accidental, or suicide), Mass Shooting (4+ victims injured or killed excluding the subject/suspect/perpetrator, one location)",
         "c(\"https://www.baltimoresun.com/news/maryland/crime/bs-md-ci-triple-shooting-thursday-20190411-story.html\", \"https://www.wbal.com/article/382906/21/police-one-killed-in-quadruple-shooting-near-druid-hill-park\", \"https://www.facebook.com/pg/BaltimoreCityPolice/posts/?ref=page_internal\", \"https://foxbaltimore.com/news/local/baltimore-man-gets-life-sentence-for-retaliatory-quadruple-shooting\")",
         "2019-04-11",
         "2019"
        ],
        [
         "25",
         "1369148",
         "April 11, 2019",
         "8:18 PM",
         "1582735501",
         "Arizona",
         "Phoenix",
         "7112 W Minnezona Ave",
         null,
         "33.504",
         "-112.212",
         "3",
         "2",
         "3",
         "2",
         "0",
         "0",
         "1",
         "Shot - Wounded/Injured, Shot - Dead (murder, accidental, or suicide), Child Involved Incident, Child killed (not child shooter), Spree Shooting (multiple victims, multiple locations), Mass Shooting (4+ victims injured or killed excluding the subject/suspect/perpetrator, one location), Domestic Violence, Assault weapon (AR-15, AK-47, and ALL variants defined by law enforcement)",
         "c(\"http://www.fox10phoenix.com/news/arizona-news/police-investigating-shooting-along-69th-avenue-in-west-phoenix\", \"https://www.abc15.com/news/region-phoenix-metro/west-phoenix/police-1-dead-2-hurt-after-shooting-in-west-phoenix?fbclid=IwAR2SWshKrFJ54nyDMhSNZRIXSQBt6xlmuGM-1jphvG26PJZk6J_aU5phwwM\", \"https://www.azfamily.com/news/phoenix-man-accused-of-killing-wife-daughters-says-god-told/article_3b82bff4-5cd7-11e9-9f1c-1b9ff7e5c229.html\", \"https://www.12news.com/article/news/local/valley/man-accused-of-killing-girlfriend-daughters-had-guns-taken-away-given-back-last-year/75-9cb54780-c16c-47d5-824b-93c0f071661f\", \n\"https://www.ajc.com/news/national/police-year-old-hid-under-bed-dad-killed-mom-sisters-because-god-told-him/SYl7SOCqY9ShfU6VvsXmhP/\", \"https://www.azcentral.com/story/news/local/phoenix-breaking/2019/04/12/4-dead-suspect-held-phoenix-shootings-39th-ave-minnezona-ave/3448009002/\", \"https://www.azcentral.com/story/news/local/phoenix/2020/02/26/austin-smith-phoenix-man-sentenced-killing-wife-2-kids-alleged-affair/4875148002\")",
         "2019-04-11",
         "2019"
        ],
        [
         "26",
         "1369109",
         "April 11, 2019",
         "6:25 PM",
         "1556229601",
         "California",
         "Los Angeles",
         "E 103rd St and S Main St",
         null,
         "33.9428",
         "-118.274",
         "1",
         "4",
         "1",
         "4",
         "0",
         "0",
         "0",
         "Shot - Wounded/Injured, Shot - Dead (murder, accidental, or suicide), Drive-by (car to street, car to car), Mass Shooting (4+ victims injured or killed excluding the subject/suspect/perpetrator, one location), Gang involvement",
         "c(\"https://www.latimes.com/local/lanow/la-me-shooting-watts-nipsey-hussle-20190411-story.html\", \"https://ktla.com/2019/04/11/4-people-shot-1-fatally-in-south-l-a-amid-procession-for-nipsey-hussle/\", \"https://twitter.com/LAPDChiefMoore/status/1116528584519110657\", \"https://abc7.com/1-killed-4-wounded-in-shooting-in-watts-area-of-los-angeles/5244434/\", \"https://www.nbclosangeles.com/news/local/Coroner-IDs-Man-Killed-In-Shooting-Near-Nipsey-Hussle-Funeral-Route-508570441.html\")",
         "2019-04-11",
         "2019"
        ],
        [
         "27",
         "1656873",
         "April 11, 2020",
         "12:20 AM",
         "1586632741",
         "California",
         "Bakersfield",
         "Pioneer Rd and Sterling Rd",
         null,
         "35.3675",
         "-118.931",
         "0",
         "6",
         "0",
         "6",
         "0",
         "0",
         "0",
         "Shot - Wounded/Injured, Mass Shooting (4+ victims injured or killed excluding the subject/suspect/perpetrator, one location), House party / Block Party / Park Party / Private Parties at event spaces / Weddings and Funerals, ETC",
         "c(\"https://abc30.com/shooting-mass-bakersfield/6095034/\", \"https://bakersfieldnow.com/news/local/six-shot-and-injured-during-shooting-in-east-bakersfield\")",
         "2020-04-11",
         "2020"
        ],
        [
         "28",
         "1974943",
         "April 11, 2021",
         "3:00 AM",
         "1618185602",
         "Kansas",
         "Wichita",
         "200 block of N Battin St",
         null,
         "37.6886",
         "-97.2768",
         "1",
         "3",
         "1",
         "3",
         "0",
         "0",
         "0",
         "Shot - Wounded/Injured, Shot - Dead (murder, accidental, or suicide), Mass Shooting (4+ victims injured or killed excluding the subject/suspect/perpetrator, one location), House party / Block Party / Park Party / Private Parties at event spaces / Weddings and Funerals, ETC",
         "https://www.ksn.com/news/one-dead-in-east-wichita-shooting-at-airbnb/",
         "2021-04-11",
         "2021"
        ],
        [
         "29",
         "1975004",
         "April 11, 2021",
         "3:25 PM",
         "1618223966",
         "Washington",
         "Seattle",
         "306 23rd Ave S",
         "AutoZone",
         "47.6001",
         "-122.302",
         "0",
         "4",
         "0",
         "4",
         "0",
         "0",
         "0",
         "Shot - Wounded/Injured, Child Involved Incident, Child injured (not child shooter), Mass Shooting (4+ victims injured or killed excluding the subject/suspect/perpetrator, one location)",
         "c(\"https://www.king5.com/article/news/crime/seattle-shooting-investigation-near-judkins-park/281-4204a6d7-8b45-43c1-b488-c627d08e5594\", \"https://www.king5.com/article/news/crime/seattle-shooting-investigation-near-judkins-park/281-4204a6d7-8b45-43c1-b488-c627d08e5594\")",
         "2021-04-11",
         "2021"
        ],
        [
         "30",
         "2569434",
         "April 11, 2023",
         "12:32 PM",
         "1681313862",
         "District of Columbia",
         "Washington",
         "4001 Benning Rd NE",
         "Stewart Funeral Home",
         "38.8937",
         "-76.9465",
         "1",
         "3",
         "1",
         "3",
         "0",
         "0",
         "0",
         "Shot - Wounded/Injured, Shot - Dead (murder, accidental, or suicide), Mass Shooting (4+ victims injured or killed excluding the subject/suspect/perpetrator, one location), House party / Block Party / Park Party / Private Parties at event spaces / Weddings and Funerals, ETC",
         "c(\"https://twitter.com/RealTimeNews10/status/1645831321908834304\", \"https://www.wusa9.com/article/news/local/dc/multiple-people-shot-northeast-dc/65-123baf7c-36e6-4887-89b7-aa1afb79202c\", \"https://www.nbcwashington.com/news/local/several-people-shot-at-dc-funeral-home-police/3326877/\", \"https://www.dcnewsnow.com/news/local-news/washington-dc/multiple-people-shot-in-northeast/\")",
         "2023-04-11",
         "2023"
        ],
        [
         "31",
         "2877499",
         "April 11, 2024",
         "8:30 PM",
         "1712976290",
         "Florida",
         "Orlando",
         "2800 block of Gamma Dr",
         null,
         "28.6232",
         "-81.4167",
         "1",
         "3",
         "1",
         "3",
         "0",
         "0",
         "0",
         "Shot - Wounded/Injured, Shot - Dead (murder, accidental, or suicide), Mass Shooting (4+ victims injured or killed excluding the subject/suspect/perpetrator, one location)",
         "c(\"https://www.fox35orlando.com/video/1440102\", \"https://www.fox35orlando.com/news/1-dead-3-injured-following-shooting-in-orlando-deputies\", \"https://www.wesh.com/article/orange-county-shooting-gamma-drive/60474170\")",
         "2024-04-11",
         "2024"
        ],
        [
         "32",
         "3182714",
         "April 11, 2025",
         "2:00 PM",
         "1744575576",
         "California",
         "Stockton",
         "517 Doctor MLK Jr Blvd",
         "Frontline Barber Shop",
         "37.9376",
         "-121.294",
         "0",
         "6",
         "0",
         "6",
         "0",
         "0",
         "0",
         "Shot - Wounded/Injured, Mass Shooting (4+ victims injured or killed excluding the subject/suspect/perpetrator, one location), Shootout (where VENN diagram of shooters and victims overlap)",
         "c(\"https://www.abc10.com/article/news/local/stockton-shooting-investigation/103-fb17da57-613f-4148-87e6-81476b8bd506\", \"https://fox40.com/news/local-news/stockton/mass-shooting-in-stockton-leaves-at-least-6-people-shot-officials-say/\")",
         "2025-04-11",
         "2025"
        ],
        [
         "33",
         "125028",
         "April 12, 2014",
         null,
         "1430230540",
         "Louisiana",
         "New Orleans",
         "2100 block of Pauger Street",
         null,
         "29.9716",
         "-90.0609",
         "1",
         "3",
         "1",
         "3",
         "0",
         "0",
         "0",
         "Shot - Wounded/Injured, Shot - Dead (murder, accidental, or suicide), Drive-by (car to street, car to car), Mass Shooting (4+ victims injured or killed excluding the subject/suspect/perpetrator, one location)",
         "http://www.wwltv.com/news/crime/NOPD-Quadruple-shooting-leaves-one-man-dead-1-year-old-girl-injured-255065791.html",
         "2014-04-12",
         "2014"
        ],
        [
         "34",
         "1370269",
         "April 12, 2019",
         null,
         "1675440001",
         "Illinois",
         "Carbondale",
         "119 N Washington St",
         "ABC Liquor and Tres Hombres",
         "37.7281",
         "-89.2151",
         "0",
         "4",
         "0",
         "4",
         "0",
         "0",
         "3",
         "Shot - Wounded/Injured, Accidental Shooting, Accidental Shooting - Injury, Stray bullet, Mass Shooting (4+ victims injured or killed excluding the subject/suspect/perpetrator, one location), Bar/club incident - in or around establishment",
         "c(\"https://thesouthern.com/news/local/crime-and-courts/injured-in-friday-night-downtown-carbondale-shooting-police-id-suspect/article_69181561-f152-588e-bdfa-8c0aab7d7318.html\", \"http://www.wsiltv.com/story/40311332/victim-speaks-from-hospital-after-weekend-shooting\", \"https://thesouthern.com/news/local/crime-and-courts/pullen-arrested-alleged-gunman-in-downtown-carbondale-shooting-found-in/article_597c9e6f-c2cd-5529-b3bc-850b721c1a7e.html\", \"https://wsiltv.com/2021/01/20/pullen-sentenced-to-84-years-in-prison-for-shooting-outside-tres-hombres/\", \n\"https://thesouthern.com/news/local/crime-and-courts/three-found-guilty-in-carbondale-shooting-investigation/article_87b70d29-87c1-53df-8709-d0d01e2fee33.html\")",
         "2019-04-12",
         "2019"
        ],
        [
         "35",
         "2276339",
         "April 12, 2022",
         "8:30 AM",
         "1651193247",
         "New York",
         "Brooklyn",
         "36th St and 4th Ave",
         "MTA N/R line",
         "40.6543",
         "-74.0043",
         "0",
         "10",
         "0",
         "10",
         "0",
         "0",
         "1",
         "Shot - Wounded/Injured, Mass Shooting (4+ victims injured or killed excluding the subject/suspect/perpetrator, one location)",
         "c(\"https://twitter.com/nyc_alerts911/status/1513864887226753027?s=21&t=FQW-IWDpd_HeBXG5CEWJjQ\", \"https://go.citizen.com/CsVLSIMqapb\", \"https://abc7ny.com/brooklyn-shootings-subway-shooting-sunset-park-new-york/11740555/\", \"https://go.citizen.com/x2Hzij2xapb\", \"https://nypost.com/2022/04/12/frank-r-james-idd-as-person-of-interest-in-brooklyn-subway-shooting/\", \"https://nypost.com/2022/04/12/blood-bullet-holes-shell-casings-the-aftermath-of-brooklyn-subway-rampage/\", \"https://www.nytimes.com/live/2022/04/13/nyregion/brooklyn-subway-shooting?smtyp=cur&smid=tw-nytimes#new-yorkers-start-their-commutes-as-police-search-for-the-gunman\"\n)",
         "2022-04-12",
         "2022"
        ],
        [
         "36",
         "2277011",
         "April 12, 2022",
         "10:00 PM",
         "1649860201",
         "New York",
         "Bronx",
         "2825 Olinville Ave",
         "Parkside Houses",
         "40.8672",
         "-73.8686",
         "1",
         "3",
         "1",
         "3",
         "0",
         "0",
         "0",
         "Shot - Wounded/Injured, Shot - Dead (murder, accidental, or suicide), Mass Shooting (4+ victims injured or killed excluding the subject/suspect/perpetrator, one location)",
         "c(\"https://twitter.com/NYC_Alerts911/status/1514070334852538370\", \"https://www.amny.com/new-york/bronx/eight-shot-in-three-separate-bronx-shootings/\")",
         "2022-04-12",
         "2022"
        ],
        [
         "37",
         "2570985",
         "April 12, 2023",
         "6:45 PM",
         "1681504201",
         "Indiana",
         "Fort Wayne",
         "3530 Harvester Ave",
         "McCormick Park",
         "41.0639",
         "-85.0923",
         "1",
         "3",
         "1",
         "3",
         "0",
         "0",
         "0",
         "Shot - Wounded/Injured, Shot - Dead (murder, accidental, or suicide), Mass Shooting (4+ victims injured or killed excluding the subject/suspect/perpetrator, one location)",
         "c(\"https://www.wishtv.com/news/indiana-news/4-people-shot-at-indiana-park-during-memorial-for-slain-man/\", \"https://www.wane.com/news/stuff-just-went-crazy-chaos-bullets-at-mccormick-park-balloon-release/\")",
         "2023-04-12",
         "2023"
        ],
        [
         "38",
         "2570823",
         "April 12, 2023",
         "5:45 PM",
         "1687681365",
         "New Jersey",
         "Trenton",
         "Spring St and Calhoun St",
         null,
         "40.2248",
         "-74.7727",
         "1",
         "3",
         "1",
         "3",
         "0",
         "0",
         "0",
         "Shot - Wounded/Injured, Shot - Dead (murder, accidental, or suicide), Drive-by (car to street, car to car), Mass Shooting (4+ victims injured or killed excluding the subject/suspect/perpetrator, one location)",
         "c(\"https://midjersey.news/2023/04/12/trenton-police-investigate-afternoon-shooting/\", \"https://www.rlsmedia.com/article/update-critical-injuries-reported-new-jersey-double-drive-shooting-incident\", \"https://midjersey.news/2023/06/23/two-others-have-died-from-trenton-shootings-increasing-trenton-homicide-total-to-17/\")",
         "2023-04-12",
         "2023"
        ],
        [
         "39",
         "2570789",
         "April 12, 2023",
         "6:31 PM",
         "1681408534",
         "North Carolina",
         "Goldsboro",
         "112 N. Leslie St",
         null,
         "35.3806",
         "-77.9862",
         "1",
         "5",
         "1",
         "5",
         "0",
         "0",
         "0",
         "Shot - Wounded/Injured, Shot - Dead (murder, accidental, or suicide), Mass Shooting (4+ victims injured or killed excluding the subject/suspect/perpetrator, one location), House party / Block Party / Park Party / Private Parties at event spaces / Weddings and Funerals, ETC",
         "c(\"https://www.wral.com/story/14-year-old-dead-5-injured-in-goldsboro-shooting/20808686/\", \"https://www.facebook.com/watch/?v=760211325593424\", \"https://www.facebook.com/ncfightingcrime/posts/pfbid0LSj9txojth7B4Z5aHF7E2Y9aMd9UNJkg6fA7K98kjPGY3FJG9pekyz39r2CQMTPBl\")",
         "2023-04-12",
         "2023"
        ],
        [
         "40",
         "2570622",
         "April 12, 2023",
         "9:30 PM",
         "1681613101",
         "Ohio",
         "Toledo",
         "998 Dorr St",
         "Smith Park",
         "41.653",
         "-83.5673",
         "1",
         "5",
         "1",
         "5",
         "0",
         "0",
         "0",
         "Shot - Wounded/Injured, Shot - Dead (murder, accidental, or suicide), Mass Shooting (4+ victims injured or killed excluding the subject/suspect/perpetrator, one location), House party / Block Party / Park Party / Private Parties at event spaces / Weddings and Funerals, ETC",
         "c(\"https://www.wtol.com/article/news/crime/three-shot-central-toledo-ewing-woodland/512-6a939b10-cb52-4166-b7d5-ea0e07d7f1cc\", \"https://www.13abc.com/2023/04/13/tpd-one-woman-critical-condition-following-smith-park-shooting/\", \"https://www.13abc.com/2023/04/15/teenage-girl-shot-smith-park-dies-police-say/\")",
         "2023-04-12",
         "2023"
        ],
        [
         "41",
         "3183722",
         "April 12, 2025",
         "10:35 PM",
         "1744681727",
         "Texas",
         "Crosby",
         "13203 Crosby Lynchburg Rd",
         "Shell",
         "29.8802",
         "-95.064",
         "1",
         "6",
         "1",
         "6",
         "0",
         "0",
         "0",
         "Shot - Wounded/Injured, Shot - Dead (murder, accidental, or suicide), Mass Shooting (4+ victims injured or killed excluding the subject/suspect/perpetrator, one location), Convenience Store/Bodega [7-Eleven, Wawa, Stop-N-Go, ETC], Gasoline/Charging Station [Shell, Mobil, Tesla, ETC], House party / Block Party / Park Party / Private Parties at event spaces / Weddings and Funerals, ETC",
         "c(\"https://x.com/SheriffEd_HCSO/status/1911264680888484205\", \"https://www.khou.com/article/news/local/crosby-gas-station-shooting/285-2198f297-8b5a-45ff-8365-d80ffcb9c062\", \"https://baytownsun.com/local/19-year-old-killed-in-crosby-mass-shooting/article_fad3baa4-4a0c-482a-a7ed-44600ccf5e85.html\")",
         "2025-04-12",
         "2025"
        ],
        [
         "42",
         "818932",
         "April 13, 2017",
         null,
         "1492197954",
         "Georgia",
         "Atlanta",
         "30 Anderson Ave SW",
         "West Lake MARTA station",
         "33.7536",
         "-84.446",
         "1",
         "3",
         "1",
         "3",
         "0",
         "0",
         "1",
         "Shot - Wounded/Injured, Shot - Dead (murder, accidental, or suicide), Mass Shooting (4+ victims injured or killed excluding the subject/suspect/perpetrator, one location)",
         "c(\"http://www.cbs46.com/story/35146943/at-least-4-shot-at-westlake-marta-station\", \"http://www.firstcoastnews.com/news/5-shot-at-marta-station/431127337\", \"http://www.11alive.com/news/5-shot-at-marta-station/431097122\", \"http://www.11alive.com/news/local/family-of-marta-shooting-victim-i-really-thought-the-worst-but-im-so-glad-shes-alright/431179308\", \"http://www.ajc.com/news/local/murder-suspect-targeted-marta-train-shooting/E7CnXcbcDQ25hk7DMhRbnJ/\")",
         "2017-04-13",
         "2017"
        ],
        [
         "43",
         "1374920",
         "April 13, 2019",
         "3:40 AM",
         "1565558490",
         "California",
         "Moreno Valley",
         "23500 block of Alessandro Blvd",
         null,
         "33.9173",
         "-117.252",
         "0",
         "4",
         "0",
         "4",
         "0",
         "0",
         "0",
         "Shot - Wounded/Injured, Mass Shooting (4+ victims injured or killed excluding the subject/suspect/perpetrator, one location)",
         "https://www.sbsun.com/2019/04/17/four-people-injured-in-weekend-shooting-at-business-in-moreno-valley/",
         "2019-04-13",
         "2019"
        ],
        [
         "44",
         "1976538",
         "April 13, 2021",
         "2:30 PM",
         "1618361407",
         "Maryland",
         "Baltimore",
         "2300 block of Hoffman St",
         null,
         "39.307",
         "-76.5852",
         "0",
         "4",
         "0",
         "4",
         "0",
         "0",
         "0",
         "Shot - Wounded/Injured, Mass Shooting (4+ victims injured or killed excluding the subject/suspect/perpetrator, one location)",
         "https://baltimore.cbslocal.com/2021/04/13/4-men-shot-by-at-least-2-people-while-playing-dice-game-tuesday-afternoon-in-east-baltimore-police-say/",
         "2021-04-13",
         "2021"
        ],
        [
         "45",
         "2571130",
         "April 13, 2023",
         "2:15 AM",
         "1681415438",
         "New York",
         "Bronx",
         "1859 Westchester Ave",
         "Isla Cafe",
         "40.8327",
         "-73.8639",
         "0",
         "4",
         "0",
         "4",
         "0",
         "0",
         "0",
         "Shot - Wounded/Injured, Mass Shooting (4+ victims injured or killed excluding the subject/suspect/perpetrator, one location)",
         "https://nypost.com/2023/04/13/4-people-including-possible-bystanders-hurt-in-shooting-outside-nyc-restaurant-cops/",
         "2023-04-13",
         "2023"
        ],
        [
         "46",
         "2571648",
         "April 13, 2023",
         "8:50 PM",
         "1682019002",
         "Michigan",
         "Detroit",
         "13570 block of Penrod St",
         null,
         "42.3854",
         "-83.2207",
         "0",
         "5",
         "0",
         "4",
         "0",
         "1",
         "1",
         "Shot - Wounded/Injured, Mass Shooting (4+ victims injured or killed excluding the subject/suspect/perpetrator, one location), Shootout (where VENN diagram of shooters and victims overlap)",
         "c(\"https://www.clickondetroit.com/news/local/2023/04/14/3-people-shot-on-detroits-west-side/\", \"https://www.wxyz.com/news/police-4-shot-including-3-teens-in-detroit-after-dispute\", \"https://www.clickondetroit.com/news/local/2023/04/14/30-shots-fired-11-questioned-4-hurt-during-gun-battle-between-next-door-neighbors-in-detroit/\", \"https://www.cbsnews.com/detroit/news/fifth-person-involved-in-penrod-street-shooting-in-detroit/\", \"https://www.fox2detroit.com/news/pizza-delivered-to-wrong-detroit-house-leads-to-shootout-that-injured-4-including-2-teens\", \n\"https://www.cbsnews.com/detroit/news/detroit-man-charged-in-penrod-street-shootings/\", \"https://www.detroitnews.com/story/news/local/detroit-city/2023/04/17/detroit-man-shooting-teens-food-order-wrong-address/70122510007/\", \"https://www.fox2detroit.com/news/detroit-pizza-delivery-shooting-suspects-bond-reduced-to-5k-after-defense-argues-he-wasnt-shooter\")",
         "2023-04-13",
         "2023"
        ],
        [
         "47",
         "2879189",
         "April 13, 2024",
         "9:18 PM",
         "1725631602",
         "Illinois",
         "Chicago",
         "2021 W 52nd St",
         null,
         "41.7987",
         "-87.6754",
         "1",
         "10",
         "1",
         "10",
         "0",
         "0",
         "1",
         "Shot - Wounded/Injured, Shot - Dead (murder, accidental, or suicide), Child Involved Incident, Child killed (not child shooter), Child injured (not child shooter), Mass Shooting (4+ victims injured or killed excluding the subject/suspect/perpetrator, one location), House party / Block Party / Park Party / Private Parties at event spaces / Weddings and Funerals, ETC, Gang involvement, Assault weapon (AR-15, AK-47, and ALL variants defined by law enforcement)",
         "c(\"https://www.wsbtv.com/news/trending/least-8-people-including-3-children-shot-chicago-intersection/C5NLVK6M6NDBZFCWGN46OJTVNA/\", \"https://abc7chicago.com/chicago-mass-shooting-back-of-the-yards-52nd-street-damen-avenue/14661412/\", \"https://www.fox32chicago.com/news/chicago-mass-shooting-south-side-child-killed\", \"https://wgntv.com/news/chicagocrime/2-kids-shot-during-mass-shooting-in-chicagos-back-of-the-yard-remain-in-icu/\", \"https://abc7chicago.com/chicago-violence-deadly-back-of-the-yards-mass-shooting-surveillance-video/14683232/\", \n\"https://chicago.suntimes.com/news/2024/04/19/chicago-back-of-the-yards-mass-shooting-aaron-isaiah-monica-mendez\", \"https://www.chicagotribune.com/2024/09/04/new-city-man-charged-in-shooting-that-killed-9-year-old-ariana-molina/\", \"https://www.cbsnews.com/chicago/news/man-charged-in-chicago-mass-shooting-that-left-girl-dead-10-other-people-injured/\")",
         "2024-04-13",
         "2024"
        ],
        [
         "48",
         "2880957",
         "April 13, 2024",
         "4:00 AM",
         "1713240450",
         "Mississippi",
         "Coldwater",
         "W Central St",
         null,
         "34.6879",
         "-89.9825",
         "1",
         "3",
         "1",
         "3",
         "0",
         "0",
         "0",
         "Shot - Wounded/Injured, Shot - Dead (murder, accidental, or suicide), Mass Shooting (4+ victims injured or killed excluding the subject/suspect/perpetrator, one location)",
         "https://www.fox13memphis.com/news/watch-man-dead-and-3-others-injured-after-a-shooting-in-north-mississippi/video_a4ae2675-eaac-5673-aacf-40e6336ac561.html",
         "2024-04-13",
         "2024"
        ],
        [
         "49",
         "2879659",
         "April 13, 2024",
         "10:00 PM",
         "1743136414",
         "Arkansas",
         "Wynne",
         "441 Martin Luther King S",
         "Car Wash",
         "35.2275",
         "-90.7943",
         "1",
         "9",
         "1",
         "9",
         "0",
         "0",
         "4",
         "Shot - Wounded/Injured, Shot - Dead (murder, accidental, or suicide), Drive-by (car to street, car to car), Mass Shooting (4+ victims injured or killed excluding the subject/suspect/perpetrator, one location), House party / Block Party / Park Party / Private Parties at event spaces / Weddings and Funerals, ETC, Possession of gun by felon or prohibited person",
         "c(\"http://www.imbodenlive.com/2024/04/14/one-dead-at-least-9-injured-in-wynne-block-party-shooting/\", \"https://www.whiterivernow.com/2024/04/17/arkansas-state-police-arrest-four-suspects-in-wynne-block-party-shooting-that-left-one-dead-9-injured/\", \"https://www.kjnbtv.com/homepage/wynne-block-party-shooting-leaves-community-in-grief-as-witness-accounts-unveil-tragic-night/article_8acc6170-fcda-11ee-97c8-77ea320fcd38.html\", \"https://thewynneprogress.com/pre-trial-hearing-set-for-four-men-charged-in-wynne-prom-night-shooting/\", \n\"https://thewynneprogress.com/four-suspects-in-wynne-prom-night-shooting-to-face-separate-trials-in-early-2025/\", \"https://www.whiterivernow.com/2025/01/29/teen-pleads-guilty-in-fatal-wynne-block-party-shooting/\", \"https://thewynneprogress.com/pre-trial-hearing-for-suspects-in-wynne-prom-night-shooting-set-for-march-25/\")",
         "2024-04-13",
         "2024"
        ]
       ],
       "shape": {
        "columns": 21,
        "rows": 5468
       }
      },
      "text/html": [
       "<div>\n",
       "<style scoped>\n",
       "    .dataframe tbody tr th:only-of-type {\n",
       "        vertical-align: middle;\n",
       "    }\n",
       "\n",
       "    .dataframe tbody tr th {\n",
       "        vertical-align: top;\n",
       "    }\n",
       "\n",
       "    .dataframe thead th {\n",
       "        text-align: right;\n",
       "    }\n",
       "</style>\n",
       "<table border=\"1\" class=\"dataframe\">\n",
       "  <thead>\n",
       "    <tr style=\"text-align: right;\">\n",
       "      <th></th>\n",
       "      <th>incident_id</th>\n",
       "      <th>incident_date</th>\n",
       "      <th>incident_time</th>\n",
       "      <th>updated_date</th>\n",
       "      <th>state</th>\n",
       "      <th>city_or_county</th>\n",
       "      <th>address</th>\n",
       "      <th>business_location_name</th>\n",
       "      <th>latitude</th>\n",
       "      <th>longitude</th>\n",
       "      <th>...</th>\n",
       "      <th>injured</th>\n",
       "      <th>victims_killed</th>\n",
       "      <th>victims_injured</th>\n",
       "      <th>suspects_killed</th>\n",
       "      <th>suspects_injured</th>\n",
       "      <th>suspects_arrested</th>\n",
       "      <th>incident_characteristics</th>\n",
       "      <th>sources</th>\n",
       "      <th>date_fixed</th>\n",
       "      <th>year</th>\n",
       "    </tr>\n",
       "  </thead>\n",
       "  <tbody>\n",
       "    <tr>\n",
       "      <th>0</th>\n",
       "      <td>809048</td>\n",
       "      <td>April 1, 2017</td>\n",
       "      <td>NaN</td>\n",
       "      <td>1491348530</td>\n",
       "      <td>Florida</td>\n",
       "      <td>Tampa</td>\n",
       "      <td>219 S Howard Ave</td>\n",
       "      <td>Palace Lounge</td>\n",
       "      <td>27.9431</td>\n",
       "      <td>-82.4831</td>\n",
       "      <td>...</td>\n",
       "      <td>4</td>\n",
       "      <td>1</td>\n",
       "      <td>4</td>\n",
       "      <td>0</td>\n",
       "      <td>0</td>\n",
       "      <td>1</td>\n",
       "      <td>Shot - Wounded/Injured, Shot - Dead (murder, a...</td>\n",
       "      <td>c(\"http://wfla.com/2017/04/01/tampa-police-inv...</td>\n",
       "      <td>2017-04-01</td>\n",
       "      <td>2017</td>\n",
       "    </tr>\n",
       "    <tr>\n",
       "      <th>1</th>\n",
       "      <td>809499</td>\n",
       "      <td>April 1, 2017</td>\n",
       "      <td>5:25 AM</td>\n",
       "      <td>1680156402</td>\n",
       "      <td>Oklahoma</td>\n",
       "      <td>Oklahoma City</td>\n",
       "      <td>1212 N Woodward Ave</td>\n",
       "      <td>NaN</td>\n",
       "      <td>35.4810</td>\n",
       "      <td>-97.5754</td>\n",
       "      <td>...</td>\n",
       "      <td>3</td>\n",
       "      <td>2</td>\n",
       "      <td>3</td>\n",
       "      <td>0</td>\n",
       "      <td>0</td>\n",
       "      <td>1</td>\n",
       "      <td>Shot - Wounded/Injured, Shot - Dead (murder, a...</td>\n",
       "      <td>c(\"http://www.news9.com/story/35055747/okc-pol...</td>\n",
       "      <td>2017-04-01</td>\n",
       "      <td>2017</td>\n",
       "    </tr>\n",
       "    <tr>\n",
       "      <th>2</th>\n",
       "      <td>809815</td>\n",
       "      <td>April 1, 2017</td>\n",
       "      <td>NaN</td>\n",
       "      <td>1492995601</td>\n",
       "      <td>California</td>\n",
       "      <td>Pittsburg</td>\n",
       "      <td>100 block of Madoline Street</td>\n",
       "      <td>NaN</td>\n",
       "      <td>38.0053</td>\n",
       "      <td>-121.8950</td>\n",
       "      <td>...</td>\n",
       "      <td>5</td>\n",
       "      <td>0</td>\n",
       "      <td>5</td>\n",
       "      <td>0</td>\n",
       "      <td>0</td>\n",
       "      <td>1</td>\n",
       "      <td>Shot - Wounded/Injured, Mass Shooting (4+ vict...</td>\n",
       "      <td>http://www.nbcbayarea.com/news/local/Shooting-...</td>\n",
       "      <td>2017-04-01</td>\n",
       "      <td>2017</td>\n",
       "    </tr>\n",
       "    <tr>\n",
       "      <th>3</th>\n",
       "      <td>1082835</td>\n",
       "      <td>April 1, 2018</td>\n",
       "      <td>2:15 AM</td>\n",
       "      <td>1522693801</td>\n",
       "      <td>Michigan</td>\n",
       "      <td>Saginaw</td>\n",
       "      <td>600 block of Yale St</td>\n",
       "      <td>NaN</td>\n",
       "      <td>43.4192</td>\n",
       "      <td>-83.9819</td>\n",
       "      <td>...</td>\n",
       "      <td>5</td>\n",
       "      <td>0</td>\n",
       "      <td>5</td>\n",
       "      <td>0</td>\n",
       "      <td>0</td>\n",
       "      <td>0</td>\n",
       "      <td>Shot - Wounded/Injured, Mass Shooting (4+ vict...</td>\n",
       "      <td>http://www.mlive.com/news/saginaw/index.ssf/20...</td>\n",
       "      <td>2018-04-01</td>\n",
       "      <td>2018</td>\n",
       "    </tr>\n",
       "    <tr>\n",
       "      <th>4</th>\n",
       "      <td>1083011</td>\n",
       "      <td>April 1, 2018</td>\n",
       "      <td>NaN</td>\n",
       "      <td>1646889853</td>\n",
       "      <td>Alabama</td>\n",
       "      <td>Mobile</td>\n",
       "      <td>3556 Halls Mill Rd</td>\n",
       "      <td>Grand Hall</td>\n",
       "      <td>30.6387</td>\n",
       "      <td>-88.1228</td>\n",
       "      <td>...</td>\n",
       "      <td>4</td>\n",
       "      <td>1</td>\n",
       "      <td>4</td>\n",
       "      <td>0</td>\n",
       "      <td>0</td>\n",
       "      <td>3</td>\n",
       "      <td>Shot - Wounded/Injured, Shot - Dead (murder, a...</td>\n",
       "      <td>c(\"http://www.al.com/news/mobile/index.ssf/201...</td>\n",
       "      <td>2018-04-01</td>\n",
       "      <td>2018</td>\n",
       "    </tr>\n",
       "    <tr>\n",
       "      <th>...</th>\n",
       "      <td>...</td>\n",
       "      <td>...</td>\n",
       "      <td>...</td>\n",
       "      <td>...</td>\n",
       "      <td>...</td>\n",
       "      <td>...</td>\n",
       "      <td>...</td>\n",
       "      <td>...</td>\n",
       "      <td>...</td>\n",
       "      <td>...</td>\n",
       "      <td>...</td>\n",
       "      <td>...</td>\n",
       "      <td>...</td>\n",
       "      <td>...</td>\n",
       "      <td>...</td>\n",
       "      <td>...</td>\n",
       "      <td>...</td>\n",
       "      <td>...</td>\n",
       "      <td>...</td>\n",
       "      <td>...</td>\n",
       "      <td>...</td>\n",
       "    </tr>\n",
       "    <tr>\n",
       "      <th>5463</th>\n",
       "      <td>2411007</td>\n",
       "      <td>September 9, 2022</td>\n",
       "      <td>4:50 PM</td>\n",
       "      <td>1722738993</td>\n",
       "      <td>New York</td>\n",
       "      <td>Bronx</td>\n",
       "      <td>810 Astor Ave</td>\n",
       "      <td>Pelham Parkway Houses</td>\n",
       "      <td>40.8592</td>\n",
       "      <td>-73.8634</td>\n",
       "      <td>...</td>\n",
       "      <td>4</td>\n",
       "      <td>0</td>\n",
       "      <td>4</td>\n",
       "      <td>0</td>\n",
       "      <td>0</td>\n",
       "      <td>1</td>\n",
       "      <td>Shot - Wounded/Injured, Mass Shooting (4+ vict...</td>\n",
       "      <td>c(\"https://twitter.com/NYC_Alerts911/status/15...</td>\n",
       "      <td>2022-09-09</td>\n",
       "      <td>2022</td>\n",
       "    </tr>\n",
       "    <tr>\n",
       "      <th>5464</th>\n",
       "      <td>2411901</td>\n",
       "      <td>September 9, 2022</td>\n",
       "      <td>11:50 PM</td>\n",
       "      <td>1689272621</td>\n",
       "      <td>Minnesota</td>\n",
       "      <td>Minneapolis</td>\n",
       "      <td>328 W Broadway Ave</td>\n",
       "      <td>4th Street Saloon</td>\n",
       "      <td>44.9994</td>\n",
       "      <td>-93.2848</td>\n",
       "      <td>...</td>\n",
       "      <td>3</td>\n",
       "      <td>1</td>\n",
       "      <td>3</td>\n",
       "      <td>0</td>\n",
       "      <td>0</td>\n",
       "      <td>0</td>\n",
       "      <td>Shot - Wounded/Injured, Shot - Dead (murder, a...</td>\n",
       "      <td>c(\"https://www.fox9.com/news/2-pregnant-women-...</td>\n",
       "      <td>2022-09-09</td>\n",
       "      <td>2022</td>\n",
       "    </tr>\n",
       "    <tr>\n",
       "      <th>5465</th>\n",
       "      <td>2410446</td>\n",
       "      <td>September 9, 2022</td>\n",
       "      <td>9:00 AM</td>\n",
       "      <td>1715920831</td>\n",
       "      <td>Maryland</td>\n",
       "      <td>Elk Mills</td>\n",
       "      <td>47 Hebron Ct</td>\n",
       "      <td>NaN</td>\n",
       "      <td>39.6611</td>\n",
       "      <td>-75.8365</td>\n",
       "      <td>...</td>\n",
       "      <td>0</td>\n",
       "      <td>4</td>\n",
       "      <td>0</td>\n",
       "      <td>1</td>\n",
       "      <td>0</td>\n",
       "      <td>0</td>\n",
       "      <td>Shot - Dead (murder, accidental, or suicide), ...</td>\n",
       "      <td>c(\"https://www.cbsnews.com/baltimore/news/five...</td>\n",
       "      <td>2022-09-09</td>\n",
       "      <td>2022</td>\n",
       "    </tr>\n",
       "    <tr>\n",
       "      <th>5466</th>\n",
       "      <td>2703975</td>\n",
       "      <td>September 9, 2023</td>\n",
       "      <td>11:30 PM</td>\n",
       "      <td>1694472936</td>\n",
       "      <td>South Carolina</td>\n",
       "      <td>Rock Hill</td>\n",
       "      <td>800 block of Brunswick Dr</td>\n",
       "      <td>NaN</td>\n",
       "      <td>34.8921</td>\n",
       "      <td>-81.0411</td>\n",
       "      <td>...</td>\n",
       "      <td>4</td>\n",
       "      <td>0</td>\n",
       "      <td>4</td>\n",
       "      <td>0</td>\n",
       "      <td>0</td>\n",
       "      <td>2</td>\n",
       "      <td>Shot - Wounded/Injured, Mass Shooting (4+ vict...</td>\n",
       "      <td>https://www.heraldonline.com/news/local/crime/...</td>\n",
       "      <td>2023-09-09</td>\n",
       "      <td>2023</td>\n",
       "    </tr>\n",
       "    <tr>\n",
       "      <th>5467</th>\n",
       "      <td>2702902</td>\n",
       "      <td>September 9, 2023</td>\n",
       "      <td>6:20 PM</td>\n",
       "      <td>1694313001</td>\n",
       "      <td>Illinois</td>\n",
       "      <td>Chicago</td>\n",
       "      <td>6500 block of S King Dr</td>\n",
       "      <td>NaN</td>\n",
       "      <td>41.7764</td>\n",
       "      <td>-87.6159</td>\n",
       "      <td>...</td>\n",
       "      <td>4</td>\n",
       "      <td>0</td>\n",
       "      <td>4</td>\n",
       "      <td>0</td>\n",
       "      <td>0</td>\n",
       "      <td>0</td>\n",
       "      <td>Shot - Wounded/Injured, Mass Shooting (4+ vict...</td>\n",
       "      <td>https://home.chicagopolice.org/media_incident/...</td>\n",
       "      <td>2023-09-09</td>\n",
       "      <td>2023</td>\n",
       "    </tr>\n",
       "  </tbody>\n",
       "</table>\n",
       "<p>5468 rows × 21 columns</p>\n",
       "</div>"
      ],
      "text/plain": [
       "Index(['incident_id', 'incident_date', 'incident_time', 'updated_date',\n",
       "       'State', 'city_or_county', 'address', 'business_location_name',\n",
       "       'latitude', 'longitude', 'killed', 'injured', 'victims_killed',\n",
       "       'victims_injured', 'suspects_killed', 'suspects_injured',\n",
       "       'suspects_arrested', 'incident_characteristics', 'sources',\n",
       "       'date_fixed', 'year'],\n",
       "      dtype='object')"
      ]
     },
     "execution_count": 263,
     "execution_count": 78,
     "execution_count": 36,
     "execution_count": 19,
     "metadata": {},
     "output_type": "execute_result"
    }
   ],
   "source": [
    "df = pd.read_csv('gva_mass_shootings-2025-10-21.csv')\n",
    "import pandas as pd\n",
    "import requests\n",
    "\n",
    "import geopandas as gpd\n",
    "import matplotlib.pyplot as plt\n",
    "import scipy.stats as stats\n",
    "import seaborn as sns\n",
    "from scipy.stats import stats\n",
    "from scipy.stats import pearsonr\n",
    "from scipy import stats\n",
    "\n",
    "df = pd.read_csv(r\"C:\\Users\\claud\\OneDrive\\Escritorio\\Ironhack\\Labs\\week 3\\Usa-Shootings-and-State-Parties\\gva_mass_shootings-2025-10-21.csv\")\n",
    "df.rename(columns={\"state\":\"State\"},inplace=True)\n",
    "df.columns"
    "df = pd.read_csv(r\"gva_mass_shootings-2025-10-21.csv\")\n",
    "df"
   ]
  },
  {
   "cell_type": "code",
   "execution_count": 264,
   "execution_count": 79,
   "execution_count": 37,
   "id": "131d1eb2",
   "metadata": {},
   "outputs": [
    {
     "name": "stderr",
     "output_type": "stream",
     "text": [
      "/var/folders/wc/048rx86x7bqbzmjn7nr46j_80000gn/T/ipykernel_15466/1849478275.py:7: FutureWarning: A value is trying to be set on a copy of a DataFrame or Series through chained assignment using an inplace method.\n",
      "The behavior will change in pandas 3.0. This inplace method will never work because the intermediate object on which we are setting values always behaves as a copy.\n",
      "\n",
      "For example, when doing 'df[col].method(value, inplace=True)', try using 'df.method({col: value}, inplace=True)' or df[col] = df[col].method(value) instead, to perform the operation inplace on the original object.\n",
      "\n",
      "\n",
      "  df2['state'].replace({\"Dist. of Columbia\": \"District of Columbia\"}, inplace=True)\n",
      "/var/folders/wc/048rx86x7bqbzmjn7nr46j_80000gn/T/ipykernel_15466/1849478275.py:24: FutureWarning: A value is trying to be set on a copy of a DataFrame or Series through chained assignment using an inplace method.\n",
      "The behavior will change in pandas 3.0. This inplace method will never work because the intermediate object on which we are setting values always behaves as a copy.\n",
      "\n",
      "For example, when doing 'df[col].method(value, inplace=True)', try using 'df.method({col: value}, inplace=True)' or df[col] = df[col].method(value) instead, to perform the operation inplace on the original object.\n",
      "\n",
      "\n",
      "  df_merged[\"gini_coefficient\"].fillna(value=mean_gini, inplace=True)\n"
   "execution_count": 43,
   "id": "cb036cc8",
   "metadata": {},
   "outputs": [
    {
     "name": "stdout",
     "output_type": "stream",
     "text": [
      "Fetching 2014...\n",
      "Fetching 2015...\n",
      "Fetching 2016...\n",
      "Fetching 2017...\n",
      "Fetching 2018...\n",
      "Fetching 2019...\n",
      "Fetching 2020...\n",
      "⚠️ 2020: HTTP 404 – skipping year\n",
      "Fetching 2021...\n",
      "Fetching 2022...\n",
      "Fetching 2023...\n",
      "Fetching 2024...\n"
     ]
    },
    {
     "data": {
      "application/vnd.microsoft.datawrangler.viewer.v0+json": {
       "columns": [
        {
         "name": "index",
         "rawType": "int64",
         "type": "integer"
        },
        {
         "name": "incident_id",
         "rawType": "int64",
         "type": "integer"
        },
        {
         "name": "incident_date",
         "rawType": "object",
         "type": "string"
        },
        {
         "name": "incident_time",
         "rawType": "object",
         "type": "unknown"
        },
        {
         "name": "updated_date",
         "rawType": "int64",
         "type": "integer"
        },
        {
         "name": "state",
         "rawType": "object",
         "type": "string"
        },
        {
         "name": "city_or_county",
         "rawType": "object",
         "type": "string"
        },
        {
         "name": "address",
         "rawType": "object",
         "type": "unknown"
        },
        {
         "name": "business_location_name",
         "rawType": "object",
         "type": "unknown"
        },
        {
         "name": "latitude",
         "rawType": "float64",
         "type": "float"
        },
        {
         "name": "longitude",
         "rawType": "float64",
         "type": "float"
        },
        {
         "name": "killed",
         "rawType": "int64",
         "type": "integer"
        },
        {
         "name": "injured",
         "rawType": "int64",
         "type": "integer"
        },
        {
         "name": "victims_killed",
         "rawType": "int64",
         "type": "integer"
        },
        {
         "name": "victims_injured",
         "rawType": "int64",
         "type": "integer"
        },
        {
         "name": "suspects_killed",
         "rawType": "int64",
         "type": "integer"
        },
        {
         "name": "suspects_injured",
         "rawType": "int64",
         "type": "integer"
        },
        {
         "name": "suspects_arrested",
         "rawType": "int64",
         "type": "integer"
        },
        {
         "name": "incident_characteristics",
         "rawType": "object",
         "type": "string"
        },
        {
         "name": "sources",
         "rawType": "object",
         "type": "string"
        },
        {
         "name": "date_fixed",
         "rawType": "object",
         "type": "string"
        },
        {
         "name": "year",
         "rawType": "int64",
         "type": "integer"
        },
        {
         "name": "gini_coefficient",
         "rawType": "float64",
         "type": "float"
        },
        {
         "name": "poverty_rate_2025",
         "rawType": "float64",
         "type": "float"
        }
       ],
       "ref": "99e5e38c-b0ad-4b73-abda-f6b3fcb77168",
       "rows": [
        [
         "0",
         "809048",
         "April 1, 2017",
         null,
         "1491348530",
         "Florida",
         "Tampa",
         "219 S Howard Ave",
         "Palace Lounge",
         "27.9431",
         "-82.4831",
         "1",
         "4",
         "1",
         "4",
         "0",
         "0",
         "1",
         "Shot - Wounded/Injured, Shot - Dead (murder, accidental, or suicide), Drive-by (car to street, car to car), Mass Shooting (4+ victims injured or killed excluding the subject/suspect/perpetrator, one location)",
         "c(\"http://wfla.com/2017/04/01/tampa-police-investigate-shooting-on-howard-avenue/\", \"http://www.abcactionnews.com/news/local-news/multiple-shooting-victims-at-hookah-lounge-on-south-howard-avenue-in-tampa\", \"http://www.tbreporter.com/crime/charged-murder-tampa-drive-by-shooting/\")",
         "2017-04-01",
         "2017",
         "0.4859",
         "12.3"
        ],
        [
         "1",
         "809499",
         "April 1, 2017",
         "5:25 AM",
         "1680156402",
         "Oklahoma",
         "Oklahoma City",
         "1212 N Woodward Ave",
         null,
         "35.481",
         "-97.5754",
         "2",
         "3",
         "2",
         "3",
         "0",
         "0",
         "1",
         "Shot - Wounded/Injured, Shot - Dead (murder, accidental, or suicide), Mass Shooting (4+ victims injured or killed excluding the subject/suspect/perpetrator, one location)",
         "c(\"http://www.news9.com/story/35055747/okc-police-id-victims-suspect-in-deadly-weekend-shooting\", \"http://newsok.com/article/5544163?utm_source=NewsOK.com&utm_medium=Social&utm_campaign=ShareBar-Twitter\")",
         "2017-04-01",
         "2017",
         "0.4658",
         "15.9"
        ],
        [
         "2",
         "809815",
         "April 1, 2017",
         null,
         "1492995601",
         "California",
         "Pittsburg",
         "100 block of Madoline Street",
         null,
         "38.0053",
         "-121.895",
         "0",
         "5",
         "0",
         "5",
         "0",
         "0",
         "1",
         "Shot - Wounded/Injured, Mass Shooting (4+ victims injured or killed excluding the subject/suspect/perpetrator, one location), House party / Block Party / Park Party / Private Parties at event spaces / Weddings and Funerals, ETC",
         "http://www.nbcbayarea.com/news/local/Shooting-Birthday-Party-Pittsburg-Five-Men-Injured-417896103.html",
         "2017-04-01",
         "2017",
         "0.4866",
         "12.0"
        ],
        [
         "3",
         "1082835",
         "April 1, 2018",
         "2:15 AM",
         "1522693801",
         "Michigan",
         "Saginaw",
         "600 block of Yale St",
         null,
         "43.4192",
         "-83.9819",
         "0",
         "5",
         "0",
         "5",
         "0",
         "0",
         "0",
         "Shot - Wounded/Injured, Mass Shooting (4+ victims injured or killed excluding the subject/suspect/perpetrator, one location), House party / Block Party / Park Party / Private Parties at event spaces / Weddings and Funerals, ETC",
         "http://www.mlive.com/news/saginaw/index.ssf/2018/04/4_women_1_male_shot_at_house_p.html",
         "2018-04-01",
         "2018",
         "0.4679",
         "13.5"
        ],
        [
         "4",
         "1083011",
         "April 1, 2018",
         null,
         "1646889853",
         "Alabama",
         "Mobile",
         "3556 Halls Mill Rd",
         "Grand Hall",
         "30.6387",
         "-88.1228",
         "1",
         "4",
         "1",
         "4",
         "0",
         "0",
         "3",
         "Shot - Wounded/Injured, Shot - Dead (murder, accidental, or suicide), Mass Shooting (4+ victims injured or killed excluding the subject/suspect/perpetrator, one location), Bar/club incident - in or around establishment, House party / Block Party / Park Party / Private Parties at event spaces / Weddings and Funerals, ETC",
         "c(\"http://www.al.com/news/mobile/index.ssf/2018/04/five_shot_during_incident_sund.html\", \"http://www.wkrg.com/news/mobile-county/breaking-late-night-shooting-in-mobile/1092584706\", \"http://www.al.com/news/index.ssf/2018/04/three_arrested_in_mobile_teen.html\", \"http://www.wkrg.com/news/mobile-county/mobile-teen-shot-at-grand-hall-concert-has-died/1115682757\", \"http://www.wtvm.com/story/38089772/mobiles-violent-month-started-with-deadly-grand-hall-shooting\", \"http://www.wkrg.com/news/local-news/3-arrested-after-grand-hall-shooting/1102838677\", \n\"http://www.fox10tv.com/story/37863164/witnesses-describe-shooting-at-party-7-people-injured\", \"http://www.wtvm.com/story/38089772/mobiles-violent-month-started-with-deadly-grand-hall-shooting\", \"https://www.al.com/news/mobile/index.ssf/2018/05/man_charged_with_shooting_deat.html#incart_river_index\", \"https://www.fox10tv.com/news/grand-hall-shooting-connected-to-mobile-homicide/article_23b02403-cdce-56e8-a392-afa50ec0ea12.html\", \"https://www.wkrg.com/mobile-county/man-found-guilty-of-reckless-manslaughte\"\n)",
         "2018-04-01",
         "2018",
         "0.4859",
         "15.6"
        ],
        [
         "5",
         "2269259",
         "April 1, 2022",
         "11:30 PM",
         "1711658965",
         "South Carolina",
         "Walterboro",
         "1900 block of Logan Farm Rd",
         null,
         "32.9941",
         "-80.728",
         "0",
         "4",
         "0",
         "4",
         "0",
         "0",
         "4",
         "Shot - Wounded/Injured, Mass Shooting (4+ victims injured or killed excluding the subject/suspect/perpetrator, one location), Shootout (where VENN diagram of shooters and victims overlap)",
         "c(\"https://www.wsav.com/news/local-news/5-injured-in-colleton-county-shooting-friday-night/\", \"https://fox28media.com/news/local/chaotic-scene-sled-investigating-after-5-people-shot-in-walterboro-friday-night-wciv\", \"https://www.live5news.com/2022/04/12/colleton-county-father-3-sons-arrested-shooting-incident/\")",
         "2022-04-01",
         "2022",
         "0.4757",
         "13.9"
        ],
        [
         "6",
         "2562492",
         "April 1, 2023",
         "8:40 PM",
         "1755037653",
         "Maryland",
         "Baltimore",
         "3205 Woodring Ave",
         null,
         "39.3624",
         "-76.5449",
         "3",
         "1",
         "3",
         "1",
         "0",
         "0",
         "1",
         "Shot - Wounded/Injured, Shot - Dead (murder, accidental, or suicide), Mass Shooting (4+ victims injured or killed excluding the subject/suspect/perpetrator, one location)",
         "c(\"https://www.baltimoresun.com/news/crime/bs-md-ci-cr-north-harford-road-quadruple-shooting-baltimore-20230402-p5kjs2dtzfgwlnr3lnt6os3e3q-story.html\", \"https://twitter.com/BaltMetroNews/status/1642331994569728000\", \"https://www.facebook.com/BaltimoreCityPolice/posts/pfbid0221zT5cPsMmL8SD3Eoeogq15TEfRnkY1AGMbKBgFLhaFDJwdrdfRXZazqkTg8N3zvl\", \"https://www.baltimorepolice.org/news/northeast-district-murder-arrest?fbclid=IwAR31e55nJsCZQkjMIlPd9jKSXdQWPi1-xGmIAZOuv0769UuZ320K4IhZ3dA\", \"https://www.wbal.com/article/609165/124/charging-docs-fatal-quadruple-shooting-started-with-argument-over-parking-loud-music\", \n\"https://baltimorewitness.org/trial-begins-in-neighborhood-parking-dispute-murder-mass-shooting/\")",
         "2023-04-01",
         "2023",
         "0.4561",
         "9.5"
        ],
        [
         "7",
         "2872358",
         "April 1, 2024",
         "9:00 PM",
         "1725489248",
         "Louisiana",
         "New Iberia",
         "600 block of Breaux Alley",
         null,
         "30.0057",
         "-91.8327",
         "0",
         "5",
         "0",
         "4",
         "0",
         "1",
         "2",
         "Shot - Wounded/Injured, Mass Shooting (4+ victims injured or killed excluding the subject/suspect/perpetrator, one location), Shootout (where VENN diagram of shooters and victims overlap), House party / Block Party / Park Party / Private Parties at event spaces / Weddings and Funerals, ETC, Drug Sales or Trafficking, Armed robbery with injury/death and/or evidence of DGU found, Possession of gun by felon or prohibited person, Stolen/Illegally owned gun{s} recovered during arrest/warrant, \nAssault weapon (AR-15, AK-47, and ALL variants defined by law enforcement)",
         "c(\"https://www.kadn.com/news/crime/new-iberia-residents-afraid-after-shootout-over-gambling-and-drugs/article_7c428978-f3a1-11ee-a168-a74065ea48a4.html\", \"https://www.theadvocate.com/acadiana/news/crime_police/two-men-arrested-in-connection-to-new-iberia-shootings-one-charged-in-may-homicide/article_42e44f0e-6a2f-11ef-a6ab-9b383b6c710a.html\")",
         "2024-04-01",
         "2024",
         "0.4815980582524272",
         "18.9"
        ],
        [
         "8",
         "2868907",
         "April 1, 2024",
         "9:00 PM",
         "1712083695",
         "Michigan",
         "Eastpointe",
         "19000 block of Dijon Ave",
         null,
         "42.4687",
         "-82.9234",
         "0",
         "4",
         "0",
         "4",
         "0",
         "0",
         "0",
         "Shot - Wounded/Injured, Drive-by (car to street, car to car), Mass Shooting (4+ victims injured or killed excluding the subject/suspect/perpetrator, one location)",
         "c(\"https://patch.com/michigan/stclairshores/multiple-shot-injured-metro-detroit-shooting-police\", \"https://www.fox2detroit.com/news/pregnant-woman-among-3-shot-in-eastpointe\")",
         "2024-04-01",
         "2024",
         "0.4815980582524272",
         "13.5"
        ],
        [
         "9",
         "537825",
         "April 10, 2016",
         null,
         "1460356200",
         "Wisconsin",
         "Milwaukee",
         "76th and Sheridan",
         null,
         "43.1183",
         "-88.0061",
         "1",
         "3",
         "1",
         "3",
         "0",
         "0",
         "0",
         "Shot - Wounded/Injured, Shot - Dead (murder, accidental, or suicide), Mass Shooting (4+ victims injured or killed excluding the subject/suspect/perpetrator, one location)",
         "http://www.wqow.com/story/31688479/police-4-teens-shot-1-fatally-in-milwaukee",
         "2016-04-10",
         "2016",
         "0.4498",
         "10.7"
        ],
        [
         "10",
         "537820",
         "April 10, 2016",
         null,
         "1460355864",
         "California",
         "Los Angeles",
         "84th Street and Towne Avenue",
         null,
         "33.9628",
         "-118.267",
         "0",
         "4",
         "0",
         "4",
         "0",
         "0",
         "0",
         "Shot - Wounded/Injured, Mass Shooting (4+ victims injured or killed excluding the subject/suspect/perpetrator, one location)",
         "http://abc7.com/news/4-shot-taken-to-hospital-in-south-los-angeles/1285147/",
         "2016-04-10",
         "2016",
         "0.4899",
         "12.0"
        ],
        [
         "11",
         "1656265",
         "April 10, 2020",
         "12:47 AM",
         "1588122001",
         "Michigan",
         "Muskegon",
         "800 block of Oak St",
         null,
         "43.2378",
         "-86.2241",
         "0",
         "4",
         "0",
         "4",
         "0",
         "0",
         "1",
         "Shot - Wounded/Injured, Mass Shooting (4+ victims injured or killed excluding the subject/suspect/perpetrator, one location), Domestic Violence",
         "c(\"https://www.mlive.com/news/muskegon/2020/04/four-shot-two-critically-in-muskegon-following-likely-domestic-dispute.html\", \"https://www.mlive.com/news/muskegon/2020/04/suspect-in-four-muskegon-shootings-arrested-in-chicago.html\")",
         "2020-04-10",
         "2020",
         "0.4815980582524272",
         "13.5"
        ],
        [
         "12",
         "1973692",
         "April 10, 2021",
         "5:15 AM",
         "1703012529",
         "Missouri",
         "Koshkonong",
         "US-63 and MO-F",
         "Snappy Mart",
         "36.5945",
         "-91.6435",
         "1",
         "3",
         "1",
         "3",
         "0",
         "0",
         "1",
         "Shot - Wounded/Injured, Shot - Dead (murder, accidental, or suicide), Mass Shooting (4+ victims injured or killed excluding the subject/suspect/perpetrator, one location)",
         "c(\"https://www.ky3.com/2021/04/10/one-killed-four-injured-in-shooting-at-koshkonong-mo-convenience-store/\", \"https://fox2now.com/news/missouri/1-dead-3-injured-in-shooting-at-southern-missouri-convenience-store/\", \"https://fox2now.com/news/missouri/man-charged-with-murder-in-missouri-convenience-store-attack/\", \"https://fox2now.com/news/missouri/suspect-arraigned-in-shooting-at-missouri-convenience-store/\")",
         "2021-04-10",
         "2021",
         "0.4706",
         "12.0"
        ],
        [
         "13",
         "1974088",
         "April 10, 2021",
         "5:20 PM",
         "1621133670",
         "Tennessee",
         "Memphis",
         "385 Western Park Dr",
         "Wells Auto Center",
         "35.0309",
         "-90.0768",
         "1",
         "3",
         "1",
         "3",
         "0",
         "0",
         "1",
         "Shot - Wounded/Injured, Shot - Dead (murder, accidental, or suicide), Accidental Shooting, Accidental Shooting - Injury, Stray bullet, Child Involved Incident, Child injured (not child shooter), Mass Shooting (4+ victims injured or killed excluding the subject/suspect/perpetrator, one location), Possession of gun by felon or prohibited person",
         "c(\"https://wreg.com/news/mpd-4-shot-1-fatally-in-southwest-memphis-shooting/\", \"https://www.fox13memphis.com/news/local/4-shot-1-dead-after-shooting-near-memphis-food-market-police-say/M5VA3RCKBVEDJAMJ6D7W4GA5FE/\", \"https://wreg.com/news/mpd-identifies-suspect-possibly-involved-in-frayser-barricade-situation/\", \"https://www.wmcactionnews5.com/2021/05/15/barricaded-suspect-linked-westwood-homicide-shootings/\")",
         "2021-04-10",
         "2021",
         "0.4821",
         "14.0"
        ],
        [
         "14",
         "1973809",
         "April 10, 2021",
         "12:15 AM",
         "1625017263",
         "Michigan",
         "Allendale",
         "4926 Becker Dr",
         "Enclave Apartments",
         "42.9739",
         "-85.9077",
         "0",
         "4",
         "0",
         "4",
         "0",
         "0",
         "1",
         "Shot - Wounded/Injured, Mass Shooting (4+ victims injured or killed excluding the subject/suspect/perpetrator, one location), House party / Block Party / Park Party / Private Parties at event spaces / Weddings and Funerals, ETC",
         "c(\"https://www.mlive.com/news/grand-rapids/2021/04/four-shot-at-allendale-apartment-complex-police-search-for-suspect.html\", \"https://www.miheadlines.com/2021/04/10/four-shot-at-enclave-apts-in-allendale-one-person-critical/\", \"https://cw7michigan.com/news/local/4-people-shot-1-critically-injured-in-allendale-apartment-shooting\", \"https://www.wzzm13.com/article/news/local/four-shot-near-gvsu/69-250ecd40-3850-4d5f-ae49-5c07fd85b5ba?ref=exit-recirc\", \"https://www.wzzm13.com/article/news/local/four-shot-near-gvsu/69-250ecd40-3850-4d5f-ae49-5c07fd85b5ba\", \n\"https://www.mlive.com/news/grand-rapids/2021/06/man-arrested-for-allegedly-shooting-4-at-allendale-apartment-party.html\")",
         "2021-04-10",
         "2021",
         "0.4659",
         "13.5"
        ],
        [
         "15",
         "1975405",
         "April 10, 2021",
         "12:15 AM",
         "1618504226",
         "Connecticut",
         "Waterbury",
         "36 Gasparri Ln",
         null,
         "41.5444",
         "-73.0119",
         "0",
         "4",
         "0",
         "4",
         "0",
         "0",
         "1",
         "Shot - Wounded/Injured, Mass Shooting (4+ victims injured or killed excluding the subject/suspect/perpetrator, one location)",
         "c(\"https://www.rep-am.com/local/localnews/2021/04/12/four-people-shot-during-incident-in-waterbury-saturday-police-say/\", \"https://whdh.com/news/19-year-old-arrested-in-connecticut-shootings-that-injured-4/\", \"https://www.rep-am.com/local/localnews/2021/04/15/waterbury-shootings-followed-argument/\")",
         "2021-04-10",
         "2021",
         "0.4985",
         "10.3"
        ],
        [
         "16",
         "2275283",
         "April 10, 2022",
         "4:15 PM",
         "1649709001",
         "California",
         "Willowbrook",
         "Blakley Ave and E 122nd Pl",
         null,
         "33.9213",
         "-118.247",
         "2",
         "5",
         "2",
         "5",
         "0",
         "0",
         "0",
         "Shot - Wounded/Injured, Shot - Dead (murder, accidental, or suicide), Mass Shooting (4+ victims injured or killed excluding the subject/suspect/perpetrator, one location)",
         "c(\"https://www.cbsnews.com/losangeles/news/two-killed-four-wounded-following-shooting-in-willowbrook/\", \"https://ktla.com/news/local-news/2-killed-4-injured-in-willowbrook-shooting/\", \"https://twitter.com/DowntownLAScan/status/1513345863380189186\", \"https://mynewsla.com/crime/2022/04/11/authorities-id-2-killed-willowbrook-shooting-investigation-continuing/\")",
         "2022-04-10",
         "2022",
         "0.4953",
         "12.0"
        ],
        [
         "17",
         "2274803",
         "April 10, 2022",
         "1:59 AM",
         "1649709901",
         "Illinois",
         "Elgin",
         "958 Congdon Ave",
         "Blackhawk Apartments",
         "42.0573",
         "-88.255",
         "2",
         "4",
         "2",
         "4",
         "0",
         "0",
         "0",
         "Shot - Wounded/Injured, Shot - Dead (murder, accidental, or suicide), Mass Shooting (4+ victims injured or killed excluding the subject/suspect/perpetrator, one location), House party / Block Party / Park Party / Private Parties at event spaces / Weddings and Funerals, ETC",
         "c(\"https://abc7chicago.com/elgin-il-shooting-police-department/11733037/\", \"https://www.chicagotribune.com/news/breaking/ct-six-injured-elgin-shooting-20220410-f7ng6qsyyzgrzhplibp36np4ne-story.html\", \"https://abc7chicago.com/elgin-il-shooting-johnathan-king-police/11737209/\")",
         "2022-04-10",
         "2022",
         "0.4837",
         "11.6"
        ],
        [
         "18",
         "2274783",
         "April 10, 2022",
         "3:20 AM",
         "1649736093",
         "Indiana",
         "Indianapolis",
         "4270 W 38th St",
         "Team One Event Center",
         "39.825",
         "-86.2332",
         "1",
         "5",
         "1",
         "5",
         "0",
         "0",
         "0",
         "Shot - Wounded/Injured, Shot - Dead (murder, accidental, or suicide), Mass Shooting (4+ victims injured or killed excluding the subject/suspect/perpetrator, one location), Shootout (where VENN diagram of shooters and victims overlap), House party / Block Party / Park Party / Private Parties at event spaces / Weddings and Funerals, ETC",
         "c(\"https://www.wthr.com/article/news/crime/birthday-party-shooting-northwest-side-indianapolis-west-38th-street/531-48a5d061-d28f-4c66-bede-f0f45194ce3f\", \"https://www.indystar.com/story/news/crime/2022/04/10/indy-shooting-1-killed-5-injured-birthday-celebration/9532023002/\", \"https://www.wrtv.com/news/local-news/crime/5-people-shot-1-killed-after-fight-at-birthday-party-on-northwest-side-indianapolis-police\")",
         "2022-04-10",
         "2022",
         "0.4561",
         "12.3"
        ],
        [
         "19",
         "2275242",
         "April 10, 2022",
         "1:00 PM",
         "1649636026",
         "Louisiana",
         "Baton Rouge",
         "2700 block of Lorraine St",
         null,
         "30.4967",
         "-91.1635",
         "0",
         "4",
         "0",
         "4",
         "0",
         "0",
         "0",
         "Shot - Wounded/Injured, Mass Shooting (4+ victims injured or killed excluding the subject/suspect/perpetrator, one location)",
         "https://www.wafb.com/2022/04/10/emergency-officials-respond-triple-shooting-lorraine-street-sunday-afternoon/",
         "2022-04-10",
         "2022",
         "0.4915",
         "18.9"
        ],
        [
         "20",
         "2274790",
         "April 10, 2022",
         "1:27 AM",
         "1659302223",
         "Iowa",
         "Cedar Rapids",
         "415 3rd St SE",
         "Taboo Nightclub and Lounge",
         "41.9761",
         "-91.6646",
         "3",
         "9",
         "3",
         "9",
         "0",
         "0",
         "2",
         "Shot - Wounded/Injured, Shot - Dead (murder, accidental, or suicide), Mass Shooting (4+ victims injured or killed excluding the subject/suspect/perpetrator, one location), Bar/club incident - in or around establishment, Domestic Violence, Possession of gun by felon or prohibited person",
         "c(\"https://www.kcrg.com/2022/04/10/two-people-killed-shooting-downtown-cedar-rapids/\", \"https://cbs2iowa.com/news/local/crpd-two-male-suspects-targeted-one-person-in-deadly-mass-shooting-at-downtown-nightclub\", \"https://www.kcrg.com/2022/04/11/police-release-names-taboo-nightclub-shooting-victims/\", \"https://www.kwqc.com/2022/04/12/man-facing-murder-charge-cedar-rapids-mass-shooting/\", \"https://www.kcrg.com/2022/04/12/breaking-down-criminal-complaint-shooting-taboo-night-club/\", \"https://www.press-citizen.com/story/news/crime-and-courts/2022/04/13/cedar-rapids-iowa-shooting-taboo-nightclub-michael-valentine-nicole-owens/7307373001/\", \n\"https://www.kcrg.com/2022/04/18/second-arrest-made-taboo-night-club-shooting/\", \"https://cbs2iowa.com/news/local/suspect-in-nightclub-shooting-denied-bond-reduction-says-he-didnt-shoot-his-girlfriend\", \"https://cbs2iowa.com/news/local/third-person-dies-from-taboo-nightclub-shooting\")",
         "2022-04-10",
         "2022",
         "0.4514",
         "11.3"
        ],
        [
         "21",
         "2568184",
         "April 10, 2023",
         "8:38 AM",
         "1750112905",
         "Kentucky",
         "Louisville",
         "333 E Main St",
         "Old National Bank",
         "38.2558",
         "-85.7462",
         "6",
         "5",
         "5",
         "5",
         "1",
         "0",
         "0",
         "Shot - Wounded/Injured, Shot - Dead (murder, accidental, or suicide), Officer Involved Incident, Officer Involved Shooting - Officer shot, Officer Involved Shooting - subject/suspect/perpetrator killed, Mass Murder (4+ deceased victims excluding the subject/suspect/perpetrator , one location), Mass Shooting (4+ victims injured or killed excluding the subject/suspect/perpetrator, one location), Workplace shooting (disgruntled current or former employee), Assault weapon (AR-15, AK-47, and ALL variants defined by law enforcement)\n",
         "c(\"https://www.wdrb.com/news/public-asked-to-avoid-downtown-louisville-near-preston-and-floyd-during-shooting-investigation/article_6c43e3c6-d79d-11ed-a43e-77040efc05bf.html\", \"https://www.whas11.com/article/news/local/heavy-police-presence-in-downtown-louisville/417-8afe3817-06fe-44aa-bb8b-7ff56d8e5e2a\", \"https://www.wymt.com/2023/04/10/reported-active-shooting-incident-downtown-louisville/\", \"https://www.courier-journal.com/story/news/local/2023/04/10/connor-sturgeon-what-we-know-about-old-national-bank-shooter/70100386007/\", \n\"https://www.wdrb.com/news/louisville-police-release-body-camera-video-from-response-to-mass-shooting-at-downtown-bank/article_ae53ae9e-d89d-11ed-b3bf-bfdd55579c93.html\", \"https://www.wtvr.com/news/national-news/mom-of-louisville-shooter-connor-sturgeon-mom-called-911-after-hearing-son-had-gun-was-heading-for-bank\", \"https://www.wdrb.com/news/3-victims-remain-hospitalized-1-critical-from-mass-shooting-in-louisville/article_466f7cd6-d870-11ed-8f9d-1b807bade898.html\", \"https://www.wlky.com/article/louisville-ba\"\n)",
         "2023-04-10",
         "2023",
         "0.4759",
         "16.4"
        ],
        [
         "22",
         "2876444",
         "April 10, 2024",
         "6:10 PM",
         "1712976342",
         "District of Columbia",
         "Washington",
         "1100 block of 21st Street NE",
         null,
         "38.9044",
         "-76.9749",
         "1",
         "5",
         "1",
         "5",
         "0",
         "0",
         "0",
         "Shot - Wounded/Injured, Shot - Dead (murder, accidental, or suicide), Child Involved Incident, Child injured (not child shooter), Mass Shooting (4+ victims injured or killed excluding the subject/suspect/perpetrator, one location)",
         "c(\"https://www.fox5dc.com/news/multiple-people-shot-in-dc-neighborhood-photo-of-getaway-car-released\", \"https://www.washingtonpost.com/dc-md-va/2024/04/10/man-killed-boys-wounded-northeast-dc-shooting/\", \"https://www.fox5dc.com/news/mom-speaks-out-after-12-year-old-son-survives-mass-shooting-in-dc\", \"https://www.dcnewsnow.com/news/local-news/washington-dc/woman-shot-in-ne-dc-shooting-slowly-recovering-in-hospital-mother-says/\")",
         "2024-04-10",
         "2024",
         "0.4815980582524272",
         "14.0"
        ],
        [
         "23",
         "124146",
         "April 11, 2014",
         null,
         "1430230320",
         "Indiana",
         "Richmond",
         "North 15th and H Streets",
         null,
         "39.8386",
         "-84.8816",
         "0",
         "4",
         "0",
         "4",
         "0",
         "0",
         "0",
         "Shot - Wounded/Injured, Mass Shooting (4+ victims injured or killed excluding the subject/suspect/perpetrator, one location)",
         "http://fox59.com/2014/04/11/victims-identified-in-quadruple-richmond-shooting/#axzz2ycQJQCwq",
         "2014-04-11",
         "2014",
         "0.45",
         "12.3"
        ],
        [
         "24",
         "1368597",
         "April 11, 2019",
         "11:17 AM",
         "1643240262",
         "Maryland",
         "Baltimore",
         "2200 block of Ruskin Ave",
         null,
         "39.3152",
         "-76.6479",
         "1",
         "3",
         "1",
         "3",
         "0",
         "0",
         "1",
         "Shot - Wounded/Injured, Shot - Dead (murder, accidental, or suicide), Mass Shooting (4+ victims injured or killed excluding the subject/suspect/perpetrator, one location)",
         "c(\"https://www.baltimoresun.com/news/maryland/crime/bs-md-ci-triple-shooting-thursday-20190411-story.html\", \"https://www.wbal.com/article/382906/21/police-one-killed-in-quadruple-shooting-near-druid-hill-park\", \"https://www.facebook.com/pg/BaltimoreCityPolice/posts/?ref=page_internal\", \"https://foxbaltimore.com/news/local/baltimore-man-gets-life-sentence-for-retaliatory-quadruple-shooting\")",
         "2019-04-11",
         "2019",
         "0.4558",
         "9.5"
        ],
        [
         "25",
         "1369148",
         "April 11, 2019",
         "8:18 PM",
         "1582735501",
         "Arizona",
         "Phoenix",
         "7112 W Minnezona Ave",
         null,
         "33.504",
         "-112.212",
         "3",
         "2",
         "3",
         "2",
         "0",
         "0",
         "1",
         "Shot - Wounded/Injured, Shot - Dead (murder, accidental, or suicide), Child Involved Incident, Child killed (not child shooter), Spree Shooting (multiple victims, multiple locations), Mass Shooting (4+ victims injured or killed excluding the subject/suspect/perpetrator, one location), Domestic Violence, Assault weapon (AR-15, AK-47, and ALL variants defined by law enforcement)",
         "c(\"http://www.fox10phoenix.com/news/arizona-news/police-investigating-shooting-along-69th-avenue-in-west-phoenix\", \"https://www.abc15.com/news/region-phoenix-metro/west-phoenix/police-1-dead-2-hurt-after-shooting-in-west-phoenix?fbclid=IwAR2SWshKrFJ54nyDMhSNZRIXSQBt6xlmuGM-1jphvG26PJZk6J_aU5phwwM\", \"https://www.azfamily.com/news/phoenix-man-accused-of-killing-wife-daughters-says-god-told/article_3b82bff4-5cd7-11e9-9f1c-1b9ff7e5c229.html\", \"https://www.12news.com/article/news/local/valley/man-accused-of-killing-girlfriend-daughters-had-guns-taken-away-given-back-last-year/75-9cb54780-c16c-47d5-824b-93c0f071661f\", \n\"https://www.ajc.com/news/national/police-year-old-hid-under-bed-dad-killed-mom-sisters-because-god-told-him/SYl7SOCqY9ShfU6VvsXmhP/\", \"https://www.azcentral.com/story/news/local/phoenix-breaking/2019/04/12/4-dead-suspect-held-phoenix-shootings-39th-ave-minnezona-ave/3448009002/\", \"https://www.azcentral.com/story/news/local/phoenix/2020/02/26/austin-smith-phoenix-man-sentenced-killing-wife-2-kids-alleged-affair/4875148002\")",
         "2019-04-11",
         "2019",
         "0.4591",
         "12.4"
        ],
        [
         "26",
         "1369109",
         "April 11, 2019",
         "6:25 PM",
         "1556229601",
         "California",
         "Los Angeles",
         "E 103rd St and S Main St",
         null,
         "33.9428",
         "-118.274",
         "1",
         "4",
         "1",
         "4",
         "0",
         "0",
         "0",
         "Shot - Wounded/Injured, Shot - Dead (murder, accidental, or suicide), Drive-by (car to street, car to car), Mass Shooting (4+ victims injured or killed excluding the subject/suspect/perpetrator, one location), Gang involvement",
         "c(\"https://www.latimes.com/local/lanow/la-me-shooting-watts-nipsey-hussle-20190411-story.html\", \"https://ktla.com/2019/04/11/4-people-shot-1-fatally-in-south-l-a-amid-procession-for-nipsey-hussle/\", \"https://twitter.com/LAPDChiefMoore/status/1116528584519110657\", \"https://abc7.com/1-killed-4-wounded-in-shooting-in-watts-area-of-los-angeles/5244434/\", \"https://www.nbclosangeles.com/news/local/Coroner-IDs-Man-Killed-In-Shooting-Near-Nipsey-Hussle-Funeral-Route-508570441.html\")",
         "2019-04-11",
         "2019",
         "0.4866",
         "12.0"
        ],
        [
         "27",
         "1656873",
         "April 11, 2020",
         "12:20 AM",
         "1586632741",
         "California",
         "Bakersfield",
         "Pioneer Rd and Sterling Rd",
         null,
         "35.3675",
         "-118.931",
         "0",
         "6",
         "0",
         "6",
         "0",
         "0",
         "0",
         "Shot - Wounded/Injured, Mass Shooting (4+ victims injured or killed excluding the subject/suspect/perpetrator, one location), House party / Block Party / Park Party / Private Parties at event spaces / Weddings and Funerals, ETC",
         "c(\"https://abc30.com/shooting-mass-bakersfield/6095034/\", \"https://bakersfieldnow.com/news/local/six-shot-and-injured-during-shooting-in-east-bakersfield\")",
         "2020-04-11",
         "2020",
         "0.4815980582524272",
         "12.0"
        ],
        [
         "28",
         "1974943",
         "April 11, 2021",
         "3:00 AM",
         "1618185602",
         "Kansas",
         "Wichita",
         "200 block of N Battin St",
         null,
         "37.6886",
         "-97.2768",
         "1",
         "3",
         "1",
         "3",
         "0",
         "0",
         "0",
         "Shot - Wounded/Injured, Shot - Dead (murder, accidental, or suicide), Mass Shooting (4+ victims injured or killed excluding the subject/suspect/perpetrator, one location), House party / Block Party / Park Party / Private Parties at event spaces / Weddings and Funerals, ETC",
         "https://www.ksn.com/news/one-dead-in-east-wichita-shooting-at-airbnb/",
         "2021-04-11",
         "2021",
         "0.4599",
         "11.2"
        ],
        [
         "29",
         "1975004",
         "April 11, 2021",
         "3:25 PM",
         "1618223966",
         "Washington",
         "Seattle",
         "306 23rd Ave S",
         "AutoZone",
         "47.6001",
         "-122.302",
         "0",
         "4",
         "0",
         "4",
         "0",
         "0",
         "0",
         "Shot - Wounded/Injured, Child Involved Incident, Child injured (not child shooter), Mass Shooting (4+ victims injured or killed excluding the subject/suspect/perpetrator, one location)",
         "c(\"https://www.king5.com/article/news/crime/seattle-shooting-investigation-near-judkins-park/281-4204a6d7-8b45-43c1-b488-c627d08e5594\", \"https://www.king5.com/article/news/crime/seattle-shooting-investigation-near-judkins-park/281-4204a6d7-8b45-43c1-b488-c627d08e5594\")",
         "2021-04-11",
         "2021",
         "0.4704",
         "10.3"
        ],
        [
         "30",
         "2569434",
         "April 11, 2023",
         "12:32 PM",
         "1681313862",
         "District of Columbia",
         "Washington",
         "4001 Benning Rd NE",
         "Stewart Funeral Home",
         "38.8937",
         "-76.9465",
         "1",
         "3",
         "1",
         "3",
         "0",
         "0",
         "0",
         "Shot - Wounded/Injured, Shot - Dead (murder, accidental, or suicide), Mass Shooting (4+ victims injured or killed excluding the subject/suspect/perpetrator, one location), House party / Block Party / Park Party / Private Parties at event spaces / Weddings and Funerals, ETC",
         "c(\"https://twitter.com/RealTimeNews10/status/1645831321908834304\", \"https://www.wusa9.com/article/news/local/dc/multiple-people-shot-northeast-dc/65-123baf7c-36e6-4887-89b7-aa1afb79202c\", \"https://www.nbcwashington.com/news/local/several-people-shot-at-dc-funeral-home-police/3326877/\", \"https://www.dcnewsnow.com/news/local-news/washington-dc/multiple-people-shot-in-northeast/\")",
         "2023-04-11",
         "2023",
         "0.5163",
         "14.0"
        ],
        [
         "31",
         "2877499",
         "April 11, 2024",
         "8:30 PM",
         "1712976290",
         "Florida",
         "Orlando",
         "2800 block of Gamma Dr",
         null,
         "28.6232",
         "-81.4167",
         "1",
         "3",
         "1",
         "3",
         "0",
         "0",
         "0",
         "Shot - Wounded/Injured, Shot - Dead (murder, accidental, or suicide), Mass Shooting (4+ victims injured or killed excluding the subject/suspect/perpetrator, one location)",
         "c(\"https://www.fox35orlando.com/video/1440102\", \"https://www.fox35orlando.com/news/1-dead-3-injured-following-shooting-in-orlando-deputies\", \"https://www.wesh.com/article/orange-county-shooting-gamma-drive/60474170\")",
         "2024-04-11",
         "2024",
         "0.4815980582524272",
         "12.3"
        ],
        [
         "32",
         "3182714",
         "April 11, 2025",
         "2:00 PM",
         "1744575576",
         "California",
         "Stockton",
         "517 Doctor MLK Jr Blvd",
         "Frontline Barber Shop",
         "37.9376",
         "-121.294",
         "0",
         "6",
         "0",
         "6",
         "0",
         "0",
         "0",
         "Shot - Wounded/Injured, Mass Shooting (4+ victims injured or killed excluding the subject/suspect/perpetrator, one location), Shootout (where VENN diagram of shooters and victims overlap)",
         "c(\"https://www.abc10.com/article/news/local/stockton-shooting-investigation/103-fb17da57-613f-4148-87e6-81476b8bd506\", \"https://fox40.com/news/local-news/stockton/mass-shooting-in-stockton-leaves-at-least-6-people-shot-officials-say/\")",
         "2025-04-11",
         "2025",
         "0.4815980582524272",
         "12.0"
        ],
        [
         "33",
         "125028",
         "April 12, 2014",
         null,
         "1430230540",
         "Louisiana",
         "New Orleans",
         "2100 block of Pauger Street",
         null,
         "29.9716",
         "-90.0609",
         "1",
         "3",
         "1",
         "3",
         "0",
         "0",
         "0",
         "Shot - Wounded/Injured, Shot - Dead (murder, accidental, or suicide), Drive-by (car to street, car to car), Mass Shooting (4+ victims injured or killed excluding the subject/suspect/perpetrator, one location)",
         "http://www.wwltv.com/news/crime/NOPD-Quadruple-shooting-leaves-one-man-dead-1-year-old-girl-injured-255065791.html",
         "2014-04-12",
         "2014",
         "0.49",
         "18.9"
        ],
        [
         "34",
         "1370269",
         "April 12, 2019",
         null,
         "1675440001",
         "Illinois",
         "Carbondale",
         "119 N Washington St",
         "ABC Liquor and Tres Hombres",
         "37.7281",
         "-89.2151",
         "0",
         "4",
         "0",
         "4",
         "0",
         "0",
         "3",
         "Shot - Wounded/Injured, Accidental Shooting, Accidental Shooting - Injury, Stray bullet, Mass Shooting (4+ victims injured or killed excluding the subject/suspect/perpetrator, one location), Bar/club incident - in or around establishment",
         "c(\"https://thesouthern.com/news/local/crime-and-courts/injured-in-friday-night-downtown-carbondale-shooting-police-id-suspect/article_69181561-f152-588e-bdfa-8c0aab7d7318.html\", \"http://www.wsiltv.com/story/40311332/victim-speaks-from-hospital-after-weekend-shooting\", \"https://thesouthern.com/news/local/crime-and-courts/pullen-arrested-alleged-gunman-in-downtown-carbondale-shooting-found-in/article_597c9e6f-c2cd-5529-b3bc-850b721c1a7e.html\", \"https://wsiltv.com/2021/01/20/pullen-sentenced-to-84-years-in-prison-for-shooting-outside-tres-hombres/\", \n\"https://thesouthern.com/news/local/crime-and-courts/three-found-guilty-in-carbondale-shooting-investigation/article_87b70d29-87c1-53df-8709-d0d01e2fee33.html\")",
         "2019-04-12",
         "2019",
         "0.48",
         "11.6"
        ],
        [
         "35",
         "2276339",
         "April 12, 2022",
         "8:30 AM",
         "1651193247",
         "New York",
         "Brooklyn",
         "36th St and 4th Ave",
         "MTA N/R line",
         "40.6543",
         "-74.0043",
         "0",
         "10",
         "0",
         "10",
         "0",
         "0",
         "1",
         "Shot - Wounded/Injured, Mass Shooting (4+ victims injured or killed excluding the subject/suspect/perpetrator, one location)",
         "c(\"https://twitter.com/nyc_alerts911/status/1513864887226753027?s=21&t=FQW-IWDpd_HeBXG5CEWJjQ\", \"https://go.citizen.com/CsVLSIMqapb\", \"https://abc7ny.com/brooklyn-shootings-subway-shooting-sunset-park-new-york/11740555/\", \"https://go.citizen.com/x2Hzij2xapb\", \"https://nypost.com/2022/04/12/frank-r-james-idd-as-person-of-interest-in-brooklyn-subway-shooting/\", \"https://nypost.com/2022/04/12/blood-bullet-holes-shell-casings-the-aftermath-of-brooklyn-subway-rampage/\", \"https://www.nytimes.com/live/2022/04/13/nyregion/brooklyn-subway-shooting?smtyp=cur&smid=tw-nytimes#new-yorkers-start-their-commutes-as-police-search-for-the-gunman\"\n)",
         "2022-04-12",
         "2022",
         "0.5208",
         "14.2"
        ],
        [
         "36",
         "2277011",
         "April 12, 2022",
         "10:00 PM",
         "1649860201",
         "New York",
         "Bronx",
         "2825 Olinville Ave",
         "Parkside Houses",
         "40.8672",
         "-73.8686",
         "1",
         "3",
         "1",
         "3",
         "0",
         "0",
         "0",
         "Shot - Wounded/Injured, Shot - Dead (murder, accidental, or suicide), Mass Shooting (4+ victims injured or killed excluding the subject/suspect/perpetrator, one location)",
         "c(\"https://twitter.com/NYC_Alerts911/status/1514070334852538370\", \"https://www.amny.com/new-york/bronx/eight-shot-in-three-separate-bronx-shootings/\")",
         "2022-04-12",
         "2022",
         "0.5208",
         "14.2"
        ],
        [
         "37",
         "2570985",
         "April 12, 2023",
         "6:45 PM",
         "1681504201",
         "Indiana",
         "Fort Wayne",
         "3530 Harvester Ave",
         "McCormick Park",
         "41.0639",
         "-85.0923",
         "1",
         "3",
         "1",
         "3",
         "0",
         "0",
         "0",
         "Shot - Wounded/Injured, Shot - Dead (murder, accidental, or suicide), Mass Shooting (4+ victims injured or killed excluding the subject/suspect/perpetrator, one location)",
         "c(\"https://www.wishtv.com/news/indiana-news/4-people-shot-at-indiana-park-during-memorial-for-slain-man/\", \"https://www.wane.com/news/stuff-just-went-crazy-chaos-bullets-at-mccormick-park-balloon-release/\")",
         "2023-04-12",
         "2023",
         "0.4536",
         "12.3"
        ],
        [
         "38",
         "2570823",
         "April 12, 2023",
         "5:45 PM",
         "1687681365",
         "New Jersey",
         "Trenton",
         "Spring St and Calhoun St",
         null,
         "40.2248",
         "-74.7727",
         "1",
         "3",
         "1",
         "3",
         "0",
         "0",
         "0",
         "Shot - Wounded/Injured, Shot - Dead (murder, accidental, or suicide), Drive-by (car to street, car to car), Mass Shooting (4+ victims injured or killed excluding the subject/suspect/perpetrator, one location)",
         "c(\"https://midjersey.news/2023/04/12/trenton-police-investigate-afternoon-shooting/\", \"https://www.rlsmedia.com/article/update-critical-injuries-reported-new-jersey-double-drive-shooting-incident\", \"https://midjersey.news/2023/06/23/two-others-have-died-from-trenton-shootings-increasing-trenton-homicide-total-to-17/\")",
         "2023-04-12",
         "2023",
         "0.4794",
         "9.7"
        ],
        [
         "39",
         "2570789",
         "April 12, 2023",
         "6:31 PM",
         "1681408534",
         "North Carolina",
         "Goldsboro",
         "112 N. Leslie St",
         null,
         "35.3806",
         "-77.9862",
         "1",
         "5",
         "1",
         "5",
         "0",
         "0",
         "0",
         "Shot - Wounded/Injured, Shot - Dead (murder, accidental, or suicide), Mass Shooting (4+ victims injured or killed excluding the subject/suspect/perpetrator, one location), House party / Block Party / Park Party / Private Parties at event spaces / Weddings and Funerals, ETC",
         "c(\"https://www.wral.com/story/14-year-old-dead-5-injured-in-goldsboro-shooting/20808686/\", \"https://www.facebook.com/watch/?v=760211325593424\", \"https://www.facebook.com/ncfightingcrime/posts/pfbid0LSj9txojth7B4Z5aHF7E2Y9aMd9UNJkg6fA7K98kjPGY3FJG9pekyz39r2CQMTPBl\")",
         "2023-04-12",
         "2023",
         "0.4732",
         "12.8"
        ],
        [
         "40",
         "2570622",
         "April 12, 2023",
         "9:30 PM",
         "1681613101",
         "Ohio",
         "Toledo",
         "998 Dorr St",
         "Smith Park",
         "41.653",
         "-83.5673",
         "1",
         "5",
         "1",
         "5",
         "0",
         "0",
         "0",
         "Shot - Wounded/Injured, Shot - Dead (murder, accidental, or suicide), Mass Shooting (4+ victims injured or killed excluding the subject/suspect/perpetrator, one location), House party / Block Party / Park Party / Private Parties at event spaces / Weddings and Funerals, ETC",
         "c(\"https://www.wtol.com/article/news/crime/three-shot-central-toledo-ewing-woodland/512-6a939b10-cb52-4166-b7d5-ea0e07d7f1cc\", \"https://www.13abc.com/2023/04/13/tpd-one-woman-critical-condition-following-smith-park-shooting/\", \"https://www.13abc.com/2023/04/15/teenage-girl-shot-smith-park-dies-police-say/\")",
         "2023-04-12",
         "2023",
         "0.4695",
         "13.3"
        ],
        [
         "41",
         "3183722",
         "April 12, 2025",
         "10:35 PM",
         "1744681727",
         "Texas",
         "Crosby",
         "13203 Crosby Lynchburg Rd",
         "Shell",
         "29.8802",
         "-95.064",
         "1",
         "6",
         "1",
         "6",
         "0",
         "0",
         "0",
         "Shot - Wounded/Injured, Shot - Dead (murder, accidental, or suicide), Mass Shooting (4+ victims injured or killed excluding the subject/suspect/perpetrator, one location), Convenience Store/Bodega [7-Eleven, Wawa, Stop-N-Go, ETC], Gasoline/Charging Station [Shell, Mobil, Tesla, ETC], House party / Block Party / Park Party / Private Parties at event spaces / Weddings and Funerals, ETC",
         "c(\"https://x.com/SheriffEd_HCSO/status/1911264680888484205\", \"https://www.khou.com/article/news/local/crosby-gas-station-shooting/285-2198f297-8b5a-45ff-8365-d80ffcb9c062\", \"https://baytownsun.com/local/19-year-old-killed-in-crosby-mass-shooting/article_fad3baa4-4a0c-482a-a7ed-44600ccf5e85.html\")",
         "2025-04-12",
         "2025",
         "0.4815980582524272",
         "13.7"
        ],
        [
         "42",
         "818932",
         "April 13, 2017",
         null,
         "1492197954",
         "Georgia",
         "Atlanta",
         "30 Anderson Ave SW",
         "West Lake MARTA station",
         "33.7536",
         "-84.446",
         "1",
         "3",
         "1",
         "3",
         "0",
         "0",
         "1",
         "Shot - Wounded/Injured, Shot - Dead (murder, accidental, or suicide), Mass Shooting (4+ victims injured or killed excluding the subject/suspect/perpetrator, one location)",
         "c(\"http://www.cbs46.com/story/35146943/at-least-4-shot-at-westlake-marta-station\", \"http://www.firstcoastnews.com/news/5-shot-at-marta-station/431127337\", \"http://www.11alive.com/news/5-shot-at-marta-station/431097122\", \"http://www.11alive.com/news/local/family-of-marta-shooting-victim-i-really-thought-the-worst-but-im-so-glad-shes-alright/431179308\", \"http://www.ajc.com/news/local/murder-suspect-targeted-marta-train-shooting/E7CnXcbcDQ25hk7DMhRbnJ/\")",
         "2017-04-13",
         "2017",
         "0.483",
         "13.6"
        ],
        [
         "43",
         "1374920",
         "April 13, 2019",
         "3:40 AM",
         "1565558490",
         "California",
         "Moreno Valley",
         "23500 block of Alessandro Blvd",
         null,
         "33.9173",
         "-117.252",
         "0",
         "4",
         "0",
         "4",
         "0",
         "0",
         "0",
         "Shot - Wounded/Injured, Mass Shooting (4+ victims injured or killed excluding the subject/suspect/perpetrator, one location)",
         "https://www.sbsun.com/2019/04/17/four-people-injured-in-weekend-shooting-at-business-in-moreno-valley/",
         "2019-04-13",
         "2019",
         "0.4866",
         "12.0"
        ],
        [
         "44",
         "1976538",
         "April 13, 2021",
         "2:30 PM",
         "1618361407",
         "Maryland",
         "Baltimore",
         "2300 block of Hoffman St",
         null,
         "39.307",
         "-76.5852",
         "0",
         "4",
         "0",
         "4",
         "0",
         "0",
         "0",
         "Shot - Wounded/Injured, Mass Shooting (4+ victims injured or killed excluding the subject/suspect/perpetrator, one location)",
         "https://baltimore.cbslocal.com/2021/04/13/4-men-shot-by-at-least-2-people-while-playing-dice-game-tuesday-afternoon-in-east-baltimore-police-say/",
         "2021-04-13",
         "2021",
         "0.4631",
         "9.5"
        ],
        [
         "45",
         "2571130",
         "April 13, 2023",
         "2:15 AM",
         "1681415438",
         "New York",
         "Bronx",
         "1859 Westchester Ave",
         "Isla Cafe",
         "40.8327",
         "-73.8639",
         "0",
         "4",
         "0",
         "4",
         "0",
         "0",
         "0",
         "Shot - Wounded/Injured, Mass Shooting (4+ victims injured or killed excluding the subject/suspect/perpetrator, one location)",
         "https://nypost.com/2023/04/13/4-people-including-possible-bystanders-hurt-in-shooting-outside-nyc-restaurant-cops/",
         "2023-04-13",
         "2023",
         "0.5157",
         "14.2"
        ],
        [
         "46",
         "2571648",
         "April 13, 2023",
         "8:50 PM",
         "1682019002",
         "Michigan",
         "Detroit",
         "13570 block of Penrod St",
         null,
         "42.3854",
         "-83.2207",
         "0",
         "5",
         "0",
         "4",
         "0",
         "1",
         "1",
         "Shot - Wounded/Injured, Mass Shooting (4+ victims injured or killed excluding the subject/suspect/perpetrator, one location), Shootout (where VENN diagram of shooters and victims overlap)",
         "c(\"https://www.clickondetroit.com/news/local/2023/04/14/3-people-shot-on-detroits-west-side/\", \"https://www.wxyz.com/news/police-4-shot-including-3-teens-in-detroit-after-dispute\", \"https://www.clickondetroit.com/news/local/2023/04/14/30-shots-fired-11-questioned-4-hurt-during-gun-battle-between-next-door-neighbors-in-detroit/\", \"https://www.cbsnews.com/detroit/news/fifth-person-involved-in-penrod-street-shooting-in-detroit/\", \"https://www.fox2detroit.com/news/pizza-delivered-to-wrong-detroit-house-leads-to-shootout-that-injured-4-including-2-teens\", \n\"https://www.cbsnews.com/detroit/news/detroit-man-charged-in-penrod-street-shootings/\", \"https://www.detroitnews.com/story/news/local/detroit-city/2023/04/17/detroit-man-shooting-teens-food-order-wrong-address/70122510007/\", \"https://www.fox2detroit.com/news/detroit-pizza-delivery-shooting-suspects-bond-reduced-to-5k-after-defense-argues-he-wasnt-shooter\")",
         "2023-04-13",
         "2023",
         "0.4658",
         "13.5"
        ],
        [
         "47",
         "2879189",
         "April 13, 2024",
         "9:18 PM",
         "1725631602",
         "Illinois",
         "Chicago",
         "2021 W 52nd St",
         null,
         "41.7987",
         "-87.6754",
         "1",
         "10",
         "1",
         "10",
         "0",
         "0",
         "1",
         "Shot - Wounded/Injured, Shot - Dead (murder, accidental, or suicide), Child Involved Incident, Child killed (not child shooter), Child injured (not child shooter), Mass Shooting (4+ victims injured or killed excluding the subject/suspect/perpetrator, one location), House party / Block Party / Park Party / Private Parties at event spaces / Weddings and Funerals, ETC, Gang involvement, Assault weapon (AR-15, AK-47, and ALL variants defined by law enforcement)",
         "c(\"https://www.wsbtv.com/news/trending/least-8-people-including-3-children-shot-chicago-intersection/C5NLVK6M6NDBZFCWGN46OJTVNA/\", \"https://abc7chicago.com/chicago-mass-shooting-back-of-the-yards-52nd-street-damen-avenue/14661412/\", \"https://www.fox32chicago.com/news/chicago-mass-shooting-south-side-child-killed\", \"https://wgntv.com/news/chicagocrime/2-kids-shot-during-mass-shooting-in-chicagos-back-of-the-yard-remain-in-icu/\", \"https://abc7chicago.com/chicago-violence-deadly-back-of-the-yards-mass-shooting-surveillance-video/14683232/\", \n\"https://chicago.suntimes.com/news/2024/04/19/chicago-back-of-the-yards-mass-shooting-aaron-isaiah-monica-mendez\", \"https://www.chicagotribune.com/2024/09/04/new-city-man-charged-in-shooting-that-killed-9-year-old-ariana-molina/\", \"https://www.cbsnews.com/chicago/news/man-charged-in-chicago-mass-shooting-that-left-girl-dead-10-other-people-injured/\")",
         "2024-04-13",
         "2024",
         "0.4815980582524272",
         "11.6"
        ],
        [
         "48",
         "2880957",
         "April 13, 2024",
         "4:00 AM",
         "1713240450",
         "Mississippi",
         "Coldwater",
         "W Central St",
         null,
         "34.6879",
         "-89.9825",
         "1",
         "3",
         "1",
         "3",
         "0",
         "0",
         "0",
         "Shot - Wounded/Injured, Shot - Dead (murder, accidental, or suicide), Mass Shooting (4+ victims injured or killed excluding the subject/suspect/perpetrator, one location)",
         "https://www.fox13memphis.com/news/watch-man-dead-and-3-others-injured-after-a-shooting-in-north-mississippi/video_a4ae2675-eaac-5673-aacf-40e6336ac561.html",
         "2024-04-13",
         "2024",
         "0.4815980582524272",
         "18.0"
        ],
        [
         "49",
         "2879659",
         "April 13, 2024",
         "10:00 PM",
         "1743136414",
         "Arkansas",
         "Wynne",
         "441 Martin Luther King S",
         "Car Wash",
         "35.2275",
         "-90.7943",
         "1",
         "9",
         "1",
         "9",
         "0",
         "0",
         "4",
         "Shot - Wounded/Injured, Shot - Dead (murder, accidental, or suicide), Drive-by (car to street, car to car), Mass Shooting (4+ victims injured or killed excluding the subject/suspect/perpetrator, one location), House party / Block Party / Park Party / Private Parties at event spaces / Weddings and Funerals, ETC, Possession of gun by felon or prohibited person",
         "c(\"http://www.imbodenlive.com/2024/04/14/one-dead-at-least-9-injured-in-wynne-block-party-shooting/\", \"https://www.whiterivernow.com/2024/04/17/arkansas-state-police-arrest-four-suspects-in-wynne-block-party-shooting-that-left-one-dead-9-injured/\", \"https://www.kjnbtv.com/homepage/wynne-block-party-shooting-leaves-community-in-grief-as-witness-accounts-unveil-tragic-night/article_8acc6170-fcda-11ee-97c8-77ea320fcd38.html\", \"https://thewynneprogress.com/pre-trial-hearing-set-for-four-men-charged-in-wynne-prom-night-shooting/\", \n\"https://thewynneprogress.com/four-suspects-in-wynne-prom-night-shooting-to-face-separate-trials-in-early-2025/\", \"https://www.whiterivernow.com/2025/01/29/teen-pleads-guilty-in-fatal-wynne-block-party-shooting/\", \"https://thewynneprogress.com/pre-trial-hearing-for-suspects-in-wynne-prom-night-shooting-set-for-march-25/\")",
         "2024-04-13",
         "2024",
         "0.4815980582524272",
         "15.7"
        ]
       ],
       "shape": {
        "columns": 23,
        "rows": 5468
       }
      },
      "text/html": [
       "<div>\n",
       "<style scoped>\n",
       "    .dataframe tbody tr th:only-of-type {\n",
       "        vertical-align: middle;\n",
       "    }\n",
       "\n",
       "    .dataframe tbody tr th {\n",
       "        vertical-align: top;\n",
       "    }\n",
       "\n",
       "    .dataframe thead th {\n",
       "        text-align: right;\n",
       "    }\n",
       "</style>\n",
       "<table border=\"1\" class=\"dataframe\">\n",
       "  <thead>\n",
       "    <tr style=\"text-align: right;\">\n",
       "      <th></th>\n",
       "      <th>incident_id</th>\n",
       "      <th>incident_date</th>\n",
       "      <th>incident_time</th>\n",
       "      <th>updated_date</th>\n",
       "      <th>state</th>\n",
       "      <th>city_or_county</th>\n",
       "      <th>address</th>\n",
       "      <th>business_location_name</th>\n",
       "      <th>latitude</th>\n",
       "      <th>longitude</th>\n",
       "      <th>...</th>\n",
       "      <th>victims_injured</th>\n",
       "      <th>suspects_killed</th>\n",
       "      <th>suspects_injured</th>\n",
       "      <th>suspects_arrested</th>\n",
       "      <th>incident_characteristics</th>\n",
       "      <th>sources</th>\n",
       "      <th>date_fixed</th>\n",
       "      <th>year</th>\n",
       "      <th>gini_coefficient</th>\n",
       "      <th>poverty_rate_2025</th>\n",
       "      <th>year</th>\n",
       "      <th>State</th>\n",
       "      <th>Population_25plus</th>\n",
       "      <th>Without Min Studies</th>\n",
       "      <th>High_School_Graduate</th>\n",
       "      <th>Bachelor_Degree</th>\n",
       "      <th>Master_Degree</th>\n",
       "      <th>Doctorate_Degree</th>\n",
       "    </tr>\n",
       "  </thead>\n",
       "  <tbody>\n",
       "    <tr>\n",
       "      <th>0</th>\n",
       "      <td>809048</td>\n",
       "      <td>April 1, 2017</td>\n",
       "      <td>NaN</td>\n",
       "      <td>1491348530</td>\n",
       "      <td>Florida</td>\n",
       "      <td>Tampa</td>\n",
       "      <td>219 S Howard Ave</td>\n",
       "      <td>Palace Lounge</td>\n",
       "      <td>27.9431</td>\n",
       "      <td>-82.4831</td>\n",
       "      <td>...</td>\n",
       "      <td>4</td>\n",
       "      <td>0</td>\n",
       "      <td>0</td>\n",
       "      <td>1</td>\n",
       "      <td>Shot - Wounded/Injured, Shot - Dead (murder, a...</td>\n",
       "      <td>c(\"http://wfla.com/2017/04/01/tampa-police-inv...</td>\n",
       "      <td>2017-04-01</td>\n",
       "      <td>2017</td>\n",
       "      <td>0.4859</td>\n",
       "      <td>12.3</td>\n",
       "    </tr>\n",
       "    <tr>\n",
       "      <th>1</th>\n",
       "      <td>809499</td>\n",
       "      <td>April 1, 2017</td>\n",
       "      <td>5:25 AM</td>\n",
       "      <td>1680156402</td>\n",
       "      <td>Oklahoma</td>\n",
       "      <td>Oklahoma City</td>\n",
       "      <td>1212 N Woodward Ave</td>\n",
       "      <td>NaN</td>\n",
       "      <td>35.4810</td>\n",
       "      <td>-97.5754</td>\n",
       "      <td>...</td>\n",
       "      <td>3</td>\n",
       "      <td>0</td>\n",
       "      <td>0</td>\n",
       "      <td>1</td>\n",
       "      <td>Shot - Wounded/Injured, Shot - Dead (murder, a...</td>\n",
       "      <td>c(\"http://www.news9.com/story/35055747/okc-pol...</td>\n",
       "      <td>2017-04-01</td>\n",
       "      <td>2017</td>\n",
       "      <td>0.4658</td>\n",
       "      <td>15.9</td>\n",
       "    </tr>\n",
       "    <tr>\n",
       "      <th>2</th>\n",
       "      <td>809815</td>\n",
       "      <td>April 1, 2017</td>\n",
       "      <td>NaN</td>\n",
       "      <td>1492995601</td>\n",
       "      <td>California</td>\n",
       "      <td>Pittsburg</td>\n",
       "      <td>100 block of Madoline Street</td>\n",
       "      <td>NaN</td>\n",
       "      <td>38.0053</td>\n",
       "      <td>-121.8950</td>\n",
       "      <td>...</td>\n",
       "      <td>5</td>\n",
       "      <td>0</td>\n",
       "      <td>0</td>\n",
       "      <td>1</td>\n",
       "      <td>Shot - Wounded/Injured, Mass Shooting (4+ vict...</td>\n",
       "      <td>http://www.nbcbayarea.com/news/local/Shooting-...</td>\n",
       "      <td>2017-04-01</td>\n",
       "      <td>2017</td>\n",
       "      <td>0.4866</td>\n",
       "      <td>12.0</td>\n",
       "    </tr>\n",
       "    <tr>\n",
       "      <th>3</th>\n",
       "      <td>1082835</td>\n",
       "      <td>April 1, 2018</td>\n",
       "      <td>2:15 AM</td>\n",
       "      <td>1522693801</td>\n",
       "      <td>Michigan</td>\n",
       "      <td>Saginaw</td>\n",
       "      <td>600 block of Yale St</td>\n",
       "      <td>NaN</td>\n",
       "      <td>43.4192</td>\n",
       "      <td>-83.9819</td>\n",
       "      <td>...</td>\n",
       "      <td>5</td>\n",
       "      <td>0</td>\n",
       "      <td>0</td>\n",
       "      <td>0</td>\n",
       "      <td>Shot - Wounded/Injured, Mass Shooting (4+ vict...</td>\n",
       "      <td>http://www.mlive.com/news/saginaw/index.ssf/20...</td>\n",
       "      <td>2018-04-01</td>\n",
       "      <td>2018</td>\n",
       "      <td>0.4679</td>\n",
       "      <td>13.5</td>\n",
       "    </tr>\n",
       "    <tr>\n",
       "      <th>4</th>\n",
       "      <td>1083011</td>\n",
       "      <td>April 1, 2018</td>\n",
       "      <td>NaN</td>\n",
       "      <td>1646889853</td>\n",
       "      <td>Alabama</td>\n",
       "      <td>Mobile</td>\n",
       "      <td>3556 Halls Mill Rd</td>\n",
       "      <td>Grand Hall</td>\n",
       "      <td>30.6387</td>\n",
       "      <td>-88.1228</td>\n",
       "      <td>...</td>\n",
       "      <td>4</td>\n",
       "      <td>0</td>\n",
       "      <td>0</td>\n",
       "      <td>3</td>\n",
       "      <td>Shot - Wounded/Injured, Shot - Dead (murder, a...</td>\n",
       "      <td>c(\"http://www.al.com/news/mobile/index.ssf/201...</td>\n",
       "      <td>2018-04-01</td>\n",
       "      <td>2018</td>\n",
       "      <td>0.4859</td>\n",
       "      <td>15.6</td>\n",
       "      <td>2014</td>\n",
       "      <td>Alabama</td>\n",
       "      <td>3256766</td>\n",
       "      <td>48873</td>\n",
       "      <td>847523</td>\n",
       "      <td>478058</td>\n",
       "      <td>201391</td>\n",
       "      <td>33082</td>\n",
       "    </tr>\n",
       "    <tr>\n",
       "      <th>1</th>\n",
       "      <td>2014</td>\n",
       "      <td>Alaska</td>\n",
       "      <td>465149</td>\n",
       "      <td>4144</td>\n",
       "      <td>108523</td>\n",
       "      <td>85634</td>\n",
       "      <td>33103</td>\n",
       "      <td>4304</td>\n",
       "    </tr>\n",
       "    <tr>\n",
       "      <th>2</th>\n",
       "      <td>2014</td>\n",
       "      <td>Arizona</td>\n",
       "      <td>4436226</td>\n",
       "      <td>77042</td>\n",
       "      <td>899108</td>\n",
       "      <td>765784</td>\n",
       "      <td>328400</td>\n",
       "      <td>53578</td>\n",
       "    </tr>\n",
       "    <tr>\n",
       "      <th>3</th>\n",
       "      <td>2014</td>\n",
       "      <td>Arkansas</td>\n",
       "      <td>1968414</td>\n",
       "      <td>25814</td>\n",
       "      <td>568437</td>\n",
       "      <td>272411</td>\n",
       "      <td>104636</td>\n",
       "      <td>19380</td>\n",
       "    </tr>\n",
       "    <tr>\n",
       "      <th>4</th>\n",
       "      <td>2014</td>\n",
       "      <td>California</td>\n",
       "      <td>25654292</td>\n",
       "      <td>814956</td>\n",
       "      <td>4768478</td>\n",
       "      <td>5120162</td>\n",
       "      <td>2035257</td>\n",
       "      <td>394265</td>\n",
       "    </tr>\n",
       "    <tr>\n",
       "      <th>...</th>\n",
       "      <td>...</td>\n",
       "      <td>...</td>\n",
       "      <td>...</td>\n",
       "      <td>...</td>\n",
       "      <td>...</td>\n",
       "      <td>...</td>\n",
       "      <td>...</td>\n",
       "      <td>...</td>\n",
       "      <td>...</td>\n",
       "      <td>...</td>\n",
       "      <td>...</td>\n",
       "      <td>...</td>\n",
       "      <td>...</td>\n",
       "      <td>...</td>\n",
       "      <td>...</td>\n",
       "      <td>...</td>\n",
       "      <td>...</td>\n",
       "      <td>...</td>\n",
       "      <td>...</td>\n",
       "      <td>...</td>\n",
       "      <td>...</td>\n",
       "    </tr>\n",
       "    <tr>\n",
       "      <th>515</th>\n",
       "      <td>2024</td>\n",
       "      <td>Washington</td>\n",
       "      <td>5631460</td>\n",
       "      <td>105363</td>\n",
       "      <td>975478</td>\n",
       "      <td>1372926</td>\n",
       "      <td>683345</td>\n",
       "      <td>113323</td>\n",
       "    </tr>\n",
       "    <tr>\n",
       "      <th>516</th>\n",
       "      <td>2024</td>\n",
       "      <td>West Virginia</td>\n",
       "      <td>1268689</td>\n",
       "      <td>14987</td>\n",
       "      <td>420214</td>\n",
       "      <td>187714</td>\n",
       "      <td>88027</td>\n",
       "      <td>13183</td>\n",
       "    </tr>\n",
       "    <tr>\n",
       "      <th>517</th>\n",
       "      <td>2024</td>\n",
       "      <td>Wisconsin</td>\n",
       "      <td>4172638</td>\n",
       "      <td>48054</td>\n",
       "      <td>1057997</td>\n",
       "      <td>943201</td>\n",
       "      <td>362471</td>\n",
       "      <td>61628</td>\n",
       "    </tr>\n",
       "    <tr>\n",
       "      <th>518</th>\n",
       "      <td>2024</td>\n",
       "      <td>Wyoming</td>\n",
       "      <td>409344</td>\n",
       "      <td>4684</td>\n",
       "      <td>90634</td>\n",
       "      <td>82918</td>\n",
       "      <td>35122</td>\n",
       "      <td>8475</td>\n",
       "    </tr>\n",
       "    <tr>\n",
       "      <th>5463</th>\n",
       "      <td>2411007</td>\n",
       "      <td>September 9, 2022</td>\n",
       "      <td>4:50 PM</td>\n",
       "      <td>1722738993</td>\n",
       "      <td>New York</td>\n",
       "      <td>Bronx</td>\n",
       "      <td>810 Astor Ave</td>\n",
       "      <td>Pelham Parkway Houses</td>\n",
       "      <td>40.8592</td>\n",
       "      <td>-73.8634</td>\n",
       "      <td>...</td>\n",
       "      <td>4</td>\n",
       "      <td>0</td>\n",
       "      <td>0</td>\n",
       "      <td>1</td>\n",
       "      <td>Shot - Wounded/Injured, Mass Shooting (4+ vict...</td>\n",
       "      <td>c(\"https://twitter.com/NYC_Alerts911/status/15...</td>\n",
       "      <td>2022-09-09</td>\n",
       "      <td>2022</td>\n",
       "      <td>0.5208</td>\n",
       "      <td>14.2</td>\n",
       "    </tr>\n",
       "    <tr>\n",
       "      <th>5464</th>\n",
       "      <td>2411901</td>\n",
       "      <td>September 9, 2022</td>\n",
       "      <td>11:50 PM</td>\n",
       "      <td>1689272621</td>\n",
       "      <td>Minnesota</td>\n",
       "      <td>Minneapolis</td>\n",
       "      <td>328 W Broadway Ave</td>\n",
       "      <td>4th Street Saloon</td>\n",
       "      <td>44.9994</td>\n",
       "      <td>-93.2848</td>\n",
       "      <td>...</td>\n",
       "      <td>3</td>\n",
       "      <td>0</td>\n",
       "      <td>0</td>\n",
       "      <td>0</td>\n",
       "      <td>Shot - Wounded/Injured, Shot - Dead (murder, a...</td>\n",
       "      <td>c(\"https://www.fox9.com/news/2-pregnant-women-...</td>\n",
       "      <td>2022-09-09</td>\n",
       "      <td>2022</td>\n",
       "      <td>0.4560</td>\n",
       "      <td>9.3</td>\n",
       "    </tr>\n",
       "    <tr>\n",
       "      <th>5465</th>\n",
       "      <td>2410446</td>\n",
       "      <td>September 9, 2022</td>\n",
       "      <td>9:00 AM</td>\n",
       "      <td>1715920831</td>\n",
       "      <td>Maryland</td>\n",
       "      <td>Elk Mills</td>\n",
       "      <td>47 Hebron Ct</td>\n",
       "      <td>NaN</td>\n",
       "      <td>39.6611</td>\n",
       "      <td>-75.8365</td>\n",
       "      <td>...</td>\n",
       "      <td>0</td>\n",
       "      <td>1</td>\n",
       "      <td>0</td>\n",
       "      <td>0</td>\n",
       "      <td>Shot - Dead (murder, accidental, or suicide), ...</td>\n",
       "      <td>c(\"https://www.cbsnews.com/baltimore/news/five...</td>\n",
       "      <td>2022-09-09</td>\n",
       "      <td>2022</td>\n",
       "      <td>0.4589</td>\n",
       "      <td>9.5</td>\n",
       "    </tr>\n",
       "    <tr>\n",
       "      <th>5466</th>\n",
       "      <td>2703975</td>\n",
       "      <td>September 9, 2023</td>\n",
       "      <td>11:30 PM</td>\n",
       "      <td>1694472936</td>\n",
       "      <td>South Carolina</td>\n",
       "      <td>Rock Hill</td>\n",
       "      <td>800 block of Brunswick Dr</td>\n",
       "      <td>NaN</td>\n",
       "      <td>34.8921</td>\n",
       "      <td>-81.0411</td>\n",
       "      <td>...</td>\n",
       "      <td>4</td>\n",
       "      <td>0</td>\n",
       "      <td>0</td>\n",
       "      <td>2</td>\n",
       "      <td>Shot - Wounded/Injured, Mass Shooting (4+ vict...</td>\n",
       "      <td>https://www.heraldonline.com/news/local/crime/...</td>\n",
       "      <td>2023-09-09</td>\n",
       "      <td>2023</td>\n",
       "      <td>0.4715</td>\n",
       "      <td>13.9</td>\n",
       "    </tr>\n",
       "    <tr>\n",
       "      <th>5467</th>\n",
       "      <td>2702902</td>\n",
       "      <td>September 9, 2023</td>\n",
       "      <td>6:20 PM</td>\n",
       "      <td>1694313001</td>\n",
       "      <td>Illinois</td>\n",
       "      <td>Chicago</td>\n",
       "      <td>6500 block of S King Dr</td>\n",
       "      <td>NaN</td>\n",
       "      <td>41.7764</td>\n",
       "      <td>-87.6159</td>\n",
       "      <td>...</td>\n",
       "      <td>4</td>\n",
       "      <td>0</td>\n",
       "      <td>0</td>\n",
       "      <td>0</td>\n",
       "      <td>Shot - Wounded/Injured, Mass Shooting (4+ vict...</td>\n",
       "      <td>https://home.chicagopolice.org/media_incident/...</td>\n",
       "      <td>2023-09-09</td>\n",
       "      <td>2023</td>\n",
       "      <td>0.4810</td>\n",
       "      <td>11.6</td>\n",
       "    </tr>\n",
       "  </tbody>\n",
       "</table>\n",
       "<p>5468 rows × 23 columns</p>\n",
       "</div>"
      ],
      "text/plain": [
       "      incident_id      incident_date incident_time  updated_date  \\\n",
       "0          809048      April 1, 2017           NaN    1491348530   \n",
       "1          809499      April 1, 2017       5:25 AM    1680156402   \n",
       "2          809815      April 1, 2017           NaN    1492995601   \n",
       "3         1082835      April 1, 2018       2:15 AM    1522693801   \n",
       "4         1083011      April 1, 2018           NaN    1646889853   \n",
       "...           ...                ...           ...           ...   \n",
       "5463      2411007  September 9, 2022       4:50 PM    1722738993   \n",
       "5464      2411901  September 9, 2022      11:50 PM    1689272621   \n",
       "5465      2410446  September 9, 2022       9:00 AM    1715920831   \n",
       "5466      2703975  September 9, 2023      11:30 PM    1694472936   \n",
       "5467      2702902  September 9, 2023       6:20 PM    1694313001   \n",
       "\n",
       "               state city_or_county                       address  \\\n",
       "0            Florida          Tampa              219 S Howard Ave   \n",
       "1           Oklahoma  Oklahoma City           1212 N Woodward Ave   \n",
       "2         California      Pittsburg  100 block of Madoline Street   \n",
       "3           Michigan        Saginaw          600 block of Yale St   \n",
       "4            Alabama         Mobile            3556 Halls Mill Rd   \n",
       "...              ...            ...                           ...   \n",
       "5463        New York          Bronx                 810 Astor Ave   \n",
       "5464       Minnesota    Minneapolis            328 W Broadway Ave   \n",
       "5465        Maryland      Elk Mills                  47 Hebron Ct   \n",
       "5466  South Carolina      Rock Hill     800 block of Brunswick Dr   \n",
       "5467        Illinois        Chicago       6500 block of S King Dr   \n",
       "\n",
       "     business_location_name  latitude  longitude  ...  victims_injured  \\\n",
       "0             Palace Lounge   27.9431   -82.4831  ...                4   \n",
       "1                       NaN   35.4810   -97.5754  ...                3   \n",
       "2                       NaN   38.0053  -121.8950  ...                5   \n",
       "3                       NaN   43.4192   -83.9819  ...                5   \n",
       "4                Grand Hall   30.6387   -88.1228  ...                4   \n",
       "...                     ...       ...        ...  ...              ...   \n",
       "5463  Pelham Parkway Houses   40.8592   -73.8634  ...                4   \n",
       "5464      4th Street Saloon   44.9994   -93.2848  ...                3   \n",
       "5465                    NaN   39.6611   -75.8365  ...                0   \n",
       "5466                    NaN   34.8921   -81.0411  ...                4   \n",
       "5467                    NaN   41.7764   -87.6159  ...                4   \n",
       "\n",
       "      suspects_killed  suspects_injured  suspects_arrested  \\\n",
       "0                   0                 0                  1   \n",
       "1                   0                 0                  1   \n",
       "2                   0                 0                  1   \n",
       "3                   0                 0                  0   \n",
       "4                   0                 0                  3   \n",
       "...               ...               ...                ...   \n",
       "5463                0                 0                  1   \n",
       "5464                0                 0                  0   \n",
       "5465                1                 0                  0   \n",
       "5466                0                 0                  2   \n",
       "5467                0                 0                  0   \n",
       "\n",
       "                               incident_characteristics  \\\n",
       "0     Shot - Wounded/Injured, Shot - Dead (murder, a...   \n",
       "1     Shot - Wounded/Injured, Shot - Dead (murder, a...   \n",
       "2     Shot - Wounded/Injured, Mass Shooting (4+ vict...   \n",
       "3     Shot - Wounded/Injured, Mass Shooting (4+ vict...   \n",
       "4     Shot - Wounded/Injured, Shot - Dead (murder, a...   \n",
       "...                                                 ...   \n",
       "5463  Shot - Wounded/Injured, Mass Shooting (4+ vict...   \n",
       "5464  Shot - Wounded/Injured, Shot - Dead (murder, a...   \n",
       "5465  Shot - Dead (murder, accidental, or suicide), ...   \n",
       "5466  Shot - Wounded/Injured, Mass Shooting (4+ vict...   \n",
       "5467  Shot - Wounded/Injured, Mass Shooting (4+ vict...   \n",
       "\n",
       "                                                sources  date_fixed  year  \\\n",
       "0     c(\"http://wfla.com/2017/04/01/tampa-police-inv...  2017-04-01  2017   \n",
       "1     c(\"http://www.news9.com/story/35055747/okc-pol...  2017-04-01  2017   \n",
       "2     http://www.nbcbayarea.com/news/local/Shooting-...  2017-04-01  2017   \n",
       "3     http://www.mlive.com/news/saginaw/index.ssf/20...  2018-04-01  2018   \n",
       "4     c(\"http://www.al.com/news/mobile/index.ssf/201...  2018-04-01  2018   \n",
       "...                                                 ...         ...   ...   \n",
       "5463  c(\"https://twitter.com/NYC_Alerts911/status/15...  2022-09-09  2022   \n",
       "5464  c(\"https://www.fox9.com/news/2-pregnant-women-...  2022-09-09  2022   \n",
       "5465  c(\"https://www.cbsnews.com/baltimore/news/five...  2022-09-09  2022   \n",
       "5466  https://www.heraldonline.com/news/local/crime/...  2023-09-09  2023   \n",
       "5467  https://home.chicagopolice.org/media_incident/...  2023-09-09  2023   \n",
       "\n",
       "     gini_coefficient poverty_rate_2025  \n",
       "0              0.4859              12.3  \n",
       "1              0.4658              15.9  \n",
       "2              0.4866              12.0  \n",
       "3              0.4679              13.5  \n",
       "4              0.4859              15.6  \n",
       "...               ...               ...  \n",
       "5463           0.5208              14.2  \n",
       "5464           0.4560               9.3  \n",
       "5465           0.4589               9.5  \n",
       "5466           0.4715              13.9  \n",
       "5467           0.4810              11.6  \n",
       "\n",
       "[5468 rows x 23 columns]"
      ]
     },
     "execution_count": 37,
       "    </tr>\n",
       "    <tr>\n",
       "      <th>515</th>\n",
       "      <td>2024</td>\n",
       "      <td>Washington</td>\n",
       "      <td>5631460</td>\n",
       "      <td>958011353291819483343</td>\n",
       "      <td>975478</td>\n",
       "      <td>1372926</td>\n",
       "      <td>683345</td>\n",
       "      <td>113323</td>\n",
       "    </tr>\n",
       "    <tr>\n",
       "      <th>516</th>\n",
       "      <td>2024</td>\n",
       "      <td>West Virginia</td>\n",
       "      <td>1268689</td>\n",
       "      <td>13595730139218305</td>\n",
       "      <td>420214</td>\n",
       "      <td>187714</td>\n",
       "      <td>88027</td>\n",
       "      <td>13183</td>\n",
       "    </tr>\n",
       "    <tr>\n",
       "      <th>517</th>\n",
       "      <td>2024</td>\n",
       "      <td>Wisconsin</td>\n",
       "      <td>4172638</td>\n",
       "      <td>4413981610241295780</td>\n",
       "      <td>1057997</td>\n",
       "      <td>943201</td>\n",
       "      <td>362471</td>\n",
       "      <td>61628</td>\n",
       "    </tr>\n",
       "    <tr>\n",
       "      <th>518</th>\n",
       "      <td>2024</td>\n",
       "      <td>Wyoming</td>\n",
       "      <td>409344</td>\n",
       "      <td>460308100</td>\n",
       "      <td>90634</td>\n",
       "      <td>82918</td>\n",
       "      <td>35122</td>\n",
       "      <td>8475</td>\n",
       "    </tr>\n",
       "    <tr>\n",
       "      <th>519</th>\n",
       "      <td>2024</td>\n",
       "      <td>Puerto Rico</td>\n",
       "      <td>2428065</td>\n",
       "      <td>65652</td>\n",
       "      <td>45010499829645512859</td>\n",
       "      <td>622833</td>\n",
       "      <td>506436</td>\n",
       "      <td>151031</td>\n",
       "      <td>32445</td>\n",
       "    </tr>\n",
       "  </tbody>\n",
       "</table>\n",
       "<p>520 rows × 8 columns</p>\n",
       "</div>"
      ],
      "text/plain": [
       "     year          State  Population_25plus  Without Min Studies  \\\n",
       "0    2014        Alabama            3256766                48873   \n",
       "1    2014         Alaska             465149                 4144   \n",
       "2    2014        Arizona            4436226                77042   \n",
       "3    2014       Arkansas            1968414                25814   \n",
       "4    2014     California           25654292               814956   \n",
       "..    ...            ...                ...                  ...   \n",
       "515  2024     Washington            5631460               105363   \n",
       "516  2024  West Virginia            1268689                14987   \n",
       "517  2024      Wisconsin            4172638                48054   \n",
       "518  2024        Wyoming             409344                 4684   \n",
       "519  2024    Puerto Rico            2428065                65652   \n",
       "\n",
       "     High_School_Graduate  Bachelor_Degree  Master_Degree  Doctorate_Degree  \n",
       "0                  847523           478058         201391             33082  \n",
       "1                  108523            85634          33103              4304  \n",
       "2                  899108           765784         328400             53578  \n",
       "3                  568437           272411         104636             19380  \n",
       "4                 4768478          5120162        2035257            394265  \n",
       "..                    ...              ...            ...               ...  \n",
       "515                975478          1372926         683345            113323  \n",
       "516                420214           187714          88027             13183  \n",
       "517               1057997           943201         362471             61628  \n",
       "518                 90634            82918          35122              8475  \n",
       "519                622833           506436         151031             32445  \n",
       "\n",
       "[520 rows x 8 columns]"
      ]
     },
     "execution_count": 264,
     "execution_count": 79,
     "metadata": {},
     "output_type": "execute_result"
    }
   ],
   "source": [
    "# Add csv for gini coefficient by yearSplit first row by ;, and unify column names to lowercase with underscores\n",
    "df2 = pd.read_csv(\"gini.csv\", sep=';')\n",
    "df2 = df2.rename(columns={'Unnamed: 3': 'gini_coefficient'})\n",
    "df2.columns = [c.lower().replace(' ', '_') for c in df2.columns]\n",
    "\n",
    "# Updating name of DC to match in both dataframes\n",
    "df2['state'].replace({\"Dist. of Columbia\": \"District of Columbia\"}, inplace=True)\n",
    "\n",
    "# Merging dataframes on year and state\n",
    "df_merged = pd.merge(left = df, right = df2, left_on=['year', 'state'], right_on=['year', 'state'], how='left')\n",
    "\n",
    "# Deleting unnecessary index column from right dataframe\n",
    "del df_merged['unnamed:_0']\n",
    "\n",
    "# Clean gini_coefficient column by multiplying numbers above 1 by 0.001 (Gini coefficient should be between 0 and 1)\n",
    "df_merged['gini_coefficient'] = df_merged['gini_coefficient'].apply(lambda x: x * 0.001 if x > 1 else x)\n",
    "\n",
    "# Getting the mean gini coefficient by state\n",
    "df_gini_mean = df_merged.groupby('state')['gini_coefficient'].mean()\n",
    "\n",
    "# Updating all states missing gini coefficient with the mean gini coefficient of that state\n",
    "for state in df_gini_mean.index:\n",
    "    mean_gini = df_gini_mean[state]\n",
    "    df_merged[\"gini_coefficient\"].fillna(value=mean_gini, inplace=True)\n",
    "\n",
    "# Adding link of Wikipedia page for poverty in each state, and preparing for web scraping\n",
    "url = \"https://en.wikipedia.org/wiki/List_of_U.S._states_and_territories_by_poverty_rate#cite_note-CensusData-1\"\n",
    "headers = {\"User-Agent\": \"Mozilla/5.0 (Windows NT 10.0; Win64; x64) AppleWebKit/537.36 (KHTML, like Gecko) Chrome/58.0.3029.110 Safari/537.3\"}\n",
    "response = requests.get(url, headers=headers)\n",
    "soup = BeautifulSoup(response.content)\n",
    "table = soup.find(\"tbody\")\n",
    "\n",
    "# Defining labels for dataframe:\n",
    "labels = [label.get_text() for label in table.find_all(\"a\")]\n",
    "\n",
    "# Getting values for dataframe:\n",
    "values = table.find_all(\"td\")\n",
    "list_values = values[1:len(values):5]\n",
    "for values in list_values:\n",
    "    value = float(values.get_text().replace(\"\\n\",\"\"))\n",
    "\n",
    "\n",
    "# Iterating through labels and values to create a dataframe\n",
    "poverty_data = {}\n",
    "for key, value in zip(labels, list_values):\n",
    "    poverty_data[key] = value\n",
    "\n",
    "# Create dataframe for poverty levels in different states\n",
    "df_poverty = pd.DataFrame.from_dict(poverty_data, orient='index', columns=['poverty_rate_2025'])\n",
    "\n",
    "# Updating states with column for poverty rates in states in 2025 and making the poverty rate a float\n",
    "df_merged = pd.merge(left=df_merged, right=df_poverty, left_on='state', right_index=True, how='left')\n",
    "df_merged['poverty_rate_2025'] = df_merged['poverty_rate_2025'].astype(float)\n",
    "df_merged"
    "years=list(range(2014,2025))\n",
    "def get_edu(year):\n",
    "    url_edu = f\"https://api.census.gov/data/{year}/acs/acs1\"\n",
    "    params = {\n",
    "        \"get\": \"NAME,B15003_001E,B15003_002E,B15003_003E,B15003_004E,B15003_005E,\"\n",
    "        \"B15003_006E,B15003_017E,B15003_022E,B15003_023E,B15003_025E\",\n",
    "        \"for\": \"state:*\"}\n",
    "    response_1 = requests.get(url_edu, params=params)\n",
    "    if response_1.status_code != 200:\n",
    "        print(f\"⚠️ {year}: HTTP {response_1.status_code} – skipping year\")\n",
    "        return pd.DataFrame()\n",
    "    if not response_1.text.strip().startswith('[['):\n",
    "        print(f\"⚠️ {year}: invalid or empty response – skipping year\")\n",
    "        return pd.DataFrame()\n",
    "\n",
    "    try:\n",
    "        data = response_1.json()\n",
    "    except Exception:\n",
    "        print(f\"⚠️ {year}: cannot decode JSON – skipping year\")\n",
    "        return pd.DataFrame()\n",
    "\n",
    "    data = response_1.json()\n",
    "    df_edu = pd.DataFrame(data[1:], columns=data[0])\n",
    "    num_col=[column for column in df_edu.columns if column.startswith(\"B15003_\")]\n",
    "    df_edu[num_col] = df_edu[num_col].apply(pd.to_numeric, errors=\"coerce\")\n",
    "\n",
    "    df_edu = df_edu.rename(columns={\n",
    "        \"NAME\": \"State\",\n",
    "        \"B15003_001E\": \"Population_25plus\",\n",
    "        \"B15003_002E\": \"No_Schooling_Completed\",\n",
    "        \"B15003_003E\": \"Nursery_to_4th_Grade\",\n",
    "        \"B15003_004E\": \"5th_to_6th_Grade\",\n",
    "        \"B15003_005E\": \"7th_to_8th_Grade\",\n",
    "        \"B15003_006E\": \"9th_Grade\",\n",
    "        \"B15003_017E\": \"High_School_Graduate\",\n",
    "        \"B15003_022E\": \"Bachelor_Degree\",\n",
    "        \"B15003_023E\": \"Master_Degree\",\n",
    "        \"B15003_025E\": \"Doctorate_Degree\",\"state\": \"State_Code\"})\n",
    "\n",
    "    col_min_studies=[\"No_Schooling_Completed\",\n",
    "        \"Nursery_to_4th_Grade\",\n",
    "        \"5th_to_6th_Grade\",\n",
    "        \"7th_to_8th_Grade\",\n",
    "        \"9th_Grade\"]\n",
    "\n",
    "    df_edu[\"Without Min Studies\"] = df_edu[col_min_studies].sum(axis=1)\n",
    "\n",
    "    df_edu.drop(columns=[\"No_Schooling_Completed\",\n",
    "     \"Nursery_to_4th_Grade\",\n",
    "     \"5th_to_6th_Grade\",\n",
    "     \"7th_to_8th_Grade\",\n",
    "     \"9th_Grade\",\"State_Code\"], inplace=True)\n",
    "   \n",
    "    df_edu[\"year\"]=year\n",
    "   \n",
    "    df_edu = df_edu[[\n",
    "        \"year\", \"State\", \"Population_25plus\",\n",
    "        \"Without Min Studies\", \"High_School_Graduate\",\n",
    "        \"Bachelor_Degree\", \"Master_Degree\", \"Doctorate_Degree\"\n",
    "    ]]\n",
    "    return df_edu\n",
    "frame=[]\n",
    "for year in years:\n",
    "    print(f\"Fetching {year}...\")\n",
    "    df_year = get_edu(year)\n",
    "    if not df_year.empty:\n",
    "        frame.append(df_year)\n",
    "df_edu = pd.concat(frame, ignore_index=True)\n",
    "df_edu\n",
    "\n"
   ]
  },
  {
   "cell_type": "code",
   "execution_count": 265,
   "id": "3cd2437f",
   "metadata": {},
   "outputs": [],
   "source": [
    "def total_pop(year):\n",
    "    url = f\"https://api.census.gov/data/{year}/acs/acs1\"\n",
    "    params = {\"get\": \"NAME,B01003_001E\", \"for\": \"state:*\"}\n",
    "    r = requests.get(url, params=params)\n",
    "    if r.status_code != 200:\n",
    "        return pd.DataFrame()\n",
    "    if not r.text.strip().startswith(\"[[\"):\n",
    "        return pd.DataFrame()\n",
    "    data= r.json()\n",
    "    df_pop=pd.DataFrame(data[1:],columns=data[0])\n",
    "    df_pop.rename(columns={\n",
    "        \"NAME\": \"State\",\n",
    "        \"state\": \"State_Code\",\n",
    "        \"B01003_001E\": \"Total_Population\"},inplace=True)\n",
    "    df_pop[\"year\"]= year\n",
    "    df_pop[\"Total_Population\"] = pd.to_numeric(df_pop[\"Total_Population\"],errors=\"coerce\")\n",
    "    return df_pop[[\"year\",\"State\",\"State_Code\",\"Total_Population\"]]\n"
   ]
  },
  {
   "cell_type": "code",
   "execution_count": 266,
   "id": "706951d0",
   "metadata": {},
   "outputs": [
    {
     "name": "stdout",
     "output_type": "stream",
     "text": [
      "⚠️ 2020: HTTP 404 – skipping year\n"
     ]
    },
    {
   "execution_count": 80,
   "execution_count": 38,
   "id": "87f648c1",
   "metadata": {},
   "outputs": [
    {
     "data": {
      "application/vnd.microsoft.datawrangler.viewer.v0+json": {
       "columns": [
        {
         "name": "state",
         "rawType": "object",
         "type": "string"
        },
        {
         "name": "killed",
         "rawType": "int64",
         "type": "integer"
        },
        {
         "name": "injured",
         "rawType": "int64",
         "type": "integer"
        },
        {
         "name": "total_victims",
         "rawType": "int64",
         "type": "integer"
        },
        {
         "name": "gini_coefficient",
         "rawType": "float64",
         "type": "float"
        },
        {
         "name": "mass_shootings_count",
         "rawType": "int64",
         "type": "integer"
        },
        {
         "name": "poverty_rate_2025",
         "rawType": "float64",
         "type": "float"
        }
       ],
       "ref": "b1379889-1301-4dfb-99fe-c77c03f8dee2",
       "rows": [
        [
         "Alabama",
         "163",
         "635",
         "798",
         "0.4815980582524272",
         "145",
         "15.6"
        ],
        [
         "Alaska",
         "8",
         "20",
         "28",
         "0.4642653721682848",
         "6",
         "10.4"
        ],
        [
         "Arizona",
         "88",
         "246",
         "334",
         "0.4686898137832246",
         "61",
         "12.4"
        ],
        [
         "Arkansas",
         "67",
         "297",
         "364",
         "0.47816060131537735",
         "62",
         "15.7"
        ],
        [
         "California",
         "552",
         "1873",
         "2425",
         "0.4881287077690516",
         "471",
         "12.0"
        ],
        [
         "Colorado",
         "117",
         "345",
         "462",
         "0.46340642785403413",
         "87",
         "9.3"
        ],
        [
         "Connecticut",
         "15",
         "154",
         "169",
         "0.49155356449375864",
         "35",
         "10.3"
        ],
        [
         "Delaware",
         "13",
         "81",
         "94",
         "0.4624994452149792",
         "21",
         "10.5"
        ],
        [
         "District of Columbia",
         "56",
         "392",
         "448",
         "0.5129484142394822",
         "90",
         "14.0"
        ],
        [
         "Florida",
         "392",
         "1336",
         "1728",
         "0.48484791009960915",
         "308",
         "12.3"
        ],
        [
         "Georgia",
         "232",
         "897",
         "1129",
         "0.4795786105717368",
         "225",
         "13.6"
        ],
        [
         "Hawaii",
         "7",
         "13",
         "20",
         "0.4739985436893204",
         "4",
         "10.1"
        ],
        [
         "Idaho",
         "13",
         "6",
         "19",
         "0.4653240291262136",
         "4",
         "10.1"
        ],
        [
         "Illinois",
         "406",
         "2270",
         "2676",
         "0.48190851737938195",
         "524",
         "11.6"
        ],
        [
         "Indiana",
         "128",
         "494",
         "622",
         "0.45922560985559274",
         "119",
         "12.3"
        ],
        [
         "Iowa",
         "18",
         "90",
         "108",
         "0.455461349976884",
         "21",
         "11.3"
        ],
        [
         "Kansas",
         "42",
         "111",
         "153",
         "0.46063536754507634",
         "28",
         "11.2"
        ],
        [
         "Kentucky",
         "72",
         "291",
         "363",
         "0.4793007628294036",
         "70",
         "16.4"
        ],
        [
         "Louisiana",
         "199",
         "1103",
         "1302",
         "0.49200716263110694",
         "249",
         "18.9"
        ],
        [
         "Maine",
         "38",
         "20",
         "58",
         "0.46293268608414245",
         "6",
         "10.4"
        ],
        [
         "Maryland",
         "143",
         "610",
         "753",
         "0.46150738872777713",
         "154",
         "9.5"
        ],
        [
         "Massachusetts",
         "24",
         "215",
         "239",
         "0.4850660598705501",
         "48",
         "10.4"
        ],
        [
         "Michigan",
         "158",
         "667",
         "825",
         "0.47050553103854076",
         "165",
         "13.5"
        ],
        [
         "Minnesota",
         "72",
         "348",
         "420",
         "0.46037381130196664",
         "78",
         "9.3"
        ],
        [
         "Mississippi",
         "150",
         "590",
         "740",
         "0.48199058674546225",
         "138",
         "18.0"
        ],
        [
         "Missouri",
         "187",
         "665",
         "852",
         "0.46992233580810966",
         "170",
         "12.0"
        ],
        [
         "Montana",
         "17",
         "6",
         "23",
         "0.4634396116504854",
         "5",
         "11.7"
        ],
        [
         "Nebraska",
         "18",
         "91",
         "109",
         "0.46120451456310685",
         "20",
         "10.5"
        ],
        [
         "Nevada",
         "115",
         "606",
         "721",
         "0.46784136373899304",
         "43",
         "12.0"
        ],
        [
         "New Hampshire",
         "0",
         "8",
         "8",
         "0.4397",
         "2",
         "7.2"
        ],
        [
         "New Jersey",
         "73",
         "470",
         "543",
         "0.48142645631067965",
         "112",
         "9.7"
        ],
        [
         "New Mexico",
         "55",
         "101",
         "156",
         "0.4796782246879334",
         "28",
         "17.8"
        ],
        [
         "New York",
         "136",
         "997",
         "1133",
         "0.5057834447106292",
         "231",
         "14.2"
        ],
        [
         "North Carolina",
         "189",
         "639",
         "828",
         "0.4776136379211879",
         "170",
         "12.8"
        ],
        [
         "North Dakota",
         "2",
         "3",
         "5",
         "0.4451",
         "1",
         "9.8"
        ],
        [
         "Ohio",
         "227",
         "932",
         "1159",
         "0.47090816154630494",
         "219",
         "13.3"
        ],
        [
         "Oklahoma",
         "72",
         "185",
         "257",
         "0.4743654174757282",
         "50",
         "15.9"
        ],
        [
         "Oregon",
         "31",
         "107",
         "138",
         "0.4653727781926811",
         "26",
         "12.2"
        ],
        [
         "Pennsylvania",
         "235",
         "1112",
         "1347",
         "0.47656953749149145",
         "271",
         "12.0"
        ],
        [
         "Rhode Island",
         "0",
         "22",
         "22",
         "0.4723",
         "4",
         "10.8"
        ],
        [
         "South Carolina",
         "146",
         "562",
         "708",
         "0.47611462194763166",
         "132",
         "13.9"
        ],
        [
         "South Dakota",
         "18",
         "11",
         "29",
         "0.4650990291262136",
         "6",
         "11.800000000000002"
        ],
        [
         "Tennessee",
         "169",
         "741",
         "910",
         "0.4788090560035105",
         "177",
         "14.0"
        ],
        [
         "Texas",
         "596",
         "1614",
         "2210",
         "0.4796471087027421",
         "387",
         "13.7"
        ],
        [
         "Utah",
         "30",
         "34",
         "64",
         "0.4477902030008826",
         "11",
         "9.0"
        ],
        [
         "Vermont",
         "4",
         "0",
         "4",
         "0.4452",
         "1",
         "9.7"
        ],
        [
         "Virginia",
         "132",
         "491",
         "623",
         "0.47414508737864075",
         "125",
         "10.2"
        ],
        [
         "Washington",
         "103",
         "257",
         "360",
         "0.4695228354834419",
         "73",
         "10.3"
        ],
        [
         "West Virginia",
         "17",
         "26",
         "43",
         "0.48089848975188787",
         "9",
         "16.7"
        ],
        [
         "Wisconsin",
         "76",
         "311",
         "387",
         "0.45755617948045135",
         "74",
         "10.7"
        ]
       ],
       "shape": {
        "columns": 6,
        "rows": 51
       }
      },
      "text/html": [
       "<div>\n",
       "<style scoped>\n",
       "    .dataframe tbody tr th:only-of-type {\n",
       "        vertical-align: middle;\n",
       "    }\n",
       "\n",
       "    .dataframe tbody tr th {\n",
       "        vertical-align: top;\n",
       "    }\n",
       "\n",
       "    .dataframe thead th {\n",
       "        text-align: right;\n",
       "    }\n",
       "</style>\n",
       "<table border=\"1\" class=\"dataframe\">\n",
       "  <thead>\n",
       "    <tr style=\"text-align: right;\">\n",
       "      <th></th>\n",
       "      <th>year</th>\n",
       "      <th>State</th>\n",
       "      <th>Population_25plus</th>\n",
       "      <th>Without Min Studies</th>\n",
       "      <th>High_School_Graduate</th>\n",
       "      <th>Bachelor_Degree</th>\n",
       "      <th>Master_Degree</th>\n",
       "      <th>Doctorate_Degree</th>\n",
       "      <th>Total_Population</th>\n",
       "      <th>killed</th>\n",
       "      <th>injured</th>\n",
       "      <th>total_victims</th>\n",
       "      <th>gini_coefficient</th>\n",
       "      <th>mass_shootings_count</th>\n",
       "      <th>poverty_rate_2025</th>\n",
       "    </tr>\n",
       "    <tr>\n",
       "      <th>state</th>\n",
       "      <th></th>\n",
       "      <th></th>\n",
       "      <th></th>\n",
       "      <th></th>\n",
       "      <th></th>\n",
       "      <th></th>\n",
       "    </tr>\n",
       "  </thead>\n",
       "  <tbody>\n",
       "    <tr>\n",
       "      <th>0</th>\n",
       "      <td>2014</td>\n",
       "      <td>Alabama</td>\n",
       "      <td>3256766</td>\n",
       "      <td>48873</td>\n",
       "      <td>847523</td>\n",
       "      <td>478058</td>\n",
       "      <td>201391</td>\n",
       "      <td>33082</td>\n",
       "      <td>4849377</td>\n",
       "    </tr>\n",
       "    <tr>\n",
       "      <th>1</th>\n",
       "      <td>2014</td>\n",
       "      <td>Alaska</td>\n",
       "      <td>465149</td>\n",
       "      <td>4144</td>\n",
       "      <td>108523</td>\n",
       "      <td>85634</td>\n",
       "      <td>33103</td>\n",
       "      <td>4304</td>\n",
       "      <td>736732</td>\n",
       "    </tr>\n",
       "    <tr>\n",
       "      <th>2</th>\n",
       "      <td>2014</td>\n",
       "      <td>Arizona</td>\n",
       "      <td>4436226</td>\n",
       "      <td>77042</td>\n",
       "      <td>899108</td>\n",
       "      <td>765784</td>\n",
       "      <td>328400</td>\n",
       "      <td>53578</td>\n",
       "      <td>6731484</td>\n",
       "    </tr>\n",
       "    <tr>\n",
       "      <th>3</th>\n",
       "      <td>2014</td>\n",
       "      <td>Arkansas</td>\n",
       "      <td>1968414</td>\n",
       "      <td>25814</td>\n",
       "      <td>568437</td>\n",
       "      <td>272411</td>\n",
       "      <td>104636</td>\n",
       "      <td>19380</td>\n",
       "      <td>2966369</td>\n",
       "    </tr>\n",
       "    <tr>\n",
       "      <th>4</th>\n",
       "      <td>2014</td>\n",
       "      <td>California</td>\n",
       "      <td>25654292</td>\n",
       "      <td>814956</td>\n",
       "      <td>4768478</td>\n",
       "      <td>5120162</td>\n",
       "      <td>2035257</td>\n",
       "      <td>394265</td>\n",
       "      <td>38802500</td>\n",
       "    </tr>\n",
       "    <tr>\n",
       "      <th>...</th>\n",
       "      <td>...</td>\n",
       "      <td>...</td>\n",
       "      <td>...</td>\n",
       "      <td>...</td>\n",
       "      <td>...</td>\n",
       "      <td>...</td>\n",
       "      <td>...</td>\n",
       "      <td>...</td>\n",
       "      <td>...</td>\n",
       "    </tr>\n",
       "    <tr>\n",
       "      <th>515</th>\n",
       "      <td>2024</td>\n",
       "      <td>Washington</td>\n",
       "      <td>5631460</td>\n",
       "      <td>105363</td>\n",
       "      <td>975478</td>\n",
       "      <td>1372926</td>\n",
       "      <td>683345</td>\n",
       "      <td>113323</td>\n",
       "      <td>7958180</td>\n",
       "    </tr>\n",
       "    <tr>\n",
       "      <th>516</th>\n",
       "      <td>2024</td>\n",
       "      <td>West Virginia</td>\n",
       "      <td>1268689</td>\n",
       "      <td>14987</td>\n",
       "      <td>420214</td>\n",
       "      <td>187714</td>\n",
       "      <td>88027</td>\n",
       "      <td>13183</td>\n",
       "      <td>1769979</td>\n",
       "    </tr>\n",
       "    <tr>\n",
       "      <th>517</th>\n",
       "      <td>2024</td>\n",
       "      <td>Wisconsin</td>\n",
       "      <td>4172638</td>\n",
       "      <td>48054</td>\n",
       "      <td>1057997</td>\n",
       "      <td>943201</td>\n",
       "      <td>362471</td>\n",
       "      <td>61628</td>\n",
       "      <td>5960975</td>\n",
       "    </tr>\n",
       "    <tr>\n",
       "      <th>518</th>\n",
       "      <td>2024</td>\n",
       "      <td>Wyoming</td>\n",
       "      <td>409344</td>\n",
       "      <td>4684</td>\n",
       "      <td>90634</td>\n",
       "      <td>82918</td>\n",
       "      <td>35122</td>\n",
       "      <td>8475</td>\n",
       "      <td>587618</td>\n",
       "    </tr>\n",
       "    <tr>\n",
       "      <th>519</th>\n",
       "      <td>2024</td>\n",
       "      <td>Puerto Rico</td>\n",
       "      <td>2428065</td>\n",
       "      <td>65652</td>\n",
       "      <td>622833</td>\n",
       "      <td>506436</td>\n",
       "      <td>151031</td>\n",
       "      <td>32445</td>\n",
       "      <td>3203295</td>\n",
       "      <th>Alabama</th>\n",
       "      <td>163</td>\n",
       "      <td>635</td>\n",
       "      <td>798</td>\n",
       "      <td>0.481598</td>\n",
       "      <td>145</td>\n",
       "      <td>15.6</td>\n",
       "    </tr>\n",
       "    <tr>\n",
       "      <th>Alaska</th>\n",
       "      <td>8</td>\n",
       "      <td>20</td>\n",
       "      <td>28</td>\n",
       "      <td>0.464265</td>\n",
       "      <td>6</td>\n",
       "      <td>10.4</td>\n",
       "    </tr>\n",
       "    <tr>\n",
       "      <th>Arizona</th>\n",
       "      <td>88</td>\n",
       "      <td>246</td>\n",
       "      <td>334</td>\n",
       "      <td>0.468690</td>\n",
       "      <td>61</td>\n",
       "      <td>12.4</td>\n",
       "    </tr>\n",
       "    <tr>\n",
       "      <th>Arkansas</th>\n",
       "      <td>67</td>\n",
       "      <td>297</td>\n",
       "      <td>364</td>\n",
       "      <td>0.478161</td>\n",
       "      <td>62</td>\n",
       "      <td>15.7</td>\n",
       "    </tr>\n",
       "    <tr>\n",
       "      <th>California</th>\n",
       "      <td>552</td>\n",
       "      <td>1873</td>\n",
       "      <td>2425</td>\n",
       "      <td>0.488129</td>\n",
       "      <td>471</td>\n",
       "      <td>12.0</td>\n",
       "    </tr>\n",
       "    <tr>\n",
       "      <th>Colorado</th>\n",
       "      <td>117</td>\n",
       "      <td>345</td>\n",
       "      <td>462</td>\n",
       "      <td>0.463406</td>\n",
       "      <td>87</td>\n",
       "      <td>9.3</td>\n",
       "    </tr>\n",
       "    <tr>\n",
       "      <th>Connecticut</th>\n",
       "      <td>15</td>\n",
       "      <td>154</td>\n",
       "      <td>169</td>\n",
       "      <td>0.491554</td>\n",
       "      <td>35</td>\n",
       "      <td>10.3</td>\n",
       "    </tr>\n",
       "    <tr>\n",
       "      <th>Delaware</th>\n",
       "      <td>13</td>\n",
       "      <td>81</td>\n",
       "      <td>94</td>\n",
       "      <td>0.462499</td>\n",
       "      <td>21</td>\n",
       "      <td>10.5</td>\n",
       "    </tr>\n",
       "    <tr>\n",
       "      <th>District of Columbia</th>\n",
       "      <td>56</td>\n",
       "      <td>392</td>\n",
       "      <td>448</td>\n",
       "      <td>0.512948</td>\n",
       "      <td>90</td>\n",
       "      <td>14.0</td>\n",
       "    </tr>\n",
       "    <tr>\n",
       "      <th>Florida</th>\n",
       "      <td>392</td>\n",
       "      <td>1336</td>\n",
       "      <td>1728</td>\n",
       "      <td>0.484848</td>\n",
       "      <td>308</td>\n",
       "      <td>12.3</td>\n",
       "    </tr>\n",
       "    <tr>\n",
       "      <th>Georgia</th>\n",
       "      <td>232</td>\n",
       "      <td>897</td>\n",
       "      <td>1129</td>\n",
       "      <td>0.479579</td>\n",
       "      <td>225</td>\n",
       "      <td>13.6</td>\n",
       "    </tr>\n",
       "    <tr>\n",
       "      <th>Hawaii</th>\n",
       "      <td>7</td>\n",
       "      <td>13</td>\n",
       "      <td>20</td>\n",
       "      <td>0.473999</td>\n",
       "      <td>4</td>\n",
       "      <td>10.1</td>\n",
       "    </tr>\n",
       "    <tr>\n",
       "      <th>Idaho</th>\n",
       "      <td>13</td>\n",
       "      <td>6</td>\n",
       "      <td>19</td>\n",
       "      <td>0.465324</td>\n",
       "      <td>4</td>\n",
       "      <td>10.1</td>\n",
       "    </tr>\n",
       "    <tr>\n",
       "      <th>Illinois</th>\n",
       "      <td>406</td>\n",
       "      <td>2270</td>\n",
       "      <td>2676</td>\n",
       "      <td>0.481909</td>\n",
       "      <td>524</td>\n",
       "      <td>11.6</td>\n",
       "    </tr>\n",
       "    <tr>\n",
       "      <th>Indiana</th>\n",
       "      <td>128</td>\n",
       "      <td>494</td>\n",
       "      <td>622</td>\n",
       "      <td>0.459226</td>\n",
       "      <td>119</td>\n",
       "      <td>12.3</td>\n",
       "    </tr>\n",
       "    <tr>\n",
       "      <th>Iowa</th>\n",
       "      <td>18</td>\n",
       "      <td>90</td>\n",
       "      <td>108</td>\n",
       "      <td>0.455461</td>\n",
       "      <td>21</td>\n",
       "      <td>11.3</td>\n",
       "    </tr>\n",
       "    <tr>\n",
       "      <th>Kansas</th>\n",
       "      <td>42</td>\n",
       "      <td>111</td>\n",
       "      <td>153</td>\n",
       "      <td>0.460635</td>\n",
       "      <td>28</td>\n",
       "      <td>11.2</td>\n",
       "    </tr>\n",
       "    <tr>\n",
       "      <th>Kentucky</th>\n",
       "      <td>72</td>\n",
       "      <td>291</td>\n",
       "      <td>363</td>\n",
       "      <td>0.479301</td>\n",
       "      <td>70</td>\n",
       "      <td>16.4</td>\n",
       "    </tr>\n",
       "    <tr>\n",
       "      <th>Louisiana</th>\n",
       "      <td>199</td>\n",
       "      <td>1103</td>\n",
       "      <td>1302</td>\n",
       "      <td>0.492007</td>\n",
       "      <td>249</td>\n",
       "      <td>18.9</td>\n",
       "    </tr>\n",
       "    <tr>\n",
       "      <th>Maine</th>\n",
       "      <td>38</td>\n",
       "      <td>20</td>\n",
       "      <td>58</td>\n",
       "      <td>0.462933</td>\n",
       "      <td>6</td>\n",
       "      <td>10.4</td>\n",
       "    </tr>\n",
       "    <tr>\n",
       "      <th>Maryland</th>\n",
       "      <td>143</td>\n",
       "      <td>610</td>\n",
       "      <td>753</td>\n",
       "      <td>0.461507</td>\n",
       "      <td>154</td>\n",
       "      <td>9.5</td>\n",
       "    </tr>\n",
       "    <tr>\n",
       "      <th>Massachusetts</th>\n",
       "      <td>24</td>\n",
       "      <td>215</td>\n",
       "      <td>239</td>\n",
       "      <td>0.485066</td>\n",
       "      <td>48</td>\n",
       "      <td>10.4</td>\n",
       "    </tr>\n",
       "    <tr>\n",
       "      <th>Michigan</th>\n",
       "      <td>158</td>\n",
       "      <td>667</td>\n",
       "      <td>825</td>\n",
       "      <td>0.470506</td>\n",
       "      <td>165</td>\n",
       "      <td>13.5</td>\n",
       "    </tr>\n",
       "    <tr>\n",
       "      <th>Minnesota</th>\n",
       "      <td>72</td>\n",
       "      <td>348</td>\n",
       "      <td>420</td>\n",
       "      <td>0.460374</td>\n",
       "      <td>78</td>\n",
       "      <td>9.3</td>\n",
       "    </tr>\n",
       "    <tr>\n",
       "      <th>Mississippi</th>\n",
       "      <td>150</td>\n",
       "      <td>590</td>\n",
       "      <td>740</td>\n",
       "      <td>0.481991</td>\n",
       "      <td>138</td>\n",
       "      <td>18.0</td>\n",
       "    </tr>\n",
       "    <tr>\n",
       "      <th>Missouri</th>\n",
       "      <td>187</td>\n",
       "      <td>665</td>\n",
       "      <td>852</td>\n",
       "      <td>0.469922</td>\n",
       "      <td>170</td>\n",
       "      <td>12.0</td>\n",
       "    </tr>\n",
       "    <tr>\n",
       "      <th>Montana</th>\n",
       "      <td>17</td>\n",
       "      <td>6</td>\n",
       "      <td>23</td>\n",
       "      <td>0.463440</td>\n",
       "      <td>5</td>\n",
       "      <td>11.7</td>\n",
       "    </tr>\n",
       "    <tr>\n",
       "      <th>Nebraska</th>\n",
       "      <td>18</td>\n",
       "      <td>91</td>\n",
       "      <td>109</td>\n",
       "      <td>0.461205</td>\n",
       "      <td>20</td>\n",
       "      <td>10.5</td>\n",
       "    </tr>\n",
       "    <tr>\n",
       "      <th>Nevada</th>\n",
       "      <td>115</td>\n",
       "      <td>606</td>\n",
       "      <td>721</td>\n",
       "      <td>0.467841</td>\n",
       "      <td>43</td>\n",
       "      <td>12.0</td>\n",
       "    </tr>\n",
       "    <tr>\n",
       "      <th>New Hampshire</th>\n",
       "      <td>0</td>\n",
       "      <td>8</td>\n",
       "      <td>8</td>\n",
       "      <td>0.439700</td>\n",
       "      <td>2</td>\n",
       "      <td>7.2</td>\n",
       "    </tr>\n",
       "    <tr>\n",
       "      <th>New Jersey</th>\n",
       "      <td>73</td>\n",
       "      <td>470</td>\n",
       "      <td>543</td>\n",
       "      <td>0.481426</td>\n",
       "      <td>112</td>\n",
       "      <td>9.7</td>\n",
       "    </tr>\n",
       "    <tr>\n",
       "      <th>New Mexico</th>\n",
       "      <td>55</td>\n",
       "      <td>101</td>\n",
       "      <td>156</td>\n",
       "      <td>0.479678</td>\n",
       "      <td>28</td>\n",
       "      <td>17.8</td>\n",
       "    </tr>\n",
       "    <tr>\n",
       "      <th>New York</th>\n",
       "      <td>136</td>\n",
       "      <td>997</td>\n",
       "      <td>1133</td>\n",
       "      <td>0.505783</td>\n",
       "      <td>231</td>\n",
       "      <td>14.2</td>\n",
       "    </tr>\n",
       "    <tr>\n",
       "      <th>North Carolina</th>\n",
       "      <td>189</td>\n",
       "      <td>639</td>\n",
       "      <td>828</td>\n",
       "      <td>0.477614</td>\n",
       "      <td>170</td>\n",
       "      <td>12.8</td>\n",
       "    </tr>\n",
       "    <tr>\n",
       "      <th>North Dakota</th>\n",
       "      <td>2</td>\n",
       "      <td>3</td>\n",
       "      <td>5</td>\n",
       "      <td>0.445100</td>\n",
       "      <td>1</td>\n",
       "      <td>9.8</td>\n",
       "    </tr>\n",
       "    <tr>\n",
       "      <th>Ohio</th>\n",
       "      <td>227</td>\n",
       "      <td>932</td>\n",
       "      <td>1159</td>\n",
       "      <td>0.470908</td>\n",
       "      <td>219</td>\n",
       "      <td>13.3</td>\n",
       "    </tr>\n",
       "    <tr>\n",
       "      <th>Oklahoma</th>\n",
       "      <td>72</td>\n",
       "      <td>185</td>\n",
       "      <td>257</td>\n",
       "      <td>0.474365</td>\n",
       "      <td>50</td>\n",
       "      <td>15.9</td>\n",
       "    </tr>\n",
       "    <tr>\n",
       "      <th>Oregon</th>\n",
       "      <td>31</td>\n",
       "      <td>107</td>\n",
       "      <td>138</td>\n",
       "      <td>0.465373</td>\n",
       "      <td>26</td>\n",
       "      <td>12.2</td>\n",
       "    </tr>\n",
       "    <tr>\n",
       "      <th>Pennsylvania</th>\n",
       "      <td>235</td>\n",
       "      <td>1112</td>\n",
       "      <td>1347</td>\n",
       "      <td>0.476570</td>\n",
       "      <td>271</td>\n",
       "      <td>12.0</td>\n",
       "    </tr>\n",
       "    <tr>\n",
       "      <th>Rhode Island</th>\n",
       "      <td>0</td>\n",
       "      <td>22</td>\n",
       "      <td>22</td>\n",
       "      <td>0.472300</td>\n",
       "      <td>4</td>\n",
       "      <td>10.8</td>\n",
       "    </tr>\n",
       "    <tr>\n",
       "      <th>South Carolina</th>\n",
       "      <td>146</td>\n",
       "      <td>562</td>\n",
       "      <td>708</td>\n",
       "      <td>0.476115</td>\n",
       "      <td>132</td>\n",
       "      <td>13.9</td>\n",
       "    </tr>\n",
       "    <tr>\n",
       "      <th>South Dakota</th>\n",
       "      <td>18</td>\n",
       "      <td>11</td>\n",
       "      <td>29</td>\n",
       "      <td>0.465099</td>\n",
       "      <td>6</td>\n",
       "      <td>11.8</td>\n",
       "    </tr>\n",
       "    <tr>\n",
       "      <th>Tennessee</th>\n",
       "      <td>169</td>\n",
       "      <td>741</td>\n",
       "      <td>910</td>\n",
       "      <td>0.478809</td>\n",
       "      <td>177</td>\n",
       "      <td>14.0</td>\n",
       "    </tr>\n",
       "    <tr>\n",
       "      <th>Texas</th>\n",
       "      <td>596</td>\n",
       "      <td>1614</td>\n",
       "      <td>2210</td>\n",
       "      <td>0.479647</td>\n",
       "      <td>387</td>\n",
       "      <td>13.7</td>\n",
       "    </tr>\n",
       "    <tr>\n",
       "      <th>Utah</th>\n",
       "      <td>30</td>\n",
       "      <td>34</td>\n",
       "      <td>64</td>\n",
       "      <td>0.447790</td>\n",
       "      <td>11</td>\n",
       "      <td>9.0</td>\n",
       "    </tr>\n",
       "    <tr>\n",
       "      <th>Vermont</th>\n",
       "      <td>4</td>\n",
       "      <td>0</td>\n",
       "      <td>4</td>\n",
       "      <td>0.445200</td>\n",
       "      <td>1</td>\n",
       "      <td>9.7</td>\n",
       "    </tr>\n",
       "    <tr>\n",
       "      <th>Virginia</th>\n",
       "      <td>132</td>\n",
       "      <td>491</td>\n",
       "      <td>623</td>\n",
       "      <td>0.474145</td>\n",
       "      <td>125</td>\n",
       "      <td>10.2</td>\n",
       "    </tr>\n",
       "    <tr>\n",
       "      <th>Washington</th>\n",
       "      <td>103</td>\n",
       "      <td>257</td>\n",
       "      <td>360</td>\n",
       "      <td>0.469523</td>\n",
       "      <td>73</td>\n",
       "      <td>10.3</td>\n",
       "    </tr>\n",
       "    <tr>\n",
       "      <th>West Virginia</th>\n",
       "      <td>17</td>\n",
       "      <td>26</td>\n",
       "      <td>43</td>\n",
       "      <td>0.480898</td>\n",
       "      <td>9</td>\n",
       "      <td>16.7</td>\n",
       "    </tr>\n",
       "    <tr>\n",
       "      <th>Wisconsin</th>\n",
       "      <td>76</td>\n",
       "      <td>311</td>\n",
       "      <td>387</td>\n",
       "      <td>0.457556</td>\n",
       "      <td>74</td>\n",
       "      <td>10.7</td>\n",
       "    </tr>\n",
       "    <tr>\n",
       "      <th>Wyoming</th>\n",
       "      <td>7</td>\n",
       "      <td>2</td>\n",
       "      <td>9</td>\n",
       "      <td>0.458049</td>\n",
       "      <td>2</td>\n",
       "      <td>11.3</td>\n",
       "    </tr>\n",
       "  </tbody>\n",
       "</table>\n",
       "<p>520 rows × 9 columns</p>\n",
       "</div>"
      ],
      "text/plain": [
       "     year          State  Population_25plus  Without Min Studies  \\\n",
       "0    2014        Alabama            3256766                48873   \n",
       "1    2014         Alaska             465149                 4144   \n",
       "2    2014        Arizona            4436226                77042   \n",
       "3    2014       Arkansas            1968414                25814   \n",
       "4    2014     California           25654292               814956   \n",
       "..    ...            ...                ...                  ...   \n",
       "515  2024     Washington            5631460               105363   \n",
       "516  2024  West Virginia            1268689                14987   \n",
       "517  2024      Wisconsin            4172638                48054   \n",
       "518  2024        Wyoming             409344                 4684   \n",
       "519  2024    Puerto Rico            2428065                65652   \n",
       "\n",
       "     High_School_Graduate  Bachelor_Degree  Master_Degree  Doctorate_Degree  \\\n",
       "0                  847523           478058         201391             33082   \n",
       "1                  108523            85634          33103              4304   \n",
       "2                  899108           765784         328400             53578   \n",
       "3                  568437           272411         104636             19380   \n",
       "4                 4768478          5120162        2035257            394265   \n",
       "..                    ...              ...            ...               ...   \n",
       "515                975478          1372926         683345            113323   \n",
       "516                420214           187714          88027             13183   \n",
       "517               1057997           943201         362471             61628   \n",
       "518                 90634            82918          35122              8475   \n",
       "519                622833           506436         151031             32445   \n",
       "\n",
       "     Total_Population  \n",
       "0             4849377  \n",
       "1              736732  \n",
       "2             6731484  \n",
       "3             2966369  \n",
       "4            38802500  \n",
       "..                ...  \n",
       "515           7958180  \n",
       "516           1769979  \n",
       "517           5960975  \n",
       "518            587618  \n",
       "519           3203295  \n",
       "\n",
       "[520 rows x 9 columns]"
      ]
     },
     "execution_count": 266,
       "                      killed  injured  total_victims  gini_coefficient  \\\n",
       "state                                                                    \n",
       "Alabama                  163      635            798          0.481598   \n",
       "Alaska                     8       20             28          0.464265   \n",
       "Arizona                   88      246            334          0.468690   \n",
       "Arkansas                  67      297            364          0.478161   \n",
       "California               552     1873           2425          0.488129   \n",
       "Colorado                 117      345            462          0.463406   \n",
       "Connecticut               15      154            169          0.491554   \n",
       "Delaware                  13       81             94          0.462499   \n",
       "District of Columbia      56      392            448          0.512948   \n",
       "Florida                  392     1336           1728          0.484848   \n",
       "Georgia                  232      897           1129          0.479579   \n",
       "Hawaii                     7       13             20          0.473999   \n",
       "Idaho                     13        6             19          0.465324   \n",
       "Illinois                 406     2270           2676          0.481909   \n",
       "Indiana                  128      494            622          0.459226   \n",
       "Iowa                      18       90            108          0.455461   \n",
       "Kansas                    42      111            153          0.460635   \n",
       "Kentucky                  72      291            363          0.479301   \n",
       "Louisiana                199     1103           1302          0.492007   \n",
       "Maine                     38       20             58          0.462933   \n",
       "Maryland                 143      610            753          0.461507   \n",
       "Massachusetts             24      215            239          0.485066   \n",
       "Michigan                 158      667            825          0.470506   \n",
       "Minnesota                 72      348            420          0.460374   \n",
       "Mississippi              150      590            740          0.481991   \n",
       "Missouri                 187      665            852          0.469922   \n",
       "Montana                   17        6             23          0.463440   \n",
       "Nebraska                  18       91            109          0.461205   \n",
       "Nevada                   115      606            721          0.467841   \n",
       "New Hampshire              0        8              8          0.439700   \n",
       "New Jersey                73      470            543          0.481426   \n",
       "New Mexico                55      101            156          0.479678   \n",
       "New York                 136      997           1133          0.505783   \n",
       "North Carolina           189      639            828          0.477614   \n",
       "North Dakota               2        3              5          0.445100   \n",
       "Ohio                     227      932           1159          0.470908   \n",
       "Oklahoma                  72      185            257          0.474365   \n",
       "Oregon                    31      107            138          0.465373   \n",
       "Pennsylvania             235     1112           1347          0.476570   \n",
       "Rhode Island               0       22             22          0.472300   \n",
       "South Carolina           146      562            708          0.476115   \n",
       "South Dakota              18       11             29          0.465099   \n",
       "Tennessee                169      741            910          0.478809   \n",
       "Texas                    596     1614           2210          0.479647   \n",
       "Utah                      30       34             64          0.447790   \n",
       "Vermont                    4        0              4          0.445200   \n",
       "Virginia                 132      491            623          0.474145   \n",
       "Washington               103      257            360          0.469523   \n",
       "West Virginia             17       26             43          0.480898   \n",
       "Wisconsin                 76      311            387          0.457556   \n",
       "Wyoming                    7        2              9          0.458049   \n",
       "\n",
       "                      mass_shootings_count  poverty_rate_2025  \n",
       "state                                                          \n",
       "Alabama                                145               15.6  \n",
       "Alaska                                   6               10.4  \n",
       "Arizona                                 61               12.4  \n",
       "Arkansas                                62               15.7  \n",
       "California                             471               12.0  \n",
       "Colorado                                87                9.3  \n",
       "Connecticut                             35               10.3  \n",
       "Delaware                                21               10.5  \n",
       "District of Columbia                    90               14.0  \n",
       "Florida                                308               12.3  \n",
       "Georgia                                225               13.6  \n",
       "Hawaii                                   4               10.1  \n",
       "Idaho                                    4               10.1  \n",
       "Illinois                               524               11.6  \n",
       "Indiana                                119               12.3  \n",
       "Iowa                                    21               11.3  \n",
       "Kansas                                  28               11.2  \n",
       "Kentucky                                70               16.4  \n",
       "Louisiana                              249               18.9  \n",
       "Maine                                    6               10.4  \n",
       "Maryland                               154                9.5  \n",
       "Massachusetts                           48               10.4  \n",
       "Michigan                               165               13.5  \n",
       "Minnesota                               78                9.3  \n",
       "Mississippi                            138               18.0  \n",
       "Missouri                               170               12.0  \n",
       "Montana                                  5               11.7  \n",
       "Nebraska                                20               10.5  \n",
       "Nevada                                  43               12.0  \n",
       "New Hampshire                            2                7.2  \n",
       "New Jersey                             112                9.7  \n",
       "New Mexico                              28               17.8  \n",
       "New York                               231               14.2  \n",
       "North Carolina                         170               12.8  \n",
       "North Dakota                             1                9.8  \n",
       "Ohio                                   219               13.3  \n",
       "Oklahoma                                50               15.9  \n",
       "Oregon                                  26               12.2  \n",
       "Pennsylvania                           271               12.0  \n",
       "Rhode Island                             4               10.8  \n",
       "South Carolina                         132               13.9  \n",
       "South Dakota                             6               11.8  \n",
       "Tennessee                              177               14.0  \n",
       "Texas                                  387               13.7  \n",
       "Utah                                    11                9.0  \n",
       "Vermont                                  1                9.7  \n",
       "Virginia                               125               10.2  \n",
       "Washington                              73               10.3  \n",
       "West Virginia                            9               16.7  \n",
       "Wisconsin                               74               10.7  \n",
       "Wyoming                                  2               11.3  "
      ]
     },
     "execution_count": 38,
     "metadata": {},
     "output_type": "execute_result"
    }
   ],
   "source": [
    "frames=[]\n",
    "for year in years:\n",
    "    edu=get_edu(year)\n",
    "    pop=total_pop(year)\n",
    "    if not edu.empty and not pop.empty:\n",
    "        merged_edu=pd.merge(edu,pop, on=[\"year\",\"State\"],how=\"left\")\n",
    "        frames.append(merged_edu)\n",
    "df_eduPop=pd.concat(frames,ignore_index=True)\n",
    "df_eduPop.drop(columns=[\"State_Code\"],inplace=True)\n",
    "df_eduPop"
   ]
  },
  {
   "cell_type": "code",
   "execution_count": 267,
   "id": "e47094e2",
   "metadata": {},
   "outputs": [
    {
     "data": {
      "text/html": [
       "<div>\n",
       "<style scoped>\n",
       "    .dataframe tbody tr th:only-of-type {\n",
       "        vertical-align: middle;\n",
       "    }\n",
       "\n",
       "    .dataframe tbody tr th {\n",
       "        vertical-align: top;\n",
       "    }\n",
       "\n",
       "    .dataframe thead th {\n",
       "        text-align: right;\n",
       "    }\n",
       "</style>\n",
       "<table border=\"1\" class=\"dataframe\">\n",
       "  <thead>\n",
       "    <tr style=\"text-align: right;\">\n",
       "      <th></th>\n",
       "      <th>year</th>\n",
       "      <th>State</th>\n",
       "      <th>Population_25plus</th>\n",
       "      <th>Without Min Studies</th>\n",
       "      <th>High_School_Graduate</th>\n",
       "      <th>Bachelor_Degree</th>\n",
       "      <th>Master_Degree</th>\n",
       "      <th>Doctorate_Degree</th>\n",
       "      <th>incident_time</th>\n",
       "      <th>city_or_county</th>\n",
       "      <th>killed</th>\n",
       "      <th>injured</th>\n",
       "      <th>victims_killed</th>\n",
       "      <th>victims_injured</th>\n",
       "      <th>suspects_killed</th>\n",
       "      <th>suspects_injured</th>\n",
       "      <th>suspects_arrested</th>\n",
       "      <th>incident_characteristics</th>\n",
       "    </tr>\n",
       "  </thead>\n",
       "  <tbody>\n",
       "    <tr>\n",
       "      <th>0</th>\n",
       "      <td>2014</td>\n",
       "      <td>Alabama</td>\n",
       "      <td>3256766</td>\n",
       "      <td>48873</td>\n",
       "      <td>847523</td>\n",
       "      <td>478058</td>\n",
       "      <td>201391</td>\n",
       "      <td>33082</td>\n",
       "      <td>NaN</td>\n",
       "      <td>Huntsville</td>\n",
       "      <td>0</td>\n",
       "      <td>5</td>\n",
       "      <td>0</td>\n",
       "      <td>5</td>\n",
       "      <td>0</td>\n",
       "      <td>0</td>\n",
       "      <td>0</td>\n",
       "      <td>Shot - Wounded/Injured, Mass Shooting (4+ vict...</td>\n",
       "    </tr>\n",
       "    <tr>\n",
       "      <th>1</th>\n",
       "      <td>2014</td>\n",
       "      <td>Alabama</td>\n",
       "      <td>3256766</td>\n",
       "      <td>48873</td>\n",
       "      <td>847523</td>\n",
       "      <td>478058</td>\n",
       "      <td>201391</td>\n",
       "      <td>33082</td>\n",
       "      <td>NaN</td>\n",
       "      <td>Opp</td>\n",
       "      <td>1</td>\n",
       "      <td>4</td>\n",
       "      <td>1</td>\n",
       "      <td>4</td>\n",
       "      <td>0</td>\n",
       "      <td>0</td>\n",
       "      <td>1</td>\n",
       "      <td>Shot - Wounded/Injured, Shot - Dead (murder, a...</td>\n",
       "    </tr>\n",
       "    <tr>\n",
       "      <th>2</th>\n",
       "      <td>2014</td>\n",
       "      <td>Alaska</td>\n",
       "      <td>465149</td>\n",
       "      <td>4144</td>\n",
       "      <td>108523</td>\n",
       "      <td>85634</td>\n",
       "      <td>33103</td>\n",
       "      <td>4304</td>\n",
       "      <td>NaN</td>\n",
       "      <td>Anchorage</td>\n",
       "      <td>0</td>\n",
       "      <td>6</td>\n",
       "      <td>0</td>\n",
       "      <td>6</td>\n",
       "      <td>0</td>\n",
       "      <td>0</td>\n",
       "      <td>0</td>\n",
       "      <td>Shot - Wounded/Injured, Mass Shooting (4+ vict...</td>\n",
       "    </tr>\n",
       "    <tr>\n",
       "      <th>3</th>\n",
       "      <td>2014</td>\n",
       "      <td>Arizona</td>\n",
       "      <td>4436226</td>\n",
       "      <td>77042</td>\n",
       "      <td>899108</td>\n",
       "      <td>765784</td>\n",
       "      <td>328400</td>\n",
       "      <td>53578</td>\n",
       "      <td>2:00 AM</td>\n",
       "      <td>Phoenix</td>\n",
       "      <td>1</td>\n",
       "      <td>3</td>\n",
       "      <td>1</td>\n",
       "      <td>3</td>\n",
       "      <td>0</td>\n",
       "      <td>0</td>\n",
       "      <td>0</td>\n",
       "      <td>Shot - Wounded/Injured, Shot - Dead (murder, a...</td>\n",
       "    </tr>\n",
       "    <tr>\n",
       "      <th>4</th>\n",
       "      <td>2014</td>\n",
       "      <td>Arkansas</td>\n",
       "      <td>1968414</td>\n",
       "      <td>25814</td>\n",
       "      <td>568437</td>\n",
       "      <td>272411</td>\n",
       "      <td>104636</td>\n",
       "      <td>19380</td>\n",
       "      <td>11:26 PM</td>\n",
       "      <td>Pine Bluff</td>\n",
       "      <td>1</td>\n",
       "      <td>3</td>\n",
       "      <td>1</td>\n",
       "      <td>3</td>\n",
       "      <td>0</td>\n",
       "      <td>0</td>\n",
       "      <td>0</td>\n",
       "      <td>Shot - Wounded/Injured, Shot - Dead (murder, a...</td>\n",
       "    </tr>\n",
       "    <tr>\n",
       "      <th>...</th>\n",
       "      <td>...</td>\n",
       "      <td>...</td>\n",
       "      <td>...</td>\n",
       "      <td>...</td>\n",
       "      <td>...</td>\n",
       "      <td>...</td>\n",
       "      <td>...</td>\n",
       "      <td>...</td>\n",
       "      <td>...</td>\n",
       "      <td>...</td>\n",
       "      <td>...</td>\n",
       "      <td>...</td>\n",
       "      <td>...</td>\n",
       "      <td>...</td>\n",
       "      <td>...</td>\n",
       "      <td>...</td>\n",
       "      <td>...</td>\n",
       "      <td>...</td>\n",
       "    </tr>\n",
       "    <tr>\n",
       "      <th>4568</th>\n",
       "      <td>2024</td>\n",
       "      <td>Wisconsin</td>\n",
       "      <td>4172638</td>\n",
       "      <td>48054</td>\n",
       "      <td>1057997</td>\n",
       "      <td>943201</td>\n",
       "      <td>362471</td>\n",
       "      <td>61628</td>\n",
       "      <td>12:30 AM</td>\n",
       "      <td>Milwaukee</td>\n",
       "      <td>1</td>\n",
       "      <td>8</td>\n",
       "      <td>1</td>\n",
       "      <td>8</td>\n",
       "      <td>0</td>\n",
       "      <td>0</td>\n",
       "      <td>1</td>\n",
       "      <td>Shot - Wounded/Injured, Shot - Dead (murder, a...</td>\n",
       "    </tr>\n",
       "    <tr>\n",
       "      <th>4569</th>\n",
       "      <td>2024</td>\n",
       "      <td>Wisconsin</td>\n",
       "      <td>4172638</td>\n",
       "      <td>48054</td>\n",
       "      <td>1057997</td>\n",
       "      <td>943201</td>\n",
       "      <td>362471</td>\n",
       "      <td>61628</td>\n",
       "      <td>5:00 AM</td>\n",
       "      <td>Milwaukee</td>\n",
       "      <td>0</td>\n",
       "      <td>5</td>\n",
       "      <td>0</td>\n",
       "      <td>5</td>\n",
       "      <td>0</td>\n",
       "      <td>0</td>\n",
       "      <td>0</td>\n",
       "      <td>Shot - Wounded/Injured, Mass Shooting (4+ vict...</td>\n",
       "    </tr>\n",
       "    <tr>\n",
       "      <th>4570</th>\n",
       "      <td>2024</td>\n",
       "      <td>Wisconsin</td>\n",
       "      <td>4172638</td>\n",
       "      <td>48054</td>\n",
       "      <td>1057997</td>\n",
       "      <td>943201</td>\n",
       "      <td>362471</td>\n",
       "      <td>61628</td>\n",
       "      <td>1:30 AM</td>\n",
       "      <td>Milwaukee</td>\n",
       "      <td>0</td>\n",
       "      <td>4</td>\n",
       "      <td>0</td>\n",
       "      <td>4</td>\n",
       "      <td>0</td>\n",
       "      <td>0</td>\n",
       "      <td>0</td>\n",
       "      <td>Shot - Wounded/Injured, Mass Shooting (4+ vict...</td>\n",
       "    </tr>\n",
       "    <tr>\n",
       "      <th>4571</th>\n",
       "      <td>2024</td>\n",
       "      <td>Wisconsin</td>\n",
       "      <td>4172638</td>\n",
       "      <td>48054</td>\n",
       "      <td>1057997</td>\n",
       "      <td>943201</td>\n",
       "      <td>362471</td>\n",
       "      <td>61628</td>\n",
       "      <td>2:25 PM</td>\n",
       "      <td>Milwaukee</td>\n",
       "      <td>0</td>\n",
       "      <td>4</td>\n",
       "      <td>0</td>\n",
       "      <td>4</td>\n",
       "      <td>0</td>\n",
       "      <td>0</td>\n",
       "      <td>2</td>\n",
       "      <td>Shot - Wounded/Injured, Child Involved Inciden...</td>\n",
       "    </tr>\n",
       "    <tr>\n",
       "      <th>4572</th>\n",
       "      <td>2024</td>\n",
       "      <td>Wisconsin</td>\n",
       "      <td>4172638</td>\n",
       "      <td>48054</td>\n",
       "      <td>1057997</td>\n",
       "      <td>943201</td>\n",
       "      <td>362471</td>\n",
       "      <td>61628</td>\n",
       "      <td>12:45 AM</td>\n",
       "      <td>Madison</td>\n",
       "      <td>0</td>\n",
       "      <td>12</td>\n",
       "      <td>0</td>\n",
       "      <td>12</td>\n",
       "      <td>0</td>\n",
       "      <td>0</td>\n",
       "      <td>1</td>\n",
       "      <td>Shot - Wounded/Injured, Mass Shooting (4+ vict...</td>\n",
       "    </tr>\n",
       "  </tbody>\n",
       "</table>\n",
       "<p>4573 rows × 18 columns</p>\n",
       "</div>"
      ],
      "text/plain": [
       "      year      State  Population_25plus  Without Min Studies  \\\n",
       "0     2014    Alabama            3256766                48873   \n",
       "1     2014    Alabama            3256766                48873   \n",
       "2     2014     Alaska             465149                 4144   \n",
       "3     2014    Arizona            4436226                77042   \n",
       "4     2014   Arkansas            1968414                25814   \n",
       "...    ...        ...                ...                  ...   \n",
       "4568  2024  Wisconsin            4172638                48054   \n",
       "4569  2024  Wisconsin            4172638                48054   \n",
       "4570  2024  Wisconsin            4172638                48054   \n",
       "4571  2024  Wisconsin            4172638                48054   \n",
       "4572  2024  Wisconsin            4172638                48054   \n",
       "\n",
       "      High_School_Graduate  Bachelor_Degree  Master_Degree  Doctorate_Degree  \\\n",
       "0                   847523           478058         201391             33082   \n",
       "1                   847523           478058         201391             33082   \n",
       "2                   108523            85634          33103              4304   \n",
       "3                   899108           765784         328400             53578   \n",
       "4                   568437           272411         104636             19380   \n",
       "...                    ...              ...            ...               ...   \n",
       "4568               1057997           943201         362471             61628   \n",
       "4569               1057997           943201         362471             61628   \n",
       "4570               1057997           943201         362471             61628   \n",
       "4571               1057997           943201         362471             61628   \n",
       "4572               1057997           943201         362471             61628   \n",
       "\n",
       "     incident_time city_or_county  killed  injured  victims_killed  \\\n",
       "0              NaN     Huntsville       0        5               0   \n",
       "1              NaN            Opp       1        4               1   \n",
       "2              NaN      Anchorage       0        6               0   \n",
       "3          2:00 AM        Phoenix       1        3               1   \n",
       "4         11:26 PM     Pine Bluff       1        3               1   \n",
       "...            ...            ...     ...      ...             ...   \n",
       "4568      12:30 AM      Milwaukee       1        8               1   \n",
       "4569       5:00 AM      Milwaukee       0        5               0   \n",
       "4570       1:30 AM      Milwaukee       0        4               0   \n",
       "4571       2:25 PM      Milwaukee       0        4               0   \n",
       "4572      12:45 AM        Madison       0       12               0   \n",
       "\n",
       "      victims_injured  suspects_killed  suspects_injured  suspects_arrested  \\\n",
       "0                   5                0                 0                  0   \n",
       "1                   4                0                 0                  1   \n",
       "2                   6                0                 0                  0   \n",
       "3                   3                0                 0                  0   \n",
       "4                   3                0                 0                  0   \n",
       "...               ...              ...               ...                ...   \n",
       "4568                8                0                 0                  1   \n",
       "4569                5                0                 0                  0   \n",
       "4570                4                0                 0                  0   \n",
       "4571                4                0                 0                  2   \n",
       "4572               12                0                 0                  1   \n",
       "\n",
       "                               incident_characteristics  \n",
       "0     Shot - Wounded/Injured, Mass Shooting (4+ vict...  \n",
       "1     Shot - Wounded/Injured, Shot - Dead (murder, a...  \n",
       "2     Shot - Wounded/Injured, Mass Shooting (4+ vict...  \n",
       "3     Shot - Wounded/Injured, Shot - Dead (murder, a...  \n",
       "4     Shot - Wounded/Injured, Shot - Dead (murder, a...  \n",
       "...                                                 ...  \n",
       "4568  Shot - Wounded/Injured, Shot - Dead (murder, a...  \n",
       "4569  Shot - Wounded/Injured, Mass Shooting (4+ vict...  \n",
       "4570  Shot - Wounded/Injured, Mass Shooting (4+ vict...  \n",
       "4571  Shot - Wounded/Injured, Child Involved Inciden...  \n",
       "4572  Shot - Wounded/Injured, Mass Shooting (4+ vict...  \n",
       "\n",
       "[4573 rows x 18 columns]"
      ]
     },
     "execution_count": 267,
     "metadata": {},
     "output_type": "execute_result"
    }
   ],
   "source": [
    "df_eduShoothing=pd.merge(df_edu,df,on=[\"year\",\"State\"])\n",
    "df_eduShoothing.drop(columns=[\"sources\",\"date_fixed\",\"incident_date\",\"incident_id\",\"updated_date\",\"business_location_name\",\"longitude\",\"latitude\",\"address\"],inplace=True)\n",
    "df_eduShoothing"
   ]
  },
  {
   "cell_type": "code",
   "execution_count": 268,
   "id": "4ee2067b",
   "metadata": {},
   "outputs": [
    {
     "data": {
      "text/html": [
       "<div>\n",
       "<style scoped>\n",
       "    .dataframe tbody tr th:only-of-type {\n",
       "        vertical-align: middle;\n",
       "    }\n",
       "\n",
       "    .dataframe tbody tr th {\n",
       "        vertical-align: top;\n",
       "    }\n",
       "\n",
       "    .dataframe thead th {\n",
       "        text-align: right;\n",
       "    }\n",
       "</style>\n",
       "<table border=\"1\" class=\"dataframe\">\n",
       "  <thead>\n",
       "    <tr style=\"text-align: right;\">\n",
       "      <th></th>\n",
       "      <th>year</th>\n",
       "      <th>State</th>\n",
       "      <th>incident_count</th>\n",
       "    </tr>\n",
       "  </thead>\n",
       "  <tbody>\n",
       "    <tr>\n",
       "      <th>290</th>\n",
       "      <td>2021</td>\n",
       "      <td>Illinois</td>\n",
       "      <td>86</td>\n",
       "    </tr>\n",
       "    <tr>\n",
       "      <th>246</th>\n",
       "      <td>2020</td>\n",
       "      <td>Illinois</td>\n",
       "      <td>68</td>\n",
       "    </tr>\n",
       "    <tr>\n",
       "      <th>400</th>\n",
       "      <td>2023</td>\n",
       "      <td>Texas</td>\n",
       "      <td>65</td>\n",
       "    </tr>\n",
       "    <tr>\n",
       "      <th>333</th>\n",
       "      <td>2022</td>\n",
       "      <td>Illinois</td>\n",
       "      <td>58</td>\n",
       "    </tr>\n",
       "    <tr>\n",
       "      <th>317</th>\n",
       "      <td>2021</td>\n",
       "      <td>Texas</td>\n",
       "      <td>57</td>\n",
       "    </tr>\n",
       "    <tr>\n",
       "      <th>...</th>\n",
       "      <td>...</td>\n",
       "      <td>...</td>\n",
       "      <td>...</td>\n",
       "    </tr>\n",
       "    <tr>\n",
       "      <th>2</th>\n",
       "      <td>2014</td>\n",
       "      <td>Arizona</td>\n",
       "      <td>1</td>\n",
       "    </tr>\n",
       "    <tr>\n",
       "      <th>1</th>\n",
       "      <td>2014</td>\n",
       "      <td>Alaska</td>\n",
       "      <td>1</td>\n",
       "    </tr>\n",
       "    <tr>\n",
       "      <th>485</th>\n",
       "      <td>2025</td>\n",
       "      <td>Utah</td>\n",
       "      <td>1</td>\n",
       "    </tr>\n",
       "    <tr>\n",
       "      <th>488</th>\n",
       "      <td>2025</td>\n",
       "      <td>West Virginia</td>\n",
       "      <td>1</td>\n",
       "    </tr>\n",
       "    <tr>\n",
       "      <th>490</th>\n",
       "      <td>2025</td>\n",
       "      <td>Wyoming</td>\n",
       "      <td>1</td>\n",
       "    </tr>\n",
       "  </tbody>\n",
       "</table>\n",
       "<p>491 rows × 3 columns</p>\n",
       "</div>"
      ],
      "text/plain": [
       "     year          State  incident_count\n",
       "290  2021       Illinois              86\n",
       "246  2020       Illinois              68\n",
       "400  2023          Texas              65\n",
       "333  2022       Illinois              58\n",
       "317  2021          Texas              57\n",
       "..    ...            ...             ...\n",
       "2    2014        Arizona               1\n",
       "1    2014         Alaska               1\n",
       "485  2025           Utah               1\n",
       "488  2025  West Virginia               1\n",
       "490  2025        Wyoming               1\n",
       "\n",
       "[491 rows x 3 columns]"
      ]
     },
     "execution_count": 268,
     "metadata": {},
     "output_type": "execute_result"
    }
   ],
   "source": [
    "incidents_by_state = (\n",
    "    df.groupby([\"year\", \"State\"])\n",
    "      .size()\n",
    "      .reset_index(name=\"incident_count\")\n",
    ")\n",
    "incidents_by_state= incidents_by_state.sort_values(by=\"incident_count\",ascending=False)\n",
    "\n",
    "top_20=incidents_by_state\n",
    "top_20"
   ]
  },
  {
   "cell_type": "code",
   "execution_count": 275,
   "id": "f34e3bf1",
   "metadata": {},
   "outputs": [],
   "source": [
    "def state_summary(df,df_eduPop,state,year):\n",
    "    incidents=(df[(df[\"State\"]==state)&(df[\"year\"]==year)].copy())\n",
    "    edu=(df_eduPop[(df_eduPop[\"State\"]==state)&(df_eduPop[\"year\"]==year)].copy())\n",
    "\n",
    "    if edu.empty:\n",
    "        print(f\"No data for {state} and {year}\")\n",
    "        return\n",
    "    n_incidents=incidents.shape[0]\n",
    "    n_incidents = incidents.shape[0]\n",
    "    total_killed = incidents[\"killed\"].sum()\n",
    "    total_injured = incidents[\"injured\"].sum()\n",
    "    total_victims = total_killed + total_injured\n",
    "\n",
    "    edu[\"%Pop_over_25_vs_Total\"]=(edu[\"Population_25plus\"]/edu[\"Total_Population\"]*100).round(2)\n",
    "    edu[\"%Without_Min_Studies\"]=(edu[\"Without Min Studies\"]/edu[\"Population_25plus\"]*100).round(2)\n",
    "    edu[\"%HighSchool\"]=(edu[\"High_School_Graduate\"]/edu[\"Population_25plus\"]*100).round(2)\n",
    "    edu[\"%Bachelor\"]=(edu[\"Bachelor_Degree\"]/edu[\"Population_25plus\"]*100).round(2)\n",
    "    edu[\"%Master_Degree\"]=(edu[\"Master_Degree\"]/edu[\"Population_25plus\"]*100).round(2)\n",
    "    edu[\"%Doctorate_Degree\"]=(edu[\"Doctorate_Degree\"]/edu[\"Population_25plus\"]*100).round(2)\n",
    "    edu[\"%Deadliest\"]=(total_killed/total_victims*100).round(2)\n",
    "    edu.drop(columns=[\"High_School_Graduate\",\"Bachelor_Degree\",\"Master_Degree\",\"Doctorate_Degree\",\"Without Min Studies\"],inplace=True)\n",
    "   \n",
    "    edu[\"Incident_Count\"] = n_incidents\n",
    "    edu[\"Total_Killed\"] = total_killed\n",
    "    edu[\"Total_Injured\"] = total_injured\n",
    "    edu[\"Total_Victims\"] = total_victims\n",
    "    \n",
    "    edu[\"Incidents_per_100k\"] = n_incidents / edu[\"Total_Population\"] * 100000\n",
    "    \n",
    "    print(f\"{state}({year}) number of indicents: {n_incidents}\")\n",
    "    \n",
    "    return edu\n"
   ]
  },
  {
   "cell_type": "code",
   "execution_count": 276,
   "id": "f66ca243",
   "metadata": {},
   "outputs": [
    {
     "name": "stdout",
     "output_type": "stream",
     "text": [
      "Illinois(2021) number of indicents: 86\n",
      "No data for Illinois and 2020\n",
      "Texas(2023) number of indicents: 65\n",
      "Illinois(2022) number of indicents: 58\n",
      "Texas(2021) number of indicents: 57\n",
      "Illinois(2023) number of indicents: 51\n",
      "California(2023) number of indicents: 51\n",
      "Texas(2022) number of indicents: 50\n",
      "California(2019) number of indicents: 49\n",
      "California(2022) number of indicents: 49\n",
      "California(2016) number of indicents: 45\n",
      "California(2021) number of indicents: 45\n",
      "Illinois(2016) number of indicents: 42\n",
      "Illinois(2019) number of indicents: 41\n",
      "California(2014) number of indicents: 40\n",
      "No data for California and 2020\n",
      "No data for New York and 2020\n",
      "California(2017) number of indicents: 38\n",
      "New York(2021) number of indicents: 37\n",
      "Illinois(2017) number of indicents: 37\n",
      "Illinois(2024) number of indicents: 36\n",
      "California(2024) number of indicents: 35\n",
      "Illinois(2018) number of indicents: 35\n",
      "California(2018) number of indicents: 35\n",
      "Pennsylvania(2023) number of indicents: 35\n",
      "Pennsylvania(2021) number of indicents: 35\n",
      "Louisiana(2021) number of indicents: 34\n",
      "Pennsylvania(2022) number of indicents: 34\n",
      "No data for Florida and 2020\n",
      "No data for Pennsylvania and 2020\n",
      "No data for Texas and 2020\n",
      "Ohio(2023) number of indicents: 33\n",
      "Louisiana(2023) number of indicents: 33\n",
      "North Carolina(2023) number of indicents: 33\n",
      "Ohio(2021) number of indicents: 33\n",
      "Florida(2024) number of indicents: 32\n",
      "Texas(2016) number of indicents: 31\n",
      "Pennsylvania(2024) number of indicents: 31\n",
      "Florida(2021) number of indicents: 31\n",
      "Florida(2022) number of indicents: 31\n",
      "Texas(2024) number of indicents: 31\n",
      "Florida(2018) number of indicents: 30\n",
      "Florida(2023) number of indicents: 30\n",
      "New York(2022) number of indicents: 30\n",
      "Florida(2016) number of indicents: 30\n",
      "Georgia(2022) number of indicents: 29\n",
      "Louisiana(2022) number of indicents: 28\n",
      "Texas(2019) number of indicents: 28\n",
      "California(2015) number of indicents: 27\n",
      "Illinois(2014) number of indicents: 27\n",
      "Louisiana(2019) number of indicents: 26\n",
      "No data for Louisiana and 2020\n",
      "Mississippi(2023) number of indicents: 26\n",
      "Florida(2015) number of indicents: 26\n",
      "Georgia(2023) number of indicents: 25\n",
      "Michigan(2021) number of indicents: 25\n",
      "No data for Ohio and 2020\n",
      "Illinois(2015) number of indicents: 25\n",
      "Alabama(2024) number of indicents: 25\n",
      "Mississippi(2024) number of indicents: 24\n",
      "Georgia(2024) number of indicents: 24\n",
      "Florida(2017) number of indicents: 24\n",
      "Michigan(2022) number of indicents: 24\n",
      "Georgia(2021) number of indicents: 22\n",
      "No data for South Carolina and 2020\n",
      "No data for Missouri and 2020\n",
      "Maryland(2023) number of indicents: 22\n",
      "No data for Texas and 2025\n",
      "Alabama(2021) number of indicents: 22\n",
      "Missouri(2024) number of indicents: 22\n",
      "North Carolina(2021) number of indicents: 22\n",
      "Louisiana(2024) number of indicents: 21\n",
      "Tennessee(2023) number of indicents: 21\n",
      "No data for Michigan and 2020\n",
      "North Carolina(2022) number of indicents: 21\n",
      "New York(2015) number of indicents: 21\n",
      "Ohio(2017) number of indicents: 21\n",
      "Texas(2017) number of indicents: 21\n",
      "Georgia(2015) number of indicents: 20\n",
      "No data for North Carolina and 2020\n",
      "Maryland(2019) number of indicents: 20\n",
      "Georgia(2019) number of indicents: 19\n",
      "South Carolina(2022) number of indicents: 19\n",
      "Pennsylvania(2019) number of indicents: 19\n",
      "No data for Tennessee and 2020\n",
      "Virginia(2022) number of indicents: 19\n",
      "Pennsylvania(2018) number of indicents: 19\n",
      "Maryland(2021) number of indicents: 19\n",
      "Maryland(2022) number of indicents: 19\n",
      "Ohio(2022) number of indicents: 19\n",
      "Georgia(2014) number of indicents: 18\n",
      "Missouri(2019) number of indicents: 18\n",
      "No data for California and 2025\n",
      "New York(2024) number of indicents: 18\n",
      "Tennessee(2024) number of indicents: 18\n",
      "No data for Illinois and 2025\n",
      "No data for Maryland and 2020\n",
      "No data for Georgia and 2020\n",
      "Tennessee(2018) number of indicents: 18\n",
      "Georgia(2016) number of indicents: 17\n",
      "Ohio(2024) number of indicents: 17\n",
      "South Carolina(2023) number of indicents: 17\n",
      "No data for Mississippi and 2020\n",
      "Texas(2015) number of indicents: 17\n",
      "Florida(2014) number of indicents: 17\n",
      "South Carolina(2021) number of indicents: 17\n",
      "Alabama(2022) number of indicents: 16\n",
      "Wisconsin(2022) number of indicents: 16\n",
      "No data for Ohio and 2025\n",
      "Missouri(2021) number of indicents: 16\n",
      "District of Columbia(2021) number of indicents: 16\n",
      "Texas(2014) number of indicents: 16\n",
      "New York(2023) number of indicents: 16\n",
      "Virginia(2021) number of indicents: 16\n",
      "Tennessee(2022) number of indicents: 16\n",
      "No data for Georgia and 2025\n",
      "Colorado(2023) number of indicents: 16\n",
      "Alabama(2016) number of indicents: 15\n",
      "New York(2016) number of indicents: 15\n",
      "Florida(2019) number of indicents: 15\n",
      "Tennessee(2021) number of indicents: 15\n",
      "Indiana(2022) number of indicents: 15\n",
      "Texas(2018) number of indicents: 15\n",
      "Pennsylvania(2017) number of indicents: 15\n",
      "Louisiana(2017) number of indicents: 15\n",
      "Indiana(2023) number of indicents: 15\n",
      "Missouri(2023) number of indicents: 15\n",
      "No data for Pennsylvania and 2025\n",
      "Louisiana(2015) number of indicents: 15\n",
      "North Carolina(2024) number of indicents: 15\n",
      "Michigan(2024) number of indicents: 14\n",
      "New Jersey(2021) number of indicents: 14\n",
      "No data for Arkansas and 2020\n",
      "Ohio(2019) number of indicents: 14\n",
      "Washington(2023) number of indicents: 14\n",
      "Mississippi(2022) number of indicents: 14\n",
      "Michigan(2023) number of indicents: 14\n",
      "Louisiana(2016) number of indicents: 14\n",
      "Pennsylvania(2015) number of indicents: 14\n",
      "Indiana(2021) number of indicents: 14\n",
      "Alabama(2018) number of indicents: 14\n",
      "Tennessee(2017) number of indicents: 14\n",
      "Missouri(2018) number of indicents: 14\n",
      "Missouri(2015) number of indicents: 13\n",
      "Tennessee(2014) number of indicents: 13\n",
      "Maryland(2015) number of indicents: 13\n",
      "Mississippi(2021) number of indicents: 13\n",
      "New York(2018) number of indicents: 13\n",
      "New Jersey(2017) number of indicents: 13\n",
      "New York(2017) number of indicents: 13\n",
      "Missouri(2022) number of indicents: 13\n",
      "Minnesota(2023) number of indicents: 13\n",
      "Louisiana(2018) number of indicents: 13\n",
      "No data for Louisiana and 2025\n",
      "Virginia(2024) number of indicents: 13\n",
      "Ohio(2015) number of indicents: 13\n",
      "New York(2014) number of indicents: 13\n",
      "No data for Tennessee and 2025\n",
      "Arizona(2022) number of indicents: 13\n",
      "Colorado(2022) number of indicents: 13\n",
      "Colorado(2021) number of indicents: 13\n",
      "District of Columbia(2024) number of indicents: 12\n",
      "No data for New Jersey and 2020\n",
      "Virginia(2017) number of indicents: 12\n",
      "Alabama(2019) number of indicents: 12\n",
      "Washington(2022) number of indicents: 12\n",
      "Kentucky(2024) number of indicents: 12\n",
      "Minnesota(2022) number of indicents: 12\n",
      "Mississippi(2017) number of indicents: 12\n",
      "New Jersey(2023) number of indicents: 12\n",
      "Tennessee(2016) number of indicents: 12\n",
      "North Carolina(2015) number of indicents: 12\n",
      "North Carolina(2019) number of indicents: 11\n",
      "Virginia(2016) number of indicents: 11\n",
      "Michigan(2016) number of indicents: 11\n",
      "Minnesota(2021) number of indicents: 11\n",
      "Michigan(2015) number of indicents: 11\n",
      "Alabama(2023) number of indicents: 11\n",
      "District of Columbia(2023) number of indicents: 11\n",
      "New Jersey(2019) number of indicents: 11\n",
      "Wisconsin(2021) number of indicents: 11\n",
      "No data for Colorado and 2020\n",
      "Ohio(2016) number of indicents: 11\n",
      "Maryland(2016) number of indicents: 11\n",
      "No data for Virginia and 2020\n",
      "Louisiana(2014) number of indicents: 11\n",
      "Indiana(2024) number of indicents: 11\n",
      "Tennessee(2015) number of indicents: 11\n",
      "No data for Alabama and 2020\n",
      "Minnesota(2024) number of indicents: 10\n",
      "Michigan(2014) number of indicents: 10\n",
      "Virginia(2019) number of indicents: 10\n",
      "No data for Wisconsin and 2020\n",
      "No data for Kentucky and 2020\n",
      "Indiana(2019) number of indicents: 10\n",
      "South Carolina(2015) number of indicents: 10\n",
      "Missouri(2017) number of indicents: 10\n",
      "Missouri(2016) number of indicents: 10\n",
      "South Carolina(2019) number of indicents: 10\n",
      "Pennsylvania(2016) number of indicents: 10\n",
      "Pennsylvania(2014) number of indicents: 10\n",
      "North Carolina(2018) number of indicents: 10\n",
      "No data for Michigan and 2025\n",
      "No data for Mississippi and 2025\n",
      "Ohio(2018) number of indicents: 10\n",
      "New Jersey(2018) number of indicents: 10\n",
      "No data for Missouri and 2025\n",
      "No data for Indiana and 2025\n",
      "Arkansas(2023) number of indicents: 9\n",
      "Arizona(2023) number of indicents: 9\n",
      "Indiana(2015) number of indicents: 9\n",
      "New Jersey(2015) number of indicents: 9\n",
      "North Carolina(2016) number of indicents: 9\n",
      "New Jersey(2022) number of indicents: 9\n",
      "Maryland(2018) number of indicents: 9\n",
      "Michigan(2019) number of indicents: 9\n",
      "Wisconsin(2023) number of indicents: 9\n",
      "New Jersey(2016) number of indicents: 9\n",
      "New York(2019) number of indicents: 9\n",
      "No data for Virginia and 2025\n",
      "District of Columbia(2022) number of indicents: 9\n",
      "Kentucky(2022) number of indicents: 9\n",
      "Georgia(2017) number of indicents: 9\n",
      "Washington(2021) number of indicents: 8\n",
      "No data for District of Columbia and 2020\n",
      "Wisconsin(2024) number of indicents: 8\n",
      "Missouri(2014) number of indicents: 8\n",
      "Colorado(2018) number of indicents: 8\n",
      "No data for New York and 2025\n",
      "No data for South Carolina and 2025\n",
      "No data for Maryland and 2025\n",
      "No data for Florida and 2025\n",
      "Indiana(2014) number of indicents: 8\n",
      "Virginia(2014) number of indicents: 8\n",
      "Georgia(2018) number of indicents: 8\n",
      "Michigan(2018) number of indicents: 8\n",
      "Oklahoma(2022) number of indicents: 8\n",
      "Kentucky(2023) number of indicents: 8\n",
      "Maryland(2017) number of indicents: 8\n",
      "Michigan(2017) number of indicents: 8\n",
      "Washington(2016) number of indicents: 8\n",
      "Indiana(2016) number of indicents: 8\n",
      "No data for Massachusetts and 2020\n",
      "No data for North Carolina and 2025\n",
      "Massachusetts(2023) number of indicents: 7\n",
      "Indiana(2017) number of indicents: 7\n",
      "Oklahoma(2023) number of indicents: 7\n",
      "Virginia(2023) number of indicents: 7\n",
      "North Carolina(2017) number of indicents: 7\n",
      "South Carolina(2017) number of indicents: 7\n",
      "No data for Connecticut and 2020\n",
      "Tennessee(2019) number of indicents: 7\n",
      "District of Columbia(2019) number of indicents: 7\n",
      "No data for Indiana and 2020\n",
      "Alabama(2017) number of indicents: 7\n",
      "Ohio(2014) number of indicents: 7\n",
      "Oregon(2021) number of indicents: 7\n",
      "Oklahoma(2024) number of indicents: 7\n",
      "South Carolina(2014) number of indicents: 7\n",
      "South Carolina(2024) number of indicents: 6\n",
      "No data for Washington and 2025\n",
      "District of Columbia(2014) number of indicents: 6\n",
      "New Jersey(2014) number of indicents: 6\n",
      "No data for Minnesota and 2020\n",
      "Washington(2024) number of indicents: 6\n",
      "Connecticut(2016) number of indicents: 6\n",
      "No data for Oklahoma and 2025\n",
      "No data for Minnesota and 2025\n",
      "Massachusetts(2024) number of indicents: 6\n",
      "Maryland(2024) number of indicents: 6\n",
      "No data for Alabama and 2025\n",
      "District of Columbia(2018) number of indicents: 6\n",
      "Colorado(2024) number of indicents: 6\n",
      "Oregon(2022) number of indicents: 6\n",
      "Mississippi(2016) number of indicents: 6\n",
      "Indiana(2018) number of indicents: 6\n",
      "Kentucky(2017) number of indicents: 6\n",
      "Arkansas(2018) number of indicents: 6\n",
      "Arizona(2015) number of indicents: 6\n",
      "Delaware(2021) number of indicents: 6\n",
      "Arkansas(2024) number of indicents: 6\n",
      "Mississippi(2019) number of indicents: 6\n",
      "Massachusetts(2015) number of indicents: 5\n",
      "Minnesota(2015) number of indicents: 5\n",
      "Oklahoma(2018) number of indicents: 5\n",
      "Arizona(2019) number of indicents: 5\n",
      "Nevada(2021) number of indicents: 5\n",
      "Iowa(2021) number of indicents: 5\n",
      "Arkansas(2022) number of indicents: 5\n",
      "Nebraska(2022) number of indicents: 5\n",
      "Nevada(2023) number of indicents: 5\n",
      "Nevada(2022) number of indicents: 5\n",
      "South Carolina(2016) number of indicents: 5\n",
      "Arizona(2017) number of indicents: 5\n",
      "District of Columbia(2017) number of indicents: 5\n",
      "Oklahoma(2015) number of indicents: 5\n",
      "Kansas(2016) number of indicents: 5\n",
      "Arkansas(2019) number of indicents: 5\n",
      "Massachusetts(2019) number of indicents: 5\n",
      "Kentucky(2019) number of indicents: 5\n",
      "Colorado(2019) number of indicents: 5\n",
      "Minnesota(2016) number of indicents: 5\n",
      "District of Columbia(2016) number of indicents: 5\n",
      "Virginia(2015) number of indicents: 5\n",
      "No data for Washington and 2020\n",
      "Arkansas(2021) number of indicents: 5\n",
      "Arizona(2021) number of indicents: 5\n",
      "Mississippi(2014) number of indicents: 5\n",
      "Kentucky(2014) number of indicents: 4\n",
      "Massachusetts(2014) number of indicents: 4\n",
      "Nevada(2014) number of indicents: 4\n",
      "No data for Nevada and 2020\n",
      "Massachusetts(2021) number of indicents: 4\n",
      "Kentucky(2021) number of indicents: 4\n",
      "No data for New Jersey and 2025\n",
      "Washington(2019) number of indicents: 4\n",
      "Colorado(2016) number of indicents: 4\n",
      "Arizona(2016) number of indicents: 4\n",
      "No data for Colorado and 2025\n",
      "South Carolina(2018) number of indicents: 4\n",
      "Virginia(2018) number of indicents: 4\n",
      "Wisconsin(2018) number of indicents: 4\n",
      "New Mexico(2016) number of indicents: 4\n",
      "New Mexico(2019) number of indicents: 4\n",
      "Oklahoma(2019) number of indicents: 4\n",
      "Kentucky(2018) number of indicents: 4\n",
      "New Mexico(2022) number of indicents: 4\n",
      "Nevada(2018) number of indicents: 4\n",
      "Kansas(2019) number of indicents: 4\n",
      "No data for Iowa and 2020\n",
      "No data for Arizona and 2020\n",
      "Kansas(2017) number of indicents: 4\n",
      "No data for Arizona and 2025\n",
      "Kentucky(2015) number of indicents: 4\n",
      "No data for Wisconsin and 2025\n",
      "Nevada(2024) number of indicents: 4\n",
      "Alabama(2015) number of indicents: 4\n",
      "Connecticut(2022) number of indicents: 3\n",
      "Kansas(2022) number of indicents: 3\n",
      "Iowa(2019) number of indicents: 3\n",
      "Connecticut(2019) number of indicents: 3\n",
      "Nevada(2019) number of indicents: 3\n",
      "Massachusetts(2022) number of indicents: 3\n",
      "Washington(2017) number of indicents: 3\n",
      "Minnesota(2018) number of indicents: 3\n",
      "Nebraska(2018) number of indicents: 3\n",
      "Mississippi(2018) number of indicents: 3\n",
      "No data for Delaware and 2020\n",
      "No data for Nevada and 2025\n",
      "No data for West Virginia and 2020\n",
      "Wisconsin(2019) number of indicents: 3\n",
      "North Carolina(2014) number of indicents: 3\n",
      "No data for Connecticut and 2025\n",
      "Kansas(2024) number of indicents: 3\n",
      "Washington(2018) number of indicents: 3\n",
      "No data for Alaska and 2020\n",
      "Massachusetts(2016) number of indicents: 3\n",
      "Arkansas(2016) number of indicents: 3\n",
      "Arkansas(2017) number of indicents: 3\n",
      "Connecticut(2024) number of indicents: 3\n",
      "Wisconsin(2015) number of indicents: 3\n",
      "Arizona(2024) number of indicents: 3\n",
      "New Mexico(2023) number of indicents: 3\n",
      "Nevada(2016) number of indicents: 3\n",
      "Minnesota(2017) number of indicents: 3\n",
      "New Jersey(2024) number of indicents: 3\n",
      "West Virginia(2024) number of indicents: 3\n",
      "Nebraska(2015) number of indicents: 3\n",
      "Washington(2014) number of indicents: 3\n",
      "District of Columbia(2015) number of indicents: 3\n",
      "Colorado(2015) number of indicents: 3\n",
      "New Mexico(2015) number of indicents: 2\n",
      "Mississippi(2015) number of indicents: 2\n",
      "Alabama(2014) number of indicents: 2\n",
      "New Mexico(2024) number of indicents: 2\n",
      "South Dakota(2024) number of indicents: 2\n",
      "Iowa(2015) number of indicents: 2\n",
      "Connecticut(2015) number of indicents: 2\n",
      "Arkansas(2015) number of indicents: 2\n",
      "No data for Arkansas and 2025\n",
      "Utah(2024) number of indicents: 2\n",
      "Delaware(2016) number of indicents: 2\n",
      "Utah(2023) number of indicents: 2\n",
      "Kansas(2023) number of indicents: 2\n",
      "Maine(2023) number of indicents: 2\n",
      "New Mexico(2017) number of indicents: 2\n",
      "Oregon(2015) number of indicents: 2\n",
      "No data for Nebraska and 2025\n",
      "No data for Oregon and 2025\n",
      "Kansas(2021) number of indicents: 2\n",
      "Arkansas(2014) number of indicents: 2\n",
      "Connecticut(2021) number of indicents: 2\n",
      "No data for Oregon and 2020\n",
      "No data for New Mexico and 2020\n",
      "No data for Oklahoma and 2020\n",
      "Colorado(2014) number of indicents: 2\n",
      "Minnesota(2014) number of indicents: 2\n",
      "Oregon(2014) number of indicents: 2\n",
      "Utah(2014) number of indicents: 2\n",
      "Oklahoma(2014) number of indicents: 2\n",
      "No data for District of Columbia and 2025\n",
      "No data for Hawaii and 2025\n",
      "No data for Kentucky and 2025\n",
      "Oklahoma(2021) number of indicents: 2\n",
      "Rhode Island(2021) number of indicents: 2\n",
      "Iowa(2017) number of indicents: 2\n",
      "Oregon(2023) number of indicents: 2\n",
      "Delaware(2024) number of indicents: 2\n",
      "Connecticut(2017) number of indicents: 2\n",
      "Colorado(2017) number of indicents: 2\n",
      "Wisconsin(2016) number of indicents: 2\n",
      "Kentucky(2016) number of indicents: 2\n",
      "Wisconsin(2014) number of indicents: 2\n",
      "Oregon(2016) number of indicents: 2\n",
      "Wisconsin(2017) number of indicents: 2\n",
      "New Mexico(2018) number of indicents: 2\n",
      "Nebraska(2023) number of indicents: 2\n",
      "Iowa(2022) number of indicents: 2\n",
      "Kansas(2018) number of indicents: 2\n",
      "Nevada(2017) number of indicents: 2\n",
      "Arizona(2018) number of indicents: 2\n",
      "Connecticut(2018) number of indicents: 2\n",
      "Montana(2019) number of indicents: 2\n",
      "No data for Nebraska and 2020\n",
      "No data for Kansas and 2020\n",
      "Minnesota(2019) number of indicents: 2\n",
      "Delaware(2019) number of indicents: 2\n",
      "Wyoming(2019) number of indicents: 1\n",
      "Idaho(2021) number of indicents: 1\n",
      "No data for Utah and 2020\n",
      "Alaska(2021) number of indicents: 1\n",
      "West Virginia(2021) number of indicents: 1\n",
      "Utah(2021) number of indicents: 1\n",
      "South Dakota(2021) number of indicents: 1\n",
      "No data for South Dakota and 2020\n",
      "No data for New Mexico and 2025\n",
      "Nebraska(2021) number of indicents: 1\n",
      "No data for Montana and 2025\n",
      "No data for Massachusetts and 2025\n",
      "New Mexico(2021) number of indicents: 1\n",
      "New Hampshire(2021) number of indicents: 1\n",
      "No data for Iowa and 2025\n",
      "No data for Maine and 2025\n",
      "Maine(2014) number of indicents: 1\n",
      "South Dakota(2014) number of indicents: 1\n",
      "New Mexico(2014) number of indicents: 1\n",
      "Rhode Island(2014) number of indicents: 1\n",
      "No data for Delaware and 2025\n",
      "No data for Idaho and 2025\n",
      "Connecticut(2014) number of indicents: 1\n",
      "Maryland(2014) number of indicents: 1\n",
      "Nebraska(2019) number of indicents: 1\n",
      "Oregon(2019) number of indicents: 1\n",
      "No data for Idaho and 2020\n",
      "No data for Maine and 2020\n",
      "Iowa(2023) number of indicents: 1\n",
      "Idaho(2023) number of indicents: 1\n",
      "Delaware(2022) number of indicents: 1\n",
      "Massachusetts(2018) number of indicents: 1\n",
      "West Virginia(2016) number of indicents: 1\n",
      "Oklahoma(2016) number of indicents: 1\n",
      "Delaware(2018) number of indicents: 1\n",
      "Oklahoma(2017) number of indicents: 1\n",
      "Utah(2017) number of indicents: 1\n",
      "Montana(2017) number of indicents: 1\n",
      "Maine(2017) number of indicents: 1\n",
      "Massachusetts(2017) number of indicents: 1\n",
      "Delaware(2023) number of indicents: 1\n",
      "Connecticut(2023) number of indicents: 1\n",
      "Utah(2018) number of indicents: 1\n",
      "Hawaii(2023) number of indicents: 1\n",
      "New Hampshire(2023) number of indicents: 1\n",
      "Delaware(2017) number of indicents: 1\n",
      "North Dakota(2023) number of indicents: 1\n",
      "Alaska(2024) number of indicents: 1\n",
      "Rhode Island(2015) number of indicents: 1\n",
      "South Dakota(2015) number of indicents: 1\n",
      "Iowa(2024) number of indicents: 1\n",
      "Hawaii(2024) number of indicents: 1\n",
      "Vermont(2015) number of indicents: 1\n",
      "Washington(2015) number of indicents: 1\n",
      "Delaware(2015) number of indicents: 1\n",
      "Kansas(2015) number of indicents: 1\n",
      "Nebraska(2024) number of indicents: 1\n",
      "Nevada(2015) number of indicents: 1\n",
      "Montana(2015) number of indicents: 1\n",
      "Arizona(2014) number of indicents: 1\n",
      "Alaska(2014) number of indicents: 1\n",
      "No data for Utah and 2025\n",
      "No data for West Virginia and 2025\n",
      "No data for Wyoming and 2025\n"
     ]
    },
    {
     "data": {
      "text/html": [
       "<div>\n",
       "<style scoped>\n",
       "    .dataframe tbody tr th:only-of-type {\n",
       "        vertical-align: middle;\n",
       "    }\n",
       "\n",
       "    .dataframe tbody tr th {\n",
       "        vertical-align: top;\n",
       "    }\n",
       "\n",
       "    .dataframe thead th {\n",
       "        text-align: right;\n",
       "    }\n",
       "</style>\n",
       "<table border=\"1\" class=\"dataframe\">\n",
       "  <thead>\n",
       "    <tr style=\"text-align: right;\">\n",
       "      <th></th>\n",
       "      <th>year</th>\n",
       "      <th>State</th>\n",
       "      <th>Population_25plus</th>\n",
       "      <th>Total_Population</th>\n",
       "      <th>%Pop_over_25_vs_Total</th>\n",
       "      <th>%Without_Min_Studies</th>\n",
       "      <th>%HighSchool</th>\n",
       "      <th>%Bachelor</th>\n",
       "      <th>%Master_Degree</th>\n",
       "      <th>%Doctorate_Degree</th>\n",
       "      <th>%Deadliest</th>\n",
       "      <th>Incident_Count</th>\n",
       "      <th>Total_Killed</th>\n",
       "      <th>Total_Injured</th>\n",
       "      <th>Total_Victims</th>\n",
       "      <th>Incidents_per_100k</th>\n",
       "    </tr>\n",
       "  </thead>\n",
       "  <tbody>\n",
       "    <tr>\n",
       "      <th>0</th>\n",
       "      <td>2021</td>\n",
       "      <td>Illinois</td>\n",
       "      <td>8730697</td>\n",
       "      <td>12671469</td>\n",
       "      <td>68.90</td>\n",
       "      <td>1.89</td>\n",
       "      <td>21.49</td>\n",
       "      <td>22.13</td>\n",
       "      <td>11.02</td>\n",
       "      <td>1.55</td>\n",
       "      <td>13.84</td>\n",
       "      <td>86</td>\n",
       "      <td>62</td>\n",
       "      <td>386</td>\n",
       "      <td>448</td>\n",
       "      <td>0.678690</td>\n",
       "    </tr>\n",
       "    <tr>\n",
       "      <th>1</th>\n",
       "      <td>2023</td>\n",
       "      <td>Texas</td>\n",
       "      <td>20029447</td>\n",
       "      <td>30503301</td>\n",
       "      <td>65.66</td>\n",
       "      <td>3.15</td>\n",
       "      <td>19.86</td>\n",
       "      <td>21.59</td>\n",
       "      <td>9.31</td>\n",
       "      <td>1.42</td>\n",
       "      <td>23.65</td>\n",
       "      <td>65</td>\n",
       "      <td>83</td>\n",
       "      <td>268</td>\n",
       "      <td>351</td>\n",
       "      <td>0.213092</td>\n",
       "    </tr>\n",
       "    <tr>\n",
       "      <th>2</th>\n",
       "      <td>2022</td>\n",
       "      <td>Illinois</td>\n",
       "      <td>8692839</td>\n",
       "      <td>12582032</td>\n",
       "      <td>69.09</td>\n",
       "      <td>2.12</td>\n",
       "      <td>21.40</td>\n",
       "      <td>22.47</td>\n",
       "      <td>11.14</td>\n",
       "      <td>1.62</td>\n",
       "      <td>16.45</td>\n",
       "      <td>58</td>\n",
       "      <td>51</td>\n",
       "      <td>259</td>\n",
       "      <td>310</td>\n",
       "      <td>0.460975</td>\n",
       "    </tr>\n",
       "    <tr>\n",
       "      <th>3</th>\n",
       "      <td>2021</td>\n",
       "      <td>Texas</td>\n",
       "      <td>19224688</td>\n",
       "      <td>29527941</td>\n",
       "      <td>65.11</td>\n",
       "      <td>3.07</td>\n",
       "      <td>20.25</td>\n",
       "      <td>21.21</td>\n",
       "      <td>8.66</td>\n",
       "      <td>1.38</td>\n",
       "      <td>22.77</td>\n",
       "      <td>57</td>\n",
       "      <td>69</td>\n",
       "      <td>234</td>\n",
       "      <td>303</td>\n",
       "      <td>0.193038</td>\n",
       "    </tr>\n",
       "    <tr>\n",
       "      <th>4</th>\n",
       "      <td>2023</td>\n",
       "      <td>Illinois</td>\n",
       "      <td>8710996</td>\n",
       "      <td>12549689</td>\n",
       "      <td>69.41</td>\n",
       "      <td>2.21</td>\n",
       "      <td>21.42</td>\n",
       "      <td>22.77</td>\n",
       "      <td>11.37</td>\n",
       "      <td>1.60</td>\n",
       "      <td>19.57</td>\n",
       "      <td>51</td>\n",
       "      <td>54</td>\n",
       "      <td>222</td>\n",
       "      <td>276</td>\n",
       "      <td>0.406385</td>\n",
       "    </tr>\n",
       "    <tr>\n",
       "      <th>...</th>\n",
       "      <td>...</td>\n",
       "      <td>...</td>\n",
       "      <td>...</td>\n",
       "      <td>...</td>\n",
       "      <td>...</td>\n",
       "      <td>...</td>\n",
       "      <td>...</td>\n",
       "      <td>...</td>\n",
       "      <td>...</td>\n",
       "      <td>...</td>\n",
       "      <td>...</td>\n",
       "      <td>...</td>\n",
       "      <td>...</td>\n",
       "      <td>...</td>\n",
       "      <td>...</td>\n",
       "      <td>...</td>\n",
       "    </tr>\n",
       "    <tr>\n",
       "      <th>398</th>\n",
       "      <td>2024</td>\n",
       "      <td>Nebraska</td>\n",
       "      <td>1326807</td>\n",
       "      <td>2005466</td>\n",
       "      <td>66.16</td>\n",
       "      <td>2.24</td>\n",
       "      <td>21.93</td>\n",
       "      <td>22.32</td>\n",
       "      <td>9.40</td>\n",
       "      <td>1.64</td>\n",
       "      <td>12.50</td>\n",
       "      <td>1</td>\n",
       "      <td>1</td>\n",
       "      <td>7</td>\n",
       "      <td>8</td>\n",
       "      <td>0.049864</td>\n",
       "    </tr>\n",
       "    <tr>\n",
       "      <th>399</th>\n",
       "      <td>2015</td>\n",
       "      <td>Nevada</td>\n",
       "      <td>1968167</td>\n",
       "      <td>2890845</td>\n",
       "      <td>68.08</td>\n",
       "      <td>1.88</td>\n",
       "      <td>24.07</td>\n",
       "      <td>15.49</td>\n",
       "      <td>5.70</td>\n",
       "      <td>0.93</td>\n",
       "      <td>25.00</td>\n",
       "      <td>1</td>\n",
       "      <td>1</td>\n",
       "      <td>3</td>\n",
       "      <td>4</td>\n",
       "      <td>0.034592</td>\n",
       "    </tr>\n",
       "    <tr>\n",
       "      <th>400</th>\n",
       "      <td>2015</td>\n",
       "      <td>Montana</td>\n",
       "      <td>706329</td>\n",
       "      <td>1032949</td>\n",
       "      <td>68.38</td>\n",
       "      <td>0.54</td>\n",
       "      <td>27.06</td>\n",
       "      <td>20.41</td>\n",
       "      <td>7.09</td>\n",
       "      <td>1.43</td>\n",
       "      <td>100.00</td>\n",
       "      <td>1</td>\n",
       "      <td>5</td>\n",
       "      <td>0</td>\n",
       "      <td>5</td>\n",
       "      <td>0.096810</td>\n",
       "    </tr>\n",
       "    <tr>\n",
       "      <th>401</th>\n",
       "      <td>2014</td>\n",
       "      <td>Arizona</td>\n",
       "      <td>4436226</td>\n",
       "      <td>6731484</td>\n",
       "      <td>65.90</td>\n",
       "      <td>1.74</td>\n",
       "      <td>20.27</td>\n",
       "      <td>17.26</td>\n",
       "      <td>7.40</td>\n",
       "      <td>1.21</td>\n",
       "      <td>25.00</td>\n",
       "      <td>1</td>\n",
       "      <td>1</td>\n",
       "      <td>3</td>\n",
       "      <td>4</td>\n",
       "      <td>0.014856</td>\n",
       "    </tr>\n",
       "    <tr>\n",
       "      <th>402</th>\n",
       "      <td>2014</td>\n",
       "      <td>Alaska</td>\n",
       "      <td>465149</td>\n",
       "      <td>736732</td>\n",
       "      <td>63.14</td>\n",
       "      <td>0.89</td>\n",
       "      <td>23.33</td>\n",
       "      <td>18.41</td>\n",
       "      <td>7.12</td>\n",
       "      <td>0.93</td>\n",
       "      <td>0.00</td>\n",
       "      <td>1</td>\n",
       "      <td>0</td>\n",
       "      <td>6</td>\n",
       "      <td>6</td>\n",
       "      <td>0.135735</td>\n",
       "    </tr>\n",
       "  </tbody>\n",
       "</table>\n",
       "<p>403 rows × 16 columns</p>\n",
       "</div>"
      ],
      "text/plain": [
       "     year     State  Population_25plus  Total_Population  \\\n",
       "0    2021  Illinois            8730697          12671469   \n",
       "1    2023     Texas           20029447          30503301   \n",
       "2    2022  Illinois            8692839          12582032   \n",
       "3    2021     Texas           19224688          29527941   \n",
       "4    2023  Illinois            8710996          12549689   \n",
       "..    ...       ...                ...               ...   \n",
       "398  2024  Nebraska            1326807           2005466   \n",
       "399  2015    Nevada            1968167           2890845   \n",
       "400  2015   Montana             706329           1032949   \n",
       "401  2014   Arizona            4436226           6731484   \n",
       "402  2014    Alaska             465149            736732   \n",
       "\n",
       "     %Pop_over_25_vs_Total  %Without_Min_Studies  %HighSchool  %Bachelor  \\\n",
       "0                    68.90                  1.89        21.49      22.13   \n",
       "1                    65.66                  3.15        19.86      21.59   \n",
       "2                    69.09                  2.12        21.40      22.47   \n",
       "3                    65.11                  3.07        20.25      21.21   \n",
       "4                    69.41                  2.21        21.42      22.77   \n",
       "..                     ...                   ...          ...        ...   \n",
       "398                  66.16                  2.24        21.93      22.32   \n",
       "399                  68.08                  1.88        24.07      15.49   \n",
       "400                  68.38                  0.54        27.06      20.41   \n",
       "401                  65.90                  1.74        20.27      17.26   \n",
       "402                  63.14                  0.89        23.33      18.41   \n",
       "\n",
       "     %Master_Degree  %Doctorate_Degree  %Deadliest  Incident_Count  \\\n",
       "0             11.02               1.55       13.84              86   \n",
       "1              9.31               1.42       23.65              65   \n",
       "2             11.14               1.62       16.45              58   \n",
       "3              8.66               1.38       22.77              57   \n",
       "4             11.37               1.60       19.57              51   \n",
       "..              ...                ...         ...             ...   \n",
       "398            9.40               1.64       12.50               1   \n",
       "399            5.70               0.93       25.00               1   \n",
       "400            7.09               1.43      100.00               1   \n",
       "401            7.40               1.21       25.00               1   \n",
       "402            7.12               0.93        0.00               1   \n",
       "\n",
       "     Total_Killed  Total_Injured  Total_Victims  Incidents_per_100k  \n",
       "0              62            386            448            0.678690  \n",
       "1              83            268            351            0.213092  \n",
       "2              51            259            310            0.460975  \n",
       "3              69            234            303            0.193038  \n",
       "4              54            222            276            0.406385  \n",
       "..            ...            ...            ...                 ...  \n",
       "398             1              7              8            0.049864  \n",
       "399             1              3              4            0.034592  \n",
       "400             5              0              5            0.096810  \n",
       "401             1              3              4            0.014856  \n",
       "402             0              6              6            0.135735  \n",
       "\n",
       "[403 rows x 16 columns]"
      ]
     },
     "execution_count": 276,
     "metadata": {},
     "output_type": "execute_result"
    }
   ],
   "source": [
    "results=[]\n",
    "for _,row in top_20.iterrows():\n",
    "    year=row[\"year\"]\n",
    "    state=row[\"State\"]\n",
    "    analysis=state_summary(df,df_eduPop,state,year)\n",
    "    if analysis is not None and not analysis.empty:\n",
    "        results.append(analysis)\n",
    "   \n",
    "df_top20_analysis=pd.concat(results,ignore_index=True)\n",
    "df_top20_analysis\n",
    "\n",
    "\n",
    "    "
   ]
  },
  {
   "cell_type": "code",
   "execution_count": null,
   "id": "255f6c78",
   "metadata": {},
   "outputs": [
    {
     "data": {
      "text/html": [
       "<div>\n",
       "<style scoped>\n",
       "    .dataframe tbody tr th:only-of-type {\n",
       "        vertical-align: middle;\n",
       "    }\n",
       "\n",
       "    .dataframe tbody tr th {\n",
       "        vertical-align: top;\n",
       "    }\n",
       "\n",
       "    .dataframe thead tr th {\n",
       "        text-align: left;\n",
       "    }\n",
       "\n",
       "    .dataframe thead tr:last-of-type th {\n",
       "        text-align: right;\n",
       "    }\n",
       "</style>\n",
       "<table border=\"1\" class=\"dataframe\">\n",
       "  <thead>\n",
       "    <tr>\n",
       "      <th></th>\n",
       "      <th colspan=\"10\" halign=\"left\">%HighSchool</th>\n",
       "      <th>...</th>\n",
       "      <th colspan=\"10\" halign=\"left\">Incidents_per_100k</th>\n",
       "    </tr>\n",
       "    <tr>\n",
       "      <th>year</th>\n",
       "      <th>2014</th>\n",
       "      <th>2015</th>\n",
       "      <th>2016</th>\n",
       "      <th>2017</th>\n",
       "      <th>2018</th>\n",
       "      <th>2019</th>\n",
       "      <th>2021</th>\n",
       "      <th>2022</th>\n",
       "      <th>2023</th>\n",
       "      <th>2024</th>\n",
       "      <th>...</th>\n",
       "      <th>2014</th>\n",
       "      <th>2015</th>\n",
       "      <th>2016</th>\n",
       "      <th>2017</th>\n",
       "      <th>2018</th>\n",
       "      <th>2019</th>\n",
       "      <th>2021</th>\n",
       "      <th>2022</th>\n",
       "      <th>2023</th>\n",
       "      <th>2024</th>\n",
       "    </tr>\n",
       "    <tr>\n",
       "      <th>State</th>\n",
       "      <th></th>\n",
       "      <th></th>\n",
       "      <th></th>\n",
       "      <th></th>\n",
       "      <th></th>\n",
       "      <th></th>\n",
       "      <th></th>\n",
       "      <th></th>\n",
       "      <th></th>\n",
       "      <th></th>\n",
       "      <th></th>\n",
       "      <th></th>\n",
       "      <th></th>\n",
       "      <th></th>\n",
       "      <th></th>\n",
       "      <th></th>\n",
       "      <th></th>\n",
       "      <th></th>\n",
       "      <th></th>\n",
       "      <th></th>\n",
       "      <th></th>\n",
       "    </tr>\n",
       "  </thead>\n",
       "  <tbody>\n",
       "    <tr>\n",
       "      <th>Alabama</th>\n",
       "      <td>26.02</td>\n",
       "      <td>25.10</td>\n",
       "      <td>25.19</td>\n",
       "      <td>25.69</td>\n",
       "      <td>25.41</td>\n",
       "      <td>25.67</td>\n",
       "      <td>26.16</td>\n",
       "      <td>25.16</td>\n",
       "      <td>24.94</td>\n",
       "      <td>24.60</td>\n",
       "      <td>...</td>\n",
       "      <td>0.041242</td>\n",
       "      <td>0.082322</td>\n",
       "      <td>0.308433</td>\n",
       "      <td>0.143597</td>\n",
       "      <td>0.286423</td>\n",
       "      <td>0.244739</td>\n",
       "      <td>0.436519</td>\n",
       "      <td>0.315315</td>\n",
       "      <td>0.215329</td>\n",
       "      <td>0.484712</td>\n",
       "    </tr>\n",
       "    <tr>\n",
       "      <th>Alaska</th>\n",
       "      <td>23.33</td>\n",
       "      <td>NaN</td>\n",
       "      <td>NaN</td>\n",
       "      <td>NaN</td>\n",
       "      <td>NaN</td>\n",
       "      <td>NaN</td>\n",
       "      <td>22.50</td>\n",
       "      <td>NaN</td>\n",
       "      <td>NaN</td>\n",
       "      <td>23.87</td>\n",
       "      <td>...</td>\n",
       "      <td>0.135735</td>\n",
       "      <td>NaN</td>\n",
       "      <td>NaN</td>\n",
       "      <td>NaN</td>\n",
       "      <td>NaN</td>\n",
       "      <td>NaN</td>\n",
       "      <td>0.136487</td>\n",
       "      <td>NaN</td>\n",
       "      <td>NaN</td>\n",
       "      <td>0.135111</td>\n",
       "    </tr>\n",
       "    <tr>\n",
       "      <th>Arizona</th>\n",
       "      <td>20.27</td>\n",
       "      <td>20.36</td>\n",
       "      <td>19.99</td>\n",
       "      <td>20.16</td>\n",
       "      <td>20.04</td>\n",
       "      <td>19.56</td>\n",
       "      <td>19.43</td>\n",
       "      <td>19.72</td>\n",
       "      <td>19.18</td>\n",
       "      <td>19.34</td>\n",
       "      <td>...</td>\n",
       "      <td>0.014856</td>\n",
       "      <td>0.087873</td>\n",
       "      <td>0.057711</td>\n",
       "      <td>0.071263</td>\n",
       "      <td>0.027888</td>\n",
       "      <td>0.068693</td>\n",
       "      <td>0.068716</td>\n",
       "      <td>0.176650</td>\n",
       "      <td>0.121109</td>\n",
       "      <td>0.039565</td>\n",
       "    </tr>\n",
       "    <tr>\n",
       "      <th>Arkansas</th>\n",
       "      <td>28.88</td>\n",
       "      <td>27.68</td>\n",
       "      <td>27.74</td>\n",
       "      <td>27.74</td>\n",
       "      <td>28.22</td>\n",
       "      <td>28.53</td>\n",
       "      <td>28.11</td>\n",
       "      <td>28.35</td>\n",
       "      <td>28.40</td>\n",
       "      <td>27.44</td>\n",
       "      <td>...</td>\n",
       "      <td>0.067422</td>\n",
       "      <td>0.067155</td>\n",
       "      <td>0.100393</td>\n",
       "      <td>0.099858</td>\n",
       "      <td>0.199083</td>\n",
       "      <td>0.165683</td>\n",
       "      <td>0.165241</td>\n",
       "      <td>0.164169</td>\n",
       "      <td>0.293376</td>\n",
       "      <td>0.194278</td>\n",
       "    </tr>\n",
       "    <tr>\n",
       "      <th>California</th>\n",
       "      <td>18.59</td>\n",
       "      <td>18.54</td>\n",
       "      <td>18.19</td>\n",
       "      <td>18.51</td>\n",
       "      <td>18.39</td>\n",
       "      <td>18.29</td>\n",
       "      <td>18.25</td>\n",
       "      <td>18.04</td>\n",
       "      <td>17.89</td>\n",
       "      <td>17.99</td>\n",
       "      <td>...</td>\n",
       "      <td>0.103086</td>\n",
       "      <td>0.068975</td>\n",
       "      <td>0.114650</td>\n",
       "      <td>0.096113</td>\n",
       "      <td>0.088480</td>\n",
       "      <td>0.124012</td>\n",
       "      <td>0.114685</td>\n",
       "      <td>0.125547</td>\n",
       "      <td>0.130886</td>\n",
       "      <td>0.088762</td>\n",
       "    </tr>\n",
       "    <tr>\n",
       "      <th>Colorado</th>\n",
       "      <td>17.87</td>\n",
       "      <td>17.92</td>\n",
       "      <td>17.97</td>\n",
       "      <td>17.41</td>\n",
       "      <td>16.96</td>\n",
       "      <td>17.06</td>\n",
       "      <td>16.29</td>\n",
       "      <td>16.42</td>\n",
       "      <td>15.57</td>\n",
       "      <td>15.18</td>\n",
       "      <td>...</td>\n",
       "      <td>0.037342</td>\n",
       "      <td>0.054980</td>\n",
       "      <td>0.072195</td>\n",
       "      <td>0.035669</td>\n",
       "      <td>0.140460</td>\n",
       "      <td>0.086825</td>\n",
       "      <td>0.223672</td>\n",
       "      <td>0.222606</td>\n",
       "      <td>0.272219</td>\n",
       "      <td>0.100713</td>\n",
       "    </tr>\n",
       "    <tr>\n",
       "      <th>Connecticut</th>\n",
       "      <td>24.26</td>\n",
       "      <td>24.15</td>\n",
       "      <td>24.21</td>\n",
       "      <td>24.04</td>\n",
       "      <td>23.84</td>\n",
       "      <td>23.53</td>\n",
       "      <td>22.44</td>\n",
       "      <td>22.35</td>\n",
       "      <td>22.26</td>\n",
       "      <td>21.92</td>\n",
       "      <td>...</td>\n",
       "      <td>0.027803</td>\n",
       "      <td>0.055697</td>\n",
       "      <td>0.167764</td>\n",
       "      <td>0.055739</td>\n",
       "      <td>0.055981</td>\n",
       "      <td>0.084145</td>\n",
       "      <td>0.055469</td>\n",
       "      <td>0.082731</td>\n",
       "      <td>0.027646</td>\n",
       "      <td>0.081631</td>\n",
       "    </tr>\n",
       "    <tr>\n",
       "      <th>Delaware</th>\n",
       "      <td>NaN</td>\n",
       "      <td>26.25</td>\n",
       "      <td>28.48</td>\n",
       "      <td>29.13</td>\n",
       "      <td>30.31</td>\n",
       "      <td>26.68</td>\n",
       "      <td>25.12</td>\n",
       "      <td>24.90</td>\n",
       "      <td>24.80</td>\n",
       "      <td>25.29</td>\n",
       "      <td>...</td>\n",
       "      <td>NaN</td>\n",
       "      <td>0.105716</td>\n",
       "      <td>0.210070</td>\n",
       "      <td>0.103957</td>\n",
       "      <td>0.103394</td>\n",
       "      <td>0.205389</td>\n",
       "      <td>0.597976</td>\n",
       "      <td>0.098194</td>\n",
       "      <td>0.096910</td>\n",
       "      <td>0.190129</td>\n",
       "    </tr>\n",
       "    <tr>\n",
       "      <th>District of Columbia</th>\n",
       "      <td>15.41</td>\n",
       "      <td>14.78</td>\n",
       "      <td>15.41</td>\n",
       "      <td>14.63</td>\n",
       "      <td>13.57</td>\n",
       "      <td>13.36</td>\n",
       "      <td>12.49</td>\n",
       "      <td>11.14</td>\n",
       "      <td>10.28</td>\n",
       "      <td>11.60</td>\n",
       "      <td>...</td>\n",
       "      <td>0.910618</td>\n",
       "      <td>0.446277</td>\n",
       "      <td>0.734031</td>\n",
       "      <td>0.720490</td>\n",
       "      <td>0.854147</td>\n",
       "      <td>0.991854</td>\n",
       "      <td>2.387882</td>\n",
       "      <td>1.339678</td>\n",
       "      <td>1.620096</td>\n",
       "      <td>1.708793</td>\n",
       "    </tr>\n",
       "    <tr>\n",
       "      <th>Florida</th>\n",
       "      <td>25.34</td>\n",
       "      <td>24.98</td>\n",
       "      <td>24.68</td>\n",
       "      <td>24.71</td>\n",
       "      <td>24.52</td>\n",
       "      <td>24.15</td>\n",
       "      <td>23.39</td>\n",
       "      <td>23.08</td>\n",
       "      <td>22.55</td>\n",
       "      <td>22.29</td>\n",
       "      <td>...</td>\n",
       "      <td>0.085456</td>\n",
       "      <td>0.128260</td>\n",
       "      <td>0.145543</td>\n",
       "      <td>0.114371</td>\n",
       "      <td>0.140850</td>\n",
       "      <td>0.069840</td>\n",
       "      <td>0.142325</td>\n",
       "      <td>0.139358</td>\n",
       "      <td>0.132680</td>\n",
       "      <td>0.136915</td>\n",
       "    </tr>\n",
       "    <tr>\n",
       "      <th>Georgia</th>\n",
       "      <td>23.61</td>\n",
       "      <td>23.35</td>\n",
       "      <td>22.85</td>\n",
       "      <td>23.32</td>\n",
       "      <td>23.10</td>\n",
       "      <td>22.76</td>\n",
       "      <td>21.92</td>\n",
       "      <td>22.10</td>\n",
       "      <td>21.57</td>\n",
       "      <td>21.67</td>\n",
       "      <td>...</td>\n",
       "      <td>0.178265</td>\n",
       "      <td>0.195793</td>\n",
       "      <td>0.164883</td>\n",
       "      <td>0.086295</td>\n",
       "      <td>0.076049</td>\n",
       "      <td>0.178951</td>\n",
       "      <td>0.203712</td>\n",
       "      <td>0.265741</td>\n",
       "      <td>0.226670</td>\n",
       "      <td>0.214652</td>\n",
       "    </tr>\n",
       "    <tr>\n",
       "      <th>Hawaii</th>\n",
       "      <td>NaN</td>\n",
       "      <td>NaN</td>\n",
       "      <td>NaN</td>\n",
       "      <td>NaN</td>\n",
       "      <td>NaN</td>\n",
       "      <td>NaN</td>\n",
       "      <td>NaN</td>\n",
       "      <td>NaN</td>\n",
       "      <td>23.43</td>\n",
       "      <td>24.29</td>\n",
       "      <td>...</td>\n",
       "      <td>NaN</td>\n",
       "      <td>NaN</td>\n",
       "      <td>NaN</td>\n",
       "      <td>NaN</td>\n",
       "      <td>NaN</td>\n",
       "      <td>NaN</td>\n",
       "      <td>NaN</td>\n",
       "      <td>NaN</td>\n",
       "      <td>0.069680</td>\n",
       "      <td>0.069149</td>\n",
       "    </tr>\n",
       "    <tr>\n",
       "      <th>Idaho</th>\n",
       "      <td>NaN</td>\n",
       "      <td>NaN</td>\n",
       "      <td>NaN</td>\n",
       "      <td>NaN</td>\n",
       "      <td>NaN</td>\n",
       "      <td>NaN</td>\n",
       "      <td>22.00</td>\n",
       "      <td>NaN</td>\n",
       "      <td>21.08</td>\n",
       "      <td>NaN</td>\n",
       "      <td>...</td>\n",
       "      <td>NaN</td>\n",
       "      <td>NaN</td>\n",
       "      <td>NaN</td>\n",
       "      <td>NaN</td>\n",
       "      <td>NaN</td>\n",
       "      <td>NaN</td>\n",
       "      <td>0.052606</td>\n",
       "      <td>NaN</td>\n",
       "      <td>0.050898</td>\n",
       "      <td>NaN</td>\n",
       "    </tr>\n",
       "    <tr>\n",
       "      <th>Illinois</th>\n",
       "      <td>22.99</td>\n",
       "      <td>23.14</td>\n",
       "      <td>22.42</td>\n",
       "      <td>22.48</td>\n",
       "      <td>22.45</td>\n",
       "      <td>22.26</td>\n",
       "      <td>21.49</td>\n",
       "      <td>21.40</td>\n",
       "      <td>21.42</td>\n",
       "      <td>20.93</td>\n",
       "      <td>...</td>\n",
       "      <td>0.209618</td>\n",
       "      <td>0.194401</td>\n",
       "      <td>0.328086</td>\n",
       "      <td>0.289017</td>\n",
       "      <td>0.274702</td>\n",
       "      <td>0.323553</td>\n",
       "      <td>0.678690</td>\n",
       "      <td>0.460975</td>\n",
       "      <td>0.406385</td>\n",
       "      <td>0.283238</td>\n",
       "    </tr>\n",
       "    <tr>\n",
       "      <th>Indiana</th>\n",
       "      <td>29.10</td>\n",
       "      <td>29.21</td>\n",
       "      <td>28.48</td>\n",
       "      <td>27.42</td>\n",
       "      <td>28.09</td>\n",
       "      <td>28.58</td>\n",
       "      <td>27.83</td>\n",
       "      <td>26.84</td>\n",
       "      <td>26.94</td>\n",
       "      <td>26.71</td>\n",
       "      <td>...</td>\n",
       "      <td>0.121270</td>\n",
       "      <td>0.135958</td>\n",
       "      <td>0.120608</td>\n",
       "      <td>0.104998</td>\n",
       "      <td>0.089661</td>\n",
       "      <td>0.148539</td>\n",
       "      <td>0.205701</td>\n",
       "      <td>0.219522</td>\n",
       "      <td>0.218589</td>\n",
       "      <td>0.158861</td>\n",
       "    </tr>\n",
       "    <tr>\n",
       "      <th>Iowa</th>\n",
       "      <td>NaN</td>\n",
       "      <td>27.90</td>\n",
       "      <td>NaN</td>\n",
       "      <td>26.50</td>\n",
       "      <td>NaN</td>\n",
       "      <td>27.10</td>\n",
       "      <td>26.32</td>\n",
       "      <td>25.60</td>\n",
       "      <td>25.74</td>\n",
       "      <td>25.10</td>\n",
       "      <td>...</td>\n",
       "      <td>NaN</td>\n",
       "      <td>0.064023</td>\n",
       "      <td>NaN</td>\n",
       "      <td>0.063579</td>\n",
       "      <td>NaN</td>\n",
       "      <td>0.095085</td>\n",
       "      <td>0.156589</td>\n",
       "      <td>0.062490</td>\n",
       "      <td>0.031182</td>\n",
       "      <td>0.030850</td>\n",
       "    </tr>\n",
       "    <tr>\n",
       "      <th>Kansas</th>\n",
       "      <td>NaN</td>\n",
       "      <td>22.36</td>\n",
       "      <td>22.17</td>\n",
       "      <td>21.97</td>\n",
       "      <td>21.32</td>\n",
       "      <td>22.11</td>\n",
       "      <td>21.30</td>\n",
       "      <td>21.05</td>\n",
       "      <td>20.97</td>\n",
       "      <td>21.18</td>\n",
       "      <td>...</td>\n",
       "      <td>NaN</td>\n",
       "      <td>0.034345</td>\n",
       "      <td>0.171982</td>\n",
       "      <td>0.137310</td>\n",
       "      <td>0.068693</td>\n",
       "      <td>0.137301</td>\n",
       "      <td>0.068153</td>\n",
       "      <td>0.102140</td>\n",
       "      <td>0.068015</td>\n",
       "      <td>0.100989</td>\n",
       "    </tr>\n",
       "    <tr>\n",
       "      <th>Kentucky</th>\n",
       "      <td>26.61</td>\n",
       "      <td>26.76</td>\n",
       "      <td>25.69</td>\n",
       "      <td>26.31</td>\n",
       "      <td>25.94</td>\n",
       "      <td>26.73</td>\n",
       "      <td>26.15</td>\n",
       "      <td>26.07</td>\n",
       "      <td>26.53</td>\n",
       "      <td>26.05</td>\n",
       "      <td>...</td>\n",
       "      <td>0.090632</td>\n",
       "      <td>0.090394</td>\n",
       "      <td>0.045076</td>\n",
       "      <td>0.134705</td>\n",
       "      <td>0.089517</td>\n",
       "      <td>0.111915</td>\n",
       "      <td>0.088704</td>\n",
       "      <td>0.199454</td>\n",
       "      <td>0.176751</td>\n",
       "      <td>0.261531</td>\n",
       "    </tr>\n",
       "    <tr>\n",
       "      <th>Louisiana</th>\n",
       "      <td>28.65</td>\n",
       "      <td>28.58</td>\n",
       "      <td>28.61</td>\n",
       "      <td>28.75</td>\n",
       "      <td>28.90</td>\n",
       "      <td>28.45</td>\n",
       "      <td>27.29</td>\n",
       "      <td>27.16</td>\n",
       "      <td>27.44</td>\n",
       "      <td>27.49</td>\n",
       "      <td>...</td>\n",
       "      <td>0.236576</td>\n",
       "      <td>0.321149</td>\n",
       "      <td>0.299039</td>\n",
       "      <td>0.320216</td>\n",
       "      <td>0.278971</td>\n",
       "      <td>0.559285</td>\n",
       "      <td>0.735287</td>\n",
       "      <td>0.609990</td>\n",
       "      <td>0.721509</td>\n",
       "      <td>0.456746</td>\n",
       "    </tr>\n",
       "    <tr>\n",
       "      <th>Maine</th>\n",
       "      <td>27.42</td>\n",
       "      <td>NaN</td>\n",
       "      <td>NaN</td>\n",
       "      <td>26.01</td>\n",
       "      <td>NaN</td>\n",
       "      <td>NaN</td>\n",
       "      <td>NaN</td>\n",
       "      <td>NaN</td>\n",
       "      <td>24.72</td>\n",
       "      <td>NaN</td>\n",
       "      <td>...</td>\n",
       "      <td>0.075183</td>\n",
       "      <td>NaN</td>\n",
       "      <td>NaN</td>\n",
       "      <td>0.074856</td>\n",
       "      <td>NaN</td>\n",
       "      <td>NaN</td>\n",
       "      <td>NaN</td>\n",
       "      <td>NaN</td>\n",
       "      <td>0.143295</td>\n",
       "      <td>NaN</td>\n",
       "    </tr>\n",
       "    <tr>\n",
       "      <th>Maryland</th>\n",
       "      <td>22.58</td>\n",
       "      <td>21.99</td>\n",
       "      <td>22.19</td>\n",
       "      <td>21.40</td>\n",
       "      <td>21.07</td>\n",
       "      <td>21.60</td>\n",
       "      <td>20.78</td>\n",
       "      <td>20.59</td>\n",
       "      <td>20.85</td>\n",
       "      <td>20.13</td>\n",
       "      <td>...</td>\n",
       "      <td>0.016732</td>\n",
       "      <td>0.216436</td>\n",
       "      <td>0.182832</td>\n",
       "      <td>0.132184</td>\n",
       "      <td>0.148940</td>\n",
       "      <td>0.330815</td>\n",
       "      <td>0.308185</td>\n",
       "      <td>0.308208</td>\n",
       "      <td>0.355972</td>\n",
       "      <td>0.095797</td>\n",
       "    </tr>\n",
       "    <tr>\n",
       "      <th>Massachusetts</th>\n",
       "      <td>22.08</td>\n",
       "      <td>22.33</td>\n",
       "      <td>21.66</td>\n",
       "      <td>21.58</td>\n",
       "      <td>20.61</td>\n",
       "      <td>20.94</td>\n",
       "      <td>19.91</td>\n",
       "      <td>20.22</td>\n",
       "      <td>19.89</td>\n",
       "      <td>19.24</td>\n",
       "      <td>...</td>\n",
       "      <td>0.059300</td>\n",
       "      <td>0.073590</td>\n",
       "      <td>0.044041</td>\n",
       "      <td>0.014578</td>\n",
       "      <td>0.014488</td>\n",
       "      <td>0.072543</td>\n",
       "      <td>0.057268</td>\n",
       "      <td>0.042968</td>\n",
       "      <td>0.099980</td>\n",
       "      <td>0.084079</td>\n",
       "    </tr>\n",
       "    <tr>\n",
       "      <th>Michigan</th>\n",
       "      <td>25.59</td>\n",
       "      <td>25.33</td>\n",
       "      <td>25.18</td>\n",
       "      <td>25.01</td>\n",
       "      <td>24.67</td>\n",
       "      <td>25.13</td>\n",
       "      <td>24.70</td>\n",
       "      <td>24.09</td>\n",
       "      <td>23.66</td>\n",
       "      <td>23.65</td>\n",
       "      <td>...</td>\n",
       "      <td>0.100909</td>\n",
       "      <td>0.110858</td>\n",
       "      <td>0.110794</td>\n",
       "      <td>0.080303</td>\n",
       "      <td>0.080033</td>\n",
       "      <td>0.090118</td>\n",
       "      <td>0.248736</td>\n",
       "      <td>0.239184</td>\n",
       "      <td>0.139480</td>\n",
       "      <td>0.138061</td>\n",
       "    </tr>\n",
       "    <tr>\n",
       "      <th>Minnesota</th>\n",
       "      <td>22.55</td>\n",
       "      <td>22.25</td>\n",
       "      <td>22.04</td>\n",
       "      <td>21.74</td>\n",
       "      <td>21.14</td>\n",
       "      <td>21.42</td>\n",
       "      <td>20.21</td>\n",
       "      <td>20.35</td>\n",
       "      <td>20.29</td>\n",
       "      <td>19.87</td>\n",
       "      <td>...</td>\n",
       "      <td>0.036649</td>\n",
       "      <td>0.091081</td>\n",
       "      <td>0.090580</td>\n",
       "      <td>0.053796</td>\n",
       "      <td>0.053465</td>\n",
       "      <td>0.035463</td>\n",
       "      <td>0.192733</td>\n",
       "      <td>0.209894</td>\n",
       "      <td>0.226563</td>\n",
       "      <td>0.172618</td>\n",
       "    </tr>\n",
       "    <tr>\n",
       "      <th>Mississippi</th>\n",
       "      <td>23.92</td>\n",
       "      <td>24.49</td>\n",
       "      <td>24.40</td>\n",
       "      <td>24.22</td>\n",
       "      <td>24.02</td>\n",
       "      <td>23.75</td>\n",
       "      <td>23.81</td>\n",
       "      <td>24.52</td>\n",
       "      <td>23.14</td>\n",
       "      <td>22.76</td>\n",
       "      <td>...</td>\n",
       "      <td>0.166996</td>\n",
       "      <td>0.066837</td>\n",
       "      <td>0.200754</td>\n",
       "      <td>0.402131</td>\n",
       "      <td>0.100451</td>\n",
       "      <td>0.201603</td>\n",
       "      <td>0.440683</td>\n",
       "      <td>0.476181</td>\n",
       "      <td>0.884447</td>\n",
       "      <td>0.815482</td>\n",
       "    </tr>\n",
       "    <tr>\n",
       "      <th>Missouri</th>\n",
       "      <td>26.58</td>\n",
       "      <td>26.39</td>\n",
       "      <td>26.29</td>\n",
       "      <td>26.16</td>\n",
       "      <td>25.83</td>\n",
       "      <td>26.35</td>\n",
       "      <td>26.29</td>\n",
       "      <td>25.61</td>\n",
       "      <td>25.01</td>\n",
       "      <td>25.11</td>\n",
       "      <td>...</td>\n",
       "      <td>0.131935</td>\n",
       "      <td>0.213687</td>\n",
       "      <td>0.164123</td>\n",
       "      <td>0.163572</td>\n",
       "      <td>0.228517</td>\n",
       "      <td>0.293282</td>\n",
       "      <td>0.259396</td>\n",
       "      <td>0.210426</td>\n",
       "      <td>0.242086</td>\n",
       "      <td>0.352256</td>\n",
       "    </tr>\n",
       "    <tr>\n",
       "      <th>Montana</th>\n",
       "      <td>NaN</td>\n",
       "      <td>27.06</td>\n",
       "      <td>NaN</td>\n",
       "      <td>23.48</td>\n",
       "      <td>NaN</td>\n",
       "      <td>23.63</td>\n",
       "      <td>NaN</td>\n",
       "      <td>NaN</td>\n",
       "      <td>NaN</td>\n",
       "      <td>NaN</td>\n",
       "      <td>...</td>\n",
       "      <td>NaN</td>\n",
       "      <td>0.096810</td>\n",
       "      <td>NaN</td>\n",
       "      <td>0.095193</td>\n",
       "      <td>NaN</td>\n",
       "      <td>0.187130</td>\n",
       "      <td>NaN</td>\n",
       "      <td>NaN</td>\n",
       "      <td>NaN</td>\n",
       "      <td>NaN</td>\n",
       "    </tr>\n",
       "    <tr>\n",
       "      <th>Nebraska</th>\n",
       "      <td>NaN</td>\n",
       "      <td>23.47</td>\n",
       "      <td>NaN</td>\n",
       "      <td>NaN</td>\n",
       "      <td>22.35</td>\n",
       "      <td>22.19</td>\n",
       "      <td>21.63</td>\n",
       "      <td>21.48</td>\n",
       "      <td>21.46</td>\n",
       "      <td>21.93</td>\n",
       "      <td>...</td>\n",
       "      <td>NaN</td>\n",
       "      <td>0.158212</td>\n",
       "      <td>NaN</td>\n",
       "      <td>NaN</td>\n",
       "      <td>0.155499</td>\n",
       "      <td>0.051695</td>\n",
       "      <td>0.050924</td>\n",
       "      <td>0.254075</td>\n",
       "      <td>0.101093</td>\n",
       "      <td>0.049864</td>\n",
       "    </tr>\n",
       "    <tr>\n",
       "      <th>Nevada</th>\n",
       "      <td>24.11</td>\n",
       "      <td>24.07</td>\n",
       "      <td>24.82</td>\n",
       "      <td>24.80</td>\n",
       "      <td>23.69</td>\n",
       "      <td>23.48</td>\n",
       "      <td>23.19</td>\n",
       "      <td>24.02</td>\n",
       "      <td>22.63</td>\n",
       "      <td>23.53</td>\n",
       "      <td>...</td>\n",
       "      <td>0.140890</td>\n",
       "      <td>0.034592</td>\n",
       "      <td>0.102039</td>\n",
       "      <td>0.066710</td>\n",
       "      <td>0.131822</td>\n",
       "      <td>0.097398</td>\n",
       "      <td>0.159034</td>\n",
       "      <td>0.157343</td>\n",
       "      <td>0.156535</td>\n",
       "      <td>0.122419</td>\n",
       "    </tr>\n",
       "    <tr>\n",
       "      <th>New Hampshire</th>\n",
       "      <td>NaN</td>\n",
       "      <td>NaN</td>\n",
       "      <td>NaN</td>\n",
       "      <td>NaN</td>\n",
       "      <td>NaN</td>\n",
       "      <td>NaN</td>\n",
       "      <td>22.52</td>\n",
       "      <td>NaN</td>\n",
       "      <td>22.63</td>\n",
       "      <td>NaN</td>\n",
       "      <td>...</td>\n",
       "      <td>NaN</td>\n",
       "      <td>NaN</td>\n",
       "      <td>NaN</td>\n",
       "      <td>NaN</td>\n",
       "      <td>NaN</td>\n",
       "      <td>NaN</td>\n",
       "      <td>0.071995</td>\n",
       "      <td>NaN</td>\n",
       "      <td>0.071324</td>\n",
       "      <td>NaN</td>\n",
       "    </tr>\n",
       "    <tr>\n",
       "      <th>New Jersey</th>\n",
       "      <td>25.75</td>\n",
       "      <td>25.99</td>\n",
       "      <td>24.97</td>\n",
       "      <td>24.74</td>\n",
       "      <td>23.94</td>\n",
       "      <td>24.52</td>\n",
       "      <td>22.85</td>\n",
       "      <td>22.50</td>\n",
       "      <td>22.55</td>\n",
       "      <td>21.89</td>\n",
       "      <td>...</td>\n",
       "      <td>0.067128</td>\n",
       "      <td>0.100469</td>\n",
       "      <td>0.100621</td>\n",
       "      <td>0.144354</td>\n",
       "      <td>0.112252</td>\n",
       "      <td>0.123843</td>\n",
       "      <td>0.151072</td>\n",
       "      <td>0.097174</td>\n",
       "      <td>0.129159</td>\n",
       "      <td>0.031576</td>\n",
       "    </tr>\n",
       "    <tr>\n",
       "      <th>New Mexico</th>\n",
       "      <td>21.78</td>\n",
       "      <td>21.57</td>\n",
       "      <td>22.33</td>\n",
       "      <td>22.05</td>\n",
       "      <td>21.42</td>\n",
       "      <td>21.70</td>\n",
       "      <td>21.23</td>\n",
       "      <td>21.10</td>\n",
       "      <td>20.31</td>\n",
       "      <td>21.37</td>\n",
       "      <td>...</td>\n",
       "      <td>0.047948</td>\n",
       "      <td>0.095918</td>\n",
       "      <td>0.192214</td>\n",
       "      <td>0.095782</td>\n",
       "      <td>0.095446</td>\n",
       "      <td>0.190764</td>\n",
       "      <td>0.047262</td>\n",
       "      <td>0.189273</td>\n",
       "      <td>0.141886</td>\n",
       "      <td>0.093885</td>\n",
       "    </tr>\n",
       "    <tr>\n",
       "      <th>New York</th>\n",
       "      <td>22.71</td>\n",
       "      <td>22.62</td>\n",
       "      <td>22.24</td>\n",
       "      <td>22.27</td>\n",
       "      <td>21.97</td>\n",
       "      <td>21.82</td>\n",
       "      <td>20.46</td>\n",
       "      <td>20.47</td>\n",
       "      <td>20.09</td>\n",
       "      <td>20.05</td>\n",
       "      <td>...</td>\n",
       "      <td>0.065835</td>\n",
       "      <td>0.106083</td>\n",
       "      <td>0.075967</td>\n",
       "      <td>0.065493</td>\n",
       "      <td>0.066523</td>\n",
       "      <td>0.046264</td>\n",
       "      <td>0.186530</td>\n",
       "      <td>0.152461</td>\n",
       "      <td>0.081753</td>\n",
       "      <td>0.090601</td>\n",
       "    </tr>\n",
       "    <tr>\n",
       "      <th>North Carolina</th>\n",
       "      <td>22.28</td>\n",
       "      <td>21.94</td>\n",
       "      <td>21.41</td>\n",
       "      <td>21.58</td>\n",
       "      <td>21.19</td>\n",
       "      <td>21.39</td>\n",
       "      <td>20.76</td>\n",
       "      <td>20.84</td>\n",
       "      <td>20.34</td>\n",
       "      <td>20.59</td>\n",
       "      <td>...</td>\n",
       "      <td>0.030169</td>\n",
       "      <td>0.119489</td>\n",
       "      <td>0.088698</td>\n",
       "      <td>0.068137</td>\n",
       "      <td>0.096306</td>\n",
       "      <td>0.104881</td>\n",
       "      <td>0.208508</td>\n",
       "      <td>0.196281</td>\n",
       "      <td>0.304555</td>\n",
       "      <td>0.135795</td>\n",
       "    </tr>\n",
       "    <tr>\n",
       "      <th>North Dakota</th>\n",
       "      <td>NaN</td>\n",
       "      <td>NaN</td>\n",
       "      <td>NaN</td>\n",
       "      <td>NaN</td>\n",
       "      <td>NaN</td>\n",
       "      <td>NaN</td>\n",
       "      <td>NaN</td>\n",
       "      <td>NaN</td>\n",
       "      <td>20.81</td>\n",
       "      <td>NaN</td>\n",
       "      <td>...</td>\n",
       "      <td>NaN</td>\n",
       "      <td>NaN</td>\n",
       "      <td>NaN</td>\n",
       "      <td>NaN</td>\n",
       "      <td>NaN</td>\n",
       "      <td>NaN</td>\n",
       "      <td>NaN</td>\n",
       "      <td>NaN</td>\n",
       "      <td>0.127563</td>\n",
       "      <td>NaN</td>\n",
       "    </tr>\n",
       "    <tr>\n",
       "      <th>Ohio</th>\n",
       "      <td>30.20</td>\n",
       "      <td>29.89</td>\n",
       "      <td>29.45</td>\n",
       "      <td>29.45</td>\n",
       "      <td>28.74</td>\n",
       "      <td>28.75</td>\n",
       "      <td>28.86</td>\n",
       "      <td>28.21</td>\n",
       "      <td>27.97</td>\n",
       "      <td>27.44</td>\n",
       "      <td>...</td>\n",
       "      <td>0.060375</td>\n",
       "      <td>0.111939</td>\n",
       "      <td>0.094710</td>\n",
       "      <td>0.180124</td>\n",
       "      <td>0.085547</td>\n",
       "      <td>0.119770</td>\n",
       "      <td>0.280135</td>\n",
       "      <td>0.161619</td>\n",
       "      <td>0.279995</td>\n",
       "      <td>0.143058</td>\n",
       "    </tr>\n",
       "    <tr>\n",
       "      <th>Oklahoma</th>\n",
       "      <td>26.42</td>\n",
       "      <td>26.64</td>\n",
       "      <td>26.22</td>\n",
       "      <td>26.20</td>\n",
       "      <td>26.35</td>\n",
       "      <td>26.16</td>\n",
       "      <td>25.67</td>\n",
       "      <td>25.38</td>\n",
       "      <td>25.23</td>\n",
       "      <td>25.59</td>\n",
       "      <td>...</td>\n",
       "      <td>0.051572</td>\n",
       "      <td>0.127833</td>\n",
       "      <td>0.025487</td>\n",
       "      <td>0.025440</td>\n",
       "      <td>0.126804</td>\n",
       "      <td>0.101087</td>\n",
       "      <td>0.050168</td>\n",
       "      <td>0.199015</td>\n",
       "      <td>0.172676</td>\n",
       "      <td>0.170924</td>\n",
       "    </tr>\n",
       "    <tr>\n",
       "      <th>Oregon</th>\n",
       "      <td>19.69</td>\n",
       "      <td>18.74</td>\n",
       "      <td>18.43</td>\n",
       "      <td>NaN</td>\n",
       "      <td>NaN</td>\n",
       "      <td>18.78</td>\n",
       "      <td>17.56</td>\n",
       "      <td>18.07</td>\n",
       "      <td>17.43</td>\n",
       "      <td>NaN</td>\n",
       "      <td>...</td>\n",
       "      <td>0.050375</td>\n",
       "      <td>0.049640</td>\n",
       "      <td>0.048858</td>\n",
       "      <td>NaN</td>\n",
       "      <td>NaN</td>\n",
       "      <td>0.023709</td>\n",
       "      <td>0.164855</td>\n",
       "      <td>0.141505</td>\n",
       "      <td>0.047244</td>\n",
       "      <td>NaN</td>\n",
       "    </tr>\n",
       "    <tr>\n",
       "      <th>Pennsylvania</th>\n",
       "      <td>32.42</td>\n",
       "      <td>31.64</td>\n",
       "      <td>31.25</td>\n",
       "      <td>31.13</td>\n",
       "      <td>30.71</td>\n",
       "      <td>30.55</td>\n",
       "      <td>29.26</td>\n",
       "      <td>29.17</td>\n",
       "      <td>29.25</td>\n",
       "      <td>28.53</td>\n",
       "      <td>...</td>\n",
       "      <td>0.078203</td>\n",
       "      <td>0.109354</td>\n",
       "      <td>0.078221</td>\n",
       "      <td>0.117137</td>\n",
       "      <td>0.148356</td>\n",
       "      <td>0.148414</td>\n",
       "      <td>0.269977</td>\n",
       "      <td>0.262103</td>\n",
       "      <td>0.270027</td>\n",
       "      <td>0.237026</td>\n",
       "    </tr>\n",
       "    <tr>\n",
       "      <th>Rhode Island</th>\n",
       "      <td>23.94</td>\n",
       "      <td>23.48</td>\n",
       "      <td>NaN</td>\n",
       "      <td>NaN</td>\n",
       "      <td>NaN</td>\n",
       "      <td>NaN</td>\n",
       "      <td>22.60</td>\n",
       "      <td>NaN</td>\n",
       "      <td>NaN</td>\n",
       "      <td>NaN</td>\n",
       "      <td>...</td>\n",
       "      <td>0.094771</td>\n",
       "      <td>0.094670</td>\n",
       "      <td>NaN</td>\n",
       "      <td>NaN</td>\n",
       "      <td>NaN</td>\n",
       "      <td>NaN</td>\n",
       "      <td>0.182547</td>\n",
       "      <td>NaN</td>\n",
       "      <td>NaN</td>\n",
       "      <td>NaN</td>\n",
       "    </tr>\n",
       "    <tr>\n",
       "      <th>South Carolina</th>\n",
       "      <td>25.76</td>\n",
       "      <td>24.98</td>\n",
       "      <td>24.64</td>\n",
       "      <td>25.01</td>\n",
       "      <td>25.27</td>\n",
       "      <td>24.12</td>\n",
       "      <td>24.03</td>\n",
       "      <td>23.25</td>\n",
       "      <td>23.76</td>\n",
       "      <td>23.17</td>\n",
       "      <td>...</td>\n",
       "      <td>0.144853</td>\n",
       "      <td>0.204242</td>\n",
       "      <td>0.100784</td>\n",
       "      <td>0.139321</td>\n",
       "      <td>0.078676</td>\n",
       "      <td>0.194223</td>\n",
       "      <td>0.327508</td>\n",
       "      <td>0.359669</td>\n",
       "      <td>0.316364</td>\n",
       "      <td>0.109512</td>\n",
       "    </tr>\n",
       "    <tr>\n",
       "      <th>South Dakota</th>\n",
       "      <td>26.40</td>\n",
       "      <td>26.68</td>\n",
       "      <td>NaN</td>\n",
       "      <td>NaN</td>\n",
       "      <td>NaN</td>\n",
       "      <td>NaN</td>\n",
       "      <td>24.48</td>\n",
       "      <td>NaN</td>\n",
       "      <td>NaN</td>\n",
       "      <td>24.01</td>\n",
       "      <td>...</td>\n",
       "      <td>0.117209</td>\n",
       "      <td>0.116486</td>\n",
       "      <td>NaN</td>\n",
       "      <td>NaN</td>\n",
       "      <td>NaN</td>\n",
       "      <td>NaN</td>\n",
       "      <td>0.111685</td>\n",
       "      <td>NaN</td>\n",
       "      <td>NaN</td>\n",
       "      <td>0.216294</td>\n",
       "    </tr>\n",
       "    <tr>\n",
       "      <th>Tennessee</th>\n",
       "      <td>27.03</td>\n",
       "      <td>26.92</td>\n",
       "      <td>26.49</td>\n",
       "      <td>26.60</td>\n",
       "      <td>26.15</td>\n",
       "      <td>25.87</td>\n",
       "      <td>25.54</td>\n",
       "      <td>25.88</td>\n",
       "      <td>25.78</td>\n",
       "      <td>25.27</td>\n",
       "      <td>...</td>\n",
       "      <td>0.198493</td>\n",
       "      <td>0.166659</td>\n",
       "      <td>0.180419</td>\n",
       "      <td>0.208458</td>\n",
       "      <td>0.265878</td>\n",
       "      <td>0.102501</td>\n",
       "      <td>0.215047</td>\n",
       "      <td>0.226907</td>\n",
       "      <td>0.294675</td>\n",
       "      <td>0.249040</td>\n",
       "    </tr>\n",
       "    <tr>\n",
       "      <th>Texas</th>\n",
       "      <td>20.64</td>\n",
       "      <td>20.83</td>\n",
       "      <td>20.82</td>\n",
       "      <td>20.75</td>\n",
       "      <td>20.58</td>\n",
       "      <td>20.90</td>\n",
       "      <td>20.25</td>\n",
       "      <td>19.66</td>\n",
       "      <td>19.86</td>\n",
       "      <td>19.88</td>\n",
       "      <td>...</td>\n",
       "      <td>0.059354</td>\n",
       "      <td>0.061888</td>\n",
       "      <td>0.111260</td>\n",
       "      <td>0.074193</td>\n",
       "      <td>0.052261</td>\n",
       "      <td>0.096565</td>\n",
       "      <td>0.193038</td>\n",
       "      <td>0.166503</td>\n",
       "      <td>0.213092</td>\n",
       "      <td>0.099071</td>\n",
       "    </tr>\n",
       "    <tr>\n",
       "      <th>Utah</th>\n",
       "      <td>20.31</td>\n",
       "      <td>NaN</td>\n",
       "      <td>NaN</td>\n",
       "      <td>19.38</td>\n",
       "      <td>19.62</td>\n",
       "      <td>NaN</td>\n",
       "      <td>19.05</td>\n",
       "      <td>NaN</td>\n",
       "      <td>18.98</td>\n",
       "      <td>19.13</td>\n",
       "      <td>...</td>\n",
       "      <td>0.067960</td>\n",
       "      <td>NaN</td>\n",
       "      <td>NaN</td>\n",
       "      <td>0.032239</td>\n",
       "      <td>0.031635</td>\n",
       "      <td>NaN</td>\n",
       "      <td>0.029958</td>\n",
       "      <td>NaN</td>\n",
       "      <td>0.058518</td>\n",
       "      <td>0.057084</td>\n",
       "    </tr>\n",
       "    <tr>\n",
       "      <th>Vermont</th>\n",
       "      <td>NaN</td>\n",
       "      <td>25.30</td>\n",
       "      <td>NaN</td>\n",
       "      <td>NaN</td>\n",
       "      <td>NaN</td>\n",
       "      <td>NaN</td>\n",
       "      <td>NaN</td>\n",
       "      <td>NaN</td>\n",
       "      <td>NaN</td>\n",
       "      <td>NaN</td>\n",
       "      <td>...</td>\n",
       "      <td>NaN</td>\n",
       "      <td>0.159734</td>\n",
       "      <td>NaN</td>\n",
       "      <td>NaN</td>\n",
       "      <td>NaN</td>\n",
       "      <td>NaN</td>\n",
       "      <td>NaN</td>\n",
       "      <td>NaN</td>\n",
       "      <td>NaN</td>\n",
       "      <td>NaN</td>\n",
       "    </tr>\n",
       "    <tr>\n",
       "      <th>Virginia</th>\n",
       "      <td>20.70</td>\n",
       "      <td>20.55</td>\n",
       "      <td>20.05</td>\n",
       "      <td>20.28</td>\n",
       "      <td>20.08</td>\n",
       "      <td>19.69</td>\n",
       "      <td>20.08</td>\n",
       "      <td>20.14</td>\n",
       "      <td>20.08</td>\n",
       "      <td>19.96</td>\n",
       "      <td>...</td>\n",
       "      <td>0.096081</td>\n",
       "      <td>0.059645</td>\n",
       "      <td>0.130769</td>\n",
       "      <td>0.141676</td>\n",
       "      <td>0.046961</td>\n",
       "      <td>0.117157</td>\n",
       "      <td>0.185136</td>\n",
       "      <td>0.218803</td>\n",
       "      <td>0.080315</td>\n",
       "      <td>0.147540</td>\n",
       "    </tr>\n",
       "    <tr>\n",
       "      <th>Washington</th>\n",
       "      <td>18.89</td>\n",
       "      <td>18.94</td>\n",
       "      <td>18.35</td>\n",
       "      <td>18.41</td>\n",
       "      <td>18.13</td>\n",
       "      <td>18.06</td>\n",
       "      <td>17.70</td>\n",
       "      <td>17.61</td>\n",
       "      <td>17.71</td>\n",
       "      <td>17.32</td>\n",
       "      <td>...</td>\n",
       "      <td>0.042484</td>\n",
       "      <td>0.013946</td>\n",
       "      <td>0.109769</td>\n",
       "      <td>0.040509</td>\n",
       "      <td>0.039811</td>\n",
       "      <td>0.052529</td>\n",
       "      <td>0.103377</td>\n",
       "      <td>0.154127</td>\n",
       "      <td>0.179191</td>\n",
       "      <td>0.075394</td>\n",
       "    </tr>\n",
       "    <tr>\n",
       "      <th>West Virginia</th>\n",
       "      <td>NaN</td>\n",
       "      <td>NaN</td>\n",
       "      <td>32.72</td>\n",
       "      <td>NaN</td>\n",
       "      <td>NaN</td>\n",
       "      <td>NaN</td>\n",
       "      <td>33.03</td>\n",
       "      <td>NaN</td>\n",
       "      <td>NaN</td>\n",
       "      <td>33.12</td>\n",
       "      <td>...</td>\n",
       "      <td>NaN</td>\n",
       "      <td>NaN</td>\n",
       "      <td>0.054612</td>\n",
       "      <td>NaN</td>\n",
       "      <td>NaN</td>\n",
       "      <td>NaN</td>\n",
       "      <td>0.056087</td>\n",
       "      <td>NaN</td>\n",
       "      <td>NaN</td>\n",
       "      <td>0.169494</td>\n",
       "    </tr>\n",
       "    <tr>\n",
       "      <th>Wisconsin</th>\n",
       "      <td>28.24</td>\n",
       "      <td>27.58</td>\n",
       "      <td>27.54</td>\n",
       "      <td>27.22</td>\n",
       "      <td>27.23</td>\n",
       "      <td>26.94</td>\n",
       "      <td>26.43</td>\n",
       "      <td>26.09</td>\n",
       "      <td>25.93</td>\n",
       "      <td>25.36</td>\n",
       "      <td>...</td>\n",
       "      <td>0.034737</td>\n",
       "      <td>0.051981</td>\n",
       "      <td>0.034610</td>\n",
       "      <td>0.034510</td>\n",
       "      <td>0.068805</td>\n",
       "      <td>0.051525</td>\n",
       "      <td>0.186570</td>\n",
       "      <td>0.271530</td>\n",
       "      <td>0.152260</td>\n",
       "      <td>0.134206</td>\n",
       "    </tr>\n",
       "    <tr>\n",
       "      <th>Wyoming</th>\n",
       "      <td>NaN</td>\n",
       "      <td>NaN</td>\n",
       "      <td>NaN</td>\n",
       "      <td>NaN</td>\n",
       "      <td>NaN</td>\n",
       "      <td>24.54</td>\n",
       "      <td>NaN</td>\n",
       "      <td>NaN</td>\n",
       "      <td>NaN</td>\n",
       "      <td>NaN</td>\n",
       "      <td>...</td>\n",
       "      <td>NaN</td>\n",
       "      <td>NaN</td>\n",
       "      <td>NaN</td>\n",
       "      <td>NaN</td>\n",
       "      <td>NaN</td>\n",
       "      <td>0.172783</td>\n",
       "      <td>NaN</td>\n",
       "      <td>NaN</td>\n",
       "      <td>NaN</td>\n",
       "      <td>NaN</td>\n",
       "    </tr>\n",
       "  </tbody>\n",
       "</table>\n",
       "<p>51 rows × 30 columns</p>\n",
       "</div>"
      ],
      "text/plain": [
       "                     %HighSchool                                            \\\n",
       "year                        2014   2015   2016   2017   2018   2019   2021   \n",
       "State                                                                        \n",
       "Alabama                    26.02  25.10  25.19  25.69  25.41  25.67  26.16   \n",
       "Alaska                     23.33    NaN    NaN    NaN    NaN    NaN  22.50   \n",
       "Arizona                    20.27  20.36  19.99  20.16  20.04  19.56  19.43   \n",
       "Arkansas                   28.88  27.68  27.74  27.74  28.22  28.53  28.11   \n",
       "California                 18.59  18.54  18.19  18.51  18.39  18.29  18.25   \n",
       "Colorado                   17.87  17.92  17.97  17.41  16.96  17.06  16.29   \n",
       "Connecticut                24.26  24.15  24.21  24.04  23.84  23.53  22.44   \n",
       "Delaware                     NaN  26.25  28.48  29.13  30.31  26.68  25.12   \n",
       "District of Columbia       15.41  14.78  15.41  14.63  13.57  13.36  12.49   \n",
       "Florida                    25.34  24.98  24.68  24.71  24.52  24.15  23.39   \n",
       "Georgia                    23.61  23.35  22.85  23.32  23.10  22.76  21.92   \n",
       "Hawaii                       NaN    NaN    NaN    NaN    NaN    NaN    NaN   \n",
       "Idaho                        NaN    NaN    NaN    NaN    NaN    NaN  22.00   \n",
       "Illinois                   22.99  23.14  22.42  22.48  22.45  22.26  21.49   \n",
       "Indiana                    29.10  29.21  28.48  27.42  28.09  28.58  27.83   \n",
       "Iowa                         NaN  27.90    NaN  26.50    NaN  27.10  26.32   \n",
       "Kansas                       NaN  22.36  22.17  21.97  21.32  22.11  21.30   \n",
       "Kentucky                   26.61  26.76  25.69  26.31  25.94  26.73  26.15   \n",
       "Louisiana                  28.65  28.58  28.61  28.75  28.90  28.45  27.29   \n",
       "Maine                      27.42    NaN    NaN  26.01    NaN    NaN    NaN   \n",
       "Maryland                   22.58  21.99  22.19  21.40  21.07  21.60  20.78   \n",
       "Massachusetts              22.08  22.33  21.66  21.58  20.61  20.94  19.91   \n",
       "Michigan                   25.59  25.33  25.18  25.01  24.67  25.13  24.70   \n",
       "Minnesota                  22.55  22.25  22.04  21.74  21.14  21.42  20.21   \n",
       "Mississippi                23.92  24.49  24.40  24.22  24.02  23.75  23.81   \n",
       "Missouri                   26.58  26.39  26.29  26.16  25.83  26.35  26.29   \n",
       "Montana                      NaN  27.06    NaN  23.48    NaN  23.63    NaN   \n",
       "Nebraska                     NaN  23.47    NaN    NaN  22.35  22.19  21.63   \n",
       "Nevada                     24.11  24.07  24.82  24.80  23.69  23.48  23.19   \n",
       "New Hampshire                NaN    NaN    NaN    NaN    NaN    NaN  22.52   \n",
       "New Jersey                 25.75  25.99  24.97  24.74  23.94  24.52  22.85   \n",
       "New Mexico                 21.78  21.57  22.33  22.05  21.42  21.70  21.23   \n",
       "New York                   22.71  22.62  22.24  22.27  21.97  21.82  20.46   \n",
       "North Carolina             22.28  21.94  21.41  21.58  21.19  21.39  20.76   \n",
       "North Dakota                 NaN    NaN    NaN    NaN    NaN    NaN    NaN   \n",
       "Ohio                       30.20  29.89  29.45  29.45  28.74  28.75  28.86   \n",
       "Oklahoma                   26.42  26.64  26.22  26.20  26.35  26.16  25.67   \n",
       "Oregon                     19.69  18.74  18.43    NaN    NaN  18.78  17.56   \n",
       "Pennsylvania               32.42  31.64  31.25  31.13  30.71  30.55  29.26   \n",
       "Rhode Island               23.94  23.48    NaN    NaN    NaN    NaN  22.60   \n",
       "South Carolina             25.76  24.98  24.64  25.01  25.27  24.12  24.03   \n",
       "South Dakota               26.40  26.68    NaN    NaN    NaN    NaN  24.48   \n",
       "Tennessee                  27.03  26.92  26.49  26.60  26.15  25.87  25.54   \n",
       "Texas                      20.64  20.83  20.82  20.75  20.58  20.90  20.25   \n",
       "Utah                       20.31    NaN    NaN  19.38  19.62    NaN  19.05   \n",
       "Vermont                      NaN  25.30    NaN    NaN    NaN    NaN    NaN   \n",
       "Virginia                   20.70  20.55  20.05  20.28  20.08  19.69  20.08   \n",
       "Washington                 18.89  18.94  18.35  18.41  18.13  18.06  17.70   \n",
       "West Virginia                NaN    NaN  32.72    NaN    NaN    NaN  33.03   \n",
       "Wisconsin                  28.24  27.58  27.54  27.22  27.23  26.94  26.43   \n",
       "Wyoming                      NaN    NaN    NaN    NaN    NaN  24.54    NaN   \n",
       "\n",
       "                                           ... Incidents_per_100k            \\\n",
       "year                   2022   2023   2024  ...               2014      2015   \n",
       "State                                      ...                                \n",
       "Alabama               25.16  24.94  24.60  ...           0.041242  0.082322   \n",
       "Alaska                  NaN    NaN  23.87  ...           0.135735       NaN   \n",
       "Arizona               19.72  19.18  19.34  ...           0.014856  0.087873   \n",
       "Arkansas              28.35  28.40  27.44  ...           0.067422  0.067155   \n",
       "California            18.04  17.89  17.99  ...           0.103086  0.068975   \n",
       "Colorado              16.42  15.57  15.18  ...           0.037342  0.054980   \n",
       "Connecticut           22.35  22.26  21.92  ...           0.027803  0.055697   \n",
       "Delaware              24.90  24.80  25.29  ...                NaN  0.105716   \n",
       "District of Columbia  11.14  10.28  11.60  ...           0.910618  0.446277   \n",
       "Florida               23.08  22.55  22.29  ...           0.085456  0.128260   \n",
       "Georgia               22.10  21.57  21.67  ...           0.178265  0.195793   \n",
       "Hawaii                  NaN  23.43  24.29  ...                NaN       NaN   \n",
       "Idaho                   NaN  21.08    NaN  ...                NaN       NaN   \n",
       "Illinois              21.40  21.42  20.93  ...           0.209618  0.194401   \n",
       "Indiana               26.84  26.94  26.71  ...           0.121270  0.135958   \n",
       "Iowa                  25.60  25.74  25.10  ...                NaN  0.064023   \n",
       "Kansas                21.05  20.97  21.18  ...                NaN  0.034345   \n",
       "Kentucky              26.07  26.53  26.05  ...           0.090632  0.090394   \n",
       "Louisiana             27.16  27.44  27.49  ...           0.236576  0.321149   \n",
       "Maine                   NaN  24.72    NaN  ...           0.075183       NaN   \n",
       "Maryland              20.59  20.85  20.13  ...           0.016732  0.216436   \n",
       "Massachusetts         20.22  19.89  19.24  ...           0.059300  0.073590   \n",
       "Michigan              24.09  23.66  23.65  ...           0.100909  0.110858   \n",
       "Minnesota             20.35  20.29  19.87  ...           0.036649  0.091081   \n",
       "Mississippi           24.52  23.14  22.76  ...           0.166996  0.066837   \n",
       "Missouri              25.61  25.01  25.11  ...           0.131935  0.213687   \n",
       "Montana                 NaN    NaN    NaN  ...                NaN  0.096810   \n",
       "Nebraska              21.48  21.46  21.93  ...                NaN  0.158212   \n",
       "Nevada                24.02  22.63  23.53  ...           0.140890  0.034592   \n",
       "New Hampshire           NaN  22.63    NaN  ...                NaN       NaN   \n",
       "New Jersey            22.50  22.55  21.89  ...           0.067128  0.100469   \n",
       "New Mexico            21.10  20.31  21.37  ...           0.047948  0.095918   \n",
       "New York              20.47  20.09  20.05  ...           0.065835  0.106083   \n",
       "North Carolina        20.84  20.34  20.59  ...           0.030169  0.119489   \n",
       "North Dakota            NaN  20.81    NaN  ...                NaN       NaN   \n",
       "Ohio                  28.21  27.97  27.44  ...           0.060375  0.111939   \n",
       "Oklahoma              25.38  25.23  25.59  ...           0.051572  0.127833   \n",
       "Oregon                18.07  17.43    NaN  ...           0.050375  0.049640   \n",
       "Pennsylvania          29.17  29.25  28.53  ...           0.078203  0.109354   \n",
       "Rhode Island            NaN    NaN    NaN  ...           0.094771  0.094670   \n",
       "South Carolina        23.25  23.76  23.17  ...           0.144853  0.204242   \n",
       "South Dakota            NaN    NaN  24.01  ...           0.117209  0.116486   \n",
       "Tennessee             25.88  25.78  25.27  ...           0.198493  0.166659   \n",
       "Texas                 19.66  19.86  19.88  ...           0.059354  0.061888   \n",
       "Utah                    NaN  18.98  19.13  ...           0.067960       NaN   \n",
       "Vermont                 NaN    NaN    NaN  ...                NaN  0.159734   \n",
       "Virginia              20.14  20.08  19.96  ...           0.096081  0.059645   \n",
       "Washington            17.61  17.71  17.32  ...           0.042484  0.013946   \n",
       "West Virginia           NaN    NaN  33.12  ...                NaN       NaN   \n",
       "Wisconsin             26.09  25.93  25.36  ...           0.034737  0.051981   \n",
       "Wyoming                 NaN    NaN    NaN  ...                NaN       NaN   \n",
       "\n",
       "                                                                        \\\n",
       "year                      2016      2017      2018      2019      2021   \n",
       "State                                                                    \n",
       "Alabama               0.308433  0.143597  0.286423  0.244739  0.436519   \n",
       "Alaska                     NaN       NaN       NaN       NaN  0.136487   \n",
       "Arizona               0.057711  0.071263  0.027888  0.068693  0.068716   \n",
       "Arkansas              0.100393  0.099858  0.199083  0.165683  0.165241   \n",
       "California            0.114650  0.096113  0.088480  0.124012  0.114685   \n",
       "Colorado              0.072195  0.035669  0.140460  0.086825  0.223672   \n",
       "Connecticut           0.167764  0.055739  0.055981  0.084145  0.055469   \n",
       "Delaware              0.210070  0.103957  0.103394  0.205389  0.597976   \n",
       "District of Columbia  0.734031  0.720490  0.854147  0.991854  2.387882   \n",
       "Florida               0.145543  0.114371  0.140850  0.069840  0.142325   \n",
       "Georgia               0.164883  0.086295  0.076049  0.178951  0.203712   \n",
       "Hawaii                     NaN       NaN       NaN       NaN       NaN   \n",
       "Idaho                      NaN       NaN       NaN       NaN  0.052606   \n",
       "Illinois              0.328086  0.289017  0.274702  0.323553  0.678690   \n",
       "Indiana               0.120608  0.104998  0.089661  0.148539  0.205701   \n",
       "Iowa                       NaN  0.063579       NaN  0.095085  0.156589   \n",
       "Kansas                0.171982  0.137310  0.068693  0.137301  0.068153   \n",
       "Kentucky              0.045076  0.134705  0.089517  0.111915  0.088704   \n",
       "Louisiana             0.299039  0.320216  0.278971  0.559285  0.735287   \n",
       "Maine                      NaN  0.074856       NaN       NaN       NaN   \n",
       "Maryland              0.182832  0.132184  0.148940  0.330815  0.308185   \n",
       "Massachusetts         0.044041  0.014578  0.014488  0.072543  0.057268   \n",
       "Michigan              0.110794  0.080303  0.080033  0.090118  0.248736   \n",
       "Minnesota             0.090580  0.053796  0.053465  0.035463  0.192733   \n",
       "Mississippi           0.200754  0.402131  0.100451  0.201603  0.440683   \n",
       "Missouri              0.164123  0.163572  0.228517  0.293282  0.259396   \n",
       "Montana                    NaN  0.095193       NaN  0.187130       NaN   \n",
       "Nebraska                   NaN       NaN  0.155499  0.051695  0.050924   \n",
       "Nevada                0.102039  0.066710  0.131822  0.097398  0.159034   \n",
       "New Hampshire              NaN       NaN       NaN       NaN  0.071995   \n",
       "New Jersey            0.100621  0.144354  0.112252  0.123843  0.151072   \n",
       "New Mexico            0.192214  0.095782  0.095446  0.190764  0.047262   \n",
       "New York              0.075967  0.065493  0.066523  0.046264  0.186530   \n",
       "North Carolina        0.088698  0.068137  0.096306  0.104881  0.208508   \n",
       "North Dakota               NaN       NaN       NaN       NaN       NaN   \n",
       "Ohio                  0.094710  0.180124  0.085547  0.119770  0.280135   \n",
       "Oklahoma              0.025487  0.025440  0.126804  0.101087  0.050168   \n",
       "Oregon                0.048858       NaN       NaN  0.023709  0.164855   \n",
       "Pennsylvania          0.078221  0.117137  0.148356  0.148414  0.269977   \n",
       "Rhode Island               NaN       NaN       NaN       NaN  0.182547   \n",
       "South Carolina        0.100784  0.139321  0.078676  0.194223  0.327508   \n",
       "South Dakota               NaN       NaN       NaN       NaN  0.111685   \n",
       "Tennessee             0.180419  0.208458  0.265878  0.102501  0.215047   \n",
       "Texas                 0.111260  0.074193  0.052261  0.096565  0.193038   \n",
       "Utah                       NaN  0.032239  0.031635       NaN  0.029958   \n",
       "Vermont                    NaN       NaN       NaN       NaN       NaN   \n",
       "Virginia              0.130769  0.141676  0.046961  0.117157  0.185136   \n",
       "Washington            0.109769  0.040509  0.039811  0.052529  0.103377   \n",
       "West Virginia         0.054612       NaN       NaN       NaN  0.056087   \n",
       "Wisconsin             0.034610  0.034510  0.068805  0.051525  0.186570   \n",
       "Wyoming                    NaN       NaN       NaN  0.172783       NaN   \n",
       "\n",
       "                                                    \n",
       "year                      2022      2023      2024  \n",
       "State                                               \n",
       "Alabama               0.315315  0.215329  0.484712  \n",
       "Alaska                     NaN       NaN  0.135111  \n",
       "Arizona               0.176650  0.121109  0.039565  \n",
       "Arkansas              0.164169  0.293376  0.194278  \n",
       "California            0.125547  0.130886  0.088762  \n",
       "Colorado              0.222606  0.272219  0.100713  \n",
       "Connecticut           0.082731  0.027646  0.081631  \n",
       "Delaware              0.098194  0.096910  0.190129  \n",
       "District of Columbia  1.339678  1.620096  1.708793  \n",
       "Florida               0.139358  0.132680  0.136915  \n",
       "Georgia               0.265741  0.226670  0.214652  \n",
       "Hawaii                     NaN  0.069680  0.069149  \n",
       "Idaho                      NaN  0.050898       NaN  \n",
       "Illinois              0.460975  0.406385  0.283238  \n",
       "Indiana               0.219522  0.218589  0.158861  \n",
       "Iowa                  0.062490  0.031182  0.030850  \n",
       "Kansas                0.102140  0.068015  0.100989  \n",
       "Kentucky              0.199454  0.176751  0.261531  \n",
       "Louisiana             0.609990  0.721509  0.456746  \n",
       "Maine                      NaN  0.143295       NaN  \n",
       "Maryland              0.308208  0.355972  0.095797  \n",
       "Massachusetts         0.042968  0.099980  0.084079  \n",
       "Michigan              0.239184  0.139480  0.138061  \n",
       "Minnesota             0.209894  0.226563  0.172618  \n",
       "Mississippi           0.476181  0.884447  0.815482  \n",
       "Missouri              0.210426  0.242086  0.352256  \n",
       "Montana                    NaN       NaN       NaN  \n",
       "Nebraska              0.254075  0.101093  0.049864  \n",
       "Nevada                0.157343  0.156535  0.122419  \n",
       "New Hampshire              NaN  0.071324       NaN  \n",
       "New Jersey            0.097174  0.129159  0.031576  \n",
       "New Mexico            0.189273  0.141886  0.093885  \n",
       "New York              0.152461  0.081753  0.090601  \n",
       "North Carolina        0.196281  0.304555  0.135795  \n",
       "North Dakota               NaN  0.127563       NaN  \n",
       "Ohio                  0.161619  0.279995  0.143058  \n",
       "Oklahoma              0.199015  0.172676  0.170924  \n",
       "Oregon                0.141505  0.047244       NaN  \n",
       "Pennsylvania          0.262103  0.270027  0.237026  \n",
       "Rhode Island               NaN       NaN       NaN  \n",
       "South Carolina        0.359669  0.316364  0.109512  \n",
       "South Dakota               NaN       NaN  0.216294  \n",
       "Tennessee             0.226907  0.294675  0.249040  \n",
       "Texas                 0.166503  0.213092  0.099071  \n",
       "Utah                       NaN  0.058518  0.057084  \n",
       "Vermont                    NaN       NaN       NaN  \n",
       "Virginia              0.218803  0.080315  0.147540  \n",
       "Washington            0.154127  0.179191  0.075394  \n",
       "West Virginia              NaN       NaN  0.169494  \n",
       "Wisconsin             0.271530  0.152260  0.134206  \n",
       "Wyoming                    NaN       NaN       NaN  \n",
       "\n",
       "[51 rows x 30 columns]"
      ]
     },
     "execution_count": 246,
     "metadata": {},
     "output_type": "execute_result"
    }
   ],
   "source": [
    "summary_pivot = df_top20_analysis.pivot_table(\n",
    "    index=\"State\",\n",
    "    columns=\"year\",\n",
    "    values=[\n",
    "        \"Incidents_per_100k\",\n",
    "        \"%Without_Min_Studies\",\n",
    "        \"%HighSchool\"\n",
    "    ],\n",
    "    aggfunc=\"mean\"  \n",
    ")\n",
    "summary_pivot"
   ]
  },
  {
   "cell_type": "code",
   "execution_count": null,
   "id": "e3f35e29",
   "metadata": {},
   "outputs": [],
   "source": [
    "df_top20_analysis = df_top20_analysis.sort_values(\n",
    "    by=\"Incidents_per_100k\", ascending=False\n",
    ").reset_index(drop=True)\n",
    "\n",
    "top_20=incidents_by_state.head(20)"
   ]
  },
  {
   "cell_type": "code",
   "execution_count": null,
   "id": "39eae17a",
   "metadata": {},
   "outputs": [
    {
     "data": {
      "text/html": [
       "<div>\n",
       "<style scoped>\n",
       "    .dataframe tbody tr th:only-of-type {\n",
       "        vertical-align: middle;\n",
       "    }\n",
       "\n",
       "    .dataframe tbody tr th {\n",
       "        vertical-align: top;\n",
       "    }\n",
       "\n",
       "    .dataframe thead th {\n",
       "        text-align: right;\n",
       "    }\n",
       "</style>\n",
       "<table border=\"1\" class=\"dataframe\">\n",
       "  <thead>\n",
       "    <tr style=\"text-align: right;\">\n",
       "      <th></th>\n",
       "      <th>Incident_Count</th>\n",
       "      <th>Total_Killed</th>\n",
       "      <th>Total_Injured</th>\n",
       "      <th>Total_Victims</th>\n",
       "    </tr>\n",
       "    <tr>\n",
       "      <th>State</th>\n",
       "      <th></th>\n",
       "      <th></th>\n",
       "      <th></th>\n",
       "      <th></th>\n",
       "    </tr>\n",
       "  </thead>\n",
       "  <tbody>\n",
       "    <tr>\n",
       "      <th>Texas</th>\n",
       "      <td>331</td>\n",
       "      <td>540</td>\n",
       "      <td>1371</td>\n",
       "      <td>1911</td>\n",
       "    </tr>\n",
       "    <tr>\n",
       "      <th>California</th>\n",
       "      <td>414</td>\n",
       "      <td>505</td>\n",
       "      <td>1637</td>\n",
       "      <td>2142</td>\n",
       "    </tr>\n",
       "    <tr>\n",
       "      <th>Illinois</th>\n",
       "      <td>438</td>\n",
       "      <td>353</td>\n",
       "      <td>1878</td>\n",
       "      <td>2231</td>\n",
       "    </tr>\n",
       "    <tr>\n",
       "      <th>Florida</th>\n",
       "      <td>266</td>\n",
       "      <td>350</td>\n",
       "      <td>1178</td>\n",
       "      <td>1528</td>\n",
       "    </tr>\n",
       "    <tr>\n",
       "      <th>Pennsylvania</th>\n",
       "      <td>222</td>\n",
       "      <td>209</td>\n",
       "      <td>896</td>\n",
       "      <td>1105</td>\n",
       "    </tr>\n",
       "    <tr>\n",
       "      <th>Georgia</th>\n",
       "      <td>191</td>\n",
       "      <td>205</td>\n",
       "      <td>744</td>\n",
       "      <td>949</td>\n",
       "    </tr>\n",
       "    <tr>\n",
       "      <th>Ohio</th>\n",
       "      <td>178</td>\n",
       "      <td>190</td>\n",
       "      <td>755</td>\n",
       "      <td>945</td>\n",
       "    </tr>\n",
       "    <tr>\n",
       "      <th>Louisiana</th>\n",
       "      <td>210</td>\n",
       "      <td>168</td>\n",
       "      <td>925</td>\n",
       "      <td>1093</td>\n",
       "    </tr>\n",
       "    <tr>\n",
       "      <th>North Carolina</th>\n",
       "      <td>143</td>\n",
       "      <td>159</td>\n",
       "      <td>521</td>\n",
       "      <td>680</td>\n",
       "    </tr>\n",
       "    <tr>\n",
       "      <th>Missouri</th>\n",
       "      <td>139</td>\n",
       "      <td>148</td>\n",
       "      <td>542</td>\n",
       "      <td>690</td>\n",
       "    </tr>\n",
       "  </tbody>\n",
       "</table>\n",
       "</div>"
      ],
      "text/plain": [
       "                Incident_Count  Total_Killed  Total_Injured  Total_Victims\n",
       "State                                                                     \n",
       "Texas                      331           540           1371           1911\n",
       "California                 414           505           1637           2142\n",
       "Illinois                   438           353           1878           2231\n",
       "Florida                    266           350           1178           1528\n",
       "Pennsylvania               222           209            896           1105\n",
       "Georgia                    191           205            744            949\n",
       "Ohio                       178           190            755            945\n",
       "Louisiana                  210           168            925           1093\n",
       "North Carolina             143           159            521            680\n",
       "Missouri                   139           148            542            690"
      ]
     },
     "execution_count": 248,
     "metadata": {},
     "output_type": "execute_result"
    }
   ],
   "source": [
    "casualty_summary = (\n",
    "    df_top20_analysis.groupby(\"State\")[[\"Incident_Count\", \"Total_Killed\", \"Total_Injured\", \"Total_Victims\"]]\n",
    "    .sum()\n",
    "    .sort_values(by=\"Total_Killed\", ascending=False)\n",
    ")\n",
    "\n",
    "casualty_summary.head(10)"
   ]
  },
  {
   "cell_type": "markdown",
   "id": "ecd9d89d",
   "metadata": {},
   "source": [
    "For Drop outs in Min Studies"
   ]
  },
  {
   "cell_type": "code",
   "execution_count": null,
   "id": "bdbc9ed6",
   "metadata": {},
   "outputs": [
    {
     "data": {
      "image/png": "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",
      "text/plain": [
       "<Figure size 800x600 with 1 Axes>"
      ]
     },
     "metadata": {},
     "output_type": "display_data"
    }
   ],
   "source": [
    "plt.figure(figsize=(8,6))\n",
    "sns.regplot(\n",
    "    data=df_top20_analysis,\n",
    "    x=\"%Without_Min_Studies\",\n",
    "    y=\"Incidents_per_100k\",\n",
    "    color=\"firebrick\",\n",
    "    scatter_kws={'alpha':0.6}\n",
    ")\n",
    "plt.title(\"Correlation between Dropout Rate and Gun Incidents\", fontsize=14)\n",
    "plt.xlabel(\"% Without Minimum Studies  Drop Outs\")\n",
    "plt.ylabel(\"Incidents per 100k\")\n",
    "plt.show()"
   ]
  },
  {
   "cell_type": "code",
   "execution_count": null,
   "id": "5e6c4047",
   "metadata": {},
   "outputs": [
    {
     "name": "stdout",
     "output_type": "stream",
     "text": [
      "🔹 Pearson correlation: 0.025\n",
      "🔹 p-value: 0.6203\n",
      "No significant correlation found.\n"
     ]
    }
   ],
   "source": [
    "r, p = stats.pearsonr(\n",
    "    df_top20_analysis[\"%Without_Min_Studies\"].dropna(),\n",
    "    df_top20_analysis[\"Incidents_per_100k\"].dropna()\n",
    ")\n",
    "\n",
    "print(f\"🔹 Pearson correlation: {r:.3f}\")\n",
    "print(f\"🔹 p-value: {p:.4f}\")\n",
    "\n",
    "if p < 0.05:\n",
    "    print(\" Statistically significant correlation.\")\n",
    "else:\n",
    "    print(\"No significant correlation found.\")"
   ]
  },
  {
   "cell_type": "markdown",
   "id": "adeddd21",
   "metadata": {},
   "source": [
    "No significant correlation found.\n"
   ]
  },
  {
   "cell_type": "markdown",
   "id": "4b6ba50b",
   "metadata": {},
   "source": [
    "Drop outs HighSchool"
   ]
  },
  {
   "cell_type": "code",
   "execution_count": null,
   "id": "5a3adc8c",
   "metadata": {},
   "outputs": [
    {
     "data": {
      "image/png": "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",
      "text/plain": [
       "<Figure size 800x600 with 1 Axes>"
      ]
     },
     "metadata": {},
     "output_type": "display_data"
    }
   ],
   "source": [
    "plt.figure(figsize=(8,6))\n",
    "sns.regplot(\n",
    "    data=df_top20_analysis,\n",
    "    x=\"%HighSchool\",\n",
    "    y=\"Incidents_per_100k\",\n",
    "    color=\"firebrick\",\n",
    "    scatter_kws={'alpha':0.6}\n",
    ")\n",
    "plt.title(\"Correlation between Dropout Rate and Gun Incidents\", fontsize=14)\n",
    "plt.xlabel(\"% High School Drop Outs\")\n",
    "plt.ylabel(\"Incidents per 100k\")\n",
    "plt.show()"
   ]
  },
  {
   "cell_type": "code",
   "execution_count": null,
   "id": "0909eeed",
   "metadata": {},
   "outputs": [
    {
     "name": "stdout",
     "output_type": "stream",
     "text": [
      "🔹 Pearson correlation: -0.251\n",
      "🔹 p-value: 0.0000\n",
      "Statistically significant correlation.\n"
     ]
    }
   ],
   "source": [
    "r, p = stats.pearsonr(\n",
    "    df_top20_analysis[\"%HighSchool\"].dropna(),\n",
    "    df_top20_analysis[\"Incidents_per_100k\"].dropna()\n",
    ")\n",
    "\n",
    "print(f\"🔹 Pearson correlation: {r:.3f}\")\n",
    "print(f\"🔹 p-value: {p:.4f}\")\n",
    "\n",
    "if p < 0.05:\n",
    "    print(\"Statistically significant correlation.\")\n",
    "else:\n",
    "    print(\"No significant correlation found.\")"
   ]
  },
  {
   "cell_type": "markdown",
   "id": "0ad97f24",
   "metadata": {},
   "source": [
    "AS the drop out in HighSchool decreases, the number of incidents per 100 k  decreases"
   ]
  },
  {
   "cell_type": "markdown",
   "id": "17bbd18b",
   "metadata": {},
   "source": [
    "For drop outs in Bachelors"
   ]
  },
  {
   "cell_type": "code",
   "execution_count": null,
   "id": "313344a5",
   "metadata": {},
   "outputs": [
    {
     "data": {
      "image/png": "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",
      "text/plain": [
       "<Figure size 800x600 with 1 Axes>"
      ]
     },
     "metadata": {},
     "output_type": "display_data"
    }
   ],
   "source": [
    "plt.figure(figsize=(8,6))\n",
    "sns.regplot(\n",
    "    data=df_top20_analysis,\n",
    "    x=\"%Bachelor\",\n",
    "    y=\"Incidents_per_100k\",\n",
    "    color=\"firebrick\",\n",
    "    scatter_kws={'alpha':0.6}\n",
    ")\n",
    "plt.title(\"Correlation between Dropout Rate and Gun Incidents\", fontsize=14)\n",
    "plt.xlabel(\"% Bachelor Drop Outs\")\n",
    "plt.ylabel(\"Incidents per 100k\")\n",
    "plt.show()"
   ]
  },
  {
   "cell_type": "code",
   "execution_count": null,
   "id": "21a48840",
   "metadata": {},
   "outputs": [
    {
     "name": "stdout",
     "output_type": "stream",
     "text": [
      "🔹 Pearson correlation: 0.120\n",
      "🔹 p-value: 0.0159\n",
      "Statistically significant correlation.\n"
     ]
    }
   ],
   "source": [
    "r, p = stats.pearsonr(\n",
    "    df_top20_analysis[\"%Bachelor\"].dropna(),\n",
    "    df_top20_analysis[\"Incidents_per_100k\"].dropna()\n",
    ")\n",
    "\n",
    "print(f\"🔹 Pearson correlation: {r:.3f}\")\n",
    "print(f\"🔹 p-value: {p:.4f}\")\n",
    "\n",
    "if p < 0.05:\n",
    "    print(\"Statistically significant correlation.\")\n",
    "else:\n",
    "    print(\"No significant correlation found.\")"
   ]
  },
  {
   "cell_type": "markdown",
   "id": "34266943",
   "metadata": {},
   "source": [
    "AS the drop outs in Bachelors increases, the incidents per 100 k increases"
   ]
  },
  {
   "cell_type": "markdown",
   "id": "13996586",
   "metadata": {},
   "source": [
    "Drop outs in Master Degrees"
   ]
  },
  {
   "cell_type": "code",
   "execution_count": null,
   "id": "97e58ce1",
   "metadata": {},
   "outputs": [
    {
     "data": {
      "image/png": "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",
      "text/plain": [
       "<Figure size 800x600 with 1 Axes>"
      ]
     },
     "metadata": {},
     "output_type": "display_data"
    }
   ],
   "source": [
    "plt.figure(figsize=(8,6))\n",
    "sns.regplot(\n",
    "    data=df_top20_analysis,\n",
    "    x=\"%Master_Degree\",\n",
    "    y=\"Incidents_per_100k\",\n",
    "    color=\"firebrick\",\n",
    "    scatter_kws={'alpha':0.6}\n",
    ")\n",
    "plt.title(\"Correlation between Dropout Rate and Gun Incidents\", fontsize=14)\n",
    "plt.xlabel(\"% Master_Degree  Drop Out\")\n",
    "plt.ylabel(\"Incidents per 100k\")\n",
    "plt.show()"
   ]
  },
  {
   "cell_type": "code",
   "execution_count": null,
   "id": "eebbac0f",
   "metadata": {},
   "outputs": [
    {
     "name": "stdout",
     "output_type": "stream",
     "text": [
      "🔹 Pearson correlation: 0.479\n",
      "🔹 p-value: 0.0000\n",
      "Statistically significant correlation.\n"
     ]
    }
   ],
   "source": [
    "r, p = stats.pearsonr(\n",
    "    df_top20_analysis[\"%Master_Degree\"].dropna(),\n",
    "    df_top20_analysis[\"Incidents_per_100k\"].dropna()\n",
    ")\n",
    "\n",
    "print(f\"🔹 Pearson correlation: {r:.3f}\")\n",
    "print(f\"🔹 p-value: {p:.4f}\")\n",
    "\n",
    "if p < 0.05:\n",
    "    print(\"Statistically significant correlation.\")\n",
    "else:\n",
    "    print(\"No significant correlation found.\")"
   ]
  },
  {
   "cell_type": "markdown",
   "id": "f5ec31fb",
   "metadata": {},
   "source": [
    "As the drop outs in Masters degree increases, the incidents per 100 k increases\n"
   ]
  },
  {
   "cell_type": "markdown",
   "id": "be6c8bf1",
   "metadata": {},
   "source": [
    "Doctorate Degree DropOuts"
   ]
  },
  {
   "cell_type": "code",
   "execution_count": null,
   "id": "8fdde259",
   "metadata": {},
   "outputs": [
    {
     "data": {
      "image/png": "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",
      "text/plain": [
       "<Figure size 800x600 with 1 Axes>"
      ]
     },
     "metadata": {},
     "output_type": "display_data"
    }
   ],
   "source": [
    "plt.figure(figsize=(8,6))\n",
    "sns.regplot(\n",
    "    data=df_top20_analysis,\n",
    "    x=\"%Doctorate_Degree\",\n",
    "    y=\"Incidents_per_100k\",\n",
    "    color=\"firebrick\",\n",
    "    scatter_kws={'alpha':0.6}\n",
    ")\n",
    "plt.title(\"Correlation between Dropout Rate and Gun Incidents\", fontsize=14)\n",
    "plt.xlabel(\"% Doctorate_Degree  Drop Outs\")\n",
    "plt.ylabel(\"Incidents per 100k\")\n",
    "plt.show()"
   ]
  },
  {
   "cell_type": "code",
   "execution_count": null,
   "id": "be94eaa6",
   "metadata": {},
   "outputs": [
    {
     "name": "stdout",
     "output_type": "stream",
     "text": [
      "🔹 Pearson correlation: 0.534\n",
      "🔹 p-value: 0.0000\n",
      "Statistically significant correlation.\n"
     ]
    }
   ],
   "source": [
    "r, p = stats.pearsonr(\n",
    "    df_top20_analysis[\"%Doctorate_Degree\"].dropna(),\n",
    "    df_top20_analysis[\"Incidents_per_100k\"].dropna()\n",
    ")\n",
    "\n",
    "print(f\"🔹 Pearson correlation: {r:.3f}\")\n",
    "print(f\"🔹 p-value: {p:.4f}\")\n",
    "\n",
    "if p < 0.05:\n",
    "    print(\"Statistically significant correlation.\")\n",
    "else:\n",
    "    print(\"No significant correlation found.\")"
   ]
  },
  {
   "cell_type": "markdown",
   "id": "6d1147f8",
   "metadata": {},
   "source": [
    "AS the drop outs in Doctrorate increases, the incidents per 100 k increases"
   ]
  },
  {
   "cell_type": "markdown",
   "id": "8ff41f4b",
   "metadata": {},
   "source": [
    "Map with deadliest states"
   ]
  },
  {
   "cell_type": "code",
   "execution_count": null,
   "id": "4e982ccb",
   "metadata": {},
   "outputs": [
    {
     "data": {
      "application/vnd.plotly.v1+json": {
       "config": {
        "plotlyServerURL": "https://plot.ly"
       },
       "data": [
        {
         "coloraxis": "coloraxis",
         "customdata": [
          [
           18.823,
           0.25586304059094533
          ],
          [
           23.333333333333332,
           0.1357773187736099
          ],
          [
           30.310000000000002,
           0.07343231285570573
          ],
          [
           18.997,
           0.1516658303634873
          ],
          [
           23.444,
           0.10551957332929847
          ],
          [
           25.974,
           0.12466814063788254
          ],
          [
           7.872,
           0.0694605284737859
          ],
          [
           14.623333333333335,
           0.19019262394144298
          ],
          [
           11.977,
           1.1713867398345084
          ],
          [
           22.753,
           0.12355978142503954
          ],
          [
           20.753,
           0.1791011362975237
          ],
          [
           53.335,
           0.06941451079295063
          ],
          [
           75,
           0.05175185295991534
          ],
          [
           15.707999999999998,
           0.3448663596346388
          ],
          [
           19.186,
           0.15237074738402706
          ],
          [
           18.464285714285715,
           0.07197094251149058
          ],
          [
           29.561111111111114,
           0.09876959467113244
          ],
          [
           22.149,
           0.12886777389474052
          ],
          [
           16.187,
           0.4538767593978007
          ],
          [
           79.65666666666667,
           0.09777782016944671
          ],
          [
           19.716,
           0.20961017646894503
          ],
          [
           7.677,
           0.05628335606919234
          ],
          [
           19.434,
           0.13384771130263085
          ],
          [
           16.56,
           0.11628419813834108
          ],
          [
           23.220999999999997,
           0.37555666707840585
          ],
          [
           22.249000000000002,
           0.22592780209463076
          ],
          [
           71.85333333333334,
           0.12637773357166002
          ],
          [
           14.684285714285712,
           0.1173375484193857
          ],
          [
           22.147,
           0.1168780953096212
          ],
          [
           0,
           0.07165929207617384
          ],
          [
           12.555,
           0.10576482457019395
          ],
          [
           41.411,
           0.1190379804992309
          ],
          [
           11.623000000000001,
           0.09375114150238627
          ],
          [
           23.487000000000002,
           0.13528176581877932
          ],
          [
           40,
           0.12756306079910604
          ],
          [
           21.878999999999998,
           0.15172730976409107
          ],
          [
           31.46,
           0.10510071049459131
          ],
          [
           21.849999999999998,
           0.07516952319527485
          ],
          [
           19.748,
           0.17188175123534263
          ],
          [
           0,
           0.12399605078558847
          ],
          [
           22.119,
           0.1975153654854022
          ],
          [
           71.11,
           0.1404185570548279
          ],
          [
           17.972,
           0.2108078300073442
          ],
          [
           29.565999999999995,
           0.11272239147576286
          ],
          [
           37.406666666666666,
           0.04623235945626077
          ],
          [
           100,
           0.1597336919887164
          ],
          [
           20.889,
           0.1224082797614128
          ],
          [
           30.508,
           0.0811137407970554
          ],
          [
           30.126666666666665,
           0.09339733262338813
          ],
          [
           23.481,
           0.1020732561646764
          ],
          [
           50,
           0.1727834901919452
          ]
         ],
         "geo": "geo",
         "hovertemplate": "<b>%{hovertext}</b><br><br>State_Code=%{location}<br>%Deadliest=%{customdata[0]}<br>Incidents_per_100k=%{z}<extra></extra>",
         "hovertext": [
          "Alabama",
          "Alaska",
          "Arizona",
          "Arkansas",
          "California",
          "Colorado",
          "Connecticut",
          "Delaware",
          "District of Columbia",
          "Florida",
          "Georgia",
          "Hawaii",
          "Idaho",
          "Illinois",
          "Indiana",
          "Iowa",
          "Kansas",
          "Kentucky",
          "Louisiana",
          "Maine",
          "Maryland",
          "Massachusetts",
          "Michigan",
          "Minnesota",
          "Mississippi",
          "Missouri",
          "Montana",
          "Nebraska",
          "Nevada",
          "New Hampshire",
          "New Jersey",
          "New Mexico",
          "New York",
          "North Carolina",
          "North Dakota",
          "Ohio",
          "Oklahoma",
          "Oregon",
          "Pennsylvania",
          "Rhode Island",
          "South Carolina",
          "South Dakota",
          "Tennessee",
          "Texas",
          "Utah",
          "Vermont",
          "Virginia",
          "Washington",
          "West Virginia",
          "Wisconsin",
          "Wyoming"
         ],
         "locationmode": "USA-states",
         "locations": [
          "AL",
          "AK",
          "AZ",
          "AR",
          "CA",
          "CO",
          "CT",
          "DE",
          "DC",
          "FL",
          "GA",
          "HI",
          "ID",
          "IL",
          "IN",
          "IA",
          "KS",
          "KY",
          "LA",
          "ME",
          "MD",
          "MA",
          "MI",
          "MN",
          "MS",
          "MO",
          "MT",
          "NE",
          "NV",
          "NH",
          "NJ",
          "NM",
          "NY",
          "NC",
          "ND",
          "OH",
          "OK",
          "OR",
          "PA",
          "RI",
          "SC",
          "SD",
          "TN",
          "TX",
          "UT",
          "VT",
          "VA",
          "WA",
          "WV",
          "WI",
          "WY"
         ],
         "name": "",
         "type": "choropleth",
         "z": [
          0.25586304059094533,
          0.1357773187736099,
          0.07343231285570573,
          0.1516658303634873,
          0.10551957332929847,
          0.12466814063788254,
          0.0694605284737859,
          0.19019262394144298,
          1.1713867398345084,
          0.12355978142503954,
          0.1791011362975237,
          0.06941451079295063,
          0.05175185295991534,
          0.3448663596346388,
          0.15237074738402706,
          0.07197094251149058,
          0.09876959467113244,
          0.12886777389474052,
          0.4538767593978007,
          0.09777782016944671,
          0.20961017646894503,
          0.05628335606919234,
          0.13384771130263085,
          0.11628419813834108,
          0.37555666707840585,
          0.22592780209463076,
          0.12637773357166002,
          0.1173375484193857,
          0.1168780953096212,
          0.07165929207617384,
          0.10576482457019395,
          0.1190379804992309,
          0.09375114150238627,
          0.13528176581877932,
          0.12756306079910604,
          0.15172730976409107,
          0.10510071049459131,
          0.07516952319527485,
          0.17188175123534263,
          0.12399605078558847,
          0.1975153654854022,
          0.1404185570548279,
          0.2108078300073442,
          0.11272239147576286,
          0.04623235945626077,
          0.1597336919887164,
          0.1224082797614128,
          0.0811137407970554,
          0.09339733262338813,
          0.1020732561646764,
          0.1727834901919452
         ]
        }
       ],
       "layout": {
        "coloraxis": {
         "colorbar": {
          "title": {
           "text": "Incidents_per_100k"
          }
         },
         "colorscale": [
          [
           0,
           "rgb(255,245,240)"
          ],
          [
           0.125,
           "rgb(254,224,210)"
          ],
          [
           0.25,
           "rgb(252,187,161)"
          ],
          [
           0.375,
           "rgb(252,146,114)"
          ],
          [
           0.5,
           "rgb(251,106,74)"
          ],
          [
           0.625,
           "rgb(239,59,44)"
          ],
          [
           0.75,
           "rgb(203,24,29)"
          ],
          [
           0.875,
           "rgb(165,15,21)"
          ],
          [
           1,
           "rgb(103,0,13)"
          ]
         ]
        },
        "geo": {
         "center": {},
         "domain": {
          "x": [
           0,
           1
          ],
          "y": [
           0,
           1
          ]
         },
         "scope": "usa"
        },
        "legend": {
         "tracegroupgap": 0
        },
        "template": {
         "data": {
          "bar": [
           {
            "error_x": {
             "color": "#2a3f5f"
            },
            "error_y": {
             "color": "#2a3f5f"
            },
            "marker": {
             "line": {
              "color": "#E5ECF6",
              "width": 0.5
             },
             "pattern": {
              "fillmode": "overlay",
              "size": 10,
              "solidity": 0.2
             }
            },
            "type": "bar"
           }
          ],
          "barpolar": [
           {
            "marker": {
             "line": {
              "color": "#E5ECF6",
              "width": 0.5
             },
             "pattern": {
              "fillmode": "overlay",
              "size": 10,
              "solidity": 0.2
             }
            },
            "type": "barpolar"
           }
          ],
          "carpet": [
           {
            "aaxis": {
             "endlinecolor": "#2a3f5f",
             "gridcolor": "white",
             "linecolor": "white",
             "minorgridcolor": "white",
             "startlinecolor": "#2a3f5f"
            },
            "baxis": {
             "endlinecolor": "#2a3f5f",
             "gridcolor": "white",
             "linecolor": "white",
             "minorgridcolor": "white",
             "startlinecolor": "#2a3f5f"
            },
            "type": "carpet"
           }
          ],
          "choropleth": [
           {
            "colorbar": {
             "outlinewidth": 0,
             "ticks": ""
            },
            "type": "choropleth"
           }
          ],
          "contour": [
           {
            "colorbar": {
             "outlinewidth": 0,
             "ticks": ""
            },
            "colorscale": [
             [
              0,
              "#0d0887"
             ],
             [
              0.1111111111111111,
              "#46039f"
             ],
             [
              0.2222222222222222,
              "#7201a8"
             ],
             [
              0.3333333333333333,
              "#9c179e"
             ],
             [
              0.4444444444444444,
              "#bd3786"
             ],
             [
              0.5555555555555556,
              "#d8576b"
             ],
             [
              0.6666666666666666,
              "#ed7953"
             ],
             [
              0.7777777777777778,
              "#fb9f3a"
             ],
             [
              0.8888888888888888,
              "#fdca26"
             ],
             [
              1,
              "#f0f921"
             ]
            ],
            "type": "contour"
           }
          ],
          "contourcarpet": [
           {
            "colorbar": {
             "outlinewidth": 0,
             "ticks": ""
            },
            "type": "contourcarpet"
           }
          ],
          "heatmap": [
           {
            "colorbar": {
             "outlinewidth": 0,
             "ticks": ""
            },
            "colorscale": [
             [
              0,
              "#0d0887"
             ],
             [
              0.1111111111111111,
              "#46039f"
             ],
             [
              0.2222222222222222,
              "#7201a8"
             ],
             [
              0.3333333333333333,
              "#9c179e"
             ],
             [
              0.4444444444444444,
              "#bd3786"
             ],
             [
              0.5555555555555556,
              "#d8576b"
             ],
             [
              0.6666666666666666,
              "#ed7953"
             ],
             [
              0.7777777777777778,
              "#fb9f3a"
             ],
             [
              0.8888888888888888,
              "#fdca26"
             ],
             [
              1,
              "#f0f921"
             ]
            ],
            "type": "heatmap"
           }
          ],
          "heatmapgl": [
           {
            "colorbar": {
             "outlinewidth": 0,
             "ticks": ""
            },
            "colorscale": [
             [
              0,
              "#0d0887"
             ],
             [
              0.1111111111111111,
              "#46039f"
             ],
             [
              0.2222222222222222,
              "#7201a8"
             ],
             [
              0.3333333333333333,
              "#9c179e"
             ],
             [
              0.4444444444444444,
              "#bd3786"
             ],
             [
              0.5555555555555556,
              "#d8576b"
             ],
             [
              0.6666666666666666,
              "#ed7953"
             ],
             [
              0.7777777777777778,
              "#fb9f3a"
             ],
             [
              0.8888888888888888,
              "#fdca26"
             ],
             [
              1,
              "#f0f921"
             ]
            ],
            "type": "heatmapgl"
           }
          ],
          "histogram": [
           {
            "marker": {
             "pattern": {
              "fillmode": "overlay",
              "size": 10,
              "solidity": 0.2
             }
            },
            "type": "histogram"
           }
          ],
          "histogram2d": [
           {
            "colorbar": {
             "outlinewidth": 0,
             "ticks": ""
            },
            "colorscale": [
             [
              0,
              "#0d0887"
             ],
             [
              0.1111111111111111,
              "#46039f"
             ],
             [
              0.2222222222222222,
              "#7201a8"
             ],
             [
              0.3333333333333333,
              "#9c179e"
             ],
             [
              0.4444444444444444,
              "#bd3786"
             ],
             [
              0.5555555555555556,
              "#d8576b"
             ],
             [
              0.6666666666666666,
              "#ed7953"
             ],
             [
              0.7777777777777778,
              "#fb9f3a"
             ],
             [
              0.8888888888888888,
              "#fdca26"
             ],
             [
              1,
              "#f0f921"
             ]
            ],
            "type": "histogram2d"
           }
          ],
          "histogram2dcontour": [
           {
            "colorbar": {
             "outlinewidth": 0,
             "ticks": ""
            },
            "colorscale": [
             [
              0,
              "#0d0887"
             ],
             [
              0.1111111111111111,
              "#46039f"
             ],
             [
              0.2222222222222222,
              "#7201a8"
             ],
             [
              0.3333333333333333,
              "#9c179e"
             ],
             [
              0.4444444444444444,
              "#bd3786"
             ],
             [
              0.5555555555555556,
              "#d8576b"
             ],
             [
              0.6666666666666666,
              "#ed7953"
             ],
             [
              0.7777777777777778,
              "#fb9f3a"
             ],
             [
              0.8888888888888888,
              "#fdca26"
             ],
             [
              1,
              "#f0f921"
             ]
            ],
            "type": "histogram2dcontour"
           }
          ],
          "mesh3d": [
           {
            "colorbar": {
             "outlinewidth": 0,
             "ticks": ""
            },
            "type": "mesh3d"
           }
          ],
          "parcoords": [
           {
            "line": {
             "colorbar": {
              "outlinewidth": 0,
              "ticks": ""
             }
            },
            "type": "parcoords"
           }
          ],
          "pie": [
           {
            "automargin": true,
            "type": "pie"
           }
          ],
          "scatter": [
           {
            "fillpattern": {
             "fillmode": "overlay",
             "size": 10,
             "solidity": 0.2
            },
            "type": "scatter"
           }
          ],
          "scatter3d": [
           {
            "line": {
             "colorbar": {
              "outlinewidth": 0,
              "ticks": ""
             }
            },
            "marker": {
             "colorbar": {
              "outlinewidth": 0,
              "ticks": ""
             }
            },
            "type": "scatter3d"
           }
          ],
          "scattercarpet": [
           {
            "marker": {
             "colorbar": {
              "outlinewidth": 0,
              "ticks": ""
             }
            },
            "type": "scattercarpet"
           }
          ],
          "scattergeo": [
           {
            "marker": {
             "colorbar": {
              "outlinewidth": 0,
              "ticks": ""
             }
            },
            "type": "scattergeo"
           }
          ],
          "scattergl": [
           {
            "marker": {
             "colorbar": {
              "outlinewidth": 0,
              "ticks": ""
             }
            },
            "type": "scattergl"
           }
          ],
          "scattermapbox": [
           {
            "marker": {
             "colorbar": {
              "outlinewidth": 0,
              "ticks": ""
             }
            },
            "type": "scattermapbox"
           }
          ],
          "scatterpolar": [
           {
            "marker": {
             "colorbar": {
              "outlinewidth": 0,
              "ticks": ""
             }
            },
            "type": "scatterpolar"
           }
          ],
          "scatterpolargl": [
           {
            "marker": {
             "colorbar": {
              "outlinewidth": 0,
              "ticks": ""
             }
            },
            "type": "scatterpolargl"
           }
          ],
          "scatterternary": [
           {
            "marker": {
             "colorbar": {
              "outlinewidth": 0,
              "ticks": ""
             }
            },
            "type": "scatterternary"
           }
          ],
          "surface": [
           {
            "colorbar": {
             "outlinewidth": 0,
             "ticks": ""
            },
            "colorscale": [
             [
              0,
              "#0d0887"
             ],
             [
              0.1111111111111111,
              "#46039f"
             ],
             [
              0.2222222222222222,
              "#7201a8"
             ],
             [
              0.3333333333333333,
              "#9c179e"
             ],
             [
              0.4444444444444444,
              "#bd3786"
             ],
             [
              0.5555555555555556,
              "#d8576b"
             ],
             [
              0.6666666666666666,
              "#ed7953"
             ],
             [
              0.7777777777777778,
              "#fb9f3a"
             ],
             [
              0.8888888888888888,
              "#fdca26"
             ],
             [
              1,
              "#f0f921"
             ]
            ],
            "type": "surface"
           }
          ],
          "table": [
           {
            "cells": {
             "fill": {
              "color": "#EBF0F8"
             },
             "line": {
              "color": "white"
             }
            },
            "header": {
             "fill": {
              "color": "#C8D4E3"
             },
             "line": {
              "color": "white"
             }
            },
            "type": "table"
           }
          ]
         },
         "layout": {
          "annotationdefaults": {
           "arrowcolor": "#2a3f5f",
           "arrowhead": 0,
           "arrowwidth": 1
          },
          "autotypenumbers": "strict",
          "coloraxis": {
           "colorbar": {
            "outlinewidth": 0,
            "ticks": ""
           }
          },
          "colorscale": {
           "diverging": [
            [
             0,
             "#8e0152"
            ],
            [
             0.1,
             "#c51b7d"
            ],
            [
             0.2,
             "#de77ae"
            ],
            [
             0.3,
             "#f1b6da"
            ],
            [
             0.4,
             "#fde0ef"
            ],
            [
             0.5,
             "#f7f7f7"
            ],
            [
             0.6,
             "#e6f5d0"
            ],
            [
             0.7,
             "#b8e186"
            ],
            [
             0.8,
             "#7fbc41"
            ],
            [
             0.9,
             "#4d9221"
            ],
            [
             1,
             "#276419"
            ]
           ],
           "sequential": [
            [
             0,
             "#0d0887"
            ],
            [
             0.1111111111111111,
             "#46039f"
            ],
            [
             0.2222222222222222,
             "#7201a8"
            ],
            [
             0.3333333333333333,
             "#9c179e"
            ],
            [
             0.4444444444444444,
             "#bd3786"
            ],
            [
             0.5555555555555556,
             "#d8576b"
            ],
            [
             0.6666666666666666,
             "#ed7953"
            ],
            [
             0.7777777777777778,
             "#fb9f3a"
            ],
            [
             0.8888888888888888,
             "#fdca26"
            ],
            [
             1,
             "#f0f921"
            ]
           ],
           "sequentialminus": [
            [
             0,
             "#0d0887"
            ],
            [
             0.1111111111111111,
             "#46039f"
            ],
            [
             0.2222222222222222,
             "#7201a8"
            ],
            [
             0.3333333333333333,
             "#9c179e"
            ],
            [
             0.4444444444444444,
             "#bd3786"
            ],
            [
             0.5555555555555556,
             "#d8576b"
            ],
            [
             0.6666666666666666,
             "#ed7953"
            ],
            [
             0.7777777777777778,
             "#fb9f3a"
            ],
            [
             0.8888888888888888,
             "#fdca26"
            ],
            [
             1,
             "#f0f921"
            ]
           ]
          },
          "colorway": [
           "#636efa",
           "#EF553B",
           "#00cc96",
           "#ab63fa",
           "#FFA15A",
           "#19d3f3",
           "#FF6692",
           "#B6E880",
           "#FF97FF",
           "#FECB52"
          ],
          "font": {
           "color": "#2a3f5f"
          },
          "geo": {
           "bgcolor": "white",
           "lakecolor": "white",
           "landcolor": "#E5ECF6",
           "showlakes": true,
           "showland": true,
           "subunitcolor": "white"
          },
          "hoverlabel": {
           "align": "left"
          },
          "hovermode": "closest",
          "mapbox": {
           "style": "light"
          },
          "paper_bgcolor": "white",
          "plot_bgcolor": "#E5ECF6",
          "polar": {
           "angularaxis": {
            "gridcolor": "white",
            "linecolor": "white",
            "ticks": ""
           },
           "bgcolor": "#E5ECF6",
           "radialaxis": {
            "gridcolor": "white",
            "linecolor": "white",
            "ticks": ""
           }
          },
          "scene": {
           "xaxis": {
            "backgroundcolor": "#E5ECF6",
            "gridcolor": "white",
            "gridwidth": 2,
            "linecolor": "white",
            "showbackground": true,
            "ticks": "",
            "zerolinecolor": "white"
           },
           "yaxis": {
            "backgroundcolor": "#E5ECF6",
            "gridcolor": "white",
            "gridwidth": 2,
            "linecolor": "white",
            "showbackground": true,
            "ticks": "",
            "zerolinecolor": "white"
           },
           "zaxis": {
            "backgroundcolor": "#E5ECF6",
            "gridcolor": "white",
            "gridwidth": 2,
            "linecolor": "white",
            "showbackground": true,
            "ticks": "",
            "zerolinecolor": "white"
           }
          },
          "shapedefaults": {
           "line": {
            "color": "#2a3f5f"
           }
          },
          "ternary": {
           "aaxis": {
            "gridcolor": "white",
            "linecolor": "white",
            "ticks": ""
           },
           "baxis": {
            "gridcolor": "white",
            "linecolor": "white",
            "ticks": ""
           },
           "bgcolor": "#E5ECF6",
           "caxis": {
            "gridcolor": "white",
            "linecolor": "white",
            "ticks": ""
           }
          },
          "title": {
           "x": 0.05
          },
          "xaxis": {
           "automargin": true,
           "gridcolor": "white",
           "linecolor": "white",
           "ticks": "",
           "title": {
            "standoff": 15
           },
           "zerolinecolor": "white",
           "zerolinewidth": 2
          },
          "yaxis": {
           "automargin": true,
           "gridcolor": "white",
           "linecolor": "white",
           "ticks": "",
           "title": {
            "standoff": 15
           },
           "zerolinecolor": "white",
           "zerolinewidth": 2
          }
         }
        },
        "title": {
         "text": "Gun Incidents per 100k Population by State"
        }
       }
      }
     },
     "metadata": {},
     "output_type": "display_data"
    }
   ],
   "source": [
    "\n",
    "import plotly.express as px\n",
    "\n",
    "# Compute averages by state\n",
    "map_data = df_top20_analysis.groupby(\"State\", as_index=False).agg({\n",
    "    \"Incidents_per_100k\": \"mean\",\n",
    "    \"%Deadliest\": \"mean\"\n",
    "})\n",
    "\n",
    "us_state_abbrev = {\n",
    "    'Alabama': 'AL','Alaska': 'AK','Arizona': 'AZ','Arkansas': 'AR','California': 'CA',\n",
    "    'Colorado': 'CO','Connecticut': 'CT','Delaware': 'DE','District of Columbia': 'DC',\n",
    "    'Florida': 'FL','Georgia': 'GA','Hawaii': 'HI','Idaho': 'ID','Illinois': 'IL',\n",
    "    'Indiana': 'IN','Iowa': 'IA','Kansas': 'KS','Kentucky': 'KY','Louisiana': 'LA',\n",
    "    'Maine': 'ME','Maryland': 'MD','Massachusetts': 'MA','Michigan': 'MI','Minnesota': 'MN',\n",
    "    'Mississippi': 'MS','Missouri': 'MO','Montana': 'MT','Nebraska': 'NE','Nevada': 'NV',\n",
    "    'New Hampshire': 'NH','New Jersey': 'NJ','New Mexico': 'NM','New York': 'NY',\n",
    "    'North Carolina': 'NC','North Dakota': 'ND','Ohio': 'OH','Oklahoma': 'OK','Oregon': 'OR',\n",
    "    'Pennsylvania': 'PA','Rhode Island': 'RI','South Carolina': 'SC','South Dakota': 'SD',\n",
    "    'Tennessee': 'TN','Texas': 'TX','Utah': 'UT','Vermont': 'VT','Virginia': 'VA',\n",
    "    'Washington': 'WA','West Virginia': 'WV','Wisconsin': 'WI','Wyoming': 'WY',\n",
    "    'Puerto Rico': 'PR'\n",
    "}\n",
    "\n",
    "# Map full names to abbreviations\n",
    "map_data[\"State_Code\"] = map_data[\"State\"].map(us_state_abbrev)\n",
    "\n",
    "\n",
    "fig = px.choropleth(\n",
    "    map_data,\n",
    "    locations=\"State_Code\",             \n",
    "    locationmode=\"USA-states\",\n",
    "    color=\"Incidents_per_100k\",\n",
    "    hover_name=\"State\",\n",
    "    hover_data={\"%Deadliest\": True, \"Incidents_per_100k\": True},\n",
    "    color_continuous_scale=\"Reds\",\n",
    "    scope=\"usa\",\n",
    "    title=\"Gun Incidents per 100k Population by State\"\n",
    ")\n",
    "fig.show()"
   ]
  },
  {
   "cell_type": "markdown",
   "id": "5db7232e",
   "metadata": {},
   "source": [
    "Mao n incidents and drop out highschool"
   ]
  },
  {
   "cell_type": "code",
   "execution_count": 278,
   "id": "004d3a7e",
   "metadata": {},
   "outputs": [
    {
     "data": {
      "application/vnd.plotly.v1+json": {
       "config": {
        "plotlyServerURL": "https://plot.ly"
       },
       "data": [
        {
         "coloraxis": "coloraxis",
         "customdata": [
          [
           25.394,
           0.25586304059094533
          ],
          [
           23.233333333333334,
           0.1357773187736099
          ],
          [
           19.805,
           0.07343231285570573
          ],
          [
           28.108999999999998,
           0.1516658303634873
          ],
          [
           18.268,
           0.10551957332929847
          ],
          [
           16.865000000000002,
           0.12466814063788254
          ],
          [
           23.3,
           0.0694605284737859
          ],
          [
           26.773333333333333,
           0.19019262394144298
          ],
          [
           13.267,
           1.1713867398345084
          ],
          [
           23.969,
           0.12355978142503954
          ],
          [
           22.625,
           0.1791011362975237
          ],
          [
           23.86,
           0.06941451079295063
          ],
          [
           21.54,
           0.05175185295991534
          ],
          [
           22.098,
           0.3448663596346388
          ],
          [
           27.919999999999998,
           0.15237074738402706
          ],
          [
           26.322857142857142,
           0.07197094251149058
          ],
          [
           21.603333333333335,
           0.09876959467113244
          ],
          [
           26.284000000000002,
           0.12886777389474052
          ],
          [
           28.131999999999998,
           0.4538767593978007
          ],
          [
           26.05,
           0.09777782016944671
          ],
          [
           21.318,
           0.20961017646894503
          ],
          [
           20.845999999999997,
           0.05628335606919234
          ],
          [
           24.701,
           0.13384771130263085
          ],
          [
           21.186,
           0.11628419813834108
          ],
          [
           23.903,
           0.37555666707840585
          ],
          [
           25.962,
           0.22592780209463076
          ],
          [
           24.723333333333333,
           0.12637773357166002
          ],
          [
           22.072857142857142,
           0.1173375484193857
          ],
          [
           23.834,
           0.1168780953096212
          ],
          [
           22.575,
           0.07165929207617384
          ],
          [
           23.97,
           0.10576482457019395
          ],
          [
           21.486,
           0.1190379804992309
          ],
          [
           21.47,
           0.09375114150238627
          ],
          [
           21.232,
           0.13528176581877932
          ],
          [
           20.81,
           0.12756306079910604
          ],
          [
           28.895999999999997,
           0.15172730976409107
          ],
          [
           25.986,
           0.10510071049459131
          ],
          [
           18.385714285714283,
           0.07516952319527485
          ],
          [
           30.391000000000002,
           0.17188175123534263
          ],
          [
           23.340000000000003,
           0.12399605078558847
          ],
          [
           24.399,
           0.1975153654854022
          ],
          [
           25.3925,
           0.1404185570548279
          ],
          [
           26.153,
           0.2108078300073442
          ],
          [
           20.416999999999998,
           0.11272239147576286
          ],
          [
           19.411666666666665,
           0.04623235945626077
          ],
          [
           25.3,
           0.1597336919887164
          ],
          [
           20.161,
           0.1224082797614128
          ],
          [
           18.112000000000002,
           0.0811137407970554
          ],
          [
           32.95666666666667,
           0.09339733262338813
          ],
          [
           26.856,
           0.1020732561646764
          ],
          [
           24.54,
           0.1727834901919452
          ]
         ],
         "geo": "geo",
         "hovertemplate": "<b>%{hovertext}</b><br><br>State_Code=%{location}<br>%HighSchool=%{customdata[0]}<br>Incidents_per_100k=%{z}<extra></extra>",
         "hovertext": [
          "Alabama",
          "Alaska",
          "Arizona",
          "Arkansas",
          "California",
          "Colorado",
          "Connecticut",
          "Delaware",
          "District of Columbia",
          "Florida",
          "Georgia",
          "Hawaii",
          "Idaho",
          "Illinois",
          "Indiana",
          "Iowa",
          "Kansas",
          "Kentucky",
          "Louisiana",
          "Maine",
          "Maryland",
          "Massachusetts",
          "Michigan",
          "Minnesota",
          "Mississippi",
          "Missouri",
          "Montana",
          "Nebraska",
          "Nevada",
          "New Hampshire",
          "New Jersey",
          "New Mexico",
          "New York",
          "North Carolina",
          "North Dakota",
          "Ohio",
          "Oklahoma",
          "Oregon",
          "Pennsylvania",
          "Rhode Island",
          "South Carolina",
          "South Dakota",
          "Tennessee",
          "Texas",
          "Utah",
          "Vermont",
          "Virginia",
          "Washington",
          "West Virginia",
          "Wisconsin",
          "Wyoming"
         ],
         "locationmode": "USA-states",
         "locations": [
          "AL",
          "AK",
          "AZ",
          "AR",
          "CA",
          "CO",
          "CT",
          "DE",
          "DC",
          "FL",
          "GA",
          "HI",
          "ID",
          "IL",
          "IN",
          "IA",
          "KS",
          "KY",
          "LA",
          "ME",
          "MD",
          "MA",
          "MI",
          "MN",
          "MS",
          "MO",
          "MT",
          "NE",
          "NV",
          "NH",
          "NJ",
          "NM",
          "NY",
          "NC",
          "ND",
          "OH",
          "OK",
          "OR",
          "PA",
          "RI",
          "SC",
          "SD",
          "TN",
          "TX",
          "UT",
          "VT",
          "VA",
          "WA",
          "WV",
          "WI",
          "WY"
         ],
         "name": "",
         "type": "choropleth",
         "z": [
          0.25586304059094533,
          0.1357773187736099,
          0.07343231285570573,
          0.1516658303634873,
          0.10551957332929847,
          0.12466814063788254,
          0.0694605284737859,
          0.19019262394144298,
          1.1713867398345084,
          0.12355978142503954,
          0.1791011362975237,
          0.06941451079295063,
          0.05175185295991534,
          0.3448663596346388,
          0.15237074738402706,
          0.07197094251149058,
          0.09876959467113244,
          0.12886777389474052,
          0.4538767593978007,
          0.09777782016944671,
          0.20961017646894503,
          0.05628335606919234,
          0.13384771130263085,
          0.11628419813834108,
          0.37555666707840585,
          0.22592780209463076,
          0.12637773357166002,
          0.1173375484193857,
          0.1168780953096212,
          0.07165929207617384,
          0.10576482457019395,
          0.1190379804992309,
          0.09375114150238627,
          0.13528176581877932,
          0.12756306079910604,
          0.15172730976409107,
          0.10510071049459131,
          0.07516952319527485,
          0.17188175123534263,
          0.12399605078558847,
          0.1975153654854022,
          0.1404185570548279,
          0.2108078300073442,
          0.11272239147576286,
          0.04623235945626077,
          0.1597336919887164,
          0.1224082797614128,
          0.0811137407970554,
          0.09339733262338813,
          0.1020732561646764,
          0.1727834901919452
         ]
        }
       ],
       "layout": {
        "coloraxis": {
         "colorbar": {
          "title": {
           "text": "Incidents_per_100k"
          }
         },
         "colorscale": [
          [
           0,
           "rgb(255,245,240)"
          ],
          [
           0.125,
           "rgb(254,224,210)"
          ],
          [
           0.25,
           "rgb(252,187,161)"
          ],
          [
           0.375,
           "rgb(252,146,114)"
          ],
          [
           0.5,
           "rgb(251,106,74)"
          ],
          [
           0.625,
           "rgb(239,59,44)"
          ],
          [
           0.75,
           "rgb(203,24,29)"
          ],
          [
           0.875,
           "rgb(165,15,21)"
          ],
          [
           1,
           "rgb(103,0,13)"
          ]
         ]
        },
        "geo": {
         "center": {},
         "domain": {
          "x": [
           0,
           1
          ],
          "y": [
           0,
           1
          ]
         },
         "scope": "usa"
        },
        "legend": {
         "tracegroupgap": 0
        },
        "template": {
         "data": {
          "bar": [
           {
            "error_x": {
             "color": "#2a3f5f"
            },
            "error_y": {
             "color": "#2a3f5f"
            },
            "marker": {
             "line": {
              "color": "#E5ECF6",
              "width": 0.5
             },
             "pattern": {
              "fillmode": "overlay",
              "size": 10,
              "solidity": 0.2
             }
            },
            "type": "bar"
           }
          ],
          "barpolar": [
           {
            "marker": {
             "line": {
              "color": "#E5ECF6",
              "width": 0.5
             },
             "pattern": {
              "fillmode": "overlay",
              "size": 10,
              "solidity": 0.2
             }
            },
            "type": "barpolar"
           }
          ],
          "carpet": [
           {
            "aaxis": {
             "endlinecolor": "#2a3f5f",
             "gridcolor": "white",
             "linecolor": "white",
             "minorgridcolor": "white",
             "startlinecolor": "#2a3f5f"
            },
            "baxis": {
             "endlinecolor": "#2a3f5f",
             "gridcolor": "white",
             "linecolor": "white",
             "minorgridcolor": "white",
             "startlinecolor": "#2a3f5f"
            },
            "type": "carpet"
           }
          ],
          "choropleth": [
           {
            "colorbar": {
             "outlinewidth": 0,
             "ticks": ""
            },
            "type": "choropleth"
           }
          ],
          "contour": [
           {
            "colorbar": {
             "outlinewidth": 0,
             "ticks": ""
            },
            "colorscale": [
             [
              0,
              "#0d0887"
             ],
             [
              0.1111111111111111,
              "#46039f"
             ],
             [
              0.2222222222222222,
              "#7201a8"
             ],
             [
              0.3333333333333333,
              "#9c179e"
             ],
             [
              0.4444444444444444,
              "#bd3786"
             ],
             [
              0.5555555555555556,
              "#d8576b"
             ],
             [
              0.6666666666666666,
              "#ed7953"
             ],
             [
              0.7777777777777778,
              "#fb9f3a"
             ],
             [
              0.8888888888888888,
              "#fdca26"
             ],
             [
              1,
              "#f0f921"
             ]
            ],
            "type": "contour"
           }
          ],
          "contourcarpet": [
           {
            "colorbar": {
             "outlinewidth": 0,
             "ticks": ""
            },
            "type": "contourcarpet"
           }
          ],
          "heatmap": [
           {
            "colorbar": {
             "outlinewidth": 0,
             "ticks": ""
            },
            "colorscale": [
             [
              0,
              "#0d0887"
             ],
             [
              0.1111111111111111,
              "#46039f"
             ],
             [
              0.2222222222222222,
              "#7201a8"
             ],
             [
              0.3333333333333333,
              "#9c179e"
             ],
             [
              0.4444444444444444,
              "#bd3786"
             ],
             [
              0.5555555555555556,
              "#d8576b"
             ],
             [
              0.6666666666666666,
              "#ed7953"
             ],
             [
              0.7777777777777778,
              "#fb9f3a"
             ],
             [
              0.8888888888888888,
              "#fdca26"
             ],
             [
              1,
              "#f0f921"
             ]
            ],
            "type": "heatmap"
           }
          ],
          "heatmapgl": [
           {
            "colorbar": {
             "outlinewidth": 0,
             "ticks": ""
            },
            "colorscale": [
             [
              0,
              "#0d0887"
             ],
             [
              0.1111111111111111,
              "#46039f"
             ],
             [
              0.2222222222222222,
              "#7201a8"
             ],
             [
              0.3333333333333333,
              "#9c179e"
             ],
             [
              0.4444444444444444,
              "#bd3786"
             ],
             [
              0.5555555555555556,
              "#d8576b"
             ],
             [
              0.6666666666666666,
              "#ed7953"
             ],
             [
              0.7777777777777778,
              "#fb9f3a"
             ],
             [
              0.8888888888888888,
              "#fdca26"
             ],
             [
              1,
              "#f0f921"
             ]
            ],
            "type": "heatmapgl"
           }
          ],
          "histogram": [
           {
            "marker": {
             "pattern": {
              "fillmode": "overlay",
              "size": 10,
              "solidity": 0.2
             }
            },
            "type": "histogram"
           }
          ],
          "histogram2d": [
           {
            "colorbar": {
             "outlinewidth": 0,
             "ticks": ""
            },
            "colorscale": [
             [
              0,
              "#0d0887"
             ],
             [
              0.1111111111111111,
              "#46039f"
             ],
             [
              0.2222222222222222,
              "#7201a8"
             ],
             [
              0.3333333333333333,
              "#9c179e"
             ],
             [
              0.4444444444444444,
              "#bd3786"
             ],
             [
              0.5555555555555556,
              "#d8576b"
             ],
             [
              0.6666666666666666,
              "#ed7953"
             ],
             [
              0.7777777777777778,
              "#fb9f3a"
             ],
             [
              0.8888888888888888,
              "#fdca26"
             ],
             [
              1,
              "#f0f921"
             ]
            ],
            "type": "histogram2d"
           }
          ],
          "histogram2dcontour": [
           {
            "colorbar": {
             "outlinewidth": 0,
             "ticks": ""
            },
            "colorscale": [
             [
              0,
              "#0d0887"
             ],
             [
              0.1111111111111111,
              "#46039f"
             ],
             [
              0.2222222222222222,
              "#7201a8"
             ],
             [
              0.3333333333333333,
              "#9c179e"
             ],
             [
              0.4444444444444444,
              "#bd3786"
             ],
             [
              0.5555555555555556,
              "#d8576b"
             ],
             [
              0.6666666666666666,
              "#ed7953"
             ],
             [
              0.7777777777777778,
              "#fb9f3a"
             ],
             [
              0.8888888888888888,
              "#fdca26"
             ],
             [
              1,
              "#f0f921"
             ]
            ],
            "type": "histogram2dcontour"
           }
          ],
          "mesh3d": [
           {
            "colorbar": {
             "outlinewidth": 0,
             "ticks": ""
            },
            "type": "mesh3d"
           }
          ],
          "parcoords": [
           {
            "line": {
             "colorbar": {
              "outlinewidth": 0,
              "ticks": ""
             }
            },
            "type": "parcoords"
           }
          ],
          "pie": [
           {
            "automargin": true,
            "type": "pie"
           }
          ],
          "scatter": [
           {
            "fillpattern": {
             "fillmode": "overlay",
             "size": 10,
             "solidity": 0.2
            },
            "type": "scatter"
           }
          ],
          "scatter3d": [
           {
            "line": {
             "colorbar": {
              "outlinewidth": 0,
              "ticks": ""
             }
            },
            "marker": {
             "colorbar": {
              "outlinewidth": 0,
              "ticks": ""
             }
            },
            "type": "scatter3d"
           }
          ],
          "scattercarpet": [
           {
            "marker": {
             "colorbar": {
              "outlinewidth": 0,
              "ticks": ""
             }
            },
            "type": "scattercarpet"
           }
          ],
          "scattergeo": [
           {
            "marker": {
             "colorbar": {
              "outlinewidth": 0,
              "ticks": ""
             }
            },
            "type": "scattergeo"
           }
          ],
          "scattergl": [
           {
            "marker": {
             "colorbar": {
              "outlinewidth": 0,
              "ticks": ""
             }
            },
            "type": "scattergl"
           }
          ],
          "scattermapbox": [
           {
            "marker": {
             "colorbar": {
              "outlinewidth": 0,
              "ticks": ""
             }
            },
            "type": "scattermapbox"
           }
          ],
          "scatterpolar": [
           {
            "marker": {
             "colorbar": {
              "outlinewidth": 0,
              "ticks": ""
             }
            },
            "type": "scatterpolar"
           }
          ],
          "scatterpolargl": [
           {
            "marker": {
             "colorbar": {
              "outlinewidth": 0,
              "ticks": ""
             }
            },
            "type": "scatterpolargl"
           }
          ],
          "scatterternary": [
           {
            "marker": {
             "colorbar": {
              "outlinewidth": 0,
              "ticks": ""
             }
            },
            "type": "scatterternary"
           }
          ],
          "surface": [
           {
            "colorbar": {
             "outlinewidth": 0,
             "ticks": ""
            },
            "colorscale": [
             [
              0,
              "#0d0887"
             ],
             [
              0.1111111111111111,
              "#46039f"
             ],
             [
              0.2222222222222222,
              "#7201a8"
             ],
             [
              0.3333333333333333,
              "#9c179e"
             ],
             [
              0.4444444444444444,
              "#bd3786"
             ],
             [
              0.5555555555555556,
              "#d8576b"
             ],
             [
              0.6666666666666666,
              "#ed7953"
             ],
             [
              0.7777777777777778,
              "#fb9f3a"
             ],
             [
              0.8888888888888888,
              "#fdca26"
             ],
             [
              1,
              "#f0f921"
             ]
            ],
            "type": "surface"
           }
          ],
          "table": [
           {
            "cells": {
             "fill": {
              "color": "#EBF0F8"
             },
             "line": {
              "color": "white"
             }
            },
            "header": {
             "fill": {
              "color": "#C8D4E3"
             },
             "line": {
              "color": "white"
             }
            },
            "type": "table"
           }
          ]
         },
         "layout": {
          "annotationdefaults": {
           "arrowcolor": "#2a3f5f",
           "arrowhead": 0,
           "arrowwidth": 1
          },
          "autotypenumbers": "strict",
          "coloraxis": {
           "colorbar": {
            "outlinewidth": 0,
            "ticks": ""
           }
          },
          "colorscale": {
           "diverging": [
            [
             0,
             "#8e0152"
            ],
            [
             0.1,
             "#c51b7d"
            ],
            [
             0.2,
             "#de77ae"
            ],
            [
             0.3,
             "#f1b6da"
            ],
            [
             0.4,
             "#fde0ef"
            ],
            [
             0.5,
             "#f7f7f7"
            ],
            [
             0.6,
             "#e6f5d0"
            ],
            [
             0.7,
             "#b8e186"
            ],
            [
             0.8,
             "#7fbc41"
            ],
            [
             0.9,
             "#4d9221"
            ],
            [
             1,
             "#276419"
            ]
           ],
           "sequential": [
            [
             0,
             "#0d0887"
            ],
            [
             0.1111111111111111,
             "#46039f"
            ],
            [
             0.2222222222222222,
             "#7201a8"
            ],
            [
             0.3333333333333333,
             "#9c179e"
            ],
            [
             0.4444444444444444,
             "#bd3786"
            ],
            [
             0.5555555555555556,
             "#d8576b"
            ],
            [
             0.6666666666666666,
             "#ed7953"
            ],
            [
             0.7777777777777778,
             "#fb9f3a"
            ],
            [
             0.8888888888888888,
             "#fdca26"
            ],
            [
             1,
             "#f0f921"
            ]
           ],
           "sequentialminus": [
            [
             0,
             "#0d0887"
            ],
            [
             0.1111111111111111,
             "#46039f"
            ],
            [
             0.2222222222222222,
             "#7201a8"
            ],
            [
             0.3333333333333333,
             "#9c179e"
            ],
            [
             0.4444444444444444,
             "#bd3786"
            ],
            [
             0.5555555555555556,
             "#d8576b"
            ],
            [
             0.6666666666666666,
             "#ed7953"
            ],
            [
             0.7777777777777778,
             "#fb9f3a"
            ],
            [
             0.8888888888888888,
             "#fdca26"
            ],
            [
             1,
             "#f0f921"
            ]
           ]
          },
          "colorway": [
           "#636efa",
           "#EF553B",
           "#00cc96",
           "#ab63fa",
           "#FFA15A",
           "#19d3f3",
           "#FF6692",
           "#B6E880",
           "#FF97FF",
           "#FECB52"
          ],
          "font": {
           "color": "#2a3f5f"
          },
          "geo": {
           "bgcolor": "white",
           "lakecolor": "white",
           "landcolor": "#E5ECF6",
           "showlakes": true,
           "showland": true,
           "subunitcolor": "white"
          },
          "hoverlabel": {
           "align": "left"
          },
          "hovermode": "closest",
          "mapbox": {
           "style": "light"
          },
          "paper_bgcolor": "white",
          "plot_bgcolor": "#E5ECF6",
          "polar": {
           "angularaxis": {
            "gridcolor": "white",
            "linecolor": "white",
            "ticks": ""
           },
           "bgcolor": "#E5ECF6",
           "radialaxis": {
            "gridcolor": "white",
            "linecolor": "white",
            "ticks": ""
           }
          },
          "scene": {
           "xaxis": {
            "backgroundcolor": "#E5ECF6",
            "gridcolor": "white",
            "gridwidth": 2,
            "linecolor": "white",
            "showbackground": true,
            "ticks": "",
            "zerolinecolor": "white"
           },
           "yaxis": {
            "backgroundcolor": "#E5ECF6",
            "gridcolor": "white",
            "gridwidth": 2,
            "linecolor": "white",
            "showbackground": true,
            "ticks": "",
            "zerolinecolor": "white"
           },
           "zaxis": {
            "backgroundcolor": "#E5ECF6",
            "gridcolor": "white",
            "gridwidth": 2,
            "linecolor": "white",
            "showbackground": true,
            "ticks": "",
            "zerolinecolor": "white"
           }
          },
          "shapedefaults": {
           "line": {
            "color": "#2a3f5f"
           }
          },
          "ternary": {
           "aaxis": {
            "gridcolor": "white",
            "linecolor": "white",
            "ticks": ""
           },
           "baxis": {
            "gridcolor": "white",
            "linecolor": "white",
            "ticks": ""
           },
           "bgcolor": "#E5ECF6",
           "caxis": {
            "gridcolor": "white",
            "linecolor": "white",
            "ticks": ""
           }
          },
          "title": {
           "x": 0.05
          },
          "xaxis": {
           "automargin": true,
           "gridcolor": "white",
           "linecolor": "white",
           "ticks": "",
           "title": {
            "standoff": 15
           },
           "zerolinecolor": "white",
           "zerolinewidth": 2
          },
          "yaxis": {
           "automargin": true,
           "gridcolor": "white",
           "linecolor": "white",
           "ticks": "",
           "title": {
            "standoff": 15
           },
           "zerolinecolor": "white",
           "zerolinewidth": 2
          }
         }
        },
        "title": {
         "text": "Gun Incidents per 100k Population by State"
        }
       }
      }
     },
     "metadata": {},
     "output_type": "display_data"
    }
   ],
   "source": [
    "\n",
    "import plotly.express as px\n",
    "\n",
    "# Compute averages by state\n",
    "map_data = df_top20_analysis.groupby(\"State\", as_index=False).agg({\n",
    "    \"Incidents_per_100k\": \"mean\",\n",
    "    \"%HighSchool\": \"mean\"\n",
    "})\n",
    "\n",
    "us_state_abbrev = {\n",
    "    'Alabama': 'AL','Alaska': 'AK','Arizona': 'AZ','Arkansas': 'AR','California': 'CA',\n",
    "    'Colorado': 'CO','Connecticut': 'CT','Delaware': 'DE','District of Columbia': 'DC',\n",
    "    'Florida': 'FL','Georgia': 'GA','Hawaii': 'HI','Idaho': 'ID','Illinois': 'IL',\n",
    "    'Indiana': 'IN','Iowa': 'IA','Kansas': 'KS','Kentucky': 'KY','Louisiana': 'LA',\n",
    "    'Maine': 'ME','Maryland': 'MD','Massachusetts': 'MA','Michigan': 'MI','Minnesota': 'MN',\n",
    "    'Mississippi': 'MS','Missouri': 'MO','Montana': 'MT','Nebraska': 'NE','Nevada': 'NV',\n",
    "    'New Hampshire': 'NH','New Jersey': 'NJ','New Mexico': 'NM','New York': 'NY',\n",
    "    'North Carolina': 'NC','North Dakota': 'ND','Ohio': 'OH','Oklahoma': 'OK','Oregon': 'OR',\n",
    "    'Pennsylvania': 'PA','Rhode Island': 'RI','South Carolina': 'SC','South Dakota': 'SD',\n",
    "    'Tennessee': 'TN','Texas': 'TX','Utah': 'UT','Vermont': 'VT','Virginia': 'VA',\n",
    "    'Washington': 'WA','West Virginia': 'WV','Wisconsin': 'WI','Wyoming': 'WY',\n",
    "    'Puerto Rico': 'PR'\n",
    "}\n",
    "\n",
    "# Map full names to abbreviations\n",
    "map_data[\"State_Code\"] = map_data[\"State\"].map(us_state_abbrev)\n",
    "\n",
    "\n",
    "fig = px.choropleth(\n",
    "    map_data,\n",
    "    locations=\"State_Code\",             # use 2-letter codes\n",
    "    locationmode=\"USA-states\",\n",
    "    color=\"Incidents_per_100k\",\n",
    "    hover_name=\"State\",\n",
    "    hover_data={\"%HighSchool\": True, \"Incidents_per_100k\": True},\n",
    "    color_continuous_scale=\"Reds\",\n",
    "    scope=\"usa\",\n",
    "    title=\"Gun Incidents per 100k Population by State\"\n",
    ")\n",
    "fig.show()"
   ]
  },
  {
   "cell_type": "markdown",
   "id": "e7cbb506",
   "metadata": {},
   "source": [
    "Map Drop Out Bachelor"
   ]
  },
  {
   "cell_type": "code",
   "execution_count": 280,
   "id": "3a1983ef",
   "metadata": {},
   "outputs": [
    {
     "data": {
      "application/vnd.plotly.v1+json": {
       "config": {
        "plotlyServerURL": "https://plot.ly"
       },
       "data": [
        {
         "coloraxis": "coloraxis",
         "customdata": [
          [
           16.345,
           0.25586304059094533
          ],
          [
           19.64,
           0.1357773187736099
          ],
          [
           18.994999999999997,
           0.07343231285570573
          ],
          [
           15.222,
           0.1516658303634873
          ],
          [
           21.569,
           0.10551957332929847
          ],
          [
           26.595,
           0.12466814063788254
          ],
          [
           22.27,
           0.0694605284737859
          ],
          [
           19.417777777777776,
           0.19019262394144298
          ],
          [
           25.336,
           1.1713867398345084
          ],
          [
           19.685,
           0.12355978142503954
          ],
          [
           19.851999999999997,
           0.1791011362975237
          ],
          [
           23.505,
           0.06941451079295063
          ],
          [
           20.88,
           0.05175185295991534
          ],
          [
           21.579,
           0.3448663596346388
          ],
          [
           17.557,
           0.15237074738402706
          ],
          [
           20.22142857142857,
           0.07197094251149058
          ],
          [
           21.522222222222222,
           0.09876959467113244
          ],
          [
           14.887,
           0.12886777389474052
          ],
          [
           16.095000000000002,
           0.4538767593978007
          ],
          [
           20.86,
           0.09777782016944671
          ],
          [
           21.891,
           0.20961017646894503
          ],
          [
           24.478,
           0.05628335606919234
          ],
          [
           18.343,
           0.13384771130263085
          ],
          [
           24.378,
           0.11628419813834108
          ],
          [
           14.350999999999999,
           0.37555666707840585
          ],
          [
           18.6,
           0.22592780209463076
          ],
          [
           21.746666666666666,
           0.12637773357166002
          ],
          [
           21.83285714285714,
           0.1173375484193857
          ],
          [
           16.799,
           0.1168780953096212
          ],
          [
           24.54,
           0.07165929207617384
          ],
          [
           24.852,
           0.10576482457019395
          ],
          [
           15.958000000000002,
           0.1190379804992309
          ],
          [
           21.19,
           0.09375114150238627
          ],
          [
           20.819,
           0.13528176581877932
          ],
          [
           23.31,
           0.12756306079910604
          ],
          [
           18.144,
           0.15172730976409107
          ],
          [
           17.437,
           0.10510071049459131
          ],
          [
           21.224285714285713,
           0.07516952319527485
          ],
          [
           19.569,
           0.17188175123534263
          ],
          [
           19.44,
           0.12399605078558847
          ],
          [
           18.561,
           0.1975153654854022
          ],
          [
           21.04,
           0.1404185570548279
          ],
          [
           17.973,
           0.2108078300073442
          ],
          [
           20.128,
           0.11272239147576286
          ],
          [
           23.433333333333334,
           0.04623235945626077
          ],
          [
           22.3,
           0.1597336919887164
          ],
          [
           22.559,
           0.1224082797614128
          ],
          [
           22.874000000000002,
           0.0811137407970554
          ],
          [
           13.846666666666666,
           0.09339733262338813
          ],
          [
           20.497,
           0.1020732561646764
          ],
          [
           18.77,
           0.1727834901919452
          ]
         ],
         "geo": "geo",
         "hovertemplate": "<b>%{hovertext}</b><br><br>State_Code=%{location}<br>%Bachelor=%{customdata[0]}<br>Incidents_per_100k=%{z}<extra></extra>",
         "hovertext": [
          "Alabama",
          "Alaska",
          "Arizona",
          "Arkansas",
          "California",
          "Colorado",
          "Connecticut",
          "Delaware",
          "District of Columbia",
          "Florida",
          "Georgia",
          "Hawaii",
          "Idaho",
          "Illinois",
          "Indiana",
          "Iowa",
          "Kansas",
          "Kentucky",
          "Louisiana",
          "Maine",
          "Maryland",
          "Massachusetts",
          "Michigan",
          "Minnesota",
          "Mississippi",
          "Missouri",
          "Montana",
          "Nebraska",
          "Nevada",
          "New Hampshire",
          "New Jersey",
          "New Mexico",
          "New York",
          "North Carolina",
          "North Dakota",
          "Ohio",
          "Oklahoma",
          "Oregon",
          "Pennsylvania",
          "Rhode Island",
          "South Carolina",
          "South Dakota",
          "Tennessee",
          "Texas",
          "Utah",
          "Vermont",
          "Virginia",
          "Washington",
          "West Virginia",
          "Wisconsin",
          "Wyoming"
         ],
         "locationmode": "USA-states",
         "locations": [
          "AL",
          "AK",
          "AZ",
          "AR",
          "CA",
          "CO",
          "CT",
          "DE",
          "DC",
          "FL",
          "GA",
          "HI",
          "ID",
          "IL",
          "IN",
          "IA",
          "KS",
          "KY",
          "LA",
          "ME",
          "MD",
          "MA",
          "MI",
          "MN",
          "MS",
          "MO",
          "MT",
          "NE",
          "NV",
          "NH",
          "NJ",
          "NM",
          "NY",
          "NC",
          "ND",
          "OH",
          "OK",
          "OR",
          "PA",
          "RI",
          "SC",
          "SD",
          "TN",
          "TX",
          "UT",
          "VT",
          "VA",
          "WA",
          "WV",
          "WI",
          "WY"
         ],
         "name": "",
         "type": "choropleth",
         "z": [
          0.25586304059094533,
          0.1357773187736099,
          0.07343231285570573,
          0.1516658303634873,
          0.10551957332929847,
          0.12466814063788254,
          0.0694605284737859,
          0.19019262394144298,
          1.1713867398345084,
          0.12355978142503954,
          0.1791011362975237,
          0.06941451079295063,
          0.05175185295991534,
          0.3448663596346388,
          0.15237074738402706,
          0.07197094251149058,
          0.09876959467113244,
          0.12886777389474052,
          0.4538767593978007,
          0.09777782016944671,
          0.20961017646894503,
          0.05628335606919234,
          0.13384771130263085,
          0.11628419813834108,
          0.37555666707840585,
          0.22592780209463076,
          0.12637773357166002,
          0.1173375484193857,
          0.1168780953096212,
          0.07165929207617384,
          0.10576482457019395,
          0.1190379804992309,
          0.09375114150238627,
          0.13528176581877932,
          0.12756306079910604,
          0.15172730976409107,
          0.10510071049459131,
          0.07516952319527485,
          0.17188175123534263,
          0.12399605078558847,
          0.1975153654854022,
          0.1404185570548279,
          0.2108078300073442,
          0.11272239147576286,
          0.04623235945626077,
          0.1597336919887164,
          0.1224082797614128,
          0.0811137407970554,
          0.09339733262338813,
          0.1020732561646764,
          0.1727834901919452
         ]
        }
       ],
       "layout": {
        "coloraxis": {
         "colorbar": {
          "title": {
           "text": "Incidents_per_100k"
          }
         },
         "colorscale": [
          [
           0,
           "rgb(255,245,240)"
          ],
          [
           0.125,
           "rgb(254,224,210)"
          ],
          [
           0.25,
           "rgb(252,187,161)"
          ],
          [
           0.375,
           "rgb(252,146,114)"
          ],
          [
           0.5,
           "rgb(251,106,74)"
          ],
          [
           0.625,
           "rgb(239,59,44)"
          ],
          [
           0.75,
           "rgb(203,24,29)"
          ],
          [
           0.875,
           "rgb(165,15,21)"
          ],
          [
           1,
           "rgb(103,0,13)"
          ]
         ]
        },
        "geo": {
         "center": {},
         "domain": {
          "x": [
           0,
           1
          ],
          "y": [
           0,
           1
          ]
         },
         "scope": "usa"
        },
        "legend": {
         "tracegroupgap": 0
        },
        "template": {
         "data": {
          "bar": [
           {
            "error_x": {
             "color": "#2a3f5f"
            },
            "error_y": {
             "color": "#2a3f5f"
            },
            "marker": {
             "line": {
              "color": "#E5ECF6",
              "width": 0.5
             },
             "pattern": {
              "fillmode": "overlay",
              "size": 10,
              "solidity": 0.2
             }
            },
            "type": "bar"
           }
          ],
          "barpolar": [
           {
            "marker": {
             "line": {
              "color": "#E5ECF6",
              "width": 0.5
             },
             "pattern": {
              "fillmode": "overlay",
              "size": 10,
              "solidity": 0.2
             }
            },
            "type": "barpolar"
           }
          ],
          "carpet": [
           {
            "aaxis": {
             "endlinecolor": "#2a3f5f",
             "gridcolor": "white",
             "linecolor": "white",
             "minorgridcolor": "white",
             "startlinecolor": "#2a3f5f"
            },
            "baxis": {
             "endlinecolor": "#2a3f5f",
             "gridcolor": "white",
             "linecolor": "white",
             "minorgridcolor": "white",
             "startlinecolor": "#2a3f5f"
            },
            "type": "carpet"
           }
          ],
          "choropleth": [
           {
            "colorbar": {
             "outlinewidth": 0,
             "ticks": ""
            },
            "type": "choropleth"
           }
          ],
          "contour": [
           {
            "colorbar": {
             "outlinewidth": 0,
             "ticks": ""
            },
            "colorscale": [
             [
              0,
              "#0d0887"
             ],
             [
              0.1111111111111111,
              "#46039f"
             ],
             [
              0.2222222222222222,
              "#7201a8"
             ],
             [
              0.3333333333333333,
              "#9c179e"
             ],
             [
              0.4444444444444444,
              "#bd3786"
             ],
             [
              0.5555555555555556,
              "#d8576b"
             ],
             [
              0.6666666666666666,
              "#ed7953"
             ],
             [
              0.7777777777777778,
              "#fb9f3a"
             ],
             [
              0.8888888888888888,
              "#fdca26"
             ],
             [
              1,
              "#f0f921"
             ]
            ],
            "type": "contour"
           }
          ],
          "contourcarpet": [
           {
            "colorbar": {
             "outlinewidth": 0,
             "ticks": ""
            },
            "type": "contourcarpet"
           }
          ],
          "heatmap": [
           {
            "colorbar": {
             "outlinewidth": 0,
             "ticks": ""
            },
            "colorscale": [
             [
              0,
              "#0d0887"
             ],
             [
              0.1111111111111111,
              "#46039f"
             ],
             [
              0.2222222222222222,
              "#7201a8"
             ],
             [
              0.3333333333333333,
              "#9c179e"
             ],
             [
              0.4444444444444444,
              "#bd3786"
             ],
             [
              0.5555555555555556,
              "#d8576b"
             ],
             [
              0.6666666666666666,
              "#ed7953"
             ],
             [
              0.7777777777777778,
              "#fb9f3a"
             ],
             [
              0.8888888888888888,
              "#fdca26"
             ],
             [
              1,
              "#f0f921"
             ]
            ],
            "type": "heatmap"
           }
          ],
          "heatmapgl": [
           {
            "colorbar": {
             "outlinewidth": 0,
             "ticks": ""
            },
            "colorscale": [
             [
              0,
              "#0d0887"
             ],
             [
              0.1111111111111111,
              "#46039f"
             ],
             [
              0.2222222222222222,
              "#7201a8"
             ],
             [
              0.3333333333333333,
              "#9c179e"
             ],
             [
              0.4444444444444444,
              "#bd3786"
             ],
             [
              0.5555555555555556,
              "#d8576b"
             ],
             [
              0.6666666666666666,
              "#ed7953"
             ],
             [
              0.7777777777777778,
              "#fb9f3a"
             ],
             [
              0.8888888888888888,
              "#fdca26"
             ],
             [
              1,
              "#f0f921"
             ]
            ],
            "type": "heatmapgl"
           }
          ],
          "histogram": [
           {
            "marker": {
             "pattern": {
              "fillmode": "overlay",
              "size": 10,
              "solidity": 0.2
             }
            },
            "type": "histogram"
           }
          ],
          "histogram2d": [
           {
            "colorbar": {
             "outlinewidth": 0,
             "ticks": ""
            },
            "colorscale": [
             [
              0,
              "#0d0887"
             ],
             [
              0.1111111111111111,
              "#46039f"
             ],
             [
              0.2222222222222222,
              "#7201a8"
             ],
             [
              0.3333333333333333,
              "#9c179e"
             ],
             [
              0.4444444444444444,
              "#bd3786"
             ],
             [
              0.5555555555555556,
              "#d8576b"
             ],
             [
              0.6666666666666666,
              "#ed7953"
             ],
             [
              0.7777777777777778,
              "#fb9f3a"
             ],
             [
              0.8888888888888888,
              "#fdca26"
             ],
             [
              1,
              "#f0f921"
             ]
            ],
            "type": "histogram2d"
           }
          ],
          "histogram2dcontour": [
           {
            "colorbar": {
             "outlinewidth": 0,
             "ticks": ""
            },
            "colorscale": [
             [
              0,
              "#0d0887"
             ],
             [
              0.1111111111111111,
              "#46039f"
             ],
             [
              0.2222222222222222,
              "#7201a8"
             ],
             [
              0.3333333333333333,
              "#9c179e"
             ],
             [
              0.4444444444444444,
              "#bd3786"
             ],
             [
              0.5555555555555556,
              "#d8576b"
             ],
             [
              0.6666666666666666,
              "#ed7953"
             ],
             [
              0.7777777777777778,
              "#fb9f3a"
             ],
             [
              0.8888888888888888,
              "#fdca26"
             ],
             [
              1,
              "#f0f921"
             ]
            ],
            "type": "histogram2dcontour"
           }
          ],
          "mesh3d": [
           {
            "colorbar": {
             "outlinewidth": 0,
             "ticks": ""
            },
            "type": "mesh3d"
           }
          ],
          "parcoords": [
           {
            "line": {
             "colorbar": {
              "outlinewidth": 0,
              "ticks": ""
             }
            },
            "type": "parcoords"
           }
          ],
          "pie": [
           {
            "automargin": true,
            "type": "pie"
           }
          ],
          "scatter": [
           {
            "fillpattern": {
             "fillmode": "overlay",
             "size": 10,
             "solidity": 0.2
            },
            "type": "scatter"
           }
          ],
          "scatter3d": [
           {
            "line": {
             "colorbar": {
              "outlinewidth": 0,
              "ticks": ""
             }
            },
            "marker": {
             "colorbar": {
              "outlinewidth": 0,
              "ticks": ""
             }
            },
            "type": "scatter3d"
           }
          ],
          "scattercarpet": [
           {
            "marker": {
             "colorbar": {
              "outlinewidth": 0,
              "ticks": ""
             }
            },
            "type": "scattercarpet"
           }
          ],
          "scattergeo": [
           {
            "marker": {
             "colorbar": {
              "outlinewidth": 0,
              "ticks": ""
             }
            },
            "type": "scattergeo"
           }
          ],
          "scattergl": [
           {
            "marker": {
             "colorbar": {
              "outlinewidth": 0,
              "ticks": ""
             }
            },
            "type": "scattergl"
           }
          ],
          "scattermapbox": [
           {
            "marker": {
             "colorbar": {
              "outlinewidth": 0,
              "ticks": ""
             }
            },
            "type": "scattermapbox"
           }
          ],
          "scatterpolar": [
           {
            "marker": {
             "colorbar": {
              "outlinewidth": 0,
              "ticks": ""
             }
            },
            "type": "scatterpolar"
           }
          ],
          "scatterpolargl": [
           {
            "marker": {
             "colorbar": {
              "outlinewidth": 0,
              "ticks": ""
             }
            },
            "type": "scatterpolargl"
           }
          ],
          "scatterternary": [
           {
            "marker": {
             "colorbar": {
              "outlinewidth": 0,
              "ticks": ""
             }
            },
            "type": "scatterternary"
           }
          ],
          "surface": [
           {
            "colorbar": {
             "outlinewidth": 0,
             "ticks": ""
            },
            "colorscale": [
             [
              0,
              "#0d0887"
             ],
             [
              0.1111111111111111,
              "#46039f"
             ],
             [
              0.2222222222222222,
              "#7201a8"
             ],
             [
              0.3333333333333333,
              "#9c179e"
             ],
             [
              0.4444444444444444,
              "#bd3786"
             ],
             [
              0.5555555555555556,
              "#d8576b"
             ],
             [
              0.6666666666666666,
              "#ed7953"
             ],
             [
              0.7777777777777778,
              "#fb9f3a"
             ],
             [
              0.8888888888888888,
              "#fdca26"
             ],
             [
              1,
              "#f0f921"
             ]
            ],
            "type": "surface"
           }
          ],
          "table": [
           {
            "cells": {
             "fill": {
              "color": "#EBF0F8"
             },
             "line": {
              "color": "white"
             }
            },
            "header": {
             "fill": {
              "color": "#C8D4E3"
             },
             "line": {
              "color": "white"
             }
            },
            "type": "table"
           }
          ]
         },
         "layout": {
          "annotationdefaults": {
           "arrowcolor": "#2a3f5f",
           "arrowhead": 0,
           "arrowwidth": 1
          },
          "autotypenumbers": "strict",
          "coloraxis": {
           "colorbar": {
            "outlinewidth": 0,
            "ticks": ""
           }
          },
          "colorscale": {
           "diverging": [
            [
             0,
             "#8e0152"
            ],
            [
             0.1,
             "#c51b7d"
            ],
            [
             0.2,
             "#de77ae"
            ],
            [
             0.3,
             "#f1b6da"
            ],
            [
             0.4,
             "#fde0ef"
            ],
            [
             0.5,
             "#f7f7f7"
            ],
            [
             0.6,
             "#e6f5d0"
            ],
            [
             0.7,
             "#b8e186"
            ],
            [
             0.8,
             "#7fbc41"
            ],
            [
             0.9,
             "#4d9221"
            ],
            [
             1,
             "#276419"
            ]
           ],
           "sequential": [
            [
             0,
             "#0d0887"
            ],
            [
             0.1111111111111111,
             "#46039f"
            ],
            [
             0.2222222222222222,
             "#7201a8"
            ],
            [
             0.3333333333333333,
             "#9c179e"
            ],
            [
             0.4444444444444444,
             "#bd3786"
            ],
            [
             0.5555555555555556,
             "#d8576b"
            ],
            [
             0.6666666666666666,
             "#ed7953"
            ],
            [
             0.7777777777777778,
             "#fb9f3a"
            ],
            [
             0.8888888888888888,
             "#fdca26"
            ],
            [
             1,
             "#f0f921"
            ]
           ],
           "sequentialminus": [
            [
             0,
             "#0d0887"
            ],
            [
             0.1111111111111111,
             "#46039f"
            ],
            [
             0.2222222222222222,
             "#7201a8"
            ],
            [
             0.3333333333333333,
             "#9c179e"
            ],
            [
             0.4444444444444444,
             "#bd3786"
            ],
            [
             0.5555555555555556,
             "#d8576b"
            ],
            [
             0.6666666666666666,
             "#ed7953"
            ],
            [
             0.7777777777777778,
             "#fb9f3a"
            ],
            [
             0.8888888888888888,
             "#fdca26"
            ],
            [
             1,
             "#f0f921"
            ]
           ]
          },
          "colorway": [
           "#636efa",
           "#EF553B",
           "#00cc96",
           "#ab63fa",
           "#FFA15A",
           "#19d3f3",
           "#FF6692",
           "#B6E880",
           "#FF97FF",
           "#FECB52"
          ],
          "font": {
           "color": "#2a3f5f"
          },
          "geo": {
           "bgcolor": "white",
           "lakecolor": "white",
           "landcolor": "#E5ECF6",
           "showlakes": true,
           "showland": true,
           "subunitcolor": "white"
          },
          "hoverlabel": {
           "align": "left"
          },
          "hovermode": "closest",
          "mapbox": {
           "style": "light"
          },
          "paper_bgcolor": "white",
          "plot_bgcolor": "#E5ECF6",
          "polar": {
           "angularaxis": {
            "gridcolor": "white",
            "linecolor": "white",
            "ticks": ""
           },
           "bgcolor": "#E5ECF6",
           "radialaxis": {
            "gridcolor": "white",
            "linecolor": "white",
            "ticks": ""
           }
          },
          "scene": {
           "xaxis": {
            "backgroundcolor": "#E5ECF6",
            "gridcolor": "white",
            "gridwidth": 2,
            "linecolor": "white",
            "showbackground": true,
            "ticks": "",
            "zerolinecolor": "white"
           },
           "yaxis": {
            "backgroundcolor": "#E5ECF6",
            "gridcolor": "white",
            "gridwidth": 2,
            "linecolor": "white",
            "showbackground": true,
            "ticks": "",
            "zerolinecolor": "white"
           },
           "zaxis": {
            "backgroundcolor": "#E5ECF6",
            "gridcolor": "white",
            "gridwidth": 2,
            "linecolor": "white",
            "showbackground": true,
            "ticks": "",
            "zerolinecolor": "white"
           }
          },
          "shapedefaults": {
           "line": {
            "color": "#2a3f5f"
           }
          },
          "ternary": {
           "aaxis": {
            "gridcolor": "white",
            "linecolor": "white",
            "ticks": ""
           },
           "baxis": {
            "gridcolor": "white",
            "linecolor": "white",
            "ticks": ""
           },
           "bgcolor": "#E5ECF6",
           "caxis": {
            "gridcolor": "white",
            "linecolor": "white",
            "ticks": ""
           }
          },
          "title": {
           "x": 0.05
          },
          "xaxis": {
           "automargin": true,
           "gridcolor": "white",
           "linecolor": "white",
           "ticks": "",
           "title": {
            "standoff": 15
           },
           "zerolinecolor": "white",
           "zerolinewidth": 2
          },
          "yaxis": {
           "automargin": true,
           "gridcolor": "white",
           "linecolor": "white",
           "ticks": "",
           "title": {
            "standoff": 15
           },
           "zerolinecolor": "white",
           "zerolinewidth": 2
          }
         }
        },
        "title": {
         "text": "Gun Incidents per 100k Population by State"
        }
       }
      }
     },
     "metadata": {},
     "output_type": "display_data"
    }
   ],
   "source": [
    "map_data = df_top20_analysis.groupby(\"State\", as_index=False).agg({\n",
    "    \"Incidents_per_100k\": \"mean\",\n",
    "    \"%Bachelor\": \"mean\"\n",
    "})\n",
    "\n",
    "us_state_abbrev = {\n",
    "    'Alabama': 'AL','Alaska': 'AK','Arizona': 'AZ','Arkansas': 'AR','California': 'CA',\n",
    "    'Colorado': 'CO','Connecticut': 'CT','Delaware': 'DE','District of Columbia': 'DC',\n",
    "    'Florida': 'FL','Georgia': 'GA','Hawaii': 'HI','Idaho': 'ID','Illinois': 'IL',\n",
    "    'Indiana': 'IN','Iowa': 'IA','Kansas': 'KS','Kentucky': 'KY','Louisiana': 'LA',\n",
    "    'Maine': 'ME','Maryland': 'MD','Massachusetts': 'MA','Michigan': 'MI','Minnesota': 'MN',\n",
    "    'Mississippi': 'MS','Missouri': 'MO','Montana': 'MT','Nebraska': 'NE','Nevada': 'NV',\n",
    "    'New Hampshire': 'NH','New Jersey': 'NJ','New Mexico': 'NM','New York': 'NY',\n",
    "    'North Carolina': 'NC','North Dakota': 'ND','Ohio': 'OH','Oklahoma': 'OK','Oregon': 'OR',\n",
    "    'Pennsylvania': 'PA','Rhode Island': 'RI','South Carolina': 'SC','South Dakota': 'SD',\n",
    "    'Tennessee': 'TN','Texas': 'TX','Utah': 'UT','Vermont': 'VT','Virginia': 'VA',\n",
    "    'Washington': 'WA','West Virginia': 'WV','Wisconsin': 'WI','Wyoming': 'WY',\n",
    "    'Puerto Rico': 'PR'\n",
    "}\n",
    "\n",
    "# Map full names to abbreviations\n",
    "map_data[\"State_Code\"] = map_data[\"State\"].map(us_state_abbrev)\n",
    "\n",
    "\n",
    "fig = px.choropleth(\n",
    "    map_data,\n",
    "    locations=\"State_Code\",             # use 2-letter codes\n",
    "    locationmode=\"USA-states\",\n",
    "    color=\"Incidents_per_100k\",\n",
    "    hover_name=\"State\",\n",
    "    hover_data={\"%Bachelor\": True, \"Incidents_per_100k\": True},\n",
    "    color_continuous_scale=\"Reds\",\n",
    "    scope=\"usa\",\n",
    "    title=\"Gun Incidents per 100k Population by State\"\n",
    ")\n",
    "fig.show()"
   ]
  },
  {
   "cell_type": "markdown",
   "id": "117c81f7",
   "metadata": {},
   "source": [
    "Master degree drop out map"
   ]
  },
  {
   "cell_type": "code",
   "execution_count": 281,
   "id": "c9e45760",
   "metadata": {},
   "outputs": [
    {
     "data": {
      "application/vnd.plotly.v1+json": {
       "config": {
        "plotlyServerURL": "https://plot.ly"
       },
       "data": [
        {
         "coloraxis": "coloraxis",
         "customdata": [
          [
           7.333,
           0.25586304059094533
          ],
          [
           8.053333333333333,
           0.1357773187736099
          ],
          [
           8.434999999999999,
           0.07343231285570573
          ],
          [
           6.2829999999999995,
           0.1516658303634873
          ],
          [
           9.040000000000001,
           0.10551957332929847
          ],
          [
           11.822,
           0.12466814063788254
          ],
          [
           13.053,
           0.0694605284737859
          ],
          [
           10.386666666666665,
           0.19019262394144298
          ],
          [
           21.776,
           1.1713867398345084
          ],
          [
           8.065000000000001,
           0.12355978142503954
          ],
          [
           9.045,
           0.1791011362975237
          ],
          [
           9.25,
           0.06941451079295063
          ],
          [
           7.455,
           0.05175185295991534
          ],
          [
           10.370000000000001,
           0.3448663596346388
          ],
          [
           7.340999999999999,
           0.15237074738402706
          ],
          [
           7.0200000000000005,
           0.07197094251149058
          ],
          [
           9.498888888888889,
           0.09876959467113244
          ],
          [
           7.521000000000001,
           0.12886777389474052
          ],
          [
           6.156000000000001,
           0.4538767593978007
          ],
          [
           8.586666666666668,
           0.09777782016944671
          ],
          [
           13.52,
           0.20961017646894503
          ],
          [
           14.222,
           0.05628335606919234
          ],
          [
           8.779,
           0.13384771130263085
          ],
          [
           9.007,
           0.11628419813834108
          ],
          [
           6.414,
           0.37555666707840585
          ],
          [
           8.534,
           0.22592780209463076
          ],
          [
           7.186666666666667,
           0.12637773357166002
          ],
          [
           8.372857142857143,
           0.1173375484193857
          ],
          [
           6.212000000000001,
           0.1168780953096212
          ],
          [
           12.04,
           0.07165929207617384
          ],
          [
           11.805,
           0.10576482457019395
          ],
          [
           8.862,
           0.1190379804992309
          ],
          [
           11.992999999999999,
           0.09375114150238627
          ],
          [
           8.767,
           0.13528176581877932
          ],
          [
           7.36,
           0.12756306079910604
          ],
          [
           8.315000000000001,
           0.15172730976409107
          ],
          [
           6.531999999999999,
           0.10510071049459131
          ],
          [
           9.111428571428572,
           0.07516952319527485
          ],
          [
           9.342,
           0.17188175123534263
          ],
          [
           9.71,
           0.12399605078558847
          ],
          [
           8.251,
           0.1975153654854022
          ],
          [
           6.3675,
           0.1404185570548279
          ],
          [
           7.498,
           0.2108078300073442
          ],
          [
           8.120000000000001,
           0.11272239147576286
          ],
          [
           9.03,
           0.04623235945626077
          ],
          [
           10.35,
           0.1597336919887164
          ],
          [
           12.789,
           0.1224082797614128
          ],
          [
           10.329,
           0.0811137407970554
          ],
          [
           6.733333333333333,
           0.09339733262338813
          ],
          [
           7.723999999999999,
           0.1020732561646764
          ],
          [
           7.56,
           0.1727834901919452
          ]
         ],
         "geo": "geo",
         "hovertemplate": "<b>%{hovertext}</b><br><br>State_Code=%{location}<br>%Master_Degree=%{customdata[0]}<br>Incidents_per_100k=%{z}<extra></extra>",
         "hovertext": [
          "Alabama",
          "Alaska",
          "Arizona",
          "Arkansas",
          "California",
          "Colorado",
          "Connecticut",
          "Delaware",
          "District of Columbia",
          "Florida",
          "Georgia",
          "Hawaii",
          "Idaho",
          "Illinois",
          "Indiana",
          "Iowa",
          "Kansas",
          "Kentucky",
          "Louisiana",
          "Maine",
          "Maryland",
          "Massachusetts",
          "Michigan",
          "Minnesota",
          "Mississippi",
          "Missouri",
          "Montana",
          "Nebraska",
          "Nevada",
          "New Hampshire",
          "New Jersey",
          "New Mexico",
          "New York",
          "North Carolina",
          "North Dakota",
          "Ohio",
          "Oklahoma",
          "Oregon",
          "Pennsylvania",
          "Rhode Island",
          "South Carolina",
          "South Dakota",
          "Tennessee",
          "Texas",
          "Utah",
          "Vermont",
          "Virginia",
          "Washington",
          "West Virginia",
          "Wisconsin",
          "Wyoming"
         ],
         "locationmode": "USA-states",
         "locations": [
          "AL",
          "AK",
          "AZ",
          "AR",
          "CA",
          "CO",
          "CT",
          "DE",
          "DC",
          "FL",
          "GA",
          "HI",
          "ID",
          "IL",
          "IN",
          "IA",
          "KS",
          "KY",
          "LA",
          "ME",
          "MD",
          "MA",
          "MI",
          "MN",
          "MS",
          "MO",
          "MT",
          "NE",
          "NV",
          "NH",
          "NJ",
          "NM",
          "NY",
          "NC",
          "ND",
          "OH",
          "OK",
          "OR",
          "PA",
          "RI",
          "SC",
          "SD",
          "TN",
          "TX",
          "UT",
          "VT",
          "VA",
          "WA",
          "WV",
          "WI",
          "WY"
         ],
         "name": "",
         "type": "choropleth",
         "z": [
          0.25586304059094533,
          0.1357773187736099,
          0.07343231285570573,
          0.1516658303634873,
          0.10551957332929847,
          0.12466814063788254,
          0.0694605284737859,
          0.19019262394144298,
          1.1713867398345084,
          0.12355978142503954,
          0.1791011362975237,
          0.06941451079295063,
          0.05175185295991534,
          0.3448663596346388,
          0.15237074738402706,
          0.07197094251149058,
          0.09876959467113244,
          0.12886777389474052,
          0.4538767593978007,
          0.09777782016944671,
          0.20961017646894503,
          0.05628335606919234,
          0.13384771130263085,
          0.11628419813834108,
          0.37555666707840585,
          0.22592780209463076,
          0.12637773357166002,
          0.1173375484193857,
          0.1168780953096212,
          0.07165929207617384,
          0.10576482457019395,
          0.1190379804992309,
          0.09375114150238627,
          0.13528176581877932,
          0.12756306079910604,
          0.15172730976409107,
          0.10510071049459131,
          0.07516952319527485,
          0.17188175123534263,
          0.12399605078558847,
          0.1975153654854022,
          0.1404185570548279,
          0.2108078300073442,
          0.11272239147576286,
          0.04623235945626077,
          0.1597336919887164,
          0.1224082797614128,
          0.0811137407970554,
          0.09339733262338813,
          0.1020732561646764,
          0.1727834901919452
         ]
        }
       ],
       "layout": {
        "coloraxis": {
         "colorbar": {
          "title": {
           "text": "Incidents_per_100k"
          }
         },
         "colorscale": [
          [
           0,
           "rgb(255,245,240)"
          ],
          [
           0.125,
           "rgb(254,224,210)"
          ],
          [
           0.25,
           "rgb(252,187,161)"
          ],
          [
           0.375,
           "rgb(252,146,114)"
          ],
          [
           0.5,
           "rgb(251,106,74)"
          ],
          [
           0.625,
           "rgb(239,59,44)"
          ],
          [
           0.75,
           "rgb(203,24,29)"
          ],
          [
           0.875,
           "rgb(165,15,21)"
          ],
          [
           1,
           "rgb(103,0,13)"
          ]
         ]
        },
        "geo": {
         "center": {},
         "domain": {
          "x": [
           0,
           1
          ],
          "y": [
           0,
           1
          ]
         },
         "scope": "usa"
        },
        "legend": {
         "tracegroupgap": 0
        },
        "template": {
         "data": {
          "bar": [
           {
            "error_x": {
             "color": "#2a3f5f"
            },
            "error_y": {
             "color": "#2a3f5f"
            },
            "marker": {
             "line": {
              "color": "#E5ECF6",
              "width": 0.5
             },
             "pattern": {
              "fillmode": "overlay",
              "size": 10,
              "solidity": 0.2
             }
            },
            "type": "bar"
           }
          ],
          "barpolar": [
           {
            "marker": {
             "line": {
              "color": "#E5ECF6",
              "width": 0.5
             },
             "pattern": {
              "fillmode": "overlay",
              "size": 10,
              "solidity": 0.2
             }
            },
            "type": "barpolar"
           }
          ],
          "carpet": [
           {
            "aaxis": {
             "endlinecolor": "#2a3f5f",
             "gridcolor": "white",
             "linecolor": "white",
             "minorgridcolor": "white",
             "startlinecolor": "#2a3f5f"
            },
            "baxis": {
             "endlinecolor": "#2a3f5f",
             "gridcolor": "white",
             "linecolor": "white",
             "minorgridcolor": "white",
             "startlinecolor": "#2a3f5f"
            },
            "type": "carpet"
           }
          ],
          "choropleth": [
           {
            "colorbar": {
             "outlinewidth": 0,
             "ticks": ""
            },
            "type": "choropleth"
           }
          ],
          "contour": [
           {
            "colorbar": {
             "outlinewidth": 0,
             "ticks": ""
            },
            "colorscale": [
             [
              0,
              "#0d0887"
             ],
             [
              0.1111111111111111,
              "#46039f"
             ],
             [
              0.2222222222222222,
              "#7201a8"
             ],
             [
              0.3333333333333333,
              "#9c179e"
             ],
             [
              0.4444444444444444,
              "#bd3786"
             ],
             [
              0.5555555555555556,
              "#d8576b"
             ],
             [
              0.6666666666666666,
              "#ed7953"
             ],
             [
              0.7777777777777778,
              "#fb9f3a"
             ],
             [
              0.8888888888888888,
              "#fdca26"
             ],
             [
              1,
              "#f0f921"
             ]
            ],
            "type": "contour"
           }
          ],
          "contourcarpet": [
           {
            "colorbar": {
             "outlinewidth": 0,
             "ticks": ""
            },
            "type": "contourcarpet"
           }
          ],
          "heatmap": [
           {
            "colorbar": {
             "outlinewidth": 0,
             "ticks": ""
            },
            "colorscale": [
             [
              0,
              "#0d0887"
             ],
             [
              0.1111111111111111,
              "#46039f"
             ],
             [
              0.2222222222222222,
              "#7201a8"
             ],
             [
              0.3333333333333333,
              "#9c179e"
             ],
             [
              0.4444444444444444,
              "#bd3786"
             ],
             [
              0.5555555555555556,
              "#d8576b"
             ],
             [
              0.6666666666666666,
              "#ed7953"
             ],
             [
              0.7777777777777778,
              "#fb9f3a"
             ],
             [
              0.8888888888888888,
              "#fdca26"
             ],
             [
              1,
              "#f0f921"
             ]
            ],
            "type": "heatmap"
           }
          ],
          "heatmapgl": [
           {
            "colorbar": {
             "outlinewidth": 0,
             "ticks": ""
            },
            "colorscale": [
             [
              0,
              "#0d0887"
             ],
             [
              0.1111111111111111,
              "#46039f"
             ],
             [
              0.2222222222222222,
              "#7201a8"
             ],
             [
              0.3333333333333333,
              "#9c179e"
             ],
             [
              0.4444444444444444,
              "#bd3786"
             ],
             [
              0.5555555555555556,
              "#d8576b"
             ],
             [
              0.6666666666666666,
              "#ed7953"
             ],
             [
              0.7777777777777778,
              "#fb9f3a"
             ],
             [
              0.8888888888888888,
              "#fdca26"
             ],
             [
              1,
              "#f0f921"
             ]
            ],
            "type": "heatmapgl"
           }
          ],
          "histogram": [
           {
            "marker": {
             "pattern": {
              "fillmode": "overlay",
              "size": 10,
              "solidity": 0.2
             }
            },
            "type": "histogram"
           }
          ],
          "histogram2d": [
           {
            "colorbar": {
             "outlinewidth": 0,
             "ticks": ""
            },
            "colorscale": [
             [
              0,
              "#0d0887"
             ],
             [
              0.1111111111111111,
              "#46039f"
             ],
             [
              0.2222222222222222,
              "#7201a8"
             ],
             [
              0.3333333333333333,
              "#9c179e"
             ],
             [
              0.4444444444444444,
              "#bd3786"
             ],
             [
              0.5555555555555556,
              "#d8576b"
             ],
             [
              0.6666666666666666,
              "#ed7953"
             ],
             [
              0.7777777777777778,
              "#fb9f3a"
             ],
             [
              0.8888888888888888,
              "#fdca26"
             ],
             [
              1,
              "#f0f921"
             ]
            ],
            "type": "histogram2d"
           }
          ],
          "histogram2dcontour": [
           {
            "colorbar": {
             "outlinewidth": 0,
             "ticks": ""
            },
            "colorscale": [
             [
              0,
              "#0d0887"
             ],
             [
              0.1111111111111111,
              "#46039f"
             ],
             [
              0.2222222222222222,
              "#7201a8"
             ],
             [
              0.3333333333333333,
              "#9c179e"
             ],
             [
              0.4444444444444444,
              "#bd3786"
             ],
             [
              0.5555555555555556,
              "#d8576b"
             ],
             [
              0.6666666666666666,
              "#ed7953"
             ],
             [
              0.7777777777777778,
              "#fb9f3a"
             ],
             [
              0.8888888888888888,
              "#fdca26"
             ],
             [
              1,
              "#f0f921"
             ]
            ],
            "type": "histogram2dcontour"
           }
          ],
          "mesh3d": [
           {
            "colorbar": {
             "outlinewidth": 0,
             "ticks": ""
            },
            "type": "mesh3d"
           }
          ],
          "parcoords": [
           {
            "line": {
             "colorbar": {
              "outlinewidth": 0,
              "ticks": ""
             }
            },
            "type": "parcoords"
           }
          ],
          "pie": [
           {
            "automargin": true,
            "type": "pie"
           }
          ],
          "scatter": [
           {
            "fillpattern": {
             "fillmode": "overlay",
             "size": 10,
             "solidity": 0.2
            },
            "type": "scatter"
           }
          ],
          "scatter3d": [
           {
            "line": {
             "colorbar": {
              "outlinewidth": 0,
              "ticks": ""
             }
            },
            "marker": {
             "colorbar": {
              "outlinewidth": 0,
              "ticks": ""
             }
            },
            "type": "scatter3d"
           }
          ],
          "scattercarpet": [
           {
            "marker": {
             "colorbar": {
              "outlinewidth": 0,
              "ticks": ""
             }
            },
            "type": "scattercarpet"
           }
          ],
          "scattergeo": [
           {
            "marker": {
             "colorbar": {
              "outlinewidth": 0,
              "ticks": ""
             }
            },
            "type": "scattergeo"
           }
          ],
          "scattergl": [
           {
            "marker": {
             "colorbar": {
              "outlinewidth": 0,
              "ticks": ""
             }
            },
            "type": "scattergl"
           }
          ],
          "scattermapbox": [
           {
            "marker": {
             "colorbar": {
              "outlinewidth": 0,
              "ticks": ""
             }
            },
            "type": "scattermapbox"
           }
          ],
          "scatterpolar": [
           {
            "marker": {
             "colorbar": {
              "outlinewidth": 0,
              "ticks": ""
             }
            },
            "type": "scatterpolar"
           }
          ],
          "scatterpolargl": [
           {
            "marker": {
             "colorbar": {
              "outlinewidth": 0,
              "ticks": ""
             }
            },
            "type": "scatterpolargl"
           }
          ],
          "scatterternary": [
           {
            "marker": {
             "colorbar": {
              "outlinewidth": 0,
              "ticks": ""
             }
            },
            "type": "scatterternary"
           }
          ],
          "surface": [
           {
            "colorbar": {
             "outlinewidth": 0,
             "ticks": ""
            },
            "colorscale": [
             [
              0,
              "#0d0887"
             ],
             [
              0.1111111111111111,
              "#46039f"
             ],
             [
              0.2222222222222222,
              "#7201a8"
             ],
             [
              0.3333333333333333,
              "#9c179e"
             ],
             [
              0.4444444444444444,
              "#bd3786"
             ],
             [
              0.5555555555555556,
              "#d8576b"
             ],
             [
              0.6666666666666666,
              "#ed7953"
             ],
             [
              0.7777777777777778,
              "#fb9f3a"
             ],
             [
              0.8888888888888888,
              "#fdca26"
             ],
             [
              1,
              "#f0f921"
             ]
            ],
            "type": "surface"
           }
          ],
          "table": [
           {
            "cells": {
             "fill": {
              "color": "#EBF0F8"
             },
             "line": {
              "color": "white"
             }
            },
            "header": {
             "fill": {
              "color": "#C8D4E3"
             },
             "line": {
              "color": "white"
             }
            },
            "type": "table"
           }
          ]
         },
         "layout": {
          "annotationdefaults": {
           "arrowcolor": "#2a3f5f",
           "arrowhead": 0,
           "arrowwidth": 1
          },
          "autotypenumbers": "strict",
          "coloraxis": {
           "colorbar": {
            "outlinewidth": 0,
            "ticks": ""
           }
          },
          "colorscale": {
           "diverging": [
            [
             0,
             "#8e0152"
            ],
            [
             0.1,
             "#c51b7d"
            ],
            [
             0.2,
             "#de77ae"
            ],
            [
             0.3,
             "#f1b6da"
            ],
            [
             0.4,
             "#fde0ef"
            ],
            [
             0.5,
             "#f7f7f7"
            ],
            [
             0.6,
             "#e6f5d0"
            ],
            [
             0.7,
             "#b8e186"
            ],
            [
             0.8,
             "#7fbc41"
            ],
            [
             0.9,
             "#4d9221"
            ],
            [
             1,
             "#276419"
            ]
           ],
           "sequential": [
            [
             0,
             "#0d0887"
            ],
            [
             0.1111111111111111,
             "#46039f"
            ],
            [
             0.2222222222222222,
             "#7201a8"
            ],
            [
             0.3333333333333333,
             "#9c179e"
            ],
            [
             0.4444444444444444,
             "#bd3786"
            ],
            [
             0.5555555555555556,
             "#d8576b"
            ],
            [
             0.6666666666666666,
             "#ed7953"
            ],
            [
             0.7777777777777778,
             "#fb9f3a"
            ],
            [
             0.8888888888888888,
             "#fdca26"
            ],
            [
             1,
             "#f0f921"
            ]
           ],
           "sequentialminus": [
            [
             0,
             "#0d0887"
            ],
            [
             0.1111111111111111,
             "#46039f"
            ],
            [
             0.2222222222222222,
             "#7201a8"
            ],
            [
             0.3333333333333333,
             "#9c179e"
            ],
            [
             0.4444444444444444,
             "#bd3786"
            ],
            [
             0.5555555555555556,
             "#d8576b"
            ],
            [
             0.6666666666666666,
             "#ed7953"
            ],
            [
             0.7777777777777778,
             "#fb9f3a"
            ],
            [
             0.8888888888888888,
             "#fdca26"
            ],
            [
             1,
             "#f0f921"
            ]
           ]
          },
          "colorway": [
           "#636efa",
           "#EF553B",
           "#00cc96",
           "#ab63fa",
           "#FFA15A",
           "#19d3f3",
           "#FF6692",
           "#B6E880",
           "#FF97FF",
           "#FECB52"
          ],
          "font": {
           "color": "#2a3f5f"
          },
          "geo": {
           "bgcolor": "white",
           "lakecolor": "white",
           "landcolor": "#E5ECF6",
           "showlakes": true,
           "showland": true,
           "subunitcolor": "white"
          },
          "hoverlabel": {
           "align": "left"
          },
          "hovermode": "closest",
          "mapbox": {
           "style": "light"
          },
          "paper_bgcolor": "white",
          "plot_bgcolor": "#E5ECF6",
          "polar": {
           "angularaxis": {
            "gridcolor": "white",
            "linecolor": "white",
            "ticks": ""
           },
           "bgcolor": "#E5ECF6",
           "radialaxis": {
            "gridcolor": "white",
            "linecolor": "white",
            "ticks": ""
           }
          },
          "scene": {
           "xaxis": {
            "backgroundcolor": "#E5ECF6",
            "gridcolor": "white",
            "gridwidth": 2,
            "linecolor": "white",
            "showbackground": true,
            "ticks": "",
            "zerolinecolor": "white"
           },
           "yaxis": {
            "backgroundcolor": "#E5ECF6",
            "gridcolor": "white",
            "gridwidth": 2,
            "linecolor": "white",
            "showbackground": true,
            "ticks": "",
            "zerolinecolor": "white"
           },
           "zaxis": {
            "backgroundcolor": "#E5ECF6",
            "gridcolor": "white",
            "gridwidth": 2,
            "linecolor": "white",
            "showbackground": true,
            "ticks": "",
            "zerolinecolor": "white"
           }
          },
          "shapedefaults": {
           "line": {
            "color": "#2a3f5f"
           }
          },
          "ternary": {
           "aaxis": {
            "gridcolor": "white",
            "linecolor": "white",
            "ticks": ""
           },
           "baxis": {
            "gridcolor": "white",
            "linecolor": "white",
            "ticks": ""
           },
           "bgcolor": "#E5ECF6",
           "caxis": {
            "gridcolor": "white",
            "linecolor": "white",
            "ticks": ""
           }
          },
          "title": {
           "x": 0.05
          },
          "xaxis": {
           "automargin": true,
           "gridcolor": "white",
           "linecolor": "white",
           "ticks": "",
           "title": {
            "standoff": 15
           },
           "zerolinecolor": "white",
           "zerolinewidth": 2
          },
          "yaxis": {
           "automargin": true,
           "gridcolor": "white",
           "linecolor": "white",
           "ticks": "",
           "title": {
            "standoff": 15
           },
           "zerolinecolor": "white",
           "zerolinewidth": 2
          }
         }
        },
        "title": {
         "text": "Gun Incidents per 100k Population by State"
        }
       }
      }
     },
     "metadata": {},
     "output_type": "display_data"
    }
   ],
   "source": [
    "map_data = df_top20_analysis.groupby(\"State\", as_index=False).agg({\n",
    "    \"Incidents_per_100k\": \"mean\",\n",
    "    \"%Master_Degree\": \"mean\"\n",
    "})\n",
    "\n",
    "us_state_abbrev = {\n",
    "    'Alabama': 'AL','Alaska': 'AK','Arizona': 'AZ','Arkansas': 'AR','California': 'CA',\n",
    "    'Colorado': 'CO','Connecticut': 'CT','Delaware': 'DE','District of Columbia': 'DC',\n",
    "    'Florida': 'FL','Georgia': 'GA','Hawaii': 'HI','Idaho': 'ID','Illinois': 'IL',\n",
    "    'Indiana': 'IN','Iowa': 'IA','Kansas': 'KS','Kentucky': 'KY','Louisiana': 'LA',\n",
    "    'Maine': 'ME','Maryland': 'MD','Massachusetts': 'MA','Michigan': 'MI','Minnesota': 'MN',\n",
    "    'Mississippi': 'MS','Missouri': 'MO','Montana': 'MT','Nebraska': 'NE','Nevada': 'NV',\n",
    "    'New Hampshire': 'NH','New Jersey': 'NJ','New Mexico': 'NM','New York': 'NY',\n",
    "    'North Carolina': 'NC','North Dakota': 'ND','Ohio': 'OH','Oklahoma': 'OK','Oregon': 'OR',\n",
    "    'Pennsylvania': 'PA','Rhode Island': 'RI','South Carolina': 'SC','South Dakota': 'SD',\n",
    "    'Tennessee': 'TN','Texas': 'TX','Utah': 'UT','Vermont': 'VT','Virginia': 'VA',\n",
    "    'Washington': 'WA','West Virginia': 'WV','Wisconsin': 'WI','Wyoming': 'WY',\n",
    "    'Puerto Rico': 'PR'\n",
    "}\n",
    "\n",
    "# Map full names to abbreviations\n",
    "map_data[\"State_Code\"] = map_data[\"State\"].map(us_state_abbrev)\n",
    "\n",
    "\n",
    "fig = px.choropleth(\n",
    "    map_data,\n",
    "    locations=\"State_Code\",             # use 2-letter codes\n",
    "    locationmode=\"USA-states\",\n",
    "    color=\"Incidents_per_100k\",\n",
    "    hover_name=\"State\",\n",
    "    hover_data={\"%Master_Degree\": True, \"Incidents_per_100k\": True},\n",
    "    color_continuous_scale=\"Reds\",\n",
    "    scope=\"usa\",\n",
    "    title=\"Gun Incidents per 100k Population by State\"\n",
    ")\n",
    "fig.show()"
   ]
  },
  {
   "cell_type": "markdown",
   "id": "8b4e5785",
   "metadata": {},
   "source": [
    "Doctorate Map"
   ]
  },
  {
   "cell_type": "code",
   "execution_count": 282,
   "id": "5fee985f",
   "metadata": {},
   "outputs": [
    {
     "data": {
      "application/vnd.plotly.v1+json": {
       "config": {
        "plotlyServerURL": "https://plot.ly"
       },
       "data": [
        {
         "coloraxis": "coloraxis",
         "customdata": [
          [
           1.1640000000000001,
           0.25586304059094533
          ],
          [
           1.22,
           0.1357773187736099
          ],
          [
           1.3699999999999999,
           0.07343231285570573
          ],
          [
           1.0310000000000001,
           0.1516658303634873
          ],
          [
           1.751,
           0.10551957332929847
          ],
          [
           1.8780000000000001,
           0.12466814063788254
          ],
          [
           1.814,
           0.0694605284737859
          ],
          [
           1.8444444444444446,
           0.19019262394144298
          ],
          [
           4.529,
           1.1713867398345084
          ],
          [
           1.2879999999999998,
           0.12355978142503954
          ],
          [
           1.455,
           0.1791011362975237
          ],
          [
           1.62,
           0.06941451079295063
          ],
          [
           1.355,
           0.05175185295991534
          ],
          [
           1.459,
           0.3448663596346388
          ],
          [
           1.147,
           0.15237074738402706
          ],
          [
           1.3514285714285716,
           0.07197094251149058
          ],
          [
           1.3477777777777777,
           0.09876959467113244
          ],
          [
           1.0630000000000002,
           0.12886777389474052
          ],
          [
           1.051,
           0.4538767593978007
          ],
          [
           1.4033333333333333,
           0.09777782016944671
          ],
          [
           2.745,
           0.20961017646894503
          ],
          [
           2.9850000000000003,
           0.05628335606919234
          ],
          [
           1.2550000000000001,
           0.13384771130263085
          ],
          [
           1.535,
           0.11628419813834108
          ],
          [
           1.092,
           0.37555666707840585
          ],
          [
           1.331,
           0.22592780209463076
          ],
          [
           1.38,
           0.12637773357166002
          ],
          [
           1.467142857142857,
           0.1173375484193857
          ],
          [
           1.0050000000000001,
           0.1168780953096212
          ],
          [
           1.7349999999999999,
           0.07165929207617384
          ],
          [
           1.6949999999999998,
           0.10576482457019395
          ],
          [
           2.027,
           0.1190379804992309
          ],
          [
           1.625,
           0.09375114150238627
          ],
          [
           1.481,
           0.13528176581877932
          ],
          [
           1.5,
           0.12756306079910604
          ],
          [
           1.215,
           0.15172730976409107
          ],
          [
           1.0699999999999998,
           0.10510071049459131
          ],
          [
           1.7657142857142856,
           0.07516952319527485
          ],
          [
           1.6169999999999998,
           0.17188175123534263
          ],
          [
           1.92,
           0.12399605078558847
          ],
          [
           1.201,
           0.1975153654854022
          ],
          [
           1.29,
           0.1404185570548279
          ],
          [
           1.3699999999999999,
           0.2108078300073442
          ],
          [
           1.244,
           0.11272239147576286
          ],
          [
           1.4983333333333333,
           0.04623235945626077
          ],
          [
           1.8,
           0.1597336919887164
          ],
          [
           1.957,
           0.1224082797614128
          ],
          [
           1.689,
           0.0811137407970554
          ],
          [
           0.9866666666666667,
           0.09339733262338813
          ],
          [
           1.2710000000000001,
           0.1020732561646764
          ],
          [
           1.25,
           0.1727834901919452
          ]
         ],
         "geo": "geo",
         "hovertemplate": "<b>%{hovertext}</b><br><br>State_Code=%{location}<br>%Doctorate_Degree=%{customdata[0]}<br>Incidents_per_100k=%{z}<extra></extra>",
         "hovertext": [
          "Alabama",
          "Alaska",
          "Arizona",
          "Arkansas",
          "California",
          "Colorado",
          "Connecticut",
          "Delaware",
          "District of Columbia",
          "Florida",
          "Georgia",
          "Hawaii",
          "Idaho",
          "Illinois",
          "Indiana",
          "Iowa",
          "Kansas",
          "Kentucky",
          "Louisiana",
          "Maine",
          "Maryland",
          "Massachusetts",
          "Michigan",
          "Minnesota",
          "Mississippi",
          "Missouri",
          "Montana",
          "Nebraska",
          "Nevada",
          "New Hampshire",
          "New Jersey",
          "New Mexico",
          "New York",
          "North Carolina",
          "North Dakota",
          "Ohio",
          "Oklahoma",
          "Oregon",
          "Pennsylvania",
          "Rhode Island",
          "South Carolina",
          "South Dakota",
          "Tennessee",
          "Texas",
          "Utah",
          "Vermont",
          "Virginia",
          "Washington",
          "West Virginia",
          "Wisconsin",
          "Wyoming"
         ],
         "locationmode": "USA-states",
         "locations": [
          "AL",
          "AK",
          "AZ",
          "AR",
          "CA",
          "CO",
          "CT",
          "DE",
          "DC",
          "FL",
          "GA",
          "HI",
          "ID",
          "IL",
          "IN",
          "IA",
          "KS",
          "KY",
          "LA",
          "ME",
          "MD",
          "MA",
          "MI",
          "MN",
          "MS",
          "MO",
          "MT",
          "NE",
          "NV",
          "NH",
          "NJ",
          "NM",
          "NY",
          "NC",
          "ND",
          "OH",
          "OK",
          "OR",
          "PA",
          "RI",
          "SC",
          "SD",
          "TN",
          "TX",
          "UT",
          "VT",
          "VA",
          "WA",
          "WV",
          "WI",
          "WY"
         ],
         "name": "",
         "type": "choropleth",
         "z": [
          0.25586304059094533,
          0.1357773187736099,
          0.07343231285570573,
          0.1516658303634873,
          0.10551957332929847,
          0.12466814063788254,
          0.0694605284737859,
          0.19019262394144298,
          1.1713867398345084,
          0.12355978142503954,
          0.1791011362975237,
          0.06941451079295063,
          0.05175185295991534,
          0.3448663596346388,
          0.15237074738402706,
          0.07197094251149058,
          0.09876959467113244,
          0.12886777389474052,
          0.4538767593978007,
          0.09777782016944671,
          0.20961017646894503,
          0.05628335606919234,
          0.13384771130263085,
          0.11628419813834108,
          0.37555666707840585,
          0.22592780209463076,
          0.12637773357166002,
          0.1173375484193857,
          0.1168780953096212,
          0.07165929207617384,
          0.10576482457019395,
          0.1190379804992309,
          0.09375114150238627,
          0.13528176581877932,
          0.12756306079910604,
          0.15172730976409107,
          0.10510071049459131,
          0.07516952319527485,
          0.17188175123534263,
          0.12399605078558847,
          0.1975153654854022,
          0.1404185570548279,
          0.2108078300073442,
          0.11272239147576286,
          0.04623235945626077,
          0.1597336919887164,
          0.1224082797614128,
          0.0811137407970554,
          0.09339733262338813,
          0.1020732561646764,
          0.1727834901919452
         ]
        }
       ],
       "layout": {
        "coloraxis": {
         "colorbar": {
          "title": {
           "text": "Incidents_per_100k"
          }
         },
         "colorscale": [
          [
           0,
           "rgb(255,245,240)"
          ],
          [
           0.125,
           "rgb(254,224,210)"
          ],
          [
           0.25,
           "rgb(252,187,161)"
          ],
          [
           0.375,
           "rgb(252,146,114)"
          ],
          [
           0.5,
           "rgb(251,106,74)"
          ],
          [
           0.625,
           "rgb(239,59,44)"
          ],
          [
           0.75,
           "rgb(203,24,29)"
          ],
          [
           0.875,
           "rgb(165,15,21)"
          ],
          [
           1,
           "rgb(103,0,13)"
          ]
         ]
        },
        "geo": {
         "center": {},
         "domain": {
          "x": [
           0,
           1
          ],
          "y": [
           0,
           1
          ]
         },
         "scope": "usa"
        },
        "legend": {
         "tracegroupgap": 0
        },
        "template": {
         "data": {
          "bar": [
           {
            "error_x": {
             "color": "#2a3f5f"
            },
            "error_y": {
             "color": "#2a3f5f"
            },
            "marker": {
             "line": {
              "color": "#E5ECF6",
              "width": 0.5
             },
             "pattern": {
              "fillmode": "overlay",
              "size": 10,
              "solidity": 0.2
             }
            },
            "type": "bar"
           }
          ],
          "barpolar": [
           {
            "marker": {
             "line": {
              "color": "#E5ECF6",
              "width": 0.5
             },
             "pattern": {
              "fillmode": "overlay",
              "size": 10,
              "solidity": 0.2
             }
            },
            "type": "barpolar"
           }
          ],
          "carpet": [
           {
            "aaxis": {
             "endlinecolor": "#2a3f5f",
             "gridcolor": "white",
             "linecolor": "white",
             "minorgridcolor": "white",
             "startlinecolor": "#2a3f5f"
            },
            "baxis": {
             "endlinecolor": "#2a3f5f",
             "gridcolor": "white",
             "linecolor": "white",
             "minorgridcolor": "white",
             "startlinecolor": "#2a3f5f"
            },
            "type": "carpet"
           }
          ],
          "choropleth": [
           {
            "colorbar": {
             "outlinewidth": 0,
             "ticks": ""
            },
            "type": "choropleth"
           }
          ],
          "contour": [
           {
            "colorbar": {
             "outlinewidth": 0,
             "ticks": ""
            },
            "colorscale": [
             [
              0,
              "#0d0887"
             ],
             [
              0.1111111111111111,
              "#46039f"
             ],
             [
              0.2222222222222222,
              "#7201a8"
             ],
             [
              0.3333333333333333,
              "#9c179e"
             ],
             [
              0.4444444444444444,
              "#bd3786"
             ],
             [
              0.5555555555555556,
              "#d8576b"
             ],
             [
              0.6666666666666666,
              "#ed7953"
             ],
             [
              0.7777777777777778,
              "#fb9f3a"
             ],
             [
              0.8888888888888888,
              "#fdca26"
             ],
             [
              1,
              "#f0f921"
             ]
            ],
            "type": "contour"
           }
          ],
          "contourcarpet": [
           {
            "colorbar": {
             "outlinewidth": 0,
             "ticks": ""
            },
            "type": "contourcarpet"
           }
          ],
          "heatmap": [
           {
            "colorbar": {
             "outlinewidth": 0,
             "ticks": ""
            },
            "colorscale": [
             [
              0,
              "#0d0887"
             ],
             [
              0.1111111111111111,
              "#46039f"
             ],
             [
              0.2222222222222222,
              "#7201a8"
             ],
             [
              0.3333333333333333,
              "#9c179e"
             ],
             [
              0.4444444444444444,
              "#bd3786"
             ],
             [
              0.5555555555555556,
              "#d8576b"
             ],
             [
              0.6666666666666666,
              "#ed7953"
             ],
             [
              0.7777777777777778,
              "#fb9f3a"
             ],
             [
              0.8888888888888888,
              "#fdca26"
             ],
             [
              1,
              "#f0f921"
             ]
            ],
            "type": "heatmap"
           }
          ],
          "heatmapgl": [
           {
            "colorbar": {
             "outlinewidth": 0,
             "ticks": ""
            },
            "colorscale": [
             [
              0,
              "#0d0887"
             ],
             [
              0.1111111111111111,
              "#46039f"
             ],
             [
              0.2222222222222222,
              "#7201a8"
             ],
             [
              0.3333333333333333,
              "#9c179e"
             ],
             [
              0.4444444444444444,
              "#bd3786"
             ],
             [
              0.5555555555555556,
              "#d8576b"
             ],
             [
              0.6666666666666666,
              "#ed7953"
             ],
             [
              0.7777777777777778,
              "#fb9f3a"
             ],
             [
              0.8888888888888888,
              "#fdca26"
             ],
             [
              1,
              "#f0f921"
             ]
            ],
            "type": "heatmapgl"
           }
          ],
          "histogram": [
           {
            "marker": {
             "pattern": {
              "fillmode": "overlay",
              "size": 10,
              "solidity": 0.2
             }
            },
            "type": "histogram"
           }
          ],
          "histogram2d": [
           {
            "colorbar": {
             "outlinewidth": 0,
             "ticks": ""
            },
            "colorscale": [
             [
              0,
              "#0d0887"
             ],
             [
              0.1111111111111111,
              "#46039f"
             ],
             [
              0.2222222222222222,
              "#7201a8"
             ],
             [
              0.3333333333333333,
              "#9c179e"
             ],
             [
              0.4444444444444444,
              "#bd3786"
             ],
             [
              0.5555555555555556,
              "#d8576b"
             ],
             [
              0.6666666666666666,
              "#ed7953"
             ],
             [
              0.7777777777777778,
              "#fb9f3a"
             ],
             [
              0.8888888888888888,
              "#fdca26"
             ],
             [
              1,
              "#f0f921"
             ]
            ],
            "type": "histogram2d"
           }
          ],
          "histogram2dcontour": [
           {
            "colorbar": {
             "outlinewidth": 0,
             "ticks": ""
            },
            "colorscale": [
             [
              0,
              "#0d0887"
             ],
             [
              0.1111111111111111,
              "#46039f"
             ],
             [
              0.2222222222222222,
              "#7201a8"
             ],
             [
              0.3333333333333333,
              "#9c179e"
             ],
             [
              0.4444444444444444,
              "#bd3786"
             ],
             [
              0.5555555555555556,
              "#d8576b"
             ],
             [
              0.6666666666666666,
              "#ed7953"
             ],
             [
              0.7777777777777778,
              "#fb9f3a"
             ],
             [
              0.8888888888888888,
              "#fdca26"
             ],
             [
              1,
              "#f0f921"
             ]
            ],
            "type": "histogram2dcontour"
           }
          ],
          "mesh3d": [
           {
            "colorbar": {
             "outlinewidth": 0,
             "ticks": ""
            },
            "type": "mesh3d"
           }
          ],
          "parcoords": [
           {
            "line": {
             "colorbar": {
              "outlinewidth": 0,
              "ticks": ""
             }
            },
            "type": "parcoords"
           }
          ],
          "pie": [
           {
            "automargin": true,
            "type": "pie"
           }
          ],
          "scatter": [
           {
            "fillpattern": {
             "fillmode": "overlay",
             "size": 10,
             "solidity": 0.2
            },
            "type": "scatter"
           }
          ],
          "scatter3d": [
           {
            "line": {
             "colorbar": {
              "outlinewidth": 0,
              "ticks": ""
             }
            },
            "marker": {
             "colorbar": {
              "outlinewidth": 0,
              "ticks": ""
             }
            },
            "type": "scatter3d"
           }
          ],
          "scattercarpet": [
           {
            "marker": {
             "colorbar": {
              "outlinewidth": 0,
              "ticks": ""
             }
            },
            "type": "scattercarpet"
           }
          ],
          "scattergeo": [
           {
            "marker": {
             "colorbar": {
              "outlinewidth": 0,
              "ticks": ""
             }
            },
            "type": "scattergeo"
           }
          ],
          "scattergl": [
           {
            "marker": {
             "colorbar": {
              "outlinewidth": 0,
              "ticks": ""
             }
            },
            "type": "scattergl"
           }
          ],
          "scattermapbox": [
           {
            "marker": {
             "colorbar": {
              "outlinewidth": 0,
              "ticks": ""
             }
            },
            "type": "scattermapbox"
           }
          ],
          "scatterpolar": [
           {
            "marker": {
             "colorbar": {
              "outlinewidth": 0,
              "ticks": ""
             }
            },
            "type": "scatterpolar"
           }
          ],
          "scatterpolargl": [
           {
            "marker": {
             "colorbar": {
              "outlinewidth": 0,
              "ticks": ""
             }
            },
            "type": "scatterpolargl"
           }
          ],
          "scatterternary": [
           {
            "marker": {
             "colorbar": {
              "outlinewidth": 0,
              "ticks": ""
             }
            },
            "type": "scatterternary"
           }
          ],
          "surface": [
           {
            "colorbar": {
             "outlinewidth": 0,
             "ticks": ""
            },
            "colorscale": [
             [
              0,
              "#0d0887"
             ],
             [
              0.1111111111111111,
              "#46039f"
             ],
             [
              0.2222222222222222,
              "#7201a8"
             ],
             [
              0.3333333333333333,
              "#9c179e"
             ],
             [
              0.4444444444444444,
              "#bd3786"
             ],
             [
              0.5555555555555556,
              "#d8576b"
             ],
             [
              0.6666666666666666,
              "#ed7953"
             ],
             [
              0.7777777777777778,
              "#fb9f3a"
             ],
             [
              0.8888888888888888,
              "#fdca26"
             ],
             [
              1,
              "#f0f921"
             ]
            ],
            "type": "surface"
           }
          ],
          "table": [
           {
            "cells": {
             "fill": {
              "color": "#EBF0F8"
             },
             "line": {
              "color": "white"
             }
            },
            "header": {
             "fill": {
              "color": "#C8D4E3"
             },
             "line": {
              "color": "white"
             }
            },
            "type": "table"
           }
          ]
         },
         "layout": {
          "annotationdefaults": {
           "arrowcolor": "#2a3f5f",
           "arrowhead": 0,
           "arrowwidth": 1
          },
          "autotypenumbers": "strict",
          "coloraxis": {
           "colorbar": {
            "outlinewidth": 0,
            "ticks": ""
           }
          },
          "colorscale": {
           "diverging": [
            [
             0,
             "#8e0152"
            ],
            [
             0.1,
             "#c51b7d"
            ],
            [
             0.2,
             "#de77ae"
            ],
            [
             0.3,
             "#f1b6da"
            ],
            [
             0.4,
             "#fde0ef"
            ],
            [
             0.5,
             "#f7f7f7"
            ],
            [
             0.6,
             "#e6f5d0"
            ],
            [
             0.7,
             "#b8e186"
            ],
            [
             0.8,
             "#7fbc41"
            ],
            [
             0.9,
             "#4d9221"
            ],
            [
             1,
             "#276419"
            ]
           ],
           "sequential": [
            [
             0,
             "#0d0887"
            ],
            [
             0.1111111111111111,
             "#46039f"
            ],
            [
             0.2222222222222222,
             "#7201a8"
            ],
            [
             0.3333333333333333,
             "#9c179e"
            ],
            [
             0.4444444444444444,
             "#bd3786"
            ],
            [
             0.5555555555555556,
             "#d8576b"
            ],
            [
             0.6666666666666666,
             "#ed7953"
            ],
            [
             0.7777777777777778,
             "#fb9f3a"
            ],
            [
             0.8888888888888888,
             "#fdca26"
            ],
            [
             1,
             "#f0f921"
            ]
           ],
           "sequentialminus": [
            [
             0,
             "#0d0887"
            ],
            [
             0.1111111111111111,
             "#46039f"
            ],
            [
             0.2222222222222222,
             "#7201a8"
            ],
            [
             0.3333333333333333,
             "#9c179e"
            ],
            [
             0.4444444444444444,
             "#bd3786"
            ],
            [
             0.5555555555555556,
             "#d8576b"
            ],
            [
             0.6666666666666666,
             "#ed7953"
            ],
            [
             0.7777777777777778,
             "#fb9f3a"
            ],
            [
             0.8888888888888888,
             "#fdca26"
            ],
            [
             1,
             "#f0f921"
            ]
           ]
          },
          "colorway": [
           "#636efa",
           "#EF553B",
           "#00cc96",
           "#ab63fa",
           "#FFA15A",
           "#19d3f3",
           "#FF6692",
           "#B6E880",
           "#FF97FF",
           "#FECB52"
          ],
          "font": {
           "color": "#2a3f5f"
          },
          "geo": {
           "bgcolor": "white",
           "lakecolor": "white",
           "landcolor": "#E5ECF6",
           "showlakes": true,
           "showland": true,
           "subunitcolor": "white"
          },
          "hoverlabel": {
           "align": "left"
          },
          "hovermode": "closest",
          "mapbox": {
           "style": "light"
          },
          "paper_bgcolor": "white",
          "plot_bgcolor": "#E5ECF6",
          "polar": {
           "angularaxis": {
            "gridcolor": "white",
            "linecolor": "white",
            "ticks": ""
           },
           "bgcolor": "#E5ECF6",
           "radialaxis": {
            "gridcolor": "white",
            "linecolor": "white",
            "ticks": ""
           }
          },
          "scene": {
           "xaxis": {
            "backgroundcolor": "#E5ECF6",
            "gridcolor": "white",
            "gridwidth": 2,
            "linecolor": "white",
            "showbackground": true,
            "ticks": "",
            "zerolinecolor": "white"
           },
           "yaxis": {
            "backgroundcolor": "#E5ECF6",
            "gridcolor": "white",
            "gridwidth": 2,
            "linecolor": "white",
            "showbackground": true,
            "ticks": "",
            "zerolinecolor": "white"
           },
           "zaxis": {
            "backgroundcolor": "#E5ECF6",
            "gridcolor": "white",
            "gridwidth": 2,
            "linecolor": "white",
            "showbackground": true,
            "ticks": "",
            "zerolinecolor": "white"
           }
          },
          "shapedefaults": {
           "line": {
            "color": "#2a3f5f"
           }
          },
          "ternary": {
           "aaxis": {
            "gridcolor": "white",
            "linecolor": "white",
            "ticks": ""
           },
           "baxis": {
            "gridcolor": "white",
            "linecolor": "white",
            "ticks": ""
           },
           "bgcolor": "#E5ECF6",
           "caxis": {
            "gridcolor": "white",
            "linecolor": "white",
            "ticks": ""
           }
          },
          "title": {
           "x": 0.05
          },
          "xaxis": {
           "automargin": true,
           "gridcolor": "white",
           "linecolor": "white",
           "ticks": "",
           "title": {
            "standoff": 15
           },
           "zerolinecolor": "white",
           "zerolinewidth": 2
          },
          "yaxis": {
           "automargin": true,
           "gridcolor": "white",
           "linecolor": "white",
           "ticks": "",
           "title": {
            "standoff": 15
           },
           "zerolinecolor": "white",
           "zerolinewidth": 2
          }
         }
        },
        "title": {
         "text": "Gun Incidents per 100k Population by State"
        }
       }
      }
     },
     "metadata": {},
     "output_type": "display_data"
    }
   ],
   "source": [
    "map_data = df_top20_analysis.groupby(\"State\", as_index=False).agg({\n",
    "    \"Incidents_per_100k\": \"mean\",\n",
    "    \"%Doctorate_Degree\": \"mean\"\n",
    "})\n",
    "\n",
    "us_state_abbrev = {\n",
    "    'Alabama': 'AL','Alaska': 'AK','Arizona': 'AZ','Arkansas': 'AR','California': 'CA',\n",
    "    'Colorado': 'CO','Connecticut': 'CT','Delaware': 'DE','District of Columbia': 'DC',\n",
    "    'Florida': 'FL','Georgia': 'GA','Hawaii': 'HI','Idaho': 'ID','Illinois': 'IL',\n",
    "    'Indiana': 'IN','Iowa': 'IA','Kansas': 'KS','Kentucky': 'KY','Louisiana': 'LA',\n",
    "    'Maine': 'ME','Maryland': 'MD','Massachusetts': 'MA','Michigan': 'MI','Minnesota': 'MN',\n",
    "    'Mississippi': 'MS','Missouri': 'MO','Montana': 'MT','Nebraska': 'NE','Nevada': 'NV',\n",
    "    'New Hampshire': 'NH','New Jersey': 'NJ','New Mexico': 'NM','New York': 'NY',\n",
    "    'North Carolina': 'NC','North Dakota': 'ND','Ohio': 'OH','Oklahoma': 'OK','Oregon': 'OR',\n",
    "    'Pennsylvania': 'PA','Rhode Island': 'RI','South Carolina': 'SC','South Dakota': 'SD',\n",
    "    'Tennessee': 'TN','Texas': 'TX','Utah': 'UT','Vermont': 'VT','Virginia': 'VA',\n",
    "    'Washington': 'WA','West Virginia': 'WV','Wisconsin': 'WI','Wyoming': 'WY',\n",
    "    'Puerto Rico': 'PR'\n",
    "}\n",
    "\n",
    "# Map full names to abbreviations\n",
    "map_data[\"State_Code\"] = map_data[\"State\"].map(us_state_abbrev)\n",
    "\n",
    "\n",
    "fig = px.choropleth(\n",
    "    map_data,\n",
    "    locations=\"State_Code\",             # use 2-letter codes\n",
    "    locationmode=\"USA-states\",\n",
    "    color=\"Incidents_per_100k\",\n",
    "    hover_name=\"State\",\n",
    "    hover_data={\"%Doctorate_Degree\": True, \"Incidents_per_100k\": True},\n",
    "    color_continuous_scale=\"Reds\",\n",
    "    scope=\"usa\",\n",
    "    title=\"Gun Incidents per 100k Population by State\"\n",
    ")\n",
    "fig.show()"
    "# total of killed, injured and total victims by state:\n",
    "df_state_summary = df_merged.groupby('state').agg({'killed': 'sum', 'injured': 'sum'})\n",
    "df_state_summary[\"total_victims\"] = df_state_summary['killed'] + df_state_summary['injured']\n",
    "df_state_summary[\"gini_coefficient\"] = df_merged.groupby('state')['gini_coefficient'].mean()\n",
    "df_state_summary[\"mass_shootings_count\"] = df_merged.groupby('state')['year'].count()\n",
    "df_state_summary[\"poverty_rate_2025\"] = df_merged.groupby('state')['poverty_rate_2025'].mean()\n",
    "df_state_summary"
   ]
  },
  {
   "cell_type": "code",
   "execution_count": 39,
   "id": "4c064a80",
   "metadata": {},
   "outputs": [
    {
     "data": {
      "image/png": "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",
      "text/plain": [
       "<Figure size 1000x600 with 1 Axes>"
      ]
     },
     "metadata": {},
     "output_type": "display_data"
    }
   ],
   "source": [
    "plt.figure(figsize=(10,6))\n",
    "sns.scatterplot(data=df_state_summary, x='gini_coefficient', y='total_victims')\n",
    "plt.title('Total Victims vs Gini Coefficient by State')\n",
    "plt.xlabel('Gini Coefficient')\n",
    "plt.ylabel('Total Victims')\n",
    "plt.show()"
   ]
  },
  {
   "cell_type": "code",
   "execution_count": 40,
   "id": "8031d53c",
   "metadata": {},
   "outputs": [
    {
     "data": {
      "image/png": "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",
      "text/plain": [
       "<Figure size 1000x600 with 1 Axes>"
      ]
     },
     "metadata": {},
     "output_type": "display_data"
    }
   ],
   "source": [
    "plt.figure(figsize=(10,6))\n",
    "sns.scatterplot(data=df_state_summary, x='poverty_rate_2025', y='total_victims')\n",
    "plt.title('Total Victims vs Poverty in 2025 by State')\n",
    "plt.xlabel('Poverty Rate 2025')\n",
    "plt.ylabel('Total Killed')\n",
    "plt.show()"
   ]
  },
  {
   "cell_type": "code",
   "execution_count": 41,
   "id": "e4ad9303",
   "metadata": {},
   "outputs": [
    {
     "data": {
      "application/vnd.microsoft.datawrangler.viewer.v0+json": {
       "columns": [
        {
         "name": "index",
         "rawType": "int64",
         "type": "integer"
        },
        {
         "name": "state",
         "rawType": "object",
         "type": "string"
        },
        {
         "name": "shooting_counts",
         "rawType": "int64",
         "type": "integer"
        }
       ],
       "ref": "8898525e-1b3e-495f-8d2d-e4eee8cedaa6",
       "rows": [
        [
         "0",
         "Illinois",
         "524"
        ],
        [
         "1",
         "California",
         "471"
        ],
        [
         "2",
         "Texas",
         "387"
        ],
        [
         "3",
         "Florida",
         "308"
        ],
        [
         "4",
         "Pennsylvania",
         "271"
        ],
        [
         "5",
         "Louisiana",
         "249"
        ],
        [
         "6",
         "New York",
         "231"
        ],
        [
         "7",
         "Georgia",
         "225"
        ],
        [
         "8",
         "Ohio",
         "219"
        ],
        [
         "9",
         "Tennessee",
         "177"
        ],
        [
         "10",
         "Missouri",
         "170"
        ],
        [
         "11",
         "North Carolina",
         "170"
        ],
        [
         "12",
         "Michigan",
         "165"
        ],
        [
         "13",
         "Maryland",
         "154"
        ],
        [
         "14",
         "Alabama",
         "145"
        ],
        [
         "15",
         "Mississippi",
         "138"
        ],
        [
         "16",
         "South Carolina",
         "132"
        ],
        [
         "17",
         "Virginia",
         "125"
        ],
        [
         "18",
         "Indiana",
         "119"
        ],
        [
         "19",
         "New Jersey",
         "112"
        ],
        [
         "20",
         "District of Columbia",
         "90"
        ],
        [
         "21",
         "Colorado",
         "87"
        ],
        [
         "22",
         "Minnesota",
         "78"
        ],
        [
         "23",
         "Wisconsin",
         "74"
        ],
        [
         "24",
         "Washington",
         "73"
        ],
        [
         "25",
         "Kentucky",
         "70"
        ],
        [
         "26",
         "Arkansas",
         "62"
        ],
        [
         "27",
         "Arizona",
         "61"
        ],
        [
         "28",
         "Oklahoma",
         "50"
        ],
        [
         "29",
         "Massachusetts",
         "48"
        ],
        [
         "30",
         "Nevada",
         "43"
        ],
        [
         "31",
         "Connecticut",
         "35"
        ],
        [
         "32",
         "Kansas",
         "28"
        ],
        [
         "33",
         "New Mexico",
         "28"
        ],
        [
         "34",
         "Oregon",
         "26"
        ],
        [
         "35",
         "Delaware",
         "21"
        ],
        [
         "36",
         "Iowa",
         "21"
        ],
        [
         "37",
         "Nebraska",
         "20"
        ],
        [
         "38",
         "Utah",
         "11"
        ],
        [
         "39",
         "West Virginia",
         "9"
        ],
        [
         "40",
         "Maine",
         "6"
        ],
        [
         "41",
         "Alaska",
         "6"
        ],
        [
         "42",
         "South Dakota",
         "6"
        ],
        [
         "43",
         "Montana",
         "5"
        ],
        [
         "44",
         "Hawaii",
         "4"
        ],
        [
         "45",
         "Rhode Island",
         "4"
        ],
        [
         "46",
         "Idaho",
         "4"
        ],
        [
         "47",
         "Wyoming",
         "2"
        ],
        [
         "48",
         "New Hampshire",
         "2"
        ],
        [
         "49",
         "Vermont",
         "1"
        ]
       ],
       "shape": {
        "columns": 2,
        "rows": 51
       }
      },
   "execution_count": 33,
   "id": "e394898d",
   "metadata": {
    "scrolled": true
   },
   "outputs": [
    {
     "name": "stdout",
     "output_type": "stream",
     "text": [
      "Index(['State', 'Population_25plus', 'High_School_Graduate', 'Bachelor_Degree',\n",
      "       'Master_Degree', 'Doctorate_Degree', 'Without Min Studies'],\n",
      "      dtype='object')\n"
     ]
    },
    {
     "data": {
      "text/html": [
       "<div>\n",
       "<style scoped>\n",
       "    .dataframe tbody tr th:only-of-type {\n",
       "        vertical-align: middle;\n",
       "    }\n",
       "\n",
       "    .dataframe tbody tr th {\n",
       "        vertical-align: top;\n",
       "    }\n",
       "\n",
       "    .dataframe thead th {\n",
       "        text-align: right;\n",
       "    }\n",
       "</style>\n",
       "<table border=\"1\" class=\"dataframe\">\n",
       "  <thead>\n",
       "    <tr style=\"text-align: right;\">\n",
       "      <th></th>\n",
       "      <th>state</th>\n",
       "      <th>shooting_counts</th>\n",
       "      <th>State</th>\n",
       "      <th>Population_25plus</th>\n",
       "      <th>High_School_Graduate</th>\n",
       "      <th>Bachelor_Degree</th>\n",
       "      <th>Master_Degree</th>\n",
       "      <th>Doctorate_Degree</th>\n",
       "      <th>Without Min Studies</th>\n",
       "    </tr>\n",
       "  </thead>\n",
       "  <tbody>\n",
       "    <tr>\n",
       "      <th>0</th>\n",
       "      <td>Illinois</td>\n",
       "      <td>524</td>\n",
       "    </tr>\n",
       "    <tr>\n",
       "      <th>1</th>\n",
       "      <td>California</td>\n",
       "      <td>471</td>\n",
       "    </tr>\n",
       "    <tr>\n",
       "      <th>2</th>\n",
       "      <td>Texas</td>\n",
       "      <td>387</td>\n",
       "    </tr>\n",
       "    <tr>\n",
       "      <th>3</th>\n",
       "      <td>Florida</td>\n",
       "      <td>308</td>\n",
       "    </tr>\n",
       "    <tr>\n",
       "      <th>4</th>\n",
       "      <td>Pennsylvania</td>\n",
       "      <td>271</td>\n",
       "    </tr>\n",
       "    <tr>\n",
       "      <th>5</th>\n",
       "      <td>Louisiana</td>\n",
       "      <td>249</td>\n",
       "    </tr>\n",
       "    <tr>\n",
       "      <th>6</th>\n",
       "      <td>New York</td>\n",
       "      <td>231</td>\n",
       "    </tr>\n",
       "    <tr>\n",
       "      <th>7</th>\n",
       "      <td>Georgia</td>\n",
       "      <td>225</td>\n",
       "    </tr>\n",
       "    <tr>\n",
       "      <th>8</th>\n",
       "      <td>Ohio</td>\n",
       "      <td>219</td>\n",
       "    </tr>\n",
       "    <tr>\n",
       "      <th>9</th>\n",
       "      <td>Tennessee</td>\n",
       "      <td>177</td>\n",
       "    </tr>\n",
       "    <tr>\n",
       "      <th>10</th>\n",
       "      <td>Missouri</td>\n",
       "      <td>170</td>\n",
       "    </tr>\n",
       "    <tr>\n",
       "      <th>11</th>\n",
       "      <td>North Carolina</td>\n",
       "      <td>170</td>\n",
       "    </tr>\n",
       "    <tr>\n",
       "      <th>12</th>\n",
       "      <td>Michigan</td>\n",
       "      <td>165</td>\n",
       "    </tr>\n",
       "    <tr>\n",
       "      <th>13</th>\n",
       "      <td>Maryland</td>\n",
       "      <td>154</td>\n",
       "    </tr>\n",
       "    <tr>\n",
       "      <th>14</th>\n",
       "      <td>Alabama</td>\n",
       "      <td>145</td>\n",
       "    </tr>\n",
       "    <tr>\n",
       "      <th>15</th>\n",
       "      <td>Mississippi</td>\n",
       "      <td>138</td>\n",
       "    </tr>\n",
       "    <tr>\n",
       "      <th>16</th>\n",
       "      <td>South Carolina</td>\n",
       "      <td>132</td>\n",
       "    </tr>\n",
       "    <tr>\n",
       "      <th>17</th>\n",
       "      <td>Virginia</td>\n",
       "      <td>125</td>\n",
       "    </tr>\n",
       "    <tr>\n",
       "      <th>18</th>\n",
       "      <td>Indiana</td>\n",
       "      <td>119</td>\n",
       "    </tr>\n",
       "    <tr>\n",
       "      <th>19</th>\n",
       "      <td>New Jersey</td>\n",
       "      <td>112</td>\n",
       "    </tr>\n",
       "    <tr>\n",
       "      <th>20</th>\n",
       "      <td>District of Columbia</td>\n",
       "      <td>90</td>\n",
       "    </tr>\n",
       "    <tr>\n",
       "      <th>21</th>\n",
       "      <td>Colorado</td>\n",
       "      <td>87</td>\n",
       "    </tr>\n",
       "    <tr>\n",
       "      <th>22</th>\n",
       "      <td>Minnesota</td>\n",
       "      <td>78</td>\n",
       "    </tr>\n",
       "    <tr>\n",
       "      <th>23</th>\n",
       "      <td>Wisconsin</td>\n",
       "      <td>74</td>\n",
       "    </tr>\n",
       "    <tr>\n",
       "      <th>24</th>\n",
       "      <td>Washington</td>\n",
       "      <td>73</td>\n",
       "    </tr>\n",
       "    <tr>\n",
       "      <th>25</th>\n",
       "      <td>Kentucky</td>\n",
       "      <td>70</td>\n",
       "    </tr>\n",
       "    <tr>\n",
       "      <th>26</th>\n",
       "      <td>Arkansas</td>\n",
       "      <td>62</td>\n",
       "    </tr>\n",
       "    <tr>\n",
       "      <th>27</th>\n",
       "      <td>Arizona</td>\n",
       "      <td>61</td>\n",
       "    </tr>\n",
       "    <tr>\n",
       "      <th>28</th>\n",
       "      <td>Oklahoma</td>\n",
       "      <td>50</td>\n",
       "    </tr>\n",
       "    <tr>\n",
       "      <th>29</th>\n",
       "      <td>Massachusetts</td>\n",
       "      <td>48</td>\n",
       "    </tr>\n",
       "    <tr>\n",
       "      <th>30</th>\n",
       "      <td>Nevada</td>\n",
       "      <td>43</td>\n",
       "    </tr>\n",
       "    <tr>\n",
       "      <th>31</th>\n",
       "      <td>Connecticut</td>\n",
       "      <td>35</td>\n",
       "    </tr>\n",
       "    <tr>\n",
       "      <th>32</th>\n",
       "      <td>Kansas</td>\n",
       "      <td>28</td>\n",
       "    </tr>\n",
       "    <tr>\n",
       "      <th>33</th>\n",
       "      <td>New Mexico</td>\n",
       "      <td>28</td>\n",
       "    </tr>\n",
       "    <tr>\n",
       "      <th>34</th>\n",
       "      <td>Oregon</td>\n",
       "      <td>26</td>\n",
       "    </tr>\n",
       "    <tr>\n",
       "      <th>35</th>\n",
       "      <td>Delaware</td>\n",
       "      <td>21</td>\n",
       "    </tr>\n",
       "    <tr>\n",
       "      <th>36</th>\n",
       "      <td>Iowa</td>\n",
       "      <td>21</td>\n",
       "    </tr>\n",
       "    <tr>\n",
       "      <th>37</th>\n",
       "      <td>Nebraska</td>\n",
       "      <td>20</td>\n",
       "    </tr>\n",
       "    <tr>\n",
       "      <th>38</th>\n",
       "      <td>Utah</td>\n",
       "      <td>11</td>\n",
       "    </tr>\n",
       "    <tr>\n",
       "      <th>39</th>\n",
       "      <td>West Virginia</td>\n",
       "      <td>9</td>\n",
       "    </tr>\n",
       "    <tr>\n",
       "      <th>40</th>\n",
       "      <td>Maine</td>\n",
       "      <td>6</td>\n",
       "    </tr>\n",
       "    <tr>\n",
       "      <th>41</th>\n",
       "      <td>Alaska</td>\n",
       "      <td>6</td>\n",
       "    </tr>\n",
       "    <tr>\n",
       "      <th>42</th>\n",
       "      <td>South Dakota</td>\n",
       "      <td>6</td>\n",
       "    </tr>\n",
       "    <tr>\n",
       "      <th>43</th>\n",
       "      <td>Montana</td>\n",
       "      <td>5</td>\n",
       "    </tr>\n",
       "    <tr>\n",
       "      <th>44</th>\n",
       "      <td>Hawaii</td>\n",
       "      <td>4</td>\n",
       "    </tr>\n",
       "    <tr>\n",
       "      <th>45</th>\n",
       "      <td>Rhode Island</td>\n",
       "      <td>4</td>\n",
       "    </tr>\n",
       "    <tr>\n",
       "      <th>46</th>\n",
       "      <td>Idaho</td>\n",
       "      <td>4</td>\n",
       "    </tr>\n",
       "    <tr>\n",
       "      <th>47</th>\n",
       "      <td>Wyoming</td>\n",
       "      <td>2</td>\n",
       "    </tr>\n",
       "    <tr>\n",
       "      <th>48</th>\n",
       "      <td>New Hampshire</td>\n",
       "      <td>2</td>\n",
       "    </tr>\n",
       "    <tr>\n",
       "      <th>49</th>\n",
       "      <td>Vermont</td>\n",
       "      <td>1</td>\n",
       "    </tr>\n",
       "    <tr>\n",
       "      <th>50</th>\n",
       "      <td>North Dakota</td>\n",
       "      <td>1</td>\n",
       "      <td>Alabama</td>\n",
       "      <td>3451208</td>\n",
       "      <td>902759</td>\n",
       "      <td>572276</td>\n",
       "      <td>271514</td>\n",
       "      <td>45110</td>\n",
       "      <td>57473</td>\n",
       "    </tr>\n",
       "    <tr>\n",
       "      <th>1</th>\n",
       "      <td>Puerto Rico</td>\n",
       "      <td>2401409</td>\n",
       "      <td>619884</td>\n",
       "      <td>493356</td>\n",
       "      <td>127459</td>\n",
       "      <td>33486</td>\n",
       "      <td>75728</td>\n",
       "    </tr>\n",
       "    <tr>\n",
       "      <th>2</th>\n",
       "      <td>Arizona</td>\n",
       "      <td>4980297</td>\n",
       "      <td>967537</td>\n",
       "      <td>985673</td>\n",
       "      <td>455187</td>\n",
       "      <td>76263</td>\n",
       "      <td>95958</td>\n",
       "    </tr>\n",
       "    <tr>\n",
       "      <th>3</th>\n",
       "      <td>Arkansas</td>\n",
       "      <td>2037763</td>\n",
       "      <td>572881</td>\n",
       "      <td>324137</td>\n",
       "      <td>140186</td>\n",
       "      <td>21775</td>\n",
       "      <td>35714</td>\n",
       "    </tr>\n",
       "    <tr>\n",
       "      <th>4</th>\n",
       "      <td>California</td>\n",
       "      <td>26909869</td>\n",
       "      <td>4909898</td>\n",
       "      <td>5958030</td>\n",
       "      <td>2573469</td>\n",
       "      <td>511191</td>\n",
       "      <td>1101187</td>\n",
       "    </tr>\n",
       "    <tr>\n",
       "      <th>5</th>\n",
       "      <td>Colorado</td>\n",
       "      <td>4044182</td>\n",
       "      <td>658973</td>\n",
       "      <td>1107309</td>\n",
       "      <td>500621</td>\n",
       "      <td>82500</td>\n",
       "      <td>63624</td>\n",
       "    </tr>\n",
       "    <tr>\n",
       "      <th>6</th>\n",
       "      <td>Connecticut</td>\n",
       "      <td>2534376</td>\n",
       "      <td>568748</td>\n",
       "      <td>587690</td>\n",
       "      <td>348217</td>\n",
       "      <td>48686</td>\n",
       "      <td>53943</td>\n",
       "    </tr>\n",
       "    <tr>\n",
       "      <th>7</th>\n",
       "      <td>Delaware</td>\n",
       "      <td>711104</td>\n",
       "      <td>178620</td>\n",
       "      <td>146295</td>\n",
       "      <td>80771</td>\n",
       "      <td>11932</td>\n",
       "      <td>9764</td>\n",
       "    </tr>\n",
       "    <tr>\n",
       "      <th>8</th>\n",
       "      <td>District of Columbia</td>\n",
       "      <td>478774</td>\n",
       "      <td>59776</td>\n",
       "      <td>120771</td>\n",
       "      <td>109362</td>\n",
       "      <td>23602</td>\n",
       "      <td>10602</td>\n",
       "    </tr>\n",
       "    <tr>\n",
       "      <th>9</th>\n",
       "      <td>Florida</td>\n",
       "      <td>15762122</td>\n",
       "      <td>3686864</td>\n",
       "      <td>3248221</td>\n",
       "      <td>1368496</td>\n",
       "      <td>225826</td>\n",
       "      <td>327997</td>\n",
       "    </tr>\n",
       "    <tr>\n",
       "      <th>10</th>\n",
       "      <td>Georgia</td>\n",
       "      <td>7234271</td>\n",
       "      <td>1585583</td>\n",
       "      <td>1514014</td>\n",
       "      <td>699356</td>\n",
       "      <td>118236</td>\n",
       "      <td>140568</td>\n",
       "    </tr>\n",
       "    <tr>\n",
       "      <th>11</th>\n",
       "      <td>Hawaii</td>\n",
       "      <td>1021687</td>\n",
       "      <td>242919</td>\n",
       "      <td>226849</td>\n",
       "      <td>91083</td>\n",
       "      <td>15610</td>\n",
       "      <td>17123</td>\n",
       "    </tr>\n",
       "    <tr>\n",
       "      <th>12</th>\n",
       "      <td>Idaho</td>\n",
       "      <td>1257566</td>\n",
       "      <td>276651</td>\n",
       "      <td>253762</td>\n",
       "      <td>94108</td>\n",
       "      <td>14532</td>\n",
       "      <td>15331</td>\n",
       "    </tr>\n",
       "    <tr>\n",
       "      <th>13</th>\n",
       "      <td>Illinois</td>\n",
       "      <td>8730697</td>\n",
       "      <td>1876064</td>\n",
       "      <td>1932282</td>\n",
       "      <td>961986</td>\n",
       "      <td>135093</td>\n",
       "      <td>164754</td>\n",
       "    </tr>\n",
       "    <tr>\n",
       "      <th>14</th>\n",
       "      <td>Indiana</td>\n",
       "      <td>4559631</td>\n",
       "      <td>1269024</td>\n",
       "      <td>843069</td>\n",
       "      <td>343526</td>\n",
       "      <td>55721</td>\n",
       "      <td>70583</td>\n",
       "    </tr>\n",
       "    <tr>\n",
       "      <th>15</th>\n",
       "      <td>Iowa</td>\n",
       "      <td>2137261</td>\n",
       "      <td>562603</td>\n",
       "      <td>441878</td>\n",
       "      <td>145253</td>\n",
       "      <td>30958</td>\n",
       "      <td>23758</td>\n",
       "    </tr>\n",
       "    <tr>\n",
       "      <th>16</th>\n",
       "      <td>Kansas</td>\n",
       "      <td>1942133</td>\n",
       "      <td>413617</td>\n",
       "      <td>427464</td>\n",
       "      <td>187756</td>\n",
       "      <td>28000</td>\n",
       "      <td>29994</td>\n",
       "    </tr>\n",
       "    <tr>\n",
       "      <th>17</th>\n",
       "      <td>Kentucky</td>\n",
       "      <td>3077867</td>\n",
       "      <td>804890</td>\n",
       "      <td>488546</td>\n",
       "      <td>248867</td>\n",
       "      <td>36013</td>\n",
       "      <td>44590</td>\n",
       "    </tr>\n",
       "    <tr>\n",
       "      <th>18</th>\n",
       "      <td>Louisiana</td>\n",
       "      <td>3117186</td>\n",
       "      <td>850729</td>\n",
       "      <td>523475</td>\n",
       "      <td>205307</td>\n",
       "      <td>37196</td>\n",
       "      <td>49170</td>\n",
       "    </tr>\n",
       "    <tr>\n",
       "      <th>19</th>\n",
       "      <td>Maine</td>\n",
       "      <td>1015078</td>\n",
       "      <td>252457</td>\n",
       "      <td>224987</td>\n",
       "      <td>98761</td>\n",
       "      <td>19055</td>\n",
       "      <td>8557</td>\n",
       "    </tr>\n",
       "    <tr>\n",
       "      <th>20</th>\n",
       "      <td>Maryland</td>\n",
       "      <td>4273260</td>\n",
       "      <td>888124</td>\n",
       "      <td>956533</td>\n",
       "      <td>606779</td>\n",
       "      <td>115978</td>\n",
       "      <td>81929</td>\n",
       "    </tr>\n",
       "    <tr>\n",
       "      <th>21</th>\n",
       "      <td>Massachusetts</td>\n",
       "      <td>4934755</td>\n",
       "      <td>982432</td>\n",
       "      <td>1250748</td>\n",
       "      <td>736774</td>\n",
       "      <td>156273</td>\n",
       "      <td>111296</td>\n",
       "    </tr>\n",
       "    <tr>\n",
       "      <th>22</th>\n",
       "      <td>Michigan</td>\n",
       "      <td>6971895</td>\n",
       "      <td>1721761</td>\n",
       "      <td>1338162</td>\n",
       "      <td>649768</td>\n",
       "      <td>89472</td>\n",
       "      <td>93266</td>\n",
       "    </tr>\n",
       "    <tr>\n",
       "      <th>23</th>\n",
       "      <td>Minnesota</td>\n",
       "      <td>3898742</td>\n",
       "      <td>788076</td>\n",
       "      <td>993883</td>\n",
       "      <td>367967</td>\n",
       "      <td>61485</td>\n",
       "      <td>60202</td>\n",
       "    </tr>\n",
       "    <tr>\n",
       "      <th>24</th>\n",
       "      <td>Mississippi</td>\n",
       "      <td>1968167</td>\n",
       "      <td>468575</td>\n",
       "      <td>303656</td>\n",
       "      <td>131795</td>\n",
       "      <td>23016</td>\n",
       "      <td>34968</td>\n",
       "    </tr>\n",
       "    <tr>\n",
       "      <th>25</th>\n",
       "      <td>Missouri</td>\n",
       "      <td>4226634</td>\n",
       "      <td>1111093</td>\n",
       "      <td>823215</td>\n",
       "      <td>382906</td>\n",
       "      <td>54527</td>\n",
       "      <td>43937</td>\n",
       "    </tr>\n",
       "    <tr>\n",
       "      <th>26</th>\n",
       "      <td>Montana</td>\n",
       "      <td>766758</td>\n",
       "      <td>171246</td>\n",
       "      <td>171377</td>\n",
       "      <td>64867</td>\n",
       "      <td>13138</td>\n",
       "      <td>3939</td>\n",
       "    </tr>\n",
       "    <tr>\n",
       "      <th>27</th>\n",
       "      <td>Nebraska</td>\n",
       "      <td>1292536</td>\n",
       "      <td>279521</td>\n",
       "      <td>286510</td>\n",
       "      <td>110814</td>\n",
       "      <td>20768</td>\n",
       "      <td>26195</td>\n",
       "    </tr>\n",
       "    <tr>\n",
       "      <th>28</th>\n",
       "      <td>Nevada</td>\n",
       "      <td>2192826</td>\n",
       "      <td>508559</td>\n",
       "      <td>393208</td>\n",
       "      <td>151284</td>\n",
       "      <td>22948</td>\n",
       "      <td>57489</td>\n",
       "    </tr>\n",
       "    <tr>\n",
       "      <th>29</th>\n",
       "      <td>New Hampshire</td>\n",
       "      <td>1008318</td>\n",
       "      <td>227099</td>\n",
       "      <td>247356</td>\n",
       "      <td>121904</td>\n",
       "      <td>16493</td>\n",
       "      <td>10126</td>\n",
       "    </tr>\n",
       "    <tr>\n",
       "      <th>30</th>\n",
       "      <td>New Jersey</td>\n",
       "      <td>6474427</td>\n",
       "      <td>1479429</td>\n",
       "      <td>1664353</td>\n",
       "      <td>829918</td>\n",
       "      <td>114349</td>\n",
       "      <td>128913</td>\n",
       "    </tr>\n",
       "    <tr>\n",
       "      <th>31</th>\n",
       "      <td>New Mexico</td>\n",
       "      <td>1450549</td>\n",
       "      <td>307881</td>\n",
       "      <td>231745</td>\n",
       "      <td>141079</td>\n",
       "      <td>32572</td>\n",
       "      <td>26830</td>\n",
       "    </tr>\n",
       "    <tr>\n",
       "      <th>32</th>\n",
       "      <td>New York</td>\n",
       "      <td>13987094</td>\n",
       "      <td>2861768</td>\n",
       "      <td>3105839</td>\n",
       "      <td>1784939</td>\n",
       "      <td>243446</td>\n",
       "      <td>413696</td>\n",
       "    </tr>\n",
       "    <tr>\n",
       "      <th>33</th>\n",
       "      <td>North Carolina</td>\n",
       "      <td>7245632</td>\n",
       "      <td>1504263</td>\n",
       "      <td>1573681</td>\n",
       "      <td>701259</td>\n",
       "      <td>111007</td>\n",
       "      <td>113241</td>\n",
       "    </tr>\n",
       "    <tr>\n",
       "      <th>34</th>\n",
       "      <td>North Dakota</td>\n",
       "      <td>506739</td>\n",
       "      <td>113177</td>\n",
       "      <td>113314</td>\n",
       "      <td>33528</td>\n",
       "      <td>6869</td>\n",
       "      <td>5511</td>\n",
       "    </tr>\n",
       "    <tr>\n",
       "      <th>35</th>\n",
       "      <td>Ohio</td>\n",
       "      <td>8117973</td>\n",
       "      <td>2343138</td>\n",
       "      <td>1536624</td>\n",
       "      <td>715694</td>\n",
       "      <td>100007</td>\n",
       "      <td>99148</td>\n",
       "    </tr>\n",
       "    <tr>\n",
       "      <th>36</th>\n",
       "      <td>Oklahoma</td>\n",
       "      <td>2639889</td>\n",
       "      <td>677761</td>\n",
       "      <td>483168</td>\n",
       "      <td>180357</td>\n",
       "      <td>33371</td>\n",
       "      <td>42972</td>\n",
       "    </tr>\n",
       "    <tr>\n",
       "      <th>37</th>\n",
       "      <td>Oregon</td>\n",
       "      <td>3030635</td>\n",
       "      <td>532145</td>\n",
       "      <td>680306</td>\n",
       "      <td>291933</td>\n",
       "      <td>57211</td>\n",
       "      <td>50592</td>\n",
       "    </tr>\n",
       "    <tr>\n",
       "      <th>38</th>\n",
       "      <td>Pennsylvania</td>\n",
       "      <td>9161945</td>\n",
       "      <td>2681099</td>\n",
       "      <td>1887722</td>\n",
       "      <td>914403</td>\n",
       "      <td>157572</td>\n",
       "      <td>126067</td>\n",
       "    </tr>\n",
       "    <tr>\n",
       "      <th>39</th>\n",
       "      <td>Rhode Island</td>\n",
       "      <td>773464</td>\n",
       "      <td>174827</td>\n",
       "      <td>161594</td>\n",
       "      <td>86087</td>\n",
       "      <td>15907</td>\n",
       "      <td>16831</td>\n",
       "    </tr>\n",
       "    <tr>\n",
       "      <th>40</th>\n",
       "      <td>South Carolina</td>\n",
       "      <td>3598398</td>\n",
       "      <td>864531</td>\n",
       "      <td>704740</td>\n",
       "      <td>321187</td>\n",
       "      <td>43169</td>\n",
       "      <td>48541</td>\n",
       "    </tr>\n",
       "    <tr>\n",
       "      <th>41</th>\n",
       "      <td>South Dakota</td>\n",
       "      <td>590377</td>\n",
       "      <td>144509</td>\n",
       "      <td>127258</td>\n",
       "      <td>40741</td>\n",
       "      <td>7013</td>\n",
       "      <td>6119</td>\n",
       "    </tr>\n",
       "    <tr>\n",
       "      <th>42</th>\n",
       "      <td>Tennessee</td>\n",
       "      <td>4814533</td>\n",
       "      <td>1229687</td>\n",
       "      <td>924404</td>\n",
       "      <td>380364</td>\n",
       "      <td>71681</td>\n",
       "      <td>71198</td>\n",
       "    </tr>\n",
       "    <tr>\n",
       "      <th>43</th>\n",
       "      <td>Texas</td>\n",
       "      <td>19224688</td>\n",
       "      <td>3893052</td>\n",
       "      <td>4077821</td>\n",
       "      <td>1664046</td>\n",
       "      <td>265486</td>\n",
       "      <td>590066</td>\n",
       "    </tr>\n",
       "    <tr>\n",
       "      <th>44</th>\n",
       "      <td>Utah</td>\n",
       "      <td>2010727</td>\n",
       "      <td>383119</td>\n",
       "      <td>484882</td>\n",
       "      <td>187250</td>\n",
       "      <td>28971</td>\n",
       "      <td>27634</td>\n",
       "    </tr>\n",
       "    <tr>\n",
       "      <th>45</th>\n",
       "      <td>Vermont</td>\n",
       "      <td>462705</td>\n",
       "      <td>109790</td>\n",
       "      <td>120373</td>\n",
       "      <td>60950</td>\n",
       "      <td>10500</td>\n",
       "      <td>2543</td>\n",
       "    </tr>\n",
       "    <tr>\n",
       "      <th>46</th>\n",
       "      <td>Virginia</td>\n",
       "      <td>5942672</td>\n",
       "      <td>1193258</td>\n",
       "      <td>1394875</td>\n",
       "      <td>803551</td>\n",
       "      <td>117241</td>\n",
       "      <td>92933</td>\n",
       "    </tr>\n",
       "    <tr>\n",
       "      <th>47</th>\n",
       "      <td>Washington</td>\n",
       "      <td>5401149</td>\n",
       "      <td>955764</td>\n",
       "      <td>1287465</td>\n",
       "      <td>599751</td>\n",
       "      <td>96684</td>\n",
       "      <td>102082</td>\n",
       "    </tr>\n",
       "    <tr>\n",
       "      <th>48</th>\n",
       "      <td>West Virginia</td>\n",
       "      <td>1265439</td>\n",
       "      <td>417980</td>\n",
       "      <td>179376</td>\n",
       "      <td>90559</td>\n",
       "      <td>13423</td>\n",
       "      <td>11654</td>\n",
       "    </tr>\n",
       "    <tr>\n",
       "      <th>49</th>\n",
       "      <td>Wisconsin</td>\n",
       "      <td>4076339</td>\n",
       "      <td>1077222</td>\n",
       "      <td>876467</td>\n",
       "      <td>322544</td>\n",
       "      <td>55759</td>\n",
       "      <td>43979</td>\n",
       "    </tr>\n",
       "    <tr>\n",
       "      <th>50</th>\n",
       "      <td>Wyoming</td>\n",
       "      <td>395348</td>\n",
       "      <td>86940</td>\n",
       "      <td>73255</td>\n",
       "      <td>30871</td>\n",
       "      <td>4719</td>\n",
       "      <td>3715</td>\n",
       "    </tr>\n",
       "    <tr>\n",
       "      <th>51</th>\n",
       "      <td>Alaska</td>\n",
       "      <td>485779</td>\n",
       "      <td>109305</td>\n",
       "      <td>101422</td>\n",
       "      <td>39120</td>\n",
       "      <td>6304</td>\n",
       "      <td>5040</td>\n",
       "    </tr>\n",
       "  </tbody>\n",
       "</table>\n",
       "</div>"
      ],
      "text/plain": [
       "                   state  shooting_counts\n",
       "0               Illinois              524\n",
       "1             California              471\n",
       "2                  Texas              387\n",
       "3                Florida              308\n",
       "4           Pennsylvania              271\n",
       "5              Louisiana              249\n",
       "6               New York              231\n",
       "7                Georgia              225\n",
       "8                   Ohio              219\n",
       "9              Tennessee              177\n",
       "10              Missouri              170\n",
       "11        North Carolina              170\n",
       "12              Michigan              165\n",
       "13              Maryland              154\n",
       "14               Alabama              145\n",
       "15           Mississippi              138\n",
       "16        South Carolina              132\n",
       "17              Virginia              125\n",
       "18               Indiana              119\n",
       "19            New Jersey              112\n",
       "20  District of Columbia               90\n",
       "21              Colorado               87\n",
       "22             Minnesota               78\n",
       "23             Wisconsin               74\n",
       "24            Washington               73\n",
       "25              Kentucky               70\n",
       "26              Arkansas               62\n",
       "27               Arizona               61\n",
       "28              Oklahoma               50\n",
       "29         Massachusetts               48\n",
       "30                Nevada               43\n",
       "31           Connecticut               35\n",
       "32                Kansas               28\n",
       "33            New Mexico               28\n",
       "34                Oregon               26\n",
       "35              Delaware               21\n",
       "36                  Iowa               21\n",
       "37              Nebraska               20\n",
       "38                  Utah               11\n",
       "39         West Virginia                9\n",
       "40                 Maine                6\n",
       "41                Alaska                6\n",
       "42          South Dakota                6\n",
       "43               Montana                5\n",
       "44                Hawaii                4\n",
       "45          Rhode Island                4\n",
       "46                 Idaho                4\n",
       "47               Wyoming                2\n",
       "48         New Hampshire                2\n",
       "49               Vermont                1\n",
       "50          North Dakota                1"
      ]
     },
     "execution_count": 41,
       "                   State  Population_25plus  High_School_Graduate  \\\n",
       "0                Alabama            3451208                902759   \n",
       "1            Puerto Rico            2401409                619884   \n",
       "2                Arizona            4980297                967537   \n",
       "3               Arkansas            2037763                572881   \n",
       "4             California           26909869               4909898   \n",
       "5               Colorado            4044182                658973   \n",
       "6            Connecticut            2534376                568748   \n",
       "7               Delaware             711104                178620   \n",
       "8   District of Columbia             478774                 59776   \n",
       "9                Florida           15762122               3686864   \n",
       "10               Georgia            7234271               1585583   \n",
       "11                Hawaii            1021687                242919   \n",
       "12                 Idaho            1257566                276651   \n",
       "13              Illinois            8730697               1876064   \n",
       "14               Indiana            4559631               1269024   \n",
       "15                  Iowa            2137261                562603   \n",
       "16                Kansas            1942133                413617   \n",
       "17              Kentucky            3077867                804890   \n",
       "18             Louisiana            3117186                850729   \n",
       "19                 Maine            1015078                252457   \n",
       "20              Maryland            4273260                888124   \n",
       "21         Massachusetts            4934755                982432   \n",
       "22              Michigan            6971895               1721761   \n",
       "23             Minnesota            3898742                788076   \n",
       "24           Mississippi            1968167                468575   \n",
       "25              Missouri            4226634               1111093   \n",
       "26               Montana             766758                171246   \n",
       "27              Nebraska            1292536                279521   \n",
       "28                Nevada            2192826                508559   \n",
       "29         New Hampshire            1008318                227099   \n",
       "30            New Jersey            6474427               1479429   \n",
       "31            New Mexico            1450549                307881   \n",
       "32              New York           13987094               2861768   \n",
       "33        North Carolina            7245632               1504263   \n",
       "34          North Dakota             506739                113177   \n",
       "35                  Ohio            8117973               2343138   \n",
       "36              Oklahoma            2639889                677761   \n",
       "37                Oregon            3030635                532145   \n",
       "38          Pennsylvania            9161945               2681099   \n",
       "39          Rhode Island             773464                174827   \n",
       "40        South Carolina            3598398                864531   \n",
       "41          South Dakota             590377                144509   \n",
       "42             Tennessee            4814533               1229687   \n",
       "43                 Texas           19224688               3893052   \n",
       "44                  Utah            2010727                383119   \n",
       "45               Vermont             462705                109790   \n",
       "46              Virginia            5942672               1193258   \n",
       "47            Washington            5401149                955764   \n",
       "48         West Virginia            1265439                417980   \n",
       "49             Wisconsin            4076339               1077222   \n",
       "50               Wyoming             395348                 86940   \n",
       "51                Alaska             485779                109305   \n",
       "\n",
       "    Bachelor_Degree  Master_Degree  Doctorate_Degree  Without Min Studies  \n",
       "0            572276         271514             45110                57473  \n",
       "1            493356         127459             33486                75728  \n",
       "2            985673         455187             76263                95958  \n",
       "3            324137         140186             21775                35714  \n",
       "4           5958030        2573469            511191              1101187  \n",
       "5           1107309         500621             82500                63624  \n",
       "6            587690         348217             48686                53943  \n",
       "7            146295          80771             11932                 9764  \n",
       "8            120771         109362             23602                10602  \n",
       "9           3248221        1368496            225826               327997  \n",
       "10          1514014         699356            118236               140568  \n",
       "11           226849          91083             15610                17123  \n",
       "12           253762          94108             14532                15331  \n",
       "13          1932282         961986            135093               164754  \n",
       "14           843069         343526             55721                70583  \n",
       "15           441878         145253             30958                23758  \n",
       "16           427464         187756             28000                29994  \n",
       "17           488546         248867             36013                44590  \n",
       "18           523475         205307             37196                49170  \n",
       "19           224987          98761             19055                 8557  \n",
       "20           956533         606779            115978                81929  \n",
       "21          1250748         736774            156273               111296  \n",
       "22          1338162         649768             89472                93266  \n",
       "23           993883         367967             61485                60202  \n",
       "24           303656         131795             23016                34968  \n",
       "25           823215         382906             54527                43937  \n",
       "26           171377          64867             13138                 3939  \n",
       "27           286510         110814             20768                26195  \n",
       "28           393208         151284             22948                57489  \n",
       "29           247356         121904             16493                10126  \n",
       "30          1664353         829918            114349               128913  \n",
       "31           231745         141079             32572                26830  \n",
       "32          3105839        1784939            243446               413696  \n",
       "33          1573681         701259            111007               113241  \n",
       "34           113314          33528              6869                 5511  \n",
       "35          1536624         715694            100007                99148  \n",
       "36           483168         180357             33371                42972  \n",
       "37           680306         291933             57211                50592  \n",
       "38          1887722         914403            157572               126067  \n",
       "39           161594          86087             15907                16831  \n",
       "40           704740         321187             43169                48541  \n",
       "41           127258          40741              7013                 6119  \n",
       "42           924404         380364             71681                71198  \n",
       "43          4077821        1664046            265486               590066  \n",
       "44           484882         187250             28971                27634  \n",
       "45           120373          60950             10500                 2543  \n",
       "46          1394875         803551            117241                92933  \n",
       "47          1287465         599751             96684               102082  \n",
       "48           179376          90559             13423                11654  \n",
       "49           876467         322544             55759                43979  \n",
       "50            73255          30871              4719                 3715  \n",
       "51           101422          39120              6304                 5040  "
      ]
     },
     "execution_count": 80,
     "metadata": {},
     "output_type": "execute_result"
    }
   ],
   "source": [
    "# count of shootings by state\n",
    "df_shooting_counts = df_merged['state'].value_counts().reset_index()\n",
    "df_shooting_counts.columns = ['state', 'shooting_counts']\n",
    "df_shooting_counts"
    "url_edu = \"https://api.census.gov/data/2021/acs/acs1\"\n",
    "params = {\n",
    "    \"get\": \"NAME,B15003_001E,B15003_002E,B15003_003E,B15003_004E,B15003_005E,\"\n",
    "           \"B15003_006E,B15003_017E,B15003_022E,B15003_023E,B15003_025E\",\n",
    "    \"for\": \"state:*\"\n",
    "}\n",
    "years=list(range(2014,2025))\n",
    "response_1 = requests.get(url_edu, params=params)\n",
    "\n",
    "data = response_1.json()\n",
    "df_edu = pd.DataFrame(data[1:], columns=data[0])\n",
    "num_cols = [c for c in df_edu.columns if c.startswith(\"B15003_\")]\n",
    "df_edu[num_cols] = df_edu[num_cols].apply(pd.to_numeric)\n",
    "df_edu = df_edu.rename(columns={\n",
    "    \"NAME\": \"State\",\n",
    "    \"B15003_001E\": \"Population_25plus\",\n",
    "    \"B15003_002E\": \"No_Schooling_Completed\",\n",
    "    \"B15003_003E\": \"Nursery_to_4th_Grade\",\n",
    "    \"B15003_004E\": \"5th_to_6th_Grade\",\n",
    "    \"B15003_005E\": \"7th_to_8th_Grade\",\n",
    "    \"B15003_006E\": \"9th_Grade\",\n",
    "    \"B15003_017E\": \"High_School_Graduate\",\n",
    "    \"B15003_022E\": \"Bachelor_Degree\",\n",
    "    \"B15003_023E\": \"Master_Degree\",\n",
    "    \"B15003_025E\": \"Doctorate_Degree\",\"state\": \"State_Code\"\n",
    "  \n",
    "})\n",
    "df_edu[\"Without Min Studies\"]=df_edu[\n",
    "    [\"No_Schooling_Completed\",\n",
    "     \"Nursery_to_4th_Grade\",\n",
    "     \"5th_to_6th_Grade\",\n",
    "     \"7th_to_8th_Grade\",\n",
    "     \"9th_Grade\"]\n",
    "].sum(axis=1)\n",
    "df_edu.drop(columns=[\"No_Schooling_Completed\",\n",
    "     \"Nursery_to_4th_Grade\",\n",
    "     \"5th_to_6th_Grade\",\n",
    "     \"7th_to_8th_Grade\",\n",
    "     \"9th_Grade\",\"State_Code\"], inplace=True)\n",
    "\n",
    "print(df_edu.columns)\n",
    "df_edu\n"
   ]
  },
  {
   "cell_type": "code",
   "execution_count": 84,
   "id": "51d11750-0aa3-49bf-a049-74feae4f795c",
   "metadata": {},
   "outputs": [
    {
     "name": "stdout",
     "output_type": "stream",
     "text": [
      "<class 'pandas.core.frame.DataFrame'>\n",
      "RangeIndex: 52 entries, 0 to 51\n",
      "Data columns (total 7 columns):\n",
      " #   Column                Non-Null Count  Dtype \n",
      "---  ------                --------------  ----- \n",
      " 0   State                 52 non-null     object\n",
      " 1   Population_25plus     52 non-null     int64 \n",
      " 2   High_School_Graduate  52 non-null     int64 \n",
      " 3   Bachelor_Degree       52 non-null     int64 \n",
      " 4   Master_Degree         52 non-null     int64 \n",
      " 5   Doctorate_Degree      52 non-null     int64 \n",
      " 6   Without Min Studies   52 non-null     int64 \n",
      "dtypes: int64(6), object(1)\n",
      "memory usage: 3.0+ KB\n"
     ]
    }
   ],
   "source": [
    "df_edu.info()"
   ]
  },
  {
   "cell_type": "code",
   "execution_count": null,
   "id": "9e51d318-4cbd-4fed-86e1-a67dc0c82c9a",
   "metadata": {},
   "outputs": [],
   "source": []
  },
  {
   "cell_type": "code",
   "execution_count": null,
   "id": "0cc8eed2-dda0-414d-86da-8e580bba3623",
   "metadata": {},
   "outputs": [],
   "source": [
    "#### Add the prevalence percent of depression for each state in the US"
   ]
  },
  {
   "cell_type": "code",
   "execution_count": 51,
   "id": "5c209f7c-efd2-4cb4-8410-aa0fab43aba8",
   "metadata": {},
   "outputs": [],
   "source": [
    "import requests\n",
    "from bs4 import BeautifulSoup\n",
    "import pandas as pd\n",
    "import re"
   ]
  },
  {
   "cell_type": "code",
   "execution_count": 52,
   "id": "46bd9b1a-df94-4a52-8398-f362b3ae67d5",
   "metadata": {},
   "outputs": [],
   "source": [
    "## Read in the URL and scrape using BeautifulSoup \n",
    "url = \"https://www.cdc.gov/mmwr/volumes/72/wr/mm7224a1.htm\"\n",
    "\n",
    "response = requests.get(url)\n"
   ]
  },
  {
   "cell_type": "code",
   "execution_count": 53,
   "id": "28a2030b-2155-4874-8d41-1ea51ae5d39f",
   "metadata": {},
   "outputs": [
    {
     "data": {
      "text/plain": [
       "<Response [200]>"
      ]
     },
     "execution_count": 53,
     "metadata": {},
     "output_type": "execute_result"
    }
   ],
   "source": [
    "response"
   ]
  },
  {
   "cell_type": "code",
   "execution_count": 54,
   "id": "db54809e-295d-4bce-befc-7495ce392763",
   "metadata": {},
   "outputs": [],
   "source": [
    "soup=BeautifulSoup(response.content)\n"
   ]
  },
  {
   "cell_type": "code",
   "execution_count": null,
   "id": "d8c9dba1-750e-4fbd-a7ad-3d42a0c9736c",
   "metadata": {},
   "outputs": [],
   "source": [
    "## Data cleaning of data resulting from the scraping"
   ]
  },
  {
   "cell_type": "code",
   "execution_count": 55,
   "id": "651c9069-4585-4cdd-8475-71db8f12e882",
   "metadata": {},
   "outputs": [],
   "source": [
    "table=soup.find_all(attrs={\"class\":\"table table-bordered table-responsive\"})"
   ]
  },
  {
   "cell_type": "code",
   "execution_count": 56,
   "id": "62649396-b4ba-4c95-a3b6-ceb96711b9af",
   "metadata": {},
   "outputs": [],
   "source": [
    "def get_country_percent(table):\n",
    "    check=[]\n",
    "    for tr in table[1].select(\"tbody\"):\n",
    "        for td in tr:\n",
    "            m=td.get_text().strip().replace(\"\\n\",\"\").replace(\",\",\"\")\n",
    "            check.append(m)\n",
    "    return check[1::2]"
   ]
  },
  {
   "cell_type": "code",
   "execution_count": 57,
   "id": "c139ec43-dc63-4c93-bf99-e7c1423f54f9",
   "metadata": {},
   "outputs": [],
   "source": [
    "country_raw=get_country_percent(table)"
   ]
  },
  {
   "cell_type": "code",
   "execution_count": 58,
   "id": "8c04bb5c-55f6-444d-a164-6daf327f90bf",
   "metadata": {},
   "outputs": [],
   "source": [
    "data_pattern = re.compile(\n",
    "    r\"\"\"\n",
    "    ^\n",
    "    ([A-Za-z\\s]+)         # Group 1: State Name (Letters and spaces from the start)\n",
    "    (\\d+)                  # Group 2: Count 1 (A sequence of digits)\n",
    "    (\\d+)                  # Group 3: Count 2 (A sequence of digits)\n",
    "    (\\d+)                  # Group 4: Count 3 (A sequence of digits)\n",
    "    \n",
    "    # Group 5: Rate 1 (e.g., '23.5 (22.1–25.0)')\n",
    "    (\n",
    "        [\\d\\.]+               # Match the main number (e.g., 23.5)\n",
    "        \\s?                   # Optional space (in case your data sometimes has a space)\n",
    "        \\(                    # Literal opening parenthesis\n",
    "        [\\d\\.\\,\\–\\-]+         # Match digits, dots, commas, en-dashes, or hyphens inside the parens\n",
    "        \\)                    # Literal closing parenthesis\n",
    "    )\n",
    "    \n",
    "    # Group 6: Rate 2 (Identical format to Rate 1)\n",
    "    (\n",
    "        [\\d\\.]+\n",
    "        \\s?\n",
    "        \\(\n",
    "        [\\d\\.\\,\\–\\-]+\n",
    "        \\)\n",
    "    )\n",
    "    $\n",
    "    \"\"\", re.VERBOSE # re.VERBOSE allows us to add comments and spacing for readability\n",
    ")"
   ]
  },
  {
   "cell_type": "code",
   "execution_count": 59,
   "id": "dc1d0a82-7ee7-46e3-ba4b-349876759dfe",
   "metadata": {},
   "outputs": [],
   "source": [
    "def get_clean_data(word):\n",
    "    structured=[]\n",
    "    for item in word:\n",
    "        match=data_pattern.match(item)\n",
    "        structured.append(list(match.groups()))\n",
    "    a=[]\n",
    "    for i in structured:\n",
    "        index=[0,2,3,4]\n",
    "        for k in index:\n",
    "            t=i[k]\n",
    "            a.append(t)\n",
    "    return a  "
   ]
  },
  {
   "cell_type": "code",
   "execution_count": 60,
   "id": "c3822d77-b108-424d-9f0c-c40b02d450fe",
   "metadata": {},
   "outputs": [],
   "source": [
    "country_clean=get_clean_data(country_raw)"
   ]
  },
  {
   "cell_type": "code",
   "execution_count": null,
   "id": "a51baf26-13bc-4f04-b406-9d09c18281be",
   "metadata": {},
   "outputs": [],
   "source": []
  },
  {
   "cell_type": "code",
   "execution_count": 61,
   "id": "764e0f38-b2a5-4c26-9a24-fe5b80432714",
   "metadata": {},
   "outputs": [],
   "source": [
    "def merge_state_and_rate(flattened_list):\n",
    "    \"\"\"\n",
    "    Merges the State Name (index i) with the constructed Rate \n",
    "    (indices i+1, i+2, and the first part of i+3) \n",
    "    for every four-item block in the list.\n",
    "    \"\"\"\n",
    "    merged_results = []\n",
    "    \n",
    "    # Iterate through the list, starting at index 0 and stepping by 4\n",
    "    for i in range(0, len(flattened_list), 4):\n",
    "        \n",
    "        # 1. State Name is at the current index 'i'\n",
    "        state_name = flattened_list[i]\n",
    "        \n",
    "        # 2. Rate components are at i+1, i+2, and i+3.\n",
    "        # We must strip the parenthetical part from the last element (i+3).\n",
    "        rate_part1 = flattened_list[i + 1] # e.g., '2'\n",
    "        rate_part2 = flattened_list[i + 2] # e.g., '3'\n",
    "        rate_fragment = flattened_list[i + 3].split(' ')[0] # e.g., '.5' from '.5 (22.1–25.0)'\n",
    "        \n",
    "        # 3. Concatenate to form the final rate string\n",
    "        merged_rate = f\"{rate_part1}{rate_part2}{rate_fragment}\" # e.g., '23.5'\n",
    "        \n",
    "        # 4. Combine the state and the rate into the desired format\n",
    "        final_string = f\"{state_name}, {merged_rate}\"\n",
    "        \n",
    "        merged_results.append(final_string)\n",
    "            \n",
    "    return merged_results"
   ]
  },
  {
   "cell_type": "code",
   "execution_count": 67,
   "id": "a6f66835-1e1e-43ed-a3cb-ea480aa22e0b",
   "metadata": {},
   "outputs": [],
   "source": [
    "# Percentage column formatted to numeric\n",
    "def final_clean(table):\n",
    "    data2=merge_state_and_rate(country_clean)\n",
    "    processed_data = [item.split(', ') for item in data2]\n",
    "    df = pd.DataFrame(processed_data, columns=[\"state\", \"prevalence_percent\"])\n",
    "    df[\"prevalence_percent\"]=pd.to_numeric(df[\"prevalence_percent\"])\n",
    "    return df"
   ]
  },
  {
   "cell_type": "code",
   "execution_count": 68,
   "id": "d50fc2c0-365b-4e48-9d1a-6c45c3b99616",
   "metadata": {},
   "outputs": [],
   "source": [
    "final_country_perc=final_clean(country_clean)"
   ]
  },
  {
   "cell_type": "code",
   "execution_count": 73,
   "id": "9b03c8b0-94f6-4277-b4f3-38b6a962c210",
   "metadata": {},
   "outputs": [
    {
     "data": {
      "text/html": [
       "<div>\n",
       "<style scoped>\n",
       "    .dataframe tbody tr th:only-of-type {\n",
       "        vertical-align: middle;\n",
       "    }\n",
       "\n",
       "    .dataframe tbody tr th {\n",
       "        vertical-align: top;\n",
       "    }\n",
       "\n",
       "    .dataframe thead th {\n",
       "        text-align: right;\n",
       "    }\n",
       "</style>\n",
       "<table border=\"1\" class=\"dataframe\">\n",
       "  <thead>\n",
       "    <tr style=\"text-align: right;\">\n",
       "      <th></th>\n",
       "      <th>state</th>\n",
       "      <th>prevalence_percent</th>\n",
       "    </tr>\n",
       "  </thead>\n",
       "  <tbody>\n",
       "    <tr>\n",
       "      <th>0</th>\n",
       "      <td>Alabama</td>\n",
       "      <td>23.5</td>\n",
       "    </tr>\n",
       "    <tr>\n",
       "      <th>1</th>\n",
       "      <td>Alaska</td>\n",
       "      <td>15.9</td>\n",
       "    </tr>\n",
       "    <tr>\n",
       "      <th>2</th>\n",
       "      <td>Arizona</td>\n",
       "      <td>17.4</td>\n",
       "    </tr>\n",
       "    <tr>\n",
       "      <th>3</th>\n",
       "      <td>Arkansas</td>\n",
       "      <td>23.5</td>\n",
       "    </tr>\n",
       "    <tr>\n",
       "      <th>4</th>\n",
       "      <td>California</td>\n",
       "      <td>14.1</td>\n",
       "    </tr>\n",
       "    <tr>\n",
       "      <th>5</th>\n",
       "      <td>Colorado</td>\n",
       "      <td>18.5</td>\n",
       "    </tr>\n",
       "    <tr>\n",
       "      <th>6</th>\n",
       "      <td>Connecticut</td>\n",
       "      <td>17.7</td>\n",
       "    </tr>\n",
       "    <tr>\n",
       "      <th>7</th>\n",
       "      <td>Delaware</td>\n",
       "      <td>15.6</td>\n",
       "    </tr>\n",
       "    <tr>\n",
       "      <th>8</th>\n",
       "      <td>District of Columbia</td>\n",
       "      <td>19.8</td>\n",
       "    </tr>\n",
       "    <tr>\n",
       "      <th>9</th>\n",
       "      <td>Florida</td>\n",
       "      <td>14.7</td>\n",
       "    </tr>\n",
       "    <tr>\n",
       "      <th>10</th>\n",
       "      <td>Georgia</td>\n",
       "      <td>17.2</td>\n",
       "    </tr>\n",
       "    <tr>\n",
       "      <th>11</th>\n",
       "      <td>Hawaii</td>\n",
       "      <td>12.7</td>\n",
       "    </tr>\n",
       "    <tr>\n",
       "      <th>12</th>\n",
       "      <td>Idaho</td>\n",
       "      <td>18.9</td>\n",
       "    </tr>\n",
       "    <tr>\n",
       "      <th>13</th>\n",
       "      <td>Illinois</td>\n",
       "      <td>14.7</td>\n",
       "    </tr>\n",
       "    <tr>\n",
       "      <th>14</th>\n",
       "      <td>Indiana</td>\n",
       "      <td>21.9</td>\n",
       "    </tr>\n",
       "    <tr>\n",
       "      <th>15</th>\n",
       "      <td>Iowa</td>\n",
       "      <td>17.4</td>\n",
       "    </tr>\n",
       "    <tr>\n",
       "      <th>16</th>\n",
       "      <td>Kansas</td>\n",
       "      <td>19.2</td>\n",
       "    </tr>\n",
       "    <tr>\n",
       "      <th>17</th>\n",
       "      <td>Kentucky</td>\n",
       "      <td>24.2</td>\n",
       "    </tr>\n",
       "    <tr>\n",
       "      <th>18</th>\n",
       "      <td>Louisiana</td>\n",
       "      <td>23.5</td>\n",
       "    </tr>\n",
       "    <tr>\n",
       "      <th>19</th>\n",
       "      <td>Maine</td>\n",
       "      <td>22.1</td>\n",
       "    </tr>\n",
       "    <tr>\n",
       "      <th>20</th>\n",
       "      <td>Maryland</td>\n",
       "      <td>15.7</td>\n",
       "    </tr>\n",
       "    <tr>\n",
       "      <th>21</th>\n",
       "      <td>Massachusetts</td>\n",
       "      <td>17.9</td>\n",
       "    </tr>\n",
       "    <tr>\n",
       "      <th>22</th>\n",
       "      <td>Michigan</td>\n",
       "      <td>19.5</td>\n",
       "    </tr>\n",
       "    <tr>\n",
       "      <th>23</th>\n",
       "      <td>Minnesota</td>\n",
       "      <td>19.8</td>\n",
       "    </tr>\n",
       "    <tr>\n",
       "      <th>24</th>\n",
       "      <td>Mississippi</td>\n",
       "      <td>20.9</td>\n",
       "    </tr>\n",
       "    <tr>\n",
       "      <th>25</th>\n",
       "      <td>Missouri</td>\n",
       "      <td>22.8</td>\n",
       "    </tr>\n",
       "    <tr>\n",
       "      <th>26</th>\n",
       "      <td>Montana</td>\n",
       "      <td>22.6</td>\n",
       "    </tr>\n",
       "    <tr>\n",
       "      <th>27</th>\n",
       "      <td>Nebraska</td>\n",
       "      <td>16.8</td>\n",
       "    </tr>\n",
       "    <tr>\n",
       "      <th>28</th>\n",
       "      <td>Nevada</td>\n",
       "      <td>17.6</td>\n",
       "    </tr>\n",
       "    <tr>\n",
       "      <th>29</th>\n",
       "      <td>New Hampshire</td>\n",
       "      <td>21.5</td>\n",
       "    </tr>\n",
       "    <tr>\n",
       "      <th>30</th>\n",
       "      <td>New Jersey</td>\n",
       "      <td>15.2</td>\n",
       "    </tr>\n",
       "    <tr>\n",
       "      <th>31</th>\n",
       "      <td>New Mexico</td>\n",
       "      <td>17.6</td>\n",
       "    </tr>\n",
       "    <tr>\n",
       "      <th>32</th>\n",
       "      <td>New York</td>\n",
       "      <td>16.8</td>\n",
       "    </tr>\n",
       "    <tr>\n",
       "      <th>33</th>\n",
       "      <td>North Carolina</td>\n",
       "      <td>20.8</td>\n",
       "    </tr>\n",
       "    <tr>\n",
       "      <th>34</th>\n",
       "      <td>North Dakota</td>\n",
       "      <td>19.2</td>\n",
       "    </tr>\n",
       "    <tr>\n",
       "      <th>35</th>\n",
       "      <td>Ohio</td>\n",
       "      <td>22.0</td>\n",
       "    </tr>\n",
       "    <tr>\n",
       "      <th>36</th>\n",
       "      <td>Oklahoma</td>\n",
       "      <td>22.9</td>\n",
       "    </tr>\n",
       "    <tr>\n",
       "      <th>37</th>\n",
       "      <td>Oregon</td>\n",
       "      <td>21.2</td>\n",
       "    </tr>\n",
       "    <tr>\n",
       "      <th>38</th>\n",
       "      <td>Pennsylvania</td>\n",
       "      <td>20.2</td>\n",
       "    </tr>\n",
       "    <tr>\n",
       "      <th>39</th>\n",
       "      <td>Rhode Island</td>\n",
       "      <td>21.1</td>\n",
       "    </tr>\n",
       "    <tr>\n",
       "      <th>40</th>\n",
       "      <td>South Carolina</td>\n",
       "      <td>21.4</td>\n",
       "    </tr>\n",
       "    <tr>\n",
       "      <th>41</th>\n",
       "      <td>South Dakota</td>\n",
       "      <td>16.1</td>\n",
       "    </tr>\n",
       "    <tr>\n",
       "      <th>42</th>\n",
       "      <td>Tennessee</td>\n",
       "      <td>24.1</td>\n",
       "    </tr>\n",
       "    <tr>\n",
       "      <th>43</th>\n",
       "      <td>Texas</td>\n",
       "      <td>17.7</td>\n",
       "    </tr>\n",
       "    <tr>\n",
       "      <th>44</th>\n",
       "      <td>Utah</td>\n",
       "      <td>23.1</td>\n",
       "    </tr>\n",
       "    <tr>\n",
       "      <th>45</th>\n",
       "      <td>Vermont</td>\n",
       "      <td>23.3</td>\n",
       "    </tr>\n",
       "    <tr>\n",
       "      <th>46</th>\n",
       "      <td>Virginia</td>\n",
       "      <td>17.2</td>\n",
       "    </tr>\n",
       "    <tr>\n",
       "      <th>47</th>\n",
       "      <td>Washington</td>\n",
       "      <td>23.4</td>\n",
       "    </tr>\n",
       "    <tr>\n",
       "      <th>48</th>\n",
       "      <td>West Virginia</td>\n",
       "      <td>26.4</td>\n",
       "    </tr>\n",
       "    <tr>\n",
       "      <th>49</th>\n",
       "      <td>Wisconsin</td>\n",
       "      <td>19.8</td>\n",
       "    </tr>\n",
       "    <tr>\n",
       "      <th>50</th>\n",
       "      <td>Wyoming</td>\n",
       "      <td>18.3</td>\n",
       "    </tr>\n",
       "  </tbody>\n",
       "</table>\n",
       "</div>"
      ],
      "text/plain": [
       "                   state  prevalence_percent\n",
       "0                Alabama                23.5\n",
       "1                 Alaska                15.9\n",
       "2                Arizona                17.4\n",
       "3               Arkansas                23.5\n",
       "4             California                14.1\n",
       "5               Colorado                18.5\n",
       "6            Connecticut                17.7\n",
       "7               Delaware                15.6\n",
       "8   District of Columbia                19.8\n",
       "9                Florida                14.7\n",
       "10               Georgia                17.2\n",
       "11                Hawaii                12.7\n",
       "12                 Idaho                18.9\n",
       "13              Illinois                14.7\n",
       "14               Indiana                21.9\n",
       "15                  Iowa                17.4\n",
       "16                Kansas                19.2\n",
       "17              Kentucky                24.2\n",
       "18             Louisiana                23.5\n",
       "19                 Maine                22.1\n",
       "20              Maryland                15.7\n",
       "21         Massachusetts                17.9\n",
       "22              Michigan                19.5\n",
       "23             Minnesota                19.8\n",
       "24           Mississippi                20.9\n",
       "25              Missouri                22.8\n",
       "26               Montana                22.6\n",
       "27              Nebraska                16.8\n",
       "28                Nevada                17.6\n",
       "29         New Hampshire                21.5\n",
       "30            New Jersey                15.2\n",
       "31            New Mexico                17.6\n",
       "32              New York                16.8\n",
       "33        North Carolina                20.8\n",
       "34          North Dakota                19.2\n",
       "35                  Ohio                22.0\n",
       "36              Oklahoma                22.9\n",
       "37                Oregon                21.2\n",
       "38          Pennsylvania                20.2\n",
       "39          Rhode Island                21.1\n",
       "40        South Carolina                21.4\n",
       "41          South Dakota                16.1\n",
       "42             Tennessee                24.1\n",
       "43                 Texas                17.7\n",
       "44                  Utah                23.1\n",
       "45               Vermont                23.3\n",
       "46              Virginia                17.2\n",
       "47            Washington                23.4\n",
       "48         West Virginia                26.4\n",
       "49             Wisconsin                19.8\n",
       "50               Wyoming                18.3"
      ]
     },
     "execution_count": 73,
     "metadata": {},
     "output_type": "execute_result"
    }
   ],
   "source": [
    "final_country_perc"
   ]
  },
  {
   "cell_type": "code",
   "execution_count": 86,
   "id": "97ac3cf0-28f2-4736-8343-f4f483206022",
   "metadata": {},
   "outputs": [],
   "source": [
    "## Merge the table of depression percent per year with the main df table \n",
    "df_depressed=pd.merge(df,final_country_perc,on=\"state\")"
   ]
  },
  {
   "cell_type": "code",
   "execution_count": 87,
   "id": "95ea9d87-ee4c-46ae-aee4-a790d8c5aeb5",
   "metadata": {},
   "outputs": [
    {
     "data": {
      "text/html": [
       "<div>\n",
       "<style scoped>\n",
       "    .dataframe tbody tr th:only-of-type {\n",
       "        vertical-align: middle;\n",
       "    }\n",
       "\n",
       "    .dataframe tbody tr th {\n",
       "        vertical-align: top;\n",
       "    }\n",
       "\n",
       "    .dataframe thead th {\n",
       "        text-align: right;\n",
       "    }\n",
       "</style>\n",
       "<table border=\"1\" class=\"dataframe\">\n",
       "  <thead>\n",
       "    <tr style=\"text-align: right;\">\n",
       "      <th></th>\n",
       "      <th>incident_id</th>\n",
       "      <th>incident_date</th>\n",
       "      <th>incident_time</th>\n",
       "      <th>updated_date</th>\n",
       "      <th>state</th>\n",
       "      <th>city_or_county</th>\n",
       "      <th>address</th>\n",
       "      <th>business_location_name</th>\n",
       "      <th>latitude</th>\n",
       "      <th>longitude</th>\n",
       "      <th>...</th>\n",
       "      <th>victims_killed</th>\n",
       "      <th>victims_injured</th>\n",
       "      <th>suspects_killed</th>\n",
       "      <th>suspects_injured</th>\n",
       "      <th>suspects_arrested</th>\n",
       "      <th>incident_characteristics</th>\n",
       "      <th>sources</th>\n",
       "      <th>date_fixed</th>\n",
       "      <th>year</th>\n",
       "      <th>prevalence_percent</th>\n",
       "    </tr>\n",
       "  </thead>\n",
       "  <tbody>\n",
       "    <tr>\n",
       "      <th>0</th>\n",
       "      <td>809048</td>\n",
       "      <td>April 1, 2017</td>\n",
       "      <td>NaN</td>\n",
       "      <td>1491348530</td>\n",
       "      <td>Florida</td>\n",
       "      <td>Tampa</td>\n",
       "      <td>219 S Howard Ave</td>\n",
       "      <td>Palace Lounge</td>\n",
       "      <td>27.9431</td>\n",
       "      <td>-82.4831</td>\n",
       "      <td>...</td>\n",
       "      <td>1</td>\n",
       "      <td>4</td>\n",
       "      <td>0</td>\n",
       "      <td>0</td>\n",
       "      <td>1</td>\n",
       "      <td>Shot - Wounded/Injured, Shot - Dead (murder, a...</td>\n",
       "      <td>c(\"http://wfla.com/2017/04/01/tampa-police-inv...</td>\n",
       "      <td>2017-04-01</td>\n",
       "      <td>2017</td>\n",
       "      <td>14.7</td>\n",
       "    </tr>\n",
       "    <tr>\n",
       "      <th>1</th>\n",
       "      <td>809499</td>\n",
       "      <td>April 1, 2017</td>\n",
       "      <td>5:25 AM</td>\n",
       "      <td>1680156402</td>\n",
       "      <td>Oklahoma</td>\n",
       "      <td>Oklahoma City</td>\n",
       "      <td>1212 N Woodward Ave</td>\n",
       "      <td>NaN</td>\n",
       "      <td>35.4810</td>\n",
       "      <td>-97.5754</td>\n",
       "      <td>...</td>\n",
       "      <td>2</td>\n",
       "      <td>3</td>\n",
       "      <td>0</td>\n",
       "      <td>0</td>\n",
       "      <td>1</td>\n",
       "      <td>Shot - Wounded/Injured, Shot - Dead (murder, a...</td>\n",
       "      <td>c(\"http://www.news9.com/story/35055747/okc-pol...</td>\n",
       "      <td>2017-04-01</td>\n",
       "      <td>2017</td>\n",
       "      <td>22.9</td>\n",
       "    </tr>\n",
       "    <tr>\n",
       "      <th>2</th>\n",
       "      <td>809815</td>\n",
       "      <td>April 1, 2017</td>\n",
       "      <td>NaN</td>\n",
       "      <td>1492995601</td>\n",
       "      <td>California</td>\n",
       "      <td>Pittsburg</td>\n",
       "      <td>100 block of Madoline Street</td>\n",
       "      <td>NaN</td>\n",
       "      <td>38.0053</td>\n",
       "      <td>-121.8950</td>\n",
       "      <td>...</td>\n",
       "      <td>0</td>\n",
       "      <td>5</td>\n",
       "      <td>0</td>\n",
       "      <td>0</td>\n",
       "      <td>1</td>\n",
       "      <td>Shot - Wounded/Injured, Mass Shooting (4+ vict...</td>\n",
       "      <td>http://www.nbcbayarea.com/news/local/Shooting-...</td>\n",
       "      <td>2017-04-01</td>\n",
       "      <td>2017</td>\n",
       "      <td>14.1</td>\n",
       "    </tr>\n",
       "    <tr>\n",
       "      <th>3</th>\n",
       "      <td>1082835</td>\n",
       "      <td>April 1, 2018</td>\n",
       "      <td>2:15 AM</td>\n",
       "      <td>1522693801</td>\n",
       "      <td>Michigan</td>\n",
       "      <td>Saginaw</td>\n",
       "      <td>600 block of Yale St</td>\n",
       "      <td>NaN</td>\n",
       "      <td>43.4192</td>\n",
       "      <td>-83.9819</td>\n",
       "      <td>...</td>\n",
       "      <td>0</td>\n",
       "      <td>5</td>\n",
       "      <td>0</td>\n",
       "      <td>0</td>\n",
       "      <td>0</td>\n",
       "      <td>Shot - Wounded/Injured, Mass Shooting (4+ vict...</td>\n",
       "      <td>http://www.mlive.com/news/saginaw/index.ssf/20...</td>\n",
       "      <td>2018-04-01</td>\n",
       "      <td>2018</td>\n",
       "      <td>19.5</td>\n",
       "    </tr>\n",
       "    <tr>\n",
       "      <th>4</th>\n",
       "      <td>1083011</td>\n",
       "      <td>April 1, 2018</td>\n",
       "      <td>NaN</td>\n",
       "      <td>1646889853</td>\n",
       "      <td>Alabama</td>\n",
       "      <td>Mobile</td>\n",
       "      <td>3556 Halls Mill Rd</td>\n",
       "      <td>Grand Hall</td>\n",
       "      <td>30.6387</td>\n",
       "      <td>-88.1228</td>\n",
       "      <td>...</td>\n",
       "      <td>1</td>\n",
       "      <td>4</td>\n",
       "      <td>0</td>\n",
       "      <td>0</td>\n",
       "      <td>3</td>\n",
       "      <td>Shot - Wounded/Injured, Shot - Dead (murder, a...</td>\n",
       "      <td>c(\"http://www.al.com/news/mobile/index.ssf/201...</td>\n",
       "      <td>2018-04-01</td>\n",
       "      <td>2018</td>\n",
       "      <td>23.5</td>\n",
       "    </tr>\n",
       "    <tr>\n",
       "      <th>...</th>\n",
       "      <td>...</td>\n",
       "      <td>...</td>\n",
       "      <td>...</td>\n",
       "      <td>...</td>\n",
       "      <td>...</td>\n",
       "      <td>...</td>\n",
       "      <td>...</td>\n",
       "      <td>...</td>\n",
       "      <td>...</td>\n",
       "      <td>...</td>\n",
       "      <td>...</td>\n",
       "      <td>...</td>\n",
       "      <td>...</td>\n",
       "      <td>...</td>\n",
       "      <td>...</td>\n",
       "      <td>...</td>\n",
       "      <td>...</td>\n",
       "      <td>...</td>\n",
       "      <td>...</td>\n",
       "      <td>...</td>\n",
       "      <td>...</td>\n",
       "    </tr>\n",
       "    <tr>\n",
       "      <th>5463</th>\n",
       "      <td>2411007</td>\n",
       "      <td>September 9, 2022</td>\n",
       "      <td>4:50 PM</td>\n",
       "      <td>1722738993</td>\n",
       "      <td>New York</td>\n",
       "      <td>Bronx</td>\n",
       "      <td>810 Astor Ave</td>\n",
       "      <td>Pelham Parkway Houses</td>\n",
       "      <td>40.8592</td>\n",
       "      <td>-73.8634</td>\n",
       "      <td>...</td>\n",
       "      <td>0</td>\n",
       "      <td>4</td>\n",
       "      <td>0</td>\n",
       "      <td>0</td>\n",
       "      <td>1</td>\n",
       "      <td>Shot - Wounded/Injured, Mass Shooting (4+ vict...</td>\n",
       "      <td>c(\"https://twitter.com/NYC_Alerts911/status/15...</td>\n",
       "      <td>2022-09-09</td>\n",
       "      <td>2022</td>\n",
       "      <td>16.8</td>\n",
       "    </tr>\n",
       "    <tr>\n",
       "      <th>5464</th>\n",
       "      <td>2411901</td>\n",
       "      <td>September 9, 2022</td>\n",
       "      <td>11:50 PM</td>\n",
       "      <td>1689272621</td>\n",
       "      <td>Minnesota</td>\n",
       "      <td>Minneapolis</td>\n",
       "      <td>328 W Broadway Ave</td>\n",
       "      <td>4th Street Saloon</td>\n",
       "      <td>44.9994</td>\n",
       "      <td>-93.2848</td>\n",
       "      <td>...</td>\n",
       "      <td>1</td>\n",
       "      <td>3</td>\n",
       "      <td>0</td>\n",
       "      <td>0</td>\n",
       "      <td>0</td>\n",
       "      <td>Shot - Wounded/Injured, Shot - Dead (murder, a...</td>\n",
       "      <td>c(\"https://www.fox9.com/news/2-pregnant-women-...</td>\n",
       "      <td>2022-09-09</td>\n",
       "      <td>2022</td>\n",
       "      <td>19.8</td>\n",
       "    </tr>\n",
       "    <tr>\n",
       "      <th>5465</th>\n",
       "      <td>2410446</td>\n",
       "      <td>September 9, 2022</td>\n",
       "      <td>9:00 AM</td>\n",
       "      <td>1715920831</td>\n",
       "      <td>Maryland</td>\n",
       "      <td>Elk Mills</td>\n",
       "      <td>47 Hebron Ct</td>\n",
       "      <td>NaN</td>\n",
       "      <td>39.6611</td>\n",
       "      <td>-75.8365</td>\n",
       "      <td>...</td>\n",
       "      <td>4</td>\n",
       "      <td>0</td>\n",
       "      <td>1</td>\n",
       "      <td>0</td>\n",
       "      <td>0</td>\n",
       "      <td>Shot - Dead (murder, accidental, or suicide), ...</td>\n",
       "      <td>c(\"https://www.cbsnews.com/baltimore/news/five...</td>\n",
       "      <td>2022-09-09</td>\n",
       "      <td>2022</td>\n",
       "      <td>15.7</td>\n",
       "    </tr>\n",
       "    <tr>\n",
       "      <th>5466</th>\n",
       "      <td>2703975</td>\n",
       "      <td>September 9, 2023</td>\n",
       "      <td>11:30 PM</td>\n",
       "      <td>1694472936</td>\n",
       "      <td>South Carolina</td>\n",
       "      <td>Rock Hill</td>\n",
       "      <td>800 block of Brunswick Dr</td>\n",
       "      <td>NaN</td>\n",
       "      <td>34.8921</td>\n",
       "      <td>-81.0411</td>\n",
       "      <td>...</td>\n",
       "      <td>0</td>\n",
       "      <td>4</td>\n",
       "      <td>0</td>\n",
       "      <td>0</td>\n",
       "      <td>2</td>\n",
       "      <td>Shot - Wounded/Injured, Mass Shooting (4+ vict...</td>\n",
       "      <td>https://www.heraldonline.com/news/local/crime/...</td>\n",
       "      <td>2023-09-09</td>\n",
       "      <td>2023</td>\n",
       "      <td>21.4</td>\n",
       "    </tr>\n",
       "    <tr>\n",
       "      <th>5467</th>\n",
       "      <td>2702902</td>\n",
       "      <td>September 9, 2023</td>\n",
       "      <td>6:20 PM</td>\n",
       "      <td>1694313001</td>\n",
       "      <td>Illinois</td>\n",
       "      <td>Chicago</td>\n",
       "      <td>6500 block of S King Dr</td>\n",
       "      <td>NaN</td>\n",
       "      <td>41.7764</td>\n",
       "      <td>-87.6159</td>\n",
       "      <td>...</td>\n",
       "      <td>0</td>\n",
       "      <td>4</td>\n",
       "      <td>0</td>\n",
       "      <td>0</td>\n",
       "      <td>0</td>\n",
       "      <td>Shot - Wounded/Injured, Mass Shooting (4+ vict...</td>\n",
       "      <td>https://home.chicagopolice.org/media_incident/...</td>\n",
       "      <td>2023-09-09</td>\n",
       "      <td>2023</td>\n",
       "      <td>14.7</td>\n",
       "    </tr>\n",
       "  </tbody>\n",
       "</table>\n",
       "<p>5468 rows × 22 columns</p>\n",
       "</div>"
      ],
      "text/plain": [
       "      incident_id      incident_date incident_time  updated_date  \\\n",
       "0          809048      April 1, 2017           NaN    1491348530   \n",
       "1          809499      April 1, 2017       5:25 AM    1680156402   \n",
       "2          809815      April 1, 2017           NaN    1492995601   \n",
       "3         1082835      April 1, 2018       2:15 AM    1522693801   \n",
       "4         1083011      April 1, 2018           NaN    1646889853   \n",
       "...           ...                ...           ...           ...   \n",
       "5463      2411007  September 9, 2022       4:50 PM    1722738993   \n",
       "5464      2411901  September 9, 2022      11:50 PM    1689272621   \n",
       "5465      2410446  September 9, 2022       9:00 AM    1715920831   \n",
       "5466      2703975  September 9, 2023      11:30 PM    1694472936   \n",
       "5467      2702902  September 9, 2023       6:20 PM    1694313001   \n",
       "\n",
       "               state city_or_county                       address  \\\n",
       "0            Florida          Tampa              219 S Howard Ave   \n",
       "1           Oklahoma  Oklahoma City           1212 N Woodward Ave   \n",
       "2         California      Pittsburg  100 block of Madoline Street   \n",
       "3           Michigan        Saginaw          600 block of Yale St   \n",
       "4            Alabama         Mobile            3556 Halls Mill Rd   \n",
       "...              ...            ...                           ...   \n",
       "5463        New York          Bronx                 810 Astor Ave   \n",
       "5464       Minnesota    Minneapolis            328 W Broadway Ave   \n",
       "5465        Maryland      Elk Mills                  47 Hebron Ct   \n",
       "5466  South Carolina      Rock Hill     800 block of Brunswick Dr   \n",
       "5467        Illinois        Chicago       6500 block of S King Dr   \n",
       "\n",
       "     business_location_name  latitude  longitude  ...  victims_killed  \\\n",
       "0             Palace Lounge   27.9431   -82.4831  ...               1   \n",
       "1                       NaN   35.4810   -97.5754  ...               2   \n",
       "2                       NaN   38.0053  -121.8950  ...               0   \n",
       "3                       NaN   43.4192   -83.9819  ...               0   \n",
       "4                Grand Hall   30.6387   -88.1228  ...               1   \n",
       "...                     ...       ...        ...  ...             ...   \n",
       "5463  Pelham Parkway Houses   40.8592   -73.8634  ...               0   \n",
       "5464      4th Street Saloon   44.9994   -93.2848  ...               1   \n",
       "5465                    NaN   39.6611   -75.8365  ...               4   \n",
       "5466                    NaN   34.8921   -81.0411  ...               0   \n",
       "5467                    NaN   41.7764   -87.6159  ...               0   \n",
       "\n",
       "      victims_injured  suspects_killed  suspects_injured  suspects_arrested  \\\n",
       "0                   4                0                 0                  1   \n",
       "1                   3                0                 0                  1   \n",
       "2                   5                0                 0                  1   \n",
       "3                   5                0                 0                  0   \n",
       "4                   4                0                 0                  3   \n",
       "...               ...              ...               ...                ...   \n",
       "5463                4                0                 0                  1   \n",
       "5464                3                0                 0                  0   \n",
       "5465                0                1                 0                  0   \n",
       "5466                4                0                 0                  2   \n",
       "5467                4                0                 0                  0   \n",
       "\n",
       "                               incident_characteristics  \\\n",
       "0     Shot - Wounded/Injured, Shot - Dead (murder, a...   \n",
       "1     Shot - Wounded/Injured, Shot - Dead (murder, a...   \n",
       "2     Shot - Wounded/Injured, Mass Shooting (4+ vict...   \n",
       "3     Shot - Wounded/Injured, Mass Shooting (4+ vict...   \n",
       "4     Shot - Wounded/Injured, Shot - Dead (murder, a...   \n",
       "...                                                 ...   \n",
       "5463  Shot - Wounded/Injured, Mass Shooting (4+ vict...   \n",
       "5464  Shot - Wounded/Injured, Shot - Dead (murder, a...   \n",
       "5465  Shot - Dead (murder, accidental, or suicide), ...   \n",
       "5466  Shot - Wounded/Injured, Mass Shooting (4+ vict...   \n",
       "5467  Shot - Wounded/Injured, Mass Shooting (4+ vict...   \n",
       "\n",
       "                                                sources  date_fixed  year  \\\n",
       "0     c(\"http://wfla.com/2017/04/01/tampa-police-inv...  2017-04-01  2017   \n",
       "1     c(\"http://www.news9.com/story/35055747/okc-pol...  2017-04-01  2017   \n",
       "2     http://www.nbcbayarea.com/news/local/Shooting-...  2017-04-01  2017   \n",
       "3     http://www.mlive.com/news/saginaw/index.ssf/20...  2018-04-01  2018   \n",
       "4     c(\"http://www.al.com/news/mobile/index.ssf/201...  2018-04-01  2018   \n",
       "...                                                 ...         ...   ...   \n",
       "5463  c(\"https://twitter.com/NYC_Alerts911/status/15...  2022-09-09  2022   \n",
       "5464  c(\"https://www.fox9.com/news/2-pregnant-women-...  2022-09-09  2022   \n",
       "5465  c(\"https://www.cbsnews.com/baltimore/news/five...  2022-09-09  2022   \n",
       "5466  https://www.heraldonline.com/news/local/crime/...  2023-09-09  2023   \n",
       "5467  https://home.chicagopolice.org/media_incident/...  2023-09-09  2023   \n",
       "\n",
       "     prevalence_percent  \n",
       "0                  14.7  \n",
       "1                  22.9  \n",
       "2                  14.1  \n",
       "3                  19.5  \n",
       "4                  23.5  \n",
       "...                 ...  \n",
       "5463               16.8  \n",
       "5464               19.8  \n",
       "5465               15.7  \n",
       "5466               21.4  \n",
       "5467               14.7  \n",
       "\n",
       "[5468 rows x 22 columns]"
      ]
     },
     "execution_count": 87,
     "metadata": {},
     "output_type": "execute_result"
    }
   ],
   "source": [
    "df_depressed"
   ]
  },
  {
   "cell_type": "code",
   "execution_count": null,
   "id": "516cf309-2199-4c7f-8c90-d724096a6396",
   "metadata": {},
   "outputs": [],
   "source": []
  }
 ],
 "metadata": {
  "kernelspec": {
   "display_name": "Python 3 (ipykernel)",
   "language": "python",
   "name": "python3"
  },
  "language_info": {
   "codemirror_mode": {
    "name": "ipython",
    "version": 3
   },
   "file_extension": ".py",
   "mimetype": "text/x-python",
   "name": "python",
   "nbconvert_exporter": "python",
   "pygments_lexer": "ipython3",
   "version": "3.12.7"
  }
 },
 "nbformat": 4,
 "nbformat_minor": 5
}
